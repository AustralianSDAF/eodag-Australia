{
 "cells": [
  {
   "cell_type": "markdown",
   "metadata": {},
   "source": [
    "# Eodag basics\n",
    "____________\n",
    "\n",
    "We present `eodag`'s basic features for **searching and downloading EO products**.\n",
    "\n",
    "To be able to follow this tutorial, you will need to install the additional Python package [ipyleaflet](https://ipyleaflet.readthedocs.io/en/latest/installation.html).\n",
    "\n",
    "## Configuration\n",
    "\n",
    "Let's start by setting your personal credentials to access [PEPS service](https://peps.cnes.fr) by filling your username and password below:"
   ]
  },
  {
   "cell_type": "code",
   "execution_count": 1,
   "metadata": {},
   "outputs": [],
   "source": [
    "import os\n",
    "os.environ[\"EODAG__PEPS__AUTH__CREDENTIALS__USERNAME\"] = \"PLEASE_CHANGE_ME\"\n",
    "os.environ[\"EODAG__PEPS__AUTH__CREDENTIALS__PASSWORD\"] = \"PLEASE_CHANGE_ME\""
   ]
  },
  {
   "cell_type": "markdown",
   "metadata": {},
   "source": [
    "Let's check that `ipyleaflet` is available:"
   ]
  },
  {
   "cell_type": "code",
   "execution_count": 2,
   "metadata": {},
   "outputs": [],
   "source": [
    "import ipyleaflet as ipyl"
   ]
  },
  {
   "cell_type": "markdown",
   "metadata": {},
   "source": [
    "Then we create a workspace directory `eodag_workspace_basics` where all our files and configuration will live:"
   ]
  },
  {
   "cell_type": "code",
   "execution_count": 3,
   "metadata": {},
   "outputs": [],
   "source": [
    "workspace = 'eodag_workspace_basics'\n",
    "if not os.path.isdir(workspace):\n",
    "    os.mkdir(workspace)"
   ]
  },
  {
   "cell_type": "markdown",
   "metadata": {},
   "source": [
    "Next, we create a configuration YAML file based on the following minimal content and save it in the workspace folder as `eodag_conf.yml`. Note that if we don't create such a configuration file `eodag` will load a default configuration from `~/.config/eodag/eodag.yml`.\n",
    "\n",
    "```yaml\n",
    "peps:\n",
    "    download:\n",
    "        outputs_prefix: \"absolute_path_to_eodag_workspace\"\n",
    "        extract: true\n",
    "```\n",
    "\n",
    "This configuration file will indicate `eodag` to search for products made available by the PEPS service only, to download them in our workspace folder and to extract the downloaded products.\n",
    "\n",
    "The credentials could also have been defined in the configuration file. Since we have set them with environment variables earlier, we are good to go."
   ]
  },
  {
   "cell_type": "code",
   "execution_count": 4,
   "metadata": {},
   "outputs": [],
   "source": [
    "yaml_content = \"\"\"\n",
    "peps:\n",
    "    download:\n",
    "        outputs_prefix: \"{}\"\n",
    "        extract: true\n",
    "\"\"\".format(os.path.abspath(workspace))\n",
    "with open(os.path.join(workspace, 'eodag_conf.yml'), \"w\") as f_yml:\n",
    "    f_yml.write(yaml_content.strip())"
   ]
  },
  {
   "cell_type": "markdown",
   "metadata": {},
   "source": [
    "## Search\n",
    "\n",
    "The first step before performing a **search** is to initialize the session by creating an `EODataAccessGateway` instance with the previous configuration file."
   ]
  },
  {
   "cell_type": "code",
   "execution_count": 5,
   "metadata": {},
   "outputs": [
    {
     "name": "stderr",
     "output_type": "stream",
     "text": [
      "2021-01-11 20:51:38,107-15s eodag.config                     [INFO    ] Loading user configuration from: /home/maxime/TRAVAIL/06_EODAG/eodag/examples/eodag_workspace_basics/eodag_conf.yml\n",
      "2021-01-11 20:51:38,316-15s eodag.core                       [INFO    ] Locations configuration loaded from /home/maxime/.config/eodag/locations.yml\n"
     ]
    }
   ],
   "source": [
    "# To have some basic feedback on what eodag is doing, we configure logging to output minimum information\n",
    "from eodag.utils.logging import setup_logging\n",
    "setup_logging(verbose=1)\n",
    "\n",
    "from eodag.api.core import EODataAccessGateway\n",
    "\n",
    "dag = EODataAccessGateway(os.path.join(workspace, 'eodag_conf.yml'))"
   ]
  },
  {
   "cell_type": "markdown",
   "metadata": {},
   "source": [
    "Now let's search for Sentinel 2 L1C products over a period of 6 months in 2018 in the South of France, the search area being defined by its bounding box."
   ]
  },
  {
   "cell_type": "code",
   "execution_count": 6,
   "metadata": {
    "scrolled": true
   },
   "outputs": [
    {
     "name": "stderr",
     "output_type": "stream",
     "text": [
      "2021-01-11 20:51:38,523-15s eodag.core                       [INFO    ] Searching product type 'S2_MSI_L1C' on provider: peps\n",
      "2021-01-11 20:51:38,524-15s eodag.plugins.search.qssearch    [INFO    ] Sending count request: https://peps.cnes.fr/resto/api/collections/S2ST/search.json?startDate=2018-06-01&completionDate=2018-12-01&geometry=POLYGON ((0.0000 43.0000, 0.0000 45.0000, 2.0000 45.0000, 2.0000 43.0000, 0.0000 43.0000))&productType=S2MSI1C&maxRecords=1&page=1\n",
      "2021-01-11 20:51:38,947-15s eodag.plugins.search.qssearch    [INFO    ] Sending search request: https://peps.cnes.fr/resto/api/collections/S2ST/search.json?startDate=2018-06-01&completionDate=2018-12-01&geometry=POLYGON ((0.0000 43.0000, 0.0000 45.0000, 2.0000 45.0000, 2.0000 43.0000, 0.0000 43.0000))&productType=S2MSI1C&maxRecords=20&page=1\n",
      "2021-01-11 20:51:39,818-15s eodag.core                       [INFO    ] Found 767 result(s) on provider 'peps'\n"
     ]
    }
   ],
   "source": [
    "from datetime import date\n",
    "\n",
    "product_type = 'S2_MSI_L1C'\n",
    "extent = {\n",
    "    'lonmin': 0,\n",
    "    'lonmax': 2,\n",
    "    'latmin': 43,\n",
    "    'latmax': 45\n",
    "}\n",
    "\n",
    "products, estimated_total_nbr_of_results = dag.search(\n",
    "    productType=product_type,\n",
    "    start='2018-06-01',\n",
    "    end='2018-12-01',\n",
    "    geom=extent\n",
    ")"
   ]
  },
  {
   "cell_type": "code",
   "execution_count": 7,
   "metadata": {},
   "outputs": [
    {
     "data": {
      "text/plain": [
       "767"
      ]
     },
     "execution_count": 7,
     "metadata": {},
     "output_type": "execute_result"
    }
   ],
   "source": [
    "estimated_total_nbr_of_results"
   ]
  },
  {
   "cell_type": "code",
   "execution_count": 8,
   "metadata": {},
   "outputs": [
    {
     "data": {
      "text/plain": [
       "20"
      ]
     },
     "execution_count": 8,
     "metadata": {},
     "output_type": "execute_result"
    }
   ],
   "source": [
    "len(products)"
   ]
  },
  {
   "cell_type": "code",
   "execution_count": 9,
   "metadata": {},
   "outputs": [
    {
     "data": {
      "text/plain": [
       "[EOProduct(id=S2A_MSIL1C_20181130T110411_N0207_R094_T30TYR_20181130T113958, provider=peps), EOProduct(id=S2A_MSIL1C_20181130T110411_N0207_R094_T31TCJ_20181130T113958, provider=peps), EOProduct(id=S2A_MSIL1C_20181130T110411_N0207_R094_T30TYQ_20181130T113958, provider=peps)]"
      ]
     },
     "execution_count": 9,
     "metadata": {},
     "output_type": "execute_result"
    }
   ],
   "source": [
    "products[:3]"
   ]
  },
  {
   "cell_type": "markdown",
   "metadata": {},
   "source": [
    "`eodag` sent requests to the PEPS service and got as a result an estimated number of 767 (you might get a different value) products available matching the search criteria. The search also returned 20 products stored in the `products` variable that is a `SearchResult` instance, a list-like object. Each one of the products is an `EOProduct` instance that contains all the information required to download the product later.\n",
    "\n",
    "You can see that the number of retrieved products is lower than the estimated number of products available. This is the same behaviour as when you make a search on Google where you get 10 results per page. `eodag` works the same way, it is set by default to return the results from *page 1*, a single page being defined by a collection of *20 products*. This behaviour can be adapted with the parameters `page` and `items_per_page` of the `search` method."
   ]
  },
  {
   "cell_type": "markdown",
   "metadata": {},
   "source": [
    "Now that we have found some products, we can easily store them in a GeoJSON file that we may use later to download them:"
   ]
  },
  {
   "cell_type": "code",
   "execution_count": 10,
   "metadata": {
    "scrolled": true
   },
   "outputs": [],
   "source": [
    "search_result_file = dag.serialize(products, filename=os.path.join(workspace, 'search_results.geojson'))"
   ]
  },
  {
   "cell_type": "markdown",
   "metadata": {},
   "source": [
    "The products can also be converted into a Python dictionnary structured as GeoJSON file. Doing so allows us to pass this dictionnary to an interactive plotting library such as `ipyleaflet` to check the extents of the products before downloading them:"
   ]
  },
  {
   "cell_type": "code",
   "execution_count": 11,
   "metadata": {},
   "outputs": [
    {
     "data": {
      "application/vnd.jupyter.widget-view+json": {
       "model_id": "e8fc47cdd6534f8fba98b17185274335",
       "version_major": 2,
       "version_minor": 0
      },
      "text/plain": [
       "Map(center=[43.6, 1.5], controls=(ZoomControl(options=['position', 'zoom_in_text', 'zoom_in_title', 'zoom_out_…"
      ]
     },
     "metadata": {},
     "output_type": "display_data"
    }
   ],
   "source": [
    "m = ipyl.Map(center=[43.6, 1.5], zoom=5)\n",
    "layer = ipyl.GeoJSON(data=products.as_geojson_object(), hover_style={'fillColor': 'yellow'})\n",
    "\n",
    "m.add_layer(layer)\n",
    "m"
   ]
  },
  {
   "cell_type": "markdown",
   "metadata": {},
   "source": [
    "## Download\n",
    "\n",
    "Finally we could easily **download** all the returned products with `dag.download_all(products)`. Since products are heavy (a single product may already be over 700 Mo) we show how to download a single product with `dag.download(product)`. We also demonstrate the use of the `NotebookProgressCallback` to add a nice download progress bar:"
   ]
  },
  {
   "cell_type": "code",
   "execution_count": 12,
   "metadata": {},
   "outputs": [
    {
     "name": "stderr",
     "output_type": "stream",
     "text": [
      "2021-01-11 20:51:39,950-15s eodag.plugins.download.base      [INFO    ] Download url: https://peps.cnes.fr/resto/collections/S2ST/849bf704-d60b-5263-af6d-493784eb5cff/download\n"
     ]
    },
    {
     "data": {
      "application/vnd.jupyter.widget-view+json": {
       "model_id": "121fc6b9b4184a85bb508a3269e51aaa",
       "version_major": 2,
       "version_minor": 0
      },
      "text/plain": [
       "HBox(children=(HTML(value=''), FloatProgress(value=0.0, max=24728739.0), HTML(value='')))"
      ]
     },
     "metadata": {},
     "output_type": "display_data"
    },
    {
     "name": "stderr",
     "output_type": "stream",
     "text": [
      "2021-01-11 20:51:42,173-15s eodag.plugins.download.base      [INFO    ] Extraction activated\n",
      "\n",
      "Extracting files from S2A_MSIL1C_20181130T110411_N0207_R094_T31TCJ_20181130T113958.zip: 100%|██████████| 115/115 [00:00<00:00, 1282.60file/s]\n",
      "2021-01-11 20:51:42,273-15s eodag.api.product                [INFO    ] Remote location of the product is still available through its 'remote_location' property: https://peps.cnes.fr/resto/collections/S2ST/849bf704-d60b-5263-af6d-493784eb5cff/download\n"
     ]
    },
    {
     "data": {
      "text/plain": [
       "'file:///home/maxime/TRAVAIL/06_EODAG/eodag/examples/eodag_workspace_basics/S2A_MSIL1C_20181130T110411_N0207_R094_T31TCJ_20181130T113958/S2A_MSIL1C_20181130T110411_N0207_R094_T31TCJ_20181130T113958.SAFE'"
      ]
     },
     "execution_count": 12,
     "metadata": {},
     "output_type": "execute_result"
    }
   ],
   "source": [
    "from eodag.utils import NotebookProgressCallback\n",
    "\n",
    "# Download the second product found.\n",
    "path = dag.download(products[1], progress_callback=NotebookProgressCallback())\n",
    "path"
   ]
  },
  {
   "cell_type": "markdown",
   "metadata": {},
   "source": [
    "When the download has completed you should find the product in your workspace folder. Note that above we set up the download with the Python object (`SearchResult`) returned by the search. It is also possible to recreate this search ouput thanks to the GeoJSON file we have saved previously with `dag.deserialize(path_to_geojson)`.\n",
    "\n",
    "This concludes the tutorial for the basic usage of `eodag`."
   ]
  }
 ],
 "metadata": {
  "kernelspec": {
   "display_name": "Python 3",
   "language": "python",
   "name": "python3"
  },
  "language_info": {
   "codemirror_mode": {
    "name": "ipython",
    "version": 3
   },
   "file_extension": ".py",
   "mimetype": "text/x-python",
   "name": "python",
   "nbconvert_exporter": "python",
   "pygments_lexer": "ipython3",
   "version": "3.8.6"
  }
 },
 "nbformat": 4,
 "nbformat_minor": 2
}
