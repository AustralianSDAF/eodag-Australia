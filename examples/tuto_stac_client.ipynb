{
 "cells": [
  {
   "cell_type": "markdown",
   "id": "weird-cleveland",
   "metadata": {},
   "source": [
    "# EODAG as STAC client"
   ]
  },
  {
   "cell_type": "markdown",
   "id": "reverse-sailing",
   "metadata": {},
   "source": [
    "## STAC API\n",
    "EODAG can perform an item search over a STAC compliant API. Found STAC items are returned as `EOProduct` objects with STAC metadata mapped to OGC OpenSearch Extension for Earth Observation.\n",
    "\n",
    "EODAG comes with already configured providers, but you can also add new ones dynamically."
   ]
  },
  {
   "cell_type": "code",
   "execution_count": 1,
   "id": "pending-circumstances",
   "metadata": {},
   "outputs": [
    {
     "name": "stderr",
     "output_type": "stream",
     "text": [
      "2021-03-05 14:27:51,861-15s eodag.config                     [INFO    ] Loading user configuration from: /home/sylvain/.config/eodag/eodag.yml\n",
      "2021-03-05 14:27:52,069-15s eodag.core                       [INFO    ] Locations configuration loaded from /home/sylvain/.config/eodag/locations.yml\n"
     ]
    }
   ],
   "source": [
    "import os\n",
    "# To have some basic feedback on what eodag is doing, we configure logging to output minimum information\n",
    "from eodag.utils.logging import setup_logging\n",
    "setup_logging(verbose=1)\n",
    "\n",
    "from eodag.api.core import EODataAccessGateway\n",
    "\n",
    "dag = EODataAccessGateway()"
   ]
  },
  {
   "cell_type": "markdown",
   "id": "signal-finland",
   "metadata": {},
   "source": [
    "List already configured providers providing a STAC API compliant service:"
   ]
  },
  {
   "cell_type": "code",
   "execution_count": 2,
   "id": "naughty-speaker",
   "metadata": {},
   "outputs": [
    {
     "data": {
      "text/plain": [
       "['astraea_eod', 'usgs_satapi_aws']"
      ]
     },
     "execution_count": 2,
     "metadata": {},
     "output_type": "execute_result"
    }
   ],
   "source": [
    "[p.name for p in dag.providers_config.values() if hasattr(p, \"search\") and p.search.type == 'StacSearch']"
   ]
  },
  {
   "cell_type": "markdown",
   "id": "suspended-wrapping",
   "metadata": {},
   "source": [
    "Then, let's update EODAG's configuration with a new STAC provider"
   ]
  },
  {
   "cell_type": "code",
   "execution_count": 3,
   "id": "romance-midnight",
   "metadata": {},
   "outputs": [
    {
     "name": "stderr",
     "output_type": "stream",
     "text": [
      "2021-03-05 14:27:52,083-15s eodag.config                     [INFO    ] tamn: unknown provider found in user conf, trying to use provided configuration\n"
     ]
    }
   ],
   "source": [
    "dag.update_providers_config(\"\"\"\n",
    "    tamn:\n",
    "        search:\n",
    "            type: StacSearch\n",
    "            api_endpoint: https://tamn.snapplanet.io/search\n",
    "        products:\n",
    "            S2_MSI_L1C:\n",
    "                productType: S2\n",
    "            GENERIC_PRODUCT_TYPE:\n",
    "                productType: '{productType}'\n",
    "        download:\n",
    "            type: AwsDownload\n",
    "            base_uri: https://tamn.snapplanet.io\n",
    "            flatten_top_dirs: True\n",
    "        auth:\n",
    "            type: AwsAuth\n",
    "            credentials:\n",
    "                aws_access_key_id: PLEASE_CHANGE_ME\n",
    "                aws_secret_access_key: PLEASE_CHANGE_ME\n",
    "\"\"\")\n",
    "dag.set_preferred_provider(\"tamn\")"
   ]
  },
  {
   "cell_type": "markdown",
   "id": "accredited-heath",
   "metadata": {},
   "source": [
    "Search some S2_MSI_L1C products over Luxembourg:"
   ]
  },
  {
   "cell_type": "code",
   "execution_count": 4,
   "id": "annual-scale",
   "metadata": {},
   "outputs": [
    {
     "name": "stderr",
     "output_type": "stream",
     "text": [
      "2021-03-05 14:27:52,263-15s eodag.core                       [INFO    ] Searching product type 'S2_MSI_L1C' on provider: tamn\n",
      "2021-03-05 14:27:52,264-15s eodag.plugins.search.qssearch    [INFO    ] Sending count request: https://tamn.snapplanet.io/search?datetime=2020-05-01T00:00:00.000Z/2020-05-15T00:00:00.000Z&bbox=5.674051954784829,49.44266714130711,6.242751092156993,50.128051662794235&collections=S2&limit=1&page=1\n",
      "2021-03-05 14:27:52,473-15s eodag.plugins.search.qssearch    [INFO    ] Sending search request: https://tamn.snapplanet.io/search?datetime=2020-05-01T00:00:00.000Z/2020-05-15T00:00:00.000Z&bbox=5.674051954784829,49.44266714130711,6.242751092156993,50.128051662794235&collections=S2&limit=50&page=1\n",
      "2021-03-05 14:27:53,003-15s eodag.core                       [INFO    ] Found 35 result(s) on provider 'tamn'\n"
     ]
    }
   ],
   "source": [
    "prods_S2L1C, _ = dag.search(productType=\"S2_MSI_L1C\", country=\"LUX\", start=\"2020-05-01\", end=\"2020-05-15\", items_per_page=50)"
   ]
  },
  {
   "cell_type": "markdown",
   "id": "surgical-condition",
   "metadata": {},
   "source": [
    "Filter over any item property using crunches:"
   ]
  },
  {
   "cell_type": "code",
   "execution_count": 5,
   "id": "widespread-january",
   "metadata": {},
   "outputs": [
    {
     "name": "stderr",
     "output_type": "stream",
     "text": [
      "2021-03-05 14:27:53,006-15s eodag.plugins.crunch.filter_property [INFO    ] Finished filtering products. 11 resulting products\n"
     ]
    },
    {
     "data": {
      "text/plain": [
       "11"
      ]
     },
     "execution_count": 5,
     "metadata": {},
     "output_type": "execute_result"
    }
   ],
   "source": [
    "from eodag.plugins.crunch.filter_property import FilterProperty\n",
    "\n",
    "prods_S2L1C_filtered = prods_S2L1C.crunch(FilterProperty({\"cloudCover\": 10, \"operator\": \"lt\"}))\n",
    "len(prods_S2L1C_filtered)"
   ]
  },
  {
   "cell_type": "markdown",
   "id": "sound-collective",
   "metadata": {},
   "source": [
    "List available assets from the first retrieved product"
   ]
  },
  {
   "cell_type": "code",
   "execution_count": 6,
   "id": "chief-destination",
   "metadata": {
    "scrolled": true
   },
   "outputs": [
    {
     "data": {
      "text/plain": [
       "[('thumbnail',\n",
       "  'https://roda.sentinel-hub.com/sentinel-s2-l1c/tiles/31/U/GQ/2020/5/14/0/preview.jpg'),\n",
       " ('metadata',\n",
       "  'https://roda.sentinel-hub.com/sentinel-s2-l1c/tiles/31/U/GQ/2020/5/14/0/metadata.xml'),\n",
       " ('tileInfo',\n",
       "  'https://roda.sentinel-hub.com/sentinel-s2-l1c/tiles/31/U/GQ/2020/5/14/0/tileInfo.json'),\n",
       " ('productInfo',\n",
       "  'https://roda.sentinel-hub.com/sentinel-s2-l1c/tiles/31/U/GQ/2020/5/14/0/productInfo.json'),\n",
       " ('B1', 's3://sentinel-s2-l1c/tiles/31/U/GQ/2020/5/14/0/B1.jp2'),\n",
       " ('B2', 's3://sentinel-s2-l1c/tiles/31/U/GQ/2020/5/14/0/B2.jp2'),\n",
       " ('B3', 's3://sentinel-s2-l1c/tiles/31/U/GQ/2020/5/14/0/B3.jp2'),\n",
       " ('B4', 's3://sentinel-s2-l1c/tiles/31/U/GQ/2020/5/14/0/B4.jp2'),\n",
       " ('B5', 's3://sentinel-s2-l1c/tiles/31/U/GQ/2020/5/14/0/B5.jp2'),\n",
       " ('B6', 's3://sentinel-s2-l1c/tiles/31/U/GQ/2020/5/14/0/B6.jp2'),\n",
       " ('B7', 's3://sentinel-s2-l1c/tiles/31/U/GQ/2020/5/14/0/B7.jp2'),\n",
       " ('B8', 's3://sentinel-s2-l1c/tiles/31/U/GQ/2020/5/14/0/B8.jp2'),\n",
       " ('B8A', 's3://sentinel-s2-l1c/tiles/31/U/GQ/2020/5/14/0/B8A.jp2'),\n",
       " ('B9', 's3://sentinel-s2-l1c/tiles/31/U/GQ/2020/5/14/0/B9.jp2'),\n",
       " ('B10', 's3://sentinel-s2-l1c/tiles/31/U/GQ/2020/5/14/0/B10.jp2'),\n",
       " ('B11', 's3://sentinel-s2-l1c/tiles/31/U/GQ/2020/5/14/0/B11.jp2'),\n",
       " ('B12', 's3://sentinel-s2-l1c/tiles/31/U/GQ/2020/5/14/0/B12.jp2')]"
      ]
     },
     "execution_count": 6,
     "metadata": {},
     "output_type": "execute_result"
    }
   ],
   "source": [
    "[(key, asset[\"href\"]) for key, asset in prods_S2L1C[0].assets.items()]"
   ]
  },
  {
   "cell_type": "markdown",
   "id": "american-rolling",
   "metadata": {},
   "source": [
    "Same thing with an unconfigured product type (should match available collections). \n",
    "\n",
    "For Tamn Landsat-8 products are available in L8 Collection. Let's search them over Spain:"
   ]
  },
  {
   "cell_type": "code",
   "execution_count": 7,
   "id": "alpha-denver",
   "metadata": {
    "scrolled": true
   },
   "outputs": [
    {
     "name": "stderr",
     "output_type": "stream",
     "text": [
      "2021-03-05 14:27:53,039-15s eodag.plugins.manager            [INFO    ] UnsupportedProductType: L8, using generic settings\n",
      "2021-03-05 14:27:53,039-15s eodag.core                       [INFO    ] Searching product type 'L8' on provider: tamn\n",
      "2021-03-05 14:27:53,040-15s eodag.plugins.search.qssearch    [INFO    ] Sending count request: https://tamn.snapplanet.io/search?datetime=2020-05-01T00:00:00.000Z/2020-05-15T00:00:00.000Z&bbox=-9.392883673530648,35.946850083961465,3.0394840836805486,43.74833771420099&collections=L8&limit=1&page=1\n",
      "2021-03-05 14:27:53,292-15s eodag.plugins.search.qssearch    [INFO    ] Sending search request: https://tamn.snapplanet.io/search?datetime=2020-05-01T00:00:00.000Z/2020-05-15T00:00:00.000Z&bbox=-9.392883673530648,35.946850083961465,3.0394840836805486,43.74833771420099&collections=L8&limit=20&page=1\n",
      "2021-03-05 14:27:53,773-15s eodag.core                       [INFO    ] Found 98 result(s) on provider 'tamn'\n"
     ]
    }
   ],
   "source": [
    "prods_L8, _ = dag.search(productType=\"L8\", country=\"ESP\", start=\"2020-05-01\", end=\"2020-05-15\")"
   ]
  },
  {
   "cell_type": "code",
   "execution_count": 8,
   "id": "racial-statement",
   "metadata": {},
   "outputs": [
    {
     "data": {
      "text/plain": [
       "[('thumbnail',\n",
       "  'https://landsat-pds.s3.amazonaws.com/c1/L8/196/035/LC08_L1TP_196035_20200514_20200527_01_T1/LC08_L1TP_196035_20200514_20200527_01_T1_thumb_large.jpg'),\n",
       " ('metadata',\n",
       "  'https://landsat-pds.s3.amazonaws.com/c1/L8/196/035/LC08_L1TP_196035_20200514_20200527_01_T1/LC08_L1TP_196035_20200514_20200527_01_T1_MTL.txt'),\n",
       " ('B1',\n",
       "  'https://landsat-pds.s3.amazonaws.com/c1/L8/196/035/LC08_L1TP_196035_20200514_20200527_01_T1/LC08_L1TP_196035_20200514_20200527_01_T1_B1.TIF'),\n",
       " ('B2',\n",
       "  'https://landsat-pds.s3.amazonaws.com/c1/L8/196/035/LC08_L1TP_196035_20200514_20200527_01_T1/LC08_L1TP_196035_20200514_20200527_01_T1_B2.TIF'),\n",
       " ('B3',\n",
       "  'https://landsat-pds.s3.amazonaws.com/c1/L8/196/035/LC08_L1TP_196035_20200514_20200527_01_T1/LC08_L1TP_196035_20200514_20200527_01_T1_B3.TIF'),\n",
       " ('B4',\n",
       "  'https://landsat-pds.s3.amazonaws.com/c1/L8/196/035/LC08_L1TP_196035_20200514_20200527_01_T1/LC08_L1TP_196035_20200514_20200527_01_T1_B4.TIF'),\n",
       " ('B5',\n",
       "  'https://landsat-pds.s3.amazonaws.com/c1/L8/196/035/LC08_L1TP_196035_20200514_20200527_01_T1/LC08_L1TP_196035_20200514_20200527_01_T1_B5.TIF'),\n",
       " ('B6',\n",
       "  'https://landsat-pds.s3.amazonaws.com/c1/L8/196/035/LC08_L1TP_196035_20200514_20200527_01_T1/LC08_L1TP_196035_20200514_20200527_01_T1_B6.TIF'),\n",
       " ('B7',\n",
       "  'https://landsat-pds.s3.amazonaws.com/c1/L8/196/035/LC08_L1TP_196035_20200514_20200527_01_T1/LC08_L1TP_196035_20200514_20200527_01_T1_B7.TIF'),\n",
       " ('B8',\n",
       "  'https://landsat-pds.s3.amazonaws.com/c1/L8/196/035/LC08_L1TP_196035_20200514_20200527_01_T1/LC08_L1TP_196035_20200514_20200527_01_T1_B8.TIF'),\n",
       " ('B9',\n",
       "  'https://landsat-pds.s3.amazonaws.com/c1/L8/196/035/LC08_L1TP_196035_20200514_20200527_01_T1/LC08_L1TP_196035_20200514_20200527_01_T1_B9.TIF'),\n",
       " ('B10',\n",
       "  'https://landsat-pds.s3.amazonaws.com/c1/L8/196/035/LC08_L1TP_196035_20200514_20200527_01_T1/LC08_L1TP_196035_20200514_20200527_01_T1_B10.TIF'),\n",
       " ('B11',\n",
       "  'https://landsat-pds.s3.amazonaws.com/c1/L8/196/035/LC08_L1TP_196035_20200514_20200527_01_T1/LC08_L1TP_196035_20200514_20200527_01_T1_B11.TIF')]"
      ]
     },
     "execution_count": 8,
     "metadata": {},
     "output_type": "execute_result"
    }
   ],
   "source": [
    "[(key, asset[\"href\"]) for key, asset in prods_L8[0].assets.items()]"
   ]
  },
  {
   "cell_type": "markdown",
   "id": "offshore-stereo",
   "metadata": {},
   "source": [
    "## STAC Static catalog"
   ]
  },
  {
   "cell_type": "markdown",
   "id": "seasonal-internet",
   "metadata": {},
   "source": [
    "EODAG can load items from a STAC static catalog. This can be useful for filtering and downloading them.\n",
    "\n",
    "Here is an example with a catalog from https://stacindex.org/catalogs/spot-orthoimages-canada-2005.\n",
    "\n",
    "When using `load_stac_items()` we must provide an already configured STAC provider, as its configuration will be used to map item metadata to `EOProduct`. The provider's download configuration will also be used for downloading the static catalog item assets.\n",
    "\n",
    "*Please note that STAC static catalog search will be implemented as a new search plugin in a future EODAG release to permit using `eodag.search()` with easier configuration*"
   ]
  },
  {
   "cell_type": "markdown",
   "id": "center-kansas",
   "metadata": {},
   "source": [
    "Let's add a new provider adapted to new provider for this specific catalog, using `StacSearch` and `HTTPDownload` (no authentication needed for download):"
   ]
  },
  {
   "cell_type": "code",
   "execution_count": 9,
   "id": "greek-seminar",
   "metadata": {},
   "outputs": [
    {
     "name": "stderr",
     "output_type": "stream",
     "text": [
      "2021-03-05 14:27:53,789-15s eodag.config                     [INFO    ] stac_http_provider: unknown provider found in user conf, trying to use provided configuration\n"
     ]
    }
   ],
   "source": [
    "# create a workspace\n",
    "workspace = 'eodag_workspace_stac_client'\n",
    "if not os.path.isdir(workspace):\n",
    "    os.mkdir(workspace)\n",
    "\n",
    "# add the provider\n",
    "dag.update_providers_config(\"\"\"\n",
    "stac_http_provider:\n",
    "    search:\n",
    "        type: StacSearch\n",
    "        api_endpoint: https://fake-endpoint\n",
    "    products:\n",
    "        GENERIC_PRODUCT_TYPE:\n",
    "            productType: '{productType}'\n",
    "    download:\n",
    "        type: HTTPDownload\n",
    "        base_uri: https://fake-endpoint\n",
    "        flatten_top_dirs: True\n",
    "        outputs_prefix: %s\n",
    "\"\"\" % os.path.abspath(workspace))"
   ]
  },
  {
   "cell_type": "code",
   "execution_count": 10,
   "id": "starting-accordance",
   "metadata": {},
   "outputs": [
    {
     "name": "stderr",
     "output_type": "stream",
     "text": [
      "2021-03-05 14:27:58,074-15s eodag.core                       [INFO    ] No product type could be guessed with provided arguments\n",
      "2021-03-05 14:27:58,075-15s eodag.core                       [INFO    ] Searching product type 'None' on provider: stac_http_provider\n",
      "2021-03-05 14:28:00,918-15s eodag.core                       [INFO    ] Found 631 result(s) on provider 'stac_http_provider'\n"
     ]
    }
   ],
   "source": [
    "items = dag.load_stac_items(\n",
    "    \"https://canada-spot-ortho.s3.amazonaws.com/canada_spot_orthoimages/canada_spot5_orthoimages/S5_2007/catalog.json\", \n",
    "    recursive=True, \n",
    "    provider=\"stac_http_provider\", # STAC provider adapted to the download configuration\n",
    "    geometry=\"POINT EMPTY\" # empty geometry as search param that will be ignored when crunching\n",
    ")"
   ]
  },
  {
   "cell_type": "code",
   "execution_count": 11,
   "id": "informed-amplifier",
   "metadata": {},
   "outputs": [
    {
     "data": {
      "text/plain": [
       "631"
      ]
     },
     "execution_count": 11,
     "metadata": {},
     "output_type": "execute_result"
    }
   ],
   "source": [
    "len(items)"
   ]
  },
  {
   "cell_type": "markdown",
   "id": "changing-tooth",
   "metadata": {},
   "source": [
    "We can filter found products using crunches:"
   ]
  },
  {
   "cell_type": "code",
   "execution_count": 12,
   "id": "elder-convenience",
   "metadata": {},
   "outputs": [
    {
     "name": "stderr",
     "output_type": "stream",
     "text": [
      "2021-03-05 14:28:00,967-15s eodag.plugins.crunch.filter_date [INFO    ] Finished filtering products. 21 resulting products\n",
      "2021-03-05 14:28:00,969-15s eodag.plugins.crunch.filter_overlap [INFO    ] Finished filtering products. 3 resulting products\n"
     ]
    },
    {
     "name": "stdout",
     "output_type": "stream",
     "text": [
      "Filtered by date:  21\n",
      "Filtered by date+geom:  3\n"
     ]
    }
   ],
   "source": [
    "from shapely.geometry import Polygon\n",
    "from eodag.plugins.crunch.filter_date import FilterDate\n",
    "from eodag.plugins.crunch.filter_overlap import FilterOverlap\n",
    "\n",
    "# Filter by date\n",
    "filtered_by_date = items.crunch(\n",
    "    FilterDate({\"start\": \"2007-05-01\", \"end\": \"2007-05-06\"})\n",
    ")\n",
    "print(\"Filtered by date: \", len(filtered_by_date))\n",
    "\n",
    "# Filter by geometry\n",
    "search_polygon = Polygon([(-70, 45), (-75, 47), (-80, 47), (-80, 44)])\n",
    "filtered_by_geom = filtered_by_date.crunch(\n",
    "    FilterOverlap({\"within\": True}), \n",
    "    geometry=search_polygon\n",
    ")\n",
    "print(\"Filtered by date+geom: \", len(filtered_by_geom))"
   ]
  },
  {
   "cell_type": "code",
   "execution_count": 13,
   "id": "specialized-excuse",
   "metadata": {
    "scrolled": false
   },
   "outputs": [
    {
     "data": {
      "application/vnd.jupyter.widget-view+json": {
       "model_id": "48dcc48a8255406c8e1b8267c43094aa",
       "version_major": 2,
       "version_minor": 0
      },
      "text/plain": [
       "Map(center=[50, -100], controls=(ZoomControl(options=['position', 'zoom_in_text', 'zoom_in_title', 'zoom_out_t…"
      ]
     },
     "metadata": {},
     "output_type": "display_data"
    }
   ],
   "source": [
    "# plot on map\n",
    "import ipyleaflet as ipyl\n",
    "\n",
    "m = ipyl.Map(center=(50, -100), zoom=3)\n",
    "\n",
    "polygon_layer = ipyl.GeoJSON(data=search_polygon.__geo_interface__, style=dict(color='blue'))\n",
    "m.add_layer(polygon_layer)\n",
    "\n",
    "filtered_by_date_layer = ipyl.GeoJSON(data=filtered_by_date.as_geojson_object(), style=dict(color='red'))\n",
    "m.add_layer(filtered_by_date_layer)\n",
    "\n",
    "filtered_by_geom_layer = ipyl.GeoJSON(data=filtered_by_geom.as_geojson_object(), style=dict(color='green'))\n",
    "m.add_layer(filtered_by_geom_layer)\n",
    "m"
   ]
  },
  {
   "cell_type": "markdown",
   "id": "optional-flower",
   "metadata": {},
   "source": [
    "Download an item from the filtered search results (please note that the thumbnail of the product is not downloadable, and raises a warning):"
   ]
  },
  {
   "cell_type": "code",
   "execution_count": 14,
   "id": "becoming-mason",
   "metadata": {},
   "outputs": [
    {
     "name": "stderr",
     "output_type": "stream",
     "text": [
      "2021-03-05 14:28:01,065-15s eodag.plugins.download.base      [INFO    ] Download url: https://fake-endpoint/collections/canada_spot5_orthoimages/items/S5_07702_4605_20070505\n"
     ]
    },
    {
     "data": {
      "application/vnd.jupyter.widget-view+json": {
       "model_id": "6f342712e7b54d51937c79c7e6495a63",
       "version_major": 2,
       "version_minor": 0
      },
      "text/plain": [
       "S5_07702_4605_20070505:   0%|          | 0.00/77.7M [00:00<?, ?B/s]"
      ]
     },
     "metadata": {},
     "output_type": "display_data"
    },
    {
     "name": "stderr",
     "output_type": "stream",
     "text": [
      "2021-03-05 14:28:06,839-15s eodag.plugins.download.http      [WARNING ] Unexpected error: 403 Client Error: Forbidden for url: https://canada-spot-ortho.s3.amazonaws.com/canada_spot_orthoimages/canada_spot5_orthoimages/S5_2007/S5_07702_4605_20070505/s5_07702_4605_20070505_tn.jpg\n",
      "2021-03-05 14:28:06,841-15s eodag.plugins.download.http      [WARNING ] Skipping https://canada-spot-ortho.s3.amazonaws.com/canada_spot_orthoimages/canada_spot5_orthoimages/S5_2007/S5_07702_4605_20070505/s5_07702_4605_20070505_tn.jpg\n",
      "2021-03-05 14:28:26,347-15s eodag.api.product                [INFO    ] Remote location of the product is still available through its 'remote_location' property: https://fake-endpoint/collections/canada_spot5_orthoimages/items/S5_07702_4605_20070505\n"
     ]
    },
    {
     "data": {
      "text/plain": [
       "'file:///home/sylvain/workspace/eodag/examples/eodag_workspace_stac_client/S5_07702_4605_20070505'"
      ]
     },
     "execution_count": 14,
     "metadata": {},
     "output_type": "execute_result"
    }
   ],
   "source": [
    "from eodag.utils import NotebookProgressCallback\n",
    "\n",
    "path = dag.download(filtered_by_geom[0], progress_callback=NotebookProgressCallback())\n",
    "path"
   ]
  },
  {
   "cell_type": "code",
   "execution_count": 15,
   "id": "excellent-hardware",
   "metadata": {},
   "outputs": [
    {
     "name": "stdout",
     "output_type": "stream",
     "text": [
      "S5_07702_4605_20070505_m20_1_lcc00_cog.tif\r\n",
      "S5_07702_4605_20070505_m20_2_lcc00_cog.tif\r\n",
      "S5_07702_4605_20070505_m20_3_lcc00_cog.tif\r\n",
      "S5_07702_4605_20070505_m20_4_lcc00_cog.tif\r\n",
      "S5_07702_4605_20070505_p10_1_lcc00_cog.tif\r\n"
     ]
    }
   ],
   "source": [
    "!ls {path.replace(\"file://\",\"\")}"
   ]
  }
 ],
 "metadata": {
  "kernelspec": {
   "display_name": "Python 3",
   "language": "python",
   "name": "python3"
  },
  "language_info": {
   "codemirror_mode": {
    "name": "ipython",
    "version": 3
   },
   "file_extension": ".py",
   "mimetype": "text/x-python",
   "name": "python",
   "nbconvert_exporter": "python",
   "pygments_lexer": "ipython3",
   "version": "3.8.5"
  },
  "widgets": {
   "application/vnd.jupyter.widget-state+json": {
    "state": {
     "009e5068727e4ce8ada2cef571772b56": {
      "model_module": "jupyter-leaflet",
      "model_module_version": "^0.13.5",
      "model_name": "LeafletTileLayerModel",
      "state": {
       "_model_module_version": "^0.13.5",
       "_view_module_version": "^0.13.5",
       "base": true,
       "max_native_zoom": 18,
       "max_zoom": 19,
       "min_native_zoom": 0,
       "min_zoom": 1,
       "options": [
        "attribution",
        "detect_retina",
        "max_native_zoom",
        "max_zoom",
        "min_native_zoom",
        "min_zoom",
        "no_wrap",
        "tile_size",
        "tms"
       ]
      }
     },
     "00bce54d54584d43a83e76c771df6f6f": {
      "model_module": "jupyter-leaflet",
      "model_module_version": "^0.13.5",
      "model_name": "LeafletGeoJSONModel",
      "state": {
       "_model_module": "jupyter-leaflet",
       "_model_module_version": "^0.13.5",
       "_view_count": null,
       "_view_module": "jupyter-leaflet",
       "_view_module_version": "^0.13.5",
       "base": false,
       "bottom": false,
       "data": {
        "features": [
         {
          "geometry": {
           "coordinates": [
            [
             [
              -81.82939060000001,
              43.97025879999991
             ],
             [
              -81.6293909,
              44.48955959999991
             ],
             [
              -80.8972191,
              44.341560399999906
             ],
             [
              -81.1035722,
              43.82257309999989
             ],
             [
              -81.82939060000001,
              43.97025879999991
             ]
            ]
           ],
           "type": "Polygon"
          },
          "id": "S5_08122_4409_20070504",
          "properties": {
           "abstract": null,
           "downloadLink": "https://fake-endpoint/collections/canada_spot5_orthoimages/items/S5_08122_4409_20070504",
           "eo:bands": [
            {
             "common_name": "panchromatic",
             "description": "Panchromatic: 480-710 nm",
             "name": "Panchromatic"
            },
            {
             "common_name": "green",
             "description": "Green: 500-590 nm",
             "name": "Green"
            },
            {
             "common_name": "red",
             "description": "Red: 610-680 nm",
             "name": "Red"
            },
            {
             "common_name": "nir",
             "description": "Near Infrared: 780-890 nm",
             "name": "Near Infrared"
            },
            {
             "common_name": "swir",
             "description": "ShortWave Infrared: 1580-1750 nm",
             "name": "ShortWave Infrared"
            }
           ],
           "eodag_product_type": null,
           "eodag_provider": "stac_http_provider",
           "eodag_search_intersection": {
            "geometries": [],
            "type": "GeometryCollection"
           },
           "instrument": null,
           "license": null,
           "missionStartDate": null,
           "platform": null,
           "platformSerialIdentifier": null,
           "processingLevel": null,
           "productType": "canada_spot5_orthoimages",
           "proj:epsg": 3979,
           "resolution": 20,
           "sensorType": null,
           "startTimeFromAscendingNode": "2007-05-04T00:00:00Z",
           "storageStatus": "ONLINE",
           "style": {
            "color": "red"
           },
           "thumbnail": "https://canada-spot-ortho.s3.amazonaws.com/canada_spot_orthoimages/canada_spot5_orthoimages/S5_2007/S5_08122_4409_20070504/s5_08122_4409_20070504_tn.jpg",
           "title": "S5_08122_4409_20070504"
          },
          "type": "Feature"
         },
         {
          "geometry": {
           "coordinates": [
            [
             [
              -82.19413800000001,
              43.002897899999866
             ],
             [
              -81.9983011,
              43.52332569999988
             ],
             [
              -81.2782497,
              43.3766073999999
             ],
             [
              -81.4785564,
              42.85763319999989
             ],
             [
              -82.19413800000001,
              43.002897899999866
             ]
            ]
           ],
           "type": "Polygon"
          },
          "id": "S5_08144_4311_20070504",
          "properties": {
           "abstract": null,
           "downloadLink": "https://fake-endpoint/collections/canada_spot5_orthoimages/items/S5_08144_4311_20070504",
           "eo:bands": [
            {
             "common_name": "panchromatic",
             "description": "Panchromatic: 480-710 nm",
             "name": "Panchromatic"
            },
            {
             "common_name": "green",
             "description": "Green: 500-590 nm",
             "name": "Green"
            },
            {
             "common_name": "red",
             "description": "Red: 610-680 nm",
             "name": "Red"
            },
            {
             "common_name": "nir",
             "description": "Near Infrared: 780-890 nm",
             "name": "Near Infrared"
            },
            {
             "common_name": "swir",
             "description": "ShortWave Infrared: 1580-1750 nm",
             "name": "ShortWave Infrared"
            }
           ],
           "eodag_product_type": null,
           "eodag_provider": "stac_http_provider",
           "eodag_search_intersection": {
            "geometries": [],
            "type": "GeometryCollection"
           },
           "instrument": null,
           "license": null,
           "missionStartDate": null,
           "platform": null,
           "platformSerialIdentifier": null,
           "processingLevel": null,
           "productType": "canada_spot5_orthoimages",
           "proj:epsg": 3979,
           "resolution": 20,
           "sensorType": null,
           "startTimeFromAscendingNode": "2007-05-04T00:00:00Z",
           "storageStatus": "ONLINE",
           "style": {
            "color": "red"
           },
           "thumbnail": "https://canada-spot-ortho.s3.amazonaws.com/canada_spot_orthoimages/canada_spot5_orthoimages/S5_2007/S5_08144_4311_20070504/s5_08144_4311_20070504_tn.jpg",
           "title": "S5_08144_4311_20070504"
          },
          "type": "Feature"
         },
         {
          "geometry": {
           "coordinates": [
            [
             [
              -85.0273477,
              46.859929499999936
             ],
             [
              -84.8043796,
              47.37592669998269
             ],
             [
              -84.02553680000001,
              47.21757089998226
             ],
             [
              -84.2562465,
              46.70048319999994
             ],
             [
              -85.0273477,
              46.859929499999936
             ]
            ]
           ],
           "type": "Polygon"
          },
          "id": "S5_08432_4702_20070503",
          "properties": {
           "abstract": null,
           "downloadLink": "https://fake-endpoint/collections/canada_spot5_orthoimages/items/S5_08432_4702_20070503",
           "eo:bands": [
            {
             "common_name": "panchromatic",
             "description": "Panchromatic: 480-710 nm",
             "name": "Panchromatic"
            },
            {
             "common_name": "green",
             "description": "Green: 500-590 nm",
             "name": "Green"
            },
            {
             "common_name": "red",
             "description": "Red: 610-680 nm",
             "name": "Red"
            },
            {
             "common_name": "nir",
             "description": "Near Infrared: 780-890 nm",
             "name": "Near Infrared"
            },
            {
             "common_name": "swir",
             "description": "ShortWave Infrared: 1580-1750 nm",
             "name": "ShortWave Infrared"
            }
           ],
           "eodag_product_type": null,
           "eodag_provider": "stac_http_provider",
           "eodag_search_intersection": {
            "geometries": [],
            "type": "GeometryCollection"
           },
           "instrument": null,
           "license": null,
           "missionStartDate": null,
           "platform": null,
           "platformSerialIdentifier": null,
           "processingLevel": null,
           "productType": "canada_spot5_orthoimages",
           "proj:epsg": 3979,
           "resolution": 20,
           "sensorType": null,
           "startTimeFromAscendingNode": "2007-05-03T00:00:00Z",
           "storageStatus": "ONLINE",
           "style": {
            "color": "red"
           },
           "thumbnail": "https://canada-spot-ortho.s3.amazonaws.com/canada_spot_orthoimages/canada_spot5_orthoimages/S5_2007/S5_08432_4702_20070503/s5_08432_4702_20070503_tn.jpg",
           "title": "S5_08432_4702_20070503"
          },
          "type": "Feature"
         },
         {
          "geometry": {
           "coordinates": [
            [
             [
              -82.0128118,
              43.486933699999895
             ],
             [
              -81.8154336,
              44.006646199999906
             ],
             [
              -81.0891217,
              43.85927329999989
             ],
             [
              -81.2926142,
              43.340113799999905
             ],
             [
              -82.0128118,
              43.486933699999895
             ]
            ]
           ],
           "type": "Polygon"
          },
          "id": "S5_08133_4340_20070504",
          "properties": {
           "abstract": null,
           "downloadLink": "https://fake-endpoint/collections/canada_spot5_orthoimages/items/S5_08133_4340_20070504",
           "eo:bands": [
            {
             "common_name": "panchromatic",
             "description": "Panchromatic: 480-710 nm",
             "name": "Panchromatic"
            },
            {
             "common_name": "green",
             "description": "Green: 500-590 nm",
             "name": "Green"
            },
            {
             "common_name": "red",
             "description": "Red: 610-680 nm",
             "name": "Red"
            },
            {
             "common_name": "nir",
             "description": "Near Infrared: 780-890 nm",
             "name": "Near Infrared"
            },
            {
             "common_name": "swir",
             "description": "ShortWave Infrared: 1580-1750 nm",
             "name": "ShortWave Infrared"
            }
           ],
           "eodag_product_type": null,
           "eodag_provider": "stac_http_provider",
           "eodag_search_intersection": {
            "geometries": [],
            "type": "GeometryCollection"
           },
           "instrument": null,
           "license": null,
           "missionStartDate": null,
           "platform": null,
           "platformSerialIdentifier": null,
           "processingLevel": null,
           "productType": "canada_spot5_orthoimages",
           "proj:epsg": 3979,
           "resolution": 20,
           "sensorType": null,
           "startTimeFromAscendingNode": "2007-05-04T00:00:00Z",
           "storageStatus": "ONLINE",
           "style": {
            "color": "red"
           },
           "thumbnail": "https://canada-spot-ortho.s3.amazonaws.com/canada_spot_orthoimages/canada_spot5_orthoimages/S5_2007/S5_08133_4340_20070504/s5_08133_4340_20070504_tn.jpg",
           "title": "S5_08133_4340_20070504"
          },
          "type": "Feature"
         },
         {
          "geometry": {
           "coordinates": [
            [
             [
              -82.1791361,
              44.93104039999991
             ],
             [
              -81.9785331,
              45.45127599999993
             ],
             [
              -81.2418256,
              45.30744029999992
             ],
             [
              -81.4473278,
              44.78835739999991
             ],
             [
              -82.1791361,
              44.93104039999991
             ]
            ]
           ],
           "type": "Polygon"
          },
          "id": "S5_08143_4507_20070504",
          "properties": {
           "abstract": null,
           "downloadLink": "https://fake-endpoint/collections/canada_spot5_orthoimages/items/S5_08143_4507_20070504",
           "eo:bands": [
            {
             "common_name": "panchromatic",
             "description": "Panchromatic: 480-710 nm",
             "name": "Panchromatic"
            },
            {
             "common_name": "green",
             "description": "Green: 500-590 nm",
             "name": "Green"
            },
            {
             "common_name": "red",
             "description": "Red: 610-680 nm",
             "name": "Red"
            },
            {
             "common_name": "nir",
             "description": "Near Infrared: 780-890 nm",
             "name": "Near Infrared"
            },
            {
             "common_name": "swir",
             "description": "ShortWave Infrared: 1580-1750 nm",
             "name": "ShortWave Infrared"
            }
           ],
           "eodag_product_type": null,
           "eodag_provider": "stac_http_provider",
           "eodag_search_intersection": {
            "geometries": [],
            "type": "GeometryCollection"
           },
           "instrument": null,
           "license": null,
           "missionStartDate": null,
           "platform": null,
           "platformSerialIdentifier": null,
           "processingLevel": null,
           "productType": "canada_spot5_orthoimages",
           "proj:epsg": 3979,
           "resolution": 20,
           "sensorType": null,
           "startTimeFromAscendingNode": "2007-05-04T00:00:00Z",
           "storageStatus": "ONLINE",
           "style": {
            "color": "red"
           },
           "thumbnail": "https://canada-spot-ortho.s3.amazonaws.com/canada_spot_orthoimages/canada_spot5_orthoimages/S5_2007/S5_08143_4507_20070504/s5_08143_4507_20070504_tn.jpg",
           "title": "S5_08143_4507_20070504"
          },
          "type": "Feature"
         },
         {
          "geometry": {
           "coordinates": [
            [
             [
              -75.635484,
              49.71080699998813
             ],
             [
              -75.4077832,
              50.22914529998913
             ],
             [
              -74.6039477,
              50.07893649998885
             ],
             [
              -74.839718,
              49.562025099987835
             ],
             [
              -75.635484,
              49.71080699998813
             ]
            ]
           ],
           "type": "Polygon"
          },
          "id": "S5_07507_4954_20070505",
          "properties": {
           "abstract": null,
           "downloadLink": "https://fake-endpoint/collections/canada_spot5_orthoimages/items/S5_07507_4954_20070505",
           "eo:bands": [
            {
             "common_name": "panchromatic",
             "description": "Panchromatic: 480-710 nm",
             "name": "Panchromatic"
            },
            {
             "common_name": "green",
             "description": "Green: 500-590 nm",
             "name": "Green"
            },
            {
             "common_name": "red",
             "description": "Red: 610-680 nm",
             "name": "Red"
            },
            {
             "common_name": "nir",
             "description": "Near Infrared: 780-890 nm",
             "name": "Near Infrared"
            },
            {
             "common_name": "swir",
             "description": "ShortWave Infrared: 1580-1750 nm",
             "name": "ShortWave Infrared"
            }
           ],
           "eodag_product_type": null,
           "eodag_provider": "stac_http_provider",
           "eodag_search_intersection": {
            "geometries": [],
            "type": "GeometryCollection"
           },
           "instrument": null,
           "license": null,
           "missionStartDate": null,
           "platform": null,
           "platformSerialIdentifier": null,
           "processingLevel": null,
           "productType": "canada_spot5_orthoimages",
           "proj:epsg": 3979,
           "resolution": 20,
           "sensorType": null,
           "startTimeFromAscendingNode": "2007-05-05T00:00:00Z",
           "storageStatus": "ONLINE",
           "style": {
            "color": "red"
           },
           "thumbnail": "https://canada-spot-ortho.s3.amazonaws.com/canada_spot_orthoimages/canada_spot5_orthoimages/S5_2007/S5_07507_4954_20070505/s5_07507_4954_20070505_tn.jpg",
           "title": "S5_07507_4954_20070505"
          },
          "type": "Feature"
         },
         {
          "geometry": {
           "coordinates": [
            [
             [
              -77.5086458,
              45.89066339999992
             ],
             [
              -77.3097434,
              46.411011399999936
             ],
             [
              -76.56018450000002,
              46.27010199999995
             ],
             [
              -76.766165,
              45.75074559999991
             ],
             [
              -77.5086458,
              45.89066339999992
             ]
            ]
           ],
           "type": "Polygon"
          },
          "id": "S5_07702_4605_20070505",
          "properties": {
           "abstract": null,
           "downloadLink": "https://fake-endpoint/collections/canada_spot5_orthoimages/items/S5_07702_4605_20070505",
           "eo:bands": [
            {
             "common_name": "panchromatic",
             "description": "Panchromatic: 480-710 nm",
             "name": "Panchromatic"
            },
            {
             "common_name": "green",
             "description": "Green: 500-590 nm",
             "name": "Green"
            },
            {
             "common_name": "red",
             "description": "Red: 610-680 nm",
             "name": "Red"
            },
            {
             "common_name": "nir",
             "description": "Near Infrared: 780-890 nm",
             "name": "Near Infrared"
            },
            {
             "common_name": "swir",
             "description": "ShortWave Infrared: 1580-1750 nm",
             "name": "ShortWave Infrared"
            }
           ],
           "eodag_product_type": null,
           "eodag_provider": "stac_http_provider",
           "eodag_search_intersection": {
            "geometries": [],
            "type": "GeometryCollection"
           },
           "instrument": null,
           "license": null,
           "missionStartDate": null,
           "platform": null,
           "platformSerialIdentifier": null,
           "processingLevel": null,
           "productType": "canada_spot5_orthoimages",
           "proj:epsg": 3979,
           "resolution": 20,
           "sensorType": null,
           "startTimeFromAscendingNode": "2007-05-05T00:00:00Z",
           "storageStatus": "ONLINE",
           "style": {
            "color": "red"
           },
           "thumbnail": "https://canada-spot-ortho.s3.amazonaws.com/canada_spot_orthoimages/canada_spot5_orthoimages/S5_2007/S5_07702_4605_20070505/s5_07702_4605_20070505_tn.jpg",
           "title": "S5_07702_4605_20070505"
          },
          "type": "Feature"
         },
         {
          "geometry": {
           "coordinates": [
            [
             [
              -77.6897149,
              45.41003529999992
             ],
             [
              -77.493466,
              45.93058879999993
             ],
             [
              -76.7514935,
              45.790705999999915
             ],
             [
              -76.9536275,
              45.27084659999991
             ],
             [
              -77.6897149,
              45.41003529999992
             ]
            ]
           ],
           "type": "Polygon"
          },
          "id": "S5_07713_4536_20070505",
          "properties": {
           "abstract": null,
           "downloadLink": "https://fake-endpoint/collections/canada_spot5_orthoimages/items/S5_07713_4536_20070505",
           "eo:bands": [
            {
             "common_name": "panchromatic",
             "description": "Panchromatic: 480-710 nm",
             "name": "Panchromatic"
            },
            {
             "common_name": "green",
             "description": "Green: 500-590 nm",
             "name": "Green"
            },
            {
             "common_name": "red",
             "description": "Red: 610-680 nm",
             "name": "Red"
            },
            {
             "common_name": "nir",
             "description": "Near Infrared: 780-890 nm",
             "name": "Near Infrared"
            },
            {
             "common_name": "swir",
             "description": "ShortWave Infrared: 1580-1750 nm",
             "name": "ShortWave Infrared"
            }
           ],
           "eodag_product_type": null,
           "eodag_provider": "stac_http_provider",
           "eodag_search_intersection": {
            "geometries": [],
            "type": "GeometryCollection"
           },
           "instrument": null,
           "license": null,
           "missionStartDate": null,
           "platform": null,
           "platformSerialIdentifier": null,
           "processingLevel": null,
           "productType": "canada_spot5_orthoimages",
           "proj:epsg": 3979,
           "resolution": 20,
           "sensorType": null,
           "startTimeFromAscendingNode": "2007-05-05T00:00:00Z",
           "storageStatus": "ONLINE",
           "style": {
            "color": "red"
           },
           "thumbnail": "https://canada-spot-ortho.s3.amazonaws.com/canada_spot_orthoimages/canada_spot5_orthoimages/S5_2007/S5_07713_4536_20070505/s5_07713_4536_20070505_tn.jpg",
           "title": "S5_07713_4536_20070505"
          },
          "type": "Feature"
         },
         {
          "geometry": {
           "coordinates": [
            [
             [
              -84.9345337,
              48.765304799986104
             ],
             [
              -84.7042059,
              49.282367799987256
             ],
             [
              -83.9089622,
              49.126539399986925
             ],
             [
              -84.1474371,
              48.61051919998576
             ],
             [
              -84.9345337,
              48.765304799986104
             ]
            ]
           ],
           "type": "Polygon"
          },
          "id": "S5_08426_4857_20070503",
          "properties": {
           "abstract": null,
           "downloadLink": "https://fake-endpoint/collections/canada_spot5_orthoimages/items/S5_08426_4857_20070503",
           "eo:bands": [
            {
             "common_name": "panchromatic",
             "description": "Panchromatic: 480-710 nm",
             "name": "Panchromatic"
            },
            {
             "common_name": "green",
             "description": "Green: 500-590 nm",
             "name": "Green"
            },
            {
             "common_name": "red",
             "description": "Red: 610-680 nm",
             "name": "Red"
            },
            {
             "common_name": "nir",
             "description": "Near Infrared: 780-890 nm",
             "name": "Near Infrared"
            },
            {
             "common_name": "swir",
             "description": "ShortWave Infrared: 1580-1750 nm",
             "name": "ShortWave Infrared"
            }
           ],
           "eodag_product_type": null,
           "eodag_provider": "stac_http_provider",
           "eodag_search_intersection": {
            "geometries": [],
            "type": "GeometryCollection"
           },
           "instrument": null,
           "license": null,
           "missionStartDate": null,
           "platform": null,
           "platformSerialIdentifier": null,
           "processingLevel": null,
           "productType": "canada_spot5_orthoimages",
           "proj:epsg": 3979,
           "resolution": 20,
           "sensorType": null,
           "startTimeFromAscendingNode": "2007-05-03T00:00:00Z",
           "storageStatus": "ONLINE",
           "style": {
            "color": "red"
           },
           "thumbnail": "https://canada-spot-ortho.s3.amazonaws.com/canada_spot_orthoimages/canada_spot5_orthoimages/S5_2007/S5_08426_4857_20070503/s5_08426_4857_20070503_tn.jpg",
           "title": "S5_08426_4857_20070503"
          },
          "type": "Feature"
         },
         {
          "geometry": {
           "coordinates": [
            [
             [
              -84.8206206,
              47.3379771999826
             ],
             [
              -84.59384510000001,
              47.85419849998393
             ],
             [
              -83.8084865,
              47.69434859998355
             ],
             [
              -84.0433223,
              47.17892369998218
             ],
             [
              -84.8206206,
              47.3379771999826
             ]
            ]
           ],
           "type": "Polygon"
          },
          "id": "S5_08419_4731_20070503",
          "properties": {
           "abstract": null,
           "downloadLink": "https://fake-endpoint/collections/canada_spot5_orthoimages/items/S5_08419_4731_20070503",
           "eo:bands": [
            {
             "common_name": "panchromatic",
             "description": "Panchromatic: 480-710 nm",
             "name": "Panchromatic"
            },
            {
             "common_name": "green",
             "description": "Green: 500-590 nm",
             "name": "Green"
            },
            {
             "common_name": "red",
             "description": "Red: 610-680 nm",
             "name": "Red"
            },
            {
             "common_name": "nir",
             "description": "Near Infrared: 780-890 nm",
             "name": "Near Infrared"
            },
            {
             "common_name": "swir",
             "description": "ShortWave Infrared: 1580-1750 nm",
             "name": "ShortWave Infrared"
            }
           ],
           "eodag_product_type": null,
           "eodag_provider": "stac_http_provider",
           "eodag_search_intersection": {
            "geometries": [],
            "type": "GeometryCollection"
           },
           "instrument": null,
           "license": null,
           "missionStartDate": null,
           "platform": null,
           "platformSerialIdentifier": null,
           "processingLevel": null,
           "productType": "canada_spot5_orthoimages",
           "proj:epsg": 3979,
           "resolution": 20,
           "sensorType": null,
           "startTimeFromAscendingNode": "2007-05-03T00:00:00Z",
           "storageStatus": "ONLINE",
           "style": {
            "color": "red"
           },
           "thumbnail": "https://canada-spot-ortho.s3.amazonaws.com/canada_spot_orthoimages/canada_spot5_orthoimages/S5_2007/S5_08419_4731_20070503/s5_08419_4731_20070503_tn.jpg",
           "title": "S5_08419_4731_20070503"
          },
          "type": "Feature"
         },
         {
          "geometry": {
           "coordinates": [
            [
             [
              -77.8688576,
              44.92858479999993
             ],
             [
              -77.6751065,
              45.44990809999991
             ],
             [
              -76.9381127,
              45.3104741999999
             ],
             [
              -77.13831010000001,
              44.790157899999905
             ],
             [
              -77.8688576,
              44.92858479999993
             ]
            ]
           ],
           "type": "Polygon"
          },
          "id": "S5_07724_4507_20070505",
          "properties": {
           "abstract": null,
           "downloadLink": "https://fake-endpoint/collections/canada_spot5_orthoimages/items/S5_07724_4507_20070505",
           "eo:bands": [
            {
             "common_name": "panchromatic",
             "description": "Panchromatic: 480-710 nm",
             "name": "Panchromatic"
            },
            {
             "common_name": "green",
             "description": "Green: 500-590 nm",
             "name": "Green"
            },
            {
             "common_name": "red",
             "description": "Red: 610-680 nm",
             "name": "Red"
            },
            {
             "common_name": "nir",
             "description": "Near Infrared: 780-890 nm",
             "name": "Near Infrared"
            },
            {
             "common_name": "swir",
             "description": "ShortWave Infrared: 1580-1750 nm",
             "name": "ShortWave Infrared"
            }
           ],
           "eodag_product_type": null,
           "eodag_provider": "stac_http_provider",
           "eodag_search_intersection": {
            "geometries": [],
            "type": "GeometryCollection"
           },
           "instrument": null,
           "license": null,
           "missionStartDate": null,
           "platform": null,
           "platformSerialIdentifier": null,
           "processingLevel": null,
           "productType": "canada_spot5_orthoimages",
           "proj:epsg": 3979,
           "resolution": 20,
           "sensorType": null,
           "startTimeFromAscendingNode": "2007-05-05T00:00:00Z",
           "storageStatus": "ONLINE",
           "style": {
            "color": "red"
           },
           "thumbnail": "https://canada-spot-ortho.s3.amazonaws.com/canada_spot_orthoimages/canada_spot5_orthoimages/S5_2007/S5_07724_4507_20070505/s5_07724_4507_20070505_tn.jpg",
           "title": "S5_07724_4507_20070505"
          },
          "type": "Feature"
         },
         {
          "geometry": {
           "coordinates": [
            [
             [
              -81.6437402,
              44.45305149999991
             ],
             [
              -81.440283,
              44.97205759999991
             ],
             [
              -80.70280270000002,
              44.82283499999992
             ],
             [
              -80.91258470000001,
              44.304634199999924
             ],
             [
              -81.6437402,
              44.45305149999991
             ]
            ]
           ],
           "type": "Polygon"
          },
          "id": "S5_08111_4438_20070504",
          "properties": {
           "abstract": null,
           "downloadLink": "https://fake-endpoint/collections/canada_spot5_orthoimages/items/S5_08111_4438_20070504",
           "eo:bands": [
            {
             "common_name": "panchromatic",
             "description": "Panchromatic: 480-710 nm",
             "name": "Panchromatic"
            },
            {
             "common_name": "green",
             "description": "Green: 500-590 nm",
             "name": "Green"
            },
            {
             "common_name": "red",
             "description": "Red: 610-680 nm",
             "name": "Red"
            },
            {
             "common_name": "nir",
             "description": "Near Infrared: 780-890 nm",
             "name": "Near Infrared"
            },
            {
             "common_name": "swir",
             "description": "ShortWave Infrared: 1580-1750 nm",
             "name": "ShortWave Infrared"
            }
           ],
           "eodag_product_type": null,
           "eodag_provider": "stac_http_provider",
           "eodag_search_intersection": {
            "geometries": [],
            "type": "GeometryCollection"
           },
           "instrument": null,
           "license": null,
           "missionStartDate": null,
           "platform": null,
           "platformSerialIdentifier": null,
           "processingLevel": null,
           "productType": "canada_spot5_orthoimages",
           "proj:epsg": 3979,
           "resolution": 20,
           "sensorType": null,
           "startTimeFromAscendingNode": "2007-05-04T00:00:00Z",
           "storageStatus": "ONLINE",
           "style": {
            "color": "red"
           },
           "thumbnail": "https://canada-spot-ortho.s3.amazonaws.com/canada_spot_orthoimages/canada_spot5_orthoimages/S5_2007/S5_08111_4438_20070504/s5_08111_4438_20070504_tn.jpg",
           "title": "S5_08111_4438_20070504"
          },
          "type": "Feature"
         },
         {
          "geometry": {
           "coordinates": [
            [
             [
              -86.1595605,
              49.23422629998713
             ],
             [
              -85.9407614,
              49.7529022999882
             ],
             [
              -85.1419636,
              49.60717919998791
             ],
             [
              -85.3685313,
              49.08959189998682
             ],
             [
              -86.1595605,
              49.23422629998713
             ]
            ]
           ],
           "type": "Polygon"
          },
          "id": "S5_08539_4925_20070503",
          "properties": {
           "abstract": null,
           "downloadLink": "https://fake-endpoint/collections/canada_spot5_orthoimages/items/S5_08539_4925_20070503",
           "eo:bands": [
            {
             "common_name": "panchromatic",
             "description": "Panchromatic: 480-710 nm",
             "name": "Panchromatic"
            },
            {
             "common_name": "green",
             "description": "Green: 500-590 nm",
             "name": "Green"
            },
            {
             "common_name": "red",
             "description": "Red: 610-680 nm",
             "name": "Red"
            },
            {
             "common_name": "nir",
             "description": "Near Infrared: 780-890 nm",
             "name": "Near Infrared"
            },
            {
             "common_name": "swir",
             "description": "ShortWave Infrared: 1580-1750 nm",
             "name": "ShortWave Infrared"
            }
           ],
           "eodag_product_type": null,
           "eodag_provider": "stac_http_provider",
           "eodag_search_intersection": {
            "geometries": [],
            "type": "GeometryCollection"
           },
           "instrument": null,
           "license": null,
           "missionStartDate": null,
           "platform": null,
           "platformSerialIdentifier": null,
           "processingLevel": null,
           "productType": "canada_spot5_orthoimages",
           "proj:epsg": 3979,
           "resolution": 20,
           "sensorType": null,
           "startTimeFromAscendingNode": "2007-05-03T00:00:00Z",
           "storageStatus": "ONLINE",
           "style": {
            "color": "red"
           },
           "thumbnail": "https://canada-spot-ortho.s3.amazonaws.com/canada_spot_orthoimages/canada_spot5_orthoimages/S5_2007/S5_08539_4925_20070503/s5_08539_4925_20070503_tn.jpg",
           "title": "S5_08539_4925_20070503"
          },
          "type": "Feature"
         },
         {
          "geometry": {
           "coordinates": [
            [
             [
              -85.1430113,
              48.28905129998501
             ],
             [
              -84.9162353,
              48.80620119998619
             ],
             [
              -84.1287318,
              48.65145419998586
             ],
             [
              -84.3634894,
              48.135371299984634
             ],
             [
              -85.1430113,
              48.28905129998501
             ]
            ]
           ],
           "type": "Polygon"
          },
          "id": "S5_08438_4828_20070503",
          "properties": {
           "abstract": null,
           "downloadLink": "https://fake-endpoint/collections/canada_spot5_orthoimages/items/S5_08438_4828_20070503",
           "eo:bands": [
            {
             "common_name": "panchromatic",
             "description": "Panchromatic: 480-710 nm",
             "name": "Panchromatic"
            },
            {
             "common_name": "green",
             "description": "Green: 500-590 nm",
             "name": "Green"
            },
            {
             "common_name": "red",
             "description": "Red: 610-680 nm",
             "name": "Red"
            },
            {
             "common_name": "nir",
             "description": "Near Infrared: 780-890 nm",
             "name": "Near Infrared"
            },
            {
             "common_name": "swir",
             "description": "ShortWave Infrared: 1580-1750 nm",
             "name": "ShortWave Infrared"
            }
           ],
           "eodag_product_type": null,
           "eodag_provider": "stac_http_provider",
           "eodag_search_intersection": {
            "geometries": [],
            "type": "GeometryCollection"
           },
           "instrument": null,
           "license": null,
           "missionStartDate": null,
           "platform": null,
           "platformSerialIdentifier": null,
           "processingLevel": null,
           "productType": "canada_spot5_orthoimages",
           "proj:epsg": 3979,
           "resolution": 20,
           "sensorType": null,
           "startTimeFromAscendingNode": "2007-05-03T00:00:00Z",
           "storageStatus": "ONLINE",
           "style": {
            "color": "red"
           },
           "thumbnail": "https://canada-spot-ortho.s3.amazonaws.com/canada_spot_orthoimages/canada_spot5_orthoimages/S5_2007/S5_08438_4828_20070503/s5_08438_4828_20070503_tn.jpg",
           "title": "S5_08438_4828_20070503"
          },
          "type": "Feature"
         },
         {
          "geometry": {
           "coordinates": [
            [
             [
              -81.4555888,
              44.9349105999999
             ],
             [
              -81.2491542,
              45.45280749999993
             ],
             [
              -80.5044075,
              45.30292019999991
             ],
             [
              -80.7183832,
              44.78516229999991
             ],
             [
              -81.4555888,
              44.9349105999999
             ]
            ]
           ],
           "type": "Polygon"
          },
          "id": "S5_08059_4507_20070504",
          "properties": {
           "abstract": null,
           "downloadLink": "https://fake-endpoint/collections/canada_spot5_orthoimages/items/S5_08059_4507_20070504",
           "eo:bands": [
            {
             "common_name": "panchromatic",
             "description": "Panchromatic: 480-710 nm",
             "name": "Panchromatic"
            },
            {
             "common_name": "green",
             "description": "Green: 500-590 nm",
             "name": "Green"
            },
            {
             "common_name": "red",
             "description": "Red: 610-680 nm",
             "name": "Red"
            },
            {
             "common_name": "nir",
             "description": "Near Infrared: 780-890 nm",
             "name": "Near Infrared"
            },
            {
             "common_name": "swir",
             "description": "ShortWave Infrared: 1580-1750 nm",
             "name": "ShortWave Infrared"
            }
           ],
           "eodag_product_type": null,
           "eodag_provider": "stac_http_provider",
           "eodag_search_intersection": {
            "geometries": [],
            "type": "GeometryCollection"
           },
           "instrument": null,
           "license": null,
           "missionStartDate": null,
           "platform": null,
           "platformSerialIdentifier": null,
           "processingLevel": null,
           "productType": "canada_spot5_orthoimages",
           "proj:epsg": 3979,
           "resolution": 20,
           "sensorType": null,
           "startTimeFromAscendingNode": "2007-05-04T00:00:00Z",
           "storageStatus": "ONLINE",
           "style": {
            "color": "red"
           },
           "thumbnail": "https://canada-spot-ortho.s3.amazonaws.com/canada_spot_orthoimages/canada_spot5_orthoimages/S5_2007/S5_08059_4507_20070504/s5_08059_4507_20070504_tn.jpg",
           "title": "S5_08059_4507_20070504"
          },
          "type": "Feature"
         },
         {
          "geometry": {
           "coordinates": [
            [
             [
              -82.3604829,
              44.4490351999999
             ],
             [
              -82.1638974,
              44.969530699999915
             ],
             [
              -81.4321473,
              44.82679269999993
             ],
             [
              -81.6351024,
              44.307056199999906
             ],
             [
              -82.3604829,
              44.4490351999999
             ]
            ]
           ],
           "type": "Polygon"
          },
          "id": "S5_08154_4438_20070504",
          "properties": {
           "abstract": null,
           "downloadLink": "https://fake-endpoint/collections/canada_spot5_orthoimages/items/S5_08154_4438_20070504",
           "eo:bands": [
            {
             "common_name": "panchromatic",
             "description": "Panchromatic: 480-710 nm",
             "name": "Panchromatic"
            },
            {
             "common_name": "green",
             "description": "Green: 500-590 nm",
             "name": "Green"
            },
            {
             "common_name": "red",
             "description": "Red: 610-680 nm",
             "name": "Red"
            },
            {
             "common_name": "nir",
             "description": "Near Infrared: 780-890 nm",
             "name": "Near Infrared"
            },
            {
             "common_name": "swir",
             "description": "ShortWave Infrared: 1580-1750 nm",
             "name": "ShortWave Infrared"
            }
           ],
           "eodag_product_type": null,
           "eodag_provider": "stac_http_provider",
           "eodag_search_intersection": {
            "geometries": [],
            "type": "GeometryCollection"
           },
           "instrument": null,
           "license": null,
           "missionStartDate": null,
           "platform": null,
           "platformSerialIdentifier": null,
           "processingLevel": null,
           "productType": "canada_spot5_orthoimages",
           "proj:epsg": 3979,
           "resolution": 20,
           "sensorType": null,
           "startTimeFromAscendingNode": "2007-05-04T00:00:00Z",
           "storageStatus": "ONLINE",
           "style": {
            "color": "red"
           },
           "thumbnail": "https://canada-spot-ortho.s3.amazonaws.com/canada_spot_orthoimages/canada_spot5_orthoimages/S5_2007/S5_08154_4438_20070504/s5_08154_4438_20070504_tn.jpg",
           "title": "S5_08154_4438_20070504"
          },
          "type": "Feature"
         },
         {
          "geometry": {
           "coordinates": [
            [
             [
              -76.24385540000002,
              48.284491499985
             ],
             [
              -76.0261593,
              48.80282719998618
             ],
             [
              -75.24409010000001,
              48.65556529998587
             ],
             [
              -75.4693021,
              48.138179499984645
             ],
             [
              -76.24385540000002,
              48.284491499985
             ]
            ]
           ],
           "type": "Polygon"
          },
          "id": "S5_07545_4828_20070505",
          "properties": {
           "abstract": null,
           "downloadLink": "https://fake-endpoint/collections/canada_spot5_orthoimages/items/S5_07545_4828_20070505",
           "eo:bands": [
            {
             "common_name": "panchromatic",
             "description": "Panchromatic: 480-710 nm",
             "name": "Panchromatic"
            },
            {
             "common_name": "green",
             "description": "Green: 500-590 nm",
             "name": "Green"
            },
            {
             "common_name": "red",
             "description": "Red: 610-680 nm",
             "name": "Red"
            },
            {
             "common_name": "nir",
             "description": "Near Infrared: 780-890 nm",
             "name": "Near Infrared"
            },
            {
             "common_name": "swir",
             "description": "ShortWave Infrared: 1580-1750 nm",
             "name": "ShortWave Infrared"
            }
           ],
           "eodag_product_type": null,
           "eodag_provider": "stac_http_provider",
           "eodag_search_intersection": {
            "geometries": [],
            "type": "GeometryCollection"
           },
           "instrument": null,
           "license": null,
           "missionStartDate": null,
           "platform": null,
           "platformSerialIdentifier": null,
           "processingLevel": null,
           "productType": "canada_spot5_orthoimages",
           "proj:epsg": 3979,
           "resolution": 20,
           "sensorType": null,
           "startTimeFromAscendingNode": "2007-05-05T00:00:00Z",
           "storageStatus": "ONLINE",
           "style": {
            "color": "red"
           },
           "thumbnail": "https://canada-spot-ortho.s3.amazonaws.com/canada_spot_orthoimages/canada_spot5_orthoimages/S5_2007/S5_07545_4828_20070505/s5_07545_4828_20070505_tn.jpg",
           "title": "S5_07545_4828_20070505"
          },
          "type": "Feature"
         },
         {
          "geometry": {
           "coordinates": [
            [
             [
              -75.8416676,
              49.236272499987166
             ],
             [
              -75.6169194,
              49.75401399998823
             ],
             [
              -74.8203005,
              49.60474209998792
             ],
             [
              -75.052923,
              49.08803909998684
             ],
             [
              -75.8416676,
              49.236272499987166
             ]
            ]
           ],
           "type": "Polygon"
          },
          "id": "S5_07520_4925_20070505",
          "properties": {
           "abstract": null,
           "downloadLink": "https://fake-endpoint/collections/canada_spot5_orthoimages/items/S5_07520_4925_20070505",
           "eo:bands": [
            {
             "common_name": "panchromatic",
             "description": "Panchromatic: 480-710 nm",
             "name": "Panchromatic"
            },
            {
             "common_name": "green",
             "description": "Green: 500-590 nm",
             "name": "Green"
            },
            {
             "common_name": "red",
             "description": "Red: 610-680 nm",
             "name": "Red"
            },
            {
             "common_name": "nir",
             "description": "Near Infrared: 780-890 nm",
             "name": "Near Infrared"
            },
            {
             "common_name": "swir",
             "description": "ShortWave Infrared: 1580-1750 nm",
             "name": "ShortWave Infrared"
            }
           ],
           "eodag_product_type": null,
           "eodag_provider": "stac_http_provider",
           "eodag_search_intersection": {
            "geometries": [],
            "type": "GeometryCollection"
           },
           "instrument": null,
           "license": null,
           "missionStartDate": null,
           "platform": null,
           "platformSerialIdentifier": null,
           "processingLevel": null,
           "productType": "canada_spot5_orthoimages",
           "proj:epsg": 3979,
           "resolution": 20,
           "sensorType": null,
           "startTimeFromAscendingNode": "2007-05-05T00:00:00Z",
           "storageStatus": "ONLINE",
           "style": {
            "color": "red"
           },
           "thumbnail": "https://canada-spot-ortho.s3.amazonaws.com/canada_spot_orthoimages/canada_spot5_orthoimages/S5_2007/S5_07520_4925_20070505/s5_07520_4925_20070505_tn.jpg",
           "title": "S5_07520_4925_20070505"
          },
          "type": "Feature"
         },
         {
          "geometry": {
           "coordinates": [
            [
             [
              -82.5399498,
              43.96653589999989
             ],
             [
              -82.3458555,
              44.4875308999999
             ],
             [
              -81.6429288,
              44.34954079999989
             ],
             [
              -81.861012,
              43.83442389999987
             ],
             [
              -82.5399498,
              43.96653589999989
             ]
            ]
           ],
           "type": "Polygon"
          },
          "id": "S5_08205_4409_20070504",
          "properties": {
           "abstract": null,
           "downloadLink": "https://fake-endpoint/collections/canada_spot5_orthoimages/items/S5_08205_4409_20070504",
           "eo:bands": [
            {
             "common_name": "panchromatic",
             "description": "Panchromatic: 480-710 nm",
             "name": "Panchromatic"
            },
            {
             "common_name": "green",
             "description": "Green: 500-590 nm",
             "name": "Green"
            },
            {
             "common_name": "red",
             "description": "Red: 610-680 nm",
             "name": "Red"
            },
            {
             "common_name": "nir",
             "description": "Near Infrared: 780-890 nm",
             "name": "Near Infrared"
            },
            {
             "common_name": "swir",
             "description": "ShortWave Infrared: 1580-1750 nm",
             "name": "ShortWave Infrared"
            }
           ],
           "eodag_product_type": null,
           "eodag_provider": "stac_http_provider",
           "eodag_search_intersection": {
            "geometries": [],
            "type": "GeometryCollection"
           },
           "instrument": null,
           "license": null,
           "missionStartDate": null,
           "platform": null,
           "platformSerialIdentifier": null,
           "processingLevel": null,
           "productType": "canada_spot5_orthoimages",
           "proj:epsg": 3979,
           "resolution": 20,
           "sensorType": null,
           "startTimeFromAscendingNode": "2007-05-04T00:00:00Z",
           "storageStatus": "ONLINE",
           "style": {
            "color": "red"
           },
           "thumbnail": "https://canada-spot-ortho.s3.amazonaws.com/canada_spot_orthoimages/canada_spot5_orthoimages/S5_2007/S5_08205_4409_20070504/s5_08205_4409_20070504_tn.jpg",
           "title": "S5_08205_4409_20070504"
          },
          "type": "Feature"
         },
         {
          "geometry": {
           "coordinates": [
            [
             [
              -134.61285240000004,
              59.90237209999863
             ],
             [
              -134.2436326,
              60.40733679999877
             ],
             [
              -133.2247839,
              60.218067899998715
             ],
             [
              -133.60573870000002,
              59.715175899998535
             ],
             [
              -134.61285240000004,
              59.90237209999863
             ]
            ]
           ],
           "type": "Polygon"
          },
          "id": "S5_13355_6004_20070502",
          "properties": {
           "abstract": null,
           "downloadLink": "https://fake-endpoint/collections/canada_spot5_orthoimages/items/S5_13355_6004_20070502",
           "eo:bands": [
            {
             "common_name": "panchromatic",
             "description": "Panchromatic: 480-710 nm",
             "name": "Panchromatic"
            },
            {
             "common_name": "green",
             "description": "Green: 500-590 nm",
             "name": "Green"
            },
            {
             "common_name": "red",
             "description": "Red: 610-680 nm",
             "name": "Red"
            },
            {
             "common_name": "nir",
             "description": "Near Infrared: 780-890 nm",
             "name": "Near Infrared"
            },
            {
             "common_name": "swir",
             "description": "ShortWave Infrared: 1580-1750 nm",
             "name": "ShortWave Infrared"
            }
           ],
           "eodag_product_type": null,
           "eodag_provider": "stac_http_provider",
           "eodag_search_intersection": {
            "geometries": [],
            "type": "GeometryCollection"
           },
           "instrument": null,
           "license": null,
           "missionStartDate": null,
           "platform": null,
           "platformSerialIdentifier": null,
           "processingLevel": null,
           "productType": "canada_spot5_orthoimages",
           "proj:epsg": 3979,
           "resolution": 20,
           "sensorType": null,
           "startTimeFromAscendingNode": "2007-05-02T00:00:00Z",
           "storageStatus": "ONLINE",
           "style": {
            "color": "red"
           },
           "thumbnail": "https://canada-spot-ortho.s3.amazonaws.com/canada_spot_orthoimages/canada_spot5_orthoimages/S5_2007/S5_13355_6004_20070502/s5_13355_6004_20070502_tn.jpg",
           "title": "S5_13355_6004_20070502"
          },
          "type": "Feature"
         },
         {
          "geometry": {
           "coordinates": [
            [
             [
              -75.8321003,
              47.85693209998394
             ],
             [
              -75.5637798,
              48.363290499985176
             ],
             [
              -74.5776358,
              48.12570679998459
             ],
             [
              -74.8555234,
              47.61966979998332
             ],
             [
              -75.8321003,
              47.85693209998394
             ]
            ]
           ],
           "type": "Polygon"
          },
          "id": "S5_07513_4760_20070504",
          "properties": {
           "abstract": null,
           "downloadLink": "https://fake-endpoint/collections/canada_spot5_orthoimages/items/S5_07513_4760_20070504",
           "eo:bands": [
            {
             "common_name": "panchromatic",
             "description": "Panchromatic: 480-710 nm",
             "name": "Panchromatic"
            },
            {
             "common_name": "green",
             "description": "Green: 500-590 nm",
             "name": "Green"
            },
            {
             "common_name": "red",
             "description": "Red: 610-680 nm",
             "name": "Red"
            },
            {
             "common_name": "nir",
             "description": "Near Infrared: 780-890 nm",
             "name": "Near Infrared"
            },
            {
             "common_name": "swir",
             "description": "ShortWave Infrared: 1580-1750 nm",
             "name": "ShortWave Infrared"
            }
           ],
           "eodag_product_type": null,
           "eodag_provider": "stac_http_provider",
           "eodag_search_intersection": {
            "geometries": [],
            "type": "GeometryCollection"
           },
           "instrument": null,
           "license": null,
           "missionStartDate": null,
           "platform": null,
           "platformSerialIdentifier": null,
           "processingLevel": null,
           "productType": "canada_spot5_orthoimages",
           "proj:epsg": 3979,
           "resolution": 20,
           "sensorType": null,
           "startTimeFromAscendingNode": "2007-05-04T00:00:00Z",
           "storageStatus": "ONLINE",
           "style": {
            "color": "red"
           },
           "thumbnail": "https://canada-spot-ortho.s3.amazonaws.com/canada_spot_orthoimages/canada_spot5_orthoimages/S5_2007/S5_07513_4760_20070504/s5_07513_4760_20070504_tn.jpg",
           "title": "S5_07513_4760_20070504"
          },
          "type": "Feature"
         }
        ],
        "type": "FeatureCollection"
       },
       "name": "",
       "options": [],
       "popup": null,
       "popup_max_height": null,
       "popup_max_width": 300,
       "popup_min_width": 50,
       "style": {
        "color": "red"
       }
      }
     },
     "051c9d4bd11a4b6daf6a7c1840a89e3f": {
      "model_module": "jupyter-leaflet",
      "model_module_version": "^0.13.5",
      "model_name": "LeafletMapStyleModel",
      "state": {
       "_model_module_version": "^0.13.5"
      }
     },
     "05a42956ecc14076a90b7c4c39fdd97d": {
      "model_module": "jupyter-leaflet",
      "model_module_version": "^0.13.5",
      "model_name": "LeafletMapStyleModel",
      "state": {
       "_model_module_version": "^0.13.5"
      }
     },
     "09849fa93caf42c498ed49d839130ef6": {
      "model_module": "@jupyter-widgets/base",
      "model_module_version": "1.2.0",
      "model_name": "LayoutModel",
      "state": {}
     },
     "0c7820f29ece4a24ac08c7ba0e0bf128": {
      "model_module": "jupyter-leaflet",
      "model_module_version": "^0.13.5",
      "model_name": "LeafletMapStyleModel",
      "state": {
       "_model_module_version": "^0.13.5"
      }
     },
     "0d96310cf89a4df8938f4f2d54c830f0": {
      "model_module": "jupyter-leaflet",
      "model_module_version": "^0.13.5",
      "model_name": "LeafletZoomControlModel",
      "state": {
       "_model_module_version": "^0.13.5",
       "_view_module_version": "^0.13.5",
       "options": [
        "position",
        "zoom_in_text",
        "zoom_in_title",
        "zoom_out_text",
        "zoom_out_title"
       ]
      }
     },
     "0f76424c27cc4bfa906a220d280eb9a2": {
      "model_module": "@jupyter-widgets/base",
      "model_module_version": "1.2.0",
      "model_name": "LayoutModel",
      "state": {
       "flex": "2"
      }
     },
     "105573f649194a20959740706d5df88a": {
      "model_module": "jupyter-leaflet",
      "model_module_version": "^0.13.5",
      "model_name": "LeafletZoomControlModel",
      "state": {
       "_model_module_version": "^0.13.5",
       "_view_module_version": "^0.13.5",
       "options": [
        "position",
        "zoom_in_text",
        "zoom_in_title",
        "zoom_out_text",
        "zoom_out_title"
       ]
      }
     },
     "11913f27eaa045d0a4fc9cee28208879": {
      "model_module": "jupyter-leaflet",
      "model_module_version": "^0.13.5",
      "model_name": "LeafletMapModel",
      "state": {
       "_model_module_version": "^0.13.5",
       "_view_module_version": "^0.13.5",
       "bottom": 895,
       "center": [
        50,
        -100
       ],
       "controls": [
        "IPY_MODEL_93ddde96eed44adebb2fa25f2790ae2f",
        "IPY_MODEL_57a8d41893f64fe983842bb997e74792"
       ],
       "default_style": "IPY_MODEL_7f8634ff1af044d89c1c6f8aa188e703",
       "dragging_style": "IPY_MODEL_43251ee5422b4e1081954905e0f88381",
       "east": -15.292968750000002,
       "fullscreen": false,
       "interpolation": "bilinear",
       "layers": [
        "IPY_MODEL_f99ee3b851a04905aa1d74a1532683dd",
        "IPY_MODEL_4c25087eb69147d1bc333f882ea3ab5b",
        "IPY_MODEL_7094df40d20f4b6ea03f45256b504379",
        "IPY_MODEL_78eb52dcdcd045eea781c375b7a4611c"
       ],
       "layout": "IPY_MODEL_5adff6a66e334c31960e4c1d550cb079",
       "left": -26,
       "modisdate": "yesterday",
       "north": 67.676084581981,
       "options": [
        "bounce_at_zoom_limits",
        "box_zoom",
        "center",
        "close_popup_on_click",
        "double_click_zoom",
        "dragging",
        "fullscreen",
        "inertia",
        "inertia_deceleration",
        "inertia_max_speed",
        "interpolation",
        "keyboard",
        "keyboard_pan_offset",
        "keyboard_zoom_offset",
        "max_zoom",
        "min_zoom",
        "scroll_wheel_zoom",
        "tap",
        "tap_tolerance",
        "touch_zoom",
        "world_copy_jump",
        "zoom",
        "zoom_animation_threshold",
        "zoom_delta",
        "zoom_snap",
        "zoom_start"
       ],
       "right": 937,
       "south": 22.105998799750566,
       "style": "IPY_MODEL_051c9d4bd11a4b6daf6a7c1840a89e3f",
       "top": 495,
       "west": -184.57031250000003,
       "window_url": "http://localhost:8888/notebooks/tuto_stac_client.ipynb#",
       "zoom": 3
      }
     },
     "12b0b86a40314af1a9f923ce9627829c": {
      "model_module": "jupyter-leaflet",
      "model_module_version": "^0.13.5",
      "model_name": "LeafletMapModel",
      "state": {
       "_model_module_version": "^0.13.5",
       "_view_module_version": "^0.13.5",
       "bottom": 895,
       "center": [
        50,
        -100
       ],
       "controls": [
        "IPY_MODEL_105573f649194a20959740706d5df88a",
        "IPY_MODEL_2f2f376883e941f58c6920efa14cd460"
       ],
       "default_style": "IPY_MODEL_05a42956ecc14076a90b7c4c39fdd97d",
       "dragging_style": "IPY_MODEL_63d087f58d9d4ee3baf2cda6887d44c6",
       "east": -15.292968750000002,
       "fullscreen": false,
       "interpolation": "bilinear",
       "layers": [
        "IPY_MODEL_a07a2d66656b46d89a532223e6c61ba1",
        "IPY_MODEL_fd8c284051d74c488e4ce890768b986a",
        "IPY_MODEL_9f853992038a445a906a6d042d5f5565",
        "IPY_MODEL_b2b5ec9699ec4a1ca6ab4b5f7fc12956"
       ],
       "layout": "IPY_MODEL_09849fa93caf42c498ed49d839130ef6",
       "left": -26,
       "modisdate": "yesterday",
       "north": 67.676084581981,
       "options": [
        "bounce_at_zoom_limits",
        "box_zoom",
        "center",
        "close_popup_on_click",
        "double_click_zoom",
        "dragging",
        "fullscreen",
        "inertia",
        "inertia_deceleration",
        "inertia_max_speed",
        "interpolation",
        "keyboard",
        "keyboard_pan_offset",
        "keyboard_zoom_offset",
        "max_zoom",
        "min_zoom",
        "scroll_wheel_zoom",
        "tap",
        "tap_tolerance",
        "touch_zoom",
        "world_copy_jump",
        "zoom",
        "zoom_animation_threshold",
        "zoom_delta",
        "zoom_snap",
        "zoom_start"
       ],
       "right": 937,
       "south": 22.105998799750566,
       "style": "IPY_MODEL_af3298d8e0cd4e2e8423995785fddc69",
       "top": 495,
       "west": -184.57031250000003,
       "window_url": "http://localhost:8888/notebooks/tuto_stac_client.ipynb#",
       "zoom": 3
      }
     },
     "1375ede12599499093c979f958db841d": {
      "model_module": "jupyter-leaflet",
      "model_module_version": "^0.13.5",
      "model_name": "LeafletGeoJSONModel",
      "state": {
       "_model_module": "jupyter-leaflet",
       "_model_module_version": "^0.13.5",
       "_view_count": null,
       "_view_module": "jupyter-leaflet",
       "_view_module_version": "^0.13.5",
       "base": false,
       "bottom": false,
       "data": {
        "features": [
         {
          "geometry": {
           "coordinates": [
            [
             [
              -81.82939060000001,
              43.97025879999991
             ],
             [
              -81.6293909,
              44.48955959999991
             ],
             [
              -80.8972191,
              44.341560399999906
             ],
             [
              -81.1035722,
              43.82257309999989
             ],
             [
              -81.82939060000001,
              43.97025879999991
             ]
            ]
           ],
           "type": "Polygon"
          },
          "id": "S5_08122_4409_20070504",
          "properties": {
           "abstract": null,
           "downloadLink": "https://fake-endpoint/collections/canada_spot5_orthoimages/items/S5_08122_4409_20070504",
           "eo:bands": [
            {
             "common_name": "panchromatic",
             "description": "Panchromatic: 480-710 nm",
             "name": "Panchromatic"
            },
            {
             "common_name": "green",
             "description": "Green: 500-590 nm",
             "name": "Green"
            },
            {
             "common_name": "red",
             "description": "Red: 610-680 nm",
             "name": "Red"
            },
            {
             "common_name": "nir",
             "description": "Near Infrared: 780-890 nm",
             "name": "Near Infrared"
            },
            {
             "common_name": "swir",
             "description": "ShortWave Infrared: 1580-1750 nm",
             "name": "ShortWave Infrared"
            }
           ],
           "eodag_product_type": null,
           "eodag_provider": "stac_http_provider",
           "eodag_search_intersection": {
            "geometries": [],
            "type": "GeometryCollection"
           },
           "instrument": null,
           "license": null,
           "missionStartDate": null,
           "platform": null,
           "platformSerialIdentifier": null,
           "processingLevel": null,
           "productType": "canada_spot5_orthoimages",
           "proj:epsg": 3979,
           "resolution": 20,
           "sensorType": null,
           "startTimeFromAscendingNode": "2007-05-04T00:00:00Z",
           "storageStatus": "ONLINE",
           "style": {
            "color": "red"
           },
           "thumbnail": "https://canada-spot-ortho.s3.amazonaws.com/canada_spot_orthoimages/canada_spot5_orthoimages/S5_2007/S5_08122_4409_20070504/s5_08122_4409_20070504_tn.jpg",
           "title": "S5_08122_4409_20070504"
          },
          "type": "Feature"
         },
         {
          "geometry": {
           "coordinates": [
            [
             [
              -85.0273477,
              46.859929499999936
             ],
             [
              -84.8043796,
              47.37592669998269
             ],
             [
              -84.02553680000001,
              47.21757089998226
             ],
             [
              -84.2562465,
              46.70048319999994
             ],
             [
              -85.0273477,
              46.859929499999936
             ]
            ]
           ],
           "type": "Polygon"
          },
          "id": "S5_08432_4702_20070503",
          "properties": {
           "abstract": null,
           "downloadLink": "https://fake-endpoint/collections/canada_spot5_orthoimages/items/S5_08432_4702_20070503",
           "eo:bands": [
            {
             "common_name": "panchromatic",
             "description": "Panchromatic: 480-710 nm",
             "name": "Panchromatic"
            },
            {
             "common_name": "green",
             "description": "Green: 500-590 nm",
             "name": "Green"
            },
            {
             "common_name": "red",
             "description": "Red: 610-680 nm",
             "name": "Red"
            },
            {
             "common_name": "nir",
             "description": "Near Infrared: 780-890 nm",
             "name": "Near Infrared"
            },
            {
             "common_name": "swir",
             "description": "ShortWave Infrared: 1580-1750 nm",
             "name": "ShortWave Infrared"
            }
           ],
           "eodag_product_type": null,
           "eodag_provider": "stac_http_provider",
           "eodag_search_intersection": {
            "geometries": [],
            "type": "GeometryCollection"
           },
           "instrument": null,
           "license": null,
           "missionStartDate": null,
           "platform": null,
           "platformSerialIdentifier": null,
           "processingLevel": null,
           "productType": "canada_spot5_orthoimages",
           "proj:epsg": 3979,
           "resolution": 20,
           "sensorType": null,
           "startTimeFromAscendingNode": "2007-05-03T00:00:00Z",
           "storageStatus": "ONLINE",
           "style": {
            "color": "red"
           },
           "thumbnail": "https://canada-spot-ortho.s3.amazonaws.com/canada_spot_orthoimages/canada_spot5_orthoimages/S5_2007/S5_08432_4702_20070503/s5_08432_4702_20070503_tn.jpg",
           "title": "S5_08432_4702_20070503"
          },
          "type": "Feature"
         },
         {
          "geometry": {
           "coordinates": [
            [
             [
              -82.0128118,
              43.486933699999895
             ],
             [
              -81.8154336,
              44.006646199999906
             ],
             [
              -81.0891217,
              43.85927329999989
             ],
             [
              -81.2926142,
              43.340113799999905
             ],
             [
              -82.0128118,
              43.486933699999895
             ]
            ]
           ],
           "type": "Polygon"
          },
          "id": "S5_08133_4340_20070504",
          "properties": {
           "abstract": null,
           "downloadLink": "https://fake-endpoint/collections/canada_spot5_orthoimages/items/S5_08133_4340_20070504",
           "eo:bands": [
            {
             "common_name": "panchromatic",
             "description": "Panchromatic: 480-710 nm",
             "name": "Panchromatic"
            },
            {
             "common_name": "green",
             "description": "Green: 500-590 nm",
             "name": "Green"
            },
            {
             "common_name": "red",
             "description": "Red: 610-680 nm",
             "name": "Red"
            },
            {
             "common_name": "nir",
             "description": "Near Infrared: 780-890 nm",
             "name": "Near Infrared"
            },
            {
             "common_name": "swir",
             "description": "ShortWave Infrared: 1580-1750 nm",
             "name": "ShortWave Infrared"
            }
           ],
           "eodag_product_type": null,
           "eodag_provider": "stac_http_provider",
           "eodag_search_intersection": {
            "geometries": [],
            "type": "GeometryCollection"
           },
           "instrument": null,
           "license": null,
           "missionStartDate": null,
           "platform": null,
           "platformSerialIdentifier": null,
           "processingLevel": null,
           "productType": "canada_spot5_orthoimages",
           "proj:epsg": 3979,
           "resolution": 20,
           "sensorType": null,
           "startTimeFromAscendingNode": "2007-05-04T00:00:00Z",
           "storageStatus": "ONLINE",
           "style": {
            "color": "red"
           },
           "thumbnail": "https://canada-spot-ortho.s3.amazonaws.com/canada_spot_orthoimages/canada_spot5_orthoimages/S5_2007/S5_08133_4340_20070504/s5_08133_4340_20070504_tn.jpg",
           "title": "S5_08133_4340_20070504"
          },
          "type": "Feature"
         },
         {
          "geometry": {
           "coordinates": [
            [
             [
              -82.1791361,
              44.93104039999991
             ],
             [
              -81.9785331,
              45.45127599999993
             ],
             [
              -81.2418256,
              45.30744029999992
             ],
             [
              -81.4473278,
              44.78835739999991
             ],
             [
              -82.1791361,
              44.93104039999991
             ]
            ]
           ],
           "type": "Polygon"
          },
          "id": "S5_08143_4507_20070504",
          "properties": {
           "abstract": null,
           "downloadLink": "https://fake-endpoint/collections/canada_spot5_orthoimages/items/S5_08143_4507_20070504",
           "eo:bands": [
            {
             "common_name": "panchromatic",
             "description": "Panchromatic: 480-710 nm",
             "name": "Panchromatic"
            },
            {
             "common_name": "green",
             "description": "Green: 500-590 nm",
             "name": "Green"
            },
            {
             "common_name": "red",
             "description": "Red: 610-680 nm",
             "name": "Red"
            },
            {
             "common_name": "nir",
             "description": "Near Infrared: 780-890 nm",
             "name": "Near Infrared"
            },
            {
             "common_name": "swir",
             "description": "ShortWave Infrared: 1580-1750 nm",
             "name": "ShortWave Infrared"
            }
           ],
           "eodag_product_type": null,
           "eodag_provider": "stac_http_provider",
           "eodag_search_intersection": {
            "geometries": [],
            "type": "GeometryCollection"
           },
           "instrument": null,
           "license": null,
           "missionStartDate": null,
           "platform": null,
           "platformSerialIdentifier": null,
           "processingLevel": null,
           "productType": "canada_spot5_orthoimages",
           "proj:epsg": 3979,
           "resolution": 20,
           "sensorType": null,
           "startTimeFromAscendingNode": "2007-05-04T00:00:00Z",
           "storageStatus": "ONLINE",
           "style": {
            "color": "red"
           },
           "thumbnail": "https://canada-spot-ortho.s3.amazonaws.com/canada_spot_orthoimages/canada_spot5_orthoimages/S5_2007/S5_08143_4507_20070504/s5_08143_4507_20070504_tn.jpg",
           "title": "S5_08143_4507_20070504"
          },
          "type": "Feature"
         },
         {
          "geometry": {
           "coordinates": [
            [
             [
              -82.19413800000001,
              43.002897899999866
             ],
             [
              -81.9983011,
              43.52332569999988
             ],
             [
              -81.2782497,
              43.3766073999999
             ],
             [
              -81.4785564,
              42.85763319999989
             ],
             [
              -82.19413800000001,
              43.002897899999866
             ]
            ]
           ],
           "type": "Polygon"
          },
          "id": "S5_08144_4311_20070504",
          "properties": {
           "abstract": null,
           "downloadLink": "https://fake-endpoint/collections/canada_spot5_orthoimages/items/S5_08144_4311_20070504",
           "eo:bands": [
            {
             "common_name": "panchromatic",
             "description": "Panchromatic: 480-710 nm",
             "name": "Panchromatic"
            },
            {
             "common_name": "green",
             "description": "Green: 500-590 nm",
             "name": "Green"
            },
            {
             "common_name": "red",
             "description": "Red: 610-680 nm",
             "name": "Red"
            },
            {
             "common_name": "nir",
             "description": "Near Infrared: 780-890 nm",
             "name": "Near Infrared"
            },
            {
             "common_name": "swir",
             "description": "ShortWave Infrared: 1580-1750 nm",
             "name": "ShortWave Infrared"
            }
           ],
           "eodag_product_type": null,
           "eodag_provider": "stac_http_provider",
           "eodag_search_intersection": {
            "geometries": [],
            "type": "GeometryCollection"
           },
           "instrument": null,
           "license": null,
           "missionStartDate": null,
           "platform": null,
           "platformSerialIdentifier": null,
           "processingLevel": null,
           "productType": "canada_spot5_orthoimages",
           "proj:epsg": 3979,
           "resolution": 20,
           "sensorType": null,
           "startTimeFromAscendingNode": "2007-05-04T00:00:00Z",
           "storageStatus": "ONLINE",
           "style": {
            "color": "red"
           },
           "thumbnail": "https://canada-spot-ortho.s3.amazonaws.com/canada_spot_orthoimages/canada_spot5_orthoimages/S5_2007/S5_08144_4311_20070504/s5_08144_4311_20070504_tn.jpg",
           "title": "S5_08144_4311_20070504"
          },
          "type": "Feature"
         },
         {
          "geometry": {
           "coordinates": [
            [
             [
              -75.635484,
              49.71080699998813
             ],
             [
              -75.4077832,
              50.22914529998913
             ],
             [
              -74.6039477,
              50.07893649998885
             ],
             [
              -74.839718,
              49.562025099987835
             ],
             [
              -75.635484,
              49.71080699998813
             ]
            ]
           ],
           "type": "Polygon"
          },
          "id": "S5_07507_4954_20070505",
          "properties": {
           "abstract": null,
           "downloadLink": "https://fake-endpoint/collections/canada_spot5_orthoimages/items/S5_07507_4954_20070505",
           "eo:bands": [
            {
             "common_name": "panchromatic",
             "description": "Panchromatic: 480-710 nm",
             "name": "Panchromatic"
            },
            {
             "common_name": "green",
             "description": "Green: 500-590 nm",
             "name": "Green"
            },
            {
             "common_name": "red",
             "description": "Red: 610-680 nm",
             "name": "Red"
            },
            {
             "common_name": "nir",
             "description": "Near Infrared: 780-890 nm",
             "name": "Near Infrared"
            },
            {
             "common_name": "swir",
             "description": "ShortWave Infrared: 1580-1750 nm",
             "name": "ShortWave Infrared"
            }
           ],
           "eodag_product_type": null,
           "eodag_provider": "stac_http_provider",
           "eodag_search_intersection": {
            "geometries": [],
            "type": "GeometryCollection"
           },
           "instrument": null,
           "license": null,
           "missionStartDate": null,
           "platform": null,
           "platformSerialIdentifier": null,
           "processingLevel": null,
           "productType": "canada_spot5_orthoimages",
           "proj:epsg": 3979,
           "resolution": 20,
           "sensorType": null,
           "startTimeFromAscendingNode": "2007-05-05T00:00:00Z",
           "storageStatus": "ONLINE",
           "style": {
            "color": "red"
           },
           "thumbnail": "https://canada-spot-ortho.s3.amazonaws.com/canada_spot_orthoimages/canada_spot5_orthoimages/S5_2007/S5_07507_4954_20070505/s5_07507_4954_20070505_tn.jpg",
           "title": "S5_07507_4954_20070505"
          },
          "type": "Feature"
         },
         {
          "geometry": {
           "coordinates": [
            [
             [
              -77.5086458,
              45.89066339999992
             ],
             [
              -77.3097434,
              46.411011399999936
             ],
             [
              -76.56018450000002,
              46.27010199999995
             ],
             [
              -76.766165,
              45.75074559999991
             ],
             [
              -77.5086458,
              45.89066339999992
             ]
            ]
           ],
           "type": "Polygon"
          },
          "id": "S5_07702_4605_20070505",
          "properties": {
           "abstract": null,
           "downloadLink": "https://fake-endpoint/collections/canada_spot5_orthoimages/items/S5_07702_4605_20070505",
           "eo:bands": [
            {
             "common_name": "panchromatic",
             "description": "Panchromatic: 480-710 nm",
             "name": "Panchromatic"
            },
            {
             "common_name": "green",
             "description": "Green: 500-590 nm",
             "name": "Green"
            },
            {
             "common_name": "red",
             "description": "Red: 610-680 nm",
             "name": "Red"
            },
            {
             "common_name": "nir",
             "description": "Near Infrared: 780-890 nm",
             "name": "Near Infrared"
            },
            {
             "common_name": "swir",
             "description": "ShortWave Infrared: 1580-1750 nm",
             "name": "ShortWave Infrared"
            }
           ],
           "eodag_product_type": null,
           "eodag_provider": "stac_http_provider",
           "eodag_search_intersection": {
            "geometries": [],
            "type": "GeometryCollection"
           },
           "instrument": null,
           "license": null,
           "missionStartDate": null,
           "platform": null,
           "platformSerialIdentifier": null,
           "processingLevel": null,
           "productType": "canada_spot5_orthoimages",
           "proj:epsg": 3979,
           "resolution": 20,
           "sensorType": null,
           "startTimeFromAscendingNode": "2007-05-05T00:00:00Z",
           "storageStatus": "ONLINE",
           "style": {
            "color": "red"
           },
           "thumbnail": "https://canada-spot-ortho.s3.amazonaws.com/canada_spot_orthoimages/canada_spot5_orthoimages/S5_2007/S5_07702_4605_20070505/s5_07702_4605_20070505_tn.jpg",
           "title": "S5_07702_4605_20070505"
          },
          "type": "Feature"
         },
         {
          "geometry": {
           "coordinates": [
            [
             [
              -77.6897149,
              45.41003529999992
             ],
             [
              -77.493466,
              45.93058879999993
             ],
             [
              -76.7514935,
              45.790705999999915
             ],
             [
              -76.9536275,
              45.27084659999991
             ],
             [
              -77.6897149,
              45.41003529999992
             ]
            ]
           ],
           "type": "Polygon"
          },
          "id": "S5_07713_4536_20070505",
          "properties": {
           "abstract": null,
           "downloadLink": "https://fake-endpoint/collections/canada_spot5_orthoimages/items/S5_07713_4536_20070505",
           "eo:bands": [
            {
             "common_name": "panchromatic",
             "description": "Panchromatic: 480-710 nm",
             "name": "Panchromatic"
            },
            {
             "common_name": "green",
             "description": "Green: 500-590 nm",
             "name": "Green"
            },
            {
             "common_name": "red",
             "description": "Red: 610-680 nm",
             "name": "Red"
            },
            {
             "common_name": "nir",
             "description": "Near Infrared: 780-890 nm",
             "name": "Near Infrared"
            },
            {
             "common_name": "swir",
             "description": "ShortWave Infrared: 1580-1750 nm",
             "name": "ShortWave Infrared"
            }
           ],
           "eodag_product_type": null,
           "eodag_provider": "stac_http_provider",
           "eodag_search_intersection": {
            "geometries": [],
            "type": "GeometryCollection"
           },
           "instrument": null,
           "license": null,
           "missionStartDate": null,
           "platform": null,
           "platformSerialIdentifier": null,
           "processingLevel": null,
           "productType": "canada_spot5_orthoimages",
           "proj:epsg": 3979,
           "resolution": 20,
           "sensorType": null,
           "startTimeFromAscendingNode": "2007-05-05T00:00:00Z",
           "storageStatus": "ONLINE",
           "style": {
            "color": "red"
           },
           "thumbnail": "https://canada-spot-ortho.s3.amazonaws.com/canada_spot_orthoimages/canada_spot5_orthoimages/S5_2007/S5_07713_4536_20070505/s5_07713_4536_20070505_tn.jpg",
           "title": "S5_07713_4536_20070505"
          },
          "type": "Feature"
         },
         {
          "geometry": {
           "coordinates": [
            [
             [
              -84.9345337,
              48.765304799986104
             ],
             [
              -84.7042059,
              49.282367799987256
             ],
             [
              -83.9089622,
              49.126539399986925
             ],
             [
              -84.1474371,
              48.61051919998576
             ],
             [
              -84.9345337,
              48.765304799986104
             ]
            ]
           ],
           "type": "Polygon"
          },
          "id": "S5_08426_4857_20070503",
          "properties": {
           "abstract": null,
           "downloadLink": "https://fake-endpoint/collections/canada_spot5_orthoimages/items/S5_08426_4857_20070503",
           "eo:bands": [
            {
             "common_name": "panchromatic",
             "description": "Panchromatic: 480-710 nm",
             "name": "Panchromatic"
            },
            {
             "common_name": "green",
             "description": "Green: 500-590 nm",
             "name": "Green"
            },
            {
             "common_name": "red",
             "description": "Red: 610-680 nm",
             "name": "Red"
            },
            {
             "common_name": "nir",
             "description": "Near Infrared: 780-890 nm",
             "name": "Near Infrared"
            },
            {
             "common_name": "swir",
             "description": "ShortWave Infrared: 1580-1750 nm",
             "name": "ShortWave Infrared"
            }
           ],
           "eodag_product_type": null,
           "eodag_provider": "stac_http_provider",
           "eodag_search_intersection": {
            "geometries": [],
            "type": "GeometryCollection"
           },
           "instrument": null,
           "license": null,
           "missionStartDate": null,
           "platform": null,
           "platformSerialIdentifier": null,
           "processingLevel": null,
           "productType": "canada_spot5_orthoimages",
           "proj:epsg": 3979,
           "resolution": 20,
           "sensorType": null,
           "startTimeFromAscendingNode": "2007-05-03T00:00:00Z",
           "storageStatus": "ONLINE",
           "style": {
            "color": "red"
           },
           "thumbnail": "https://canada-spot-ortho.s3.amazonaws.com/canada_spot_orthoimages/canada_spot5_orthoimages/S5_2007/S5_08426_4857_20070503/s5_08426_4857_20070503_tn.jpg",
           "title": "S5_08426_4857_20070503"
          },
          "type": "Feature"
         },
         {
          "geometry": {
           "coordinates": [
            [
             [
              -84.8206206,
              47.3379771999826
             ],
             [
              -84.59384510000001,
              47.85419849998393
             ],
             [
              -83.8084865,
              47.69434859998355
             ],
             [
              -84.0433223,
              47.17892369998218
             ],
             [
              -84.8206206,
              47.3379771999826
             ]
            ]
           ],
           "type": "Polygon"
          },
          "id": "S5_08419_4731_20070503",
          "properties": {
           "abstract": null,
           "downloadLink": "https://fake-endpoint/collections/canada_spot5_orthoimages/items/S5_08419_4731_20070503",
           "eo:bands": [
            {
             "common_name": "panchromatic",
             "description": "Panchromatic: 480-710 nm",
             "name": "Panchromatic"
            },
            {
             "common_name": "green",
             "description": "Green: 500-590 nm",
             "name": "Green"
            },
            {
             "common_name": "red",
             "description": "Red: 610-680 nm",
             "name": "Red"
            },
            {
             "common_name": "nir",
             "description": "Near Infrared: 780-890 nm",
             "name": "Near Infrared"
            },
            {
             "common_name": "swir",
             "description": "ShortWave Infrared: 1580-1750 nm",
             "name": "ShortWave Infrared"
            }
           ],
           "eodag_product_type": null,
           "eodag_provider": "stac_http_provider",
           "eodag_search_intersection": {
            "geometries": [],
            "type": "GeometryCollection"
           },
           "instrument": null,
           "license": null,
           "missionStartDate": null,
           "platform": null,
           "platformSerialIdentifier": null,
           "processingLevel": null,
           "productType": "canada_spot5_orthoimages",
           "proj:epsg": 3979,
           "resolution": 20,
           "sensorType": null,
           "startTimeFromAscendingNode": "2007-05-03T00:00:00Z",
           "storageStatus": "ONLINE",
           "style": {
            "color": "red"
           },
           "thumbnail": "https://canada-spot-ortho.s3.amazonaws.com/canada_spot_orthoimages/canada_spot5_orthoimages/S5_2007/S5_08419_4731_20070503/s5_08419_4731_20070503_tn.jpg",
           "title": "S5_08419_4731_20070503"
          },
          "type": "Feature"
         },
         {
          "geometry": {
           "coordinates": [
            [
             [
              -77.8688576,
              44.92858479999993
             ],
             [
              -77.6751065,
              45.44990809999991
             ],
             [
              -76.9381127,
              45.3104741999999
             ],
             [
              -77.13831010000001,
              44.790157899999905
             ],
             [
              -77.8688576,
              44.92858479999993
             ]
            ]
           ],
           "type": "Polygon"
          },
          "id": "S5_07724_4507_20070505",
          "properties": {
           "abstract": null,
           "downloadLink": "https://fake-endpoint/collections/canada_spot5_orthoimages/items/S5_07724_4507_20070505",
           "eo:bands": [
            {
             "common_name": "panchromatic",
             "description": "Panchromatic: 480-710 nm",
             "name": "Panchromatic"
            },
            {
             "common_name": "green",
             "description": "Green: 500-590 nm",
             "name": "Green"
            },
            {
             "common_name": "red",
             "description": "Red: 610-680 nm",
             "name": "Red"
            },
            {
             "common_name": "nir",
             "description": "Near Infrared: 780-890 nm",
             "name": "Near Infrared"
            },
            {
             "common_name": "swir",
             "description": "ShortWave Infrared: 1580-1750 nm",
             "name": "ShortWave Infrared"
            }
           ],
           "eodag_product_type": null,
           "eodag_provider": "stac_http_provider",
           "eodag_search_intersection": {
            "geometries": [],
            "type": "GeometryCollection"
           },
           "instrument": null,
           "license": null,
           "missionStartDate": null,
           "platform": null,
           "platformSerialIdentifier": null,
           "processingLevel": null,
           "productType": "canada_spot5_orthoimages",
           "proj:epsg": 3979,
           "resolution": 20,
           "sensorType": null,
           "startTimeFromAscendingNode": "2007-05-05T00:00:00Z",
           "storageStatus": "ONLINE",
           "style": {
            "color": "red"
           },
           "thumbnail": "https://canada-spot-ortho.s3.amazonaws.com/canada_spot_orthoimages/canada_spot5_orthoimages/S5_2007/S5_07724_4507_20070505/s5_07724_4507_20070505_tn.jpg",
           "title": "S5_07724_4507_20070505"
          },
          "type": "Feature"
         },
         {
          "geometry": {
           "coordinates": [
            [
             [
              -86.1595605,
              49.23422629998713
             ],
             [
              -85.9407614,
              49.7529022999882
             ],
             [
              -85.1419636,
              49.60717919998791
             ],
             [
              -85.3685313,
              49.08959189998682
             ],
             [
              -86.1595605,
              49.23422629998713
             ]
            ]
           ],
           "type": "Polygon"
          },
          "id": "S5_08539_4925_20070503",
          "properties": {
           "abstract": null,
           "downloadLink": "https://fake-endpoint/collections/canada_spot5_orthoimages/items/S5_08539_4925_20070503",
           "eo:bands": [
            {
             "common_name": "panchromatic",
             "description": "Panchromatic: 480-710 nm",
             "name": "Panchromatic"
            },
            {
             "common_name": "green",
             "description": "Green: 500-590 nm",
             "name": "Green"
            },
            {
             "common_name": "red",
             "description": "Red: 610-680 nm",
             "name": "Red"
            },
            {
             "common_name": "nir",
             "description": "Near Infrared: 780-890 nm",
             "name": "Near Infrared"
            },
            {
             "common_name": "swir",
             "description": "ShortWave Infrared: 1580-1750 nm",
             "name": "ShortWave Infrared"
            }
           ],
           "eodag_product_type": null,
           "eodag_provider": "stac_http_provider",
           "eodag_search_intersection": {
            "geometries": [],
            "type": "GeometryCollection"
           },
           "instrument": null,
           "license": null,
           "missionStartDate": null,
           "platform": null,
           "platformSerialIdentifier": null,
           "processingLevel": null,
           "productType": "canada_spot5_orthoimages",
           "proj:epsg": 3979,
           "resolution": 20,
           "sensorType": null,
           "startTimeFromAscendingNode": "2007-05-03T00:00:00Z",
           "storageStatus": "ONLINE",
           "style": {
            "color": "red"
           },
           "thumbnail": "https://canada-spot-ortho.s3.amazonaws.com/canada_spot_orthoimages/canada_spot5_orthoimages/S5_2007/S5_08539_4925_20070503/s5_08539_4925_20070503_tn.jpg",
           "title": "S5_08539_4925_20070503"
          },
          "type": "Feature"
         },
         {
          "geometry": {
           "coordinates": [
            [
             [
              -81.4555888,
              44.9349105999999
             ],
             [
              -81.2491542,
              45.45280749999993
             ],
             [
              -80.5044075,
              45.30292019999991
             ],
             [
              -80.7183832,
              44.78516229999991
             ],
             [
              -81.4555888,
              44.9349105999999
             ]
            ]
           ],
           "type": "Polygon"
          },
          "id": "S5_08059_4507_20070504",
          "properties": {
           "abstract": null,
           "downloadLink": "https://fake-endpoint/collections/canada_spot5_orthoimages/items/S5_08059_4507_20070504",
           "eo:bands": [
            {
             "common_name": "panchromatic",
             "description": "Panchromatic: 480-710 nm",
             "name": "Panchromatic"
            },
            {
             "common_name": "green",
             "description": "Green: 500-590 nm",
             "name": "Green"
            },
            {
             "common_name": "red",
             "description": "Red: 610-680 nm",
             "name": "Red"
            },
            {
             "common_name": "nir",
             "description": "Near Infrared: 780-890 nm",
             "name": "Near Infrared"
            },
            {
             "common_name": "swir",
             "description": "ShortWave Infrared: 1580-1750 nm",
             "name": "ShortWave Infrared"
            }
           ],
           "eodag_product_type": null,
           "eodag_provider": "stac_http_provider",
           "eodag_search_intersection": {
            "geometries": [],
            "type": "GeometryCollection"
           },
           "instrument": null,
           "license": null,
           "missionStartDate": null,
           "platform": null,
           "platformSerialIdentifier": null,
           "processingLevel": null,
           "productType": "canada_spot5_orthoimages",
           "proj:epsg": 3979,
           "resolution": 20,
           "sensorType": null,
           "startTimeFromAscendingNode": "2007-05-04T00:00:00Z",
           "storageStatus": "ONLINE",
           "style": {
            "color": "red"
           },
           "thumbnail": "https://canada-spot-ortho.s3.amazonaws.com/canada_spot_orthoimages/canada_spot5_orthoimages/S5_2007/S5_08059_4507_20070504/s5_08059_4507_20070504_tn.jpg",
           "title": "S5_08059_4507_20070504"
          },
          "type": "Feature"
         },
         {
          "geometry": {
           "coordinates": [
            [
             [
              -81.6437402,
              44.45305149999991
             ],
             [
              -81.440283,
              44.97205759999991
             ],
             [
              -80.70280270000002,
              44.82283499999992
             ],
             [
              -80.91258470000001,
              44.304634199999924
             ],
             [
              -81.6437402,
              44.45305149999991
             ]
            ]
           ],
           "type": "Polygon"
          },
          "id": "S5_08111_4438_20070504",
          "properties": {
           "abstract": null,
           "downloadLink": "https://fake-endpoint/collections/canada_spot5_orthoimages/items/S5_08111_4438_20070504",
           "eo:bands": [
            {
             "common_name": "panchromatic",
             "description": "Panchromatic: 480-710 nm",
             "name": "Panchromatic"
            },
            {
             "common_name": "green",
             "description": "Green: 500-590 nm",
             "name": "Green"
            },
            {
             "common_name": "red",
             "description": "Red: 610-680 nm",
             "name": "Red"
            },
            {
             "common_name": "nir",
             "description": "Near Infrared: 780-890 nm",
             "name": "Near Infrared"
            },
            {
             "common_name": "swir",
             "description": "ShortWave Infrared: 1580-1750 nm",
             "name": "ShortWave Infrared"
            }
           ],
           "eodag_product_type": null,
           "eodag_provider": "stac_http_provider",
           "eodag_search_intersection": {
            "geometries": [],
            "type": "GeometryCollection"
           },
           "instrument": null,
           "license": null,
           "missionStartDate": null,
           "platform": null,
           "platformSerialIdentifier": null,
           "processingLevel": null,
           "productType": "canada_spot5_orthoimages",
           "proj:epsg": 3979,
           "resolution": 20,
           "sensorType": null,
           "startTimeFromAscendingNode": "2007-05-04T00:00:00Z",
           "storageStatus": "ONLINE",
           "style": {
            "color": "red"
           },
           "thumbnail": "https://canada-spot-ortho.s3.amazonaws.com/canada_spot_orthoimages/canada_spot5_orthoimages/S5_2007/S5_08111_4438_20070504/s5_08111_4438_20070504_tn.jpg",
           "title": "S5_08111_4438_20070504"
          },
          "type": "Feature"
         },
         {
          "geometry": {
           "coordinates": [
            [
             [
              -85.1430113,
              48.28905129998501
             ],
             [
              -84.9162353,
              48.80620119998619
             ],
             [
              -84.1287318,
              48.65145419998586
             ],
             [
              -84.3634894,
              48.135371299984634
             ],
             [
              -85.1430113,
              48.28905129998501
             ]
            ]
           ],
           "type": "Polygon"
          },
          "id": "S5_08438_4828_20070503",
          "properties": {
           "abstract": null,
           "downloadLink": "https://fake-endpoint/collections/canada_spot5_orthoimages/items/S5_08438_4828_20070503",
           "eo:bands": [
            {
             "common_name": "panchromatic",
             "description": "Panchromatic: 480-710 nm",
             "name": "Panchromatic"
            },
            {
             "common_name": "green",
             "description": "Green: 500-590 nm",
             "name": "Green"
            },
            {
             "common_name": "red",
             "description": "Red: 610-680 nm",
             "name": "Red"
            },
            {
             "common_name": "nir",
             "description": "Near Infrared: 780-890 nm",
             "name": "Near Infrared"
            },
            {
             "common_name": "swir",
             "description": "ShortWave Infrared: 1580-1750 nm",
             "name": "ShortWave Infrared"
            }
           ],
           "eodag_product_type": null,
           "eodag_provider": "stac_http_provider",
           "eodag_search_intersection": {
            "geometries": [],
            "type": "GeometryCollection"
           },
           "instrument": null,
           "license": null,
           "missionStartDate": null,
           "platform": null,
           "platformSerialIdentifier": null,
           "processingLevel": null,
           "productType": "canada_spot5_orthoimages",
           "proj:epsg": 3979,
           "resolution": 20,
           "sensorType": null,
           "startTimeFromAscendingNode": "2007-05-03T00:00:00Z",
           "storageStatus": "ONLINE",
           "style": {
            "color": "red"
           },
           "thumbnail": "https://canada-spot-ortho.s3.amazonaws.com/canada_spot_orthoimages/canada_spot5_orthoimages/S5_2007/S5_08438_4828_20070503/s5_08438_4828_20070503_tn.jpg",
           "title": "S5_08438_4828_20070503"
          },
          "type": "Feature"
         },
         {
          "geometry": {
           "coordinates": [
            [
             [
              -82.3604829,
              44.4490351999999
             ],
             [
              -82.1638974,
              44.969530699999915
             ],
             [
              -81.4321473,
              44.82679269999993
             ],
             [
              -81.6351024,
              44.307056199999906
             ],
             [
              -82.3604829,
              44.4490351999999
             ]
            ]
           ],
           "type": "Polygon"
          },
          "id": "S5_08154_4438_20070504",
          "properties": {
           "abstract": null,
           "downloadLink": "https://fake-endpoint/collections/canada_spot5_orthoimages/items/S5_08154_4438_20070504",
           "eo:bands": [
            {
             "common_name": "panchromatic",
             "description": "Panchromatic: 480-710 nm",
             "name": "Panchromatic"
            },
            {
             "common_name": "green",
             "description": "Green: 500-590 nm",
             "name": "Green"
            },
            {
             "common_name": "red",
             "description": "Red: 610-680 nm",
             "name": "Red"
            },
            {
             "common_name": "nir",
             "description": "Near Infrared: 780-890 nm",
             "name": "Near Infrared"
            },
            {
             "common_name": "swir",
             "description": "ShortWave Infrared: 1580-1750 nm",
             "name": "ShortWave Infrared"
            }
           ],
           "eodag_product_type": null,
           "eodag_provider": "stac_http_provider",
           "eodag_search_intersection": {
            "geometries": [],
            "type": "GeometryCollection"
           },
           "instrument": null,
           "license": null,
           "missionStartDate": null,
           "platform": null,
           "platformSerialIdentifier": null,
           "processingLevel": null,
           "productType": "canada_spot5_orthoimages",
           "proj:epsg": 3979,
           "resolution": 20,
           "sensorType": null,
           "startTimeFromAscendingNode": "2007-05-04T00:00:00Z",
           "storageStatus": "ONLINE",
           "style": {
            "color": "red"
           },
           "thumbnail": "https://canada-spot-ortho.s3.amazonaws.com/canada_spot_orthoimages/canada_spot5_orthoimages/S5_2007/S5_08154_4438_20070504/s5_08154_4438_20070504_tn.jpg",
           "title": "S5_08154_4438_20070504"
          },
          "type": "Feature"
         },
         {
          "geometry": {
           "coordinates": [
            [
             [
              -76.24385540000002,
              48.284491499985
             ],
             [
              -76.0261593,
              48.80282719998618
             ],
             [
              -75.24409010000001,
              48.65556529998587
             ],
             [
              -75.4693021,
              48.138179499984645
             ],
             [
              -76.24385540000002,
              48.284491499985
             ]
            ]
           ],
           "type": "Polygon"
          },
          "id": "S5_07545_4828_20070505",
          "properties": {
           "abstract": null,
           "downloadLink": "https://fake-endpoint/collections/canada_spot5_orthoimages/items/S5_07545_4828_20070505",
           "eo:bands": [
            {
             "common_name": "panchromatic",
             "description": "Panchromatic: 480-710 nm",
             "name": "Panchromatic"
            },
            {
             "common_name": "green",
             "description": "Green: 500-590 nm",
             "name": "Green"
            },
            {
             "common_name": "red",
             "description": "Red: 610-680 nm",
             "name": "Red"
            },
            {
             "common_name": "nir",
             "description": "Near Infrared: 780-890 nm",
             "name": "Near Infrared"
            },
            {
             "common_name": "swir",
             "description": "ShortWave Infrared: 1580-1750 nm",
             "name": "ShortWave Infrared"
            }
           ],
           "eodag_product_type": null,
           "eodag_provider": "stac_http_provider",
           "eodag_search_intersection": {
            "geometries": [],
            "type": "GeometryCollection"
           },
           "instrument": null,
           "license": null,
           "missionStartDate": null,
           "platform": null,
           "platformSerialIdentifier": null,
           "processingLevel": null,
           "productType": "canada_spot5_orthoimages",
           "proj:epsg": 3979,
           "resolution": 20,
           "sensorType": null,
           "startTimeFromAscendingNode": "2007-05-05T00:00:00Z",
           "storageStatus": "ONLINE",
           "style": {
            "color": "red"
           },
           "thumbnail": "https://canada-spot-ortho.s3.amazonaws.com/canada_spot_orthoimages/canada_spot5_orthoimages/S5_2007/S5_07545_4828_20070505/s5_07545_4828_20070505_tn.jpg",
           "title": "S5_07545_4828_20070505"
          },
          "type": "Feature"
         },
         {
          "geometry": {
           "coordinates": [
            [
             [
              -75.8416676,
              49.236272499987166
             ],
             [
              -75.6169194,
              49.75401399998823
             ],
             [
              -74.8203005,
              49.60474209998792
             ],
             [
              -75.052923,
              49.08803909998684
             ],
             [
              -75.8416676,
              49.236272499987166
             ]
            ]
           ],
           "type": "Polygon"
          },
          "id": "S5_07520_4925_20070505",
          "properties": {
           "abstract": null,
           "downloadLink": "https://fake-endpoint/collections/canada_spot5_orthoimages/items/S5_07520_4925_20070505",
           "eo:bands": [
            {
             "common_name": "panchromatic",
             "description": "Panchromatic: 480-710 nm",
             "name": "Panchromatic"
            },
            {
             "common_name": "green",
             "description": "Green: 500-590 nm",
             "name": "Green"
            },
            {
             "common_name": "red",
             "description": "Red: 610-680 nm",
             "name": "Red"
            },
            {
             "common_name": "nir",
             "description": "Near Infrared: 780-890 nm",
             "name": "Near Infrared"
            },
            {
             "common_name": "swir",
             "description": "ShortWave Infrared: 1580-1750 nm",
             "name": "ShortWave Infrared"
            }
           ],
           "eodag_product_type": null,
           "eodag_provider": "stac_http_provider",
           "eodag_search_intersection": {
            "geometries": [],
            "type": "GeometryCollection"
           },
           "instrument": null,
           "license": null,
           "missionStartDate": null,
           "platform": null,
           "platformSerialIdentifier": null,
           "processingLevel": null,
           "productType": "canada_spot5_orthoimages",
           "proj:epsg": 3979,
           "resolution": 20,
           "sensorType": null,
           "startTimeFromAscendingNode": "2007-05-05T00:00:00Z",
           "storageStatus": "ONLINE",
           "style": {
            "color": "red"
           },
           "thumbnail": "https://canada-spot-ortho.s3.amazonaws.com/canada_spot_orthoimages/canada_spot5_orthoimages/S5_2007/S5_07520_4925_20070505/s5_07520_4925_20070505_tn.jpg",
           "title": "S5_07520_4925_20070505"
          },
          "type": "Feature"
         },
         {
          "geometry": {
           "coordinates": [
            [
             [
              -82.5399498,
              43.96653589999989
             ],
             [
              -82.3458555,
              44.4875308999999
             ],
             [
              -81.6429288,
              44.34954079999989
             ],
             [
              -81.861012,
              43.83442389999987
             ],
             [
              -82.5399498,
              43.96653589999989
             ]
            ]
           ],
           "type": "Polygon"
          },
          "id": "S5_08205_4409_20070504",
          "properties": {
           "abstract": null,
           "downloadLink": "https://fake-endpoint/collections/canada_spot5_orthoimages/items/S5_08205_4409_20070504",
           "eo:bands": [
            {
             "common_name": "panchromatic",
             "description": "Panchromatic: 480-710 nm",
             "name": "Panchromatic"
            },
            {
             "common_name": "green",
             "description": "Green: 500-590 nm",
             "name": "Green"
            },
            {
             "common_name": "red",
             "description": "Red: 610-680 nm",
             "name": "Red"
            },
            {
             "common_name": "nir",
             "description": "Near Infrared: 780-890 nm",
             "name": "Near Infrared"
            },
            {
             "common_name": "swir",
             "description": "ShortWave Infrared: 1580-1750 nm",
             "name": "ShortWave Infrared"
            }
           ],
           "eodag_product_type": null,
           "eodag_provider": "stac_http_provider",
           "eodag_search_intersection": {
            "geometries": [],
            "type": "GeometryCollection"
           },
           "instrument": null,
           "license": null,
           "missionStartDate": null,
           "platform": null,
           "platformSerialIdentifier": null,
           "processingLevel": null,
           "productType": "canada_spot5_orthoimages",
           "proj:epsg": 3979,
           "resolution": 20,
           "sensorType": null,
           "startTimeFromAscendingNode": "2007-05-04T00:00:00Z",
           "storageStatus": "ONLINE",
           "style": {
            "color": "red"
           },
           "thumbnail": "https://canada-spot-ortho.s3.amazonaws.com/canada_spot_orthoimages/canada_spot5_orthoimages/S5_2007/S5_08205_4409_20070504/s5_08205_4409_20070504_tn.jpg",
           "title": "S5_08205_4409_20070504"
          },
          "type": "Feature"
         },
         {
          "geometry": {
           "coordinates": [
            [
             [
              -134.61285240000004,
              59.90237209999863
             ],
             [
              -134.2436326,
              60.40733679999877
             ],
             [
              -133.2247839,
              60.218067899998715
             ],
             [
              -133.60573870000002,
              59.715175899998535
             ],
             [
              -134.61285240000004,
              59.90237209999863
             ]
            ]
           ],
           "type": "Polygon"
          },
          "id": "S5_13355_6004_20070502",
          "properties": {
           "abstract": null,
           "downloadLink": "https://fake-endpoint/collections/canada_spot5_orthoimages/items/S5_13355_6004_20070502",
           "eo:bands": [
            {
             "common_name": "panchromatic",
             "description": "Panchromatic: 480-710 nm",
             "name": "Panchromatic"
            },
            {
             "common_name": "green",
             "description": "Green: 500-590 nm",
             "name": "Green"
            },
            {
             "common_name": "red",
             "description": "Red: 610-680 nm",
             "name": "Red"
            },
            {
             "common_name": "nir",
             "description": "Near Infrared: 780-890 nm",
             "name": "Near Infrared"
            },
            {
             "common_name": "swir",
             "description": "ShortWave Infrared: 1580-1750 nm",
             "name": "ShortWave Infrared"
            }
           ],
           "eodag_product_type": null,
           "eodag_provider": "stac_http_provider",
           "eodag_search_intersection": {
            "geometries": [],
            "type": "GeometryCollection"
           },
           "instrument": null,
           "license": null,
           "missionStartDate": null,
           "platform": null,
           "platformSerialIdentifier": null,
           "processingLevel": null,
           "productType": "canada_spot5_orthoimages",
           "proj:epsg": 3979,
           "resolution": 20,
           "sensorType": null,
           "startTimeFromAscendingNode": "2007-05-02T00:00:00Z",
           "storageStatus": "ONLINE",
           "style": {
            "color": "red"
           },
           "thumbnail": "https://canada-spot-ortho.s3.amazonaws.com/canada_spot_orthoimages/canada_spot5_orthoimages/S5_2007/S5_13355_6004_20070502/s5_13355_6004_20070502_tn.jpg",
           "title": "S5_13355_6004_20070502"
          },
          "type": "Feature"
         },
         {
          "geometry": {
           "coordinates": [
            [
             [
              -75.8321003,
              47.85693209998394
             ],
             [
              -75.5637798,
              48.363290499985176
             ],
             [
              -74.5776358,
              48.12570679998459
             ],
             [
              -74.8555234,
              47.61966979998332
             ],
             [
              -75.8321003,
              47.85693209998394
             ]
            ]
           ],
           "type": "Polygon"
          },
          "id": "S5_07513_4760_20070504",
          "properties": {
           "abstract": null,
           "downloadLink": "https://fake-endpoint/collections/canada_spot5_orthoimages/items/S5_07513_4760_20070504",
           "eo:bands": [
            {
             "common_name": "panchromatic",
             "description": "Panchromatic: 480-710 nm",
             "name": "Panchromatic"
            },
            {
             "common_name": "green",
             "description": "Green: 500-590 nm",
             "name": "Green"
            },
            {
             "common_name": "red",
             "description": "Red: 610-680 nm",
             "name": "Red"
            },
            {
             "common_name": "nir",
             "description": "Near Infrared: 780-890 nm",
             "name": "Near Infrared"
            },
            {
             "common_name": "swir",
             "description": "ShortWave Infrared: 1580-1750 nm",
             "name": "ShortWave Infrared"
            }
           ],
           "eodag_product_type": null,
           "eodag_provider": "stac_http_provider",
           "eodag_search_intersection": {
            "geometries": [],
            "type": "GeometryCollection"
           },
           "instrument": null,
           "license": null,
           "missionStartDate": null,
           "platform": null,
           "platformSerialIdentifier": null,
           "processingLevel": null,
           "productType": "canada_spot5_orthoimages",
           "proj:epsg": 3979,
           "resolution": 20,
           "sensorType": null,
           "startTimeFromAscendingNode": "2007-05-04T00:00:00Z",
           "storageStatus": "ONLINE",
           "style": {
            "color": "red"
           },
           "thumbnail": "https://canada-spot-ortho.s3.amazonaws.com/canada_spot_orthoimages/canada_spot5_orthoimages/S5_2007/S5_07513_4760_20070504/s5_07513_4760_20070504_tn.jpg",
           "title": "S5_07513_4760_20070504"
          },
          "type": "Feature"
         }
        ],
        "type": "FeatureCollection"
       },
       "name": "",
       "options": [],
       "popup": null,
       "popup_max_height": null,
       "popup_max_width": 300,
       "popup_min_width": 50,
       "style": {
        "color": "red"
       }
      }
     },
     "138baeb75469449884b7ea8d98d531b0": {
      "model_module": "@jupyter-widgets/controls",
      "model_module_version": "1.5.0",
      "model_name": "DescriptionStyleModel",
      "state": {
       "description_width": ""
      }
     },
     "14424f72bf08458787c510e87e83f533": {
      "model_module": "jupyter-leaflet",
      "model_module_version": "^0.13.5",
      "model_name": "LeafletGeoJSONModel",
      "state": {
       "_model_module": "jupyter-leaflet",
       "_model_module_version": "^0.13.5",
       "_view_count": null,
       "_view_module": "jupyter-leaflet",
       "_view_module_version": "^0.13.5",
       "base": false,
       "bottom": false,
       "data": {
        "features": [
         {
          "geometry": {
           "coordinates": [
            [
             [
              -77.5086458,
              45.89066339999992
             ],
             [
              -77.3097434,
              46.411011399999936
             ],
             [
              -76.56018450000002,
              46.27010199999995
             ],
             [
              -76.766165,
              45.75074559999991
             ],
             [
              -77.5086458,
              45.89066339999992
             ]
            ]
           ],
           "type": "Polygon"
          },
          "id": "S5_07702_4605_20070505",
          "properties": {
           "abstract": null,
           "downloadLink": "https://eod-catalog-svc-prod.astraea.earth/collections/canada_spot5_orthoimages/items/S5_07702_4605_20070505",
           "eo:bands": [
            {
             "common_name": "panchromatic",
             "description": "Panchromatic: 480-710 nm",
             "name": "Panchromatic"
            },
            {
             "common_name": "green",
             "description": "Green: 500-590 nm",
             "name": "Green"
            },
            {
             "common_name": "red",
             "description": "Red: 610-680 nm",
             "name": "Red"
            },
            {
             "common_name": "nir",
             "description": "Near Infrared: 780-890 nm",
             "name": "Near Infrared"
            },
            {
             "common_name": "swir",
             "description": "ShortWave Infrared: 1580-1750 nm",
             "name": "ShortWave Infrared"
            }
           ],
           "eodag_product_type": null,
           "eodag_provider": "astraea_eod",
           "eodag_search_intersection": {
            "geometries": [],
            "type": "GeometryCollection"
           },
           "instrument": null,
           "license": null,
           "missionStartDate": null,
           "platform": null,
           "platformSerialIdentifier": null,
           "processingLevel": null,
           "productType": "canada_spot5_orthoimages",
           "proj:epsg": 3979,
           "resolution": 20,
           "sensorType": null,
           "startTimeFromAscendingNode": "2007-05-05T00:00:00Z",
           "style": {
            "color": "green"
           },
           "title": "S5_07702_4605_20070505"
          },
          "type": "Feature"
         },
         {
          "geometry": {
           "coordinates": [
            [
             [
              -75.635484,
              49.71080699998813
             ],
             [
              -75.4077832,
              50.22914529998913
             ],
             [
              -74.6039477,
              50.07893649998885
             ],
             [
              -74.839718,
              49.562025099987835
             ],
             [
              -75.635484,
              49.71080699998813
             ]
            ]
           ],
           "type": "Polygon"
          },
          "id": "S5_07507_4954_20070505",
          "properties": {
           "abstract": null,
           "downloadLink": "https://eod-catalog-svc-prod.astraea.earth/collections/canada_spot5_orthoimages/items/S5_07507_4954_20070505",
           "eo:bands": [
            {
             "common_name": "panchromatic",
             "description": "Panchromatic: 480-710 nm",
             "name": "Panchromatic"
            },
            {
             "common_name": "green",
             "description": "Green: 500-590 nm",
             "name": "Green"
            },
            {
             "common_name": "red",
             "description": "Red: 610-680 nm",
             "name": "Red"
            },
            {
             "common_name": "nir",
             "description": "Near Infrared: 780-890 nm",
             "name": "Near Infrared"
            },
            {
             "common_name": "swir",
             "description": "ShortWave Infrared: 1580-1750 nm",
             "name": "ShortWave Infrared"
            }
           ],
           "eodag_product_type": null,
           "eodag_provider": "astraea_eod",
           "eodag_search_intersection": {
            "geometries": [],
            "type": "GeometryCollection"
           },
           "instrument": null,
           "license": null,
           "missionStartDate": null,
           "platform": null,
           "platformSerialIdentifier": null,
           "processingLevel": null,
           "productType": "canada_spot5_orthoimages",
           "proj:epsg": 3979,
           "resolution": 20,
           "sensorType": null,
           "startTimeFromAscendingNode": "2007-05-05T00:00:00Z",
           "style": {
            "color": "green"
           },
           "title": "S5_07507_4954_20070505"
          },
          "type": "Feature"
         },
         {
          "geometry": {
           "coordinates": [
            [
             [
              -77.6897149,
              45.41003529999992
             ],
             [
              -77.493466,
              45.93058879999993
             ],
             [
              -76.7514935,
              45.790705999999915
             ],
             [
              -76.9536275,
              45.27084659999991
             ],
             [
              -77.6897149,
              45.41003529999992
             ]
            ]
           ],
           "type": "Polygon"
          },
          "id": "S5_07713_4536_20070505",
          "properties": {
           "abstract": null,
           "downloadLink": "https://eod-catalog-svc-prod.astraea.earth/collections/canada_spot5_orthoimages/items/S5_07713_4536_20070505",
           "eo:bands": [
            {
             "common_name": "panchromatic",
             "description": "Panchromatic: 480-710 nm",
             "name": "Panchromatic"
            },
            {
             "common_name": "green",
             "description": "Green: 500-590 nm",
             "name": "Green"
            },
            {
             "common_name": "red",
             "description": "Red: 610-680 nm",
             "name": "Red"
            },
            {
             "common_name": "nir",
             "description": "Near Infrared: 780-890 nm",
             "name": "Near Infrared"
            },
            {
             "common_name": "swir",
             "description": "ShortWave Infrared: 1580-1750 nm",
             "name": "ShortWave Infrared"
            }
           ],
           "eodag_product_type": null,
           "eodag_provider": "astraea_eod",
           "eodag_search_intersection": {
            "geometries": [],
            "type": "GeometryCollection"
           },
           "instrument": null,
           "license": null,
           "missionStartDate": null,
           "platform": null,
           "platformSerialIdentifier": null,
           "processingLevel": null,
           "productType": "canada_spot5_orthoimages",
           "proj:epsg": 3979,
           "resolution": 20,
           "sensorType": null,
           "startTimeFromAscendingNode": "2007-05-05T00:00:00Z",
           "style": {
            "color": "green"
           },
           "title": "S5_07713_4536_20070505"
          },
          "type": "Feature"
         },
         {
          "geometry": {
           "coordinates": [
            [
             [
              -77.8688576,
              44.92858479999993
             ],
             [
              -77.6751065,
              45.44990809999991
             ],
             [
              -76.9381127,
              45.3104741999999
             ],
             [
              -77.13831010000001,
              44.790157899999905
             ],
             [
              -77.8688576,
              44.92858479999993
             ]
            ]
           ],
           "type": "Polygon"
          },
          "id": "S5_07724_4507_20070505",
          "properties": {
           "abstract": null,
           "downloadLink": "https://eod-catalog-svc-prod.astraea.earth/collections/canada_spot5_orthoimages/items/S5_07724_4507_20070505",
           "eo:bands": [
            {
             "common_name": "panchromatic",
             "description": "Panchromatic: 480-710 nm",
             "name": "Panchromatic"
            },
            {
             "common_name": "green",
             "description": "Green: 500-590 nm",
             "name": "Green"
            },
            {
             "common_name": "red",
             "description": "Red: 610-680 nm",
             "name": "Red"
            },
            {
             "common_name": "nir",
             "description": "Near Infrared: 780-890 nm",
             "name": "Near Infrared"
            },
            {
             "common_name": "swir",
             "description": "ShortWave Infrared: 1580-1750 nm",
             "name": "ShortWave Infrared"
            }
           ],
           "eodag_product_type": null,
           "eodag_provider": "astraea_eod",
           "eodag_search_intersection": {
            "geometries": [],
            "type": "GeometryCollection"
           },
           "instrument": null,
           "license": null,
           "missionStartDate": null,
           "platform": null,
           "platformSerialIdentifier": null,
           "processingLevel": null,
           "productType": "canada_spot5_orthoimages",
           "proj:epsg": 3979,
           "resolution": 20,
           "sensorType": null,
           "startTimeFromAscendingNode": "2007-05-05T00:00:00Z",
           "style": {
            "color": "green"
           },
           "title": "S5_07724_4507_20070505"
          },
          "type": "Feature"
         },
         {
          "geometry": {
           "coordinates": [
            [
             [
              -76.24385540000002,
              48.284491499985
             ],
             [
              -76.0261593,
              48.80282719998618
             ],
             [
              -75.24409010000001,
              48.65556529998587
             ],
             [
              -75.4693021,
              48.138179499984645
             ],
             [
              -76.24385540000002,
              48.284491499985
             ]
            ]
           ],
           "type": "Polygon"
          },
          "id": "S5_07545_4828_20070505",
          "properties": {
           "abstract": null,
           "downloadLink": "https://eod-catalog-svc-prod.astraea.earth/collections/canada_spot5_orthoimages/items/S5_07545_4828_20070505",
           "eo:bands": [
            {
             "common_name": "panchromatic",
             "description": "Panchromatic: 480-710 nm",
             "name": "Panchromatic"
            },
            {
             "common_name": "green",
             "description": "Green: 500-590 nm",
             "name": "Green"
            },
            {
             "common_name": "red",
             "description": "Red: 610-680 nm",
             "name": "Red"
            },
            {
             "common_name": "nir",
             "description": "Near Infrared: 780-890 nm",
             "name": "Near Infrared"
            },
            {
             "common_name": "swir",
             "description": "ShortWave Infrared: 1580-1750 nm",
             "name": "ShortWave Infrared"
            }
           ],
           "eodag_product_type": null,
           "eodag_provider": "astraea_eod",
           "eodag_search_intersection": {
            "geometries": [],
            "type": "GeometryCollection"
           },
           "instrument": null,
           "license": null,
           "missionStartDate": null,
           "platform": null,
           "platformSerialIdentifier": null,
           "processingLevel": null,
           "productType": "canada_spot5_orthoimages",
           "proj:epsg": 3979,
           "resolution": 20,
           "sensorType": null,
           "startTimeFromAscendingNode": "2007-05-05T00:00:00Z",
           "style": {
            "color": "green"
           },
           "title": "S5_07545_4828_20070505"
          },
          "type": "Feature"
         },
         {
          "geometry": {
           "coordinates": [
            [
             [
              -75.8416676,
              49.236272499987166
             ],
             [
              -75.6169194,
              49.75401399998823
             ],
             [
              -74.8203005,
              49.60474209998792
             ],
             [
              -75.052923,
              49.08803909998684
             ],
             [
              -75.8416676,
              49.236272499987166
             ]
            ]
           ],
           "type": "Polygon"
          },
          "id": "S5_07520_4925_20070505",
          "properties": {
           "abstract": null,
           "downloadLink": "https://eod-catalog-svc-prod.astraea.earth/collections/canada_spot5_orthoimages/items/S5_07520_4925_20070505",
           "eo:bands": [
            {
             "common_name": "panchromatic",
             "description": "Panchromatic: 480-710 nm",
             "name": "Panchromatic"
            },
            {
             "common_name": "green",
             "description": "Green: 500-590 nm",
             "name": "Green"
            },
            {
             "common_name": "red",
             "description": "Red: 610-680 nm",
             "name": "Red"
            },
            {
             "common_name": "nir",
             "description": "Near Infrared: 780-890 nm",
             "name": "Near Infrared"
            },
            {
             "common_name": "swir",
             "description": "ShortWave Infrared: 1580-1750 nm",
             "name": "ShortWave Infrared"
            }
           ],
           "eodag_product_type": null,
           "eodag_provider": "astraea_eod",
           "eodag_search_intersection": {
            "geometries": [],
            "type": "GeometryCollection"
           },
           "instrument": null,
           "license": null,
           "missionStartDate": null,
           "platform": null,
           "platformSerialIdentifier": null,
           "processingLevel": null,
           "productType": "canada_spot5_orthoimages",
           "proj:epsg": 3979,
           "resolution": 20,
           "sensorType": null,
           "startTimeFromAscendingNode": "2007-05-05T00:00:00Z",
           "style": {
            "color": "green"
           },
           "title": "S5_07520_4925_20070505"
          },
          "type": "Feature"
         },
         {
          "geometry": {
           "coordinates": [
            [
             [
              -75.8321003,
              47.85693209998394
             ],
             [
              -75.5637798,
              48.363290499985176
             ],
             [
              -74.5776358,
              48.12570679998459
             ],
             [
              -74.8555234,
              47.61966979998332
             ],
             [
              -75.8321003,
              47.85693209998394
             ]
            ]
           ],
           "type": "Polygon"
          },
          "id": "S5_07513_4760_20070504",
          "properties": {
           "abstract": null,
           "downloadLink": "https://eod-catalog-svc-prod.astraea.earth/collections/canada_spot5_orthoimages/items/S5_07513_4760_20070504",
           "eo:bands": [
            {
             "common_name": "panchromatic",
             "description": "Panchromatic: 480-710 nm",
             "name": "Panchromatic"
            },
            {
             "common_name": "green",
             "description": "Green: 500-590 nm",
             "name": "Green"
            },
            {
             "common_name": "red",
             "description": "Red: 610-680 nm",
             "name": "Red"
            },
            {
             "common_name": "nir",
             "description": "Near Infrared: 780-890 nm",
             "name": "Near Infrared"
            },
            {
             "common_name": "swir",
             "description": "ShortWave Infrared: 1580-1750 nm",
             "name": "ShortWave Infrared"
            }
           ],
           "eodag_product_type": null,
           "eodag_provider": "astraea_eod",
           "eodag_search_intersection": {
            "geometries": [],
            "type": "GeometryCollection"
           },
           "instrument": null,
           "license": null,
           "missionStartDate": null,
           "platform": null,
           "platformSerialIdentifier": null,
           "processingLevel": null,
           "productType": "canada_spot5_orthoimages",
           "proj:epsg": 3979,
           "resolution": 20,
           "sensorType": null,
           "startTimeFromAscendingNode": "2007-05-04T00:00:00Z",
           "style": {
            "color": "green"
           },
           "title": "S5_07513_4760_20070504"
          },
          "type": "Feature"
         }
        ],
        "type": "FeatureCollection"
       },
       "name": "",
       "options": [],
       "popup": null,
       "popup_max_height": null,
       "popup_max_width": 300,
       "popup_min_width": 50,
       "style": {
        "color": "green"
       }
      }
     },
     "18518e1a2c5f4ecb8af047011870c142": {
      "model_module": "@jupyter-widgets/base",
      "model_module_version": "1.2.0",
      "model_name": "LayoutModel",
      "state": {}
     },
     "1aedd1d1fd5f4a598ca2c6a3cfa0edb8": {
      "model_module": "@jupyter-widgets/base",
      "model_module_version": "1.2.0",
      "model_name": "LayoutModel",
      "state": {}
     },
     "1e4d88b1ea4c47fa831aef200a3f45a7": {
      "model_module": "jupyter-leaflet",
      "model_module_version": "^0.13.5",
      "model_name": "LeafletAttributionControlModel",
      "state": {
       "_model_module_version": "^0.13.5",
       "_view_module_version": "^0.13.5",
       "options": [
        "position",
        "prefix"
       ],
       "position": "bottomright",
       "prefix": "ipyleaflet"
      }
     },
     "1e9b7c6a9d1843f4b0faa5e3dab98f83": {
      "model_module": "jupyter-leaflet",
      "model_module_version": "^0.13.5",
      "model_name": "LeafletMapModel",
      "state": {
       "_model_module_version": "^0.13.5",
       "_view_module_version": "^0.13.5",
       "bottom": 895,
       "center": [
        50,
        -100
       ],
       "controls": [
        "IPY_MODEL_68ffcc70f991440683dd0ce94d6777aa",
        "IPY_MODEL_3fdc3ab9a26543699b4eca949c28d624"
       ],
       "default_style": "IPY_MODEL_d5ed92d8103d491c946f44e2e0d2ceae",
       "dragging_style": "IPY_MODEL_635d495dbe4940ec9416e1d62af31b39",
       "east": -15.292968750000002,
       "fullscreen": false,
       "interpolation": "bilinear",
       "layers": [
        "IPY_MODEL_ff62ab061cfd4bc8b7847ecd20e965cc",
        "IPY_MODEL_e844344295714b7a9e11528e9fb6f7bf",
        "IPY_MODEL_682c8a9a66e74013a319595b3090e353",
        "IPY_MODEL_f69d0c88cba849b29c77c1474f940270"
       ],
       "layout": "IPY_MODEL_18518e1a2c5f4ecb8af047011870c142",
       "left": -26,
       "modisdate": "yesterday",
       "north": 67.676084581981,
       "options": [
        "bounce_at_zoom_limits",
        "box_zoom",
        "center",
        "close_popup_on_click",
        "double_click_zoom",
        "dragging",
        "fullscreen",
        "inertia",
        "inertia_deceleration",
        "inertia_max_speed",
        "interpolation",
        "keyboard",
        "keyboard_pan_offset",
        "keyboard_zoom_offset",
        "max_zoom",
        "min_zoom",
        "scroll_wheel_zoom",
        "tap",
        "tap_tolerance",
        "touch_zoom",
        "world_copy_jump",
        "zoom",
        "zoom_animation_threshold",
        "zoom_delta",
        "zoom_snap",
        "zoom_start"
       ],
       "right": 937,
       "south": 22.105998799750566,
       "style": "IPY_MODEL_aca703e044dc4119aed3370baa7a900d",
       "top": 495,
       "west": -184.57031250000003,
       "window_url": "http://localhost:8888/notebooks/tuto_stac_client.ipynb",
       "zoom": 3
      }
     },
     "1e9bece05be64397a841609da39dcb13": {
      "model_module": "@jupyter-widgets/base",
      "model_module_version": "1.2.0",
      "model_name": "LayoutModel",
      "state": {
       "display": "inline-flex",
       "flex_flow": "row wrap",
       "width": "100%"
      }
     },
     "214391a4022c41bc91648530f22c2bfd": {
      "model_module": "@jupyter-widgets/base",
      "model_module_version": "1.2.0",
      "model_name": "LayoutModel",
      "state": {
       "display": "inline-flex",
       "flex_flow": "row wrap",
       "width": "100%"
      }
     },
     "21764661330241f4b57b054fc3d8a5dd": {
      "model_module": "@jupyter-widgets/controls",
      "model_module_version": "1.5.0",
      "model_name": "FloatProgressModel",
      "state": {
       "bar_style": "success",
       "layout": "IPY_MODEL_4d8b097436724836afec4fd8c6412203",
       "max": 77683711,
       "style": "IPY_MODEL_936a308954af44e5b16d494df57adc66",
       "value": 77683711
      }
     },
     "2312179991b34a5899197547dfc20ca4": {
      "model_module": "jupyter-leaflet",
      "model_module_version": "^0.13.5",
      "model_name": "LeafletZoomControlModel",
      "state": {
       "_model_module_version": "^0.13.5",
       "_view_module_version": "^0.13.5",
       "options": [
        "position",
        "zoom_in_text",
        "zoom_in_title",
        "zoom_out_text",
        "zoom_out_title"
       ]
      }
     },
     "24c4b8f8a1b645ef959f7b4a40b0a29d": {
      "model_module": "jupyter-leaflet",
      "model_module_version": "^0.13.5",
      "model_name": "LeafletGeoJSONModel",
      "state": {
       "_model_module": "jupyter-leaflet",
       "_model_module_version": "^0.13.5",
       "_view_count": null,
       "_view_module": "jupyter-leaflet",
       "_view_module_version": "^0.13.5",
       "base": false,
       "bottom": false,
       "data": {
        "coordinates": [
         [
          [
           -70,
           45
          ],
          [
           -75,
           52
          ],
          [
           -80,
           52
          ],
          [
           -80,
           44
          ],
          [
           -70,
           45
          ]
         ]
        ],
        "type": "Polygon"
       },
       "name": "",
       "options": [],
       "popup": null,
       "popup_max_height": null,
       "popup_max_width": 300,
       "popup_min_width": 50,
       "style": {
        "color": "blue"
       }
      }
     },
     "2706b3acd49c4cfe8c105fa213a85bfa": {
      "model_module": "jupyter-leaflet",
      "model_module_version": "^0.13.5",
      "model_name": "LeafletZoomControlModel",
      "state": {
       "_model_module_version": "^0.13.5",
       "_view_module_version": "^0.13.5",
       "options": [
        "position",
        "zoom_in_text",
        "zoom_in_title",
        "zoom_out_text",
        "zoom_out_title"
       ]
      }
     },
     "2825f6b6af8840eaa3c2ee3dd96cc582": {
      "model_module": "@jupyter-widgets/controls",
      "model_module_version": "1.5.0",
      "model_name": "DescriptionStyleModel",
      "state": {
       "description_width": ""
      }
     },
     "2a87352cc5e443b7af97f7890a9d588f": {
      "model_module": "@jupyter-widgets/controls",
      "model_module_version": "1.5.0",
      "model_name": "ProgressStyleModel",
      "state": {
       "description_width": ""
      }
     },
     "2f2f376883e941f58c6920efa14cd460": {
      "model_module": "jupyter-leaflet",
      "model_module_version": "^0.13.5",
      "model_name": "LeafletAttributionControlModel",
      "state": {
       "_model_module_version": "^0.13.5",
       "_view_module_version": "^0.13.5",
       "options": [
        "position",
        "prefix"
       ],
       "position": "bottomright",
       "prefix": "ipyleaflet"
      }
     },
     "3009b1c1fbe2414997db23d5b5e774db": {
      "model_module": "@jupyter-widgets/controls",
      "model_module_version": "1.5.0",
      "model_name": "DescriptionStyleModel",
      "state": {
       "description_width": ""
      }
     },
     "313829da913343128c01f2c92490e329": {
      "model_module": "@jupyter-widgets/base",
      "model_module_version": "1.2.0",
      "model_name": "LayoutModel",
      "state": {}
     },
     "31be99ded5c24853bc9cd39f22ba675c": {
      "model_module": "jupyter-leaflet",
      "model_module_version": "^0.13.5",
      "model_name": "LeafletAttributionControlModel",
      "state": {
       "_model_module_version": "^0.13.5",
       "_view_module_version": "^0.13.5",
       "options": [
        "position",
        "prefix"
       ],
       "position": "bottomright",
       "prefix": "ipyleaflet"
      }
     },
     "324eb46c47574e85bc784d6f42e5cf72": {
      "model_module": "jupyter-leaflet",
      "model_module_version": "^0.13.5",
      "model_name": "LeafletMapStyleModel",
      "state": {
       "_model_module_version": "^0.13.5",
       "cursor": "move"
      }
     },
     "333245608f564698b4ca8038ea73ea04": {
      "model_module": "jupyter-leaflet",
      "model_module_version": "^0.13.5",
      "model_name": "LeafletTileLayerModel",
      "state": {
       "_model_module_version": "^0.13.5",
       "_view_module_version": "^0.13.5",
       "base": true,
       "max_native_zoom": 18,
       "max_zoom": 19,
       "min_native_zoom": 0,
       "min_zoom": 1,
       "options": [
        "attribution",
        "detect_retina",
        "max_native_zoom",
        "max_zoom",
        "min_native_zoom",
        "min_zoom",
        "no_wrap",
        "tile_size",
        "tms"
       ]
      }
     },
     "3368f26cf3794ea785b1fc64d14f4994": {
      "model_module": "jupyter-leaflet",
      "model_module_version": "^0.13.5",
      "model_name": "LeafletMapStyleModel",
      "state": {
       "_model_module_version": "^0.13.5",
       "cursor": "move"
      }
     },
     "3c96e64ada9b43489dc9271c1453cf30": {
      "model_module": "jupyter-leaflet",
      "model_module_version": "^0.13.5",
      "model_name": "LeafletGeoJSONModel",
      "state": {
       "_model_module": "jupyter-leaflet",
       "_model_module_version": "^0.13.5",
       "_view_count": null,
       "_view_module": "jupyter-leaflet",
       "_view_module_version": "^0.13.5",
       "base": false,
       "bottom": false,
       "data": {
        "features": [
         {
          "geometry": {
           "coordinates": [
            [
             [
              -75.635484,
              49.71080699998813
             ],
             [
              -75.4077832,
              50.22914529998913
             ],
             [
              -74.6039477,
              50.07893649998885
             ],
             [
              -74.839718,
              49.562025099987835
             ],
             [
              -75.635484,
              49.71080699998813
             ]
            ]
           ],
           "type": "Polygon"
          },
          "id": "S5_07507_4954_20070505",
          "properties": {
           "abstract": null,
           "downloadLink": "https://fake-endpoint/collections/canada_spot5_orthoimages/items/S5_07507_4954_20070505",
           "eo:bands": [
            {
             "common_name": "panchromatic",
             "description": "Panchromatic: 480-710 nm",
             "name": "Panchromatic"
            },
            {
             "common_name": "green",
             "description": "Green: 500-590 nm",
             "name": "Green"
            },
            {
             "common_name": "red",
             "description": "Red: 610-680 nm",
             "name": "Red"
            },
            {
             "common_name": "nir",
             "description": "Near Infrared: 780-890 nm",
             "name": "Near Infrared"
            },
            {
             "common_name": "swir",
             "description": "ShortWave Infrared: 1580-1750 nm",
             "name": "ShortWave Infrared"
            }
           ],
           "eodag_product_type": null,
           "eodag_provider": "stac_http_provider",
           "eodag_search_intersection": {
            "geometries": [],
            "type": "GeometryCollection"
           },
           "instrument": null,
           "license": null,
           "missionStartDate": null,
           "platform": null,
           "platformSerialIdentifier": null,
           "processingLevel": null,
           "productType": "canada_spot5_orthoimages",
           "proj:epsg": 3979,
           "resolution": 20,
           "sensorType": null,
           "startTimeFromAscendingNode": "2007-05-05T00:00:00Z",
           "storageStatus": "ONLINE",
           "style": {
            "color": "red"
           },
           "thumbnail": "https://canada-spot-ortho.s3.amazonaws.com/canada_spot_orthoimages/canada_spot5_orthoimages/S5_2007/S5_07507_4954_20070505/s5_07507_4954_20070505_tn.jpg",
           "title": "S5_07507_4954_20070505"
          },
          "type": "Feature"
         },
         {
          "geometry": {
           "coordinates": [
            [
             [
              -85.0273477,
              46.859929499999936
             ],
             [
              -84.8043796,
              47.37592669998269
             ],
             [
              -84.02553680000001,
              47.21757089998226
             ],
             [
              -84.2562465,
              46.70048319999994
             ],
             [
              -85.0273477,
              46.859929499999936
             ]
            ]
           ],
           "type": "Polygon"
          },
          "id": "S5_08432_4702_20070503",
          "properties": {
           "abstract": null,
           "downloadLink": "https://fake-endpoint/collections/canada_spot5_orthoimages/items/S5_08432_4702_20070503",
           "eo:bands": [
            {
             "common_name": "panchromatic",
             "description": "Panchromatic: 480-710 nm",
             "name": "Panchromatic"
            },
            {
             "common_name": "green",
             "description": "Green: 500-590 nm",
             "name": "Green"
            },
            {
             "common_name": "red",
             "description": "Red: 610-680 nm",
             "name": "Red"
            },
            {
             "common_name": "nir",
             "description": "Near Infrared: 780-890 nm",
             "name": "Near Infrared"
            },
            {
             "common_name": "swir",
             "description": "ShortWave Infrared: 1580-1750 nm",
             "name": "ShortWave Infrared"
            }
           ],
           "eodag_product_type": null,
           "eodag_provider": "stac_http_provider",
           "eodag_search_intersection": {
            "geometries": [],
            "type": "GeometryCollection"
           },
           "instrument": null,
           "license": null,
           "missionStartDate": null,
           "platform": null,
           "platformSerialIdentifier": null,
           "processingLevel": null,
           "productType": "canada_spot5_orthoimages",
           "proj:epsg": 3979,
           "resolution": 20,
           "sensorType": null,
           "startTimeFromAscendingNode": "2007-05-03T00:00:00Z",
           "storageStatus": "ONLINE",
           "style": {
            "color": "red"
           },
           "thumbnail": "https://canada-spot-ortho.s3.amazonaws.com/canada_spot_orthoimages/canada_spot5_orthoimages/S5_2007/S5_08432_4702_20070503/s5_08432_4702_20070503_tn.jpg",
           "title": "S5_08432_4702_20070503"
          },
          "type": "Feature"
         },
         {
          "geometry": {
           "coordinates": [
            [
             [
              -82.1791361,
              44.93104039999991
             ],
             [
              -81.9785331,
              45.45127599999993
             ],
             [
              -81.2418256,
              45.30744029999992
             ],
             [
              -81.4473278,
              44.78835739999991
             ],
             [
              -82.1791361,
              44.93104039999991
             ]
            ]
           ],
           "type": "Polygon"
          },
          "id": "S5_08143_4507_20070504",
          "properties": {
           "abstract": null,
           "downloadLink": "https://fake-endpoint/collections/canada_spot5_orthoimages/items/S5_08143_4507_20070504",
           "eo:bands": [
            {
             "common_name": "panchromatic",
             "description": "Panchromatic: 480-710 nm",
             "name": "Panchromatic"
            },
            {
             "common_name": "green",
             "description": "Green: 500-590 nm",
             "name": "Green"
            },
            {
             "common_name": "red",
             "description": "Red: 610-680 nm",
             "name": "Red"
            },
            {
             "common_name": "nir",
             "description": "Near Infrared: 780-890 nm",
             "name": "Near Infrared"
            },
            {
             "common_name": "swir",
             "description": "ShortWave Infrared: 1580-1750 nm",
             "name": "ShortWave Infrared"
            }
           ],
           "eodag_product_type": null,
           "eodag_provider": "stac_http_provider",
           "eodag_search_intersection": {
            "geometries": [],
            "type": "GeometryCollection"
           },
           "instrument": null,
           "license": null,
           "missionStartDate": null,
           "platform": null,
           "platformSerialIdentifier": null,
           "processingLevel": null,
           "productType": "canada_spot5_orthoimages",
           "proj:epsg": 3979,
           "resolution": 20,
           "sensorType": null,
           "startTimeFromAscendingNode": "2007-05-04T00:00:00Z",
           "storageStatus": "ONLINE",
           "style": {
            "color": "red"
           },
           "thumbnail": "https://canada-spot-ortho.s3.amazonaws.com/canada_spot_orthoimages/canada_spot5_orthoimages/S5_2007/S5_08143_4507_20070504/s5_08143_4507_20070504_tn.jpg",
           "title": "S5_08143_4507_20070504"
          },
          "type": "Feature"
         },
         {
          "geometry": {
           "coordinates": [
            [
             [
              -82.0128118,
              43.486933699999895
             ],
             [
              -81.8154336,
              44.006646199999906
             ],
             [
              -81.0891217,
              43.85927329999989
             ],
             [
              -81.2926142,
              43.340113799999905
             ],
             [
              -82.0128118,
              43.486933699999895
             ]
            ]
           ],
           "type": "Polygon"
          },
          "id": "S5_08133_4340_20070504",
          "properties": {
           "abstract": null,
           "downloadLink": "https://fake-endpoint/collections/canada_spot5_orthoimages/items/S5_08133_4340_20070504",
           "eo:bands": [
            {
             "common_name": "panchromatic",
             "description": "Panchromatic: 480-710 nm",
             "name": "Panchromatic"
            },
            {
             "common_name": "green",
             "description": "Green: 500-590 nm",
             "name": "Green"
            },
            {
             "common_name": "red",
             "description": "Red: 610-680 nm",
             "name": "Red"
            },
            {
             "common_name": "nir",
             "description": "Near Infrared: 780-890 nm",
             "name": "Near Infrared"
            },
            {
             "common_name": "swir",
             "description": "ShortWave Infrared: 1580-1750 nm",
             "name": "ShortWave Infrared"
            }
           ],
           "eodag_product_type": null,
           "eodag_provider": "stac_http_provider",
           "eodag_search_intersection": {
            "geometries": [],
            "type": "GeometryCollection"
           },
           "instrument": null,
           "license": null,
           "missionStartDate": null,
           "platform": null,
           "platformSerialIdentifier": null,
           "processingLevel": null,
           "productType": "canada_spot5_orthoimages",
           "proj:epsg": 3979,
           "resolution": 20,
           "sensorType": null,
           "startTimeFromAscendingNode": "2007-05-04T00:00:00Z",
           "storageStatus": "ONLINE",
           "style": {
            "color": "red"
           },
           "thumbnail": "https://canada-spot-ortho.s3.amazonaws.com/canada_spot_orthoimages/canada_spot5_orthoimages/S5_2007/S5_08133_4340_20070504/s5_08133_4340_20070504_tn.jpg",
           "title": "S5_08133_4340_20070504"
          },
          "type": "Feature"
         },
         {
          "geometry": {
           "coordinates": [
            [
             [
              -82.19413800000001,
              43.002897899999866
             ],
             [
              -81.9983011,
              43.52332569999988
             ],
             [
              -81.2782497,
              43.3766073999999
             ],
             [
              -81.4785564,
              42.85763319999989
             ],
             [
              -82.19413800000001,
              43.002897899999866
             ]
            ]
           ],
           "type": "Polygon"
          },
          "id": "S5_08144_4311_20070504",
          "properties": {
           "abstract": null,
           "downloadLink": "https://fake-endpoint/collections/canada_spot5_orthoimages/items/S5_08144_4311_20070504",
           "eo:bands": [
            {
             "common_name": "panchromatic",
             "description": "Panchromatic: 480-710 nm",
             "name": "Panchromatic"
            },
            {
             "common_name": "green",
             "description": "Green: 500-590 nm",
             "name": "Green"
            },
            {
             "common_name": "red",
             "description": "Red: 610-680 nm",
             "name": "Red"
            },
            {
             "common_name": "nir",
             "description": "Near Infrared: 780-890 nm",
             "name": "Near Infrared"
            },
            {
             "common_name": "swir",
             "description": "ShortWave Infrared: 1580-1750 nm",
             "name": "ShortWave Infrared"
            }
           ],
           "eodag_product_type": null,
           "eodag_provider": "stac_http_provider",
           "eodag_search_intersection": {
            "geometries": [],
            "type": "GeometryCollection"
           },
           "instrument": null,
           "license": null,
           "missionStartDate": null,
           "platform": null,
           "platformSerialIdentifier": null,
           "processingLevel": null,
           "productType": "canada_spot5_orthoimages",
           "proj:epsg": 3979,
           "resolution": 20,
           "sensorType": null,
           "startTimeFromAscendingNode": "2007-05-04T00:00:00Z",
           "storageStatus": "ONLINE",
           "style": {
            "color": "red"
           },
           "thumbnail": "https://canada-spot-ortho.s3.amazonaws.com/canada_spot_orthoimages/canada_spot5_orthoimages/S5_2007/S5_08144_4311_20070504/s5_08144_4311_20070504_tn.jpg",
           "title": "S5_08144_4311_20070504"
          },
          "type": "Feature"
         },
         {
          "geometry": {
           "coordinates": [
            [
             [
              -81.82939060000001,
              43.97025879999991
             ],
             [
              -81.6293909,
              44.48955959999991
             ],
             [
              -80.8972191,
              44.341560399999906
             ],
             [
              -81.1035722,
              43.82257309999989
             ],
             [
              -81.82939060000001,
              43.97025879999991
             ]
            ]
           ],
           "type": "Polygon"
          },
          "id": "S5_08122_4409_20070504",
          "properties": {
           "abstract": null,
           "downloadLink": "https://fake-endpoint/collections/canada_spot5_orthoimages/items/S5_08122_4409_20070504",
           "eo:bands": [
            {
             "common_name": "panchromatic",
             "description": "Panchromatic: 480-710 nm",
             "name": "Panchromatic"
            },
            {
             "common_name": "green",
             "description": "Green: 500-590 nm",
             "name": "Green"
            },
            {
             "common_name": "red",
             "description": "Red: 610-680 nm",
             "name": "Red"
            },
            {
             "common_name": "nir",
             "description": "Near Infrared: 780-890 nm",
             "name": "Near Infrared"
            },
            {
             "common_name": "swir",
             "description": "ShortWave Infrared: 1580-1750 nm",
             "name": "ShortWave Infrared"
            }
           ],
           "eodag_product_type": null,
           "eodag_provider": "stac_http_provider",
           "eodag_search_intersection": {
            "geometries": [],
            "type": "GeometryCollection"
           },
           "instrument": null,
           "license": null,
           "missionStartDate": null,
           "platform": null,
           "platformSerialIdentifier": null,
           "processingLevel": null,
           "productType": "canada_spot5_orthoimages",
           "proj:epsg": 3979,
           "resolution": 20,
           "sensorType": null,
           "startTimeFromAscendingNode": "2007-05-04T00:00:00Z",
           "storageStatus": "ONLINE",
           "style": {
            "color": "red"
           },
           "thumbnail": "https://canada-spot-ortho.s3.amazonaws.com/canada_spot_orthoimages/canada_spot5_orthoimages/S5_2007/S5_08122_4409_20070504/s5_08122_4409_20070504_tn.jpg",
           "title": "S5_08122_4409_20070504"
          },
          "type": "Feature"
         },
         {
          "geometry": {
           "coordinates": [
            [
             [
              -77.5086458,
              45.89066339999992
             ],
             [
              -77.3097434,
              46.411011399999936
             ],
             [
              -76.56018450000002,
              46.27010199999995
             ],
             [
              -76.766165,
              45.75074559999991
             ],
             [
              -77.5086458,
              45.89066339999992
             ]
            ]
           ],
           "type": "Polygon"
          },
          "id": "S5_07702_4605_20070505",
          "properties": {
           "abstract": null,
           "downloadLink": "https://fake-endpoint/collections/canada_spot5_orthoimages/items/S5_07702_4605_20070505",
           "eo:bands": [
            {
             "common_name": "panchromatic",
             "description": "Panchromatic: 480-710 nm",
             "name": "Panchromatic"
            },
            {
             "common_name": "green",
             "description": "Green: 500-590 nm",
             "name": "Green"
            },
            {
             "common_name": "red",
             "description": "Red: 610-680 nm",
             "name": "Red"
            },
            {
             "common_name": "nir",
             "description": "Near Infrared: 780-890 nm",
             "name": "Near Infrared"
            },
            {
             "common_name": "swir",
             "description": "ShortWave Infrared: 1580-1750 nm",
             "name": "ShortWave Infrared"
            }
           ],
           "eodag_product_type": null,
           "eodag_provider": "stac_http_provider",
           "eodag_search_intersection": {
            "geometries": [],
            "type": "GeometryCollection"
           },
           "instrument": null,
           "license": null,
           "missionStartDate": null,
           "platform": null,
           "platformSerialIdentifier": null,
           "processingLevel": null,
           "productType": "canada_spot5_orthoimages",
           "proj:epsg": 3979,
           "resolution": 20,
           "sensorType": null,
           "startTimeFromAscendingNode": "2007-05-05T00:00:00Z",
           "storageStatus": "ONLINE",
           "style": {
            "color": "red"
           },
           "thumbnail": "https://canada-spot-ortho.s3.amazonaws.com/canada_spot_orthoimages/canada_spot5_orthoimages/S5_2007/S5_07702_4605_20070505/s5_07702_4605_20070505_tn.jpg",
           "title": "S5_07702_4605_20070505"
          },
          "type": "Feature"
         },
         {
          "geometry": {
           "coordinates": [
            [
             [
              -77.6897149,
              45.41003529999992
             ],
             [
              -77.493466,
              45.93058879999993
             ],
             [
              -76.7514935,
              45.790705999999915
             ],
             [
              -76.9536275,
              45.27084659999991
             ],
             [
              -77.6897149,
              45.41003529999992
             ]
            ]
           ],
           "type": "Polygon"
          },
          "id": "S5_07713_4536_20070505",
          "properties": {
           "abstract": null,
           "downloadLink": "https://fake-endpoint/collections/canada_spot5_orthoimages/items/S5_07713_4536_20070505",
           "eo:bands": [
            {
             "common_name": "panchromatic",
             "description": "Panchromatic: 480-710 nm",
             "name": "Panchromatic"
            },
            {
             "common_name": "green",
             "description": "Green: 500-590 nm",
             "name": "Green"
            },
            {
             "common_name": "red",
             "description": "Red: 610-680 nm",
             "name": "Red"
            },
            {
             "common_name": "nir",
             "description": "Near Infrared: 780-890 nm",
             "name": "Near Infrared"
            },
            {
             "common_name": "swir",
             "description": "ShortWave Infrared: 1580-1750 nm",
             "name": "ShortWave Infrared"
            }
           ],
           "eodag_product_type": null,
           "eodag_provider": "stac_http_provider",
           "eodag_search_intersection": {
            "geometries": [],
            "type": "GeometryCollection"
           },
           "instrument": null,
           "license": null,
           "missionStartDate": null,
           "platform": null,
           "platformSerialIdentifier": null,
           "processingLevel": null,
           "productType": "canada_spot5_orthoimages",
           "proj:epsg": 3979,
           "resolution": 20,
           "sensorType": null,
           "startTimeFromAscendingNode": "2007-05-05T00:00:00Z",
           "storageStatus": "ONLINE",
           "style": {
            "color": "red"
           },
           "thumbnail": "https://canada-spot-ortho.s3.amazonaws.com/canada_spot_orthoimages/canada_spot5_orthoimages/S5_2007/S5_07713_4536_20070505/s5_07713_4536_20070505_tn.jpg",
           "title": "S5_07713_4536_20070505"
          },
          "type": "Feature"
         },
         {
          "geometry": {
           "coordinates": [
            [
             [
              -84.9345337,
              48.765304799986104
             ],
             [
              -84.7042059,
              49.282367799987256
             ],
             [
              -83.9089622,
              49.126539399986925
             ],
             [
              -84.1474371,
              48.61051919998576
             ],
             [
              -84.9345337,
              48.765304799986104
             ]
            ]
           ],
           "type": "Polygon"
          },
          "id": "S5_08426_4857_20070503",
          "properties": {
           "abstract": null,
           "downloadLink": "https://fake-endpoint/collections/canada_spot5_orthoimages/items/S5_08426_4857_20070503",
           "eo:bands": [
            {
             "common_name": "panchromatic",
             "description": "Panchromatic: 480-710 nm",
             "name": "Panchromatic"
            },
            {
             "common_name": "green",
             "description": "Green: 500-590 nm",
             "name": "Green"
            },
            {
             "common_name": "red",
             "description": "Red: 610-680 nm",
             "name": "Red"
            },
            {
             "common_name": "nir",
             "description": "Near Infrared: 780-890 nm",
             "name": "Near Infrared"
            },
            {
             "common_name": "swir",
             "description": "ShortWave Infrared: 1580-1750 nm",
             "name": "ShortWave Infrared"
            }
           ],
           "eodag_product_type": null,
           "eodag_provider": "stac_http_provider",
           "eodag_search_intersection": {
            "geometries": [],
            "type": "GeometryCollection"
           },
           "instrument": null,
           "license": null,
           "missionStartDate": null,
           "platform": null,
           "platformSerialIdentifier": null,
           "processingLevel": null,
           "productType": "canada_spot5_orthoimages",
           "proj:epsg": 3979,
           "resolution": 20,
           "sensorType": null,
           "startTimeFromAscendingNode": "2007-05-03T00:00:00Z",
           "storageStatus": "ONLINE",
           "style": {
            "color": "red"
           },
           "thumbnail": "https://canada-spot-ortho.s3.amazonaws.com/canada_spot_orthoimages/canada_spot5_orthoimages/S5_2007/S5_08426_4857_20070503/s5_08426_4857_20070503_tn.jpg",
           "title": "S5_08426_4857_20070503"
          },
          "type": "Feature"
         },
         {
          "geometry": {
           "coordinates": [
            [
             [
              -84.8206206,
              47.3379771999826
             ],
             [
              -84.59384510000001,
              47.85419849998393
             ],
             [
              -83.8084865,
              47.69434859998355
             ],
             [
              -84.0433223,
              47.17892369998218
             ],
             [
              -84.8206206,
              47.3379771999826
             ]
            ]
           ],
           "type": "Polygon"
          },
          "id": "S5_08419_4731_20070503",
          "properties": {
           "abstract": null,
           "downloadLink": "https://fake-endpoint/collections/canada_spot5_orthoimages/items/S5_08419_4731_20070503",
           "eo:bands": [
            {
             "common_name": "panchromatic",
             "description": "Panchromatic: 480-710 nm",
             "name": "Panchromatic"
            },
            {
             "common_name": "green",
             "description": "Green: 500-590 nm",
             "name": "Green"
            },
            {
             "common_name": "red",
             "description": "Red: 610-680 nm",
             "name": "Red"
            },
            {
             "common_name": "nir",
             "description": "Near Infrared: 780-890 nm",
             "name": "Near Infrared"
            },
            {
             "common_name": "swir",
             "description": "ShortWave Infrared: 1580-1750 nm",
             "name": "ShortWave Infrared"
            }
           ],
           "eodag_product_type": null,
           "eodag_provider": "stac_http_provider",
           "eodag_search_intersection": {
            "geometries": [],
            "type": "GeometryCollection"
           },
           "instrument": null,
           "license": null,
           "missionStartDate": null,
           "platform": null,
           "platformSerialIdentifier": null,
           "processingLevel": null,
           "productType": "canada_spot5_orthoimages",
           "proj:epsg": 3979,
           "resolution": 20,
           "sensorType": null,
           "startTimeFromAscendingNode": "2007-05-03T00:00:00Z",
           "storageStatus": "ONLINE",
           "style": {
            "color": "red"
           },
           "thumbnail": "https://canada-spot-ortho.s3.amazonaws.com/canada_spot_orthoimages/canada_spot5_orthoimages/S5_2007/S5_08419_4731_20070503/s5_08419_4731_20070503_tn.jpg",
           "title": "S5_08419_4731_20070503"
          },
          "type": "Feature"
         },
         {
          "geometry": {
           "coordinates": [
            [
             [
              -81.4555888,
              44.9349105999999
             ],
             [
              -81.2491542,
              45.45280749999993
             ],
             [
              -80.5044075,
              45.30292019999991
             ],
             [
              -80.7183832,
              44.78516229999991
             ],
             [
              -81.4555888,
              44.9349105999999
             ]
            ]
           ],
           "type": "Polygon"
          },
          "id": "S5_08059_4507_20070504",
          "properties": {
           "abstract": null,
           "downloadLink": "https://fake-endpoint/collections/canada_spot5_orthoimages/items/S5_08059_4507_20070504",
           "eo:bands": [
            {
             "common_name": "panchromatic",
             "description": "Panchromatic: 480-710 nm",
             "name": "Panchromatic"
            },
            {
             "common_name": "green",
             "description": "Green: 500-590 nm",
             "name": "Green"
            },
            {
             "common_name": "red",
             "description": "Red: 610-680 nm",
             "name": "Red"
            },
            {
             "common_name": "nir",
             "description": "Near Infrared: 780-890 nm",
             "name": "Near Infrared"
            },
            {
             "common_name": "swir",
             "description": "ShortWave Infrared: 1580-1750 nm",
             "name": "ShortWave Infrared"
            }
           ],
           "eodag_product_type": null,
           "eodag_provider": "stac_http_provider",
           "eodag_search_intersection": {
            "geometries": [],
            "type": "GeometryCollection"
           },
           "instrument": null,
           "license": null,
           "missionStartDate": null,
           "platform": null,
           "platformSerialIdentifier": null,
           "processingLevel": null,
           "productType": "canada_spot5_orthoimages",
           "proj:epsg": 3979,
           "resolution": 20,
           "sensorType": null,
           "startTimeFromAscendingNode": "2007-05-04T00:00:00Z",
           "storageStatus": "ONLINE",
           "style": {
            "color": "red"
           },
           "thumbnail": "https://canada-spot-ortho.s3.amazonaws.com/canada_spot_orthoimages/canada_spot5_orthoimages/S5_2007/S5_08059_4507_20070504/s5_08059_4507_20070504_tn.jpg",
           "title": "S5_08059_4507_20070504"
          },
          "type": "Feature"
         },
         {
          "geometry": {
           "coordinates": [
            [
             [
              -81.6437402,
              44.45305149999991
             ],
             [
              -81.440283,
              44.97205759999991
             ],
             [
              -80.70280270000002,
              44.82283499999992
             ],
             [
              -80.91258470000001,
              44.304634199999924
             ],
             [
              -81.6437402,
              44.45305149999991
             ]
            ]
           ],
           "type": "Polygon"
          },
          "id": "S5_08111_4438_20070504",
          "properties": {
           "abstract": null,
           "downloadLink": "https://fake-endpoint/collections/canada_spot5_orthoimages/items/S5_08111_4438_20070504",
           "eo:bands": [
            {
             "common_name": "panchromatic",
             "description": "Panchromatic: 480-710 nm",
             "name": "Panchromatic"
            },
            {
             "common_name": "green",
             "description": "Green: 500-590 nm",
             "name": "Green"
            },
            {
             "common_name": "red",
             "description": "Red: 610-680 nm",
             "name": "Red"
            },
            {
             "common_name": "nir",
             "description": "Near Infrared: 780-890 nm",
             "name": "Near Infrared"
            },
            {
             "common_name": "swir",
             "description": "ShortWave Infrared: 1580-1750 nm",
             "name": "ShortWave Infrared"
            }
           ],
           "eodag_product_type": null,
           "eodag_provider": "stac_http_provider",
           "eodag_search_intersection": {
            "geometries": [],
            "type": "GeometryCollection"
           },
           "instrument": null,
           "license": null,
           "missionStartDate": null,
           "platform": null,
           "platformSerialIdentifier": null,
           "processingLevel": null,
           "productType": "canada_spot5_orthoimages",
           "proj:epsg": 3979,
           "resolution": 20,
           "sensorType": null,
           "startTimeFromAscendingNode": "2007-05-04T00:00:00Z",
           "storageStatus": "ONLINE",
           "style": {
            "color": "red"
           },
           "thumbnail": "https://canada-spot-ortho.s3.amazonaws.com/canada_spot_orthoimages/canada_spot5_orthoimages/S5_2007/S5_08111_4438_20070504/s5_08111_4438_20070504_tn.jpg",
           "title": "S5_08111_4438_20070504"
          },
          "type": "Feature"
         },
         {
          "geometry": {
           "coordinates": [
            [
             [
              -77.8688576,
              44.92858479999993
             ],
             [
              -77.6751065,
              45.44990809999991
             ],
             [
              -76.9381127,
              45.3104741999999
             ],
             [
              -77.13831010000001,
              44.790157899999905
             ],
             [
              -77.8688576,
              44.92858479999993
             ]
            ]
           ],
           "type": "Polygon"
          },
          "id": "S5_07724_4507_20070505",
          "properties": {
           "abstract": null,
           "downloadLink": "https://fake-endpoint/collections/canada_spot5_orthoimages/items/S5_07724_4507_20070505",
           "eo:bands": [
            {
             "common_name": "panchromatic",
             "description": "Panchromatic: 480-710 nm",
             "name": "Panchromatic"
            },
            {
             "common_name": "green",
             "description": "Green: 500-590 nm",
             "name": "Green"
            },
            {
             "common_name": "red",
             "description": "Red: 610-680 nm",
             "name": "Red"
            },
            {
             "common_name": "nir",
             "description": "Near Infrared: 780-890 nm",
             "name": "Near Infrared"
            },
            {
             "common_name": "swir",
             "description": "ShortWave Infrared: 1580-1750 nm",
             "name": "ShortWave Infrared"
            }
           ],
           "eodag_product_type": null,
           "eodag_provider": "stac_http_provider",
           "eodag_search_intersection": {
            "geometries": [],
            "type": "GeometryCollection"
           },
           "instrument": null,
           "license": null,
           "missionStartDate": null,
           "platform": null,
           "platformSerialIdentifier": null,
           "processingLevel": null,
           "productType": "canada_spot5_orthoimages",
           "proj:epsg": 3979,
           "resolution": 20,
           "sensorType": null,
           "startTimeFromAscendingNode": "2007-05-05T00:00:00Z",
           "storageStatus": "ONLINE",
           "style": {
            "color": "red"
           },
           "thumbnail": "https://canada-spot-ortho.s3.amazonaws.com/canada_spot_orthoimages/canada_spot5_orthoimages/S5_2007/S5_07724_4507_20070505/s5_07724_4507_20070505_tn.jpg",
           "title": "S5_07724_4507_20070505"
          },
          "type": "Feature"
         },
         {
          "geometry": {
           "coordinates": [
            [
             [
              -86.1595605,
              49.23422629998713
             ],
             [
              -85.9407614,
              49.7529022999882
             ],
             [
              -85.1419636,
              49.60717919998791
             ],
             [
              -85.3685313,
              49.08959189998682
             ],
             [
              -86.1595605,
              49.23422629998713
             ]
            ]
           ],
           "type": "Polygon"
          },
          "id": "S5_08539_4925_20070503",
          "properties": {
           "abstract": null,
           "downloadLink": "https://fake-endpoint/collections/canada_spot5_orthoimages/items/S5_08539_4925_20070503",
           "eo:bands": [
            {
             "common_name": "panchromatic",
             "description": "Panchromatic: 480-710 nm",
             "name": "Panchromatic"
            },
            {
             "common_name": "green",
             "description": "Green: 500-590 nm",
             "name": "Green"
            },
            {
             "common_name": "red",
             "description": "Red: 610-680 nm",
             "name": "Red"
            },
            {
             "common_name": "nir",
             "description": "Near Infrared: 780-890 nm",
             "name": "Near Infrared"
            },
            {
             "common_name": "swir",
             "description": "ShortWave Infrared: 1580-1750 nm",
             "name": "ShortWave Infrared"
            }
           ],
           "eodag_product_type": null,
           "eodag_provider": "stac_http_provider",
           "eodag_search_intersection": {
            "geometries": [],
            "type": "GeometryCollection"
           },
           "instrument": null,
           "license": null,
           "missionStartDate": null,
           "platform": null,
           "platformSerialIdentifier": null,
           "processingLevel": null,
           "productType": "canada_spot5_orthoimages",
           "proj:epsg": 3979,
           "resolution": 20,
           "sensorType": null,
           "startTimeFromAscendingNode": "2007-05-03T00:00:00Z",
           "storageStatus": "ONLINE",
           "style": {
            "color": "red"
           },
           "thumbnail": "https://canada-spot-ortho.s3.amazonaws.com/canada_spot_orthoimages/canada_spot5_orthoimages/S5_2007/S5_08539_4925_20070503/s5_08539_4925_20070503_tn.jpg",
           "title": "S5_08539_4925_20070503"
          },
          "type": "Feature"
         },
         {
          "geometry": {
           "coordinates": [
            [
             [
              -85.1430113,
              48.28905129998501
             ],
             [
              -84.9162353,
              48.80620119998619
             ],
             [
              -84.1287318,
              48.65145419998586
             ],
             [
              -84.3634894,
              48.135371299984634
             ],
             [
              -85.1430113,
              48.28905129998501
             ]
            ]
           ],
           "type": "Polygon"
          },
          "id": "S5_08438_4828_20070503",
          "properties": {
           "abstract": null,
           "downloadLink": "https://fake-endpoint/collections/canada_spot5_orthoimages/items/S5_08438_4828_20070503",
           "eo:bands": [
            {
             "common_name": "panchromatic",
             "description": "Panchromatic: 480-710 nm",
             "name": "Panchromatic"
            },
            {
             "common_name": "green",
             "description": "Green: 500-590 nm",
             "name": "Green"
            },
            {
             "common_name": "red",
             "description": "Red: 610-680 nm",
             "name": "Red"
            },
            {
             "common_name": "nir",
             "description": "Near Infrared: 780-890 nm",
             "name": "Near Infrared"
            },
            {
             "common_name": "swir",
             "description": "ShortWave Infrared: 1580-1750 nm",
             "name": "ShortWave Infrared"
            }
           ],
           "eodag_product_type": null,
           "eodag_provider": "stac_http_provider",
           "eodag_search_intersection": {
            "geometries": [],
            "type": "GeometryCollection"
           },
           "instrument": null,
           "license": null,
           "missionStartDate": null,
           "platform": null,
           "platformSerialIdentifier": null,
           "processingLevel": null,
           "productType": "canada_spot5_orthoimages",
           "proj:epsg": 3979,
           "resolution": 20,
           "sensorType": null,
           "startTimeFromAscendingNode": "2007-05-03T00:00:00Z",
           "storageStatus": "ONLINE",
           "style": {
            "color": "red"
           },
           "thumbnail": "https://canada-spot-ortho.s3.amazonaws.com/canada_spot_orthoimages/canada_spot5_orthoimages/S5_2007/S5_08438_4828_20070503/s5_08438_4828_20070503_tn.jpg",
           "title": "S5_08438_4828_20070503"
          },
          "type": "Feature"
         },
         {
          "geometry": {
           "coordinates": [
            [
             [
              -82.3604829,
              44.4490351999999
             ],
             [
              -82.1638974,
              44.969530699999915
             ],
             [
              -81.4321473,
              44.82679269999993
             ],
             [
              -81.6351024,
              44.307056199999906
             ],
             [
              -82.3604829,
              44.4490351999999
             ]
            ]
           ],
           "type": "Polygon"
          },
          "id": "S5_08154_4438_20070504",
          "properties": {
           "abstract": null,
           "downloadLink": "https://fake-endpoint/collections/canada_spot5_orthoimages/items/S5_08154_4438_20070504",
           "eo:bands": [
            {
             "common_name": "panchromatic",
             "description": "Panchromatic: 480-710 nm",
             "name": "Panchromatic"
            },
            {
             "common_name": "green",
             "description": "Green: 500-590 nm",
             "name": "Green"
            },
            {
             "common_name": "red",
             "description": "Red: 610-680 nm",
             "name": "Red"
            },
            {
             "common_name": "nir",
             "description": "Near Infrared: 780-890 nm",
             "name": "Near Infrared"
            },
            {
             "common_name": "swir",
             "description": "ShortWave Infrared: 1580-1750 nm",
             "name": "ShortWave Infrared"
            }
           ],
           "eodag_product_type": null,
           "eodag_provider": "stac_http_provider",
           "eodag_search_intersection": {
            "geometries": [],
            "type": "GeometryCollection"
           },
           "instrument": null,
           "license": null,
           "missionStartDate": null,
           "platform": null,
           "platformSerialIdentifier": null,
           "processingLevel": null,
           "productType": "canada_spot5_orthoimages",
           "proj:epsg": 3979,
           "resolution": 20,
           "sensorType": null,
           "startTimeFromAscendingNode": "2007-05-04T00:00:00Z",
           "storageStatus": "ONLINE",
           "style": {
            "color": "red"
           },
           "thumbnail": "https://canada-spot-ortho.s3.amazonaws.com/canada_spot_orthoimages/canada_spot5_orthoimages/S5_2007/S5_08154_4438_20070504/s5_08154_4438_20070504_tn.jpg",
           "title": "S5_08154_4438_20070504"
          },
          "type": "Feature"
         },
         {
          "geometry": {
           "coordinates": [
            [
             [
              -76.24385540000002,
              48.284491499985
             ],
             [
              -76.0261593,
              48.80282719998618
             ],
             [
              -75.24409010000001,
              48.65556529998587
             ],
             [
              -75.4693021,
              48.138179499984645
             ],
             [
              -76.24385540000002,
              48.284491499985
             ]
            ]
           ],
           "type": "Polygon"
          },
          "id": "S5_07545_4828_20070505",
          "properties": {
           "abstract": null,
           "downloadLink": "https://fake-endpoint/collections/canada_spot5_orthoimages/items/S5_07545_4828_20070505",
           "eo:bands": [
            {
             "common_name": "panchromatic",
             "description": "Panchromatic: 480-710 nm",
             "name": "Panchromatic"
            },
            {
             "common_name": "green",
             "description": "Green: 500-590 nm",
             "name": "Green"
            },
            {
             "common_name": "red",
             "description": "Red: 610-680 nm",
             "name": "Red"
            },
            {
             "common_name": "nir",
             "description": "Near Infrared: 780-890 nm",
             "name": "Near Infrared"
            },
            {
             "common_name": "swir",
             "description": "ShortWave Infrared: 1580-1750 nm",
             "name": "ShortWave Infrared"
            }
           ],
           "eodag_product_type": null,
           "eodag_provider": "stac_http_provider",
           "eodag_search_intersection": {
            "geometries": [],
            "type": "GeometryCollection"
           },
           "instrument": null,
           "license": null,
           "missionStartDate": null,
           "platform": null,
           "platformSerialIdentifier": null,
           "processingLevel": null,
           "productType": "canada_spot5_orthoimages",
           "proj:epsg": 3979,
           "resolution": 20,
           "sensorType": null,
           "startTimeFromAscendingNode": "2007-05-05T00:00:00Z",
           "storageStatus": "ONLINE",
           "style": {
            "color": "red"
           },
           "thumbnail": "https://canada-spot-ortho.s3.amazonaws.com/canada_spot_orthoimages/canada_spot5_orthoimages/S5_2007/S5_07545_4828_20070505/s5_07545_4828_20070505_tn.jpg",
           "title": "S5_07545_4828_20070505"
          },
          "type": "Feature"
         },
         {
          "geometry": {
           "coordinates": [
            [
             [
              -75.8416676,
              49.236272499987166
             ],
             [
              -75.6169194,
              49.75401399998823
             ],
             [
              -74.8203005,
              49.60474209998792
             ],
             [
              -75.052923,
              49.08803909998684
             ],
             [
              -75.8416676,
              49.236272499987166
             ]
            ]
           ],
           "type": "Polygon"
          },
          "id": "S5_07520_4925_20070505",
          "properties": {
           "abstract": null,
           "downloadLink": "https://fake-endpoint/collections/canada_spot5_orthoimages/items/S5_07520_4925_20070505",
           "eo:bands": [
            {
             "common_name": "panchromatic",
             "description": "Panchromatic: 480-710 nm",
             "name": "Panchromatic"
            },
            {
             "common_name": "green",
             "description": "Green: 500-590 nm",
             "name": "Green"
            },
            {
             "common_name": "red",
             "description": "Red: 610-680 nm",
             "name": "Red"
            },
            {
             "common_name": "nir",
             "description": "Near Infrared: 780-890 nm",
             "name": "Near Infrared"
            },
            {
             "common_name": "swir",
             "description": "ShortWave Infrared: 1580-1750 nm",
             "name": "ShortWave Infrared"
            }
           ],
           "eodag_product_type": null,
           "eodag_provider": "stac_http_provider",
           "eodag_search_intersection": {
            "geometries": [],
            "type": "GeometryCollection"
           },
           "instrument": null,
           "license": null,
           "missionStartDate": null,
           "platform": null,
           "platformSerialIdentifier": null,
           "processingLevel": null,
           "productType": "canada_spot5_orthoimages",
           "proj:epsg": 3979,
           "resolution": 20,
           "sensorType": null,
           "startTimeFromAscendingNode": "2007-05-05T00:00:00Z",
           "storageStatus": "ONLINE",
           "style": {
            "color": "red"
           },
           "thumbnail": "https://canada-spot-ortho.s3.amazonaws.com/canada_spot_orthoimages/canada_spot5_orthoimages/S5_2007/S5_07520_4925_20070505/s5_07520_4925_20070505_tn.jpg",
           "title": "S5_07520_4925_20070505"
          },
          "type": "Feature"
         },
         {
          "geometry": {
           "coordinates": [
            [
             [
              -82.5399498,
              43.96653589999989
             ],
             [
              -82.3458555,
              44.4875308999999
             ],
             [
              -81.6429288,
              44.34954079999989
             ],
             [
              -81.861012,
              43.83442389999987
             ],
             [
              -82.5399498,
              43.96653589999989
             ]
            ]
           ],
           "type": "Polygon"
          },
          "id": "S5_08205_4409_20070504",
          "properties": {
           "abstract": null,
           "downloadLink": "https://fake-endpoint/collections/canada_spot5_orthoimages/items/S5_08205_4409_20070504",
           "eo:bands": [
            {
             "common_name": "panchromatic",
             "description": "Panchromatic: 480-710 nm",
             "name": "Panchromatic"
            },
            {
             "common_name": "green",
             "description": "Green: 500-590 nm",
             "name": "Green"
            },
            {
             "common_name": "red",
             "description": "Red: 610-680 nm",
             "name": "Red"
            },
            {
             "common_name": "nir",
             "description": "Near Infrared: 780-890 nm",
             "name": "Near Infrared"
            },
            {
             "common_name": "swir",
             "description": "ShortWave Infrared: 1580-1750 nm",
             "name": "ShortWave Infrared"
            }
           ],
           "eodag_product_type": null,
           "eodag_provider": "stac_http_provider",
           "eodag_search_intersection": {
            "geometries": [],
            "type": "GeometryCollection"
           },
           "instrument": null,
           "license": null,
           "missionStartDate": null,
           "platform": null,
           "platformSerialIdentifier": null,
           "processingLevel": null,
           "productType": "canada_spot5_orthoimages",
           "proj:epsg": 3979,
           "resolution": 20,
           "sensorType": null,
           "startTimeFromAscendingNode": "2007-05-04T00:00:00Z",
           "storageStatus": "ONLINE",
           "style": {
            "color": "red"
           },
           "thumbnail": "https://canada-spot-ortho.s3.amazonaws.com/canada_spot_orthoimages/canada_spot5_orthoimages/S5_2007/S5_08205_4409_20070504/s5_08205_4409_20070504_tn.jpg",
           "title": "S5_08205_4409_20070504"
          },
          "type": "Feature"
         },
         {
          "geometry": {
           "coordinates": [
            [
             [
              -134.61285240000004,
              59.90237209999863
             ],
             [
              -134.2436326,
              60.40733679999877
             ],
             [
              -133.2247839,
              60.218067899998715
             ],
             [
              -133.60573870000002,
              59.715175899998535
             ],
             [
              -134.61285240000004,
              59.90237209999863
             ]
            ]
           ],
           "type": "Polygon"
          },
          "id": "S5_13355_6004_20070502",
          "properties": {
           "abstract": null,
           "downloadLink": "https://fake-endpoint/collections/canada_spot5_orthoimages/items/S5_13355_6004_20070502",
           "eo:bands": [
            {
             "common_name": "panchromatic",
             "description": "Panchromatic: 480-710 nm",
             "name": "Panchromatic"
            },
            {
             "common_name": "green",
             "description": "Green: 500-590 nm",
             "name": "Green"
            },
            {
             "common_name": "red",
             "description": "Red: 610-680 nm",
             "name": "Red"
            },
            {
             "common_name": "nir",
             "description": "Near Infrared: 780-890 nm",
             "name": "Near Infrared"
            },
            {
             "common_name": "swir",
             "description": "ShortWave Infrared: 1580-1750 nm",
             "name": "ShortWave Infrared"
            }
           ],
           "eodag_product_type": null,
           "eodag_provider": "stac_http_provider",
           "eodag_search_intersection": {
            "geometries": [],
            "type": "GeometryCollection"
           },
           "instrument": null,
           "license": null,
           "missionStartDate": null,
           "platform": null,
           "platformSerialIdentifier": null,
           "processingLevel": null,
           "productType": "canada_spot5_orthoimages",
           "proj:epsg": 3979,
           "resolution": 20,
           "sensorType": null,
           "startTimeFromAscendingNode": "2007-05-02T00:00:00Z",
           "storageStatus": "ONLINE",
           "style": {
            "color": "red"
           },
           "thumbnail": "https://canada-spot-ortho.s3.amazonaws.com/canada_spot_orthoimages/canada_spot5_orthoimages/S5_2007/S5_13355_6004_20070502/s5_13355_6004_20070502_tn.jpg",
           "title": "S5_13355_6004_20070502"
          },
          "type": "Feature"
         },
         {
          "geometry": {
           "coordinates": [
            [
             [
              -75.8321003,
              47.85693209998394
             ],
             [
              -75.5637798,
              48.363290499985176
             ],
             [
              -74.5776358,
              48.12570679998459
             ],
             [
              -74.8555234,
              47.61966979998332
             ],
             [
              -75.8321003,
              47.85693209998394
             ]
            ]
           ],
           "type": "Polygon"
          },
          "id": "S5_07513_4760_20070504",
          "properties": {
           "abstract": null,
           "downloadLink": "https://fake-endpoint/collections/canada_spot5_orthoimages/items/S5_07513_4760_20070504",
           "eo:bands": [
            {
             "common_name": "panchromatic",
             "description": "Panchromatic: 480-710 nm",
             "name": "Panchromatic"
            },
            {
             "common_name": "green",
             "description": "Green: 500-590 nm",
             "name": "Green"
            },
            {
             "common_name": "red",
             "description": "Red: 610-680 nm",
             "name": "Red"
            },
            {
             "common_name": "nir",
             "description": "Near Infrared: 780-890 nm",
             "name": "Near Infrared"
            },
            {
             "common_name": "swir",
             "description": "ShortWave Infrared: 1580-1750 nm",
             "name": "ShortWave Infrared"
            }
           ],
           "eodag_product_type": null,
           "eodag_provider": "stac_http_provider",
           "eodag_search_intersection": {
            "geometries": [],
            "type": "GeometryCollection"
           },
           "instrument": null,
           "license": null,
           "missionStartDate": null,
           "platform": null,
           "platformSerialIdentifier": null,
           "processingLevel": null,
           "productType": "canada_spot5_orthoimages",
           "proj:epsg": 3979,
           "resolution": 20,
           "sensorType": null,
           "startTimeFromAscendingNode": "2007-05-04T00:00:00Z",
           "storageStatus": "ONLINE",
           "style": {
            "color": "red"
           },
           "thumbnail": "https://canada-spot-ortho.s3.amazonaws.com/canada_spot_orthoimages/canada_spot5_orthoimages/S5_2007/S5_07513_4760_20070504/s5_07513_4760_20070504_tn.jpg",
           "title": "S5_07513_4760_20070504"
          },
          "type": "Feature"
         }
        ],
        "type": "FeatureCollection"
       },
       "name": "",
       "options": [],
       "popup": null,
       "popup_max_height": null,
       "popup_max_width": 300,
       "popup_min_width": 50,
       "style": {
        "color": "red"
       }
      }
     },
     "3d25321438bc4ca4b93c9ec20d7a59ca": {
      "model_module": "@jupyter-widgets/controls",
      "model_module_version": "1.5.0",
      "model_name": "HBoxModel",
      "state": {
       "children": [
        "IPY_MODEL_dc88140411e04b0a80323ea3a4e7b575",
        "IPY_MODEL_21764661330241f4b57b054fc3d8a5dd",
        "IPY_MODEL_d75cdf9da5d34176bad07f995272b61b"
       ],
       "layout": "IPY_MODEL_214391a4022c41bc91648530f22c2bfd"
      }
     },
     "3fdc3ab9a26543699b4eca949c28d624": {
      "model_module": "jupyter-leaflet",
      "model_module_version": "^0.13.5",
      "model_name": "LeafletAttributionControlModel",
      "state": {
       "_model_module_version": "^0.13.5",
       "_view_module_version": "^0.13.5",
       "options": [
        "position",
        "prefix"
       ],
       "position": "bottomright",
       "prefix": "ipyleaflet"
      }
     },
     "407b81c40d174c8e9e84247de663e19c": {
      "model_module": "@jupyter-widgets/base",
      "model_module_version": "1.2.0",
      "model_name": "LayoutModel",
      "state": {}
     },
     "40f2db6c9b5b41139618a09749349ded": {
      "model_module": "@jupyter-widgets/controls",
      "model_module_version": "1.5.0",
      "model_name": "HBoxModel",
      "state": {
       "children": [
        "IPY_MODEL_bdab16ed5d5f40d183b638c14c43a2b6",
        "IPY_MODEL_45d23f9c823f44db80dc6e648362efa3",
        "IPY_MODEL_f515e33d99184616a1ab3543d028c06e"
       ],
       "layout": "IPY_MODEL_1e9bece05be64397a841609da39dcb13"
      }
     },
     "42b65c6f60c54ec79d945b9cd6dbbaac": {
      "model_module": "jupyter-leaflet",
      "model_module_version": "^0.13.5",
      "model_name": "LeafletMapStyleModel",
      "state": {
       "_model_module_version": "^0.13.5"
      }
     },
     "42cc87a7a7494a538fd06bf70fa893f7": {
      "model_module": "jupyter-leaflet",
      "model_module_version": "^0.13.5",
      "model_name": "LeafletGeoJSONModel",
      "state": {
       "_model_module": "jupyter-leaflet",
       "_model_module_version": "^0.13.5",
       "_view_count": null,
       "_view_module": "jupyter-leaflet",
       "_view_module_version": "^0.13.5",
       "base": false,
       "bottom": false,
       "data": {
        "features": [
         {
          "geometry": {
           "coordinates": [
            [
             [
              -77.5086458,
              45.89066339999992
             ],
             [
              -77.3097434,
              46.411011399999936
             ],
             [
              -76.56018450000002,
              46.27010199999995
             ],
             [
              -76.766165,
              45.75074559999991
             ],
             [
              -77.5086458,
              45.89066339999992
             ]
            ]
           ],
           "type": "Polygon"
          },
          "id": "S5_07702_4605_20070505",
          "properties": {
           "abstract": null,
           "downloadLink": "https://fake-endpoint/collections/canada_spot5_orthoimages/items/S5_07702_4605_20070505",
           "eo:bands": [
            {
             "common_name": "panchromatic",
             "description": "Panchromatic: 480-710 nm",
             "name": "Panchromatic"
            },
            {
             "common_name": "green",
             "description": "Green: 500-590 nm",
             "name": "Green"
            },
            {
             "common_name": "red",
             "description": "Red: 610-680 nm",
             "name": "Red"
            },
            {
             "common_name": "nir",
             "description": "Near Infrared: 780-890 nm",
             "name": "Near Infrared"
            },
            {
             "common_name": "swir",
             "description": "ShortWave Infrared: 1580-1750 nm",
             "name": "ShortWave Infrared"
            }
           ],
           "eodag_product_type": null,
           "eodag_provider": "stac_http_provider",
           "eodag_search_intersection": {
            "geometries": [],
            "type": "GeometryCollection"
           },
           "instrument": null,
           "license": null,
           "missionStartDate": null,
           "platform": null,
           "platformSerialIdentifier": null,
           "processingLevel": null,
           "productType": "canada_spot5_orthoimages",
           "proj:epsg": 3979,
           "resolution": 20,
           "sensorType": null,
           "startTimeFromAscendingNode": "2007-05-05T00:00:00Z",
           "storageStatus": "ONLINE",
           "style": {
            "color": "green"
           },
           "thumbnail": "https://canada-spot-ortho.s3.amazonaws.com/canada_spot_orthoimages/canada_spot5_orthoimages/S5_2007/S5_07702_4605_20070505/s5_07702_4605_20070505_tn.jpg",
           "title": "S5_07702_4605_20070505"
          },
          "type": "Feature"
         },
         {
          "geometry": {
           "coordinates": [
            [
             [
              -77.6897149,
              45.41003529999992
             ],
             [
              -77.493466,
              45.93058879999993
             ],
             [
              -76.7514935,
              45.790705999999915
             ],
             [
              -76.9536275,
              45.27084659999991
             ],
             [
              -77.6897149,
              45.41003529999992
             ]
            ]
           ],
           "type": "Polygon"
          },
          "id": "S5_07713_4536_20070505",
          "properties": {
           "abstract": null,
           "downloadLink": "https://fake-endpoint/collections/canada_spot5_orthoimages/items/S5_07713_4536_20070505",
           "eo:bands": [
            {
             "common_name": "panchromatic",
             "description": "Panchromatic: 480-710 nm",
             "name": "Panchromatic"
            },
            {
             "common_name": "green",
             "description": "Green: 500-590 nm",
             "name": "Green"
            },
            {
             "common_name": "red",
             "description": "Red: 610-680 nm",
             "name": "Red"
            },
            {
             "common_name": "nir",
             "description": "Near Infrared: 780-890 nm",
             "name": "Near Infrared"
            },
            {
             "common_name": "swir",
             "description": "ShortWave Infrared: 1580-1750 nm",
             "name": "ShortWave Infrared"
            }
           ],
           "eodag_product_type": null,
           "eodag_provider": "stac_http_provider",
           "eodag_search_intersection": {
            "geometries": [],
            "type": "GeometryCollection"
           },
           "instrument": null,
           "license": null,
           "missionStartDate": null,
           "platform": null,
           "platformSerialIdentifier": null,
           "processingLevel": null,
           "productType": "canada_spot5_orthoimages",
           "proj:epsg": 3979,
           "resolution": 20,
           "sensorType": null,
           "startTimeFromAscendingNode": "2007-05-05T00:00:00Z",
           "storageStatus": "ONLINE",
           "style": {
            "color": "green"
           },
           "thumbnail": "https://canada-spot-ortho.s3.amazonaws.com/canada_spot_orthoimages/canada_spot5_orthoimages/S5_2007/S5_07713_4536_20070505/s5_07713_4536_20070505_tn.jpg",
           "title": "S5_07713_4536_20070505"
          },
          "type": "Feature"
         },
         {
          "geometry": {
           "coordinates": [
            [
             [
              -77.8688576,
              44.92858479999993
             ],
             [
              -77.6751065,
              45.44990809999991
             ],
             [
              -76.9381127,
              45.3104741999999
             ],
             [
              -77.13831010000001,
              44.790157899999905
             ],
             [
              -77.8688576,
              44.92858479999993
             ]
            ]
           ],
           "type": "Polygon"
          },
          "id": "S5_07724_4507_20070505",
          "properties": {
           "abstract": null,
           "downloadLink": "https://fake-endpoint/collections/canada_spot5_orthoimages/items/S5_07724_4507_20070505",
           "eo:bands": [
            {
             "common_name": "panchromatic",
             "description": "Panchromatic: 480-710 nm",
             "name": "Panchromatic"
            },
            {
             "common_name": "green",
             "description": "Green: 500-590 nm",
             "name": "Green"
            },
            {
             "common_name": "red",
             "description": "Red: 610-680 nm",
             "name": "Red"
            },
            {
             "common_name": "nir",
             "description": "Near Infrared: 780-890 nm",
             "name": "Near Infrared"
            },
            {
             "common_name": "swir",
             "description": "ShortWave Infrared: 1580-1750 nm",
             "name": "ShortWave Infrared"
            }
           ],
           "eodag_product_type": null,
           "eodag_provider": "stac_http_provider",
           "eodag_search_intersection": {
            "geometries": [],
            "type": "GeometryCollection"
           },
           "instrument": null,
           "license": null,
           "missionStartDate": null,
           "platform": null,
           "platformSerialIdentifier": null,
           "processingLevel": null,
           "productType": "canada_spot5_orthoimages",
           "proj:epsg": 3979,
           "resolution": 20,
           "sensorType": null,
           "startTimeFromAscendingNode": "2007-05-05T00:00:00Z",
           "storageStatus": "ONLINE",
           "style": {
            "color": "green"
           },
           "thumbnail": "https://canada-spot-ortho.s3.amazonaws.com/canada_spot_orthoimages/canada_spot5_orthoimages/S5_2007/S5_07724_4507_20070505/s5_07724_4507_20070505_tn.jpg",
           "title": "S5_07724_4507_20070505"
          },
          "type": "Feature"
         }
        ],
        "type": "FeatureCollection"
       },
       "name": "",
       "options": [],
       "popup": null,
       "popup_max_height": null,
       "popup_max_width": 300,
       "popup_min_width": 50,
       "style": {
        "color": "green"
       }
      }
     },
     "43251ee5422b4e1081954905e0f88381": {
      "model_module": "jupyter-leaflet",
      "model_module_version": "^0.13.5",
      "model_name": "LeafletMapStyleModel",
      "state": {
       "_model_module_version": "^0.13.5",
       "cursor": "move"
      }
     },
     "45d23f9c823f44db80dc6e648362efa3": {
      "model_module": "@jupyter-widgets/controls",
      "model_module_version": "1.5.0",
      "model_name": "FloatProgressModel",
      "state": {
       "bar_style": "success",
       "layout": "IPY_MODEL_dec0f784aba246ab937d611d5f55cb70",
       "max": 77683711,
       "style": "IPY_MODEL_2a87352cc5e443b7af97f7890a9d588f",
       "value": 77683711
      }
     },
     "472670421f3447c597f1e61aa152c345": {
      "model_module": "jupyter-leaflet",
      "model_module_version": "^0.13.5",
      "model_name": "LeafletGeoJSONModel",
      "state": {
       "_model_module": "jupyter-leaflet",
       "_model_module_version": "^0.13.5",
       "_view_count": null,
       "_view_module": "jupyter-leaflet",
       "_view_module_version": "^0.13.5",
       "base": false,
       "bottom": false,
       "data": {
        "features": [
         {
          "geometry": {
           "coordinates": [
            [
             [
              -77.6897149,
              45.41003529999992
             ],
             [
              -77.493466,
              45.93058879999993
             ],
             [
              -76.7514935,
              45.790705999999915
             ],
             [
              -76.9536275,
              45.27084659999991
             ],
             [
              -77.6897149,
              45.41003529999992
             ]
            ]
           ],
           "type": "Polygon"
          },
          "id": "S5_07713_4536_20070505",
          "properties": {
           "abstract": null,
           "downloadLink": "https://fake-endpoint/collections/canada_spot5_orthoimages/items/S5_07713_4536_20070505",
           "eo:bands": [
            {
             "common_name": "panchromatic",
             "description": "Panchromatic: 480-710 nm",
             "name": "Panchromatic"
            },
            {
             "common_name": "green",
             "description": "Green: 500-590 nm",
             "name": "Green"
            },
            {
             "common_name": "red",
             "description": "Red: 610-680 nm",
             "name": "Red"
            },
            {
             "common_name": "nir",
             "description": "Near Infrared: 780-890 nm",
             "name": "Near Infrared"
            },
            {
             "common_name": "swir",
             "description": "ShortWave Infrared: 1580-1750 nm",
             "name": "ShortWave Infrared"
            }
           ],
           "eodag_product_type": null,
           "eodag_provider": "stac_http_provider",
           "eodag_search_intersection": {
            "geometries": [],
            "type": "GeometryCollection"
           },
           "instrument": null,
           "license": null,
           "missionStartDate": null,
           "platform": null,
           "platformSerialIdentifier": null,
           "processingLevel": null,
           "productType": "canada_spot5_orthoimages",
           "proj:epsg": 3979,
           "resolution": 20,
           "sensorType": null,
           "startTimeFromAscendingNode": "2007-05-05T00:00:00Z",
           "storageStatus": "ONLINE",
           "style": {
            "color": "green"
           },
           "thumbnail": "https://canada-spot-ortho.s3.amazonaws.com/canada_spot_orthoimages/canada_spot5_orthoimages/S5_2007/S5_07713_4536_20070505/s5_07713_4536_20070505_tn.jpg",
           "title": "S5_07713_4536_20070505"
          },
          "type": "Feature"
         },
         {
          "geometry": {
           "coordinates": [
            [
             [
              -77.5086458,
              45.89066339999992
             ],
             [
              -77.3097434,
              46.411011399999936
             ],
             [
              -76.56018450000002,
              46.27010199999995
             ],
             [
              -76.766165,
              45.75074559999991
             ],
             [
              -77.5086458,
              45.89066339999992
             ]
            ]
           ],
           "type": "Polygon"
          },
          "id": "S5_07702_4605_20070505",
          "properties": {
           "abstract": null,
           "downloadLink": "https://fake-endpoint/collections/canada_spot5_orthoimages/items/S5_07702_4605_20070505",
           "eo:bands": [
            {
             "common_name": "panchromatic",
             "description": "Panchromatic: 480-710 nm",
             "name": "Panchromatic"
            },
            {
             "common_name": "green",
             "description": "Green: 500-590 nm",
             "name": "Green"
            },
            {
             "common_name": "red",
             "description": "Red: 610-680 nm",
             "name": "Red"
            },
            {
             "common_name": "nir",
             "description": "Near Infrared: 780-890 nm",
             "name": "Near Infrared"
            },
            {
             "common_name": "swir",
             "description": "ShortWave Infrared: 1580-1750 nm",
             "name": "ShortWave Infrared"
            }
           ],
           "eodag_product_type": null,
           "eodag_provider": "stac_http_provider",
           "eodag_search_intersection": {
            "geometries": [],
            "type": "GeometryCollection"
           },
           "instrument": null,
           "license": null,
           "missionStartDate": null,
           "platform": null,
           "platformSerialIdentifier": null,
           "processingLevel": null,
           "productType": "canada_spot5_orthoimages",
           "proj:epsg": 3979,
           "resolution": 20,
           "sensorType": null,
           "startTimeFromAscendingNode": "2007-05-05T00:00:00Z",
           "storageStatus": "ONLINE",
           "style": {
            "color": "green"
           },
           "thumbnail": "https://canada-spot-ortho.s3.amazonaws.com/canada_spot_orthoimages/canada_spot5_orthoimages/S5_2007/S5_07702_4605_20070505/s5_07702_4605_20070505_tn.jpg",
           "title": "S5_07702_4605_20070505"
          },
          "type": "Feature"
         },
         {
          "geometry": {
           "coordinates": [
            [
             [
              -77.8688576,
              44.92858479999993
             ],
             [
              -77.6751065,
              45.44990809999991
             ],
             [
              -76.9381127,
              45.3104741999999
             ],
             [
              -77.13831010000001,
              44.790157899999905
             ],
             [
              -77.8688576,
              44.92858479999993
             ]
            ]
           ],
           "type": "Polygon"
          },
          "id": "S5_07724_4507_20070505",
          "properties": {
           "abstract": null,
           "downloadLink": "https://fake-endpoint/collections/canada_spot5_orthoimages/items/S5_07724_4507_20070505",
           "eo:bands": [
            {
             "common_name": "panchromatic",
             "description": "Panchromatic: 480-710 nm",
             "name": "Panchromatic"
            },
            {
             "common_name": "green",
             "description": "Green: 500-590 nm",
             "name": "Green"
            },
            {
             "common_name": "red",
             "description": "Red: 610-680 nm",
             "name": "Red"
            },
            {
             "common_name": "nir",
             "description": "Near Infrared: 780-890 nm",
             "name": "Near Infrared"
            },
            {
             "common_name": "swir",
             "description": "ShortWave Infrared: 1580-1750 nm",
             "name": "ShortWave Infrared"
            }
           ],
           "eodag_product_type": null,
           "eodag_provider": "stac_http_provider",
           "eodag_search_intersection": {
            "geometries": [],
            "type": "GeometryCollection"
           },
           "instrument": null,
           "license": null,
           "missionStartDate": null,
           "platform": null,
           "platformSerialIdentifier": null,
           "processingLevel": null,
           "productType": "canada_spot5_orthoimages",
           "proj:epsg": 3979,
           "resolution": 20,
           "sensorType": null,
           "startTimeFromAscendingNode": "2007-05-05T00:00:00Z",
           "storageStatus": "ONLINE",
           "style": {
            "color": "green"
           },
           "thumbnail": "https://canada-spot-ortho.s3.amazonaws.com/canada_spot_orthoimages/canada_spot5_orthoimages/S5_2007/S5_07724_4507_20070505/s5_07724_4507_20070505_tn.jpg",
           "title": "S5_07724_4507_20070505"
          },
          "type": "Feature"
         }
        ],
        "type": "FeatureCollection"
       },
       "name": "",
       "options": [],
       "popup": null,
       "popup_max_height": null,
       "popup_max_width": 300,
       "popup_min_width": 50,
       "style": {
        "color": "green"
       }
      }
     },
     "47de8ddad5d6475a8ba6ac70362e85f1": {
      "model_module": "jupyter-leaflet",
      "model_module_version": "^0.13.5",
      "model_name": "LeafletGeoJSONModel",
      "state": {
       "_model_module": "jupyter-leaflet",
       "_model_module_version": "^0.13.5",
       "_view_count": null,
       "_view_module": "jupyter-leaflet",
       "_view_module_version": "^0.13.5",
       "base": false,
       "bottom": false,
       "data": {
        "coordinates": [
         [
          [
           -70,
           45
          ],
          [
           -75,
           47
          ],
          [
           -80,
           47
          ],
          [
           -80,
           44
          ],
          [
           -70,
           45
          ]
         ]
        ],
        "type": "Polygon"
       },
       "name": "",
       "options": [],
       "popup": null,
       "popup_max_height": null,
       "popup_max_width": 300,
       "popup_min_width": 50,
       "style": {
        "color": "blue"
       }
      }
     },
     "48dcc48a8255406c8e1b8267c43094aa": {
      "model_module": "jupyter-leaflet",
      "model_module_version": "^0.13.5",
      "model_name": "LeafletMapModel",
      "state": {
       "_model_module_version": "^0.13.5",
       "_view_module_version": "^0.13.5",
       "bottom": 895,
       "center": [
        50,
        -100
       ],
       "controls": [
        "IPY_MODEL_2312179991b34a5899197547dfc20ca4",
        "IPY_MODEL_d59f5ccb346d4937bf4d2c8c71cc84dc"
       ],
       "default_style": "IPY_MODEL_cc03995ea94b4dc2bb46add2fe2afc16",
       "dragging_style": "IPY_MODEL_812cfb4d708040f4a62e16e62f99e37d",
       "east": -15.292968750000002,
       "fullscreen": false,
       "interpolation": "bilinear",
       "layers": [
        "IPY_MODEL_9c61f7b9da8d46e8be0d9391bdebf81f",
        "IPY_MODEL_522accc1dcc746c187f55b63851d70bf",
        "IPY_MODEL_3c96e64ada9b43489dc9271c1453cf30",
        "IPY_MODEL_42cc87a7a7494a538fd06bf70fa893f7"
       ],
       "layout": "IPY_MODEL_d223bc0ebcfb43aca175ea0c1ef77fd6",
       "left": -26,
       "modisdate": "yesterday",
       "north": 67.676084581981,
       "options": [
        "bounce_at_zoom_limits",
        "box_zoom",
        "center",
        "close_popup_on_click",
        "double_click_zoom",
        "dragging",
        "fullscreen",
        "inertia",
        "inertia_deceleration",
        "inertia_max_speed",
        "interpolation",
        "keyboard",
        "keyboard_pan_offset",
        "keyboard_zoom_offset",
        "max_zoom",
        "min_zoom",
        "scroll_wheel_zoom",
        "tap",
        "tap_tolerance",
        "touch_zoom",
        "world_copy_jump",
        "zoom",
        "zoom_animation_threshold",
        "zoom_delta",
        "zoom_snap",
        "zoom_start"
       ],
       "right": 937,
       "south": 22.105998799750566,
       "style": "IPY_MODEL_d3597ca968c143268d1c421c44894167",
       "top": 495,
       "west": -184.57031250000003,
       "window_url": "http://localhost:8888/notebooks/tuto_stac_client.ipynb#",
       "zoom": 3
      }
     },
     "491c610a3d7541258cb151c8c68d82cc": {
      "model_module": "@jupyter-widgets/base",
      "model_module_version": "1.2.0",
      "model_name": "LayoutModel",
      "state": {}
     },
     "4b6d9ec0eb91469a9865130884d460a7": {
      "model_module": "jupyter-leaflet",
      "model_module_version": "^0.13.5",
      "model_name": "LeafletGeoJSONModel",
      "state": {
       "_model_module": "jupyter-leaflet",
       "_model_module_version": "^0.13.5",
       "_view_count": null,
       "_view_module": "jupyter-leaflet",
       "_view_module_version": "^0.13.5",
       "base": false,
       "bottom": false,
       "data": {
        "coordinates": [
         [
          [
           -70,
           45
          ],
          [
           -75,
           47
          ],
          [
           -80,
           47
          ],
          [
           -80,
           44
          ],
          [
           -70,
           45
          ]
         ]
        ],
        "type": "Polygon"
       },
       "name": "",
       "options": [],
       "popup": null,
       "popup_max_height": null,
       "popup_max_width": 300,
       "popup_min_width": 50,
       "style": {
        "color": "blue"
       }
      }
     },
     "4c25087eb69147d1bc333f882ea3ab5b": {
      "model_module": "jupyter-leaflet",
      "model_module_version": "^0.13.5",
      "model_name": "LeafletGeoJSONModel",
      "state": {
       "_model_module": "jupyter-leaflet",
       "_model_module_version": "^0.13.5",
       "_view_count": null,
       "_view_module": "jupyter-leaflet",
       "_view_module_version": "^0.13.5",
       "base": false,
       "bottom": false,
       "data": {
        "coordinates": [
         [
          [
           -70,
           45
          ],
          [
           -75,
           47
          ],
          [
           -80,
           47
          ],
          [
           -80,
           44
          ],
          [
           -70,
           45
          ]
         ]
        ],
        "type": "Polygon"
       },
       "name": "",
       "options": [],
       "popup": null,
       "popup_max_height": null,
       "popup_max_width": 300,
       "popup_min_width": 50,
       "style": {
        "color": "blue"
       }
      }
     },
     "4d570637a02848a48678264354183bb4": {
      "model_module": "jupyter-leaflet",
      "model_module_version": "^0.13.5",
      "model_name": "LeafletTileLayerModel",
      "state": {
       "_model_module_version": "^0.13.5",
       "_view_module_version": "^0.13.5",
       "base": true,
       "max_native_zoom": 18,
       "max_zoom": 19,
       "min_native_zoom": 0,
       "min_zoom": 1,
       "options": [
        "attribution",
        "detect_retina",
        "max_native_zoom",
        "max_zoom",
        "min_native_zoom",
        "min_zoom",
        "no_wrap",
        "tile_size",
        "tms"
       ]
      }
     },
     "4d8b097436724836afec4fd8c6412203": {
      "model_module": "@jupyter-widgets/base",
      "model_module_version": "1.2.0",
      "model_name": "LayoutModel",
      "state": {
       "flex": "2"
      }
     },
     "4debbf1adba14af7831a1158a03cfbdf": {
      "model_module": "jupyter-leaflet",
      "model_module_version": "^0.13.5",
      "model_name": "LeafletGeoJSONModel",
      "state": {
       "_model_module": "jupyter-leaflet",
       "_model_module_version": "^0.13.5",
       "_view_count": null,
       "_view_module": "jupyter-leaflet",
       "_view_module_version": "^0.13.5",
       "base": false,
       "bottom": false,
       "data": {
        "coordinates": [
         [
          [
           -70,
           45
          ],
          [
           -74,
           52
          ],
          [
           -80,
           52
          ],
          [
           -80,
           44
          ],
          [
           -70,
           45
          ]
         ]
        ],
        "type": "Polygon"
       },
       "name": "",
       "options": [],
       "popup": null,
       "popup_max_height": null,
       "popup_max_width": 300,
       "popup_min_width": 50,
       "style": {
        "color": "blue"
       }
      }
     },
     "4dec10b3f8284e079fd6ef51e4f27eaa": {
      "model_module": "jupyter-leaflet",
      "model_module_version": "^0.13.5",
      "model_name": "LeafletMapModel",
      "state": {
       "_model_module_version": "^0.13.5",
       "_view_module_version": "^0.13.5",
       "bottom": 895,
       "center": [
        50,
        -100
       ],
       "controls": [
        "IPY_MODEL_d2b096a4cc364fb1a2b2c5151a913576",
        "IPY_MODEL_de9018b108f541e592bb1df9d2f50fca"
       ],
       "default_style": "IPY_MODEL_f3dfbf29310e4f428f6603afa0c3e9e5",
       "dragging_style": "IPY_MODEL_324eb46c47574e85bc784d6f42e5cf72",
       "east": -15.292968750000002,
       "fullscreen": false,
       "interpolation": "bilinear",
       "layers": [
        "IPY_MODEL_009e5068727e4ce8ada2cef571772b56",
        "IPY_MODEL_4debbf1adba14af7831a1158a03cfbdf",
        "IPY_MODEL_d006ed24ecec4a3a94736251cab15a02",
        "IPY_MODEL_f93acd1701104a7c937d057a8a496a96"
       ],
       "layout": "IPY_MODEL_1aedd1d1fd5f4a598ca2c6a3cfa0edb8",
       "left": -26,
       "modisdate": "yesterday",
       "north": 67.676084581981,
       "options": [
        "bounce_at_zoom_limits",
        "box_zoom",
        "center",
        "close_popup_on_click",
        "double_click_zoom",
        "dragging",
        "fullscreen",
        "inertia",
        "inertia_deceleration",
        "inertia_max_speed",
        "interpolation",
        "keyboard",
        "keyboard_pan_offset",
        "keyboard_zoom_offset",
        "max_zoom",
        "min_zoom",
        "scroll_wheel_zoom",
        "tap",
        "tap_tolerance",
        "touch_zoom",
        "world_copy_jump",
        "zoom",
        "zoom_animation_threshold",
        "zoom_delta",
        "zoom_snap",
        "zoom_start"
       ],
       "right": 937,
       "south": 22.105998799750566,
       "style": "IPY_MODEL_b3847e711e5b43a6a5e30a25cb89e7bc",
       "top": 495,
       "west": -184.57031250000003,
       "window_url": "http://localhost:8888/notebooks/tuto_stac_client.ipynb",
       "zoom": 3
      }
     },
     "4e22499aebcf4dbe8b610011f2177fa1": {
      "model_module": "@jupyter-widgets/base",
      "model_module_version": "1.2.0",
      "model_name": "LayoutModel",
      "state": {}
     },
     "522accc1dcc746c187f55b63851d70bf": {
      "model_module": "jupyter-leaflet",
      "model_module_version": "^0.13.5",
      "model_name": "LeafletGeoJSONModel",
      "state": {
       "_model_module": "jupyter-leaflet",
       "_model_module_version": "^0.13.5",
       "_view_count": null,
       "_view_module": "jupyter-leaflet",
       "_view_module_version": "^0.13.5",
       "base": false,
       "bottom": false,
       "data": {
        "coordinates": [
         [
          [
           -70,
           45
          ],
          [
           -75,
           47
          ],
          [
           -80,
           47
          ],
          [
           -80,
           44
          ],
          [
           -70,
           45
          ]
         ]
        ],
        "type": "Polygon"
       },
       "name": "",
       "options": [],
       "popup": null,
       "popup_max_height": null,
       "popup_max_width": 300,
       "popup_min_width": 50,
       "style": {
        "color": "blue"
       }
      }
     },
     "529376692a0642c39ca76b33e09f7d7e": {
      "model_module": "@jupyter-widgets/base",
      "model_module_version": "1.2.0",
      "model_name": "LayoutModel",
      "state": {
       "display": "inline-flex",
       "flex_flow": "row wrap",
       "width": "100%"
      }
     },
     "54e8ebd050a14630b6c26b8b0612a9a4": {
      "model_module": "jupyter-leaflet",
      "model_module_version": "^0.13.5",
      "model_name": "LeafletGeoJSONModel",
      "state": {
       "_model_module": "jupyter-leaflet",
       "_model_module_version": "^0.13.5",
       "_view_count": null,
       "_view_module": "jupyter-leaflet",
       "_view_module_version": "^0.13.5",
       "base": false,
       "bottom": false,
       "data": {
        "features": [
         {
          "geometry": {
           "coordinates": [
            [
             [
              -77.5086458,
              45.89066339999992
             ],
             [
              -77.3097434,
              46.411011399999936
             ],
             [
              -76.56018450000002,
              46.27010199999995
             ],
             [
              -76.766165,
              45.75074559999991
             ],
             [
              -77.5086458,
              45.89066339999992
             ]
            ]
           ],
           "type": "Polygon"
          },
          "id": "S5_07702_4605_20070505",
          "properties": {
           "abstract": null,
           "downloadLink": "https://fake-endpoint/collections/canada_spot5_orthoimages/items/S5_07702_4605_20070505",
           "eo:bands": [
            {
             "common_name": "panchromatic",
             "description": "Panchromatic: 480-710 nm",
             "name": "Panchromatic"
            },
            {
             "common_name": "green",
             "description": "Green: 500-590 nm",
             "name": "Green"
            },
            {
             "common_name": "red",
             "description": "Red: 610-680 nm",
             "name": "Red"
            },
            {
             "common_name": "nir",
             "description": "Near Infrared: 780-890 nm",
             "name": "Near Infrared"
            },
            {
             "common_name": "swir",
             "description": "ShortWave Infrared: 1580-1750 nm",
             "name": "ShortWave Infrared"
            }
           ],
           "eodag_product_type": null,
           "eodag_provider": "stac_http_provider",
           "eodag_search_intersection": {
            "geometries": [],
            "type": "GeometryCollection"
           },
           "instrument": null,
           "license": null,
           "missionStartDate": null,
           "platform": null,
           "platformSerialIdentifier": null,
           "processingLevel": null,
           "productType": "canada_spot5_orthoimages",
           "proj:epsg": 3979,
           "resolution": 20,
           "sensorType": null,
           "startTimeFromAscendingNode": "2007-05-05T00:00:00Z",
           "storageStatus": "ONLINE",
           "style": {
            "color": "green"
           },
           "thumbnail": "https://canada-spot-ortho.s3.amazonaws.com/canada_spot_orthoimages/canada_spot5_orthoimages/S5_2007/S5_07702_4605_20070505/s5_07702_4605_20070505_tn.jpg",
           "title": "S5_07702_4605_20070505"
          },
          "type": "Feature"
         },
         {
          "geometry": {
           "coordinates": [
            [
             [
              -77.6897149,
              45.41003529999992
             ],
             [
              -77.493466,
              45.93058879999993
             ],
             [
              -76.7514935,
              45.790705999999915
             ],
             [
              -76.9536275,
              45.27084659999991
             ],
             [
              -77.6897149,
              45.41003529999992
             ]
            ]
           ],
           "type": "Polygon"
          },
          "id": "S5_07713_4536_20070505",
          "properties": {
           "abstract": null,
           "downloadLink": "https://fake-endpoint/collections/canada_spot5_orthoimages/items/S5_07713_4536_20070505",
           "eo:bands": [
            {
             "common_name": "panchromatic",
             "description": "Panchromatic: 480-710 nm",
             "name": "Panchromatic"
            },
            {
             "common_name": "green",
             "description": "Green: 500-590 nm",
             "name": "Green"
            },
            {
             "common_name": "red",
             "description": "Red: 610-680 nm",
             "name": "Red"
            },
            {
             "common_name": "nir",
             "description": "Near Infrared: 780-890 nm",
             "name": "Near Infrared"
            },
            {
             "common_name": "swir",
             "description": "ShortWave Infrared: 1580-1750 nm",
             "name": "ShortWave Infrared"
            }
           ],
           "eodag_product_type": null,
           "eodag_provider": "stac_http_provider",
           "eodag_search_intersection": {
            "geometries": [],
            "type": "GeometryCollection"
           },
           "instrument": null,
           "license": null,
           "missionStartDate": null,
           "platform": null,
           "platformSerialIdentifier": null,
           "processingLevel": null,
           "productType": "canada_spot5_orthoimages",
           "proj:epsg": 3979,
           "resolution": 20,
           "sensorType": null,
           "startTimeFromAscendingNode": "2007-05-05T00:00:00Z",
           "storageStatus": "ONLINE",
           "style": {
            "color": "green"
           },
           "thumbnail": "https://canada-spot-ortho.s3.amazonaws.com/canada_spot_orthoimages/canada_spot5_orthoimages/S5_2007/S5_07713_4536_20070505/s5_07713_4536_20070505_tn.jpg",
           "title": "S5_07713_4536_20070505"
          },
          "type": "Feature"
         },
         {
          "geometry": {
           "coordinates": [
            [
             [
              -77.8688576,
              44.92858479999993
             ],
             [
              -77.6751065,
              45.44990809999991
             ],
             [
              -76.9381127,
              45.3104741999999
             ],
             [
              -77.13831010000001,
              44.790157899999905
             ],
             [
              -77.8688576,
              44.92858479999993
             ]
            ]
           ],
           "type": "Polygon"
          },
          "id": "S5_07724_4507_20070505",
          "properties": {
           "abstract": null,
           "downloadLink": "https://fake-endpoint/collections/canada_spot5_orthoimages/items/S5_07724_4507_20070505",
           "eo:bands": [
            {
             "common_name": "panchromatic",
             "description": "Panchromatic: 480-710 nm",
             "name": "Panchromatic"
            },
            {
             "common_name": "green",
             "description": "Green: 500-590 nm",
             "name": "Green"
            },
            {
             "common_name": "red",
             "description": "Red: 610-680 nm",
             "name": "Red"
            },
            {
             "common_name": "nir",
             "description": "Near Infrared: 780-890 nm",
             "name": "Near Infrared"
            },
            {
             "common_name": "swir",
             "description": "ShortWave Infrared: 1580-1750 nm",
             "name": "ShortWave Infrared"
            }
           ],
           "eodag_product_type": null,
           "eodag_provider": "stac_http_provider",
           "eodag_search_intersection": {
            "geometries": [],
            "type": "GeometryCollection"
           },
           "instrument": null,
           "license": null,
           "missionStartDate": null,
           "platform": null,
           "platformSerialIdentifier": null,
           "processingLevel": null,
           "productType": "canada_spot5_orthoimages",
           "proj:epsg": 3979,
           "resolution": 20,
           "sensorType": null,
           "startTimeFromAscendingNode": "2007-05-05T00:00:00Z",
           "storageStatus": "ONLINE",
           "style": {
            "color": "green"
           },
           "thumbnail": "https://canada-spot-ortho.s3.amazonaws.com/canada_spot_orthoimages/canada_spot5_orthoimages/S5_2007/S5_07724_4507_20070505/s5_07724_4507_20070505_tn.jpg",
           "title": "S5_07724_4507_20070505"
          },
          "type": "Feature"
         }
        ],
        "type": "FeatureCollection"
       },
       "name": "",
       "options": [],
       "popup": null,
       "popup_max_height": null,
       "popup_max_width": 300,
       "popup_min_width": 50,
       "style": {
        "color": "green"
       }
      }
     },
     "57a5fd99d3e44e6ca34ba56a6abbd2ad": {
      "model_module": "jupyter-leaflet",
      "model_module_version": "^0.13.5",
      "model_name": "LeafletGeoJSONModel",
      "state": {
       "_model_module": "jupyter-leaflet",
       "_model_module_version": "^0.13.5",
       "_view_count": null,
       "_view_module": "jupyter-leaflet",
       "_view_module_version": "^0.13.5",
       "base": false,
       "bottom": false,
       "data": {
        "coordinates": [
         [
          [
           -70,
           45
          ],
          [
           -75,
           52
          ],
          [
           -80,
           52
          ],
          [
           -80,
           44
          ],
          [
           -70,
           45
          ]
         ]
        ],
        "type": "Polygon"
       },
       "name": "",
       "options": [],
       "popup": null,
       "popup_max_height": null,
       "popup_max_width": 300,
       "popup_min_width": 50,
       "style": {
        "color": "blue"
       }
      }
     },
     "57a8d41893f64fe983842bb997e74792": {
      "model_module": "jupyter-leaflet",
      "model_module_version": "^0.13.5",
      "model_name": "LeafletAttributionControlModel",
      "state": {
       "_model_module_version": "^0.13.5",
       "_view_module_version": "^0.13.5",
       "options": [
        "position",
        "prefix"
       ],
       "position": "bottomright",
       "prefix": "ipyleaflet"
      }
     },
     "5adff6a66e334c31960e4c1d550cb079": {
      "model_module": "@jupyter-widgets/base",
      "model_module_version": "1.2.0",
      "model_name": "LayoutModel",
      "state": {}
     },
     "600b437ab6a643d5b0166ab0ac460711": {
      "model_module": "jupyter-leaflet",
      "model_module_version": "^0.13.5",
      "model_name": "LeafletZoomControlModel",
      "state": {
       "_model_module_version": "^0.13.5",
       "_view_module_version": "^0.13.5",
       "options": [
        "position",
        "zoom_in_text",
        "zoom_in_title",
        "zoom_out_text",
        "zoom_out_title"
       ]
      }
     },
     "635d495dbe4940ec9416e1d62af31b39": {
      "model_module": "jupyter-leaflet",
      "model_module_version": "^0.13.5",
      "model_name": "LeafletMapStyleModel",
      "state": {
       "_model_module_version": "^0.13.5",
       "cursor": "move"
      }
     },
     "63d087f58d9d4ee3baf2cda6887d44c6": {
      "model_module": "jupyter-leaflet",
      "model_module_version": "^0.13.5",
      "model_name": "LeafletMapStyleModel",
      "state": {
       "_model_module_version": "^0.13.5",
       "cursor": "move"
      }
     },
     "65e6fd492e9e40f3a9e92fbc1894652e": {
      "model_module": "@jupyter-widgets/controls",
      "model_module_version": "1.5.0",
      "model_name": "DescriptionStyleModel",
      "state": {
       "description_width": ""
      }
     },
     "682c8a9a66e74013a319595b3090e353": {
      "model_module": "jupyter-leaflet",
      "model_module_version": "^0.13.5",
      "model_name": "LeafletGeoJSONModel",
      "state": {
       "_model_module": "jupyter-leaflet",
       "_model_module_version": "^0.13.5",
       "_view_count": null,
       "_view_module": "jupyter-leaflet",
       "_view_module_version": "^0.13.5",
       "base": false,
       "bottom": false,
       "data": {
        "features": [
         {
          "geometry": {
           "coordinates": [
            [
             [
              -81.82939060000001,
              43.97025879999991
             ],
             [
              -81.6293909,
              44.48955959999991
             ],
             [
              -80.8972191,
              44.341560399999906
             ],
             [
              -81.1035722,
              43.82257309999989
             ],
             [
              -81.82939060000001,
              43.97025879999991
             ]
            ]
           ],
           "type": "Polygon"
          },
          "id": "S5_08122_4409_20070504",
          "properties": {
           "abstract": null,
           "downloadLink": "https://fake-endpoint/collections/canada_spot5_orthoimages/items/S5_08122_4409_20070504",
           "eo:bands": [
            {
             "common_name": "panchromatic",
             "description": "Panchromatic: 480-710 nm",
             "name": "Panchromatic"
            },
            {
             "common_name": "green",
             "description": "Green: 500-590 nm",
             "name": "Green"
            },
            {
             "common_name": "red",
             "description": "Red: 610-680 nm",
             "name": "Red"
            },
            {
             "common_name": "nir",
             "description": "Near Infrared: 780-890 nm",
             "name": "Near Infrared"
            },
            {
             "common_name": "swir",
             "description": "ShortWave Infrared: 1580-1750 nm",
             "name": "ShortWave Infrared"
            }
           ],
           "eodag_product_type": null,
           "eodag_provider": "stac_http_provider",
           "eodag_search_intersection": {
            "geometries": [],
            "type": "GeometryCollection"
           },
           "instrument": null,
           "license": null,
           "missionStartDate": null,
           "platform": null,
           "platformSerialIdentifier": null,
           "processingLevel": null,
           "productType": "canada_spot5_orthoimages",
           "proj:epsg": 3979,
           "resolution": 20,
           "sensorType": null,
           "startTimeFromAscendingNode": "2007-05-04T00:00:00Z",
           "storageStatus": "ONLINE",
           "style": {
            "color": "red"
           },
           "thumbnail": "https://canada-spot-ortho.s3.amazonaws.com/canada_spot_orthoimages/canada_spot5_orthoimages/S5_2007/S5_08122_4409_20070504/s5_08122_4409_20070504_tn.jpg",
           "title": "S5_08122_4409_20070504"
          },
          "type": "Feature"
         },
         {
          "geometry": {
           "coordinates": [
            [
             [
              -77.5086458,
              45.89066339999992
             ],
             [
              -77.3097434,
              46.411011399999936
             ],
             [
              -76.56018450000002,
              46.27010199999995
             ],
             [
              -76.766165,
              45.75074559999991
             ],
             [
              -77.5086458,
              45.89066339999992
             ]
            ]
           ],
           "type": "Polygon"
          },
          "id": "S5_07702_4605_20070505",
          "properties": {
           "abstract": null,
           "downloadLink": "https://fake-endpoint/collections/canada_spot5_orthoimages/items/S5_07702_4605_20070505",
           "eo:bands": [
            {
             "common_name": "panchromatic",
             "description": "Panchromatic: 480-710 nm",
             "name": "Panchromatic"
            },
            {
             "common_name": "green",
             "description": "Green: 500-590 nm",
             "name": "Green"
            },
            {
             "common_name": "red",
             "description": "Red: 610-680 nm",
             "name": "Red"
            },
            {
             "common_name": "nir",
             "description": "Near Infrared: 780-890 nm",
             "name": "Near Infrared"
            },
            {
             "common_name": "swir",
             "description": "ShortWave Infrared: 1580-1750 nm",
             "name": "ShortWave Infrared"
            }
           ],
           "eodag_product_type": null,
           "eodag_provider": "stac_http_provider",
           "eodag_search_intersection": {
            "geometries": [],
            "type": "GeometryCollection"
           },
           "instrument": null,
           "license": null,
           "missionStartDate": null,
           "platform": null,
           "platformSerialIdentifier": null,
           "processingLevel": null,
           "productType": "canada_spot5_orthoimages",
           "proj:epsg": 3979,
           "resolution": 20,
           "sensorType": null,
           "startTimeFromAscendingNode": "2007-05-05T00:00:00Z",
           "storageStatus": "ONLINE",
           "style": {
            "color": "red"
           },
           "thumbnail": "https://canada-spot-ortho.s3.amazonaws.com/canada_spot_orthoimages/canada_spot5_orthoimages/S5_2007/S5_07702_4605_20070505/s5_07702_4605_20070505_tn.jpg",
           "title": "S5_07702_4605_20070505"
          },
          "type": "Feature"
         },
         {
          "geometry": {
           "coordinates": [
            [
             [
              -85.0273477,
              46.859929499999936
             ],
             [
              -84.8043796,
              47.37592669998269
             ],
             [
              -84.02553680000001,
              47.21757089998226
             ],
             [
              -84.2562465,
              46.70048319999994
             ],
             [
              -85.0273477,
              46.859929499999936
             ]
            ]
           ],
           "type": "Polygon"
          },
          "id": "S5_08432_4702_20070503",
          "properties": {
           "abstract": null,
           "downloadLink": "https://fake-endpoint/collections/canada_spot5_orthoimages/items/S5_08432_4702_20070503",
           "eo:bands": [
            {
             "common_name": "panchromatic",
             "description": "Panchromatic: 480-710 nm",
             "name": "Panchromatic"
            },
            {
             "common_name": "green",
             "description": "Green: 500-590 nm",
             "name": "Green"
            },
            {
             "common_name": "red",
             "description": "Red: 610-680 nm",
             "name": "Red"
            },
            {
             "common_name": "nir",
             "description": "Near Infrared: 780-890 nm",
             "name": "Near Infrared"
            },
            {
             "common_name": "swir",
             "description": "ShortWave Infrared: 1580-1750 nm",
             "name": "ShortWave Infrared"
            }
           ],
           "eodag_product_type": null,
           "eodag_provider": "stac_http_provider",
           "eodag_search_intersection": {
            "geometries": [],
            "type": "GeometryCollection"
           },
           "instrument": null,
           "license": null,
           "missionStartDate": null,
           "platform": null,
           "platformSerialIdentifier": null,
           "processingLevel": null,
           "productType": "canada_spot5_orthoimages",
           "proj:epsg": 3979,
           "resolution": 20,
           "sensorType": null,
           "startTimeFromAscendingNode": "2007-05-03T00:00:00Z",
           "storageStatus": "ONLINE",
           "style": {
            "color": "red"
           },
           "thumbnail": "https://canada-spot-ortho.s3.amazonaws.com/canada_spot_orthoimages/canada_spot5_orthoimages/S5_2007/S5_08432_4702_20070503/s5_08432_4702_20070503_tn.jpg",
           "title": "S5_08432_4702_20070503"
          },
          "type": "Feature"
         },
         {
          "geometry": {
           "coordinates": [
            [
             [
              -82.19413800000001,
              43.002897899999866
             ],
             [
              -81.9983011,
              43.52332569999988
             ],
             [
              -81.2782497,
              43.3766073999999
             ],
             [
              -81.4785564,
              42.85763319999989
             ],
             [
              -82.19413800000001,
              43.002897899999866
             ]
            ]
           ],
           "type": "Polygon"
          },
          "id": "S5_08144_4311_20070504",
          "properties": {
           "abstract": null,
           "downloadLink": "https://fake-endpoint/collections/canada_spot5_orthoimages/items/S5_08144_4311_20070504",
           "eo:bands": [
            {
             "common_name": "panchromatic",
             "description": "Panchromatic: 480-710 nm",
             "name": "Panchromatic"
            },
            {
             "common_name": "green",
             "description": "Green: 500-590 nm",
             "name": "Green"
            },
            {
             "common_name": "red",
             "description": "Red: 610-680 nm",
             "name": "Red"
            },
            {
             "common_name": "nir",
             "description": "Near Infrared: 780-890 nm",
             "name": "Near Infrared"
            },
            {
             "common_name": "swir",
             "description": "ShortWave Infrared: 1580-1750 nm",
             "name": "ShortWave Infrared"
            }
           ],
           "eodag_product_type": null,
           "eodag_provider": "stac_http_provider",
           "eodag_search_intersection": {
            "geometries": [],
            "type": "GeometryCollection"
           },
           "instrument": null,
           "license": null,
           "missionStartDate": null,
           "platform": null,
           "platformSerialIdentifier": null,
           "processingLevel": null,
           "productType": "canada_spot5_orthoimages",
           "proj:epsg": 3979,
           "resolution": 20,
           "sensorType": null,
           "startTimeFromAscendingNode": "2007-05-04T00:00:00Z",
           "storageStatus": "ONLINE",
           "style": {
            "color": "red"
           },
           "thumbnail": "https://canada-spot-ortho.s3.amazonaws.com/canada_spot_orthoimages/canada_spot5_orthoimages/S5_2007/S5_08144_4311_20070504/s5_08144_4311_20070504_tn.jpg",
           "title": "S5_08144_4311_20070504"
          },
          "type": "Feature"
         },
         {
          "geometry": {
           "coordinates": [
            [
             [
              -77.6897149,
              45.41003529999992
             ],
             [
              -77.493466,
              45.93058879999993
             ],
             [
              -76.7514935,
              45.790705999999915
             ],
             [
              -76.9536275,
              45.27084659999991
             ],
             [
              -77.6897149,
              45.41003529999992
             ]
            ]
           ],
           "type": "Polygon"
          },
          "id": "S5_07713_4536_20070505",
          "properties": {
           "abstract": null,
           "downloadLink": "https://fake-endpoint/collections/canada_spot5_orthoimages/items/S5_07713_4536_20070505",
           "eo:bands": [
            {
             "common_name": "panchromatic",
             "description": "Panchromatic: 480-710 nm",
             "name": "Panchromatic"
            },
            {
             "common_name": "green",
             "description": "Green: 500-590 nm",
             "name": "Green"
            },
            {
             "common_name": "red",
             "description": "Red: 610-680 nm",
             "name": "Red"
            },
            {
             "common_name": "nir",
             "description": "Near Infrared: 780-890 nm",
             "name": "Near Infrared"
            },
            {
             "common_name": "swir",
             "description": "ShortWave Infrared: 1580-1750 nm",
             "name": "ShortWave Infrared"
            }
           ],
           "eodag_product_type": null,
           "eodag_provider": "stac_http_provider",
           "eodag_search_intersection": {
            "geometries": [],
            "type": "GeometryCollection"
           },
           "instrument": null,
           "license": null,
           "missionStartDate": null,
           "platform": null,
           "platformSerialIdentifier": null,
           "processingLevel": null,
           "productType": "canada_spot5_orthoimages",
           "proj:epsg": 3979,
           "resolution": 20,
           "sensorType": null,
           "startTimeFromAscendingNode": "2007-05-05T00:00:00Z",
           "storageStatus": "ONLINE",
           "style": {
            "color": "red"
           },
           "thumbnail": "https://canada-spot-ortho.s3.amazonaws.com/canada_spot_orthoimages/canada_spot5_orthoimages/S5_2007/S5_07713_4536_20070505/s5_07713_4536_20070505_tn.jpg",
           "title": "S5_07713_4536_20070505"
          },
          "type": "Feature"
         },
         {
          "geometry": {
           "coordinates": [
            [
             [
              -82.1791361,
              44.93104039999991
             ],
             [
              -81.9785331,
              45.45127599999993
             ],
             [
              -81.2418256,
              45.30744029999992
             ],
             [
              -81.4473278,
              44.78835739999991
             ],
             [
              -82.1791361,
              44.93104039999991
             ]
            ]
           ],
           "type": "Polygon"
          },
          "id": "S5_08143_4507_20070504",
          "properties": {
           "abstract": null,
           "downloadLink": "https://fake-endpoint/collections/canada_spot5_orthoimages/items/S5_08143_4507_20070504",
           "eo:bands": [
            {
             "common_name": "panchromatic",
             "description": "Panchromatic: 480-710 nm",
             "name": "Panchromatic"
            },
            {
             "common_name": "green",
             "description": "Green: 500-590 nm",
             "name": "Green"
            },
            {
             "common_name": "red",
             "description": "Red: 610-680 nm",
             "name": "Red"
            },
            {
             "common_name": "nir",
             "description": "Near Infrared: 780-890 nm",
             "name": "Near Infrared"
            },
            {
             "common_name": "swir",
             "description": "ShortWave Infrared: 1580-1750 nm",
             "name": "ShortWave Infrared"
            }
           ],
           "eodag_product_type": null,
           "eodag_provider": "stac_http_provider",
           "eodag_search_intersection": {
            "geometries": [],
            "type": "GeometryCollection"
           },
           "instrument": null,
           "license": null,
           "missionStartDate": null,
           "platform": null,
           "platformSerialIdentifier": null,
           "processingLevel": null,
           "productType": "canada_spot5_orthoimages",
           "proj:epsg": 3979,
           "resolution": 20,
           "sensorType": null,
           "startTimeFromAscendingNode": "2007-05-04T00:00:00Z",
           "storageStatus": "ONLINE",
           "style": {
            "color": "red"
           },
           "thumbnail": "https://canada-spot-ortho.s3.amazonaws.com/canada_spot_orthoimages/canada_spot5_orthoimages/S5_2007/S5_08143_4507_20070504/s5_08143_4507_20070504_tn.jpg",
           "title": "S5_08143_4507_20070504"
          },
          "type": "Feature"
         },
         {
          "geometry": {
           "coordinates": [
            [
             [
              -82.0128118,
              43.486933699999895
             ],
             [
              -81.8154336,
              44.006646199999906
             ],
             [
              -81.0891217,
              43.85927329999989
             ],
             [
              -81.2926142,
              43.340113799999905
             ],
             [
              -82.0128118,
              43.486933699999895
             ]
            ]
           ],
           "type": "Polygon"
          },
          "id": "S5_08133_4340_20070504",
          "properties": {
           "abstract": null,
           "downloadLink": "https://fake-endpoint/collections/canada_spot5_orthoimages/items/S5_08133_4340_20070504",
           "eo:bands": [
            {
             "common_name": "panchromatic",
             "description": "Panchromatic: 480-710 nm",
             "name": "Panchromatic"
            },
            {
             "common_name": "green",
             "description": "Green: 500-590 nm",
             "name": "Green"
            },
            {
             "common_name": "red",
             "description": "Red: 610-680 nm",
             "name": "Red"
            },
            {
             "common_name": "nir",
             "description": "Near Infrared: 780-890 nm",
             "name": "Near Infrared"
            },
            {
             "common_name": "swir",
             "description": "ShortWave Infrared: 1580-1750 nm",
             "name": "ShortWave Infrared"
            }
           ],
           "eodag_product_type": null,
           "eodag_provider": "stac_http_provider",
           "eodag_search_intersection": {
            "geometries": [],
            "type": "GeometryCollection"
           },
           "instrument": null,
           "license": null,
           "missionStartDate": null,
           "platform": null,
           "platformSerialIdentifier": null,
           "processingLevel": null,
           "productType": "canada_spot5_orthoimages",
           "proj:epsg": 3979,
           "resolution": 20,
           "sensorType": null,
           "startTimeFromAscendingNode": "2007-05-04T00:00:00Z",
           "storageStatus": "ONLINE",
           "style": {
            "color": "red"
           },
           "thumbnail": "https://canada-spot-ortho.s3.amazonaws.com/canada_spot_orthoimages/canada_spot5_orthoimages/S5_2007/S5_08133_4340_20070504/s5_08133_4340_20070504_tn.jpg",
           "title": "S5_08133_4340_20070504"
          },
          "type": "Feature"
         },
         {
          "geometry": {
           "coordinates": [
            [
             [
              -75.635484,
              49.71080699998813
             ],
             [
              -75.4077832,
              50.22914529998913
             ],
             [
              -74.6039477,
              50.07893649998885
             ],
             [
              -74.839718,
              49.562025099987835
             ],
             [
              -75.635484,
              49.71080699998813
             ]
            ]
           ],
           "type": "Polygon"
          },
          "id": "S5_07507_4954_20070505",
          "properties": {
           "abstract": null,
           "downloadLink": "https://fake-endpoint/collections/canada_spot5_orthoimages/items/S5_07507_4954_20070505",
           "eo:bands": [
            {
             "common_name": "panchromatic",
             "description": "Panchromatic: 480-710 nm",
             "name": "Panchromatic"
            },
            {
             "common_name": "green",
             "description": "Green: 500-590 nm",
             "name": "Green"
            },
            {
             "common_name": "red",
             "description": "Red: 610-680 nm",
             "name": "Red"
            },
            {
             "common_name": "nir",
             "description": "Near Infrared: 780-890 nm",
             "name": "Near Infrared"
            },
            {
             "common_name": "swir",
             "description": "ShortWave Infrared: 1580-1750 nm",
             "name": "ShortWave Infrared"
            }
           ],
           "eodag_product_type": null,
           "eodag_provider": "stac_http_provider",
           "eodag_search_intersection": {
            "geometries": [],
            "type": "GeometryCollection"
           },
           "instrument": null,
           "license": null,
           "missionStartDate": null,
           "platform": null,
           "platformSerialIdentifier": null,
           "processingLevel": null,
           "productType": "canada_spot5_orthoimages",
           "proj:epsg": 3979,
           "resolution": 20,
           "sensorType": null,
           "startTimeFromAscendingNode": "2007-05-05T00:00:00Z",
           "storageStatus": "ONLINE",
           "style": {
            "color": "red"
           },
           "thumbnail": "https://canada-spot-ortho.s3.amazonaws.com/canada_spot_orthoimages/canada_spot5_orthoimages/S5_2007/S5_07507_4954_20070505/s5_07507_4954_20070505_tn.jpg",
           "title": "S5_07507_4954_20070505"
          },
          "type": "Feature"
         },
         {
          "geometry": {
           "coordinates": [
            [
             [
              -84.9345337,
              48.765304799986104
             ],
             [
              -84.7042059,
              49.282367799987256
             ],
             [
              -83.9089622,
              49.126539399986925
             ],
             [
              -84.1474371,
              48.61051919998576
             ],
             [
              -84.9345337,
              48.765304799986104
             ]
            ]
           ],
           "type": "Polygon"
          },
          "id": "S5_08426_4857_20070503",
          "properties": {
           "abstract": null,
           "downloadLink": "https://fake-endpoint/collections/canada_spot5_orthoimages/items/S5_08426_4857_20070503",
           "eo:bands": [
            {
             "common_name": "panchromatic",
             "description": "Panchromatic: 480-710 nm",
             "name": "Panchromatic"
            },
            {
             "common_name": "green",
             "description": "Green: 500-590 nm",
             "name": "Green"
            },
            {
             "common_name": "red",
             "description": "Red: 610-680 nm",
             "name": "Red"
            },
            {
             "common_name": "nir",
             "description": "Near Infrared: 780-890 nm",
             "name": "Near Infrared"
            },
            {
             "common_name": "swir",
             "description": "ShortWave Infrared: 1580-1750 nm",
             "name": "ShortWave Infrared"
            }
           ],
           "eodag_product_type": null,
           "eodag_provider": "stac_http_provider",
           "eodag_search_intersection": {
            "geometries": [],
            "type": "GeometryCollection"
           },
           "instrument": null,
           "license": null,
           "missionStartDate": null,
           "platform": null,
           "platformSerialIdentifier": null,
           "processingLevel": null,
           "productType": "canada_spot5_orthoimages",
           "proj:epsg": 3979,
           "resolution": 20,
           "sensorType": null,
           "startTimeFromAscendingNode": "2007-05-03T00:00:00Z",
           "storageStatus": "ONLINE",
           "style": {
            "color": "red"
           },
           "thumbnail": "https://canada-spot-ortho.s3.amazonaws.com/canada_spot_orthoimages/canada_spot5_orthoimages/S5_2007/S5_08426_4857_20070503/s5_08426_4857_20070503_tn.jpg",
           "title": "S5_08426_4857_20070503"
          },
          "type": "Feature"
         },
         {
          "geometry": {
           "coordinates": [
            [
             [
              -84.8206206,
              47.3379771999826
             ],
             [
              -84.59384510000001,
              47.85419849998393
             ],
             [
              -83.8084865,
              47.69434859998355
             ],
             [
              -84.0433223,
              47.17892369998218
             ],
             [
              -84.8206206,
              47.3379771999826
             ]
            ]
           ],
           "type": "Polygon"
          },
          "id": "S5_08419_4731_20070503",
          "properties": {
           "abstract": null,
           "downloadLink": "https://fake-endpoint/collections/canada_spot5_orthoimages/items/S5_08419_4731_20070503",
           "eo:bands": [
            {
             "common_name": "panchromatic",
             "description": "Panchromatic: 480-710 nm",
             "name": "Panchromatic"
            },
            {
             "common_name": "green",
             "description": "Green: 500-590 nm",
             "name": "Green"
            },
            {
             "common_name": "red",
             "description": "Red: 610-680 nm",
             "name": "Red"
            },
            {
             "common_name": "nir",
             "description": "Near Infrared: 780-890 nm",
             "name": "Near Infrared"
            },
            {
             "common_name": "swir",
             "description": "ShortWave Infrared: 1580-1750 nm",
             "name": "ShortWave Infrared"
            }
           ],
           "eodag_product_type": null,
           "eodag_provider": "stac_http_provider",
           "eodag_search_intersection": {
            "geometries": [],
            "type": "GeometryCollection"
           },
           "instrument": null,
           "license": null,
           "missionStartDate": null,
           "platform": null,
           "platformSerialIdentifier": null,
           "processingLevel": null,
           "productType": "canada_spot5_orthoimages",
           "proj:epsg": 3979,
           "resolution": 20,
           "sensorType": null,
           "startTimeFromAscendingNode": "2007-05-03T00:00:00Z",
           "storageStatus": "ONLINE",
           "style": {
            "color": "red"
           },
           "thumbnail": "https://canada-spot-ortho.s3.amazonaws.com/canada_spot_orthoimages/canada_spot5_orthoimages/S5_2007/S5_08419_4731_20070503/s5_08419_4731_20070503_tn.jpg",
           "title": "S5_08419_4731_20070503"
          },
          "type": "Feature"
         },
         {
          "geometry": {
           "coordinates": [
            [
             [
              -77.8688576,
              44.92858479999993
             ],
             [
              -77.6751065,
              45.44990809999991
             ],
             [
              -76.9381127,
              45.3104741999999
             ],
             [
              -77.13831010000001,
              44.790157899999905
             ],
             [
              -77.8688576,
              44.92858479999993
             ]
            ]
           ],
           "type": "Polygon"
          },
          "id": "S5_07724_4507_20070505",
          "properties": {
           "abstract": null,
           "downloadLink": "https://fake-endpoint/collections/canada_spot5_orthoimages/items/S5_07724_4507_20070505",
           "eo:bands": [
            {
             "common_name": "panchromatic",
             "description": "Panchromatic: 480-710 nm",
             "name": "Panchromatic"
            },
            {
             "common_name": "green",
             "description": "Green: 500-590 nm",
             "name": "Green"
            },
            {
             "common_name": "red",
             "description": "Red: 610-680 nm",
             "name": "Red"
            },
            {
             "common_name": "nir",
             "description": "Near Infrared: 780-890 nm",
             "name": "Near Infrared"
            },
            {
             "common_name": "swir",
             "description": "ShortWave Infrared: 1580-1750 nm",
             "name": "ShortWave Infrared"
            }
           ],
           "eodag_product_type": null,
           "eodag_provider": "stac_http_provider",
           "eodag_search_intersection": {
            "geometries": [],
            "type": "GeometryCollection"
           },
           "instrument": null,
           "license": null,
           "missionStartDate": null,
           "platform": null,
           "platformSerialIdentifier": null,
           "processingLevel": null,
           "productType": "canada_spot5_orthoimages",
           "proj:epsg": 3979,
           "resolution": 20,
           "sensorType": null,
           "startTimeFromAscendingNode": "2007-05-05T00:00:00Z",
           "storageStatus": "ONLINE",
           "style": {
            "color": "red"
           },
           "thumbnail": "https://canada-spot-ortho.s3.amazonaws.com/canada_spot_orthoimages/canada_spot5_orthoimages/S5_2007/S5_07724_4507_20070505/s5_07724_4507_20070505_tn.jpg",
           "title": "S5_07724_4507_20070505"
          },
          "type": "Feature"
         },
         {
          "geometry": {
           "coordinates": [
            [
             [
              -86.1595605,
              49.23422629998713
             ],
             [
              -85.9407614,
              49.7529022999882
             ],
             [
              -85.1419636,
              49.60717919998791
             ],
             [
              -85.3685313,
              49.08959189998682
             ],
             [
              -86.1595605,
              49.23422629998713
             ]
            ]
           ],
           "type": "Polygon"
          },
          "id": "S5_08539_4925_20070503",
          "properties": {
           "abstract": null,
           "downloadLink": "https://fake-endpoint/collections/canada_spot5_orthoimages/items/S5_08539_4925_20070503",
           "eo:bands": [
            {
             "common_name": "panchromatic",
             "description": "Panchromatic: 480-710 nm",
             "name": "Panchromatic"
            },
            {
             "common_name": "green",
             "description": "Green: 500-590 nm",
             "name": "Green"
            },
            {
             "common_name": "red",
             "description": "Red: 610-680 nm",
             "name": "Red"
            },
            {
             "common_name": "nir",
             "description": "Near Infrared: 780-890 nm",
             "name": "Near Infrared"
            },
            {
             "common_name": "swir",
             "description": "ShortWave Infrared: 1580-1750 nm",
             "name": "ShortWave Infrared"
            }
           ],
           "eodag_product_type": null,
           "eodag_provider": "stac_http_provider",
           "eodag_search_intersection": {
            "geometries": [],
            "type": "GeometryCollection"
           },
           "instrument": null,
           "license": null,
           "missionStartDate": null,
           "platform": null,
           "platformSerialIdentifier": null,
           "processingLevel": null,
           "productType": "canada_spot5_orthoimages",
           "proj:epsg": 3979,
           "resolution": 20,
           "sensorType": null,
           "startTimeFromAscendingNode": "2007-05-03T00:00:00Z",
           "storageStatus": "ONLINE",
           "style": {
            "color": "red"
           },
           "thumbnail": "https://canada-spot-ortho.s3.amazonaws.com/canada_spot_orthoimages/canada_spot5_orthoimages/S5_2007/S5_08539_4925_20070503/s5_08539_4925_20070503_tn.jpg",
           "title": "S5_08539_4925_20070503"
          },
          "type": "Feature"
         },
         {
          "geometry": {
           "coordinates": [
            [
             [
              -81.6437402,
              44.45305149999991
             ],
             [
              -81.440283,
              44.97205759999991
             ],
             [
              -80.70280270000002,
              44.82283499999992
             ],
             [
              -80.91258470000001,
              44.304634199999924
             ],
             [
              -81.6437402,
              44.45305149999991
             ]
            ]
           ],
           "type": "Polygon"
          },
          "id": "S5_08111_4438_20070504",
          "properties": {
           "abstract": null,
           "downloadLink": "https://fake-endpoint/collections/canada_spot5_orthoimages/items/S5_08111_4438_20070504",
           "eo:bands": [
            {
             "common_name": "panchromatic",
             "description": "Panchromatic: 480-710 nm",
             "name": "Panchromatic"
            },
            {
             "common_name": "green",
             "description": "Green: 500-590 nm",
             "name": "Green"
            },
            {
             "common_name": "red",
             "description": "Red: 610-680 nm",
             "name": "Red"
            },
            {
             "common_name": "nir",
             "description": "Near Infrared: 780-890 nm",
             "name": "Near Infrared"
            },
            {
             "common_name": "swir",
             "description": "ShortWave Infrared: 1580-1750 nm",
             "name": "ShortWave Infrared"
            }
           ],
           "eodag_product_type": null,
           "eodag_provider": "stac_http_provider",
           "eodag_search_intersection": {
            "geometries": [],
            "type": "GeometryCollection"
           },
           "instrument": null,
           "license": null,
           "missionStartDate": null,
           "platform": null,
           "platformSerialIdentifier": null,
           "processingLevel": null,
           "productType": "canada_spot5_orthoimages",
           "proj:epsg": 3979,
           "resolution": 20,
           "sensorType": null,
           "startTimeFromAscendingNode": "2007-05-04T00:00:00Z",
           "storageStatus": "ONLINE",
           "style": {
            "color": "red"
           },
           "thumbnail": "https://canada-spot-ortho.s3.amazonaws.com/canada_spot_orthoimages/canada_spot5_orthoimages/S5_2007/S5_08111_4438_20070504/s5_08111_4438_20070504_tn.jpg",
           "title": "S5_08111_4438_20070504"
          },
          "type": "Feature"
         },
         {
          "geometry": {
           "coordinates": [
            [
             [
              -81.4555888,
              44.9349105999999
             ],
             [
              -81.2491542,
              45.45280749999993
             ],
             [
              -80.5044075,
              45.30292019999991
             ],
             [
              -80.7183832,
              44.78516229999991
             ],
             [
              -81.4555888,
              44.9349105999999
             ]
            ]
           ],
           "type": "Polygon"
          },
          "id": "S5_08059_4507_20070504",
          "properties": {
           "abstract": null,
           "downloadLink": "https://fake-endpoint/collections/canada_spot5_orthoimages/items/S5_08059_4507_20070504",
           "eo:bands": [
            {
             "common_name": "panchromatic",
             "description": "Panchromatic: 480-710 nm",
             "name": "Panchromatic"
            },
            {
             "common_name": "green",
             "description": "Green: 500-590 nm",
             "name": "Green"
            },
            {
             "common_name": "red",
             "description": "Red: 610-680 nm",
             "name": "Red"
            },
            {
             "common_name": "nir",
             "description": "Near Infrared: 780-890 nm",
             "name": "Near Infrared"
            },
            {
             "common_name": "swir",
             "description": "ShortWave Infrared: 1580-1750 nm",
             "name": "ShortWave Infrared"
            }
           ],
           "eodag_product_type": null,
           "eodag_provider": "stac_http_provider",
           "eodag_search_intersection": {
            "geometries": [],
            "type": "GeometryCollection"
           },
           "instrument": null,
           "license": null,
           "missionStartDate": null,
           "platform": null,
           "platformSerialIdentifier": null,
           "processingLevel": null,
           "productType": "canada_spot5_orthoimages",
           "proj:epsg": 3979,
           "resolution": 20,
           "sensorType": null,
           "startTimeFromAscendingNode": "2007-05-04T00:00:00Z",
           "storageStatus": "ONLINE",
           "style": {
            "color": "red"
           },
           "thumbnail": "https://canada-spot-ortho.s3.amazonaws.com/canada_spot_orthoimages/canada_spot5_orthoimages/S5_2007/S5_08059_4507_20070504/s5_08059_4507_20070504_tn.jpg",
           "title": "S5_08059_4507_20070504"
          },
          "type": "Feature"
         },
         {
          "geometry": {
           "coordinates": [
            [
             [
              -85.1430113,
              48.28905129998501
             ],
             [
              -84.9162353,
              48.80620119998619
             ],
             [
              -84.1287318,
              48.65145419998586
             ],
             [
              -84.3634894,
              48.135371299984634
             ],
             [
              -85.1430113,
              48.28905129998501
             ]
            ]
           ],
           "type": "Polygon"
          },
          "id": "S5_08438_4828_20070503",
          "properties": {
           "abstract": null,
           "downloadLink": "https://fake-endpoint/collections/canada_spot5_orthoimages/items/S5_08438_4828_20070503",
           "eo:bands": [
            {
             "common_name": "panchromatic",
             "description": "Panchromatic: 480-710 nm",
             "name": "Panchromatic"
            },
            {
             "common_name": "green",
             "description": "Green: 500-590 nm",
             "name": "Green"
            },
            {
             "common_name": "red",
             "description": "Red: 610-680 nm",
             "name": "Red"
            },
            {
             "common_name": "nir",
             "description": "Near Infrared: 780-890 nm",
             "name": "Near Infrared"
            },
            {
             "common_name": "swir",
             "description": "ShortWave Infrared: 1580-1750 nm",
             "name": "ShortWave Infrared"
            }
           ],
           "eodag_product_type": null,
           "eodag_provider": "stac_http_provider",
           "eodag_search_intersection": {
            "geometries": [],
            "type": "GeometryCollection"
           },
           "instrument": null,
           "license": null,
           "missionStartDate": null,
           "platform": null,
           "platformSerialIdentifier": null,
           "processingLevel": null,
           "productType": "canada_spot5_orthoimages",
           "proj:epsg": 3979,
           "resolution": 20,
           "sensorType": null,
           "startTimeFromAscendingNode": "2007-05-03T00:00:00Z",
           "storageStatus": "ONLINE",
           "style": {
            "color": "red"
           },
           "thumbnail": "https://canada-spot-ortho.s3.amazonaws.com/canada_spot_orthoimages/canada_spot5_orthoimages/S5_2007/S5_08438_4828_20070503/s5_08438_4828_20070503_tn.jpg",
           "title": "S5_08438_4828_20070503"
          },
          "type": "Feature"
         },
         {
          "geometry": {
           "coordinates": [
            [
             [
              -82.3604829,
              44.4490351999999
             ],
             [
              -82.1638974,
              44.969530699999915
             ],
             [
              -81.4321473,
              44.82679269999993
             ],
             [
              -81.6351024,
              44.307056199999906
             ],
             [
              -82.3604829,
              44.4490351999999
             ]
            ]
           ],
           "type": "Polygon"
          },
          "id": "S5_08154_4438_20070504",
          "properties": {
           "abstract": null,
           "downloadLink": "https://fake-endpoint/collections/canada_spot5_orthoimages/items/S5_08154_4438_20070504",
           "eo:bands": [
            {
             "common_name": "panchromatic",
             "description": "Panchromatic: 480-710 nm",
             "name": "Panchromatic"
            },
            {
             "common_name": "green",
             "description": "Green: 500-590 nm",
             "name": "Green"
            },
            {
             "common_name": "red",
             "description": "Red: 610-680 nm",
             "name": "Red"
            },
            {
             "common_name": "nir",
             "description": "Near Infrared: 780-890 nm",
             "name": "Near Infrared"
            },
            {
             "common_name": "swir",
             "description": "ShortWave Infrared: 1580-1750 nm",
             "name": "ShortWave Infrared"
            }
           ],
           "eodag_product_type": null,
           "eodag_provider": "stac_http_provider",
           "eodag_search_intersection": {
            "geometries": [],
            "type": "GeometryCollection"
           },
           "instrument": null,
           "license": null,
           "missionStartDate": null,
           "platform": null,
           "platformSerialIdentifier": null,
           "processingLevel": null,
           "productType": "canada_spot5_orthoimages",
           "proj:epsg": 3979,
           "resolution": 20,
           "sensorType": null,
           "startTimeFromAscendingNode": "2007-05-04T00:00:00Z",
           "storageStatus": "ONLINE",
           "style": {
            "color": "red"
           },
           "thumbnail": "https://canada-spot-ortho.s3.amazonaws.com/canada_spot_orthoimages/canada_spot5_orthoimages/S5_2007/S5_08154_4438_20070504/s5_08154_4438_20070504_tn.jpg",
           "title": "S5_08154_4438_20070504"
          },
          "type": "Feature"
         },
         {
          "geometry": {
           "coordinates": [
            [
             [
              -76.24385540000002,
              48.284491499985
             ],
             [
              -76.0261593,
              48.80282719998618
             ],
             [
              -75.24409010000001,
              48.65556529998587
             ],
             [
              -75.4693021,
              48.138179499984645
             ],
             [
              -76.24385540000002,
              48.284491499985
             ]
            ]
           ],
           "type": "Polygon"
          },
          "id": "S5_07545_4828_20070505",
          "properties": {
           "abstract": null,
           "downloadLink": "https://fake-endpoint/collections/canada_spot5_orthoimages/items/S5_07545_4828_20070505",
           "eo:bands": [
            {
             "common_name": "panchromatic",
             "description": "Panchromatic: 480-710 nm",
             "name": "Panchromatic"
            },
            {
             "common_name": "green",
             "description": "Green: 500-590 nm",
             "name": "Green"
            },
            {
             "common_name": "red",
             "description": "Red: 610-680 nm",
             "name": "Red"
            },
            {
             "common_name": "nir",
             "description": "Near Infrared: 780-890 nm",
             "name": "Near Infrared"
            },
            {
             "common_name": "swir",
             "description": "ShortWave Infrared: 1580-1750 nm",
             "name": "ShortWave Infrared"
            }
           ],
           "eodag_product_type": null,
           "eodag_provider": "stac_http_provider",
           "eodag_search_intersection": {
            "geometries": [],
            "type": "GeometryCollection"
           },
           "instrument": null,
           "license": null,
           "missionStartDate": null,
           "platform": null,
           "platformSerialIdentifier": null,
           "processingLevel": null,
           "productType": "canada_spot5_orthoimages",
           "proj:epsg": 3979,
           "resolution": 20,
           "sensorType": null,
           "startTimeFromAscendingNode": "2007-05-05T00:00:00Z",
           "storageStatus": "ONLINE",
           "style": {
            "color": "red"
           },
           "thumbnail": "https://canada-spot-ortho.s3.amazonaws.com/canada_spot_orthoimages/canada_spot5_orthoimages/S5_2007/S5_07545_4828_20070505/s5_07545_4828_20070505_tn.jpg",
           "title": "S5_07545_4828_20070505"
          },
          "type": "Feature"
         },
         {
          "geometry": {
           "coordinates": [
            [
             [
              -75.8416676,
              49.236272499987166
             ],
             [
              -75.6169194,
              49.75401399998823
             ],
             [
              -74.8203005,
              49.60474209998792
             ],
             [
              -75.052923,
              49.08803909998684
             ],
             [
              -75.8416676,
              49.236272499987166
             ]
            ]
           ],
           "type": "Polygon"
          },
          "id": "S5_07520_4925_20070505",
          "properties": {
           "abstract": null,
           "downloadLink": "https://fake-endpoint/collections/canada_spot5_orthoimages/items/S5_07520_4925_20070505",
           "eo:bands": [
            {
             "common_name": "panchromatic",
             "description": "Panchromatic: 480-710 nm",
             "name": "Panchromatic"
            },
            {
             "common_name": "green",
             "description": "Green: 500-590 nm",
             "name": "Green"
            },
            {
             "common_name": "red",
             "description": "Red: 610-680 nm",
             "name": "Red"
            },
            {
             "common_name": "nir",
             "description": "Near Infrared: 780-890 nm",
             "name": "Near Infrared"
            },
            {
             "common_name": "swir",
             "description": "ShortWave Infrared: 1580-1750 nm",
             "name": "ShortWave Infrared"
            }
           ],
           "eodag_product_type": null,
           "eodag_provider": "stac_http_provider",
           "eodag_search_intersection": {
            "geometries": [],
            "type": "GeometryCollection"
           },
           "instrument": null,
           "license": null,
           "missionStartDate": null,
           "platform": null,
           "platformSerialIdentifier": null,
           "processingLevel": null,
           "productType": "canada_spot5_orthoimages",
           "proj:epsg": 3979,
           "resolution": 20,
           "sensorType": null,
           "startTimeFromAscendingNode": "2007-05-05T00:00:00Z",
           "storageStatus": "ONLINE",
           "style": {
            "color": "red"
           },
           "thumbnail": "https://canada-spot-ortho.s3.amazonaws.com/canada_spot_orthoimages/canada_spot5_orthoimages/S5_2007/S5_07520_4925_20070505/s5_07520_4925_20070505_tn.jpg",
           "title": "S5_07520_4925_20070505"
          },
          "type": "Feature"
         },
         {
          "geometry": {
           "coordinates": [
            [
             [
              -82.5399498,
              43.96653589999989
             ],
             [
              -82.3458555,
              44.4875308999999
             ],
             [
              -81.6429288,
              44.34954079999989
             ],
             [
              -81.861012,
              43.83442389999987
             ],
             [
              -82.5399498,
              43.96653589999989
             ]
            ]
           ],
           "type": "Polygon"
          },
          "id": "S5_08205_4409_20070504",
          "properties": {
           "abstract": null,
           "downloadLink": "https://fake-endpoint/collections/canada_spot5_orthoimages/items/S5_08205_4409_20070504",
           "eo:bands": [
            {
             "common_name": "panchromatic",
             "description": "Panchromatic: 480-710 nm",
             "name": "Panchromatic"
            },
            {
             "common_name": "green",
             "description": "Green: 500-590 nm",
             "name": "Green"
            },
            {
             "common_name": "red",
             "description": "Red: 610-680 nm",
             "name": "Red"
            },
            {
             "common_name": "nir",
             "description": "Near Infrared: 780-890 nm",
             "name": "Near Infrared"
            },
            {
             "common_name": "swir",
             "description": "ShortWave Infrared: 1580-1750 nm",
             "name": "ShortWave Infrared"
            }
           ],
           "eodag_product_type": null,
           "eodag_provider": "stac_http_provider",
           "eodag_search_intersection": {
            "geometries": [],
            "type": "GeometryCollection"
           },
           "instrument": null,
           "license": null,
           "missionStartDate": null,
           "platform": null,
           "platformSerialIdentifier": null,
           "processingLevel": null,
           "productType": "canada_spot5_orthoimages",
           "proj:epsg": 3979,
           "resolution": 20,
           "sensorType": null,
           "startTimeFromAscendingNode": "2007-05-04T00:00:00Z",
           "storageStatus": "ONLINE",
           "style": {
            "color": "red"
           },
           "thumbnail": "https://canada-spot-ortho.s3.amazonaws.com/canada_spot_orthoimages/canada_spot5_orthoimages/S5_2007/S5_08205_4409_20070504/s5_08205_4409_20070504_tn.jpg",
           "title": "S5_08205_4409_20070504"
          },
          "type": "Feature"
         },
         {
          "geometry": {
           "coordinates": [
            [
             [
              -134.61285240000004,
              59.90237209999863
             ],
             [
              -134.2436326,
              60.40733679999877
             ],
             [
              -133.2247839,
              60.218067899998715
             ],
             [
              -133.60573870000002,
              59.715175899998535
             ],
             [
              -134.61285240000004,
              59.90237209999863
             ]
            ]
           ],
           "type": "Polygon"
          },
          "id": "S5_13355_6004_20070502",
          "properties": {
           "abstract": null,
           "downloadLink": "https://fake-endpoint/collections/canada_spot5_orthoimages/items/S5_13355_6004_20070502",
           "eo:bands": [
            {
             "common_name": "panchromatic",
             "description": "Panchromatic: 480-710 nm",
             "name": "Panchromatic"
            },
            {
             "common_name": "green",
             "description": "Green: 500-590 nm",
             "name": "Green"
            },
            {
             "common_name": "red",
             "description": "Red: 610-680 nm",
             "name": "Red"
            },
            {
             "common_name": "nir",
             "description": "Near Infrared: 780-890 nm",
             "name": "Near Infrared"
            },
            {
             "common_name": "swir",
             "description": "ShortWave Infrared: 1580-1750 nm",
             "name": "ShortWave Infrared"
            }
           ],
           "eodag_product_type": null,
           "eodag_provider": "stac_http_provider",
           "eodag_search_intersection": {
            "geometries": [],
            "type": "GeometryCollection"
           },
           "instrument": null,
           "license": null,
           "missionStartDate": null,
           "platform": null,
           "platformSerialIdentifier": null,
           "processingLevel": null,
           "productType": "canada_spot5_orthoimages",
           "proj:epsg": 3979,
           "resolution": 20,
           "sensorType": null,
           "startTimeFromAscendingNode": "2007-05-02T00:00:00Z",
           "storageStatus": "ONLINE",
           "style": {
            "color": "red"
           },
           "thumbnail": "https://canada-spot-ortho.s3.amazonaws.com/canada_spot_orthoimages/canada_spot5_orthoimages/S5_2007/S5_13355_6004_20070502/s5_13355_6004_20070502_tn.jpg",
           "title": "S5_13355_6004_20070502"
          },
          "type": "Feature"
         },
         {
          "geometry": {
           "coordinates": [
            [
             [
              -75.8321003,
              47.85693209998394
             ],
             [
              -75.5637798,
              48.363290499985176
             ],
             [
              -74.5776358,
              48.12570679998459
             ],
             [
              -74.8555234,
              47.61966979998332
             ],
             [
              -75.8321003,
              47.85693209998394
             ]
            ]
           ],
           "type": "Polygon"
          },
          "id": "S5_07513_4760_20070504",
          "properties": {
           "abstract": null,
           "downloadLink": "https://fake-endpoint/collections/canada_spot5_orthoimages/items/S5_07513_4760_20070504",
           "eo:bands": [
            {
             "common_name": "panchromatic",
             "description": "Panchromatic: 480-710 nm",
             "name": "Panchromatic"
            },
            {
             "common_name": "green",
             "description": "Green: 500-590 nm",
             "name": "Green"
            },
            {
             "common_name": "red",
             "description": "Red: 610-680 nm",
             "name": "Red"
            },
            {
             "common_name": "nir",
             "description": "Near Infrared: 780-890 nm",
             "name": "Near Infrared"
            },
            {
             "common_name": "swir",
             "description": "ShortWave Infrared: 1580-1750 nm",
             "name": "ShortWave Infrared"
            }
           ],
           "eodag_product_type": null,
           "eodag_provider": "stac_http_provider",
           "eodag_search_intersection": {
            "geometries": [],
            "type": "GeometryCollection"
           },
           "instrument": null,
           "license": null,
           "missionStartDate": null,
           "platform": null,
           "platformSerialIdentifier": null,
           "processingLevel": null,
           "productType": "canada_spot5_orthoimages",
           "proj:epsg": 3979,
           "resolution": 20,
           "sensorType": null,
           "startTimeFromAscendingNode": "2007-05-04T00:00:00Z",
           "storageStatus": "ONLINE",
           "style": {
            "color": "red"
           },
           "thumbnail": "https://canada-spot-ortho.s3.amazonaws.com/canada_spot_orthoimages/canada_spot5_orthoimages/S5_2007/S5_07513_4760_20070504/s5_07513_4760_20070504_tn.jpg",
           "title": "S5_07513_4760_20070504"
          },
          "type": "Feature"
         }
        ],
        "type": "FeatureCollection"
       },
       "name": "",
       "options": [],
       "popup": null,
       "popup_max_height": null,
       "popup_max_width": 300,
       "popup_min_width": 50,
       "style": {
        "color": "red"
       }
      }
     },
     "68ffcc70f991440683dd0ce94d6777aa": {
      "model_module": "jupyter-leaflet",
      "model_module_version": "^0.13.5",
      "model_name": "LeafletZoomControlModel",
      "state": {
       "_model_module_version": "^0.13.5",
       "_view_module_version": "^0.13.5",
       "options": [
        "position",
        "zoom_in_text",
        "zoom_in_title",
        "zoom_out_text",
        "zoom_out_title"
       ]
      }
     },
     "69394f249eb44590a2e78d03b0e0ce91": {
      "model_module": "@jupyter-widgets/base",
      "model_module_version": "1.2.0",
      "model_name": "LayoutModel",
      "state": {}
     },
     "6ac3c50f28c54e578acd570b23478abe": {
      "model_module": "jupyter-leaflet",
      "model_module_version": "^0.13.5",
      "model_name": "LeafletZoomControlModel",
      "state": {
       "_model_module_version": "^0.13.5",
       "_view_module_version": "^0.13.5",
       "options": [
        "position",
        "zoom_in_text",
        "zoom_in_title",
        "zoom_out_text",
        "zoom_out_title"
       ]
      }
     },
     "6e50b0dbde684a3a96a427bb99a0baf6": {
      "model_module": "jupyter-leaflet",
      "model_module_version": "^0.13.5",
      "model_name": "LeafletMapStyleModel",
      "state": {
       "_model_module_version": "^0.13.5"
      }
     },
     "6f342712e7b54d51937c79c7e6495a63": {
      "model_module": "@jupyter-widgets/controls",
      "model_module_version": "1.5.0",
      "model_name": "HBoxModel",
      "state": {
       "children": [
        "IPY_MODEL_ece05cea3b36462a8a928fb1b41cdfe8",
        "IPY_MODEL_f288769a3f4045259be140831457c207",
        "IPY_MODEL_c3a3a6a6fd104b88a9944e5b4040b980"
       ],
       "layout": "IPY_MODEL_ee3ea2d086cc430882929dd3208e5f69"
      }
     },
     "6fbfcf87f0bd489a8acabcd12f9ddd32": {
      "model_module": "jupyter-leaflet",
      "model_module_version": "^0.13.5",
      "model_name": "LeafletTileLayerModel",
      "state": {
       "_model_module_version": "^0.13.5",
       "_view_module_version": "^0.13.5",
       "base": true,
       "max_native_zoom": 18,
       "max_zoom": 19,
       "min_native_zoom": 0,
       "min_zoom": 1,
       "options": [
        "attribution",
        "detect_retina",
        "max_native_zoom",
        "max_zoom",
        "min_native_zoom",
        "min_zoom",
        "no_wrap",
        "tile_size",
        "tms"
       ]
      }
     },
     "7094df40d20f4b6ea03f45256b504379": {
      "model_module": "jupyter-leaflet",
      "model_module_version": "^0.13.5",
      "model_name": "LeafletGeoJSONModel",
      "state": {
       "_model_module": "jupyter-leaflet",
       "_model_module_version": "^0.13.5",
       "_view_count": null,
       "_view_module": "jupyter-leaflet",
       "_view_module_version": "^0.13.5",
       "base": false,
       "bottom": false,
       "data": {
        "features": [
         {
          "geometry": {
           "coordinates": [
            [
             [
              -77.6897149,
              45.41003529999992
             ],
             [
              -77.493466,
              45.93058879999993
             ],
             [
              -76.7514935,
              45.790705999999915
             ],
             [
              -76.9536275,
              45.27084659999991
             ],
             [
              -77.6897149,
              45.41003529999992
             ]
            ]
           ],
           "type": "Polygon"
          },
          "id": "S5_07713_4536_20070505",
          "properties": {
           "abstract": null,
           "downloadLink": "https://fake-endpoint/collections/canada_spot5_orthoimages/items/S5_07713_4536_20070505",
           "eo:bands": [
            {
             "common_name": "panchromatic",
             "description": "Panchromatic: 480-710 nm",
             "name": "Panchromatic"
            },
            {
             "common_name": "green",
             "description": "Green: 500-590 nm",
             "name": "Green"
            },
            {
             "common_name": "red",
             "description": "Red: 610-680 nm",
             "name": "Red"
            },
            {
             "common_name": "nir",
             "description": "Near Infrared: 780-890 nm",
             "name": "Near Infrared"
            },
            {
             "common_name": "swir",
             "description": "ShortWave Infrared: 1580-1750 nm",
             "name": "ShortWave Infrared"
            }
           ],
           "eodag_product_type": null,
           "eodag_provider": "stac_http_provider",
           "eodag_search_intersection": {
            "geometries": [],
            "type": "GeometryCollection"
           },
           "instrument": null,
           "license": null,
           "missionStartDate": null,
           "platform": null,
           "platformSerialIdentifier": null,
           "processingLevel": null,
           "productType": "canada_spot5_orthoimages",
           "proj:epsg": 3979,
           "resolution": 20,
           "sensorType": null,
           "startTimeFromAscendingNode": "2007-05-05T00:00:00Z",
           "storageStatus": "ONLINE",
           "style": {
            "color": "red"
           },
           "thumbnail": "https://canada-spot-ortho.s3.amazonaws.com/canada_spot_orthoimages/canada_spot5_orthoimages/S5_2007/S5_07713_4536_20070505/s5_07713_4536_20070505_tn.jpg",
           "title": "S5_07713_4536_20070505"
          },
          "type": "Feature"
         },
         {
          "geometry": {
           "coordinates": [
            [
             [
              -82.19413800000001,
              43.002897899999866
             ],
             [
              -81.9983011,
              43.52332569999988
             ],
             [
              -81.2782497,
              43.3766073999999
             ],
             [
              -81.4785564,
              42.85763319999989
             ],
             [
              -82.19413800000001,
              43.002897899999866
             ]
            ]
           ],
           "type": "Polygon"
          },
          "id": "S5_08144_4311_20070504",
          "properties": {
           "abstract": null,
           "downloadLink": "https://fake-endpoint/collections/canada_spot5_orthoimages/items/S5_08144_4311_20070504",
           "eo:bands": [
            {
             "common_name": "panchromatic",
             "description": "Panchromatic: 480-710 nm",
             "name": "Panchromatic"
            },
            {
             "common_name": "green",
             "description": "Green: 500-590 nm",
             "name": "Green"
            },
            {
             "common_name": "red",
             "description": "Red: 610-680 nm",
             "name": "Red"
            },
            {
             "common_name": "nir",
             "description": "Near Infrared: 780-890 nm",
             "name": "Near Infrared"
            },
            {
             "common_name": "swir",
             "description": "ShortWave Infrared: 1580-1750 nm",
             "name": "ShortWave Infrared"
            }
           ],
           "eodag_product_type": null,
           "eodag_provider": "stac_http_provider",
           "eodag_search_intersection": {
            "geometries": [],
            "type": "GeometryCollection"
           },
           "instrument": null,
           "license": null,
           "missionStartDate": null,
           "platform": null,
           "platformSerialIdentifier": null,
           "processingLevel": null,
           "productType": "canada_spot5_orthoimages",
           "proj:epsg": 3979,
           "resolution": 20,
           "sensorType": null,
           "startTimeFromAscendingNode": "2007-05-04T00:00:00Z",
           "storageStatus": "ONLINE",
           "style": {
            "color": "red"
           },
           "thumbnail": "https://canada-spot-ortho.s3.amazonaws.com/canada_spot_orthoimages/canada_spot5_orthoimages/S5_2007/S5_08144_4311_20070504/s5_08144_4311_20070504_tn.jpg",
           "title": "S5_08144_4311_20070504"
          },
          "type": "Feature"
         },
         {
          "geometry": {
           "coordinates": [
            [
             [
              -85.0273477,
              46.859929499999936
             ],
             [
              -84.8043796,
              47.37592669998269
             ],
             [
              -84.02553680000001,
              47.21757089998226
             ],
             [
              -84.2562465,
              46.70048319999994
             ],
             [
              -85.0273477,
              46.859929499999936
             ]
            ]
           ],
           "type": "Polygon"
          },
          "id": "S5_08432_4702_20070503",
          "properties": {
           "abstract": null,
           "downloadLink": "https://fake-endpoint/collections/canada_spot5_orthoimages/items/S5_08432_4702_20070503",
           "eo:bands": [
            {
             "common_name": "panchromatic",
             "description": "Panchromatic: 480-710 nm",
             "name": "Panchromatic"
            },
            {
             "common_name": "green",
             "description": "Green: 500-590 nm",
             "name": "Green"
            },
            {
             "common_name": "red",
             "description": "Red: 610-680 nm",
             "name": "Red"
            },
            {
             "common_name": "nir",
             "description": "Near Infrared: 780-890 nm",
             "name": "Near Infrared"
            },
            {
             "common_name": "swir",
             "description": "ShortWave Infrared: 1580-1750 nm",
             "name": "ShortWave Infrared"
            }
           ],
           "eodag_product_type": null,
           "eodag_provider": "stac_http_provider",
           "eodag_search_intersection": {
            "geometries": [],
            "type": "GeometryCollection"
           },
           "instrument": null,
           "license": null,
           "missionStartDate": null,
           "platform": null,
           "platformSerialIdentifier": null,
           "processingLevel": null,
           "productType": "canada_spot5_orthoimages",
           "proj:epsg": 3979,
           "resolution": 20,
           "sensorType": null,
           "startTimeFromAscendingNode": "2007-05-03T00:00:00Z",
           "storageStatus": "ONLINE",
           "style": {
            "color": "red"
           },
           "thumbnail": "https://canada-spot-ortho.s3.amazonaws.com/canada_spot_orthoimages/canada_spot5_orthoimages/S5_2007/S5_08432_4702_20070503/s5_08432_4702_20070503_tn.jpg",
           "title": "S5_08432_4702_20070503"
          },
          "type": "Feature"
         },
         {
          "geometry": {
           "coordinates": [
            [
             [
              -82.1791361,
              44.93104039999991
             ],
             [
              -81.9785331,
              45.45127599999993
             ],
             [
              -81.2418256,
              45.30744029999992
             ],
             [
              -81.4473278,
              44.78835739999991
             ],
             [
              -82.1791361,
              44.93104039999991
             ]
            ]
           ],
           "type": "Polygon"
          },
          "id": "S5_08143_4507_20070504",
          "properties": {
           "abstract": null,
           "downloadLink": "https://fake-endpoint/collections/canada_spot5_orthoimages/items/S5_08143_4507_20070504",
           "eo:bands": [
            {
             "common_name": "panchromatic",
             "description": "Panchromatic: 480-710 nm",
             "name": "Panchromatic"
            },
            {
             "common_name": "green",
             "description": "Green: 500-590 nm",
             "name": "Green"
            },
            {
             "common_name": "red",
             "description": "Red: 610-680 nm",
             "name": "Red"
            },
            {
             "common_name": "nir",
             "description": "Near Infrared: 780-890 nm",
             "name": "Near Infrared"
            },
            {
             "common_name": "swir",
             "description": "ShortWave Infrared: 1580-1750 nm",
             "name": "ShortWave Infrared"
            }
           ],
           "eodag_product_type": null,
           "eodag_provider": "stac_http_provider",
           "eodag_search_intersection": {
            "geometries": [],
            "type": "GeometryCollection"
           },
           "instrument": null,
           "license": null,
           "missionStartDate": null,
           "platform": null,
           "platformSerialIdentifier": null,
           "processingLevel": null,
           "productType": "canada_spot5_orthoimages",
           "proj:epsg": 3979,
           "resolution": 20,
           "sensorType": null,
           "startTimeFromAscendingNode": "2007-05-04T00:00:00Z",
           "storageStatus": "ONLINE",
           "style": {
            "color": "red"
           },
           "thumbnail": "https://canada-spot-ortho.s3.amazonaws.com/canada_spot_orthoimages/canada_spot5_orthoimages/S5_2007/S5_08143_4507_20070504/s5_08143_4507_20070504_tn.jpg",
           "title": "S5_08143_4507_20070504"
          },
          "type": "Feature"
         },
         {
          "geometry": {
           "coordinates": [
            [
             [
              -77.5086458,
              45.89066339999992
             ],
             [
              -77.3097434,
              46.411011399999936
             ],
             [
              -76.56018450000002,
              46.27010199999995
             ],
             [
              -76.766165,
              45.75074559999991
             ],
             [
              -77.5086458,
              45.89066339999992
             ]
            ]
           ],
           "type": "Polygon"
          },
          "id": "S5_07702_4605_20070505",
          "properties": {
           "abstract": null,
           "downloadLink": "https://fake-endpoint/collections/canada_spot5_orthoimages/items/S5_07702_4605_20070505",
           "eo:bands": [
            {
             "common_name": "panchromatic",
             "description": "Panchromatic: 480-710 nm",
             "name": "Panchromatic"
            },
            {
             "common_name": "green",
             "description": "Green: 500-590 nm",
             "name": "Green"
            },
            {
             "common_name": "red",
             "description": "Red: 610-680 nm",
             "name": "Red"
            },
            {
             "common_name": "nir",
             "description": "Near Infrared: 780-890 nm",
             "name": "Near Infrared"
            },
            {
             "common_name": "swir",
             "description": "ShortWave Infrared: 1580-1750 nm",
             "name": "ShortWave Infrared"
            }
           ],
           "eodag_product_type": null,
           "eodag_provider": "stac_http_provider",
           "eodag_search_intersection": {
            "geometries": [],
            "type": "GeometryCollection"
           },
           "instrument": null,
           "license": null,
           "missionStartDate": null,
           "platform": null,
           "platformSerialIdentifier": null,
           "processingLevel": null,
           "productType": "canada_spot5_orthoimages",
           "proj:epsg": 3979,
           "resolution": 20,
           "sensorType": null,
           "startTimeFromAscendingNode": "2007-05-05T00:00:00Z",
           "storageStatus": "ONLINE",
           "style": {
            "color": "red"
           },
           "thumbnail": "https://canada-spot-ortho.s3.amazonaws.com/canada_spot_orthoimages/canada_spot5_orthoimages/S5_2007/S5_07702_4605_20070505/s5_07702_4605_20070505_tn.jpg",
           "title": "S5_07702_4605_20070505"
          },
          "type": "Feature"
         },
         {
          "geometry": {
           "coordinates": [
            [
             [
              -81.82939060000001,
              43.97025879999991
             ],
             [
              -81.6293909,
              44.48955959999991
             ],
             [
              -80.8972191,
              44.341560399999906
             ],
             [
              -81.1035722,
              43.82257309999989
             ],
             [
              -81.82939060000001,
              43.97025879999991
             ]
            ]
           ],
           "type": "Polygon"
          },
          "id": "S5_08122_4409_20070504",
          "properties": {
           "abstract": null,
           "downloadLink": "https://fake-endpoint/collections/canada_spot5_orthoimages/items/S5_08122_4409_20070504",
           "eo:bands": [
            {
             "common_name": "panchromatic",
             "description": "Panchromatic: 480-710 nm",
             "name": "Panchromatic"
            },
            {
             "common_name": "green",
             "description": "Green: 500-590 nm",
             "name": "Green"
            },
            {
             "common_name": "red",
             "description": "Red: 610-680 nm",
             "name": "Red"
            },
            {
             "common_name": "nir",
             "description": "Near Infrared: 780-890 nm",
             "name": "Near Infrared"
            },
            {
             "common_name": "swir",
             "description": "ShortWave Infrared: 1580-1750 nm",
             "name": "ShortWave Infrared"
            }
           ],
           "eodag_product_type": null,
           "eodag_provider": "stac_http_provider",
           "eodag_search_intersection": {
            "geometries": [],
            "type": "GeometryCollection"
           },
           "instrument": null,
           "license": null,
           "missionStartDate": null,
           "platform": null,
           "platformSerialIdentifier": null,
           "processingLevel": null,
           "productType": "canada_spot5_orthoimages",
           "proj:epsg": 3979,
           "resolution": 20,
           "sensorType": null,
           "startTimeFromAscendingNode": "2007-05-04T00:00:00Z",
           "storageStatus": "ONLINE",
           "style": {
            "color": "red"
           },
           "thumbnail": "https://canada-spot-ortho.s3.amazonaws.com/canada_spot_orthoimages/canada_spot5_orthoimages/S5_2007/S5_08122_4409_20070504/s5_08122_4409_20070504_tn.jpg",
           "title": "S5_08122_4409_20070504"
          },
          "type": "Feature"
         },
         {
          "geometry": {
           "coordinates": [
            [
             [
              -82.0128118,
              43.486933699999895
             ],
             [
              -81.8154336,
              44.006646199999906
             ],
             [
              -81.0891217,
              43.85927329999989
             ],
             [
              -81.2926142,
              43.340113799999905
             ],
             [
              -82.0128118,
              43.486933699999895
             ]
            ]
           ],
           "type": "Polygon"
          },
          "id": "S5_08133_4340_20070504",
          "properties": {
           "abstract": null,
           "downloadLink": "https://fake-endpoint/collections/canada_spot5_orthoimages/items/S5_08133_4340_20070504",
           "eo:bands": [
            {
             "common_name": "panchromatic",
             "description": "Panchromatic: 480-710 nm",
             "name": "Panchromatic"
            },
            {
             "common_name": "green",
             "description": "Green: 500-590 nm",
             "name": "Green"
            },
            {
             "common_name": "red",
             "description": "Red: 610-680 nm",
             "name": "Red"
            },
            {
             "common_name": "nir",
             "description": "Near Infrared: 780-890 nm",
             "name": "Near Infrared"
            },
            {
             "common_name": "swir",
             "description": "ShortWave Infrared: 1580-1750 nm",
             "name": "ShortWave Infrared"
            }
           ],
           "eodag_product_type": null,
           "eodag_provider": "stac_http_provider",
           "eodag_search_intersection": {
            "geometries": [],
            "type": "GeometryCollection"
           },
           "instrument": null,
           "license": null,
           "missionStartDate": null,
           "platform": null,
           "platformSerialIdentifier": null,
           "processingLevel": null,
           "productType": "canada_spot5_orthoimages",
           "proj:epsg": 3979,
           "resolution": 20,
           "sensorType": null,
           "startTimeFromAscendingNode": "2007-05-04T00:00:00Z",
           "storageStatus": "ONLINE",
           "style": {
            "color": "red"
           },
           "thumbnail": "https://canada-spot-ortho.s3.amazonaws.com/canada_spot_orthoimages/canada_spot5_orthoimages/S5_2007/S5_08133_4340_20070504/s5_08133_4340_20070504_tn.jpg",
           "title": "S5_08133_4340_20070504"
          },
          "type": "Feature"
         },
         {
          "geometry": {
           "coordinates": [
            [
             [
              -75.635484,
              49.71080699998813
             ],
             [
              -75.4077832,
              50.22914529998913
             ],
             [
              -74.6039477,
              50.07893649998885
             ],
             [
              -74.839718,
              49.562025099987835
             ],
             [
              -75.635484,
              49.71080699998813
             ]
            ]
           ],
           "type": "Polygon"
          },
          "id": "S5_07507_4954_20070505",
          "properties": {
           "abstract": null,
           "downloadLink": "https://fake-endpoint/collections/canada_spot5_orthoimages/items/S5_07507_4954_20070505",
           "eo:bands": [
            {
             "common_name": "panchromatic",
             "description": "Panchromatic: 480-710 nm",
             "name": "Panchromatic"
            },
            {
             "common_name": "green",
             "description": "Green: 500-590 nm",
             "name": "Green"
            },
            {
             "common_name": "red",
             "description": "Red: 610-680 nm",
             "name": "Red"
            },
            {
             "common_name": "nir",
             "description": "Near Infrared: 780-890 nm",
             "name": "Near Infrared"
            },
            {
             "common_name": "swir",
             "description": "ShortWave Infrared: 1580-1750 nm",
             "name": "ShortWave Infrared"
            }
           ],
           "eodag_product_type": null,
           "eodag_provider": "stac_http_provider",
           "eodag_search_intersection": {
            "geometries": [],
            "type": "GeometryCollection"
           },
           "instrument": null,
           "license": null,
           "missionStartDate": null,
           "platform": null,
           "platformSerialIdentifier": null,
           "processingLevel": null,
           "productType": "canada_spot5_orthoimages",
           "proj:epsg": 3979,
           "resolution": 20,
           "sensorType": null,
           "startTimeFromAscendingNode": "2007-05-05T00:00:00Z",
           "storageStatus": "ONLINE",
           "style": {
            "color": "red"
           },
           "thumbnail": "https://canada-spot-ortho.s3.amazonaws.com/canada_spot_orthoimages/canada_spot5_orthoimages/S5_2007/S5_07507_4954_20070505/s5_07507_4954_20070505_tn.jpg",
           "title": "S5_07507_4954_20070505"
          },
          "type": "Feature"
         },
         {
          "geometry": {
           "coordinates": [
            [
             [
              -84.9345337,
              48.765304799986104
             ],
             [
              -84.7042059,
              49.282367799987256
             ],
             [
              -83.9089622,
              49.126539399986925
             ],
             [
              -84.1474371,
              48.61051919998576
             ],
             [
              -84.9345337,
              48.765304799986104
             ]
            ]
           ],
           "type": "Polygon"
          },
          "id": "S5_08426_4857_20070503",
          "properties": {
           "abstract": null,
           "downloadLink": "https://fake-endpoint/collections/canada_spot5_orthoimages/items/S5_08426_4857_20070503",
           "eo:bands": [
            {
             "common_name": "panchromatic",
             "description": "Panchromatic: 480-710 nm",
             "name": "Panchromatic"
            },
            {
             "common_name": "green",
             "description": "Green: 500-590 nm",
             "name": "Green"
            },
            {
             "common_name": "red",
             "description": "Red: 610-680 nm",
             "name": "Red"
            },
            {
             "common_name": "nir",
             "description": "Near Infrared: 780-890 nm",
             "name": "Near Infrared"
            },
            {
             "common_name": "swir",
             "description": "ShortWave Infrared: 1580-1750 nm",
             "name": "ShortWave Infrared"
            }
           ],
           "eodag_product_type": null,
           "eodag_provider": "stac_http_provider",
           "eodag_search_intersection": {
            "geometries": [],
            "type": "GeometryCollection"
           },
           "instrument": null,
           "license": null,
           "missionStartDate": null,
           "platform": null,
           "platformSerialIdentifier": null,
           "processingLevel": null,
           "productType": "canada_spot5_orthoimages",
           "proj:epsg": 3979,
           "resolution": 20,
           "sensorType": null,
           "startTimeFromAscendingNode": "2007-05-03T00:00:00Z",
           "storageStatus": "ONLINE",
           "style": {
            "color": "red"
           },
           "thumbnail": "https://canada-spot-ortho.s3.amazonaws.com/canada_spot_orthoimages/canada_spot5_orthoimages/S5_2007/S5_08426_4857_20070503/s5_08426_4857_20070503_tn.jpg",
           "title": "S5_08426_4857_20070503"
          },
          "type": "Feature"
         },
         {
          "geometry": {
           "coordinates": [
            [
             [
              -84.8206206,
              47.3379771999826
             ],
             [
              -84.59384510000001,
              47.85419849998393
             ],
             [
              -83.8084865,
              47.69434859998355
             ],
             [
              -84.0433223,
              47.17892369998218
             ],
             [
              -84.8206206,
              47.3379771999826
             ]
            ]
           ],
           "type": "Polygon"
          },
          "id": "S5_08419_4731_20070503",
          "properties": {
           "abstract": null,
           "downloadLink": "https://fake-endpoint/collections/canada_spot5_orthoimages/items/S5_08419_4731_20070503",
           "eo:bands": [
            {
             "common_name": "panchromatic",
             "description": "Panchromatic: 480-710 nm",
             "name": "Panchromatic"
            },
            {
             "common_name": "green",
             "description": "Green: 500-590 nm",
             "name": "Green"
            },
            {
             "common_name": "red",
             "description": "Red: 610-680 nm",
             "name": "Red"
            },
            {
             "common_name": "nir",
             "description": "Near Infrared: 780-890 nm",
             "name": "Near Infrared"
            },
            {
             "common_name": "swir",
             "description": "ShortWave Infrared: 1580-1750 nm",
             "name": "ShortWave Infrared"
            }
           ],
           "eodag_product_type": null,
           "eodag_provider": "stac_http_provider",
           "eodag_search_intersection": {
            "geometries": [],
            "type": "GeometryCollection"
           },
           "instrument": null,
           "license": null,
           "missionStartDate": null,
           "platform": null,
           "platformSerialIdentifier": null,
           "processingLevel": null,
           "productType": "canada_spot5_orthoimages",
           "proj:epsg": 3979,
           "resolution": 20,
           "sensorType": null,
           "startTimeFromAscendingNode": "2007-05-03T00:00:00Z",
           "storageStatus": "ONLINE",
           "style": {
            "color": "red"
           },
           "thumbnail": "https://canada-spot-ortho.s3.amazonaws.com/canada_spot_orthoimages/canada_spot5_orthoimages/S5_2007/S5_08419_4731_20070503/s5_08419_4731_20070503_tn.jpg",
           "title": "S5_08419_4731_20070503"
          },
          "type": "Feature"
         },
         {
          "geometry": {
           "coordinates": [
            [
             [
              -81.4555888,
              44.9349105999999
             ],
             [
              -81.2491542,
              45.45280749999993
             ],
             [
              -80.5044075,
              45.30292019999991
             ],
             [
              -80.7183832,
              44.78516229999991
             ],
             [
              -81.4555888,
              44.9349105999999
             ]
            ]
           ],
           "type": "Polygon"
          },
          "id": "S5_08059_4507_20070504",
          "properties": {
           "abstract": null,
           "downloadLink": "https://fake-endpoint/collections/canada_spot5_orthoimages/items/S5_08059_4507_20070504",
           "eo:bands": [
            {
             "common_name": "panchromatic",
             "description": "Panchromatic: 480-710 nm",
             "name": "Panchromatic"
            },
            {
             "common_name": "green",
             "description": "Green: 500-590 nm",
             "name": "Green"
            },
            {
             "common_name": "red",
             "description": "Red: 610-680 nm",
             "name": "Red"
            },
            {
             "common_name": "nir",
             "description": "Near Infrared: 780-890 nm",
             "name": "Near Infrared"
            },
            {
             "common_name": "swir",
             "description": "ShortWave Infrared: 1580-1750 nm",
             "name": "ShortWave Infrared"
            }
           ],
           "eodag_product_type": null,
           "eodag_provider": "stac_http_provider",
           "eodag_search_intersection": {
            "geometries": [],
            "type": "GeometryCollection"
           },
           "instrument": null,
           "license": null,
           "missionStartDate": null,
           "platform": null,
           "platformSerialIdentifier": null,
           "processingLevel": null,
           "productType": "canada_spot5_orthoimages",
           "proj:epsg": 3979,
           "resolution": 20,
           "sensorType": null,
           "startTimeFromAscendingNode": "2007-05-04T00:00:00Z",
           "storageStatus": "ONLINE",
           "style": {
            "color": "red"
           },
           "thumbnail": "https://canada-spot-ortho.s3.amazonaws.com/canada_spot_orthoimages/canada_spot5_orthoimages/S5_2007/S5_08059_4507_20070504/s5_08059_4507_20070504_tn.jpg",
           "title": "S5_08059_4507_20070504"
          },
          "type": "Feature"
         },
         {
          "geometry": {
           "coordinates": [
            [
             [
              -81.6437402,
              44.45305149999991
             ],
             [
              -81.440283,
              44.97205759999991
             ],
             [
              -80.70280270000002,
              44.82283499999992
             ],
             [
              -80.91258470000001,
              44.304634199999924
             ],
             [
              -81.6437402,
              44.45305149999991
             ]
            ]
           ],
           "type": "Polygon"
          },
          "id": "S5_08111_4438_20070504",
          "properties": {
           "abstract": null,
           "downloadLink": "https://fake-endpoint/collections/canada_spot5_orthoimages/items/S5_08111_4438_20070504",
           "eo:bands": [
            {
             "common_name": "panchromatic",
             "description": "Panchromatic: 480-710 nm",
             "name": "Panchromatic"
            },
            {
             "common_name": "green",
             "description": "Green: 500-590 nm",
             "name": "Green"
            },
            {
             "common_name": "red",
             "description": "Red: 610-680 nm",
             "name": "Red"
            },
            {
             "common_name": "nir",
             "description": "Near Infrared: 780-890 nm",
             "name": "Near Infrared"
            },
            {
             "common_name": "swir",
             "description": "ShortWave Infrared: 1580-1750 nm",
             "name": "ShortWave Infrared"
            }
           ],
           "eodag_product_type": null,
           "eodag_provider": "stac_http_provider",
           "eodag_search_intersection": {
            "geometries": [],
            "type": "GeometryCollection"
           },
           "instrument": null,
           "license": null,
           "missionStartDate": null,
           "platform": null,
           "platformSerialIdentifier": null,
           "processingLevel": null,
           "productType": "canada_spot5_orthoimages",
           "proj:epsg": 3979,
           "resolution": 20,
           "sensorType": null,
           "startTimeFromAscendingNode": "2007-05-04T00:00:00Z",
           "storageStatus": "ONLINE",
           "style": {
            "color": "red"
           },
           "thumbnail": "https://canada-spot-ortho.s3.amazonaws.com/canada_spot_orthoimages/canada_spot5_orthoimages/S5_2007/S5_08111_4438_20070504/s5_08111_4438_20070504_tn.jpg",
           "title": "S5_08111_4438_20070504"
          },
          "type": "Feature"
         },
         {
          "geometry": {
           "coordinates": [
            [
             [
              -86.1595605,
              49.23422629998713
             ],
             [
              -85.9407614,
              49.7529022999882
             ],
             [
              -85.1419636,
              49.60717919998791
             ],
             [
              -85.3685313,
              49.08959189998682
             ],
             [
              -86.1595605,
              49.23422629998713
             ]
            ]
           ],
           "type": "Polygon"
          },
          "id": "S5_08539_4925_20070503",
          "properties": {
           "abstract": null,
           "downloadLink": "https://fake-endpoint/collections/canada_spot5_orthoimages/items/S5_08539_4925_20070503",
           "eo:bands": [
            {
             "common_name": "panchromatic",
             "description": "Panchromatic: 480-710 nm",
             "name": "Panchromatic"
            },
            {
             "common_name": "green",
             "description": "Green: 500-590 nm",
             "name": "Green"
            },
            {
             "common_name": "red",
             "description": "Red: 610-680 nm",
             "name": "Red"
            },
            {
             "common_name": "nir",
             "description": "Near Infrared: 780-890 nm",
             "name": "Near Infrared"
            },
            {
             "common_name": "swir",
             "description": "ShortWave Infrared: 1580-1750 nm",
             "name": "ShortWave Infrared"
            }
           ],
           "eodag_product_type": null,
           "eodag_provider": "stac_http_provider",
           "eodag_search_intersection": {
            "geometries": [],
            "type": "GeometryCollection"
           },
           "instrument": null,
           "license": null,
           "missionStartDate": null,
           "platform": null,
           "platformSerialIdentifier": null,
           "processingLevel": null,
           "productType": "canada_spot5_orthoimages",
           "proj:epsg": 3979,
           "resolution": 20,
           "sensorType": null,
           "startTimeFromAscendingNode": "2007-05-03T00:00:00Z",
           "storageStatus": "ONLINE",
           "style": {
            "color": "red"
           },
           "thumbnail": "https://canada-spot-ortho.s3.amazonaws.com/canada_spot_orthoimages/canada_spot5_orthoimages/S5_2007/S5_08539_4925_20070503/s5_08539_4925_20070503_tn.jpg",
           "title": "S5_08539_4925_20070503"
          },
          "type": "Feature"
         },
         {
          "geometry": {
           "coordinates": [
            [
             [
              -77.8688576,
              44.92858479999993
             ],
             [
              -77.6751065,
              45.44990809999991
             ],
             [
              -76.9381127,
              45.3104741999999
             ],
             [
              -77.13831010000001,
              44.790157899999905
             ],
             [
              -77.8688576,
              44.92858479999993
             ]
            ]
           ],
           "type": "Polygon"
          },
          "id": "S5_07724_4507_20070505",
          "properties": {
           "abstract": null,
           "downloadLink": "https://fake-endpoint/collections/canada_spot5_orthoimages/items/S5_07724_4507_20070505",
           "eo:bands": [
            {
             "common_name": "panchromatic",
             "description": "Panchromatic: 480-710 nm",
             "name": "Panchromatic"
            },
            {
             "common_name": "green",
             "description": "Green: 500-590 nm",
             "name": "Green"
            },
            {
             "common_name": "red",
             "description": "Red: 610-680 nm",
             "name": "Red"
            },
            {
             "common_name": "nir",
             "description": "Near Infrared: 780-890 nm",
             "name": "Near Infrared"
            },
            {
             "common_name": "swir",
             "description": "ShortWave Infrared: 1580-1750 nm",
             "name": "ShortWave Infrared"
            }
           ],
           "eodag_product_type": null,
           "eodag_provider": "stac_http_provider",
           "eodag_search_intersection": {
            "geometries": [],
            "type": "GeometryCollection"
           },
           "instrument": null,
           "license": null,
           "missionStartDate": null,
           "platform": null,
           "platformSerialIdentifier": null,
           "processingLevel": null,
           "productType": "canada_spot5_orthoimages",
           "proj:epsg": 3979,
           "resolution": 20,
           "sensorType": null,
           "startTimeFromAscendingNode": "2007-05-05T00:00:00Z",
           "storageStatus": "ONLINE",
           "style": {
            "color": "red"
           },
           "thumbnail": "https://canada-spot-ortho.s3.amazonaws.com/canada_spot_orthoimages/canada_spot5_orthoimages/S5_2007/S5_07724_4507_20070505/s5_07724_4507_20070505_tn.jpg",
           "title": "S5_07724_4507_20070505"
          },
          "type": "Feature"
         },
         {
          "geometry": {
           "coordinates": [
            [
             [
              -85.1430113,
              48.28905129998501
             ],
             [
              -84.9162353,
              48.80620119998619
             ],
             [
              -84.1287318,
              48.65145419998586
             ],
             [
              -84.3634894,
              48.135371299984634
             ],
             [
              -85.1430113,
              48.28905129998501
             ]
            ]
           ],
           "type": "Polygon"
          },
          "id": "S5_08438_4828_20070503",
          "properties": {
           "abstract": null,
           "downloadLink": "https://fake-endpoint/collections/canada_spot5_orthoimages/items/S5_08438_4828_20070503",
           "eo:bands": [
            {
             "common_name": "panchromatic",
             "description": "Panchromatic: 480-710 nm",
             "name": "Panchromatic"
            },
            {
             "common_name": "green",
             "description": "Green: 500-590 nm",
             "name": "Green"
            },
            {
             "common_name": "red",
             "description": "Red: 610-680 nm",
             "name": "Red"
            },
            {
             "common_name": "nir",
             "description": "Near Infrared: 780-890 nm",
             "name": "Near Infrared"
            },
            {
             "common_name": "swir",
             "description": "ShortWave Infrared: 1580-1750 nm",
             "name": "ShortWave Infrared"
            }
           ],
           "eodag_product_type": null,
           "eodag_provider": "stac_http_provider",
           "eodag_search_intersection": {
            "geometries": [],
            "type": "GeometryCollection"
           },
           "instrument": null,
           "license": null,
           "missionStartDate": null,
           "platform": null,
           "platformSerialIdentifier": null,
           "processingLevel": null,
           "productType": "canada_spot5_orthoimages",
           "proj:epsg": 3979,
           "resolution": 20,
           "sensorType": null,
           "startTimeFromAscendingNode": "2007-05-03T00:00:00Z",
           "storageStatus": "ONLINE",
           "style": {
            "color": "red"
           },
           "thumbnail": "https://canada-spot-ortho.s3.amazonaws.com/canada_spot_orthoimages/canada_spot5_orthoimages/S5_2007/S5_08438_4828_20070503/s5_08438_4828_20070503_tn.jpg",
           "title": "S5_08438_4828_20070503"
          },
          "type": "Feature"
         },
         {
          "geometry": {
           "coordinates": [
            [
             [
              -82.3604829,
              44.4490351999999
             ],
             [
              -82.1638974,
              44.969530699999915
             ],
             [
              -81.4321473,
              44.82679269999993
             ],
             [
              -81.6351024,
              44.307056199999906
             ],
             [
              -82.3604829,
              44.4490351999999
             ]
            ]
           ],
           "type": "Polygon"
          },
          "id": "S5_08154_4438_20070504",
          "properties": {
           "abstract": null,
           "downloadLink": "https://fake-endpoint/collections/canada_spot5_orthoimages/items/S5_08154_4438_20070504",
           "eo:bands": [
            {
             "common_name": "panchromatic",
             "description": "Panchromatic: 480-710 nm",
             "name": "Panchromatic"
            },
            {
             "common_name": "green",
             "description": "Green: 500-590 nm",
             "name": "Green"
            },
            {
             "common_name": "red",
             "description": "Red: 610-680 nm",
             "name": "Red"
            },
            {
             "common_name": "nir",
             "description": "Near Infrared: 780-890 nm",
             "name": "Near Infrared"
            },
            {
             "common_name": "swir",
             "description": "ShortWave Infrared: 1580-1750 nm",
             "name": "ShortWave Infrared"
            }
           ],
           "eodag_product_type": null,
           "eodag_provider": "stac_http_provider",
           "eodag_search_intersection": {
            "geometries": [],
            "type": "GeometryCollection"
           },
           "instrument": null,
           "license": null,
           "missionStartDate": null,
           "platform": null,
           "platformSerialIdentifier": null,
           "processingLevel": null,
           "productType": "canada_spot5_orthoimages",
           "proj:epsg": 3979,
           "resolution": 20,
           "sensorType": null,
           "startTimeFromAscendingNode": "2007-05-04T00:00:00Z",
           "storageStatus": "ONLINE",
           "style": {
            "color": "red"
           },
           "thumbnail": "https://canada-spot-ortho.s3.amazonaws.com/canada_spot_orthoimages/canada_spot5_orthoimages/S5_2007/S5_08154_4438_20070504/s5_08154_4438_20070504_tn.jpg",
           "title": "S5_08154_4438_20070504"
          },
          "type": "Feature"
         },
         {
          "geometry": {
           "coordinates": [
            [
             [
              -76.24385540000002,
              48.284491499985
             ],
             [
              -76.0261593,
              48.80282719998618
             ],
             [
              -75.24409010000001,
              48.65556529998587
             ],
             [
              -75.4693021,
              48.138179499984645
             ],
             [
              -76.24385540000002,
              48.284491499985
             ]
            ]
           ],
           "type": "Polygon"
          },
          "id": "S5_07545_4828_20070505",
          "properties": {
           "abstract": null,
           "downloadLink": "https://fake-endpoint/collections/canada_spot5_orthoimages/items/S5_07545_4828_20070505",
           "eo:bands": [
            {
             "common_name": "panchromatic",
             "description": "Panchromatic: 480-710 nm",
             "name": "Panchromatic"
            },
            {
             "common_name": "green",
             "description": "Green: 500-590 nm",
             "name": "Green"
            },
            {
             "common_name": "red",
             "description": "Red: 610-680 nm",
             "name": "Red"
            },
            {
             "common_name": "nir",
             "description": "Near Infrared: 780-890 nm",
             "name": "Near Infrared"
            },
            {
             "common_name": "swir",
             "description": "ShortWave Infrared: 1580-1750 nm",
             "name": "ShortWave Infrared"
            }
           ],
           "eodag_product_type": null,
           "eodag_provider": "stac_http_provider",
           "eodag_search_intersection": {
            "geometries": [],
            "type": "GeometryCollection"
           },
           "instrument": null,
           "license": null,
           "missionStartDate": null,
           "platform": null,
           "platformSerialIdentifier": null,
           "processingLevel": null,
           "productType": "canada_spot5_orthoimages",
           "proj:epsg": 3979,
           "resolution": 20,
           "sensorType": null,
           "startTimeFromAscendingNode": "2007-05-05T00:00:00Z",
           "storageStatus": "ONLINE",
           "style": {
            "color": "red"
           },
           "thumbnail": "https://canada-spot-ortho.s3.amazonaws.com/canada_spot_orthoimages/canada_spot5_orthoimages/S5_2007/S5_07545_4828_20070505/s5_07545_4828_20070505_tn.jpg",
           "title": "S5_07545_4828_20070505"
          },
          "type": "Feature"
         },
         {
          "geometry": {
           "coordinates": [
            [
             [
              -75.8416676,
              49.236272499987166
             ],
             [
              -75.6169194,
              49.75401399998823
             ],
             [
              -74.8203005,
              49.60474209998792
             ],
             [
              -75.052923,
              49.08803909998684
             ],
             [
              -75.8416676,
              49.236272499987166
             ]
            ]
           ],
           "type": "Polygon"
          },
          "id": "S5_07520_4925_20070505",
          "properties": {
           "abstract": null,
           "downloadLink": "https://fake-endpoint/collections/canada_spot5_orthoimages/items/S5_07520_4925_20070505",
           "eo:bands": [
            {
             "common_name": "panchromatic",
             "description": "Panchromatic: 480-710 nm",
             "name": "Panchromatic"
            },
            {
             "common_name": "green",
             "description": "Green: 500-590 nm",
             "name": "Green"
            },
            {
             "common_name": "red",
             "description": "Red: 610-680 nm",
             "name": "Red"
            },
            {
             "common_name": "nir",
             "description": "Near Infrared: 780-890 nm",
             "name": "Near Infrared"
            },
            {
             "common_name": "swir",
             "description": "ShortWave Infrared: 1580-1750 nm",
             "name": "ShortWave Infrared"
            }
           ],
           "eodag_product_type": null,
           "eodag_provider": "stac_http_provider",
           "eodag_search_intersection": {
            "geometries": [],
            "type": "GeometryCollection"
           },
           "instrument": null,
           "license": null,
           "missionStartDate": null,
           "platform": null,
           "platformSerialIdentifier": null,
           "processingLevel": null,
           "productType": "canada_spot5_orthoimages",
           "proj:epsg": 3979,
           "resolution": 20,
           "sensorType": null,
           "startTimeFromAscendingNode": "2007-05-05T00:00:00Z",
           "storageStatus": "ONLINE",
           "style": {
            "color": "red"
           },
           "thumbnail": "https://canada-spot-ortho.s3.amazonaws.com/canada_spot_orthoimages/canada_spot5_orthoimages/S5_2007/S5_07520_4925_20070505/s5_07520_4925_20070505_tn.jpg",
           "title": "S5_07520_4925_20070505"
          },
          "type": "Feature"
         },
         {
          "geometry": {
           "coordinates": [
            [
             [
              -82.5399498,
              43.96653589999989
             ],
             [
              -82.3458555,
              44.4875308999999
             ],
             [
              -81.6429288,
              44.34954079999989
             ],
             [
              -81.861012,
              43.83442389999987
             ],
             [
              -82.5399498,
              43.96653589999989
             ]
            ]
           ],
           "type": "Polygon"
          },
          "id": "S5_08205_4409_20070504",
          "properties": {
           "abstract": null,
           "downloadLink": "https://fake-endpoint/collections/canada_spot5_orthoimages/items/S5_08205_4409_20070504",
           "eo:bands": [
            {
             "common_name": "panchromatic",
             "description": "Panchromatic: 480-710 nm",
             "name": "Panchromatic"
            },
            {
             "common_name": "green",
             "description": "Green: 500-590 nm",
             "name": "Green"
            },
            {
             "common_name": "red",
             "description": "Red: 610-680 nm",
             "name": "Red"
            },
            {
             "common_name": "nir",
             "description": "Near Infrared: 780-890 nm",
             "name": "Near Infrared"
            },
            {
             "common_name": "swir",
             "description": "ShortWave Infrared: 1580-1750 nm",
             "name": "ShortWave Infrared"
            }
           ],
           "eodag_product_type": null,
           "eodag_provider": "stac_http_provider",
           "eodag_search_intersection": {
            "geometries": [],
            "type": "GeometryCollection"
           },
           "instrument": null,
           "license": null,
           "missionStartDate": null,
           "platform": null,
           "platformSerialIdentifier": null,
           "processingLevel": null,
           "productType": "canada_spot5_orthoimages",
           "proj:epsg": 3979,
           "resolution": 20,
           "sensorType": null,
           "startTimeFromAscendingNode": "2007-05-04T00:00:00Z",
           "storageStatus": "ONLINE",
           "style": {
            "color": "red"
           },
           "thumbnail": "https://canada-spot-ortho.s3.amazonaws.com/canada_spot_orthoimages/canada_spot5_orthoimages/S5_2007/S5_08205_4409_20070504/s5_08205_4409_20070504_tn.jpg",
           "title": "S5_08205_4409_20070504"
          },
          "type": "Feature"
         },
         {
          "geometry": {
           "coordinates": [
            [
             [
              -134.61285240000004,
              59.90237209999863
             ],
             [
              -134.2436326,
              60.40733679999877
             ],
             [
              -133.2247839,
              60.218067899998715
             ],
             [
              -133.60573870000002,
              59.715175899998535
             ],
             [
              -134.61285240000004,
              59.90237209999863
             ]
            ]
           ],
           "type": "Polygon"
          },
          "id": "S5_13355_6004_20070502",
          "properties": {
           "abstract": null,
           "downloadLink": "https://fake-endpoint/collections/canada_spot5_orthoimages/items/S5_13355_6004_20070502",
           "eo:bands": [
            {
             "common_name": "panchromatic",
             "description": "Panchromatic: 480-710 nm",
             "name": "Panchromatic"
            },
            {
             "common_name": "green",
             "description": "Green: 500-590 nm",
             "name": "Green"
            },
            {
             "common_name": "red",
             "description": "Red: 610-680 nm",
             "name": "Red"
            },
            {
             "common_name": "nir",
             "description": "Near Infrared: 780-890 nm",
             "name": "Near Infrared"
            },
            {
             "common_name": "swir",
             "description": "ShortWave Infrared: 1580-1750 nm",
             "name": "ShortWave Infrared"
            }
           ],
           "eodag_product_type": null,
           "eodag_provider": "stac_http_provider",
           "eodag_search_intersection": {
            "geometries": [],
            "type": "GeometryCollection"
           },
           "instrument": null,
           "license": null,
           "missionStartDate": null,
           "platform": null,
           "platformSerialIdentifier": null,
           "processingLevel": null,
           "productType": "canada_spot5_orthoimages",
           "proj:epsg": 3979,
           "resolution": 20,
           "sensorType": null,
           "startTimeFromAscendingNode": "2007-05-02T00:00:00Z",
           "storageStatus": "ONLINE",
           "style": {
            "color": "red"
           },
           "thumbnail": "https://canada-spot-ortho.s3.amazonaws.com/canada_spot_orthoimages/canada_spot5_orthoimages/S5_2007/S5_13355_6004_20070502/s5_13355_6004_20070502_tn.jpg",
           "title": "S5_13355_6004_20070502"
          },
          "type": "Feature"
         },
         {
          "geometry": {
           "coordinates": [
            [
             [
              -75.8321003,
              47.85693209998394
             ],
             [
              -75.5637798,
              48.363290499985176
             ],
             [
              -74.5776358,
              48.12570679998459
             ],
             [
              -74.8555234,
              47.61966979998332
             ],
             [
              -75.8321003,
              47.85693209998394
             ]
            ]
           ],
           "type": "Polygon"
          },
          "id": "S5_07513_4760_20070504",
          "properties": {
           "abstract": null,
           "downloadLink": "https://fake-endpoint/collections/canada_spot5_orthoimages/items/S5_07513_4760_20070504",
           "eo:bands": [
            {
             "common_name": "panchromatic",
             "description": "Panchromatic: 480-710 nm",
             "name": "Panchromatic"
            },
            {
             "common_name": "green",
             "description": "Green: 500-590 nm",
             "name": "Green"
            },
            {
             "common_name": "red",
             "description": "Red: 610-680 nm",
             "name": "Red"
            },
            {
             "common_name": "nir",
             "description": "Near Infrared: 780-890 nm",
             "name": "Near Infrared"
            },
            {
             "common_name": "swir",
             "description": "ShortWave Infrared: 1580-1750 nm",
             "name": "ShortWave Infrared"
            }
           ],
           "eodag_product_type": null,
           "eodag_provider": "stac_http_provider",
           "eodag_search_intersection": {
            "geometries": [],
            "type": "GeometryCollection"
           },
           "instrument": null,
           "license": null,
           "missionStartDate": null,
           "platform": null,
           "platformSerialIdentifier": null,
           "processingLevel": null,
           "productType": "canada_spot5_orthoimages",
           "proj:epsg": 3979,
           "resolution": 20,
           "sensorType": null,
           "startTimeFromAscendingNode": "2007-05-04T00:00:00Z",
           "storageStatus": "ONLINE",
           "style": {
            "color": "red"
           },
           "thumbnail": "https://canada-spot-ortho.s3.amazonaws.com/canada_spot_orthoimages/canada_spot5_orthoimages/S5_2007/S5_07513_4760_20070504/s5_07513_4760_20070504_tn.jpg",
           "title": "S5_07513_4760_20070504"
          },
          "type": "Feature"
         }
        ],
        "type": "FeatureCollection"
       },
       "name": "",
       "options": [],
       "popup": null,
       "popup_max_height": null,
       "popup_max_width": 300,
       "popup_min_width": 50,
       "style": {
        "color": "red"
       }
      }
     },
     "73e49885cd194be0bf49b7a8bbd2afdf": {
      "model_module": "jupyter-leaflet",
      "model_module_version": "^0.13.5",
      "model_name": "LeafletZoomControlModel",
      "state": {
       "_model_module_version": "^0.13.5",
       "_view_module_version": "^0.13.5",
       "options": [
        "position",
        "zoom_in_text",
        "zoom_in_title",
        "zoom_out_text",
        "zoom_out_title"
       ]
      }
     },
     "76f8e01203fe462ea0c3a780a62029ab": {
      "model_module": "jupyter-leaflet",
      "model_module_version": "^0.13.5",
      "model_name": "LeafletMapStyleModel",
      "state": {
       "_model_module_version": "^0.13.5"
      }
     },
     "78e6c77fefc949468e8782b8ceb78d72": {
      "model_module": "jupyter-leaflet",
      "model_module_version": "^0.13.5",
      "model_name": "LeafletMapModel",
      "state": {
       "_model_module_version": "^0.13.5",
       "_view_module_version": "^0.13.5",
       "bottom": 895,
       "center": [
        50,
        -100
       ],
       "controls": [
        "IPY_MODEL_0d96310cf89a4df8938f4f2d54c830f0",
        "IPY_MODEL_31be99ded5c24853bc9cd39f22ba675c"
       ],
       "default_style": "IPY_MODEL_ed3fd29269524ecb8f3992882e98f646",
       "dragging_style": "IPY_MODEL_3368f26cf3794ea785b1fc64d14f4994",
       "east": -15.292968750000002,
       "fullscreen": false,
       "interpolation": "bilinear",
       "layers": [
        "IPY_MODEL_6fbfcf87f0bd489a8acabcd12f9ddd32",
        "IPY_MODEL_57a5fd99d3e44e6ca34ba56a6abbd2ad",
        "IPY_MODEL_e9e49fc55aae47018b52bc1376b8aa2e",
        "IPY_MODEL_14424f72bf08458787c510e87e83f533"
       ],
       "layout": "IPY_MODEL_491c610a3d7541258cb151c8c68d82cc",
       "left": -26,
       "modisdate": "yesterday",
       "north": 67.676084581981,
       "options": [
        "bounce_at_zoom_limits",
        "box_zoom",
        "center",
        "close_popup_on_click",
        "double_click_zoom",
        "dragging",
        "fullscreen",
        "inertia",
        "inertia_deceleration",
        "inertia_max_speed",
        "interpolation",
        "keyboard",
        "keyboard_pan_offset",
        "keyboard_zoom_offset",
        "max_zoom",
        "min_zoom",
        "scroll_wheel_zoom",
        "tap",
        "tap_tolerance",
        "touch_zoom",
        "world_copy_jump",
        "zoom",
        "zoom_animation_threshold",
        "zoom_delta",
        "zoom_snap",
        "zoom_start"
       ],
       "right": 937,
       "south": 22.105998799750566,
       "style": "IPY_MODEL_89bc1bcd39ce49a0b34f387d0994bcf2",
       "top": 495,
       "west": -184.57031250000003,
       "window_url": "http://localhost:8888/notebooks/tuto_stac_client.ipynb",
       "zoom": 3
      }
     },
     "78eb52dcdcd045eea781c375b7a4611c": {
      "model_module": "jupyter-leaflet",
      "model_module_version": "^0.13.5",
      "model_name": "LeafletGeoJSONModel",
      "state": {
       "_model_module": "jupyter-leaflet",
       "_model_module_version": "^0.13.5",
       "_view_count": null,
       "_view_module": "jupyter-leaflet",
       "_view_module_version": "^0.13.5",
       "base": false,
       "bottom": false,
       "data": {
        "features": [
         {
          "geometry": {
           "coordinates": [
            [
             [
              -77.6897149,
              45.41003529999992
             ],
             [
              -77.493466,
              45.93058879999993
             ],
             [
              -76.7514935,
              45.790705999999915
             ],
             [
              -76.9536275,
              45.27084659999991
             ],
             [
              -77.6897149,
              45.41003529999992
             ]
            ]
           ],
           "type": "Polygon"
          },
          "id": "S5_07713_4536_20070505",
          "properties": {
           "abstract": null,
           "downloadLink": "https://fake-endpoint/collections/canada_spot5_orthoimages/items/S5_07713_4536_20070505",
           "eo:bands": [
            {
             "common_name": "panchromatic",
             "description": "Panchromatic: 480-710 nm",
             "name": "Panchromatic"
            },
            {
             "common_name": "green",
             "description": "Green: 500-590 nm",
             "name": "Green"
            },
            {
             "common_name": "red",
             "description": "Red: 610-680 nm",
             "name": "Red"
            },
            {
             "common_name": "nir",
             "description": "Near Infrared: 780-890 nm",
             "name": "Near Infrared"
            },
            {
             "common_name": "swir",
             "description": "ShortWave Infrared: 1580-1750 nm",
             "name": "ShortWave Infrared"
            }
           ],
           "eodag_product_type": null,
           "eodag_provider": "stac_http_provider",
           "eodag_search_intersection": {
            "geometries": [],
            "type": "GeometryCollection"
           },
           "instrument": null,
           "license": null,
           "missionStartDate": null,
           "platform": null,
           "platformSerialIdentifier": null,
           "processingLevel": null,
           "productType": "canada_spot5_orthoimages",
           "proj:epsg": 3979,
           "resolution": 20,
           "sensorType": null,
           "startTimeFromAscendingNode": "2007-05-05T00:00:00Z",
           "storageStatus": "ONLINE",
           "style": {
            "color": "green"
           },
           "thumbnail": "https://canada-spot-ortho.s3.amazonaws.com/canada_spot_orthoimages/canada_spot5_orthoimages/S5_2007/S5_07713_4536_20070505/s5_07713_4536_20070505_tn.jpg",
           "title": "S5_07713_4536_20070505"
          },
          "type": "Feature"
         },
         {
          "geometry": {
           "coordinates": [
            [
             [
              -77.5086458,
              45.89066339999992
             ],
             [
              -77.3097434,
              46.411011399999936
             ],
             [
              -76.56018450000002,
              46.27010199999995
             ],
             [
              -76.766165,
              45.75074559999991
             ],
             [
              -77.5086458,
              45.89066339999992
             ]
            ]
           ],
           "type": "Polygon"
          },
          "id": "S5_07702_4605_20070505",
          "properties": {
           "abstract": null,
           "downloadLink": "https://fake-endpoint/collections/canada_spot5_orthoimages/items/S5_07702_4605_20070505",
           "eo:bands": [
            {
             "common_name": "panchromatic",
             "description": "Panchromatic: 480-710 nm",
             "name": "Panchromatic"
            },
            {
             "common_name": "green",
             "description": "Green: 500-590 nm",
             "name": "Green"
            },
            {
             "common_name": "red",
             "description": "Red: 610-680 nm",
             "name": "Red"
            },
            {
             "common_name": "nir",
             "description": "Near Infrared: 780-890 nm",
             "name": "Near Infrared"
            },
            {
             "common_name": "swir",
             "description": "ShortWave Infrared: 1580-1750 nm",
             "name": "ShortWave Infrared"
            }
           ],
           "eodag_product_type": null,
           "eodag_provider": "stac_http_provider",
           "eodag_search_intersection": {
            "geometries": [],
            "type": "GeometryCollection"
           },
           "instrument": null,
           "license": null,
           "missionStartDate": null,
           "platform": null,
           "platformSerialIdentifier": null,
           "processingLevel": null,
           "productType": "canada_spot5_orthoimages",
           "proj:epsg": 3979,
           "resolution": 20,
           "sensorType": null,
           "startTimeFromAscendingNode": "2007-05-05T00:00:00Z",
           "storageStatus": "ONLINE",
           "style": {
            "color": "green"
           },
           "thumbnail": "https://canada-spot-ortho.s3.amazonaws.com/canada_spot_orthoimages/canada_spot5_orthoimages/S5_2007/S5_07702_4605_20070505/s5_07702_4605_20070505_tn.jpg",
           "title": "S5_07702_4605_20070505"
          },
          "type": "Feature"
         },
         {
          "geometry": {
           "coordinates": [
            [
             [
              -77.8688576,
              44.92858479999993
             ],
             [
              -77.6751065,
              45.44990809999991
             ],
             [
              -76.9381127,
              45.3104741999999
             ],
             [
              -77.13831010000001,
              44.790157899999905
             ],
             [
              -77.8688576,
              44.92858479999993
             ]
            ]
           ],
           "type": "Polygon"
          },
          "id": "S5_07724_4507_20070505",
          "properties": {
           "abstract": null,
           "downloadLink": "https://fake-endpoint/collections/canada_spot5_orthoimages/items/S5_07724_4507_20070505",
           "eo:bands": [
            {
             "common_name": "panchromatic",
             "description": "Panchromatic: 480-710 nm",
             "name": "Panchromatic"
            },
            {
             "common_name": "green",
             "description": "Green: 500-590 nm",
             "name": "Green"
            },
            {
             "common_name": "red",
             "description": "Red: 610-680 nm",
             "name": "Red"
            },
            {
             "common_name": "nir",
             "description": "Near Infrared: 780-890 nm",
             "name": "Near Infrared"
            },
            {
             "common_name": "swir",
             "description": "ShortWave Infrared: 1580-1750 nm",
             "name": "ShortWave Infrared"
            }
           ],
           "eodag_product_type": null,
           "eodag_provider": "stac_http_provider",
           "eodag_search_intersection": {
            "geometries": [],
            "type": "GeometryCollection"
           },
           "instrument": null,
           "license": null,
           "missionStartDate": null,
           "platform": null,
           "platformSerialIdentifier": null,
           "processingLevel": null,
           "productType": "canada_spot5_orthoimages",
           "proj:epsg": 3979,
           "resolution": 20,
           "sensorType": null,
           "startTimeFromAscendingNode": "2007-05-05T00:00:00Z",
           "storageStatus": "ONLINE",
           "style": {
            "color": "green"
           },
           "thumbnail": "https://canada-spot-ortho.s3.amazonaws.com/canada_spot_orthoimages/canada_spot5_orthoimages/S5_2007/S5_07724_4507_20070505/s5_07724_4507_20070505_tn.jpg",
           "title": "S5_07724_4507_20070505"
          },
          "type": "Feature"
         }
        ],
        "type": "FeatureCollection"
       },
       "name": "",
       "options": [],
       "popup": null,
       "popup_max_height": null,
       "popup_max_width": 300,
       "popup_min_width": 50,
       "style": {
        "color": "green"
       }
      }
     },
     "7c536d1ede444171a382f12f254b4c70": {
      "model_module": "jupyter-leaflet",
      "model_module_version": "^0.13.5",
      "model_name": "LeafletAttributionControlModel",
      "state": {
       "_model_module_version": "^0.13.5",
       "_view_module_version": "^0.13.5",
       "options": [
        "position",
        "prefix"
       ],
       "position": "bottomright",
       "prefix": "ipyleaflet"
      }
     },
     "7f8634ff1af044d89c1c6f8aa188e703": {
      "model_module": "jupyter-leaflet",
      "model_module_version": "^0.13.5",
      "model_name": "LeafletMapStyleModel",
      "state": {
       "_model_module_version": "^0.13.5"
      }
     },
     "812cfb4d708040f4a62e16e62f99e37d": {
      "model_module": "jupyter-leaflet",
      "model_module_version": "^0.13.5",
      "model_name": "LeafletMapStyleModel",
      "state": {
       "_model_module_version": "^0.13.5",
       "cursor": "move"
      }
     },
     "825f44efbfb04a21a192e5fc7575336d": {
      "model_module": "@jupyter-widgets/controls",
      "model_module_version": "1.5.0",
      "model_name": "DescriptionStyleModel",
      "state": {
       "description_width": ""
      }
     },
     "829702b9e32c4e929d18c9e0f52e1107": {
      "model_module": "@jupyter-widgets/controls",
      "model_module_version": "1.5.0",
      "model_name": "ProgressStyleModel",
      "state": {
       "description_width": ""
      }
     },
     "8939dfa46e38479f82ec7084652bf86e": {
      "model_module": "jupyter-leaflet",
      "model_module_version": "^0.13.5",
      "model_name": "LeafletMapStyleModel",
      "state": {
       "_model_module_version": "^0.13.5"
      }
     },
     "89bc1bcd39ce49a0b34f387d0994bcf2": {
      "model_module": "jupyter-leaflet",
      "model_module_version": "^0.13.5",
      "model_name": "LeafletMapStyleModel",
      "state": {
       "_model_module_version": "^0.13.5"
      }
     },
     "8a4daf66710c4364b202843452e410e2": {
      "model_module": "@jupyter-widgets/controls",
      "model_module_version": "1.5.0",
      "model_name": "DescriptionStyleModel",
      "state": {
       "description_width": ""
      }
     },
     "8b0af4c4045b45609f1f76ca6fb927d2": {
      "model_module": "@jupyter-widgets/base",
      "model_module_version": "1.2.0",
      "model_name": "LayoutModel",
      "state": {
       "flex": "2"
      }
     },
     "8bc29a12661d4a5e96f4876c19f8095b": {
      "model_module": "jupyter-leaflet",
      "model_module_version": "^0.13.5",
      "model_name": "LeafletMapStyleModel",
      "state": {
       "_model_module_version": "^0.13.5",
       "cursor": "move"
      }
     },
     "936a308954af44e5b16d494df57adc66": {
      "model_module": "@jupyter-widgets/controls",
      "model_module_version": "1.5.0",
      "model_name": "ProgressStyleModel",
      "state": {
       "description_width": ""
      }
     },
     "9399f5608b3143449ff26535ac252375": {
      "model_module": "@jupyter-widgets/base",
      "model_module_version": "1.2.0",
      "model_name": "LayoutModel",
      "state": {}
     },
     "93ddde96eed44adebb2fa25f2790ae2f": {
      "model_module": "jupyter-leaflet",
      "model_module_version": "^0.13.5",
      "model_name": "LeafletZoomControlModel",
      "state": {
       "_model_module_version": "^0.13.5",
       "_view_module_version": "^0.13.5",
       "options": [
        "position",
        "zoom_in_text",
        "zoom_in_title",
        "zoom_out_text",
        "zoom_out_title"
       ]
      }
     },
     "962476d0cb3f4b00b68006c5747d5f54": {
      "model_module": "@jupyter-widgets/controls",
      "model_module_version": "1.5.0",
      "model_name": "ProgressStyleModel",
      "state": {
       "description_width": ""
      }
     },
     "96d74b68d09e411b9b5974551dfc4d3a": {
      "model_module": "jupyter-leaflet",
      "model_module_version": "^0.13.5",
      "model_name": "LeafletMapStyleModel",
      "state": {
       "_model_module_version": "^0.13.5",
       "cursor": "move"
      }
     },
     "96e4e7ef132f4488915829b14eca871a": {
      "model_module": "@jupyter-widgets/base",
      "model_module_version": "1.2.0",
      "model_name": "LayoutModel",
      "state": {}
     },
     "98d6f204b2ed4f049bb30a9e993cae39": {
      "model_module": "jupyter-leaflet",
      "model_module_version": "^0.13.5",
      "model_name": "LeafletGeoJSONModel",
      "state": {
       "_model_module": "jupyter-leaflet",
       "_model_module_version": "^0.13.5",
       "_view_count": null,
       "_view_module": "jupyter-leaflet",
       "_view_module_version": "^0.13.5",
       "base": false,
       "bottom": false,
       "data": {
        "coordinates": [
         [
          [
           -70,
           45
          ],
          [
           -75,
           47
          ],
          [
           -80,
           47
          ],
          [
           -80,
           44
          ],
          [
           -70,
           45
          ]
         ]
        ],
        "type": "Polygon"
       },
       "name": "",
       "options": [],
       "popup": null,
       "popup_max_height": null,
       "popup_max_width": 300,
       "popup_min_width": 50,
       "style": {
        "color": "blue"
       }
      }
     },
     "9a365e03b83e4bcead8cce7f30adfad7": {
      "model_module": "@jupyter-widgets/controls",
      "model_module_version": "1.5.0",
      "model_name": "HTMLModel",
      "state": {
       "layout": "IPY_MODEL_d5d7f1a594d04ae0ac4b86bb59c71541",
       "style": "IPY_MODEL_65e6fd492e9e40f3a9e92fbc1894652e",
       "value": "S5_07702_4605_20070505: 100%"
      }
     },
     "9c00024325324d048f8bd66aadbbec04": {
      "model_module": "jupyter-leaflet",
      "model_module_version": "^0.13.5",
      "model_name": "LeafletMapModel",
      "state": {
       "_model_module_version": "^0.13.5",
       "_view_module_version": "^0.13.5",
       "bottom": 895,
       "center": [
        50,
        -100
       ],
       "controls": [
        "IPY_MODEL_2706b3acd49c4cfe8c105fa213a85bfa",
        "IPY_MODEL_7c536d1ede444171a382f12f254b4c70"
       ],
       "default_style": "IPY_MODEL_76f8e01203fe462ea0c3a780a62029ab",
       "dragging_style": "IPY_MODEL_ae8663cb1ad54fe69867cbe46beceb8c",
       "east": -15.292968750000002,
       "fullscreen": false,
       "interpolation": "bilinear",
       "layers": [
        "IPY_MODEL_333245608f564698b4ca8038ea73ea04",
        "IPY_MODEL_98d6f204b2ed4f049bb30a9e993cae39",
        "IPY_MODEL_b82636bc0b634794a64da4ee4a5b8126",
        "IPY_MODEL_472670421f3447c597f1e61aa152c345"
       ],
       "layout": "IPY_MODEL_eae21e0bab8247b6b3196d45c186c9ab",
       "left": -26,
       "modisdate": "yesterday",
       "north": 67.676084581981,
       "options": [
        "bounce_at_zoom_limits",
        "box_zoom",
        "center",
        "close_popup_on_click",
        "double_click_zoom",
        "dragging",
        "fullscreen",
        "inertia",
        "inertia_deceleration",
        "inertia_max_speed",
        "interpolation",
        "keyboard",
        "keyboard_pan_offset",
        "keyboard_zoom_offset",
        "max_zoom",
        "min_zoom",
        "scroll_wheel_zoom",
        "tap",
        "tap_tolerance",
        "touch_zoom",
        "world_copy_jump",
        "zoom",
        "zoom_animation_threshold",
        "zoom_delta",
        "zoom_snap",
        "zoom_start"
       ],
       "right": 937,
       "south": 22.105998799750566,
       "style": "IPY_MODEL_cba9a6e78ee84485a7d172921e2f8ebe",
       "top": 495,
       "west": -184.57031250000003,
       "window_url": "http://localhost:8888/notebooks/tuto_stac_client.ipynb#",
       "zoom": 3
      }
     },
     "9c61f7b9da8d46e8be0d9391bdebf81f": {
      "model_module": "jupyter-leaflet",
      "model_module_version": "^0.13.5",
      "model_name": "LeafletTileLayerModel",
      "state": {
       "_model_module_version": "^0.13.5",
       "_view_module_version": "^0.13.5",
       "base": true,
       "max_native_zoom": 18,
       "max_zoom": 19,
       "min_native_zoom": 0,
       "min_zoom": 1,
       "options": [
        "attribution",
        "detect_retina",
        "max_native_zoom",
        "max_zoom",
        "min_native_zoom",
        "min_zoom",
        "no_wrap",
        "tile_size",
        "tms"
       ]
      }
     },
     "9c62251a0b8544f5abcc3e0db930d3f7": {
      "model_module": "jupyter-leaflet",
      "model_module_version": "^0.13.5",
      "model_name": "LeafletMapStyleModel",
      "state": {
       "_model_module_version": "^0.13.5"
      }
     },
     "9db2fafc70f64215a190a2cde13c56e4": {
      "model_module": "jupyter-leaflet",
      "model_module_version": "^0.13.5",
      "model_name": "LeafletGeoJSONModel",
      "state": {
       "_model_module": "jupyter-leaflet",
       "_model_module_version": "^0.13.5",
       "_view_count": null,
       "_view_module": "jupyter-leaflet",
       "_view_module_version": "^0.13.5",
       "base": false,
       "bottom": false,
       "data": {
        "features": [
         {
          "geometry": {
           "coordinates": [
            [
             [
              -81.82939060000001,
              43.97025879999991
             ],
             [
              -81.6293909,
              44.48955959999991
             ],
             [
              -80.8972191,
              44.341560399999906
             ],
             [
              -81.1035722,
              43.82257309999989
             ],
             [
              -81.82939060000001,
              43.97025879999991
             ]
            ]
           ],
           "type": "Polygon"
          },
          "id": "S5_08122_4409_20070504",
          "properties": {
           "abstract": null,
           "downloadLink": "https://fake-endpoint/collections/canada_spot5_orthoimages/items/S5_08122_4409_20070504",
           "eo:bands": [
            {
             "common_name": "panchromatic",
             "description": "Panchromatic: 480-710 nm",
             "name": "Panchromatic"
            },
            {
             "common_name": "green",
             "description": "Green: 500-590 nm",
             "name": "Green"
            },
            {
             "common_name": "red",
             "description": "Red: 610-680 nm",
             "name": "Red"
            },
            {
             "common_name": "nir",
             "description": "Near Infrared: 780-890 nm",
             "name": "Near Infrared"
            },
            {
             "common_name": "swir",
             "description": "ShortWave Infrared: 1580-1750 nm",
             "name": "ShortWave Infrared"
            }
           ],
           "eodag_product_type": null,
           "eodag_provider": "stac_http_provider",
           "eodag_search_intersection": {
            "geometries": [],
            "type": "GeometryCollection"
           },
           "instrument": null,
           "license": null,
           "missionStartDate": null,
           "platform": null,
           "platformSerialIdentifier": null,
           "processingLevel": null,
           "productType": "canada_spot5_orthoimages",
           "proj:epsg": 3979,
           "resolution": 20,
           "sensorType": null,
           "startTimeFromAscendingNode": "2007-05-04T00:00:00Z",
           "storageStatus": "ONLINE",
           "style": {
            "color": "red"
           },
           "thumbnail": "https://canada-spot-ortho.s3.amazonaws.com/canada_spot_orthoimages/canada_spot5_orthoimages/S5_2007/S5_08122_4409_20070504/s5_08122_4409_20070504_tn.jpg",
           "title": "S5_08122_4409_20070504"
          },
          "type": "Feature"
         },
         {
          "geometry": {
           "coordinates": [
            [
             [
              -85.0273477,
              46.859929499999936
             ],
             [
              -84.8043796,
              47.37592669998269
             ],
             [
              -84.02553680000001,
              47.21757089998226
             ],
             [
              -84.2562465,
              46.70048319999994
             ],
             [
              -85.0273477,
              46.859929499999936
             ]
            ]
           ],
           "type": "Polygon"
          },
          "id": "S5_08432_4702_20070503",
          "properties": {
           "abstract": null,
           "downloadLink": "https://fake-endpoint/collections/canada_spot5_orthoimages/items/S5_08432_4702_20070503",
           "eo:bands": [
            {
             "common_name": "panchromatic",
             "description": "Panchromatic: 480-710 nm",
             "name": "Panchromatic"
            },
            {
             "common_name": "green",
             "description": "Green: 500-590 nm",
             "name": "Green"
            },
            {
             "common_name": "red",
             "description": "Red: 610-680 nm",
             "name": "Red"
            },
            {
             "common_name": "nir",
             "description": "Near Infrared: 780-890 nm",
             "name": "Near Infrared"
            },
            {
             "common_name": "swir",
             "description": "ShortWave Infrared: 1580-1750 nm",
             "name": "ShortWave Infrared"
            }
           ],
           "eodag_product_type": null,
           "eodag_provider": "stac_http_provider",
           "eodag_search_intersection": {
            "geometries": [],
            "type": "GeometryCollection"
           },
           "instrument": null,
           "license": null,
           "missionStartDate": null,
           "platform": null,
           "platformSerialIdentifier": null,
           "processingLevel": null,
           "productType": "canada_spot5_orthoimages",
           "proj:epsg": 3979,
           "resolution": 20,
           "sensorType": null,
           "startTimeFromAscendingNode": "2007-05-03T00:00:00Z",
           "storageStatus": "ONLINE",
           "style": {
            "color": "red"
           },
           "thumbnail": "https://canada-spot-ortho.s3.amazonaws.com/canada_spot_orthoimages/canada_spot5_orthoimages/S5_2007/S5_08432_4702_20070503/s5_08432_4702_20070503_tn.jpg",
           "title": "S5_08432_4702_20070503"
          },
          "type": "Feature"
         },
         {
          "geometry": {
           "coordinates": [
            [
             [
              -82.0128118,
              43.486933699999895
             ],
             [
              -81.8154336,
              44.006646199999906
             ],
             [
              -81.0891217,
              43.85927329999989
             ],
             [
              -81.2926142,
              43.340113799999905
             ],
             [
              -82.0128118,
              43.486933699999895
             ]
            ]
           ],
           "type": "Polygon"
          },
          "id": "S5_08133_4340_20070504",
          "properties": {
           "abstract": null,
           "downloadLink": "https://fake-endpoint/collections/canada_spot5_orthoimages/items/S5_08133_4340_20070504",
           "eo:bands": [
            {
             "common_name": "panchromatic",
             "description": "Panchromatic: 480-710 nm",
             "name": "Panchromatic"
            },
            {
             "common_name": "green",
             "description": "Green: 500-590 nm",
             "name": "Green"
            },
            {
             "common_name": "red",
             "description": "Red: 610-680 nm",
             "name": "Red"
            },
            {
             "common_name": "nir",
             "description": "Near Infrared: 780-890 nm",
             "name": "Near Infrared"
            },
            {
             "common_name": "swir",
             "description": "ShortWave Infrared: 1580-1750 nm",
             "name": "ShortWave Infrared"
            }
           ],
           "eodag_product_type": null,
           "eodag_provider": "stac_http_provider",
           "eodag_search_intersection": {
            "geometries": [],
            "type": "GeometryCollection"
           },
           "instrument": null,
           "license": null,
           "missionStartDate": null,
           "platform": null,
           "platformSerialIdentifier": null,
           "processingLevel": null,
           "productType": "canada_spot5_orthoimages",
           "proj:epsg": 3979,
           "resolution": 20,
           "sensorType": null,
           "startTimeFromAscendingNode": "2007-05-04T00:00:00Z",
           "storageStatus": "ONLINE",
           "style": {
            "color": "red"
           },
           "thumbnail": "https://canada-spot-ortho.s3.amazonaws.com/canada_spot_orthoimages/canada_spot5_orthoimages/S5_2007/S5_08133_4340_20070504/s5_08133_4340_20070504_tn.jpg",
           "title": "S5_08133_4340_20070504"
          },
          "type": "Feature"
         },
         {
          "geometry": {
           "coordinates": [
            [
             [
              -82.1791361,
              44.93104039999991
             ],
             [
              -81.9785331,
              45.45127599999993
             ],
             [
              -81.2418256,
              45.30744029999992
             ],
             [
              -81.4473278,
              44.78835739999991
             ],
             [
              -82.1791361,
              44.93104039999991
             ]
            ]
           ],
           "type": "Polygon"
          },
          "id": "S5_08143_4507_20070504",
          "properties": {
           "abstract": null,
           "downloadLink": "https://fake-endpoint/collections/canada_spot5_orthoimages/items/S5_08143_4507_20070504",
           "eo:bands": [
            {
             "common_name": "panchromatic",
             "description": "Panchromatic: 480-710 nm",
             "name": "Panchromatic"
            },
            {
             "common_name": "green",
             "description": "Green: 500-590 nm",
             "name": "Green"
            },
            {
             "common_name": "red",
             "description": "Red: 610-680 nm",
             "name": "Red"
            },
            {
             "common_name": "nir",
             "description": "Near Infrared: 780-890 nm",
             "name": "Near Infrared"
            },
            {
             "common_name": "swir",
             "description": "ShortWave Infrared: 1580-1750 nm",
             "name": "ShortWave Infrared"
            }
           ],
           "eodag_product_type": null,
           "eodag_provider": "stac_http_provider",
           "eodag_search_intersection": {
            "geometries": [],
            "type": "GeometryCollection"
           },
           "instrument": null,
           "license": null,
           "missionStartDate": null,
           "platform": null,
           "platformSerialIdentifier": null,
           "processingLevel": null,
           "productType": "canada_spot5_orthoimages",
           "proj:epsg": 3979,
           "resolution": 20,
           "sensorType": null,
           "startTimeFromAscendingNode": "2007-05-04T00:00:00Z",
           "storageStatus": "ONLINE",
           "style": {
            "color": "red"
           },
           "thumbnail": "https://canada-spot-ortho.s3.amazonaws.com/canada_spot_orthoimages/canada_spot5_orthoimages/S5_2007/S5_08143_4507_20070504/s5_08143_4507_20070504_tn.jpg",
           "title": "S5_08143_4507_20070504"
          },
          "type": "Feature"
         },
         {
          "geometry": {
           "coordinates": [
            [
             [
              -82.19413800000001,
              43.002897899999866
             ],
             [
              -81.9983011,
              43.52332569999988
             ],
             [
              -81.2782497,
              43.3766073999999
             ],
             [
              -81.4785564,
              42.85763319999989
             ],
             [
              -82.19413800000001,
              43.002897899999866
             ]
            ]
           ],
           "type": "Polygon"
          },
          "id": "S5_08144_4311_20070504",
          "properties": {
           "abstract": null,
           "downloadLink": "https://fake-endpoint/collections/canada_spot5_orthoimages/items/S5_08144_4311_20070504",
           "eo:bands": [
            {
             "common_name": "panchromatic",
             "description": "Panchromatic: 480-710 nm",
             "name": "Panchromatic"
            },
            {
             "common_name": "green",
             "description": "Green: 500-590 nm",
             "name": "Green"
            },
            {
             "common_name": "red",
             "description": "Red: 610-680 nm",
             "name": "Red"
            },
            {
             "common_name": "nir",
             "description": "Near Infrared: 780-890 nm",
             "name": "Near Infrared"
            },
            {
             "common_name": "swir",
             "description": "ShortWave Infrared: 1580-1750 nm",
             "name": "ShortWave Infrared"
            }
           ],
           "eodag_product_type": null,
           "eodag_provider": "stac_http_provider",
           "eodag_search_intersection": {
            "geometries": [],
            "type": "GeometryCollection"
           },
           "instrument": null,
           "license": null,
           "missionStartDate": null,
           "platform": null,
           "platformSerialIdentifier": null,
           "processingLevel": null,
           "productType": "canada_spot5_orthoimages",
           "proj:epsg": 3979,
           "resolution": 20,
           "sensorType": null,
           "startTimeFromAscendingNode": "2007-05-04T00:00:00Z",
           "storageStatus": "ONLINE",
           "style": {
            "color": "red"
           },
           "thumbnail": "https://canada-spot-ortho.s3.amazonaws.com/canada_spot_orthoimages/canada_spot5_orthoimages/S5_2007/S5_08144_4311_20070504/s5_08144_4311_20070504_tn.jpg",
           "title": "S5_08144_4311_20070504"
          },
          "type": "Feature"
         },
         {
          "geometry": {
           "coordinates": [
            [
             [
              -75.635484,
              49.71080699998813
             ],
             [
              -75.4077832,
              50.22914529998913
             ],
             [
              -74.6039477,
              50.07893649998885
             ],
             [
              -74.839718,
              49.562025099987835
             ],
             [
              -75.635484,
              49.71080699998813
             ]
            ]
           ],
           "type": "Polygon"
          },
          "id": "S5_07507_4954_20070505",
          "properties": {
           "abstract": null,
           "downloadLink": "https://fake-endpoint/collections/canada_spot5_orthoimages/items/S5_07507_4954_20070505",
           "eo:bands": [
            {
             "common_name": "panchromatic",
             "description": "Panchromatic: 480-710 nm",
             "name": "Panchromatic"
            },
            {
             "common_name": "green",
             "description": "Green: 500-590 nm",
             "name": "Green"
            },
            {
             "common_name": "red",
             "description": "Red: 610-680 nm",
             "name": "Red"
            },
            {
             "common_name": "nir",
             "description": "Near Infrared: 780-890 nm",
             "name": "Near Infrared"
            },
            {
             "common_name": "swir",
             "description": "ShortWave Infrared: 1580-1750 nm",
             "name": "ShortWave Infrared"
            }
           ],
           "eodag_product_type": null,
           "eodag_provider": "stac_http_provider",
           "eodag_search_intersection": {
            "geometries": [],
            "type": "GeometryCollection"
           },
           "instrument": null,
           "license": null,
           "missionStartDate": null,
           "platform": null,
           "platformSerialIdentifier": null,
           "processingLevel": null,
           "productType": "canada_spot5_orthoimages",
           "proj:epsg": 3979,
           "resolution": 20,
           "sensorType": null,
           "startTimeFromAscendingNode": "2007-05-05T00:00:00Z",
           "storageStatus": "ONLINE",
           "style": {
            "color": "red"
           },
           "thumbnail": "https://canada-spot-ortho.s3.amazonaws.com/canada_spot_orthoimages/canada_spot5_orthoimages/S5_2007/S5_07507_4954_20070505/s5_07507_4954_20070505_tn.jpg",
           "title": "S5_07507_4954_20070505"
          },
          "type": "Feature"
         },
         {
          "geometry": {
           "coordinates": [
            [
             [
              -77.5086458,
              45.89066339999992
             ],
             [
              -77.3097434,
              46.411011399999936
             ],
             [
              -76.56018450000002,
              46.27010199999995
             ],
             [
              -76.766165,
              45.75074559999991
             ],
             [
              -77.5086458,
              45.89066339999992
             ]
            ]
           ],
           "type": "Polygon"
          },
          "id": "S5_07702_4605_20070505",
          "properties": {
           "abstract": null,
           "downloadLink": "https://fake-endpoint/collections/canada_spot5_orthoimages/items/S5_07702_4605_20070505",
           "eo:bands": [
            {
             "common_name": "panchromatic",
             "description": "Panchromatic: 480-710 nm",
             "name": "Panchromatic"
            },
            {
             "common_name": "green",
             "description": "Green: 500-590 nm",
             "name": "Green"
            },
            {
             "common_name": "red",
             "description": "Red: 610-680 nm",
             "name": "Red"
            },
            {
             "common_name": "nir",
             "description": "Near Infrared: 780-890 nm",
             "name": "Near Infrared"
            },
            {
             "common_name": "swir",
             "description": "ShortWave Infrared: 1580-1750 nm",
             "name": "ShortWave Infrared"
            }
           ],
           "eodag_product_type": null,
           "eodag_provider": "stac_http_provider",
           "eodag_search_intersection": {
            "geometries": [],
            "type": "GeometryCollection"
           },
           "instrument": null,
           "license": null,
           "missionStartDate": null,
           "platform": null,
           "platformSerialIdentifier": null,
           "processingLevel": null,
           "productType": "canada_spot5_orthoimages",
           "proj:epsg": 3979,
           "resolution": 20,
           "sensorType": null,
           "startTimeFromAscendingNode": "2007-05-05T00:00:00Z",
           "storageStatus": "ONLINE",
           "style": {
            "color": "red"
           },
           "thumbnail": "https://canada-spot-ortho.s3.amazonaws.com/canada_spot_orthoimages/canada_spot5_orthoimages/S5_2007/S5_07702_4605_20070505/s5_07702_4605_20070505_tn.jpg",
           "title": "S5_07702_4605_20070505"
          },
          "type": "Feature"
         },
         {
          "geometry": {
           "coordinates": [
            [
             [
              -77.6897149,
              45.41003529999992
             ],
             [
              -77.493466,
              45.93058879999993
             ],
             [
              -76.7514935,
              45.790705999999915
             ],
             [
              -76.9536275,
              45.27084659999991
             ],
             [
              -77.6897149,
              45.41003529999992
             ]
            ]
           ],
           "type": "Polygon"
          },
          "id": "S5_07713_4536_20070505",
          "properties": {
           "abstract": null,
           "downloadLink": "https://fake-endpoint/collections/canada_spot5_orthoimages/items/S5_07713_4536_20070505",
           "eo:bands": [
            {
             "common_name": "panchromatic",
             "description": "Panchromatic: 480-710 nm",
             "name": "Panchromatic"
            },
            {
             "common_name": "green",
             "description": "Green: 500-590 nm",
             "name": "Green"
            },
            {
             "common_name": "red",
             "description": "Red: 610-680 nm",
             "name": "Red"
            },
            {
             "common_name": "nir",
             "description": "Near Infrared: 780-890 nm",
             "name": "Near Infrared"
            },
            {
             "common_name": "swir",
             "description": "ShortWave Infrared: 1580-1750 nm",
             "name": "ShortWave Infrared"
            }
           ],
           "eodag_product_type": null,
           "eodag_provider": "stac_http_provider",
           "eodag_search_intersection": {
            "geometries": [],
            "type": "GeometryCollection"
           },
           "instrument": null,
           "license": null,
           "missionStartDate": null,
           "platform": null,
           "platformSerialIdentifier": null,
           "processingLevel": null,
           "productType": "canada_spot5_orthoimages",
           "proj:epsg": 3979,
           "resolution": 20,
           "sensorType": null,
           "startTimeFromAscendingNode": "2007-05-05T00:00:00Z",
           "storageStatus": "ONLINE",
           "style": {
            "color": "red"
           },
           "thumbnail": "https://canada-spot-ortho.s3.amazonaws.com/canada_spot_orthoimages/canada_spot5_orthoimages/S5_2007/S5_07713_4536_20070505/s5_07713_4536_20070505_tn.jpg",
           "title": "S5_07713_4536_20070505"
          },
          "type": "Feature"
         },
         {
          "geometry": {
           "coordinates": [
            [
             [
              -84.9345337,
              48.765304799986104
             ],
             [
              -84.7042059,
              49.282367799987256
             ],
             [
              -83.9089622,
              49.126539399986925
             ],
             [
              -84.1474371,
              48.61051919998576
             ],
             [
              -84.9345337,
              48.765304799986104
             ]
            ]
           ],
           "type": "Polygon"
          },
          "id": "S5_08426_4857_20070503",
          "properties": {
           "abstract": null,
           "downloadLink": "https://fake-endpoint/collections/canada_spot5_orthoimages/items/S5_08426_4857_20070503",
           "eo:bands": [
            {
             "common_name": "panchromatic",
             "description": "Panchromatic: 480-710 nm",
             "name": "Panchromatic"
            },
            {
             "common_name": "green",
             "description": "Green: 500-590 nm",
             "name": "Green"
            },
            {
             "common_name": "red",
             "description": "Red: 610-680 nm",
             "name": "Red"
            },
            {
             "common_name": "nir",
             "description": "Near Infrared: 780-890 nm",
             "name": "Near Infrared"
            },
            {
             "common_name": "swir",
             "description": "ShortWave Infrared: 1580-1750 nm",
             "name": "ShortWave Infrared"
            }
           ],
           "eodag_product_type": null,
           "eodag_provider": "stac_http_provider",
           "eodag_search_intersection": {
            "geometries": [],
            "type": "GeometryCollection"
           },
           "instrument": null,
           "license": null,
           "missionStartDate": null,
           "platform": null,
           "platformSerialIdentifier": null,
           "processingLevel": null,
           "productType": "canada_spot5_orthoimages",
           "proj:epsg": 3979,
           "resolution": 20,
           "sensorType": null,
           "startTimeFromAscendingNode": "2007-05-03T00:00:00Z",
           "storageStatus": "ONLINE",
           "style": {
            "color": "red"
           },
           "thumbnail": "https://canada-spot-ortho.s3.amazonaws.com/canada_spot_orthoimages/canada_spot5_orthoimages/S5_2007/S5_08426_4857_20070503/s5_08426_4857_20070503_tn.jpg",
           "title": "S5_08426_4857_20070503"
          },
          "type": "Feature"
         },
         {
          "geometry": {
           "coordinates": [
            [
             [
              -84.8206206,
              47.3379771999826
             ],
             [
              -84.59384510000001,
              47.85419849998393
             ],
             [
              -83.8084865,
              47.69434859998355
             ],
             [
              -84.0433223,
              47.17892369998218
             ],
             [
              -84.8206206,
              47.3379771999826
             ]
            ]
           ],
           "type": "Polygon"
          },
          "id": "S5_08419_4731_20070503",
          "properties": {
           "abstract": null,
           "downloadLink": "https://fake-endpoint/collections/canada_spot5_orthoimages/items/S5_08419_4731_20070503",
           "eo:bands": [
            {
             "common_name": "panchromatic",
             "description": "Panchromatic: 480-710 nm",
             "name": "Panchromatic"
            },
            {
             "common_name": "green",
             "description": "Green: 500-590 nm",
             "name": "Green"
            },
            {
             "common_name": "red",
             "description": "Red: 610-680 nm",
             "name": "Red"
            },
            {
             "common_name": "nir",
             "description": "Near Infrared: 780-890 nm",
             "name": "Near Infrared"
            },
            {
             "common_name": "swir",
             "description": "ShortWave Infrared: 1580-1750 nm",
             "name": "ShortWave Infrared"
            }
           ],
           "eodag_product_type": null,
           "eodag_provider": "stac_http_provider",
           "eodag_search_intersection": {
            "geometries": [],
            "type": "GeometryCollection"
           },
           "instrument": null,
           "license": null,
           "missionStartDate": null,
           "platform": null,
           "platformSerialIdentifier": null,
           "processingLevel": null,
           "productType": "canada_spot5_orthoimages",
           "proj:epsg": 3979,
           "resolution": 20,
           "sensorType": null,
           "startTimeFromAscendingNode": "2007-05-03T00:00:00Z",
           "storageStatus": "ONLINE",
           "style": {
            "color": "red"
           },
           "thumbnail": "https://canada-spot-ortho.s3.amazonaws.com/canada_spot_orthoimages/canada_spot5_orthoimages/S5_2007/S5_08419_4731_20070503/s5_08419_4731_20070503_tn.jpg",
           "title": "S5_08419_4731_20070503"
          },
          "type": "Feature"
         },
         {
          "geometry": {
           "coordinates": [
            [
             [
              -77.8688576,
              44.92858479999993
             ],
             [
              -77.6751065,
              45.44990809999991
             ],
             [
              -76.9381127,
              45.3104741999999
             ],
             [
              -77.13831010000001,
              44.790157899999905
             ],
             [
              -77.8688576,
              44.92858479999993
             ]
            ]
           ],
           "type": "Polygon"
          },
          "id": "S5_07724_4507_20070505",
          "properties": {
           "abstract": null,
           "downloadLink": "https://fake-endpoint/collections/canada_spot5_orthoimages/items/S5_07724_4507_20070505",
           "eo:bands": [
            {
             "common_name": "panchromatic",
             "description": "Panchromatic: 480-710 nm",
             "name": "Panchromatic"
            },
            {
             "common_name": "green",
             "description": "Green: 500-590 nm",
             "name": "Green"
            },
            {
             "common_name": "red",
             "description": "Red: 610-680 nm",
             "name": "Red"
            },
            {
             "common_name": "nir",
             "description": "Near Infrared: 780-890 nm",
             "name": "Near Infrared"
            },
            {
             "common_name": "swir",
             "description": "ShortWave Infrared: 1580-1750 nm",
             "name": "ShortWave Infrared"
            }
           ],
           "eodag_product_type": null,
           "eodag_provider": "stac_http_provider",
           "eodag_search_intersection": {
            "geometries": [],
            "type": "GeometryCollection"
           },
           "instrument": null,
           "license": null,
           "missionStartDate": null,
           "platform": null,
           "platformSerialIdentifier": null,
           "processingLevel": null,
           "productType": "canada_spot5_orthoimages",
           "proj:epsg": 3979,
           "resolution": 20,
           "sensorType": null,
           "startTimeFromAscendingNode": "2007-05-05T00:00:00Z",
           "storageStatus": "ONLINE",
           "style": {
            "color": "red"
           },
           "thumbnail": "https://canada-spot-ortho.s3.amazonaws.com/canada_spot_orthoimages/canada_spot5_orthoimages/S5_2007/S5_07724_4507_20070505/s5_07724_4507_20070505_tn.jpg",
           "title": "S5_07724_4507_20070505"
          },
          "type": "Feature"
         },
         {
          "geometry": {
           "coordinates": [
            [
             [
              -86.1595605,
              49.23422629998713
             ],
             [
              -85.9407614,
              49.7529022999882
             ],
             [
              -85.1419636,
              49.60717919998791
             ],
             [
              -85.3685313,
              49.08959189998682
             ],
             [
              -86.1595605,
              49.23422629998713
             ]
            ]
           ],
           "type": "Polygon"
          },
          "id": "S5_08539_4925_20070503",
          "properties": {
           "abstract": null,
           "downloadLink": "https://fake-endpoint/collections/canada_spot5_orthoimages/items/S5_08539_4925_20070503",
           "eo:bands": [
            {
             "common_name": "panchromatic",
             "description": "Panchromatic: 480-710 nm",
             "name": "Panchromatic"
            },
            {
             "common_name": "green",
             "description": "Green: 500-590 nm",
             "name": "Green"
            },
            {
             "common_name": "red",
             "description": "Red: 610-680 nm",
             "name": "Red"
            },
            {
             "common_name": "nir",
             "description": "Near Infrared: 780-890 nm",
             "name": "Near Infrared"
            },
            {
             "common_name": "swir",
             "description": "ShortWave Infrared: 1580-1750 nm",
             "name": "ShortWave Infrared"
            }
           ],
           "eodag_product_type": null,
           "eodag_provider": "stac_http_provider",
           "eodag_search_intersection": {
            "geometries": [],
            "type": "GeometryCollection"
           },
           "instrument": null,
           "license": null,
           "missionStartDate": null,
           "platform": null,
           "platformSerialIdentifier": null,
           "processingLevel": null,
           "productType": "canada_spot5_orthoimages",
           "proj:epsg": 3979,
           "resolution": 20,
           "sensorType": null,
           "startTimeFromAscendingNode": "2007-05-03T00:00:00Z",
           "storageStatus": "ONLINE",
           "style": {
            "color": "red"
           },
           "thumbnail": "https://canada-spot-ortho.s3.amazonaws.com/canada_spot_orthoimages/canada_spot5_orthoimages/S5_2007/S5_08539_4925_20070503/s5_08539_4925_20070503_tn.jpg",
           "title": "S5_08539_4925_20070503"
          },
          "type": "Feature"
         },
         {
          "geometry": {
           "coordinates": [
            [
             [
              -81.4555888,
              44.9349105999999
             ],
             [
              -81.2491542,
              45.45280749999993
             ],
             [
              -80.5044075,
              45.30292019999991
             ],
             [
              -80.7183832,
              44.78516229999991
             ],
             [
              -81.4555888,
              44.9349105999999
             ]
            ]
           ],
           "type": "Polygon"
          },
          "id": "S5_08059_4507_20070504",
          "properties": {
           "abstract": null,
           "downloadLink": "https://fake-endpoint/collections/canada_spot5_orthoimages/items/S5_08059_4507_20070504",
           "eo:bands": [
            {
             "common_name": "panchromatic",
             "description": "Panchromatic: 480-710 nm",
             "name": "Panchromatic"
            },
            {
             "common_name": "green",
             "description": "Green: 500-590 nm",
             "name": "Green"
            },
            {
             "common_name": "red",
             "description": "Red: 610-680 nm",
             "name": "Red"
            },
            {
             "common_name": "nir",
             "description": "Near Infrared: 780-890 nm",
             "name": "Near Infrared"
            },
            {
             "common_name": "swir",
             "description": "ShortWave Infrared: 1580-1750 nm",
             "name": "ShortWave Infrared"
            }
           ],
           "eodag_product_type": null,
           "eodag_provider": "stac_http_provider",
           "eodag_search_intersection": {
            "geometries": [],
            "type": "GeometryCollection"
           },
           "instrument": null,
           "license": null,
           "missionStartDate": null,
           "platform": null,
           "platformSerialIdentifier": null,
           "processingLevel": null,
           "productType": "canada_spot5_orthoimages",
           "proj:epsg": 3979,
           "resolution": 20,
           "sensorType": null,
           "startTimeFromAscendingNode": "2007-05-04T00:00:00Z",
           "storageStatus": "ONLINE",
           "style": {
            "color": "red"
           },
           "thumbnail": "https://canada-spot-ortho.s3.amazonaws.com/canada_spot_orthoimages/canada_spot5_orthoimages/S5_2007/S5_08059_4507_20070504/s5_08059_4507_20070504_tn.jpg",
           "title": "S5_08059_4507_20070504"
          },
          "type": "Feature"
         },
         {
          "geometry": {
           "coordinates": [
            [
             [
              -81.6437402,
              44.45305149999991
             ],
             [
              -81.440283,
              44.97205759999991
             ],
             [
              -80.70280270000002,
              44.82283499999992
             ],
             [
              -80.91258470000001,
              44.304634199999924
             ],
             [
              -81.6437402,
              44.45305149999991
             ]
            ]
           ],
           "type": "Polygon"
          },
          "id": "S5_08111_4438_20070504",
          "properties": {
           "abstract": null,
           "downloadLink": "https://fake-endpoint/collections/canada_spot5_orthoimages/items/S5_08111_4438_20070504",
           "eo:bands": [
            {
             "common_name": "panchromatic",
             "description": "Panchromatic: 480-710 nm",
             "name": "Panchromatic"
            },
            {
             "common_name": "green",
             "description": "Green: 500-590 nm",
             "name": "Green"
            },
            {
             "common_name": "red",
             "description": "Red: 610-680 nm",
             "name": "Red"
            },
            {
             "common_name": "nir",
             "description": "Near Infrared: 780-890 nm",
             "name": "Near Infrared"
            },
            {
             "common_name": "swir",
             "description": "ShortWave Infrared: 1580-1750 nm",
             "name": "ShortWave Infrared"
            }
           ],
           "eodag_product_type": null,
           "eodag_provider": "stac_http_provider",
           "eodag_search_intersection": {
            "geometries": [],
            "type": "GeometryCollection"
           },
           "instrument": null,
           "license": null,
           "missionStartDate": null,
           "platform": null,
           "platformSerialIdentifier": null,
           "processingLevel": null,
           "productType": "canada_spot5_orthoimages",
           "proj:epsg": 3979,
           "resolution": 20,
           "sensorType": null,
           "startTimeFromAscendingNode": "2007-05-04T00:00:00Z",
           "storageStatus": "ONLINE",
           "style": {
            "color": "red"
           },
           "thumbnail": "https://canada-spot-ortho.s3.amazonaws.com/canada_spot_orthoimages/canada_spot5_orthoimages/S5_2007/S5_08111_4438_20070504/s5_08111_4438_20070504_tn.jpg",
           "title": "S5_08111_4438_20070504"
          },
          "type": "Feature"
         },
         {
          "geometry": {
           "coordinates": [
            [
             [
              -85.1430113,
              48.28905129998501
             ],
             [
              -84.9162353,
              48.80620119998619
             ],
             [
              -84.1287318,
              48.65145419998586
             ],
             [
              -84.3634894,
              48.135371299984634
             ],
             [
              -85.1430113,
              48.28905129998501
             ]
            ]
           ],
           "type": "Polygon"
          },
          "id": "S5_08438_4828_20070503",
          "properties": {
           "abstract": null,
           "downloadLink": "https://fake-endpoint/collections/canada_spot5_orthoimages/items/S5_08438_4828_20070503",
           "eo:bands": [
            {
             "common_name": "panchromatic",
             "description": "Panchromatic: 480-710 nm",
             "name": "Panchromatic"
            },
            {
             "common_name": "green",
             "description": "Green: 500-590 nm",
             "name": "Green"
            },
            {
             "common_name": "red",
             "description": "Red: 610-680 nm",
             "name": "Red"
            },
            {
             "common_name": "nir",
             "description": "Near Infrared: 780-890 nm",
             "name": "Near Infrared"
            },
            {
             "common_name": "swir",
             "description": "ShortWave Infrared: 1580-1750 nm",
             "name": "ShortWave Infrared"
            }
           ],
           "eodag_product_type": null,
           "eodag_provider": "stac_http_provider",
           "eodag_search_intersection": {
            "geometries": [],
            "type": "GeometryCollection"
           },
           "instrument": null,
           "license": null,
           "missionStartDate": null,
           "platform": null,
           "platformSerialIdentifier": null,
           "processingLevel": null,
           "productType": "canada_spot5_orthoimages",
           "proj:epsg": 3979,
           "resolution": 20,
           "sensorType": null,
           "startTimeFromAscendingNode": "2007-05-03T00:00:00Z",
           "storageStatus": "ONLINE",
           "style": {
            "color": "red"
           },
           "thumbnail": "https://canada-spot-ortho.s3.amazonaws.com/canada_spot_orthoimages/canada_spot5_orthoimages/S5_2007/S5_08438_4828_20070503/s5_08438_4828_20070503_tn.jpg",
           "title": "S5_08438_4828_20070503"
          },
          "type": "Feature"
         },
         {
          "geometry": {
           "coordinates": [
            [
             [
              -82.3604829,
              44.4490351999999
             ],
             [
              -82.1638974,
              44.969530699999915
             ],
             [
              -81.4321473,
              44.82679269999993
             ],
             [
              -81.6351024,
              44.307056199999906
             ],
             [
              -82.3604829,
              44.4490351999999
             ]
            ]
           ],
           "type": "Polygon"
          },
          "id": "S5_08154_4438_20070504",
          "properties": {
           "abstract": null,
           "downloadLink": "https://fake-endpoint/collections/canada_spot5_orthoimages/items/S5_08154_4438_20070504",
           "eo:bands": [
            {
             "common_name": "panchromatic",
             "description": "Panchromatic: 480-710 nm",
             "name": "Panchromatic"
            },
            {
             "common_name": "green",
             "description": "Green: 500-590 nm",
             "name": "Green"
            },
            {
             "common_name": "red",
             "description": "Red: 610-680 nm",
             "name": "Red"
            },
            {
             "common_name": "nir",
             "description": "Near Infrared: 780-890 nm",
             "name": "Near Infrared"
            },
            {
             "common_name": "swir",
             "description": "ShortWave Infrared: 1580-1750 nm",
             "name": "ShortWave Infrared"
            }
           ],
           "eodag_product_type": null,
           "eodag_provider": "stac_http_provider",
           "eodag_search_intersection": {
            "geometries": [],
            "type": "GeometryCollection"
           },
           "instrument": null,
           "license": null,
           "missionStartDate": null,
           "platform": null,
           "platformSerialIdentifier": null,
           "processingLevel": null,
           "productType": "canada_spot5_orthoimages",
           "proj:epsg": 3979,
           "resolution": 20,
           "sensorType": null,
           "startTimeFromAscendingNode": "2007-05-04T00:00:00Z",
           "storageStatus": "ONLINE",
           "style": {
            "color": "red"
           },
           "thumbnail": "https://canada-spot-ortho.s3.amazonaws.com/canada_spot_orthoimages/canada_spot5_orthoimages/S5_2007/S5_08154_4438_20070504/s5_08154_4438_20070504_tn.jpg",
           "title": "S5_08154_4438_20070504"
          },
          "type": "Feature"
         },
         {
          "geometry": {
           "coordinates": [
            [
             [
              -76.24385540000002,
              48.284491499985
             ],
             [
              -76.0261593,
              48.80282719998618
             ],
             [
              -75.24409010000001,
              48.65556529998587
             ],
             [
              -75.4693021,
              48.138179499984645
             ],
             [
              -76.24385540000002,
              48.284491499985
             ]
            ]
           ],
           "type": "Polygon"
          },
          "id": "S5_07545_4828_20070505",
          "properties": {
           "abstract": null,
           "downloadLink": "https://fake-endpoint/collections/canada_spot5_orthoimages/items/S5_07545_4828_20070505",
           "eo:bands": [
            {
             "common_name": "panchromatic",
             "description": "Panchromatic: 480-710 nm",
             "name": "Panchromatic"
            },
            {
             "common_name": "green",
             "description": "Green: 500-590 nm",
             "name": "Green"
            },
            {
             "common_name": "red",
             "description": "Red: 610-680 nm",
             "name": "Red"
            },
            {
             "common_name": "nir",
             "description": "Near Infrared: 780-890 nm",
             "name": "Near Infrared"
            },
            {
             "common_name": "swir",
             "description": "ShortWave Infrared: 1580-1750 nm",
             "name": "ShortWave Infrared"
            }
           ],
           "eodag_product_type": null,
           "eodag_provider": "stac_http_provider",
           "eodag_search_intersection": {
            "geometries": [],
            "type": "GeometryCollection"
           },
           "instrument": null,
           "license": null,
           "missionStartDate": null,
           "platform": null,
           "platformSerialIdentifier": null,
           "processingLevel": null,
           "productType": "canada_spot5_orthoimages",
           "proj:epsg": 3979,
           "resolution": 20,
           "sensorType": null,
           "startTimeFromAscendingNode": "2007-05-05T00:00:00Z",
           "storageStatus": "ONLINE",
           "style": {
            "color": "red"
           },
           "thumbnail": "https://canada-spot-ortho.s3.amazonaws.com/canada_spot_orthoimages/canada_spot5_orthoimages/S5_2007/S5_07545_4828_20070505/s5_07545_4828_20070505_tn.jpg",
           "title": "S5_07545_4828_20070505"
          },
          "type": "Feature"
         },
         {
          "geometry": {
           "coordinates": [
            [
             [
              -75.8416676,
              49.236272499987166
             ],
             [
              -75.6169194,
              49.75401399998823
             ],
             [
              -74.8203005,
              49.60474209998792
             ],
             [
              -75.052923,
              49.08803909998684
             ],
             [
              -75.8416676,
              49.236272499987166
             ]
            ]
           ],
           "type": "Polygon"
          },
          "id": "S5_07520_4925_20070505",
          "properties": {
           "abstract": null,
           "downloadLink": "https://fake-endpoint/collections/canada_spot5_orthoimages/items/S5_07520_4925_20070505",
           "eo:bands": [
            {
             "common_name": "panchromatic",
             "description": "Panchromatic: 480-710 nm",
             "name": "Panchromatic"
            },
            {
             "common_name": "green",
             "description": "Green: 500-590 nm",
             "name": "Green"
            },
            {
             "common_name": "red",
             "description": "Red: 610-680 nm",
             "name": "Red"
            },
            {
             "common_name": "nir",
             "description": "Near Infrared: 780-890 nm",
             "name": "Near Infrared"
            },
            {
             "common_name": "swir",
             "description": "ShortWave Infrared: 1580-1750 nm",
             "name": "ShortWave Infrared"
            }
           ],
           "eodag_product_type": null,
           "eodag_provider": "stac_http_provider",
           "eodag_search_intersection": {
            "geometries": [],
            "type": "GeometryCollection"
           },
           "instrument": null,
           "license": null,
           "missionStartDate": null,
           "platform": null,
           "platformSerialIdentifier": null,
           "processingLevel": null,
           "productType": "canada_spot5_orthoimages",
           "proj:epsg": 3979,
           "resolution": 20,
           "sensorType": null,
           "startTimeFromAscendingNode": "2007-05-05T00:00:00Z",
           "storageStatus": "ONLINE",
           "style": {
            "color": "red"
           },
           "thumbnail": "https://canada-spot-ortho.s3.amazonaws.com/canada_spot_orthoimages/canada_spot5_orthoimages/S5_2007/S5_07520_4925_20070505/s5_07520_4925_20070505_tn.jpg",
           "title": "S5_07520_4925_20070505"
          },
          "type": "Feature"
         },
         {
          "geometry": {
           "coordinates": [
            [
             [
              -82.5399498,
              43.96653589999989
             ],
             [
              -82.3458555,
              44.4875308999999
             ],
             [
              -81.6429288,
              44.34954079999989
             ],
             [
              -81.861012,
              43.83442389999987
             ],
             [
              -82.5399498,
              43.96653589999989
             ]
            ]
           ],
           "type": "Polygon"
          },
          "id": "S5_08205_4409_20070504",
          "properties": {
           "abstract": null,
           "downloadLink": "https://fake-endpoint/collections/canada_spot5_orthoimages/items/S5_08205_4409_20070504",
           "eo:bands": [
            {
             "common_name": "panchromatic",
             "description": "Panchromatic: 480-710 nm",
             "name": "Panchromatic"
            },
            {
             "common_name": "green",
             "description": "Green: 500-590 nm",
             "name": "Green"
            },
            {
             "common_name": "red",
             "description": "Red: 610-680 nm",
             "name": "Red"
            },
            {
             "common_name": "nir",
             "description": "Near Infrared: 780-890 nm",
             "name": "Near Infrared"
            },
            {
             "common_name": "swir",
             "description": "ShortWave Infrared: 1580-1750 nm",
             "name": "ShortWave Infrared"
            }
           ],
           "eodag_product_type": null,
           "eodag_provider": "stac_http_provider",
           "eodag_search_intersection": {
            "geometries": [],
            "type": "GeometryCollection"
           },
           "instrument": null,
           "license": null,
           "missionStartDate": null,
           "platform": null,
           "platformSerialIdentifier": null,
           "processingLevel": null,
           "productType": "canada_spot5_orthoimages",
           "proj:epsg": 3979,
           "resolution": 20,
           "sensorType": null,
           "startTimeFromAscendingNode": "2007-05-04T00:00:00Z",
           "storageStatus": "ONLINE",
           "style": {
            "color": "red"
           },
           "thumbnail": "https://canada-spot-ortho.s3.amazonaws.com/canada_spot_orthoimages/canada_spot5_orthoimages/S5_2007/S5_08205_4409_20070504/s5_08205_4409_20070504_tn.jpg",
           "title": "S5_08205_4409_20070504"
          },
          "type": "Feature"
         },
         {
          "geometry": {
           "coordinates": [
            [
             [
              -134.61285240000004,
              59.90237209999863
             ],
             [
              -134.2436326,
              60.40733679999877
             ],
             [
              -133.2247839,
              60.218067899998715
             ],
             [
              -133.60573870000002,
              59.715175899998535
             ],
             [
              -134.61285240000004,
              59.90237209999863
             ]
            ]
           ],
           "type": "Polygon"
          },
          "id": "S5_13355_6004_20070502",
          "properties": {
           "abstract": null,
           "downloadLink": "https://fake-endpoint/collections/canada_spot5_orthoimages/items/S5_13355_6004_20070502",
           "eo:bands": [
            {
             "common_name": "panchromatic",
             "description": "Panchromatic: 480-710 nm",
             "name": "Panchromatic"
            },
            {
             "common_name": "green",
             "description": "Green: 500-590 nm",
             "name": "Green"
            },
            {
             "common_name": "red",
             "description": "Red: 610-680 nm",
             "name": "Red"
            },
            {
             "common_name": "nir",
             "description": "Near Infrared: 780-890 nm",
             "name": "Near Infrared"
            },
            {
             "common_name": "swir",
             "description": "ShortWave Infrared: 1580-1750 nm",
             "name": "ShortWave Infrared"
            }
           ],
           "eodag_product_type": null,
           "eodag_provider": "stac_http_provider",
           "eodag_search_intersection": {
            "geometries": [],
            "type": "GeometryCollection"
           },
           "instrument": null,
           "license": null,
           "missionStartDate": null,
           "platform": null,
           "platformSerialIdentifier": null,
           "processingLevel": null,
           "productType": "canada_spot5_orthoimages",
           "proj:epsg": 3979,
           "resolution": 20,
           "sensorType": null,
           "startTimeFromAscendingNode": "2007-05-02T00:00:00Z",
           "storageStatus": "ONLINE",
           "style": {
            "color": "red"
           },
           "thumbnail": "https://canada-spot-ortho.s3.amazonaws.com/canada_spot_orthoimages/canada_spot5_orthoimages/S5_2007/S5_13355_6004_20070502/s5_13355_6004_20070502_tn.jpg",
           "title": "S5_13355_6004_20070502"
          },
          "type": "Feature"
         },
         {
          "geometry": {
           "coordinates": [
            [
             [
              -75.8321003,
              47.85693209998394
             ],
             [
              -75.5637798,
              48.363290499985176
             ],
             [
              -74.5776358,
              48.12570679998459
             ],
             [
              -74.8555234,
              47.61966979998332
             ],
             [
              -75.8321003,
              47.85693209998394
             ]
            ]
           ],
           "type": "Polygon"
          },
          "id": "S5_07513_4760_20070504",
          "properties": {
           "abstract": null,
           "downloadLink": "https://fake-endpoint/collections/canada_spot5_orthoimages/items/S5_07513_4760_20070504",
           "eo:bands": [
            {
             "common_name": "panchromatic",
             "description": "Panchromatic: 480-710 nm",
             "name": "Panchromatic"
            },
            {
             "common_name": "green",
             "description": "Green: 500-590 nm",
             "name": "Green"
            },
            {
             "common_name": "red",
             "description": "Red: 610-680 nm",
             "name": "Red"
            },
            {
             "common_name": "nir",
             "description": "Near Infrared: 780-890 nm",
             "name": "Near Infrared"
            },
            {
             "common_name": "swir",
             "description": "ShortWave Infrared: 1580-1750 nm",
             "name": "ShortWave Infrared"
            }
           ],
           "eodag_product_type": null,
           "eodag_provider": "stac_http_provider",
           "eodag_search_intersection": {
            "geometries": [],
            "type": "GeometryCollection"
           },
           "instrument": null,
           "license": null,
           "missionStartDate": null,
           "platform": null,
           "platformSerialIdentifier": null,
           "processingLevel": null,
           "productType": "canada_spot5_orthoimages",
           "proj:epsg": 3979,
           "resolution": 20,
           "sensorType": null,
           "startTimeFromAscendingNode": "2007-05-04T00:00:00Z",
           "storageStatus": "ONLINE",
           "style": {
            "color": "red"
           },
           "thumbnail": "https://canada-spot-ortho.s3.amazonaws.com/canada_spot_orthoimages/canada_spot5_orthoimages/S5_2007/S5_07513_4760_20070504/s5_07513_4760_20070504_tn.jpg",
           "title": "S5_07513_4760_20070504"
          },
          "type": "Feature"
         }
        ],
        "type": "FeatureCollection"
       },
       "name": "",
       "options": [],
       "popup": null,
       "popup_max_height": null,
       "popup_max_width": 300,
       "popup_min_width": 50,
       "style": {
        "color": "red"
       }
      }
     },
     "9edb1d3388274023b17ddf08f5a1fec2": {
      "model_module": "jupyter-leaflet",
      "model_module_version": "^0.13.5",
      "model_name": "LeafletTileLayerModel",
      "state": {
       "_model_module_version": "^0.13.5",
       "_view_module_version": "^0.13.5",
       "base": true,
       "max_native_zoom": 18,
       "max_zoom": 19,
       "min_native_zoom": 0,
       "min_zoom": 1,
       "options": [
        "attribution",
        "detect_retina",
        "max_native_zoom",
        "max_zoom",
        "min_native_zoom",
        "min_zoom",
        "no_wrap",
        "tile_size",
        "tms"
       ]
      }
     },
     "9f853992038a445a906a6d042d5f5565": {
      "model_module": "jupyter-leaflet",
      "model_module_version": "^0.13.5",
      "model_name": "LeafletGeoJSONModel",
      "state": {
       "_model_module": "jupyter-leaflet",
       "_model_module_version": "^0.13.5",
       "_view_count": null,
       "_view_module": "jupyter-leaflet",
       "_view_module_version": "^0.13.5",
       "base": false,
       "bottom": false,
       "data": {
        "features": [
         {
          "geometry": {
           "coordinates": [
            [
             [
              -77.6897149,
              45.41003529999992
             ],
             [
              -77.493466,
              45.93058879999993
             ],
             [
              -76.7514935,
              45.790705999999915
             ],
             [
              -76.9536275,
              45.27084659999991
             ],
             [
              -77.6897149,
              45.41003529999992
             ]
            ]
           ],
           "type": "Polygon"
          },
          "id": "S5_07713_4536_20070505",
          "properties": {
           "abstract": null,
           "downloadLink": "https://fake-endpoint/collections/canada_spot5_orthoimages/items/S5_07713_4536_20070505",
           "eo:bands": [
            {
             "common_name": "panchromatic",
             "description": "Panchromatic: 480-710 nm",
             "name": "Panchromatic"
            },
            {
             "common_name": "green",
             "description": "Green: 500-590 nm",
             "name": "Green"
            },
            {
             "common_name": "red",
             "description": "Red: 610-680 nm",
             "name": "Red"
            },
            {
             "common_name": "nir",
             "description": "Near Infrared: 780-890 nm",
             "name": "Near Infrared"
            },
            {
             "common_name": "swir",
             "description": "ShortWave Infrared: 1580-1750 nm",
             "name": "ShortWave Infrared"
            }
           ],
           "eodag_product_type": null,
           "eodag_provider": "stac_http_provider",
           "eodag_search_intersection": {
            "geometries": [],
            "type": "GeometryCollection"
           },
           "instrument": null,
           "license": null,
           "missionStartDate": null,
           "platform": null,
           "platformSerialIdentifier": null,
           "processingLevel": null,
           "productType": "canada_spot5_orthoimages",
           "proj:epsg": 3979,
           "resolution": 20,
           "sensorType": null,
           "startTimeFromAscendingNode": "2007-05-05T00:00:00Z",
           "storageStatus": "ONLINE",
           "style": {
            "color": "red"
           },
           "thumbnail": "https://canada-spot-ortho.s3.amazonaws.com/canada_spot_orthoimages/canada_spot5_orthoimages/S5_2007/S5_07713_4536_20070505/s5_07713_4536_20070505_tn.jpg",
           "title": "S5_07713_4536_20070505"
          },
          "type": "Feature"
         },
         {
          "geometry": {
           "coordinates": [
            [
             [
              -82.19413800000001,
              43.002897899999866
             ],
             [
              -81.9983011,
              43.52332569999988
             ],
             [
              -81.2782497,
              43.3766073999999
             ],
             [
              -81.4785564,
              42.85763319999989
             ],
             [
              -82.19413800000001,
              43.002897899999866
             ]
            ]
           ],
           "type": "Polygon"
          },
          "id": "S5_08144_4311_20070504",
          "properties": {
           "abstract": null,
           "downloadLink": "https://fake-endpoint/collections/canada_spot5_orthoimages/items/S5_08144_4311_20070504",
           "eo:bands": [
            {
             "common_name": "panchromatic",
             "description": "Panchromatic: 480-710 nm",
             "name": "Panchromatic"
            },
            {
             "common_name": "green",
             "description": "Green: 500-590 nm",
             "name": "Green"
            },
            {
             "common_name": "red",
             "description": "Red: 610-680 nm",
             "name": "Red"
            },
            {
             "common_name": "nir",
             "description": "Near Infrared: 780-890 nm",
             "name": "Near Infrared"
            },
            {
             "common_name": "swir",
             "description": "ShortWave Infrared: 1580-1750 nm",
             "name": "ShortWave Infrared"
            }
           ],
           "eodag_product_type": null,
           "eodag_provider": "stac_http_provider",
           "eodag_search_intersection": {
            "geometries": [],
            "type": "GeometryCollection"
           },
           "instrument": null,
           "license": null,
           "missionStartDate": null,
           "platform": null,
           "platformSerialIdentifier": null,
           "processingLevel": null,
           "productType": "canada_spot5_orthoimages",
           "proj:epsg": 3979,
           "resolution": 20,
           "sensorType": null,
           "startTimeFromAscendingNode": "2007-05-04T00:00:00Z",
           "storageStatus": "ONLINE",
           "style": {
            "color": "red"
           },
           "thumbnail": "https://canada-spot-ortho.s3.amazonaws.com/canada_spot_orthoimages/canada_spot5_orthoimages/S5_2007/S5_08144_4311_20070504/s5_08144_4311_20070504_tn.jpg",
           "title": "S5_08144_4311_20070504"
          },
          "type": "Feature"
         },
         {
          "geometry": {
           "coordinates": [
            [
             [
              -85.0273477,
              46.859929499999936
             ],
             [
              -84.8043796,
              47.37592669998269
             ],
             [
              -84.02553680000001,
              47.21757089998226
             ],
             [
              -84.2562465,
              46.70048319999994
             ],
             [
              -85.0273477,
              46.859929499999936
             ]
            ]
           ],
           "type": "Polygon"
          },
          "id": "S5_08432_4702_20070503",
          "properties": {
           "abstract": null,
           "downloadLink": "https://fake-endpoint/collections/canada_spot5_orthoimages/items/S5_08432_4702_20070503",
           "eo:bands": [
            {
             "common_name": "panchromatic",
             "description": "Panchromatic: 480-710 nm",
             "name": "Panchromatic"
            },
            {
             "common_name": "green",
             "description": "Green: 500-590 nm",
             "name": "Green"
            },
            {
             "common_name": "red",
             "description": "Red: 610-680 nm",
             "name": "Red"
            },
            {
             "common_name": "nir",
             "description": "Near Infrared: 780-890 nm",
             "name": "Near Infrared"
            },
            {
             "common_name": "swir",
             "description": "ShortWave Infrared: 1580-1750 nm",
             "name": "ShortWave Infrared"
            }
           ],
           "eodag_product_type": null,
           "eodag_provider": "stac_http_provider",
           "eodag_search_intersection": {
            "geometries": [],
            "type": "GeometryCollection"
           },
           "instrument": null,
           "license": null,
           "missionStartDate": null,
           "platform": null,
           "platformSerialIdentifier": null,
           "processingLevel": null,
           "productType": "canada_spot5_orthoimages",
           "proj:epsg": 3979,
           "resolution": 20,
           "sensorType": null,
           "startTimeFromAscendingNode": "2007-05-03T00:00:00Z",
           "storageStatus": "ONLINE",
           "style": {
            "color": "red"
           },
           "thumbnail": "https://canada-spot-ortho.s3.amazonaws.com/canada_spot_orthoimages/canada_spot5_orthoimages/S5_2007/S5_08432_4702_20070503/s5_08432_4702_20070503_tn.jpg",
           "title": "S5_08432_4702_20070503"
          },
          "type": "Feature"
         },
         {
          "geometry": {
           "coordinates": [
            [
             [
              -82.1791361,
              44.93104039999991
             ],
             [
              -81.9785331,
              45.45127599999993
             ],
             [
              -81.2418256,
              45.30744029999992
             ],
             [
              -81.4473278,
              44.78835739999991
             ],
             [
              -82.1791361,
              44.93104039999991
             ]
            ]
           ],
           "type": "Polygon"
          },
          "id": "S5_08143_4507_20070504",
          "properties": {
           "abstract": null,
           "downloadLink": "https://fake-endpoint/collections/canada_spot5_orthoimages/items/S5_08143_4507_20070504",
           "eo:bands": [
            {
             "common_name": "panchromatic",
             "description": "Panchromatic: 480-710 nm",
             "name": "Panchromatic"
            },
            {
             "common_name": "green",
             "description": "Green: 500-590 nm",
             "name": "Green"
            },
            {
             "common_name": "red",
             "description": "Red: 610-680 nm",
             "name": "Red"
            },
            {
             "common_name": "nir",
             "description": "Near Infrared: 780-890 nm",
             "name": "Near Infrared"
            },
            {
             "common_name": "swir",
             "description": "ShortWave Infrared: 1580-1750 nm",
             "name": "ShortWave Infrared"
            }
           ],
           "eodag_product_type": null,
           "eodag_provider": "stac_http_provider",
           "eodag_search_intersection": {
            "geometries": [],
            "type": "GeometryCollection"
           },
           "instrument": null,
           "license": null,
           "missionStartDate": null,
           "platform": null,
           "platformSerialIdentifier": null,
           "processingLevel": null,
           "productType": "canada_spot5_orthoimages",
           "proj:epsg": 3979,
           "resolution": 20,
           "sensorType": null,
           "startTimeFromAscendingNode": "2007-05-04T00:00:00Z",
           "storageStatus": "ONLINE",
           "style": {
            "color": "red"
           },
           "thumbnail": "https://canada-spot-ortho.s3.amazonaws.com/canada_spot_orthoimages/canada_spot5_orthoimages/S5_2007/S5_08143_4507_20070504/s5_08143_4507_20070504_tn.jpg",
           "title": "S5_08143_4507_20070504"
          },
          "type": "Feature"
         },
         {
          "geometry": {
           "coordinates": [
            [
             [
              -77.5086458,
              45.89066339999992
             ],
             [
              -77.3097434,
              46.411011399999936
             ],
             [
              -76.56018450000002,
              46.27010199999995
             ],
             [
              -76.766165,
              45.75074559999991
             ],
             [
              -77.5086458,
              45.89066339999992
             ]
            ]
           ],
           "type": "Polygon"
          },
          "id": "S5_07702_4605_20070505",
          "properties": {
           "abstract": null,
           "downloadLink": "https://fake-endpoint/collections/canada_spot5_orthoimages/items/S5_07702_4605_20070505",
           "eo:bands": [
            {
             "common_name": "panchromatic",
             "description": "Panchromatic: 480-710 nm",
             "name": "Panchromatic"
            },
            {
             "common_name": "green",
             "description": "Green: 500-590 nm",
             "name": "Green"
            },
            {
             "common_name": "red",
             "description": "Red: 610-680 nm",
             "name": "Red"
            },
            {
             "common_name": "nir",
             "description": "Near Infrared: 780-890 nm",
             "name": "Near Infrared"
            },
            {
             "common_name": "swir",
             "description": "ShortWave Infrared: 1580-1750 nm",
             "name": "ShortWave Infrared"
            }
           ],
           "eodag_product_type": null,
           "eodag_provider": "stac_http_provider",
           "eodag_search_intersection": {
            "geometries": [],
            "type": "GeometryCollection"
           },
           "instrument": null,
           "license": null,
           "missionStartDate": null,
           "platform": null,
           "platformSerialIdentifier": null,
           "processingLevel": null,
           "productType": "canada_spot5_orthoimages",
           "proj:epsg": 3979,
           "resolution": 20,
           "sensorType": null,
           "startTimeFromAscendingNode": "2007-05-05T00:00:00Z",
           "storageStatus": "ONLINE",
           "style": {
            "color": "red"
           },
           "thumbnail": "https://canada-spot-ortho.s3.amazonaws.com/canada_spot_orthoimages/canada_spot5_orthoimages/S5_2007/S5_07702_4605_20070505/s5_07702_4605_20070505_tn.jpg",
           "title": "S5_07702_4605_20070505"
          },
          "type": "Feature"
         },
         {
          "geometry": {
           "coordinates": [
            [
             [
              -81.82939060000001,
              43.97025879999991
             ],
             [
              -81.6293909,
              44.48955959999991
             ],
             [
              -80.8972191,
              44.341560399999906
             ],
             [
              -81.1035722,
              43.82257309999989
             ],
             [
              -81.82939060000001,
              43.97025879999991
             ]
            ]
           ],
           "type": "Polygon"
          },
          "id": "S5_08122_4409_20070504",
          "properties": {
           "abstract": null,
           "downloadLink": "https://fake-endpoint/collections/canada_spot5_orthoimages/items/S5_08122_4409_20070504",
           "eo:bands": [
            {
             "common_name": "panchromatic",
             "description": "Panchromatic: 480-710 nm",
             "name": "Panchromatic"
            },
            {
             "common_name": "green",
             "description": "Green: 500-590 nm",
             "name": "Green"
            },
            {
             "common_name": "red",
             "description": "Red: 610-680 nm",
             "name": "Red"
            },
            {
             "common_name": "nir",
             "description": "Near Infrared: 780-890 nm",
             "name": "Near Infrared"
            },
            {
             "common_name": "swir",
             "description": "ShortWave Infrared: 1580-1750 nm",
             "name": "ShortWave Infrared"
            }
           ],
           "eodag_product_type": null,
           "eodag_provider": "stac_http_provider",
           "eodag_search_intersection": {
            "geometries": [],
            "type": "GeometryCollection"
           },
           "instrument": null,
           "license": null,
           "missionStartDate": null,
           "platform": null,
           "platformSerialIdentifier": null,
           "processingLevel": null,
           "productType": "canada_spot5_orthoimages",
           "proj:epsg": 3979,
           "resolution": 20,
           "sensorType": null,
           "startTimeFromAscendingNode": "2007-05-04T00:00:00Z",
           "storageStatus": "ONLINE",
           "style": {
            "color": "red"
           },
           "thumbnail": "https://canada-spot-ortho.s3.amazonaws.com/canada_spot_orthoimages/canada_spot5_orthoimages/S5_2007/S5_08122_4409_20070504/s5_08122_4409_20070504_tn.jpg",
           "title": "S5_08122_4409_20070504"
          },
          "type": "Feature"
         },
         {
          "geometry": {
           "coordinates": [
            [
             [
              -82.0128118,
              43.486933699999895
             ],
             [
              -81.8154336,
              44.006646199999906
             ],
             [
              -81.0891217,
              43.85927329999989
             ],
             [
              -81.2926142,
              43.340113799999905
             ],
             [
              -82.0128118,
              43.486933699999895
             ]
            ]
           ],
           "type": "Polygon"
          },
          "id": "S5_08133_4340_20070504",
          "properties": {
           "abstract": null,
           "downloadLink": "https://fake-endpoint/collections/canada_spot5_orthoimages/items/S5_08133_4340_20070504",
           "eo:bands": [
            {
             "common_name": "panchromatic",
             "description": "Panchromatic: 480-710 nm",
             "name": "Panchromatic"
            },
            {
             "common_name": "green",
             "description": "Green: 500-590 nm",
             "name": "Green"
            },
            {
             "common_name": "red",
             "description": "Red: 610-680 nm",
             "name": "Red"
            },
            {
             "common_name": "nir",
             "description": "Near Infrared: 780-890 nm",
             "name": "Near Infrared"
            },
            {
             "common_name": "swir",
             "description": "ShortWave Infrared: 1580-1750 nm",
             "name": "ShortWave Infrared"
            }
           ],
           "eodag_product_type": null,
           "eodag_provider": "stac_http_provider",
           "eodag_search_intersection": {
            "geometries": [],
            "type": "GeometryCollection"
           },
           "instrument": null,
           "license": null,
           "missionStartDate": null,
           "platform": null,
           "platformSerialIdentifier": null,
           "processingLevel": null,
           "productType": "canada_spot5_orthoimages",
           "proj:epsg": 3979,
           "resolution": 20,
           "sensorType": null,
           "startTimeFromAscendingNode": "2007-05-04T00:00:00Z",
           "storageStatus": "ONLINE",
           "style": {
            "color": "red"
           },
           "thumbnail": "https://canada-spot-ortho.s3.amazonaws.com/canada_spot_orthoimages/canada_spot5_orthoimages/S5_2007/S5_08133_4340_20070504/s5_08133_4340_20070504_tn.jpg",
           "title": "S5_08133_4340_20070504"
          },
          "type": "Feature"
         },
         {
          "geometry": {
           "coordinates": [
            [
             [
              -75.635484,
              49.71080699998813
             ],
             [
              -75.4077832,
              50.22914529998913
             ],
             [
              -74.6039477,
              50.07893649998885
             ],
             [
              -74.839718,
              49.562025099987835
             ],
             [
              -75.635484,
              49.71080699998813
             ]
            ]
           ],
           "type": "Polygon"
          },
          "id": "S5_07507_4954_20070505",
          "properties": {
           "abstract": null,
           "downloadLink": "https://fake-endpoint/collections/canada_spot5_orthoimages/items/S5_07507_4954_20070505",
           "eo:bands": [
            {
             "common_name": "panchromatic",
             "description": "Panchromatic: 480-710 nm",
             "name": "Panchromatic"
            },
            {
             "common_name": "green",
             "description": "Green: 500-590 nm",
             "name": "Green"
            },
            {
             "common_name": "red",
             "description": "Red: 610-680 nm",
             "name": "Red"
            },
            {
             "common_name": "nir",
             "description": "Near Infrared: 780-890 nm",
             "name": "Near Infrared"
            },
            {
             "common_name": "swir",
             "description": "ShortWave Infrared: 1580-1750 nm",
             "name": "ShortWave Infrared"
            }
           ],
           "eodag_product_type": null,
           "eodag_provider": "stac_http_provider",
           "eodag_search_intersection": {
            "geometries": [],
            "type": "GeometryCollection"
           },
           "instrument": null,
           "license": null,
           "missionStartDate": null,
           "platform": null,
           "platformSerialIdentifier": null,
           "processingLevel": null,
           "productType": "canada_spot5_orthoimages",
           "proj:epsg": 3979,
           "resolution": 20,
           "sensorType": null,
           "startTimeFromAscendingNode": "2007-05-05T00:00:00Z",
           "storageStatus": "ONLINE",
           "style": {
            "color": "red"
           },
           "thumbnail": "https://canada-spot-ortho.s3.amazonaws.com/canada_spot_orthoimages/canada_spot5_orthoimages/S5_2007/S5_07507_4954_20070505/s5_07507_4954_20070505_tn.jpg",
           "title": "S5_07507_4954_20070505"
          },
          "type": "Feature"
         },
         {
          "geometry": {
           "coordinates": [
            [
             [
              -84.9345337,
              48.765304799986104
             ],
             [
              -84.7042059,
              49.282367799987256
             ],
             [
              -83.9089622,
              49.126539399986925
             ],
             [
              -84.1474371,
              48.61051919998576
             ],
             [
              -84.9345337,
              48.765304799986104
             ]
            ]
           ],
           "type": "Polygon"
          },
          "id": "S5_08426_4857_20070503",
          "properties": {
           "abstract": null,
           "downloadLink": "https://fake-endpoint/collections/canada_spot5_orthoimages/items/S5_08426_4857_20070503",
           "eo:bands": [
            {
             "common_name": "panchromatic",
             "description": "Panchromatic: 480-710 nm",
             "name": "Panchromatic"
            },
            {
             "common_name": "green",
             "description": "Green: 500-590 nm",
             "name": "Green"
            },
            {
             "common_name": "red",
             "description": "Red: 610-680 nm",
             "name": "Red"
            },
            {
             "common_name": "nir",
             "description": "Near Infrared: 780-890 nm",
             "name": "Near Infrared"
            },
            {
             "common_name": "swir",
             "description": "ShortWave Infrared: 1580-1750 nm",
             "name": "ShortWave Infrared"
            }
           ],
           "eodag_product_type": null,
           "eodag_provider": "stac_http_provider",
           "eodag_search_intersection": {
            "geometries": [],
            "type": "GeometryCollection"
           },
           "instrument": null,
           "license": null,
           "missionStartDate": null,
           "platform": null,
           "platformSerialIdentifier": null,
           "processingLevel": null,
           "productType": "canada_spot5_orthoimages",
           "proj:epsg": 3979,
           "resolution": 20,
           "sensorType": null,
           "startTimeFromAscendingNode": "2007-05-03T00:00:00Z",
           "storageStatus": "ONLINE",
           "style": {
            "color": "red"
           },
           "thumbnail": "https://canada-spot-ortho.s3.amazonaws.com/canada_spot_orthoimages/canada_spot5_orthoimages/S5_2007/S5_08426_4857_20070503/s5_08426_4857_20070503_tn.jpg",
           "title": "S5_08426_4857_20070503"
          },
          "type": "Feature"
         },
         {
          "geometry": {
           "coordinates": [
            [
             [
              -84.8206206,
              47.3379771999826
             ],
             [
              -84.59384510000001,
              47.85419849998393
             ],
             [
              -83.8084865,
              47.69434859998355
             ],
             [
              -84.0433223,
              47.17892369998218
             ],
             [
              -84.8206206,
              47.3379771999826
             ]
            ]
           ],
           "type": "Polygon"
          },
          "id": "S5_08419_4731_20070503",
          "properties": {
           "abstract": null,
           "downloadLink": "https://fake-endpoint/collections/canada_spot5_orthoimages/items/S5_08419_4731_20070503",
           "eo:bands": [
            {
             "common_name": "panchromatic",
             "description": "Panchromatic: 480-710 nm",
             "name": "Panchromatic"
            },
            {
             "common_name": "green",
             "description": "Green: 500-590 nm",
             "name": "Green"
            },
            {
             "common_name": "red",
             "description": "Red: 610-680 nm",
             "name": "Red"
            },
            {
             "common_name": "nir",
             "description": "Near Infrared: 780-890 nm",
             "name": "Near Infrared"
            },
            {
             "common_name": "swir",
             "description": "ShortWave Infrared: 1580-1750 nm",
             "name": "ShortWave Infrared"
            }
           ],
           "eodag_product_type": null,
           "eodag_provider": "stac_http_provider",
           "eodag_search_intersection": {
            "geometries": [],
            "type": "GeometryCollection"
           },
           "instrument": null,
           "license": null,
           "missionStartDate": null,
           "platform": null,
           "platformSerialIdentifier": null,
           "processingLevel": null,
           "productType": "canada_spot5_orthoimages",
           "proj:epsg": 3979,
           "resolution": 20,
           "sensorType": null,
           "startTimeFromAscendingNode": "2007-05-03T00:00:00Z",
           "storageStatus": "ONLINE",
           "style": {
            "color": "red"
           },
           "thumbnail": "https://canada-spot-ortho.s3.amazonaws.com/canada_spot_orthoimages/canada_spot5_orthoimages/S5_2007/S5_08419_4731_20070503/s5_08419_4731_20070503_tn.jpg",
           "title": "S5_08419_4731_20070503"
          },
          "type": "Feature"
         },
         {
          "geometry": {
           "coordinates": [
            [
             [
              -81.4555888,
              44.9349105999999
             ],
             [
              -81.2491542,
              45.45280749999993
             ],
             [
              -80.5044075,
              45.30292019999991
             ],
             [
              -80.7183832,
              44.78516229999991
             ],
             [
              -81.4555888,
              44.9349105999999
             ]
            ]
           ],
           "type": "Polygon"
          },
          "id": "S5_08059_4507_20070504",
          "properties": {
           "abstract": null,
           "downloadLink": "https://fake-endpoint/collections/canada_spot5_orthoimages/items/S5_08059_4507_20070504",
           "eo:bands": [
            {
             "common_name": "panchromatic",
             "description": "Panchromatic: 480-710 nm",
             "name": "Panchromatic"
            },
            {
             "common_name": "green",
             "description": "Green: 500-590 nm",
             "name": "Green"
            },
            {
             "common_name": "red",
             "description": "Red: 610-680 nm",
             "name": "Red"
            },
            {
             "common_name": "nir",
             "description": "Near Infrared: 780-890 nm",
             "name": "Near Infrared"
            },
            {
             "common_name": "swir",
             "description": "ShortWave Infrared: 1580-1750 nm",
             "name": "ShortWave Infrared"
            }
           ],
           "eodag_product_type": null,
           "eodag_provider": "stac_http_provider",
           "eodag_search_intersection": {
            "geometries": [],
            "type": "GeometryCollection"
           },
           "instrument": null,
           "license": null,
           "missionStartDate": null,
           "platform": null,
           "platformSerialIdentifier": null,
           "processingLevel": null,
           "productType": "canada_spot5_orthoimages",
           "proj:epsg": 3979,
           "resolution": 20,
           "sensorType": null,
           "startTimeFromAscendingNode": "2007-05-04T00:00:00Z",
           "storageStatus": "ONLINE",
           "style": {
            "color": "red"
           },
           "thumbnail": "https://canada-spot-ortho.s3.amazonaws.com/canada_spot_orthoimages/canada_spot5_orthoimages/S5_2007/S5_08059_4507_20070504/s5_08059_4507_20070504_tn.jpg",
           "title": "S5_08059_4507_20070504"
          },
          "type": "Feature"
         },
         {
          "geometry": {
           "coordinates": [
            [
             [
              -81.6437402,
              44.45305149999991
             ],
             [
              -81.440283,
              44.97205759999991
             ],
             [
              -80.70280270000002,
              44.82283499999992
             ],
             [
              -80.91258470000001,
              44.304634199999924
             ],
             [
              -81.6437402,
              44.45305149999991
             ]
            ]
           ],
           "type": "Polygon"
          },
          "id": "S5_08111_4438_20070504",
          "properties": {
           "abstract": null,
           "downloadLink": "https://fake-endpoint/collections/canada_spot5_orthoimages/items/S5_08111_4438_20070504",
           "eo:bands": [
            {
             "common_name": "panchromatic",
             "description": "Panchromatic: 480-710 nm",
             "name": "Panchromatic"
            },
            {
             "common_name": "green",
             "description": "Green: 500-590 nm",
             "name": "Green"
            },
            {
             "common_name": "red",
             "description": "Red: 610-680 nm",
             "name": "Red"
            },
            {
             "common_name": "nir",
             "description": "Near Infrared: 780-890 nm",
             "name": "Near Infrared"
            },
            {
             "common_name": "swir",
             "description": "ShortWave Infrared: 1580-1750 nm",
             "name": "ShortWave Infrared"
            }
           ],
           "eodag_product_type": null,
           "eodag_provider": "stac_http_provider",
           "eodag_search_intersection": {
            "geometries": [],
            "type": "GeometryCollection"
           },
           "instrument": null,
           "license": null,
           "missionStartDate": null,
           "platform": null,
           "platformSerialIdentifier": null,
           "processingLevel": null,
           "productType": "canada_spot5_orthoimages",
           "proj:epsg": 3979,
           "resolution": 20,
           "sensorType": null,
           "startTimeFromAscendingNode": "2007-05-04T00:00:00Z",
           "storageStatus": "ONLINE",
           "style": {
            "color": "red"
           },
           "thumbnail": "https://canada-spot-ortho.s3.amazonaws.com/canada_spot_orthoimages/canada_spot5_orthoimages/S5_2007/S5_08111_4438_20070504/s5_08111_4438_20070504_tn.jpg",
           "title": "S5_08111_4438_20070504"
          },
          "type": "Feature"
         },
         {
          "geometry": {
           "coordinates": [
            [
             [
              -86.1595605,
              49.23422629998713
             ],
             [
              -85.9407614,
              49.7529022999882
             ],
             [
              -85.1419636,
              49.60717919998791
             ],
             [
              -85.3685313,
              49.08959189998682
             ],
             [
              -86.1595605,
              49.23422629998713
             ]
            ]
           ],
           "type": "Polygon"
          },
          "id": "S5_08539_4925_20070503",
          "properties": {
           "abstract": null,
           "downloadLink": "https://fake-endpoint/collections/canada_spot5_orthoimages/items/S5_08539_4925_20070503",
           "eo:bands": [
            {
             "common_name": "panchromatic",
             "description": "Panchromatic: 480-710 nm",
             "name": "Panchromatic"
            },
            {
             "common_name": "green",
             "description": "Green: 500-590 nm",
             "name": "Green"
            },
            {
             "common_name": "red",
             "description": "Red: 610-680 nm",
             "name": "Red"
            },
            {
             "common_name": "nir",
             "description": "Near Infrared: 780-890 nm",
             "name": "Near Infrared"
            },
            {
             "common_name": "swir",
             "description": "ShortWave Infrared: 1580-1750 nm",
             "name": "ShortWave Infrared"
            }
           ],
           "eodag_product_type": null,
           "eodag_provider": "stac_http_provider",
           "eodag_search_intersection": {
            "geometries": [],
            "type": "GeometryCollection"
           },
           "instrument": null,
           "license": null,
           "missionStartDate": null,
           "platform": null,
           "platformSerialIdentifier": null,
           "processingLevel": null,
           "productType": "canada_spot5_orthoimages",
           "proj:epsg": 3979,
           "resolution": 20,
           "sensorType": null,
           "startTimeFromAscendingNode": "2007-05-03T00:00:00Z",
           "storageStatus": "ONLINE",
           "style": {
            "color": "red"
           },
           "thumbnail": "https://canada-spot-ortho.s3.amazonaws.com/canada_spot_orthoimages/canada_spot5_orthoimages/S5_2007/S5_08539_4925_20070503/s5_08539_4925_20070503_tn.jpg",
           "title": "S5_08539_4925_20070503"
          },
          "type": "Feature"
         },
         {
          "geometry": {
           "coordinates": [
            [
             [
              -77.8688576,
              44.92858479999993
             ],
             [
              -77.6751065,
              45.44990809999991
             ],
             [
              -76.9381127,
              45.3104741999999
             ],
             [
              -77.13831010000001,
              44.790157899999905
             ],
             [
              -77.8688576,
              44.92858479999993
             ]
            ]
           ],
           "type": "Polygon"
          },
          "id": "S5_07724_4507_20070505",
          "properties": {
           "abstract": null,
           "downloadLink": "https://fake-endpoint/collections/canada_spot5_orthoimages/items/S5_07724_4507_20070505",
           "eo:bands": [
            {
             "common_name": "panchromatic",
             "description": "Panchromatic: 480-710 nm",
             "name": "Panchromatic"
            },
            {
             "common_name": "green",
             "description": "Green: 500-590 nm",
             "name": "Green"
            },
            {
             "common_name": "red",
             "description": "Red: 610-680 nm",
             "name": "Red"
            },
            {
             "common_name": "nir",
             "description": "Near Infrared: 780-890 nm",
             "name": "Near Infrared"
            },
            {
             "common_name": "swir",
             "description": "ShortWave Infrared: 1580-1750 nm",
             "name": "ShortWave Infrared"
            }
           ],
           "eodag_product_type": null,
           "eodag_provider": "stac_http_provider",
           "eodag_search_intersection": {
            "geometries": [],
            "type": "GeometryCollection"
           },
           "instrument": null,
           "license": null,
           "missionStartDate": null,
           "platform": null,
           "platformSerialIdentifier": null,
           "processingLevel": null,
           "productType": "canada_spot5_orthoimages",
           "proj:epsg": 3979,
           "resolution": 20,
           "sensorType": null,
           "startTimeFromAscendingNode": "2007-05-05T00:00:00Z",
           "storageStatus": "ONLINE",
           "style": {
            "color": "red"
           },
           "thumbnail": "https://canada-spot-ortho.s3.amazonaws.com/canada_spot_orthoimages/canada_spot5_orthoimages/S5_2007/S5_07724_4507_20070505/s5_07724_4507_20070505_tn.jpg",
           "title": "S5_07724_4507_20070505"
          },
          "type": "Feature"
         },
         {
          "geometry": {
           "coordinates": [
            [
             [
              -85.1430113,
              48.28905129998501
             ],
             [
              -84.9162353,
              48.80620119998619
             ],
             [
              -84.1287318,
              48.65145419998586
             ],
             [
              -84.3634894,
              48.135371299984634
             ],
             [
              -85.1430113,
              48.28905129998501
             ]
            ]
           ],
           "type": "Polygon"
          },
          "id": "S5_08438_4828_20070503",
          "properties": {
           "abstract": null,
           "downloadLink": "https://fake-endpoint/collections/canada_spot5_orthoimages/items/S5_08438_4828_20070503",
           "eo:bands": [
            {
             "common_name": "panchromatic",
             "description": "Panchromatic: 480-710 nm",
             "name": "Panchromatic"
            },
            {
             "common_name": "green",
             "description": "Green: 500-590 nm",
             "name": "Green"
            },
            {
             "common_name": "red",
             "description": "Red: 610-680 nm",
             "name": "Red"
            },
            {
             "common_name": "nir",
             "description": "Near Infrared: 780-890 nm",
             "name": "Near Infrared"
            },
            {
             "common_name": "swir",
             "description": "ShortWave Infrared: 1580-1750 nm",
             "name": "ShortWave Infrared"
            }
           ],
           "eodag_product_type": null,
           "eodag_provider": "stac_http_provider",
           "eodag_search_intersection": {
            "geometries": [],
            "type": "GeometryCollection"
           },
           "instrument": null,
           "license": null,
           "missionStartDate": null,
           "platform": null,
           "platformSerialIdentifier": null,
           "processingLevel": null,
           "productType": "canada_spot5_orthoimages",
           "proj:epsg": 3979,
           "resolution": 20,
           "sensorType": null,
           "startTimeFromAscendingNode": "2007-05-03T00:00:00Z",
           "storageStatus": "ONLINE",
           "style": {
            "color": "red"
           },
           "thumbnail": "https://canada-spot-ortho.s3.amazonaws.com/canada_spot_orthoimages/canada_spot5_orthoimages/S5_2007/S5_08438_4828_20070503/s5_08438_4828_20070503_tn.jpg",
           "title": "S5_08438_4828_20070503"
          },
          "type": "Feature"
         },
         {
          "geometry": {
           "coordinates": [
            [
             [
              -82.3604829,
              44.4490351999999
             ],
             [
              -82.1638974,
              44.969530699999915
             ],
             [
              -81.4321473,
              44.82679269999993
             ],
             [
              -81.6351024,
              44.307056199999906
             ],
             [
              -82.3604829,
              44.4490351999999
             ]
            ]
           ],
           "type": "Polygon"
          },
          "id": "S5_08154_4438_20070504",
          "properties": {
           "abstract": null,
           "downloadLink": "https://fake-endpoint/collections/canada_spot5_orthoimages/items/S5_08154_4438_20070504",
           "eo:bands": [
            {
             "common_name": "panchromatic",
             "description": "Panchromatic: 480-710 nm",
             "name": "Panchromatic"
            },
            {
             "common_name": "green",
             "description": "Green: 500-590 nm",
             "name": "Green"
            },
            {
             "common_name": "red",
             "description": "Red: 610-680 nm",
             "name": "Red"
            },
            {
             "common_name": "nir",
             "description": "Near Infrared: 780-890 nm",
             "name": "Near Infrared"
            },
            {
             "common_name": "swir",
             "description": "ShortWave Infrared: 1580-1750 nm",
             "name": "ShortWave Infrared"
            }
           ],
           "eodag_product_type": null,
           "eodag_provider": "stac_http_provider",
           "eodag_search_intersection": {
            "geometries": [],
            "type": "GeometryCollection"
           },
           "instrument": null,
           "license": null,
           "missionStartDate": null,
           "platform": null,
           "platformSerialIdentifier": null,
           "processingLevel": null,
           "productType": "canada_spot5_orthoimages",
           "proj:epsg": 3979,
           "resolution": 20,
           "sensorType": null,
           "startTimeFromAscendingNode": "2007-05-04T00:00:00Z",
           "storageStatus": "ONLINE",
           "style": {
            "color": "red"
           },
           "thumbnail": "https://canada-spot-ortho.s3.amazonaws.com/canada_spot_orthoimages/canada_spot5_orthoimages/S5_2007/S5_08154_4438_20070504/s5_08154_4438_20070504_tn.jpg",
           "title": "S5_08154_4438_20070504"
          },
          "type": "Feature"
         },
         {
          "geometry": {
           "coordinates": [
            [
             [
              -76.24385540000002,
              48.284491499985
             ],
             [
              -76.0261593,
              48.80282719998618
             ],
             [
              -75.24409010000001,
              48.65556529998587
             ],
             [
              -75.4693021,
              48.138179499984645
             ],
             [
              -76.24385540000002,
              48.284491499985
             ]
            ]
           ],
           "type": "Polygon"
          },
          "id": "S5_07545_4828_20070505",
          "properties": {
           "abstract": null,
           "downloadLink": "https://fake-endpoint/collections/canada_spot5_orthoimages/items/S5_07545_4828_20070505",
           "eo:bands": [
            {
             "common_name": "panchromatic",
             "description": "Panchromatic: 480-710 nm",
             "name": "Panchromatic"
            },
            {
             "common_name": "green",
             "description": "Green: 500-590 nm",
             "name": "Green"
            },
            {
             "common_name": "red",
             "description": "Red: 610-680 nm",
             "name": "Red"
            },
            {
             "common_name": "nir",
             "description": "Near Infrared: 780-890 nm",
             "name": "Near Infrared"
            },
            {
             "common_name": "swir",
             "description": "ShortWave Infrared: 1580-1750 nm",
             "name": "ShortWave Infrared"
            }
           ],
           "eodag_product_type": null,
           "eodag_provider": "stac_http_provider",
           "eodag_search_intersection": {
            "geometries": [],
            "type": "GeometryCollection"
           },
           "instrument": null,
           "license": null,
           "missionStartDate": null,
           "platform": null,
           "platformSerialIdentifier": null,
           "processingLevel": null,
           "productType": "canada_spot5_orthoimages",
           "proj:epsg": 3979,
           "resolution": 20,
           "sensorType": null,
           "startTimeFromAscendingNode": "2007-05-05T00:00:00Z",
           "storageStatus": "ONLINE",
           "style": {
            "color": "red"
           },
           "thumbnail": "https://canada-spot-ortho.s3.amazonaws.com/canada_spot_orthoimages/canada_spot5_orthoimages/S5_2007/S5_07545_4828_20070505/s5_07545_4828_20070505_tn.jpg",
           "title": "S5_07545_4828_20070505"
          },
          "type": "Feature"
         },
         {
          "geometry": {
           "coordinates": [
            [
             [
              -75.8416676,
              49.236272499987166
             ],
             [
              -75.6169194,
              49.75401399998823
             ],
             [
              -74.8203005,
              49.60474209998792
             ],
             [
              -75.052923,
              49.08803909998684
             ],
             [
              -75.8416676,
              49.236272499987166
             ]
            ]
           ],
           "type": "Polygon"
          },
          "id": "S5_07520_4925_20070505",
          "properties": {
           "abstract": null,
           "downloadLink": "https://fake-endpoint/collections/canada_spot5_orthoimages/items/S5_07520_4925_20070505",
           "eo:bands": [
            {
             "common_name": "panchromatic",
             "description": "Panchromatic: 480-710 nm",
             "name": "Panchromatic"
            },
            {
             "common_name": "green",
             "description": "Green: 500-590 nm",
             "name": "Green"
            },
            {
             "common_name": "red",
             "description": "Red: 610-680 nm",
             "name": "Red"
            },
            {
             "common_name": "nir",
             "description": "Near Infrared: 780-890 nm",
             "name": "Near Infrared"
            },
            {
             "common_name": "swir",
             "description": "ShortWave Infrared: 1580-1750 nm",
             "name": "ShortWave Infrared"
            }
           ],
           "eodag_product_type": null,
           "eodag_provider": "stac_http_provider",
           "eodag_search_intersection": {
            "geometries": [],
            "type": "GeometryCollection"
           },
           "instrument": null,
           "license": null,
           "missionStartDate": null,
           "platform": null,
           "platformSerialIdentifier": null,
           "processingLevel": null,
           "productType": "canada_spot5_orthoimages",
           "proj:epsg": 3979,
           "resolution": 20,
           "sensorType": null,
           "startTimeFromAscendingNode": "2007-05-05T00:00:00Z",
           "storageStatus": "ONLINE",
           "style": {
            "color": "red"
           },
           "thumbnail": "https://canada-spot-ortho.s3.amazonaws.com/canada_spot_orthoimages/canada_spot5_orthoimages/S5_2007/S5_07520_4925_20070505/s5_07520_4925_20070505_tn.jpg",
           "title": "S5_07520_4925_20070505"
          },
          "type": "Feature"
         },
         {
          "geometry": {
           "coordinates": [
            [
             [
              -82.5399498,
              43.96653589999989
             ],
             [
              -82.3458555,
              44.4875308999999
             ],
             [
              -81.6429288,
              44.34954079999989
             ],
             [
              -81.861012,
              43.83442389999987
             ],
             [
              -82.5399498,
              43.96653589999989
             ]
            ]
           ],
           "type": "Polygon"
          },
          "id": "S5_08205_4409_20070504",
          "properties": {
           "abstract": null,
           "downloadLink": "https://fake-endpoint/collections/canada_spot5_orthoimages/items/S5_08205_4409_20070504",
           "eo:bands": [
            {
             "common_name": "panchromatic",
             "description": "Panchromatic: 480-710 nm",
             "name": "Panchromatic"
            },
            {
             "common_name": "green",
             "description": "Green: 500-590 nm",
             "name": "Green"
            },
            {
             "common_name": "red",
             "description": "Red: 610-680 nm",
             "name": "Red"
            },
            {
             "common_name": "nir",
             "description": "Near Infrared: 780-890 nm",
             "name": "Near Infrared"
            },
            {
             "common_name": "swir",
             "description": "ShortWave Infrared: 1580-1750 nm",
             "name": "ShortWave Infrared"
            }
           ],
           "eodag_product_type": null,
           "eodag_provider": "stac_http_provider",
           "eodag_search_intersection": {
            "geometries": [],
            "type": "GeometryCollection"
           },
           "instrument": null,
           "license": null,
           "missionStartDate": null,
           "platform": null,
           "platformSerialIdentifier": null,
           "processingLevel": null,
           "productType": "canada_spot5_orthoimages",
           "proj:epsg": 3979,
           "resolution": 20,
           "sensorType": null,
           "startTimeFromAscendingNode": "2007-05-04T00:00:00Z",
           "storageStatus": "ONLINE",
           "style": {
            "color": "red"
           },
           "thumbnail": "https://canada-spot-ortho.s3.amazonaws.com/canada_spot_orthoimages/canada_spot5_orthoimages/S5_2007/S5_08205_4409_20070504/s5_08205_4409_20070504_tn.jpg",
           "title": "S5_08205_4409_20070504"
          },
          "type": "Feature"
         },
         {
          "geometry": {
           "coordinates": [
            [
             [
              -134.61285240000004,
              59.90237209999863
             ],
             [
              -134.2436326,
              60.40733679999877
             ],
             [
              -133.2247839,
              60.218067899998715
             ],
             [
              -133.60573870000002,
              59.715175899998535
             ],
             [
              -134.61285240000004,
              59.90237209999863
             ]
            ]
           ],
           "type": "Polygon"
          },
          "id": "S5_13355_6004_20070502",
          "properties": {
           "abstract": null,
           "downloadLink": "https://fake-endpoint/collections/canada_spot5_orthoimages/items/S5_13355_6004_20070502",
           "eo:bands": [
            {
             "common_name": "panchromatic",
             "description": "Panchromatic: 480-710 nm",
             "name": "Panchromatic"
            },
            {
             "common_name": "green",
             "description": "Green: 500-590 nm",
             "name": "Green"
            },
            {
             "common_name": "red",
             "description": "Red: 610-680 nm",
             "name": "Red"
            },
            {
             "common_name": "nir",
             "description": "Near Infrared: 780-890 nm",
             "name": "Near Infrared"
            },
            {
             "common_name": "swir",
             "description": "ShortWave Infrared: 1580-1750 nm",
             "name": "ShortWave Infrared"
            }
           ],
           "eodag_product_type": null,
           "eodag_provider": "stac_http_provider",
           "eodag_search_intersection": {
            "geometries": [],
            "type": "GeometryCollection"
           },
           "instrument": null,
           "license": null,
           "missionStartDate": null,
           "platform": null,
           "platformSerialIdentifier": null,
           "processingLevel": null,
           "productType": "canada_spot5_orthoimages",
           "proj:epsg": 3979,
           "resolution": 20,
           "sensorType": null,
           "startTimeFromAscendingNode": "2007-05-02T00:00:00Z",
           "storageStatus": "ONLINE",
           "style": {
            "color": "red"
           },
           "thumbnail": "https://canada-spot-ortho.s3.amazonaws.com/canada_spot_orthoimages/canada_spot5_orthoimages/S5_2007/S5_13355_6004_20070502/s5_13355_6004_20070502_tn.jpg",
           "title": "S5_13355_6004_20070502"
          },
          "type": "Feature"
         },
         {
          "geometry": {
           "coordinates": [
            [
             [
              -75.8321003,
              47.85693209998394
             ],
             [
              -75.5637798,
              48.363290499985176
             ],
             [
              -74.5776358,
              48.12570679998459
             ],
             [
              -74.8555234,
              47.61966979998332
             ],
             [
              -75.8321003,
              47.85693209998394
             ]
            ]
           ],
           "type": "Polygon"
          },
          "id": "S5_07513_4760_20070504",
          "properties": {
           "abstract": null,
           "downloadLink": "https://fake-endpoint/collections/canada_spot5_orthoimages/items/S5_07513_4760_20070504",
           "eo:bands": [
            {
             "common_name": "panchromatic",
             "description": "Panchromatic: 480-710 nm",
             "name": "Panchromatic"
            },
            {
             "common_name": "green",
             "description": "Green: 500-590 nm",
             "name": "Green"
            },
            {
             "common_name": "red",
             "description": "Red: 610-680 nm",
             "name": "Red"
            },
            {
             "common_name": "nir",
             "description": "Near Infrared: 780-890 nm",
             "name": "Near Infrared"
            },
            {
             "common_name": "swir",
             "description": "ShortWave Infrared: 1580-1750 nm",
             "name": "ShortWave Infrared"
            }
           ],
           "eodag_product_type": null,
           "eodag_provider": "stac_http_provider",
           "eodag_search_intersection": {
            "geometries": [],
            "type": "GeometryCollection"
           },
           "instrument": null,
           "license": null,
           "missionStartDate": null,
           "platform": null,
           "platformSerialIdentifier": null,
           "processingLevel": null,
           "productType": "canada_spot5_orthoimages",
           "proj:epsg": 3979,
           "resolution": 20,
           "sensorType": null,
           "startTimeFromAscendingNode": "2007-05-04T00:00:00Z",
           "storageStatus": "ONLINE",
           "style": {
            "color": "red"
           },
           "thumbnail": "https://canada-spot-ortho.s3.amazonaws.com/canada_spot_orthoimages/canada_spot5_orthoimages/S5_2007/S5_07513_4760_20070504/s5_07513_4760_20070504_tn.jpg",
           "title": "S5_07513_4760_20070504"
          },
          "type": "Feature"
         }
        ],
        "type": "FeatureCollection"
       },
       "name": "",
       "options": [],
       "popup": null,
       "popup_max_height": null,
       "popup_max_width": 300,
       "popup_min_width": 50,
       "style": {
        "color": "red"
       }
      }
     },
     "a07a2d66656b46d89a532223e6c61ba1": {
      "model_module": "jupyter-leaflet",
      "model_module_version": "^0.13.5",
      "model_name": "LeafletTileLayerModel",
      "state": {
       "_model_module_version": "^0.13.5",
       "_view_module_version": "^0.13.5",
       "base": true,
       "max_native_zoom": 18,
       "max_zoom": 19,
       "min_native_zoom": 0,
       "min_zoom": 1,
       "options": [
        "attribution",
        "detect_retina",
        "max_native_zoom",
        "max_zoom",
        "min_native_zoom",
        "min_zoom",
        "no_wrap",
        "tile_size",
        "tms"
       ]
      }
     },
     "a23adb557ffb4a7297a605a278982d80": {
      "model_module": "jupyter-leaflet",
      "model_module_version": "^0.13.5",
      "model_name": "LeafletAttributionControlModel",
      "state": {
       "_model_module_version": "^0.13.5",
       "_view_module_version": "^0.13.5",
       "options": [
        "position",
        "prefix"
       ],
       "position": "bottomright",
       "prefix": "ipyleaflet"
      }
     },
     "a81ceb01d8624da5ba5352799815fd85": {
      "model_module": "@jupyter-widgets/controls",
      "model_module_version": "1.5.0",
      "model_name": "HBoxModel",
      "state": {
       "children": [
        "IPY_MODEL_9a365e03b83e4bcead8cce7f30adfad7",
        "IPY_MODEL_f252f0eb10d94c47a4fb4d2077f32e85",
        "IPY_MODEL_fa7d798a58a74098bad54d781ec37fff"
       ],
       "layout": "IPY_MODEL_529376692a0642c39ca76b33e09f7d7e"
      }
     },
     "aa5a1a3e989443869aca422795122df0": {
      "model_module": "jupyter-leaflet",
      "model_module_version": "^0.13.5",
      "model_name": "LeafletGeoJSONModel",
      "state": {
       "_model_module": "jupyter-leaflet",
       "_model_module_version": "^0.13.5",
       "_view_count": null,
       "_view_module": "jupyter-leaflet",
       "_view_module_version": "^0.13.5",
       "base": false,
       "bottom": false,
       "data": {
        "features": [
         {
          "geometry": {
           "coordinates": [
            [
             [
              -77.6897149,
              45.41003529999992
             ],
             [
              -77.493466,
              45.93058879999993
             ],
             [
              -76.7514935,
              45.790705999999915
             ],
             [
              -76.9536275,
              45.27084659999991
             ],
             [
              -77.6897149,
              45.41003529999992
             ]
            ]
           ],
           "type": "Polygon"
          },
          "id": "S5_07713_4536_20070505",
          "properties": {
           "abstract": null,
           "downloadLink": "https://fake-endpoint/collections/canada_spot5_orthoimages/items/S5_07713_4536_20070505",
           "eo:bands": [
            {
             "common_name": "panchromatic",
             "description": "Panchromatic: 480-710 nm",
             "name": "Panchromatic"
            },
            {
             "common_name": "green",
             "description": "Green: 500-590 nm",
             "name": "Green"
            },
            {
             "common_name": "red",
             "description": "Red: 610-680 nm",
             "name": "Red"
            },
            {
             "common_name": "nir",
             "description": "Near Infrared: 780-890 nm",
             "name": "Near Infrared"
            },
            {
             "common_name": "swir",
             "description": "ShortWave Infrared: 1580-1750 nm",
             "name": "ShortWave Infrared"
            }
           ],
           "eodag_product_type": null,
           "eodag_provider": "stac_http_provider",
           "eodag_search_intersection": {
            "geometries": [],
            "type": "GeometryCollection"
           },
           "instrument": null,
           "license": null,
           "missionStartDate": null,
           "platform": null,
           "platformSerialIdentifier": null,
           "processingLevel": null,
           "productType": "canada_spot5_orthoimages",
           "proj:epsg": 3979,
           "resolution": 20,
           "sensorType": null,
           "startTimeFromAscendingNode": "2007-05-05T00:00:00Z",
           "storageStatus": "ONLINE",
           "style": {
            "color": "green"
           },
           "thumbnail": "https://canada-spot-ortho.s3.amazonaws.com/canada_spot_orthoimages/canada_spot5_orthoimages/S5_2007/S5_07713_4536_20070505/s5_07713_4536_20070505_tn.jpg",
           "title": "S5_07713_4536_20070505"
          },
          "type": "Feature"
         },
         {
          "geometry": {
           "coordinates": [
            [
             [
              -77.5086458,
              45.89066339999992
             ],
             [
              -77.3097434,
              46.411011399999936
             ],
             [
              -76.56018450000002,
              46.27010199999995
             ],
             [
              -76.766165,
              45.75074559999991
             ],
             [
              -77.5086458,
              45.89066339999992
             ]
            ]
           ],
           "type": "Polygon"
          },
          "id": "S5_07702_4605_20070505",
          "properties": {
           "abstract": null,
           "downloadLink": "https://fake-endpoint/collections/canada_spot5_orthoimages/items/S5_07702_4605_20070505",
           "eo:bands": [
            {
             "common_name": "panchromatic",
             "description": "Panchromatic: 480-710 nm",
             "name": "Panchromatic"
            },
            {
             "common_name": "green",
             "description": "Green: 500-590 nm",
             "name": "Green"
            },
            {
             "common_name": "red",
             "description": "Red: 610-680 nm",
             "name": "Red"
            },
            {
             "common_name": "nir",
             "description": "Near Infrared: 780-890 nm",
             "name": "Near Infrared"
            },
            {
             "common_name": "swir",
             "description": "ShortWave Infrared: 1580-1750 nm",
             "name": "ShortWave Infrared"
            }
           ],
           "eodag_product_type": null,
           "eodag_provider": "stac_http_provider",
           "eodag_search_intersection": {
            "geometries": [],
            "type": "GeometryCollection"
           },
           "instrument": null,
           "license": null,
           "missionStartDate": null,
           "platform": null,
           "platformSerialIdentifier": null,
           "processingLevel": null,
           "productType": "canada_spot5_orthoimages",
           "proj:epsg": 3979,
           "resolution": 20,
           "sensorType": null,
           "startTimeFromAscendingNode": "2007-05-05T00:00:00Z",
           "storageStatus": "ONLINE",
           "style": {
            "color": "green"
           },
           "thumbnail": "https://canada-spot-ortho.s3.amazonaws.com/canada_spot_orthoimages/canada_spot5_orthoimages/S5_2007/S5_07702_4605_20070505/s5_07702_4605_20070505_tn.jpg",
           "title": "S5_07702_4605_20070505"
          },
          "type": "Feature"
         },
         {
          "geometry": {
           "coordinates": [
            [
             [
              -77.8688576,
              44.92858479999993
             ],
             [
              -77.6751065,
              45.44990809999991
             ],
             [
              -76.9381127,
              45.3104741999999
             ],
             [
              -77.13831010000001,
              44.790157899999905
             ],
             [
              -77.8688576,
              44.92858479999993
             ]
            ]
           ],
           "type": "Polygon"
          },
          "id": "S5_07724_4507_20070505",
          "properties": {
           "abstract": null,
           "downloadLink": "https://fake-endpoint/collections/canada_spot5_orthoimages/items/S5_07724_4507_20070505",
           "eo:bands": [
            {
             "common_name": "panchromatic",
             "description": "Panchromatic: 480-710 nm",
             "name": "Panchromatic"
            },
            {
             "common_name": "green",
             "description": "Green: 500-590 nm",
             "name": "Green"
            },
            {
             "common_name": "red",
             "description": "Red: 610-680 nm",
             "name": "Red"
            },
            {
             "common_name": "nir",
             "description": "Near Infrared: 780-890 nm",
             "name": "Near Infrared"
            },
            {
             "common_name": "swir",
             "description": "ShortWave Infrared: 1580-1750 nm",
             "name": "ShortWave Infrared"
            }
           ],
           "eodag_product_type": null,
           "eodag_provider": "stac_http_provider",
           "eodag_search_intersection": {
            "geometries": [],
            "type": "GeometryCollection"
           },
           "instrument": null,
           "license": null,
           "missionStartDate": null,
           "platform": null,
           "platformSerialIdentifier": null,
           "processingLevel": null,
           "productType": "canada_spot5_orthoimages",
           "proj:epsg": 3979,
           "resolution": 20,
           "sensorType": null,
           "startTimeFromAscendingNode": "2007-05-05T00:00:00Z",
           "storageStatus": "ONLINE",
           "style": {
            "color": "green"
           },
           "thumbnail": "https://canada-spot-ortho.s3.amazonaws.com/canada_spot_orthoimages/canada_spot5_orthoimages/S5_2007/S5_07724_4507_20070505/s5_07724_4507_20070505_tn.jpg",
           "title": "S5_07724_4507_20070505"
          },
          "type": "Feature"
         }
        ],
        "type": "FeatureCollection"
       },
       "name": "",
       "options": [],
       "popup": null,
       "popup_max_height": null,
       "popup_max_width": 300,
       "popup_min_width": 50,
       "style": {
        "color": "green"
       }
      }
     },
     "aca703e044dc4119aed3370baa7a900d": {
      "model_module": "jupyter-leaflet",
      "model_module_version": "^0.13.5",
      "model_name": "LeafletMapStyleModel",
      "state": {
       "_model_module_version": "^0.13.5"
      }
     },
     "adde8b2d20f54b46857884faeab3f05a": {
      "model_module": "jupyter-leaflet",
      "model_module_version": "^0.13.5",
      "model_name": "LeafletGeoJSONModel",
      "state": {
       "_model_module": "jupyter-leaflet",
       "_model_module_version": "^0.13.5",
       "_view_count": null,
       "_view_module": "jupyter-leaflet",
       "_view_module_version": "^0.13.5",
       "base": false,
       "bottom": false,
       "data": {
        "coordinates": [
         [
          [
           -70,
           45
          ],
          [
           -75,
           52
          ],
          [
           -80,
           52
          ],
          [
           -80,
           44
          ],
          [
           -70,
           45
          ]
         ]
        ],
        "type": "Polygon"
       },
       "name": "",
       "options": [],
       "popup": null,
       "popup_max_height": null,
       "popup_max_width": 300,
       "popup_min_width": 50,
       "style": {
        "color": "blue"
       }
      }
     },
     "ae645aab133a41d8a843fe434f343980": {
      "model_module": "jupyter-leaflet",
      "model_module_version": "^0.13.5",
      "model_name": "LeafletTileLayerModel",
      "state": {
       "_model_module_version": "^0.13.5",
       "_view_module_version": "^0.13.5",
       "base": true,
       "max_native_zoom": 18,
       "max_zoom": 19,
       "min_native_zoom": 0,
       "min_zoom": 1,
       "options": [
        "attribution",
        "detect_retina",
        "max_native_zoom",
        "max_zoom",
        "min_native_zoom",
        "min_zoom",
        "no_wrap",
        "tile_size",
        "tms"
       ]
      }
     },
     "ae8663cb1ad54fe69867cbe46beceb8c": {
      "model_module": "jupyter-leaflet",
      "model_module_version": "^0.13.5",
      "model_name": "LeafletMapStyleModel",
      "state": {
       "_model_module_version": "^0.13.5",
       "cursor": "move"
      }
     },
     "aebd925befb24ff6938f4fb3695ce8f0": {
      "model_module": "jupyter-leaflet",
      "model_module_version": "^0.13.5",
      "model_name": "LeafletAttributionControlModel",
      "state": {
       "_model_module_version": "^0.13.5",
       "_view_module_version": "^0.13.5",
       "options": [
        "position",
        "prefix"
       ],
       "position": "bottomright",
       "prefix": "ipyleaflet"
      }
     },
     "af3298d8e0cd4e2e8423995785fddc69": {
      "model_module": "jupyter-leaflet",
      "model_module_version": "^0.13.5",
      "model_name": "LeafletMapStyleModel",
      "state": {
       "_model_module_version": "^0.13.5"
      }
     },
     "b26493b8331d4e0fb5f32e56b5659fab": {
      "model_module": "@jupyter-widgets/base",
      "model_module_version": "1.2.0",
      "model_name": "LayoutModel",
      "state": {}
     },
     "b2b5ec9699ec4a1ca6ab4b5f7fc12956": {
      "model_module": "jupyter-leaflet",
      "model_module_version": "^0.13.5",
      "model_name": "LeafletGeoJSONModel",
      "state": {
       "_model_module": "jupyter-leaflet",
       "_model_module_version": "^0.13.5",
       "_view_count": null,
       "_view_module": "jupyter-leaflet",
       "_view_module_version": "^0.13.5",
       "base": false,
       "bottom": false,
       "data": {
        "features": [
         {
          "geometry": {
           "coordinates": [
            [
             [
              -77.6897149,
              45.41003529999992
             ],
             [
              -77.493466,
              45.93058879999993
             ],
             [
              -76.7514935,
              45.790705999999915
             ],
             [
              -76.9536275,
              45.27084659999991
             ],
             [
              -77.6897149,
              45.41003529999992
             ]
            ]
           ],
           "type": "Polygon"
          },
          "id": "S5_07713_4536_20070505",
          "properties": {
           "abstract": null,
           "downloadLink": "https://fake-endpoint/collections/canada_spot5_orthoimages/items/S5_07713_4536_20070505",
           "eo:bands": [
            {
             "common_name": "panchromatic",
             "description": "Panchromatic: 480-710 nm",
             "name": "Panchromatic"
            },
            {
             "common_name": "green",
             "description": "Green: 500-590 nm",
             "name": "Green"
            },
            {
             "common_name": "red",
             "description": "Red: 610-680 nm",
             "name": "Red"
            },
            {
             "common_name": "nir",
             "description": "Near Infrared: 780-890 nm",
             "name": "Near Infrared"
            },
            {
             "common_name": "swir",
             "description": "ShortWave Infrared: 1580-1750 nm",
             "name": "ShortWave Infrared"
            }
           ],
           "eodag_product_type": null,
           "eodag_provider": "stac_http_provider",
           "eodag_search_intersection": {
            "geometries": [],
            "type": "GeometryCollection"
           },
           "instrument": null,
           "license": null,
           "missionStartDate": null,
           "platform": null,
           "platformSerialIdentifier": null,
           "processingLevel": null,
           "productType": "canada_spot5_orthoimages",
           "proj:epsg": 3979,
           "resolution": 20,
           "sensorType": null,
           "startTimeFromAscendingNode": "2007-05-05T00:00:00Z",
           "storageStatus": "ONLINE",
           "style": {
            "color": "green"
           },
           "thumbnail": "https://canada-spot-ortho.s3.amazonaws.com/canada_spot_orthoimages/canada_spot5_orthoimages/S5_2007/S5_07713_4536_20070505/s5_07713_4536_20070505_tn.jpg",
           "title": "S5_07713_4536_20070505"
          },
          "type": "Feature"
         },
         {
          "geometry": {
           "coordinates": [
            [
             [
              -77.5086458,
              45.89066339999992
             ],
             [
              -77.3097434,
              46.411011399999936
             ],
             [
              -76.56018450000002,
              46.27010199999995
             ],
             [
              -76.766165,
              45.75074559999991
             ],
             [
              -77.5086458,
              45.89066339999992
             ]
            ]
           ],
           "type": "Polygon"
          },
          "id": "S5_07702_4605_20070505",
          "properties": {
           "abstract": null,
           "downloadLink": "https://fake-endpoint/collections/canada_spot5_orthoimages/items/S5_07702_4605_20070505",
           "eo:bands": [
            {
             "common_name": "panchromatic",
             "description": "Panchromatic: 480-710 nm",
             "name": "Panchromatic"
            },
            {
             "common_name": "green",
             "description": "Green: 500-590 nm",
             "name": "Green"
            },
            {
             "common_name": "red",
             "description": "Red: 610-680 nm",
             "name": "Red"
            },
            {
             "common_name": "nir",
             "description": "Near Infrared: 780-890 nm",
             "name": "Near Infrared"
            },
            {
             "common_name": "swir",
             "description": "ShortWave Infrared: 1580-1750 nm",
             "name": "ShortWave Infrared"
            }
           ],
           "eodag_product_type": null,
           "eodag_provider": "stac_http_provider",
           "eodag_search_intersection": {
            "geometries": [],
            "type": "GeometryCollection"
           },
           "instrument": null,
           "license": null,
           "missionStartDate": null,
           "platform": null,
           "platformSerialIdentifier": null,
           "processingLevel": null,
           "productType": "canada_spot5_orthoimages",
           "proj:epsg": 3979,
           "resolution": 20,
           "sensorType": null,
           "startTimeFromAscendingNode": "2007-05-05T00:00:00Z",
           "storageStatus": "ONLINE",
           "style": {
            "color": "green"
           },
           "thumbnail": "https://canada-spot-ortho.s3.amazonaws.com/canada_spot_orthoimages/canada_spot5_orthoimages/S5_2007/S5_07702_4605_20070505/s5_07702_4605_20070505_tn.jpg",
           "title": "S5_07702_4605_20070505"
          },
          "type": "Feature"
         },
         {
          "geometry": {
           "coordinates": [
            [
             [
              -77.8688576,
              44.92858479999993
             ],
             [
              -77.6751065,
              45.44990809999991
             ],
             [
              -76.9381127,
              45.3104741999999
             ],
             [
              -77.13831010000001,
              44.790157899999905
             ],
             [
              -77.8688576,
              44.92858479999993
             ]
            ]
           ],
           "type": "Polygon"
          },
          "id": "S5_07724_4507_20070505",
          "properties": {
           "abstract": null,
           "downloadLink": "https://fake-endpoint/collections/canada_spot5_orthoimages/items/S5_07724_4507_20070505",
           "eo:bands": [
            {
             "common_name": "panchromatic",
             "description": "Panchromatic: 480-710 nm",
             "name": "Panchromatic"
            },
            {
             "common_name": "green",
             "description": "Green: 500-590 nm",
             "name": "Green"
            },
            {
             "common_name": "red",
             "description": "Red: 610-680 nm",
             "name": "Red"
            },
            {
             "common_name": "nir",
             "description": "Near Infrared: 780-890 nm",
             "name": "Near Infrared"
            },
            {
             "common_name": "swir",
             "description": "ShortWave Infrared: 1580-1750 nm",
             "name": "ShortWave Infrared"
            }
           ],
           "eodag_product_type": null,
           "eodag_provider": "stac_http_provider",
           "eodag_search_intersection": {
            "geometries": [],
            "type": "GeometryCollection"
           },
           "instrument": null,
           "license": null,
           "missionStartDate": null,
           "platform": null,
           "platformSerialIdentifier": null,
           "processingLevel": null,
           "productType": "canada_spot5_orthoimages",
           "proj:epsg": 3979,
           "resolution": 20,
           "sensorType": null,
           "startTimeFromAscendingNode": "2007-05-05T00:00:00Z",
           "storageStatus": "ONLINE",
           "style": {
            "color": "green"
           },
           "thumbnail": "https://canada-spot-ortho.s3.amazonaws.com/canada_spot_orthoimages/canada_spot5_orthoimages/S5_2007/S5_07724_4507_20070505/s5_07724_4507_20070505_tn.jpg",
           "title": "S5_07724_4507_20070505"
          },
          "type": "Feature"
         }
        ],
        "type": "FeatureCollection"
       },
       "name": "",
       "options": [],
       "popup": null,
       "popup_max_height": null,
       "popup_max_width": 300,
       "popup_min_width": 50,
       "style": {
        "color": "green"
       }
      }
     },
     "b3847e711e5b43a6a5e30a25cb89e7bc": {
      "model_module": "jupyter-leaflet",
      "model_module_version": "^0.13.5",
      "model_name": "LeafletMapStyleModel",
      "state": {
       "_model_module_version": "^0.13.5"
      }
     },
     "b4a39a6f23d34859832133d2d7764fa7": {
      "model_module": "jupyter-leaflet",
      "model_module_version": "^0.13.5",
      "model_name": "LeafletMapModel",
      "state": {
       "_model_module_version": "^0.13.5",
       "_view_module_version": "^0.13.5",
       "bottom": 895,
       "center": [
        50,
        -100
       ],
       "controls": [
        "IPY_MODEL_600b437ab6a643d5b0166ab0ac460711",
        "IPY_MODEL_aebd925befb24ff6938f4fb3695ce8f0"
       ],
       "default_style": "IPY_MODEL_c5e63d7a290b481ea182111497f881c8",
       "dragging_style": "IPY_MODEL_fef35b68248547bebee89fb56d44632e",
       "east": -15.292968750000002,
       "fullscreen": false,
       "interpolation": "bilinear",
       "layers": [
        "IPY_MODEL_4d570637a02848a48678264354183bb4",
        "IPY_MODEL_24c4b8f8a1b645ef959f7b4a40b0a29d",
        "IPY_MODEL_9db2fafc70f64215a190a2cde13c56e4",
        "IPY_MODEL_e8a4caf51ce74642af679de9aa89ff2c"
       ],
       "layout": "IPY_MODEL_e4c74e57e1814a7ba3e7b6a7b6ea896b",
       "left": -26,
       "modisdate": "yesterday",
       "north": 67.676084581981,
       "options": [
        "bounce_at_zoom_limits",
        "box_zoom",
        "center",
        "close_popup_on_click",
        "double_click_zoom",
        "dragging",
        "fullscreen",
        "inertia",
        "inertia_deceleration",
        "inertia_max_speed",
        "interpolation",
        "keyboard",
        "keyboard_pan_offset",
        "keyboard_zoom_offset",
        "max_zoom",
        "min_zoom",
        "scroll_wheel_zoom",
        "tap",
        "tap_tolerance",
        "touch_zoom",
        "world_copy_jump",
        "zoom",
        "zoom_animation_threshold",
        "zoom_delta",
        "zoom_snap",
        "zoom_start"
       ],
       "right": 937,
       "south": 22.105998799750566,
       "style": "IPY_MODEL_b742ad84a7bc4e8a941ad2eddf4078a9",
       "top": 495,
       "west": -184.57031250000003,
       "window_url": "http://localhost:8888/notebooks/tuto_stac_client.ipynb",
       "zoom": 3
      }
     },
     "b6e27759fd3449988b35e3776181d5c2": {
      "model_module": "jupyter-leaflet",
      "model_module_version": "^0.13.5",
      "model_name": "LeafletMapModel",
      "state": {
       "_model_module_version": "^0.13.5",
       "_view_module_version": "^0.13.5",
       "bottom": 895,
       "center": [
        50,
        -100
       ],
       "controls": [
        "IPY_MODEL_73e49885cd194be0bf49b7a8bbd2afdf",
        "IPY_MODEL_c396f631a64d48c587bc358f59c7bfca"
       ],
       "default_style": "IPY_MODEL_6e50b0dbde684a3a96a427bb99a0baf6",
       "dragging_style": "IPY_MODEL_96d74b68d09e411b9b5974551dfc4d3a",
       "east": -15.292968750000002,
       "fullscreen": false,
       "interpolation": "bilinear",
       "layers": [
        "IPY_MODEL_ae645aab133a41d8a843fe434f343980",
        "IPY_MODEL_4b6d9ec0eb91469a9865130884d460a7",
        "IPY_MODEL_1375ede12599499093c979f958db841d",
        "IPY_MODEL_54e8ebd050a14630b6c26b8b0612a9a4"
       ],
       "layout": "IPY_MODEL_407b81c40d174c8e9e84247de663e19c",
       "left": -26,
       "modisdate": "yesterday",
       "north": 67.676084581981,
       "options": [
        "bounce_at_zoom_limits",
        "box_zoom",
        "center",
        "close_popup_on_click",
        "double_click_zoom",
        "dragging",
        "fullscreen",
        "inertia",
        "inertia_deceleration",
        "inertia_max_speed",
        "interpolation",
        "keyboard",
        "keyboard_pan_offset",
        "keyboard_zoom_offset",
        "max_zoom",
        "min_zoom",
        "scroll_wheel_zoom",
        "tap",
        "tap_tolerance",
        "touch_zoom",
        "world_copy_jump",
        "zoom",
        "zoom_animation_threshold",
        "zoom_delta",
        "zoom_snap",
        "zoom_start"
       ],
       "right": 937,
       "south": 22.105998799750566,
       "style": "IPY_MODEL_0c7820f29ece4a24ac08c7ba0e0bf128",
       "top": 495,
       "west": -184.57031250000003,
       "window_url": "http://localhost:8888/notebooks/tuto_stac_client.ipynb",
       "zoom": 3
      }
     },
     "b742ad84a7bc4e8a941ad2eddf4078a9": {
      "model_module": "jupyter-leaflet",
      "model_module_version": "^0.13.5",
      "model_name": "LeafletMapStyleModel",
      "state": {
       "_model_module_version": "^0.13.5"
      }
     },
     "b82636bc0b634794a64da4ee4a5b8126": {
      "model_module": "jupyter-leaflet",
      "model_module_version": "^0.13.5",
      "model_name": "LeafletGeoJSONModel",
      "state": {
       "_model_module": "jupyter-leaflet",
       "_model_module_version": "^0.13.5",
       "_view_count": null,
       "_view_module": "jupyter-leaflet",
       "_view_module_version": "^0.13.5",
       "base": false,
       "bottom": false,
       "data": {
        "features": [
         {
          "geometry": {
           "coordinates": [
            [
             [
              -81.82939060000001,
              43.97025879999991
             ],
             [
              -81.6293909,
              44.48955959999991
             ],
             [
              -80.8972191,
              44.341560399999906
             ],
             [
              -81.1035722,
              43.82257309999989
             ],
             [
              -81.82939060000001,
              43.97025879999991
             ]
            ]
           ],
           "type": "Polygon"
          },
          "id": "S5_08122_4409_20070504",
          "properties": {
           "abstract": null,
           "downloadLink": "https://fake-endpoint/collections/canada_spot5_orthoimages/items/S5_08122_4409_20070504",
           "eo:bands": [
            {
             "common_name": "panchromatic",
             "description": "Panchromatic: 480-710 nm",
             "name": "Panchromatic"
            },
            {
             "common_name": "green",
             "description": "Green: 500-590 nm",
             "name": "Green"
            },
            {
             "common_name": "red",
             "description": "Red: 610-680 nm",
             "name": "Red"
            },
            {
             "common_name": "nir",
             "description": "Near Infrared: 780-890 nm",
             "name": "Near Infrared"
            },
            {
             "common_name": "swir",
             "description": "ShortWave Infrared: 1580-1750 nm",
             "name": "ShortWave Infrared"
            }
           ],
           "eodag_product_type": null,
           "eodag_provider": "stac_http_provider",
           "eodag_search_intersection": {
            "geometries": [],
            "type": "GeometryCollection"
           },
           "instrument": null,
           "license": null,
           "missionStartDate": null,
           "platform": null,
           "platformSerialIdentifier": null,
           "processingLevel": null,
           "productType": "canada_spot5_orthoimages",
           "proj:epsg": 3979,
           "resolution": 20,
           "sensorType": null,
           "startTimeFromAscendingNode": "2007-05-04T00:00:00Z",
           "storageStatus": "ONLINE",
           "style": {
            "color": "red"
           },
           "thumbnail": "https://canada-spot-ortho.s3.amazonaws.com/canada_spot_orthoimages/canada_spot5_orthoimages/S5_2007/S5_08122_4409_20070504/s5_08122_4409_20070504_tn.jpg",
           "title": "S5_08122_4409_20070504"
          },
          "type": "Feature"
         },
         {
          "geometry": {
           "coordinates": [
            [
             [
              -82.0128118,
              43.486933699999895
             ],
             [
              -81.8154336,
              44.006646199999906
             ],
             [
              -81.0891217,
              43.85927329999989
             ],
             [
              -81.2926142,
              43.340113799999905
             ],
             [
              -82.0128118,
              43.486933699999895
             ]
            ]
           ],
           "type": "Polygon"
          },
          "id": "S5_08133_4340_20070504",
          "properties": {
           "abstract": null,
           "downloadLink": "https://fake-endpoint/collections/canada_spot5_orthoimages/items/S5_08133_4340_20070504",
           "eo:bands": [
            {
             "common_name": "panchromatic",
             "description": "Panchromatic: 480-710 nm",
             "name": "Panchromatic"
            },
            {
             "common_name": "green",
             "description": "Green: 500-590 nm",
             "name": "Green"
            },
            {
             "common_name": "red",
             "description": "Red: 610-680 nm",
             "name": "Red"
            },
            {
             "common_name": "nir",
             "description": "Near Infrared: 780-890 nm",
             "name": "Near Infrared"
            },
            {
             "common_name": "swir",
             "description": "ShortWave Infrared: 1580-1750 nm",
             "name": "ShortWave Infrared"
            }
           ],
           "eodag_product_type": null,
           "eodag_provider": "stac_http_provider",
           "eodag_search_intersection": {
            "geometries": [],
            "type": "GeometryCollection"
           },
           "instrument": null,
           "license": null,
           "missionStartDate": null,
           "platform": null,
           "platformSerialIdentifier": null,
           "processingLevel": null,
           "productType": "canada_spot5_orthoimages",
           "proj:epsg": 3979,
           "resolution": 20,
           "sensorType": null,
           "startTimeFromAscendingNode": "2007-05-04T00:00:00Z",
           "storageStatus": "ONLINE",
           "style": {
            "color": "red"
           },
           "thumbnail": "https://canada-spot-ortho.s3.amazonaws.com/canada_spot_orthoimages/canada_spot5_orthoimages/S5_2007/S5_08133_4340_20070504/s5_08133_4340_20070504_tn.jpg",
           "title": "S5_08133_4340_20070504"
          },
          "type": "Feature"
         },
         {
          "geometry": {
           "coordinates": [
            [
             [
              -82.19413800000001,
              43.002897899999866
             ],
             [
              -81.9983011,
              43.52332569999988
             ],
             [
              -81.2782497,
              43.3766073999999
             ],
             [
              -81.4785564,
              42.85763319999989
             ],
             [
              -82.19413800000001,
              43.002897899999866
             ]
            ]
           ],
           "type": "Polygon"
          },
          "id": "S5_08144_4311_20070504",
          "properties": {
           "abstract": null,
           "downloadLink": "https://fake-endpoint/collections/canada_spot5_orthoimages/items/S5_08144_4311_20070504",
           "eo:bands": [
            {
             "common_name": "panchromatic",
             "description": "Panchromatic: 480-710 nm",
             "name": "Panchromatic"
            },
            {
             "common_name": "green",
             "description": "Green: 500-590 nm",
             "name": "Green"
            },
            {
             "common_name": "red",
             "description": "Red: 610-680 nm",
             "name": "Red"
            },
            {
             "common_name": "nir",
             "description": "Near Infrared: 780-890 nm",
             "name": "Near Infrared"
            },
            {
             "common_name": "swir",
             "description": "ShortWave Infrared: 1580-1750 nm",
             "name": "ShortWave Infrared"
            }
           ],
           "eodag_product_type": null,
           "eodag_provider": "stac_http_provider",
           "eodag_search_intersection": {
            "geometries": [],
            "type": "GeometryCollection"
           },
           "instrument": null,
           "license": null,
           "missionStartDate": null,
           "platform": null,
           "platformSerialIdentifier": null,
           "processingLevel": null,
           "productType": "canada_spot5_orthoimages",
           "proj:epsg": 3979,
           "resolution": 20,
           "sensorType": null,
           "startTimeFromAscendingNode": "2007-05-04T00:00:00Z",
           "storageStatus": "ONLINE",
           "style": {
            "color": "red"
           },
           "thumbnail": "https://canada-spot-ortho.s3.amazonaws.com/canada_spot_orthoimages/canada_spot5_orthoimages/S5_2007/S5_08144_4311_20070504/s5_08144_4311_20070504_tn.jpg",
           "title": "S5_08144_4311_20070504"
          },
          "type": "Feature"
         },
         {
          "geometry": {
           "coordinates": [
            [
             [
              -85.0273477,
              46.859929499999936
             ],
             [
              -84.8043796,
              47.37592669998269
             ],
             [
              -84.02553680000001,
              47.21757089998226
             ],
             [
              -84.2562465,
              46.70048319999994
             ],
             [
              -85.0273477,
              46.859929499999936
             ]
            ]
           ],
           "type": "Polygon"
          },
          "id": "S5_08432_4702_20070503",
          "properties": {
           "abstract": null,
           "downloadLink": "https://fake-endpoint/collections/canada_spot5_orthoimages/items/S5_08432_4702_20070503",
           "eo:bands": [
            {
             "common_name": "panchromatic",
             "description": "Panchromatic: 480-710 nm",
             "name": "Panchromatic"
            },
            {
             "common_name": "green",
             "description": "Green: 500-590 nm",
             "name": "Green"
            },
            {
             "common_name": "red",
             "description": "Red: 610-680 nm",
             "name": "Red"
            },
            {
             "common_name": "nir",
             "description": "Near Infrared: 780-890 nm",
             "name": "Near Infrared"
            },
            {
             "common_name": "swir",
             "description": "ShortWave Infrared: 1580-1750 nm",
             "name": "ShortWave Infrared"
            }
           ],
           "eodag_product_type": null,
           "eodag_provider": "stac_http_provider",
           "eodag_search_intersection": {
            "geometries": [],
            "type": "GeometryCollection"
           },
           "instrument": null,
           "license": null,
           "missionStartDate": null,
           "platform": null,
           "platformSerialIdentifier": null,
           "processingLevel": null,
           "productType": "canada_spot5_orthoimages",
           "proj:epsg": 3979,
           "resolution": 20,
           "sensorType": null,
           "startTimeFromAscendingNode": "2007-05-03T00:00:00Z",
           "storageStatus": "ONLINE",
           "style": {
            "color": "red"
           },
           "thumbnail": "https://canada-spot-ortho.s3.amazonaws.com/canada_spot_orthoimages/canada_spot5_orthoimages/S5_2007/S5_08432_4702_20070503/s5_08432_4702_20070503_tn.jpg",
           "title": "S5_08432_4702_20070503"
          },
          "type": "Feature"
         },
         {
          "geometry": {
           "coordinates": [
            [
             [
              -75.635484,
              49.71080699998813
             ],
             [
              -75.4077832,
              50.22914529998913
             ],
             [
              -74.6039477,
              50.07893649998885
             ],
             [
              -74.839718,
              49.562025099987835
             ],
             [
              -75.635484,
              49.71080699998813
             ]
            ]
           ],
           "type": "Polygon"
          },
          "id": "S5_07507_4954_20070505",
          "properties": {
           "abstract": null,
           "downloadLink": "https://fake-endpoint/collections/canada_spot5_orthoimages/items/S5_07507_4954_20070505",
           "eo:bands": [
            {
             "common_name": "panchromatic",
             "description": "Panchromatic: 480-710 nm",
             "name": "Panchromatic"
            },
            {
             "common_name": "green",
             "description": "Green: 500-590 nm",
             "name": "Green"
            },
            {
             "common_name": "red",
             "description": "Red: 610-680 nm",
             "name": "Red"
            },
            {
             "common_name": "nir",
             "description": "Near Infrared: 780-890 nm",
             "name": "Near Infrared"
            },
            {
             "common_name": "swir",
             "description": "ShortWave Infrared: 1580-1750 nm",
             "name": "ShortWave Infrared"
            }
           ],
           "eodag_product_type": null,
           "eodag_provider": "stac_http_provider",
           "eodag_search_intersection": {
            "geometries": [],
            "type": "GeometryCollection"
           },
           "instrument": null,
           "license": null,
           "missionStartDate": null,
           "platform": null,
           "platformSerialIdentifier": null,
           "processingLevel": null,
           "productType": "canada_spot5_orthoimages",
           "proj:epsg": 3979,
           "resolution": 20,
           "sensorType": null,
           "startTimeFromAscendingNode": "2007-05-05T00:00:00Z",
           "storageStatus": "ONLINE",
           "style": {
            "color": "red"
           },
           "thumbnail": "https://canada-spot-ortho.s3.amazonaws.com/canada_spot_orthoimages/canada_spot5_orthoimages/S5_2007/S5_07507_4954_20070505/s5_07507_4954_20070505_tn.jpg",
           "title": "S5_07507_4954_20070505"
          },
          "type": "Feature"
         },
         {
          "geometry": {
           "coordinates": [
            [
             [
              -82.1791361,
              44.93104039999991
             ],
             [
              -81.9785331,
              45.45127599999993
             ],
             [
              -81.2418256,
              45.30744029999992
             ],
             [
              -81.4473278,
              44.78835739999991
             ],
             [
              -82.1791361,
              44.93104039999991
             ]
            ]
           ],
           "type": "Polygon"
          },
          "id": "S5_08143_4507_20070504",
          "properties": {
           "abstract": null,
           "downloadLink": "https://fake-endpoint/collections/canada_spot5_orthoimages/items/S5_08143_4507_20070504",
           "eo:bands": [
            {
             "common_name": "panchromatic",
             "description": "Panchromatic: 480-710 nm",
             "name": "Panchromatic"
            },
            {
             "common_name": "green",
             "description": "Green: 500-590 nm",
             "name": "Green"
            },
            {
             "common_name": "red",
             "description": "Red: 610-680 nm",
             "name": "Red"
            },
            {
             "common_name": "nir",
             "description": "Near Infrared: 780-890 nm",
             "name": "Near Infrared"
            },
            {
             "common_name": "swir",
             "description": "ShortWave Infrared: 1580-1750 nm",
             "name": "ShortWave Infrared"
            }
           ],
           "eodag_product_type": null,
           "eodag_provider": "stac_http_provider",
           "eodag_search_intersection": {
            "geometries": [],
            "type": "GeometryCollection"
           },
           "instrument": null,
           "license": null,
           "missionStartDate": null,
           "platform": null,
           "platformSerialIdentifier": null,
           "processingLevel": null,
           "productType": "canada_spot5_orthoimages",
           "proj:epsg": 3979,
           "resolution": 20,
           "sensorType": null,
           "startTimeFromAscendingNode": "2007-05-04T00:00:00Z",
           "storageStatus": "ONLINE",
           "style": {
            "color": "red"
           },
           "thumbnail": "https://canada-spot-ortho.s3.amazonaws.com/canada_spot_orthoimages/canada_spot5_orthoimages/S5_2007/S5_08143_4507_20070504/s5_08143_4507_20070504_tn.jpg",
           "title": "S5_08143_4507_20070504"
          },
          "type": "Feature"
         },
         {
          "geometry": {
           "coordinates": [
            [
             [
              -77.6897149,
              45.41003529999992
             ],
             [
              -77.493466,
              45.93058879999993
             ],
             [
              -76.7514935,
              45.790705999999915
             ],
             [
              -76.9536275,
              45.27084659999991
             ],
             [
              -77.6897149,
              45.41003529999992
             ]
            ]
           ],
           "type": "Polygon"
          },
          "id": "S5_07713_4536_20070505",
          "properties": {
           "abstract": null,
           "downloadLink": "https://fake-endpoint/collections/canada_spot5_orthoimages/items/S5_07713_4536_20070505",
           "eo:bands": [
            {
             "common_name": "panchromatic",
             "description": "Panchromatic: 480-710 nm",
             "name": "Panchromatic"
            },
            {
             "common_name": "green",
             "description": "Green: 500-590 nm",
             "name": "Green"
            },
            {
             "common_name": "red",
             "description": "Red: 610-680 nm",
             "name": "Red"
            },
            {
             "common_name": "nir",
             "description": "Near Infrared: 780-890 nm",
             "name": "Near Infrared"
            },
            {
             "common_name": "swir",
             "description": "ShortWave Infrared: 1580-1750 nm",
             "name": "ShortWave Infrared"
            }
           ],
           "eodag_product_type": null,
           "eodag_provider": "stac_http_provider",
           "eodag_search_intersection": {
            "geometries": [],
            "type": "GeometryCollection"
           },
           "instrument": null,
           "license": null,
           "missionStartDate": null,
           "platform": null,
           "platformSerialIdentifier": null,
           "processingLevel": null,
           "productType": "canada_spot5_orthoimages",
           "proj:epsg": 3979,
           "resolution": 20,
           "sensorType": null,
           "startTimeFromAscendingNode": "2007-05-05T00:00:00Z",
           "storageStatus": "ONLINE",
           "style": {
            "color": "red"
           },
           "thumbnail": "https://canada-spot-ortho.s3.amazonaws.com/canada_spot_orthoimages/canada_spot5_orthoimages/S5_2007/S5_07713_4536_20070505/s5_07713_4536_20070505_tn.jpg",
           "title": "S5_07713_4536_20070505"
          },
          "type": "Feature"
         },
         {
          "geometry": {
           "coordinates": [
            [
             [
              -77.5086458,
              45.89066339999992
             ],
             [
              -77.3097434,
              46.411011399999936
             ],
             [
              -76.56018450000002,
              46.27010199999995
             ],
             [
              -76.766165,
              45.75074559999991
             ],
             [
              -77.5086458,
              45.89066339999992
             ]
            ]
           ],
           "type": "Polygon"
          },
          "id": "S5_07702_4605_20070505",
          "properties": {
           "abstract": null,
           "downloadLink": "https://fake-endpoint/collections/canada_spot5_orthoimages/items/S5_07702_4605_20070505",
           "eo:bands": [
            {
             "common_name": "panchromatic",
             "description": "Panchromatic: 480-710 nm",
             "name": "Panchromatic"
            },
            {
             "common_name": "green",
             "description": "Green: 500-590 nm",
             "name": "Green"
            },
            {
             "common_name": "red",
             "description": "Red: 610-680 nm",
             "name": "Red"
            },
            {
             "common_name": "nir",
             "description": "Near Infrared: 780-890 nm",
             "name": "Near Infrared"
            },
            {
             "common_name": "swir",
             "description": "ShortWave Infrared: 1580-1750 nm",
             "name": "ShortWave Infrared"
            }
           ],
           "eodag_product_type": null,
           "eodag_provider": "stac_http_provider",
           "eodag_search_intersection": {
            "geometries": [],
            "type": "GeometryCollection"
           },
           "instrument": null,
           "license": null,
           "missionStartDate": null,
           "platform": null,
           "platformSerialIdentifier": null,
           "processingLevel": null,
           "productType": "canada_spot5_orthoimages",
           "proj:epsg": 3979,
           "resolution": 20,
           "sensorType": null,
           "startTimeFromAscendingNode": "2007-05-05T00:00:00Z",
           "storageStatus": "ONLINE",
           "style": {
            "color": "red"
           },
           "thumbnail": "https://canada-spot-ortho.s3.amazonaws.com/canada_spot_orthoimages/canada_spot5_orthoimages/S5_2007/S5_07702_4605_20070505/s5_07702_4605_20070505_tn.jpg",
           "title": "S5_07702_4605_20070505"
          },
          "type": "Feature"
         },
         {
          "geometry": {
           "coordinates": [
            [
             [
              -84.9345337,
              48.765304799986104
             ],
             [
              -84.7042059,
              49.282367799987256
             ],
             [
              -83.9089622,
              49.126539399986925
             ],
             [
              -84.1474371,
              48.61051919998576
             ],
             [
              -84.9345337,
              48.765304799986104
             ]
            ]
           ],
           "type": "Polygon"
          },
          "id": "S5_08426_4857_20070503",
          "properties": {
           "abstract": null,
           "downloadLink": "https://fake-endpoint/collections/canada_spot5_orthoimages/items/S5_08426_4857_20070503",
           "eo:bands": [
            {
             "common_name": "panchromatic",
             "description": "Panchromatic: 480-710 nm",
             "name": "Panchromatic"
            },
            {
             "common_name": "green",
             "description": "Green: 500-590 nm",
             "name": "Green"
            },
            {
             "common_name": "red",
             "description": "Red: 610-680 nm",
             "name": "Red"
            },
            {
             "common_name": "nir",
             "description": "Near Infrared: 780-890 nm",
             "name": "Near Infrared"
            },
            {
             "common_name": "swir",
             "description": "ShortWave Infrared: 1580-1750 nm",
             "name": "ShortWave Infrared"
            }
           ],
           "eodag_product_type": null,
           "eodag_provider": "stac_http_provider",
           "eodag_search_intersection": {
            "geometries": [],
            "type": "GeometryCollection"
           },
           "instrument": null,
           "license": null,
           "missionStartDate": null,
           "platform": null,
           "platformSerialIdentifier": null,
           "processingLevel": null,
           "productType": "canada_spot5_orthoimages",
           "proj:epsg": 3979,
           "resolution": 20,
           "sensorType": null,
           "startTimeFromAscendingNode": "2007-05-03T00:00:00Z",
           "storageStatus": "ONLINE",
           "style": {
            "color": "red"
           },
           "thumbnail": "https://canada-spot-ortho.s3.amazonaws.com/canada_spot_orthoimages/canada_spot5_orthoimages/S5_2007/S5_08426_4857_20070503/s5_08426_4857_20070503_tn.jpg",
           "title": "S5_08426_4857_20070503"
          },
          "type": "Feature"
         },
         {
          "geometry": {
           "coordinates": [
            [
             [
              -84.8206206,
              47.3379771999826
             ],
             [
              -84.59384510000001,
              47.85419849998393
             ],
             [
              -83.8084865,
              47.69434859998355
             ],
             [
              -84.0433223,
              47.17892369998218
             ],
             [
              -84.8206206,
              47.3379771999826
             ]
            ]
           ],
           "type": "Polygon"
          },
          "id": "S5_08419_4731_20070503",
          "properties": {
           "abstract": null,
           "downloadLink": "https://fake-endpoint/collections/canada_spot5_orthoimages/items/S5_08419_4731_20070503",
           "eo:bands": [
            {
             "common_name": "panchromatic",
             "description": "Panchromatic: 480-710 nm",
             "name": "Panchromatic"
            },
            {
             "common_name": "green",
             "description": "Green: 500-590 nm",
             "name": "Green"
            },
            {
             "common_name": "red",
             "description": "Red: 610-680 nm",
             "name": "Red"
            },
            {
             "common_name": "nir",
             "description": "Near Infrared: 780-890 nm",
             "name": "Near Infrared"
            },
            {
             "common_name": "swir",
             "description": "ShortWave Infrared: 1580-1750 nm",
             "name": "ShortWave Infrared"
            }
           ],
           "eodag_product_type": null,
           "eodag_provider": "stac_http_provider",
           "eodag_search_intersection": {
            "geometries": [],
            "type": "GeometryCollection"
           },
           "instrument": null,
           "license": null,
           "missionStartDate": null,
           "platform": null,
           "platformSerialIdentifier": null,
           "processingLevel": null,
           "productType": "canada_spot5_orthoimages",
           "proj:epsg": 3979,
           "resolution": 20,
           "sensorType": null,
           "startTimeFromAscendingNode": "2007-05-03T00:00:00Z",
           "storageStatus": "ONLINE",
           "style": {
            "color": "red"
           },
           "thumbnail": "https://canada-spot-ortho.s3.amazonaws.com/canada_spot_orthoimages/canada_spot5_orthoimages/S5_2007/S5_08419_4731_20070503/s5_08419_4731_20070503_tn.jpg",
           "title": "S5_08419_4731_20070503"
          },
          "type": "Feature"
         },
         {
          "geometry": {
           "coordinates": [
            [
             [
              -77.8688576,
              44.92858479999993
             ],
             [
              -77.6751065,
              45.44990809999991
             ],
             [
              -76.9381127,
              45.3104741999999
             ],
             [
              -77.13831010000001,
              44.790157899999905
             ],
             [
              -77.8688576,
              44.92858479999993
             ]
            ]
           ],
           "type": "Polygon"
          },
          "id": "S5_07724_4507_20070505",
          "properties": {
           "abstract": null,
           "downloadLink": "https://fake-endpoint/collections/canada_spot5_orthoimages/items/S5_07724_4507_20070505",
           "eo:bands": [
            {
             "common_name": "panchromatic",
             "description": "Panchromatic: 480-710 nm",
             "name": "Panchromatic"
            },
            {
             "common_name": "green",
             "description": "Green: 500-590 nm",
             "name": "Green"
            },
            {
             "common_name": "red",
             "description": "Red: 610-680 nm",
             "name": "Red"
            },
            {
             "common_name": "nir",
             "description": "Near Infrared: 780-890 nm",
             "name": "Near Infrared"
            },
            {
             "common_name": "swir",
             "description": "ShortWave Infrared: 1580-1750 nm",
             "name": "ShortWave Infrared"
            }
           ],
           "eodag_product_type": null,
           "eodag_provider": "stac_http_provider",
           "eodag_search_intersection": {
            "geometries": [],
            "type": "GeometryCollection"
           },
           "instrument": null,
           "license": null,
           "missionStartDate": null,
           "platform": null,
           "platformSerialIdentifier": null,
           "processingLevel": null,
           "productType": "canada_spot5_orthoimages",
           "proj:epsg": 3979,
           "resolution": 20,
           "sensorType": null,
           "startTimeFromAscendingNode": "2007-05-05T00:00:00Z",
           "storageStatus": "ONLINE",
           "style": {
            "color": "red"
           },
           "thumbnail": "https://canada-spot-ortho.s3.amazonaws.com/canada_spot_orthoimages/canada_spot5_orthoimages/S5_2007/S5_07724_4507_20070505/s5_07724_4507_20070505_tn.jpg",
           "title": "S5_07724_4507_20070505"
          },
          "type": "Feature"
         },
         {
          "geometry": {
           "coordinates": [
            [
             [
              -81.6437402,
              44.45305149999991
             ],
             [
              -81.440283,
              44.97205759999991
             ],
             [
              -80.70280270000002,
              44.82283499999992
             ],
             [
              -80.91258470000001,
              44.304634199999924
             ],
             [
              -81.6437402,
              44.45305149999991
             ]
            ]
           ],
           "type": "Polygon"
          },
          "id": "S5_08111_4438_20070504",
          "properties": {
           "abstract": null,
           "downloadLink": "https://fake-endpoint/collections/canada_spot5_orthoimages/items/S5_08111_4438_20070504",
           "eo:bands": [
            {
             "common_name": "panchromatic",
             "description": "Panchromatic: 480-710 nm",
             "name": "Panchromatic"
            },
            {
             "common_name": "green",
             "description": "Green: 500-590 nm",
             "name": "Green"
            },
            {
             "common_name": "red",
             "description": "Red: 610-680 nm",
             "name": "Red"
            },
            {
             "common_name": "nir",
             "description": "Near Infrared: 780-890 nm",
             "name": "Near Infrared"
            },
            {
             "common_name": "swir",
             "description": "ShortWave Infrared: 1580-1750 nm",
             "name": "ShortWave Infrared"
            }
           ],
           "eodag_product_type": null,
           "eodag_provider": "stac_http_provider",
           "eodag_search_intersection": {
            "geometries": [],
            "type": "GeometryCollection"
           },
           "instrument": null,
           "license": null,
           "missionStartDate": null,
           "platform": null,
           "platformSerialIdentifier": null,
           "processingLevel": null,
           "productType": "canada_spot5_orthoimages",
           "proj:epsg": 3979,
           "resolution": 20,
           "sensorType": null,
           "startTimeFromAscendingNode": "2007-05-04T00:00:00Z",
           "storageStatus": "ONLINE",
           "style": {
            "color": "red"
           },
           "thumbnail": "https://canada-spot-ortho.s3.amazonaws.com/canada_spot_orthoimages/canada_spot5_orthoimages/S5_2007/S5_08111_4438_20070504/s5_08111_4438_20070504_tn.jpg",
           "title": "S5_08111_4438_20070504"
          },
          "type": "Feature"
         },
         {
          "geometry": {
           "coordinates": [
            [
             [
              -81.4555888,
              44.9349105999999
             ],
             [
              -81.2491542,
              45.45280749999993
             ],
             [
              -80.5044075,
              45.30292019999991
             ],
             [
              -80.7183832,
              44.78516229999991
             ],
             [
              -81.4555888,
              44.9349105999999
             ]
            ]
           ],
           "type": "Polygon"
          },
          "id": "S5_08059_4507_20070504",
          "properties": {
           "abstract": null,
           "downloadLink": "https://fake-endpoint/collections/canada_spot5_orthoimages/items/S5_08059_4507_20070504",
           "eo:bands": [
            {
             "common_name": "panchromatic",
             "description": "Panchromatic: 480-710 nm",
             "name": "Panchromatic"
            },
            {
             "common_name": "green",
             "description": "Green: 500-590 nm",
             "name": "Green"
            },
            {
             "common_name": "red",
             "description": "Red: 610-680 nm",
             "name": "Red"
            },
            {
             "common_name": "nir",
             "description": "Near Infrared: 780-890 nm",
             "name": "Near Infrared"
            },
            {
             "common_name": "swir",
             "description": "ShortWave Infrared: 1580-1750 nm",
             "name": "ShortWave Infrared"
            }
           ],
           "eodag_product_type": null,
           "eodag_provider": "stac_http_provider",
           "eodag_search_intersection": {
            "geometries": [],
            "type": "GeometryCollection"
           },
           "instrument": null,
           "license": null,
           "missionStartDate": null,
           "platform": null,
           "platformSerialIdentifier": null,
           "processingLevel": null,
           "productType": "canada_spot5_orthoimages",
           "proj:epsg": 3979,
           "resolution": 20,
           "sensorType": null,
           "startTimeFromAscendingNode": "2007-05-04T00:00:00Z",
           "storageStatus": "ONLINE",
           "style": {
            "color": "red"
           },
           "thumbnail": "https://canada-spot-ortho.s3.amazonaws.com/canada_spot_orthoimages/canada_spot5_orthoimages/S5_2007/S5_08059_4507_20070504/s5_08059_4507_20070504_tn.jpg",
           "title": "S5_08059_4507_20070504"
          },
          "type": "Feature"
         },
         {
          "geometry": {
           "coordinates": [
            [
             [
              -86.1595605,
              49.23422629998713
             ],
             [
              -85.9407614,
              49.7529022999882
             ],
             [
              -85.1419636,
              49.60717919998791
             ],
             [
              -85.3685313,
              49.08959189998682
             ],
             [
              -86.1595605,
              49.23422629998713
             ]
            ]
           ],
           "type": "Polygon"
          },
          "id": "S5_08539_4925_20070503",
          "properties": {
           "abstract": null,
           "downloadLink": "https://fake-endpoint/collections/canada_spot5_orthoimages/items/S5_08539_4925_20070503",
           "eo:bands": [
            {
             "common_name": "panchromatic",
             "description": "Panchromatic: 480-710 nm",
             "name": "Panchromatic"
            },
            {
             "common_name": "green",
             "description": "Green: 500-590 nm",
             "name": "Green"
            },
            {
             "common_name": "red",
             "description": "Red: 610-680 nm",
             "name": "Red"
            },
            {
             "common_name": "nir",
             "description": "Near Infrared: 780-890 nm",
             "name": "Near Infrared"
            },
            {
             "common_name": "swir",
             "description": "ShortWave Infrared: 1580-1750 nm",
             "name": "ShortWave Infrared"
            }
           ],
           "eodag_product_type": null,
           "eodag_provider": "stac_http_provider",
           "eodag_search_intersection": {
            "geometries": [],
            "type": "GeometryCollection"
           },
           "instrument": null,
           "license": null,
           "missionStartDate": null,
           "platform": null,
           "platformSerialIdentifier": null,
           "processingLevel": null,
           "productType": "canada_spot5_orthoimages",
           "proj:epsg": 3979,
           "resolution": 20,
           "sensorType": null,
           "startTimeFromAscendingNode": "2007-05-03T00:00:00Z",
           "storageStatus": "ONLINE",
           "style": {
            "color": "red"
           },
           "thumbnail": "https://canada-spot-ortho.s3.amazonaws.com/canada_spot_orthoimages/canada_spot5_orthoimages/S5_2007/S5_08539_4925_20070503/s5_08539_4925_20070503_tn.jpg",
           "title": "S5_08539_4925_20070503"
          },
          "type": "Feature"
         },
         {
          "geometry": {
           "coordinates": [
            [
             [
              -85.1430113,
              48.28905129998501
             ],
             [
              -84.9162353,
              48.80620119998619
             ],
             [
              -84.1287318,
              48.65145419998586
             ],
             [
              -84.3634894,
              48.135371299984634
             ],
             [
              -85.1430113,
              48.28905129998501
             ]
            ]
           ],
           "type": "Polygon"
          },
          "id": "S5_08438_4828_20070503",
          "properties": {
           "abstract": null,
           "downloadLink": "https://fake-endpoint/collections/canada_spot5_orthoimages/items/S5_08438_4828_20070503",
           "eo:bands": [
            {
             "common_name": "panchromatic",
             "description": "Panchromatic: 480-710 nm",
             "name": "Panchromatic"
            },
            {
             "common_name": "green",
             "description": "Green: 500-590 nm",
             "name": "Green"
            },
            {
             "common_name": "red",
             "description": "Red: 610-680 nm",
             "name": "Red"
            },
            {
             "common_name": "nir",
             "description": "Near Infrared: 780-890 nm",
             "name": "Near Infrared"
            },
            {
             "common_name": "swir",
             "description": "ShortWave Infrared: 1580-1750 nm",
             "name": "ShortWave Infrared"
            }
           ],
           "eodag_product_type": null,
           "eodag_provider": "stac_http_provider",
           "eodag_search_intersection": {
            "geometries": [],
            "type": "GeometryCollection"
           },
           "instrument": null,
           "license": null,
           "missionStartDate": null,
           "platform": null,
           "platformSerialIdentifier": null,
           "processingLevel": null,
           "productType": "canada_spot5_orthoimages",
           "proj:epsg": 3979,
           "resolution": 20,
           "sensorType": null,
           "startTimeFromAscendingNode": "2007-05-03T00:00:00Z",
           "storageStatus": "ONLINE",
           "style": {
            "color": "red"
           },
           "thumbnail": "https://canada-spot-ortho.s3.amazonaws.com/canada_spot_orthoimages/canada_spot5_orthoimages/S5_2007/S5_08438_4828_20070503/s5_08438_4828_20070503_tn.jpg",
           "title": "S5_08438_4828_20070503"
          },
          "type": "Feature"
         },
         {
          "geometry": {
           "coordinates": [
            [
             [
              -82.3604829,
              44.4490351999999
             ],
             [
              -82.1638974,
              44.969530699999915
             ],
             [
              -81.4321473,
              44.82679269999993
             ],
             [
              -81.6351024,
              44.307056199999906
             ],
             [
              -82.3604829,
              44.4490351999999
             ]
            ]
           ],
           "type": "Polygon"
          },
          "id": "S5_08154_4438_20070504",
          "properties": {
           "abstract": null,
           "downloadLink": "https://fake-endpoint/collections/canada_spot5_orthoimages/items/S5_08154_4438_20070504",
           "eo:bands": [
            {
             "common_name": "panchromatic",
             "description": "Panchromatic: 480-710 nm",
             "name": "Panchromatic"
            },
            {
             "common_name": "green",
             "description": "Green: 500-590 nm",
             "name": "Green"
            },
            {
             "common_name": "red",
             "description": "Red: 610-680 nm",
             "name": "Red"
            },
            {
             "common_name": "nir",
             "description": "Near Infrared: 780-890 nm",
             "name": "Near Infrared"
            },
            {
             "common_name": "swir",
             "description": "ShortWave Infrared: 1580-1750 nm",
             "name": "ShortWave Infrared"
            }
           ],
           "eodag_product_type": null,
           "eodag_provider": "stac_http_provider",
           "eodag_search_intersection": {
            "geometries": [],
            "type": "GeometryCollection"
           },
           "instrument": null,
           "license": null,
           "missionStartDate": null,
           "platform": null,
           "platformSerialIdentifier": null,
           "processingLevel": null,
           "productType": "canada_spot5_orthoimages",
           "proj:epsg": 3979,
           "resolution": 20,
           "sensorType": null,
           "startTimeFromAscendingNode": "2007-05-04T00:00:00Z",
           "storageStatus": "ONLINE",
           "style": {
            "color": "red"
           },
           "thumbnail": "https://canada-spot-ortho.s3.amazonaws.com/canada_spot_orthoimages/canada_spot5_orthoimages/S5_2007/S5_08154_4438_20070504/s5_08154_4438_20070504_tn.jpg",
           "title": "S5_08154_4438_20070504"
          },
          "type": "Feature"
         },
         {
          "geometry": {
           "coordinates": [
            [
             [
              -76.24385540000002,
              48.284491499985
             ],
             [
              -76.0261593,
              48.80282719998618
             ],
             [
              -75.24409010000001,
              48.65556529998587
             ],
             [
              -75.4693021,
              48.138179499984645
             ],
             [
              -76.24385540000002,
              48.284491499985
             ]
            ]
           ],
           "type": "Polygon"
          },
          "id": "S5_07545_4828_20070505",
          "properties": {
           "abstract": null,
           "downloadLink": "https://fake-endpoint/collections/canada_spot5_orthoimages/items/S5_07545_4828_20070505",
           "eo:bands": [
            {
             "common_name": "panchromatic",
             "description": "Panchromatic: 480-710 nm",
             "name": "Panchromatic"
            },
            {
             "common_name": "green",
             "description": "Green: 500-590 nm",
             "name": "Green"
            },
            {
             "common_name": "red",
             "description": "Red: 610-680 nm",
             "name": "Red"
            },
            {
             "common_name": "nir",
             "description": "Near Infrared: 780-890 nm",
             "name": "Near Infrared"
            },
            {
             "common_name": "swir",
             "description": "ShortWave Infrared: 1580-1750 nm",
             "name": "ShortWave Infrared"
            }
           ],
           "eodag_product_type": null,
           "eodag_provider": "stac_http_provider",
           "eodag_search_intersection": {
            "geometries": [],
            "type": "GeometryCollection"
           },
           "instrument": null,
           "license": null,
           "missionStartDate": null,
           "platform": null,
           "platformSerialIdentifier": null,
           "processingLevel": null,
           "productType": "canada_spot5_orthoimages",
           "proj:epsg": 3979,
           "resolution": 20,
           "sensorType": null,
           "startTimeFromAscendingNode": "2007-05-05T00:00:00Z",
           "storageStatus": "ONLINE",
           "style": {
            "color": "red"
           },
           "thumbnail": "https://canada-spot-ortho.s3.amazonaws.com/canada_spot_orthoimages/canada_spot5_orthoimages/S5_2007/S5_07545_4828_20070505/s5_07545_4828_20070505_tn.jpg",
           "title": "S5_07545_4828_20070505"
          },
          "type": "Feature"
         },
         {
          "geometry": {
           "coordinates": [
            [
             [
              -75.8416676,
              49.236272499987166
             ],
             [
              -75.6169194,
              49.75401399998823
             ],
             [
              -74.8203005,
              49.60474209998792
             ],
             [
              -75.052923,
              49.08803909998684
             ],
             [
              -75.8416676,
              49.236272499987166
             ]
            ]
           ],
           "type": "Polygon"
          },
          "id": "S5_07520_4925_20070505",
          "properties": {
           "abstract": null,
           "downloadLink": "https://fake-endpoint/collections/canada_spot5_orthoimages/items/S5_07520_4925_20070505",
           "eo:bands": [
            {
             "common_name": "panchromatic",
             "description": "Panchromatic: 480-710 nm",
             "name": "Panchromatic"
            },
            {
             "common_name": "green",
             "description": "Green: 500-590 nm",
             "name": "Green"
            },
            {
             "common_name": "red",
             "description": "Red: 610-680 nm",
             "name": "Red"
            },
            {
             "common_name": "nir",
             "description": "Near Infrared: 780-890 nm",
             "name": "Near Infrared"
            },
            {
             "common_name": "swir",
             "description": "ShortWave Infrared: 1580-1750 nm",
             "name": "ShortWave Infrared"
            }
           ],
           "eodag_product_type": null,
           "eodag_provider": "stac_http_provider",
           "eodag_search_intersection": {
            "geometries": [],
            "type": "GeometryCollection"
           },
           "instrument": null,
           "license": null,
           "missionStartDate": null,
           "platform": null,
           "platformSerialIdentifier": null,
           "processingLevel": null,
           "productType": "canada_spot5_orthoimages",
           "proj:epsg": 3979,
           "resolution": 20,
           "sensorType": null,
           "startTimeFromAscendingNode": "2007-05-05T00:00:00Z",
           "storageStatus": "ONLINE",
           "style": {
            "color": "red"
           },
           "thumbnail": "https://canada-spot-ortho.s3.amazonaws.com/canada_spot_orthoimages/canada_spot5_orthoimages/S5_2007/S5_07520_4925_20070505/s5_07520_4925_20070505_tn.jpg",
           "title": "S5_07520_4925_20070505"
          },
          "type": "Feature"
         },
         {
          "geometry": {
           "coordinates": [
            [
             [
              -82.5399498,
              43.96653589999989
             ],
             [
              -82.3458555,
              44.4875308999999
             ],
             [
              -81.6429288,
              44.34954079999989
             ],
             [
              -81.861012,
              43.83442389999987
             ],
             [
              -82.5399498,
              43.96653589999989
             ]
            ]
           ],
           "type": "Polygon"
          },
          "id": "S5_08205_4409_20070504",
          "properties": {
           "abstract": null,
           "downloadLink": "https://fake-endpoint/collections/canada_spot5_orthoimages/items/S5_08205_4409_20070504",
           "eo:bands": [
            {
             "common_name": "panchromatic",
             "description": "Panchromatic: 480-710 nm",
             "name": "Panchromatic"
            },
            {
             "common_name": "green",
             "description": "Green: 500-590 nm",
             "name": "Green"
            },
            {
             "common_name": "red",
             "description": "Red: 610-680 nm",
             "name": "Red"
            },
            {
             "common_name": "nir",
             "description": "Near Infrared: 780-890 nm",
             "name": "Near Infrared"
            },
            {
             "common_name": "swir",
             "description": "ShortWave Infrared: 1580-1750 nm",
             "name": "ShortWave Infrared"
            }
           ],
           "eodag_product_type": null,
           "eodag_provider": "stac_http_provider",
           "eodag_search_intersection": {
            "geometries": [],
            "type": "GeometryCollection"
           },
           "instrument": null,
           "license": null,
           "missionStartDate": null,
           "platform": null,
           "platformSerialIdentifier": null,
           "processingLevel": null,
           "productType": "canada_spot5_orthoimages",
           "proj:epsg": 3979,
           "resolution": 20,
           "sensorType": null,
           "startTimeFromAscendingNode": "2007-05-04T00:00:00Z",
           "storageStatus": "ONLINE",
           "style": {
            "color": "red"
           },
           "thumbnail": "https://canada-spot-ortho.s3.amazonaws.com/canada_spot_orthoimages/canada_spot5_orthoimages/S5_2007/S5_08205_4409_20070504/s5_08205_4409_20070504_tn.jpg",
           "title": "S5_08205_4409_20070504"
          },
          "type": "Feature"
         },
         {
          "geometry": {
           "coordinates": [
            [
             [
              -134.61285240000004,
              59.90237209999863
             ],
             [
              -134.2436326,
              60.40733679999877
             ],
             [
              -133.2247839,
              60.218067899998715
             ],
             [
              -133.60573870000002,
              59.715175899998535
             ],
             [
              -134.61285240000004,
              59.90237209999863
             ]
            ]
           ],
           "type": "Polygon"
          },
          "id": "S5_13355_6004_20070502",
          "properties": {
           "abstract": null,
           "downloadLink": "https://fake-endpoint/collections/canada_spot5_orthoimages/items/S5_13355_6004_20070502",
           "eo:bands": [
            {
             "common_name": "panchromatic",
             "description": "Panchromatic: 480-710 nm",
             "name": "Panchromatic"
            },
            {
             "common_name": "green",
             "description": "Green: 500-590 nm",
             "name": "Green"
            },
            {
             "common_name": "red",
             "description": "Red: 610-680 nm",
             "name": "Red"
            },
            {
             "common_name": "nir",
             "description": "Near Infrared: 780-890 nm",
             "name": "Near Infrared"
            },
            {
             "common_name": "swir",
             "description": "ShortWave Infrared: 1580-1750 nm",
             "name": "ShortWave Infrared"
            }
           ],
           "eodag_product_type": null,
           "eodag_provider": "stac_http_provider",
           "eodag_search_intersection": {
            "geometries": [],
            "type": "GeometryCollection"
           },
           "instrument": null,
           "license": null,
           "missionStartDate": null,
           "platform": null,
           "platformSerialIdentifier": null,
           "processingLevel": null,
           "productType": "canada_spot5_orthoimages",
           "proj:epsg": 3979,
           "resolution": 20,
           "sensorType": null,
           "startTimeFromAscendingNode": "2007-05-02T00:00:00Z",
           "storageStatus": "ONLINE",
           "style": {
            "color": "red"
           },
           "thumbnail": "https://canada-spot-ortho.s3.amazonaws.com/canada_spot_orthoimages/canada_spot5_orthoimages/S5_2007/S5_13355_6004_20070502/s5_13355_6004_20070502_tn.jpg",
           "title": "S5_13355_6004_20070502"
          },
          "type": "Feature"
         },
         {
          "geometry": {
           "coordinates": [
            [
             [
              -75.8321003,
              47.85693209998394
             ],
             [
              -75.5637798,
              48.363290499985176
             ],
             [
              -74.5776358,
              48.12570679998459
             ],
             [
              -74.8555234,
              47.61966979998332
             ],
             [
              -75.8321003,
              47.85693209998394
             ]
            ]
           ],
           "type": "Polygon"
          },
          "id": "S5_07513_4760_20070504",
          "properties": {
           "abstract": null,
           "downloadLink": "https://fake-endpoint/collections/canada_spot5_orthoimages/items/S5_07513_4760_20070504",
           "eo:bands": [
            {
             "common_name": "panchromatic",
             "description": "Panchromatic: 480-710 nm",
             "name": "Panchromatic"
            },
            {
             "common_name": "green",
             "description": "Green: 500-590 nm",
             "name": "Green"
            },
            {
             "common_name": "red",
             "description": "Red: 610-680 nm",
             "name": "Red"
            },
            {
             "common_name": "nir",
             "description": "Near Infrared: 780-890 nm",
             "name": "Near Infrared"
            },
            {
             "common_name": "swir",
             "description": "ShortWave Infrared: 1580-1750 nm",
             "name": "ShortWave Infrared"
            }
           ],
           "eodag_product_type": null,
           "eodag_provider": "stac_http_provider",
           "eodag_search_intersection": {
            "geometries": [],
            "type": "GeometryCollection"
           },
           "instrument": null,
           "license": null,
           "missionStartDate": null,
           "platform": null,
           "platformSerialIdentifier": null,
           "processingLevel": null,
           "productType": "canada_spot5_orthoimages",
           "proj:epsg": 3979,
           "resolution": 20,
           "sensorType": null,
           "startTimeFromAscendingNode": "2007-05-04T00:00:00Z",
           "storageStatus": "ONLINE",
           "style": {
            "color": "red"
           },
           "thumbnail": "https://canada-spot-ortho.s3.amazonaws.com/canada_spot_orthoimages/canada_spot5_orthoimages/S5_2007/S5_07513_4760_20070504/s5_07513_4760_20070504_tn.jpg",
           "title": "S5_07513_4760_20070504"
          },
          "type": "Feature"
         }
        ],
        "type": "FeatureCollection"
       },
       "name": "",
       "options": [],
       "popup": null,
       "popup_max_height": null,
       "popup_max_width": 300,
       "popup_min_width": 50,
       "style": {
        "color": "red"
       }
      }
     },
     "ba3657f2168d45f7b04f686078a57e9e": {
      "model_module": "jupyter-leaflet",
      "model_module_version": "^0.13.5",
      "model_name": "LeafletZoomControlModel",
      "state": {
       "_model_module_version": "^0.13.5",
       "_view_module_version": "^0.13.5",
       "options": [
        "position",
        "zoom_in_text",
        "zoom_in_title",
        "zoom_out_text",
        "zoom_out_title"
       ]
      }
     },
     "bdab16ed5d5f40d183b638c14c43a2b6": {
      "model_module": "@jupyter-widgets/controls",
      "model_module_version": "1.5.0",
      "model_name": "HTMLModel",
      "state": {
       "layout": "IPY_MODEL_f50f28f0dbd148d794252ea8af66393e",
       "style": "IPY_MODEL_138baeb75469449884b7ea8d98d531b0",
       "value": "S5_07702_4605_20070505: 100%"
      }
     },
     "bed3e261342b4c56a2b297362a6af760": {
      "model_module": "@jupyter-widgets/controls",
      "model_module_version": "1.5.0",
      "model_name": "DescriptionStyleModel",
      "state": {
       "description_width": ""
      }
     },
     "bf52c35904d940ce8c40357cbfa819a5": {
      "model_module": "jupyter-leaflet",
      "model_module_version": "^0.13.5",
      "model_name": "LeafletMapStyleModel",
      "state": {
       "_model_module_version": "^0.13.5",
       "cursor": "move"
      }
     },
     "c396f631a64d48c587bc358f59c7bfca": {
      "model_module": "jupyter-leaflet",
      "model_module_version": "^0.13.5",
      "model_name": "LeafletAttributionControlModel",
      "state": {
       "_model_module_version": "^0.13.5",
       "_view_module_version": "^0.13.5",
       "options": [
        "position",
        "prefix"
       ],
       "position": "bottomright",
       "prefix": "ipyleaflet"
      }
     },
     "c3a3a6a6fd104b88a9944e5b4040b980": {
      "model_module": "@jupyter-widgets/controls",
      "model_module_version": "1.5.0",
      "model_name": "HTMLModel",
      "state": {
       "layout": "IPY_MODEL_db65598da4a74bd1b9756c71d25e258d",
       "style": "IPY_MODEL_2825f6b6af8840eaa3c2ee3dd96cc582",
       "value": " 77.7M/77.7M [00:21&lt;00:00, 4.16MB/s]"
      }
     },
     "c5e63d7a290b481ea182111497f881c8": {
      "model_module": "jupyter-leaflet",
      "model_module_version": "^0.13.5",
      "model_name": "LeafletMapStyleModel",
      "state": {
       "_model_module_version": "^0.13.5"
      }
     },
     "c9ae2c4832594f27b64e7238bc313cb5": {
      "model_module": "@jupyter-widgets/controls",
      "model_module_version": "1.5.0",
      "model_name": "DescriptionStyleModel",
      "state": {
       "description_width": ""
      }
     },
     "cba9a6e78ee84485a7d172921e2f8ebe": {
      "model_module": "jupyter-leaflet",
      "model_module_version": "^0.13.5",
      "model_name": "LeafletMapStyleModel",
      "state": {
       "_model_module_version": "^0.13.5"
      }
     },
     "cc03995ea94b4dc2bb46add2fe2afc16": {
      "model_module": "jupyter-leaflet",
      "model_module_version": "^0.13.5",
      "model_name": "LeafletMapStyleModel",
      "state": {
       "_model_module_version": "^0.13.5"
      }
     },
     "d006ed24ecec4a3a94736251cab15a02": {
      "model_module": "jupyter-leaflet",
      "model_module_version": "^0.13.5",
      "model_name": "LeafletGeoJSONModel",
      "state": {
       "_model_module": "jupyter-leaflet",
       "_model_module_version": "^0.13.5",
       "_view_count": null,
       "_view_module": "jupyter-leaflet",
       "_view_module_version": "^0.13.5",
       "base": false,
       "bottom": false,
       "data": {
        "features": [
         {
          "geometry": {
           "coordinates": [
            [
             [
              -81.82939060000001,
              43.97025879999991
             ],
             [
              -81.6293909,
              44.48955959999991
             ],
             [
              -80.8972191,
              44.341560399999906
             ],
             [
              -81.1035722,
              43.82257309999989
             ],
             [
              -81.82939060000001,
              43.97025879999991
             ]
            ]
           ],
           "type": "Polygon"
          },
          "id": "S5_08122_4409_20070504",
          "properties": {
           "abstract": null,
           "downloadLink": "https://fake-endpoint/collections/canada_spot5_orthoimages/items/S5_08122_4409_20070504",
           "eo:bands": [
            {
             "common_name": "panchromatic",
             "description": "Panchromatic: 480-710 nm",
             "name": "Panchromatic"
            },
            {
             "common_name": "green",
             "description": "Green: 500-590 nm",
             "name": "Green"
            },
            {
             "common_name": "red",
             "description": "Red: 610-680 nm",
             "name": "Red"
            },
            {
             "common_name": "nir",
             "description": "Near Infrared: 780-890 nm",
             "name": "Near Infrared"
            },
            {
             "common_name": "swir",
             "description": "ShortWave Infrared: 1580-1750 nm",
             "name": "ShortWave Infrared"
            }
           ],
           "eodag_product_type": null,
           "eodag_provider": "stac_http_provider",
           "eodag_search_intersection": {
            "geometries": [],
            "type": "GeometryCollection"
           },
           "instrument": null,
           "license": null,
           "missionStartDate": null,
           "platform": null,
           "platformSerialIdentifier": null,
           "processingLevel": null,
           "productType": "canada_spot5_orthoimages",
           "proj:epsg": 3979,
           "resolution": 20,
           "sensorType": null,
           "startTimeFromAscendingNode": "2007-05-04T00:00:00Z",
           "storageStatus": "ONLINE",
           "style": {
            "color": "red"
           },
           "thumbnail": "https://canada-spot-ortho.s3.amazonaws.com/canada_spot_orthoimages/canada_spot5_orthoimages/S5_2007/S5_08122_4409_20070504/s5_08122_4409_20070504_tn.jpg",
           "title": "S5_08122_4409_20070504"
          },
          "type": "Feature"
         },
         {
          "geometry": {
           "coordinates": [
            [
             [
              -85.0273477,
              46.859929499999936
             ],
             [
              -84.8043796,
              47.37592669998269
             ],
             [
              -84.02553680000001,
              47.21757089998226
             ],
             [
              -84.2562465,
              46.70048319999994
             ],
             [
              -85.0273477,
              46.859929499999936
             ]
            ]
           ],
           "type": "Polygon"
          },
          "id": "S5_08432_4702_20070503",
          "properties": {
           "abstract": null,
           "downloadLink": "https://fake-endpoint/collections/canada_spot5_orthoimages/items/S5_08432_4702_20070503",
           "eo:bands": [
            {
             "common_name": "panchromatic",
             "description": "Panchromatic: 480-710 nm",
             "name": "Panchromatic"
            },
            {
             "common_name": "green",
             "description": "Green: 500-590 nm",
             "name": "Green"
            },
            {
             "common_name": "red",
             "description": "Red: 610-680 nm",
             "name": "Red"
            },
            {
             "common_name": "nir",
             "description": "Near Infrared: 780-890 nm",
             "name": "Near Infrared"
            },
            {
             "common_name": "swir",
             "description": "ShortWave Infrared: 1580-1750 nm",
             "name": "ShortWave Infrared"
            }
           ],
           "eodag_product_type": null,
           "eodag_provider": "stac_http_provider",
           "eodag_search_intersection": {
            "geometries": [],
            "type": "GeometryCollection"
           },
           "instrument": null,
           "license": null,
           "missionStartDate": null,
           "platform": null,
           "platformSerialIdentifier": null,
           "processingLevel": null,
           "productType": "canada_spot5_orthoimages",
           "proj:epsg": 3979,
           "resolution": 20,
           "sensorType": null,
           "startTimeFromAscendingNode": "2007-05-03T00:00:00Z",
           "storageStatus": "ONLINE",
           "style": {
            "color": "red"
           },
           "thumbnail": "https://canada-spot-ortho.s3.amazonaws.com/canada_spot_orthoimages/canada_spot5_orthoimages/S5_2007/S5_08432_4702_20070503/s5_08432_4702_20070503_tn.jpg",
           "title": "S5_08432_4702_20070503"
          },
          "type": "Feature"
         },
         {
          "geometry": {
           "coordinates": [
            [
             [
              -82.0128118,
              43.486933699999895
             ],
             [
              -81.8154336,
              44.006646199999906
             ],
             [
              -81.0891217,
              43.85927329999989
             ],
             [
              -81.2926142,
              43.340113799999905
             ],
             [
              -82.0128118,
              43.486933699999895
             ]
            ]
           ],
           "type": "Polygon"
          },
          "id": "S5_08133_4340_20070504",
          "properties": {
           "abstract": null,
           "downloadLink": "https://fake-endpoint/collections/canada_spot5_orthoimages/items/S5_08133_4340_20070504",
           "eo:bands": [
            {
             "common_name": "panchromatic",
             "description": "Panchromatic: 480-710 nm",
             "name": "Panchromatic"
            },
            {
             "common_name": "green",
             "description": "Green: 500-590 nm",
             "name": "Green"
            },
            {
             "common_name": "red",
             "description": "Red: 610-680 nm",
             "name": "Red"
            },
            {
             "common_name": "nir",
             "description": "Near Infrared: 780-890 nm",
             "name": "Near Infrared"
            },
            {
             "common_name": "swir",
             "description": "ShortWave Infrared: 1580-1750 nm",
             "name": "ShortWave Infrared"
            }
           ],
           "eodag_product_type": null,
           "eodag_provider": "stac_http_provider",
           "eodag_search_intersection": {
            "geometries": [],
            "type": "GeometryCollection"
           },
           "instrument": null,
           "license": null,
           "missionStartDate": null,
           "platform": null,
           "platformSerialIdentifier": null,
           "processingLevel": null,
           "productType": "canada_spot5_orthoimages",
           "proj:epsg": 3979,
           "resolution": 20,
           "sensorType": null,
           "startTimeFromAscendingNode": "2007-05-04T00:00:00Z",
           "storageStatus": "ONLINE",
           "style": {
            "color": "red"
           },
           "thumbnail": "https://canada-spot-ortho.s3.amazonaws.com/canada_spot_orthoimages/canada_spot5_orthoimages/S5_2007/S5_08133_4340_20070504/s5_08133_4340_20070504_tn.jpg",
           "title": "S5_08133_4340_20070504"
          },
          "type": "Feature"
         },
         {
          "geometry": {
           "coordinates": [
            [
             [
              -82.1791361,
              44.93104039999991
             ],
             [
              -81.9785331,
              45.45127599999993
             ],
             [
              -81.2418256,
              45.30744029999992
             ],
             [
              -81.4473278,
              44.78835739999991
             ],
             [
              -82.1791361,
              44.93104039999991
             ]
            ]
           ],
           "type": "Polygon"
          },
          "id": "S5_08143_4507_20070504",
          "properties": {
           "abstract": null,
           "downloadLink": "https://fake-endpoint/collections/canada_spot5_orthoimages/items/S5_08143_4507_20070504",
           "eo:bands": [
            {
             "common_name": "panchromatic",
             "description": "Panchromatic: 480-710 nm",
             "name": "Panchromatic"
            },
            {
             "common_name": "green",
             "description": "Green: 500-590 nm",
             "name": "Green"
            },
            {
             "common_name": "red",
             "description": "Red: 610-680 nm",
             "name": "Red"
            },
            {
             "common_name": "nir",
             "description": "Near Infrared: 780-890 nm",
             "name": "Near Infrared"
            },
            {
             "common_name": "swir",
             "description": "ShortWave Infrared: 1580-1750 nm",
             "name": "ShortWave Infrared"
            }
           ],
           "eodag_product_type": null,
           "eodag_provider": "stac_http_provider",
           "eodag_search_intersection": {
            "geometries": [],
            "type": "GeometryCollection"
           },
           "instrument": null,
           "license": null,
           "missionStartDate": null,
           "platform": null,
           "platformSerialIdentifier": null,
           "processingLevel": null,
           "productType": "canada_spot5_orthoimages",
           "proj:epsg": 3979,
           "resolution": 20,
           "sensorType": null,
           "startTimeFromAscendingNode": "2007-05-04T00:00:00Z",
           "storageStatus": "ONLINE",
           "style": {
            "color": "red"
           },
           "thumbnail": "https://canada-spot-ortho.s3.amazonaws.com/canada_spot_orthoimages/canada_spot5_orthoimages/S5_2007/S5_08143_4507_20070504/s5_08143_4507_20070504_tn.jpg",
           "title": "S5_08143_4507_20070504"
          },
          "type": "Feature"
         },
         {
          "geometry": {
           "coordinates": [
            [
             [
              -82.19413800000001,
              43.002897899999866
             ],
             [
              -81.9983011,
              43.52332569999988
             ],
             [
              -81.2782497,
              43.3766073999999
             ],
             [
              -81.4785564,
              42.85763319999989
             ],
             [
              -82.19413800000001,
              43.002897899999866
             ]
            ]
           ],
           "type": "Polygon"
          },
          "id": "S5_08144_4311_20070504",
          "properties": {
           "abstract": null,
           "downloadLink": "https://fake-endpoint/collections/canada_spot5_orthoimages/items/S5_08144_4311_20070504",
           "eo:bands": [
            {
             "common_name": "panchromatic",
             "description": "Panchromatic: 480-710 nm",
             "name": "Panchromatic"
            },
            {
             "common_name": "green",
             "description": "Green: 500-590 nm",
             "name": "Green"
            },
            {
             "common_name": "red",
             "description": "Red: 610-680 nm",
             "name": "Red"
            },
            {
             "common_name": "nir",
             "description": "Near Infrared: 780-890 nm",
             "name": "Near Infrared"
            },
            {
             "common_name": "swir",
             "description": "ShortWave Infrared: 1580-1750 nm",
             "name": "ShortWave Infrared"
            }
           ],
           "eodag_product_type": null,
           "eodag_provider": "stac_http_provider",
           "eodag_search_intersection": {
            "geometries": [],
            "type": "GeometryCollection"
           },
           "instrument": null,
           "license": null,
           "missionStartDate": null,
           "platform": null,
           "platformSerialIdentifier": null,
           "processingLevel": null,
           "productType": "canada_spot5_orthoimages",
           "proj:epsg": 3979,
           "resolution": 20,
           "sensorType": null,
           "startTimeFromAscendingNode": "2007-05-04T00:00:00Z",
           "storageStatus": "ONLINE",
           "style": {
            "color": "red"
           },
           "thumbnail": "https://canada-spot-ortho.s3.amazonaws.com/canada_spot_orthoimages/canada_spot5_orthoimages/S5_2007/S5_08144_4311_20070504/s5_08144_4311_20070504_tn.jpg",
           "title": "S5_08144_4311_20070504"
          },
          "type": "Feature"
         },
         {
          "geometry": {
           "coordinates": [
            [
             [
              -75.635484,
              49.71080699998813
             ],
             [
              -75.4077832,
              50.22914529998913
             ],
             [
              -74.6039477,
              50.07893649998885
             ],
             [
              -74.839718,
              49.562025099987835
             ],
             [
              -75.635484,
              49.71080699998813
             ]
            ]
           ],
           "type": "Polygon"
          },
          "id": "S5_07507_4954_20070505",
          "properties": {
           "abstract": null,
           "downloadLink": "https://fake-endpoint/collections/canada_spot5_orthoimages/items/S5_07507_4954_20070505",
           "eo:bands": [
            {
             "common_name": "panchromatic",
             "description": "Panchromatic: 480-710 nm",
             "name": "Panchromatic"
            },
            {
             "common_name": "green",
             "description": "Green: 500-590 nm",
             "name": "Green"
            },
            {
             "common_name": "red",
             "description": "Red: 610-680 nm",
             "name": "Red"
            },
            {
             "common_name": "nir",
             "description": "Near Infrared: 780-890 nm",
             "name": "Near Infrared"
            },
            {
             "common_name": "swir",
             "description": "ShortWave Infrared: 1580-1750 nm",
             "name": "ShortWave Infrared"
            }
           ],
           "eodag_product_type": null,
           "eodag_provider": "stac_http_provider",
           "eodag_search_intersection": {
            "geometries": [],
            "type": "GeometryCollection"
           },
           "instrument": null,
           "license": null,
           "missionStartDate": null,
           "platform": null,
           "platformSerialIdentifier": null,
           "processingLevel": null,
           "productType": "canada_spot5_orthoimages",
           "proj:epsg": 3979,
           "resolution": 20,
           "sensorType": null,
           "startTimeFromAscendingNode": "2007-05-05T00:00:00Z",
           "storageStatus": "ONLINE",
           "style": {
            "color": "red"
           },
           "thumbnail": "https://canada-spot-ortho.s3.amazonaws.com/canada_spot_orthoimages/canada_spot5_orthoimages/S5_2007/S5_07507_4954_20070505/s5_07507_4954_20070505_tn.jpg",
           "title": "S5_07507_4954_20070505"
          },
          "type": "Feature"
         },
         {
          "geometry": {
           "coordinates": [
            [
             [
              -77.5086458,
              45.89066339999992
             ],
             [
              -77.3097434,
              46.411011399999936
             ],
             [
              -76.56018450000002,
              46.27010199999995
             ],
             [
              -76.766165,
              45.75074559999991
             ],
             [
              -77.5086458,
              45.89066339999992
             ]
            ]
           ],
           "type": "Polygon"
          },
          "id": "S5_07702_4605_20070505",
          "properties": {
           "abstract": null,
           "downloadLink": "https://fake-endpoint/collections/canada_spot5_orthoimages/items/S5_07702_4605_20070505",
           "eo:bands": [
            {
             "common_name": "panchromatic",
             "description": "Panchromatic: 480-710 nm",
             "name": "Panchromatic"
            },
            {
             "common_name": "green",
             "description": "Green: 500-590 nm",
             "name": "Green"
            },
            {
             "common_name": "red",
             "description": "Red: 610-680 nm",
             "name": "Red"
            },
            {
             "common_name": "nir",
             "description": "Near Infrared: 780-890 nm",
             "name": "Near Infrared"
            },
            {
             "common_name": "swir",
             "description": "ShortWave Infrared: 1580-1750 nm",
             "name": "ShortWave Infrared"
            }
           ],
           "eodag_product_type": null,
           "eodag_provider": "stac_http_provider",
           "eodag_search_intersection": {
            "geometries": [],
            "type": "GeometryCollection"
           },
           "instrument": null,
           "license": null,
           "missionStartDate": null,
           "platform": null,
           "platformSerialIdentifier": null,
           "processingLevel": null,
           "productType": "canada_spot5_orthoimages",
           "proj:epsg": 3979,
           "resolution": 20,
           "sensorType": null,
           "startTimeFromAscendingNode": "2007-05-05T00:00:00Z",
           "storageStatus": "ONLINE",
           "style": {
            "color": "red"
           },
           "thumbnail": "https://canada-spot-ortho.s3.amazonaws.com/canada_spot_orthoimages/canada_spot5_orthoimages/S5_2007/S5_07702_4605_20070505/s5_07702_4605_20070505_tn.jpg",
           "title": "S5_07702_4605_20070505"
          },
          "type": "Feature"
         },
         {
          "geometry": {
           "coordinates": [
            [
             [
              -77.6897149,
              45.41003529999992
             ],
             [
              -77.493466,
              45.93058879999993
             ],
             [
              -76.7514935,
              45.790705999999915
             ],
             [
              -76.9536275,
              45.27084659999991
             ],
             [
              -77.6897149,
              45.41003529999992
             ]
            ]
           ],
           "type": "Polygon"
          },
          "id": "S5_07713_4536_20070505",
          "properties": {
           "abstract": null,
           "downloadLink": "https://fake-endpoint/collections/canada_spot5_orthoimages/items/S5_07713_4536_20070505",
           "eo:bands": [
            {
             "common_name": "panchromatic",
             "description": "Panchromatic: 480-710 nm",
             "name": "Panchromatic"
            },
            {
             "common_name": "green",
             "description": "Green: 500-590 nm",
             "name": "Green"
            },
            {
             "common_name": "red",
             "description": "Red: 610-680 nm",
             "name": "Red"
            },
            {
             "common_name": "nir",
             "description": "Near Infrared: 780-890 nm",
             "name": "Near Infrared"
            },
            {
             "common_name": "swir",
             "description": "ShortWave Infrared: 1580-1750 nm",
             "name": "ShortWave Infrared"
            }
           ],
           "eodag_product_type": null,
           "eodag_provider": "stac_http_provider",
           "eodag_search_intersection": {
            "geometries": [],
            "type": "GeometryCollection"
           },
           "instrument": null,
           "license": null,
           "missionStartDate": null,
           "platform": null,
           "platformSerialIdentifier": null,
           "processingLevel": null,
           "productType": "canada_spot5_orthoimages",
           "proj:epsg": 3979,
           "resolution": 20,
           "sensorType": null,
           "startTimeFromAscendingNode": "2007-05-05T00:00:00Z",
           "storageStatus": "ONLINE",
           "style": {
            "color": "red"
           },
           "thumbnail": "https://canada-spot-ortho.s3.amazonaws.com/canada_spot_orthoimages/canada_spot5_orthoimages/S5_2007/S5_07713_4536_20070505/s5_07713_4536_20070505_tn.jpg",
           "title": "S5_07713_4536_20070505"
          },
          "type": "Feature"
         },
         {
          "geometry": {
           "coordinates": [
            [
             [
              -84.9345337,
              48.765304799986104
             ],
             [
              -84.7042059,
              49.282367799987256
             ],
             [
              -83.9089622,
              49.126539399986925
             ],
             [
              -84.1474371,
              48.61051919998576
             ],
             [
              -84.9345337,
              48.765304799986104
             ]
            ]
           ],
           "type": "Polygon"
          },
          "id": "S5_08426_4857_20070503",
          "properties": {
           "abstract": null,
           "downloadLink": "https://fake-endpoint/collections/canada_spot5_orthoimages/items/S5_08426_4857_20070503",
           "eo:bands": [
            {
             "common_name": "panchromatic",
             "description": "Panchromatic: 480-710 nm",
             "name": "Panchromatic"
            },
            {
             "common_name": "green",
             "description": "Green: 500-590 nm",
             "name": "Green"
            },
            {
             "common_name": "red",
             "description": "Red: 610-680 nm",
             "name": "Red"
            },
            {
             "common_name": "nir",
             "description": "Near Infrared: 780-890 nm",
             "name": "Near Infrared"
            },
            {
             "common_name": "swir",
             "description": "ShortWave Infrared: 1580-1750 nm",
             "name": "ShortWave Infrared"
            }
           ],
           "eodag_product_type": null,
           "eodag_provider": "stac_http_provider",
           "eodag_search_intersection": {
            "geometries": [],
            "type": "GeometryCollection"
           },
           "instrument": null,
           "license": null,
           "missionStartDate": null,
           "platform": null,
           "platformSerialIdentifier": null,
           "processingLevel": null,
           "productType": "canada_spot5_orthoimages",
           "proj:epsg": 3979,
           "resolution": 20,
           "sensorType": null,
           "startTimeFromAscendingNode": "2007-05-03T00:00:00Z",
           "storageStatus": "ONLINE",
           "style": {
            "color": "red"
           },
           "thumbnail": "https://canada-spot-ortho.s3.amazonaws.com/canada_spot_orthoimages/canada_spot5_orthoimages/S5_2007/S5_08426_4857_20070503/s5_08426_4857_20070503_tn.jpg",
           "title": "S5_08426_4857_20070503"
          },
          "type": "Feature"
         },
         {
          "geometry": {
           "coordinates": [
            [
             [
              -84.8206206,
              47.3379771999826
             ],
             [
              -84.59384510000001,
              47.85419849998393
             ],
             [
              -83.8084865,
              47.69434859998355
             ],
             [
              -84.0433223,
              47.17892369998218
             ],
             [
              -84.8206206,
              47.3379771999826
             ]
            ]
           ],
           "type": "Polygon"
          },
          "id": "S5_08419_4731_20070503",
          "properties": {
           "abstract": null,
           "downloadLink": "https://fake-endpoint/collections/canada_spot5_orthoimages/items/S5_08419_4731_20070503",
           "eo:bands": [
            {
             "common_name": "panchromatic",
             "description": "Panchromatic: 480-710 nm",
             "name": "Panchromatic"
            },
            {
             "common_name": "green",
             "description": "Green: 500-590 nm",
             "name": "Green"
            },
            {
             "common_name": "red",
             "description": "Red: 610-680 nm",
             "name": "Red"
            },
            {
             "common_name": "nir",
             "description": "Near Infrared: 780-890 nm",
             "name": "Near Infrared"
            },
            {
             "common_name": "swir",
             "description": "ShortWave Infrared: 1580-1750 nm",
             "name": "ShortWave Infrared"
            }
           ],
           "eodag_product_type": null,
           "eodag_provider": "stac_http_provider",
           "eodag_search_intersection": {
            "geometries": [],
            "type": "GeometryCollection"
           },
           "instrument": null,
           "license": null,
           "missionStartDate": null,
           "platform": null,
           "platformSerialIdentifier": null,
           "processingLevel": null,
           "productType": "canada_spot5_orthoimages",
           "proj:epsg": 3979,
           "resolution": 20,
           "sensorType": null,
           "startTimeFromAscendingNode": "2007-05-03T00:00:00Z",
           "storageStatus": "ONLINE",
           "style": {
            "color": "red"
           },
           "thumbnail": "https://canada-spot-ortho.s3.amazonaws.com/canada_spot_orthoimages/canada_spot5_orthoimages/S5_2007/S5_08419_4731_20070503/s5_08419_4731_20070503_tn.jpg",
           "title": "S5_08419_4731_20070503"
          },
          "type": "Feature"
         },
         {
          "geometry": {
           "coordinates": [
            [
             [
              -77.8688576,
              44.92858479999993
             ],
             [
              -77.6751065,
              45.44990809999991
             ],
             [
              -76.9381127,
              45.3104741999999
             ],
             [
              -77.13831010000001,
              44.790157899999905
             ],
             [
              -77.8688576,
              44.92858479999993
             ]
            ]
           ],
           "type": "Polygon"
          },
          "id": "S5_07724_4507_20070505",
          "properties": {
           "abstract": null,
           "downloadLink": "https://fake-endpoint/collections/canada_spot5_orthoimages/items/S5_07724_4507_20070505",
           "eo:bands": [
            {
             "common_name": "panchromatic",
             "description": "Panchromatic: 480-710 nm",
             "name": "Panchromatic"
            },
            {
             "common_name": "green",
             "description": "Green: 500-590 nm",
             "name": "Green"
            },
            {
             "common_name": "red",
             "description": "Red: 610-680 nm",
             "name": "Red"
            },
            {
             "common_name": "nir",
             "description": "Near Infrared: 780-890 nm",
             "name": "Near Infrared"
            },
            {
             "common_name": "swir",
             "description": "ShortWave Infrared: 1580-1750 nm",
             "name": "ShortWave Infrared"
            }
           ],
           "eodag_product_type": null,
           "eodag_provider": "stac_http_provider",
           "eodag_search_intersection": {
            "geometries": [],
            "type": "GeometryCollection"
           },
           "instrument": null,
           "license": null,
           "missionStartDate": null,
           "platform": null,
           "platformSerialIdentifier": null,
           "processingLevel": null,
           "productType": "canada_spot5_orthoimages",
           "proj:epsg": 3979,
           "resolution": 20,
           "sensorType": null,
           "startTimeFromAscendingNode": "2007-05-05T00:00:00Z",
           "storageStatus": "ONLINE",
           "style": {
            "color": "red"
           },
           "thumbnail": "https://canada-spot-ortho.s3.amazonaws.com/canada_spot_orthoimages/canada_spot5_orthoimages/S5_2007/S5_07724_4507_20070505/s5_07724_4507_20070505_tn.jpg",
           "title": "S5_07724_4507_20070505"
          },
          "type": "Feature"
         },
         {
          "geometry": {
           "coordinates": [
            [
             [
              -86.1595605,
              49.23422629998713
             ],
             [
              -85.9407614,
              49.7529022999882
             ],
             [
              -85.1419636,
              49.60717919998791
             ],
             [
              -85.3685313,
              49.08959189998682
             ],
             [
              -86.1595605,
              49.23422629998713
             ]
            ]
           ],
           "type": "Polygon"
          },
          "id": "S5_08539_4925_20070503",
          "properties": {
           "abstract": null,
           "downloadLink": "https://fake-endpoint/collections/canada_spot5_orthoimages/items/S5_08539_4925_20070503",
           "eo:bands": [
            {
             "common_name": "panchromatic",
             "description": "Panchromatic: 480-710 nm",
             "name": "Panchromatic"
            },
            {
             "common_name": "green",
             "description": "Green: 500-590 nm",
             "name": "Green"
            },
            {
             "common_name": "red",
             "description": "Red: 610-680 nm",
             "name": "Red"
            },
            {
             "common_name": "nir",
             "description": "Near Infrared: 780-890 nm",
             "name": "Near Infrared"
            },
            {
             "common_name": "swir",
             "description": "ShortWave Infrared: 1580-1750 nm",
             "name": "ShortWave Infrared"
            }
           ],
           "eodag_product_type": null,
           "eodag_provider": "stac_http_provider",
           "eodag_search_intersection": {
            "geometries": [],
            "type": "GeometryCollection"
           },
           "instrument": null,
           "license": null,
           "missionStartDate": null,
           "platform": null,
           "platformSerialIdentifier": null,
           "processingLevel": null,
           "productType": "canada_spot5_orthoimages",
           "proj:epsg": 3979,
           "resolution": 20,
           "sensorType": null,
           "startTimeFromAscendingNode": "2007-05-03T00:00:00Z",
           "storageStatus": "ONLINE",
           "style": {
            "color": "red"
           },
           "thumbnail": "https://canada-spot-ortho.s3.amazonaws.com/canada_spot_orthoimages/canada_spot5_orthoimages/S5_2007/S5_08539_4925_20070503/s5_08539_4925_20070503_tn.jpg",
           "title": "S5_08539_4925_20070503"
          },
          "type": "Feature"
         },
         {
          "geometry": {
           "coordinates": [
            [
             [
              -81.4555888,
              44.9349105999999
             ],
             [
              -81.2491542,
              45.45280749999993
             ],
             [
              -80.5044075,
              45.30292019999991
             ],
             [
              -80.7183832,
              44.78516229999991
             ],
             [
              -81.4555888,
              44.9349105999999
             ]
            ]
           ],
           "type": "Polygon"
          },
          "id": "S5_08059_4507_20070504",
          "properties": {
           "abstract": null,
           "downloadLink": "https://fake-endpoint/collections/canada_spot5_orthoimages/items/S5_08059_4507_20070504",
           "eo:bands": [
            {
             "common_name": "panchromatic",
             "description": "Panchromatic: 480-710 nm",
             "name": "Panchromatic"
            },
            {
             "common_name": "green",
             "description": "Green: 500-590 nm",
             "name": "Green"
            },
            {
             "common_name": "red",
             "description": "Red: 610-680 nm",
             "name": "Red"
            },
            {
             "common_name": "nir",
             "description": "Near Infrared: 780-890 nm",
             "name": "Near Infrared"
            },
            {
             "common_name": "swir",
             "description": "ShortWave Infrared: 1580-1750 nm",
             "name": "ShortWave Infrared"
            }
           ],
           "eodag_product_type": null,
           "eodag_provider": "stac_http_provider",
           "eodag_search_intersection": {
            "geometries": [],
            "type": "GeometryCollection"
           },
           "instrument": null,
           "license": null,
           "missionStartDate": null,
           "platform": null,
           "platformSerialIdentifier": null,
           "processingLevel": null,
           "productType": "canada_spot5_orthoimages",
           "proj:epsg": 3979,
           "resolution": 20,
           "sensorType": null,
           "startTimeFromAscendingNode": "2007-05-04T00:00:00Z",
           "storageStatus": "ONLINE",
           "style": {
            "color": "red"
           },
           "thumbnail": "https://canada-spot-ortho.s3.amazonaws.com/canada_spot_orthoimages/canada_spot5_orthoimages/S5_2007/S5_08059_4507_20070504/s5_08059_4507_20070504_tn.jpg",
           "title": "S5_08059_4507_20070504"
          },
          "type": "Feature"
         },
         {
          "geometry": {
           "coordinates": [
            [
             [
              -81.6437402,
              44.45305149999991
             ],
             [
              -81.440283,
              44.97205759999991
             ],
             [
              -80.70280270000002,
              44.82283499999992
             ],
             [
              -80.91258470000001,
              44.304634199999924
             ],
             [
              -81.6437402,
              44.45305149999991
             ]
            ]
           ],
           "type": "Polygon"
          },
          "id": "S5_08111_4438_20070504",
          "properties": {
           "abstract": null,
           "downloadLink": "https://fake-endpoint/collections/canada_spot5_orthoimages/items/S5_08111_4438_20070504",
           "eo:bands": [
            {
             "common_name": "panchromatic",
             "description": "Panchromatic: 480-710 nm",
             "name": "Panchromatic"
            },
            {
             "common_name": "green",
             "description": "Green: 500-590 nm",
             "name": "Green"
            },
            {
             "common_name": "red",
             "description": "Red: 610-680 nm",
             "name": "Red"
            },
            {
             "common_name": "nir",
             "description": "Near Infrared: 780-890 nm",
             "name": "Near Infrared"
            },
            {
             "common_name": "swir",
             "description": "ShortWave Infrared: 1580-1750 nm",
             "name": "ShortWave Infrared"
            }
           ],
           "eodag_product_type": null,
           "eodag_provider": "stac_http_provider",
           "eodag_search_intersection": {
            "geometries": [],
            "type": "GeometryCollection"
           },
           "instrument": null,
           "license": null,
           "missionStartDate": null,
           "platform": null,
           "platformSerialIdentifier": null,
           "processingLevel": null,
           "productType": "canada_spot5_orthoimages",
           "proj:epsg": 3979,
           "resolution": 20,
           "sensorType": null,
           "startTimeFromAscendingNode": "2007-05-04T00:00:00Z",
           "storageStatus": "ONLINE",
           "style": {
            "color": "red"
           },
           "thumbnail": "https://canada-spot-ortho.s3.amazonaws.com/canada_spot_orthoimages/canada_spot5_orthoimages/S5_2007/S5_08111_4438_20070504/s5_08111_4438_20070504_tn.jpg",
           "title": "S5_08111_4438_20070504"
          },
          "type": "Feature"
         },
         {
          "geometry": {
           "coordinates": [
            [
             [
              -85.1430113,
              48.28905129998501
             ],
             [
              -84.9162353,
              48.80620119998619
             ],
             [
              -84.1287318,
              48.65145419998586
             ],
             [
              -84.3634894,
              48.135371299984634
             ],
             [
              -85.1430113,
              48.28905129998501
             ]
            ]
           ],
           "type": "Polygon"
          },
          "id": "S5_08438_4828_20070503",
          "properties": {
           "abstract": null,
           "downloadLink": "https://fake-endpoint/collections/canada_spot5_orthoimages/items/S5_08438_4828_20070503",
           "eo:bands": [
            {
             "common_name": "panchromatic",
             "description": "Panchromatic: 480-710 nm",
             "name": "Panchromatic"
            },
            {
             "common_name": "green",
             "description": "Green: 500-590 nm",
             "name": "Green"
            },
            {
             "common_name": "red",
             "description": "Red: 610-680 nm",
             "name": "Red"
            },
            {
             "common_name": "nir",
             "description": "Near Infrared: 780-890 nm",
             "name": "Near Infrared"
            },
            {
             "common_name": "swir",
             "description": "ShortWave Infrared: 1580-1750 nm",
             "name": "ShortWave Infrared"
            }
           ],
           "eodag_product_type": null,
           "eodag_provider": "stac_http_provider",
           "eodag_search_intersection": {
            "geometries": [],
            "type": "GeometryCollection"
           },
           "instrument": null,
           "license": null,
           "missionStartDate": null,
           "platform": null,
           "platformSerialIdentifier": null,
           "processingLevel": null,
           "productType": "canada_spot5_orthoimages",
           "proj:epsg": 3979,
           "resolution": 20,
           "sensorType": null,
           "startTimeFromAscendingNode": "2007-05-03T00:00:00Z",
           "storageStatus": "ONLINE",
           "style": {
            "color": "red"
           },
           "thumbnail": "https://canada-spot-ortho.s3.amazonaws.com/canada_spot_orthoimages/canada_spot5_orthoimages/S5_2007/S5_08438_4828_20070503/s5_08438_4828_20070503_tn.jpg",
           "title": "S5_08438_4828_20070503"
          },
          "type": "Feature"
         },
         {
          "geometry": {
           "coordinates": [
            [
             [
              -82.3604829,
              44.4490351999999
             ],
             [
              -82.1638974,
              44.969530699999915
             ],
             [
              -81.4321473,
              44.82679269999993
             ],
             [
              -81.6351024,
              44.307056199999906
             ],
             [
              -82.3604829,
              44.4490351999999
             ]
            ]
           ],
           "type": "Polygon"
          },
          "id": "S5_08154_4438_20070504",
          "properties": {
           "abstract": null,
           "downloadLink": "https://fake-endpoint/collections/canada_spot5_orthoimages/items/S5_08154_4438_20070504",
           "eo:bands": [
            {
             "common_name": "panchromatic",
             "description": "Panchromatic: 480-710 nm",
             "name": "Panchromatic"
            },
            {
             "common_name": "green",
             "description": "Green: 500-590 nm",
             "name": "Green"
            },
            {
             "common_name": "red",
             "description": "Red: 610-680 nm",
             "name": "Red"
            },
            {
             "common_name": "nir",
             "description": "Near Infrared: 780-890 nm",
             "name": "Near Infrared"
            },
            {
             "common_name": "swir",
             "description": "ShortWave Infrared: 1580-1750 nm",
             "name": "ShortWave Infrared"
            }
           ],
           "eodag_product_type": null,
           "eodag_provider": "stac_http_provider",
           "eodag_search_intersection": {
            "geometries": [],
            "type": "GeometryCollection"
           },
           "instrument": null,
           "license": null,
           "missionStartDate": null,
           "platform": null,
           "platformSerialIdentifier": null,
           "processingLevel": null,
           "productType": "canada_spot5_orthoimages",
           "proj:epsg": 3979,
           "resolution": 20,
           "sensorType": null,
           "startTimeFromAscendingNode": "2007-05-04T00:00:00Z",
           "storageStatus": "ONLINE",
           "style": {
            "color": "red"
           },
           "thumbnail": "https://canada-spot-ortho.s3.amazonaws.com/canada_spot_orthoimages/canada_spot5_orthoimages/S5_2007/S5_08154_4438_20070504/s5_08154_4438_20070504_tn.jpg",
           "title": "S5_08154_4438_20070504"
          },
          "type": "Feature"
         },
         {
          "geometry": {
           "coordinates": [
            [
             [
              -76.24385540000002,
              48.284491499985
             ],
             [
              -76.0261593,
              48.80282719998618
             ],
             [
              -75.24409010000001,
              48.65556529998587
             ],
             [
              -75.4693021,
              48.138179499984645
             ],
             [
              -76.24385540000002,
              48.284491499985
             ]
            ]
           ],
           "type": "Polygon"
          },
          "id": "S5_07545_4828_20070505",
          "properties": {
           "abstract": null,
           "downloadLink": "https://fake-endpoint/collections/canada_spot5_orthoimages/items/S5_07545_4828_20070505",
           "eo:bands": [
            {
             "common_name": "panchromatic",
             "description": "Panchromatic: 480-710 nm",
             "name": "Panchromatic"
            },
            {
             "common_name": "green",
             "description": "Green: 500-590 nm",
             "name": "Green"
            },
            {
             "common_name": "red",
             "description": "Red: 610-680 nm",
             "name": "Red"
            },
            {
             "common_name": "nir",
             "description": "Near Infrared: 780-890 nm",
             "name": "Near Infrared"
            },
            {
             "common_name": "swir",
             "description": "ShortWave Infrared: 1580-1750 nm",
             "name": "ShortWave Infrared"
            }
           ],
           "eodag_product_type": null,
           "eodag_provider": "stac_http_provider",
           "eodag_search_intersection": {
            "geometries": [],
            "type": "GeometryCollection"
           },
           "instrument": null,
           "license": null,
           "missionStartDate": null,
           "platform": null,
           "platformSerialIdentifier": null,
           "processingLevel": null,
           "productType": "canada_spot5_orthoimages",
           "proj:epsg": 3979,
           "resolution": 20,
           "sensorType": null,
           "startTimeFromAscendingNode": "2007-05-05T00:00:00Z",
           "storageStatus": "ONLINE",
           "style": {
            "color": "red"
           },
           "thumbnail": "https://canada-spot-ortho.s3.amazonaws.com/canada_spot_orthoimages/canada_spot5_orthoimages/S5_2007/S5_07545_4828_20070505/s5_07545_4828_20070505_tn.jpg",
           "title": "S5_07545_4828_20070505"
          },
          "type": "Feature"
         },
         {
          "geometry": {
           "coordinates": [
            [
             [
              -75.8416676,
              49.236272499987166
             ],
             [
              -75.6169194,
              49.75401399998823
             ],
             [
              -74.8203005,
              49.60474209998792
             ],
             [
              -75.052923,
              49.08803909998684
             ],
             [
              -75.8416676,
              49.236272499987166
             ]
            ]
           ],
           "type": "Polygon"
          },
          "id": "S5_07520_4925_20070505",
          "properties": {
           "abstract": null,
           "downloadLink": "https://fake-endpoint/collections/canada_spot5_orthoimages/items/S5_07520_4925_20070505",
           "eo:bands": [
            {
             "common_name": "panchromatic",
             "description": "Panchromatic: 480-710 nm",
             "name": "Panchromatic"
            },
            {
             "common_name": "green",
             "description": "Green: 500-590 nm",
             "name": "Green"
            },
            {
             "common_name": "red",
             "description": "Red: 610-680 nm",
             "name": "Red"
            },
            {
             "common_name": "nir",
             "description": "Near Infrared: 780-890 nm",
             "name": "Near Infrared"
            },
            {
             "common_name": "swir",
             "description": "ShortWave Infrared: 1580-1750 nm",
             "name": "ShortWave Infrared"
            }
           ],
           "eodag_product_type": null,
           "eodag_provider": "stac_http_provider",
           "eodag_search_intersection": {
            "geometries": [],
            "type": "GeometryCollection"
           },
           "instrument": null,
           "license": null,
           "missionStartDate": null,
           "platform": null,
           "platformSerialIdentifier": null,
           "processingLevel": null,
           "productType": "canada_spot5_orthoimages",
           "proj:epsg": 3979,
           "resolution": 20,
           "sensorType": null,
           "startTimeFromAscendingNode": "2007-05-05T00:00:00Z",
           "storageStatus": "ONLINE",
           "style": {
            "color": "red"
           },
           "thumbnail": "https://canada-spot-ortho.s3.amazonaws.com/canada_spot_orthoimages/canada_spot5_orthoimages/S5_2007/S5_07520_4925_20070505/s5_07520_4925_20070505_tn.jpg",
           "title": "S5_07520_4925_20070505"
          },
          "type": "Feature"
         },
         {
          "geometry": {
           "coordinates": [
            [
             [
              -82.5399498,
              43.96653589999989
             ],
             [
              -82.3458555,
              44.4875308999999
             ],
             [
              -81.6429288,
              44.34954079999989
             ],
             [
              -81.861012,
              43.83442389999987
             ],
             [
              -82.5399498,
              43.96653589999989
             ]
            ]
           ],
           "type": "Polygon"
          },
          "id": "S5_08205_4409_20070504",
          "properties": {
           "abstract": null,
           "downloadLink": "https://fake-endpoint/collections/canada_spot5_orthoimages/items/S5_08205_4409_20070504",
           "eo:bands": [
            {
             "common_name": "panchromatic",
             "description": "Panchromatic: 480-710 nm",
             "name": "Panchromatic"
            },
            {
             "common_name": "green",
             "description": "Green: 500-590 nm",
             "name": "Green"
            },
            {
             "common_name": "red",
             "description": "Red: 610-680 nm",
             "name": "Red"
            },
            {
             "common_name": "nir",
             "description": "Near Infrared: 780-890 nm",
             "name": "Near Infrared"
            },
            {
             "common_name": "swir",
             "description": "ShortWave Infrared: 1580-1750 nm",
             "name": "ShortWave Infrared"
            }
           ],
           "eodag_product_type": null,
           "eodag_provider": "stac_http_provider",
           "eodag_search_intersection": {
            "geometries": [],
            "type": "GeometryCollection"
           },
           "instrument": null,
           "license": null,
           "missionStartDate": null,
           "platform": null,
           "platformSerialIdentifier": null,
           "processingLevel": null,
           "productType": "canada_spot5_orthoimages",
           "proj:epsg": 3979,
           "resolution": 20,
           "sensorType": null,
           "startTimeFromAscendingNode": "2007-05-04T00:00:00Z",
           "storageStatus": "ONLINE",
           "style": {
            "color": "red"
           },
           "thumbnail": "https://canada-spot-ortho.s3.amazonaws.com/canada_spot_orthoimages/canada_spot5_orthoimages/S5_2007/S5_08205_4409_20070504/s5_08205_4409_20070504_tn.jpg",
           "title": "S5_08205_4409_20070504"
          },
          "type": "Feature"
         },
         {
          "geometry": {
           "coordinates": [
            [
             [
              -134.61285240000004,
              59.90237209999863
             ],
             [
              -134.2436326,
              60.40733679999877
             ],
             [
              -133.2247839,
              60.218067899998715
             ],
             [
              -133.60573870000002,
              59.715175899998535
             ],
             [
              -134.61285240000004,
              59.90237209999863
             ]
            ]
           ],
           "type": "Polygon"
          },
          "id": "S5_13355_6004_20070502",
          "properties": {
           "abstract": null,
           "downloadLink": "https://fake-endpoint/collections/canada_spot5_orthoimages/items/S5_13355_6004_20070502",
           "eo:bands": [
            {
             "common_name": "panchromatic",
             "description": "Panchromatic: 480-710 nm",
             "name": "Panchromatic"
            },
            {
             "common_name": "green",
             "description": "Green: 500-590 nm",
             "name": "Green"
            },
            {
             "common_name": "red",
             "description": "Red: 610-680 nm",
             "name": "Red"
            },
            {
             "common_name": "nir",
             "description": "Near Infrared: 780-890 nm",
             "name": "Near Infrared"
            },
            {
             "common_name": "swir",
             "description": "ShortWave Infrared: 1580-1750 nm",
             "name": "ShortWave Infrared"
            }
           ],
           "eodag_product_type": null,
           "eodag_provider": "stac_http_provider",
           "eodag_search_intersection": {
            "geometries": [],
            "type": "GeometryCollection"
           },
           "instrument": null,
           "license": null,
           "missionStartDate": null,
           "platform": null,
           "platformSerialIdentifier": null,
           "processingLevel": null,
           "productType": "canada_spot5_orthoimages",
           "proj:epsg": 3979,
           "resolution": 20,
           "sensorType": null,
           "startTimeFromAscendingNode": "2007-05-02T00:00:00Z",
           "storageStatus": "ONLINE",
           "style": {
            "color": "red"
           },
           "thumbnail": "https://canada-spot-ortho.s3.amazonaws.com/canada_spot_orthoimages/canada_spot5_orthoimages/S5_2007/S5_13355_6004_20070502/s5_13355_6004_20070502_tn.jpg",
           "title": "S5_13355_6004_20070502"
          },
          "type": "Feature"
         },
         {
          "geometry": {
           "coordinates": [
            [
             [
              -75.8321003,
              47.85693209998394
             ],
             [
              -75.5637798,
              48.363290499985176
             ],
             [
              -74.5776358,
              48.12570679998459
             ],
             [
              -74.8555234,
              47.61966979998332
             ],
             [
              -75.8321003,
              47.85693209998394
             ]
            ]
           ],
           "type": "Polygon"
          },
          "id": "S5_07513_4760_20070504",
          "properties": {
           "abstract": null,
           "downloadLink": "https://fake-endpoint/collections/canada_spot5_orthoimages/items/S5_07513_4760_20070504",
           "eo:bands": [
            {
             "common_name": "panchromatic",
             "description": "Panchromatic: 480-710 nm",
             "name": "Panchromatic"
            },
            {
             "common_name": "green",
             "description": "Green: 500-590 nm",
             "name": "Green"
            },
            {
             "common_name": "red",
             "description": "Red: 610-680 nm",
             "name": "Red"
            },
            {
             "common_name": "nir",
             "description": "Near Infrared: 780-890 nm",
             "name": "Near Infrared"
            },
            {
             "common_name": "swir",
             "description": "ShortWave Infrared: 1580-1750 nm",
             "name": "ShortWave Infrared"
            }
           ],
           "eodag_product_type": null,
           "eodag_provider": "stac_http_provider",
           "eodag_search_intersection": {
            "geometries": [],
            "type": "GeometryCollection"
           },
           "instrument": null,
           "license": null,
           "missionStartDate": null,
           "platform": null,
           "platformSerialIdentifier": null,
           "processingLevel": null,
           "productType": "canada_spot5_orthoimages",
           "proj:epsg": 3979,
           "resolution": 20,
           "sensorType": null,
           "startTimeFromAscendingNode": "2007-05-04T00:00:00Z",
           "storageStatus": "ONLINE",
           "style": {
            "color": "red"
           },
           "thumbnail": "https://canada-spot-ortho.s3.amazonaws.com/canada_spot_orthoimages/canada_spot5_orthoimages/S5_2007/S5_07513_4760_20070504/s5_07513_4760_20070504_tn.jpg",
           "title": "S5_07513_4760_20070504"
          },
          "type": "Feature"
         }
        ],
        "type": "FeatureCollection"
       },
       "name": "",
       "options": [],
       "popup": null,
       "popup_max_height": null,
       "popup_max_width": 300,
       "popup_min_width": 50,
       "style": {
        "color": "red"
       }
      }
     },
     "d223bc0ebcfb43aca175ea0c1ef77fd6": {
      "model_module": "@jupyter-widgets/base",
      "model_module_version": "1.2.0",
      "model_name": "LayoutModel",
      "state": {}
     },
     "d2b096a4cc364fb1a2b2c5151a913576": {
      "model_module": "jupyter-leaflet",
      "model_module_version": "^0.13.5",
      "model_name": "LeafletZoomControlModel",
      "state": {
       "_model_module_version": "^0.13.5",
       "_view_module_version": "^0.13.5",
       "options": [
        "position",
        "zoom_in_text",
        "zoom_in_title",
        "zoom_out_text",
        "zoom_out_title"
       ]
      }
     },
     "d3597ca968c143268d1c421c44894167": {
      "model_module": "jupyter-leaflet",
      "model_module_version": "^0.13.5",
      "model_name": "LeafletMapStyleModel",
      "state": {
       "_model_module_version": "^0.13.5"
      }
     },
     "d38fb086b681460a8c636d023617e9f8": {
      "model_module": "jupyter-leaflet",
      "model_module_version": "^0.13.5",
      "model_name": "LeafletGeoJSONModel",
      "state": {
       "_model_module": "jupyter-leaflet",
       "_model_module_version": "^0.13.5",
       "_view_count": null,
       "_view_module": "jupyter-leaflet",
       "_view_module_version": "^0.13.5",
       "base": false,
       "bottom": false,
       "data": {
        "features": [
         {
          "geometry": {
           "coordinates": [
            [
             [
              -82.0128118,
              43.486933699999895
             ],
             [
              -81.8154336,
              44.006646199999906
             ],
             [
              -81.0891217,
              43.85927329999989
             ],
             [
              -81.2926142,
              43.340113799999905
             ],
             [
              -82.0128118,
              43.486933699999895
             ]
            ]
           ],
           "type": "Polygon"
          },
          "id": "S5_08133_4340_20070504",
          "properties": {
           "abstract": null,
           "downloadLink": "https://fake-endpoint/collections/canada_spot5_orthoimages/items/S5_08133_4340_20070504",
           "eo:bands": [
            {
             "common_name": "panchromatic",
             "description": "Panchromatic: 480-710 nm",
             "name": "Panchromatic"
            },
            {
             "common_name": "green",
             "description": "Green: 500-590 nm",
             "name": "Green"
            },
            {
             "common_name": "red",
             "description": "Red: 610-680 nm",
             "name": "Red"
            },
            {
             "common_name": "nir",
             "description": "Near Infrared: 780-890 nm",
             "name": "Near Infrared"
            },
            {
             "common_name": "swir",
             "description": "ShortWave Infrared: 1580-1750 nm",
             "name": "ShortWave Infrared"
            }
           ],
           "eodag_product_type": null,
           "eodag_provider": "stac_http_provider",
           "eodag_search_intersection": {
            "geometries": [],
            "type": "GeometryCollection"
           },
           "instrument": null,
           "license": null,
           "missionStartDate": null,
           "platform": null,
           "platformSerialIdentifier": null,
           "processingLevel": null,
           "productType": "canada_spot5_orthoimages",
           "proj:epsg": 3979,
           "resolution": 20,
           "sensorType": null,
           "startTimeFromAscendingNode": "2007-05-04T00:00:00Z",
           "storageStatus": "ONLINE",
           "style": {
            "color": "red"
           },
           "thumbnail": "https://canada-spot-ortho.s3.amazonaws.com/canada_spot_orthoimages/canada_spot5_orthoimages/S5_2007/S5_08133_4340_20070504/s5_08133_4340_20070504_tn.jpg",
           "title": "S5_08133_4340_20070504"
          },
          "type": "Feature"
         },
         {
          "geometry": {
           "coordinates": [
            [
             [
              -82.1791361,
              44.93104039999991
             ],
             [
              -81.9785331,
              45.45127599999993
             ],
             [
              -81.2418256,
              45.30744029999992
             ],
             [
              -81.4473278,
              44.78835739999991
             ],
             [
              -82.1791361,
              44.93104039999991
             ]
            ]
           ],
           "type": "Polygon"
          },
          "id": "S5_08143_4507_20070504",
          "properties": {
           "abstract": null,
           "downloadLink": "https://fake-endpoint/collections/canada_spot5_orthoimages/items/S5_08143_4507_20070504",
           "eo:bands": [
            {
             "common_name": "panchromatic",
             "description": "Panchromatic: 480-710 nm",
             "name": "Panchromatic"
            },
            {
             "common_name": "green",
             "description": "Green: 500-590 nm",
             "name": "Green"
            },
            {
             "common_name": "red",
             "description": "Red: 610-680 nm",
             "name": "Red"
            },
            {
             "common_name": "nir",
             "description": "Near Infrared: 780-890 nm",
             "name": "Near Infrared"
            },
            {
             "common_name": "swir",
             "description": "ShortWave Infrared: 1580-1750 nm",
             "name": "ShortWave Infrared"
            }
           ],
           "eodag_product_type": null,
           "eodag_provider": "stac_http_provider",
           "eodag_search_intersection": {
            "geometries": [],
            "type": "GeometryCollection"
           },
           "instrument": null,
           "license": null,
           "missionStartDate": null,
           "platform": null,
           "platformSerialIdentifier": null,
           "processingLevel": null,
           "productType": "canada_spot5_orthoimages",
           "proj:epsg": 3979,
           "resolution": 20,
           "sensorType": null,
           "startTimeFromAscendingNode": "2007-05-04T00:00:00Z",
           "storageStatus": "ONLINE",
           "style": {
            "color": "red"
           },
           "thumbnail": "https://canada-spot-ortho.s3.amazonaws.com/canada_spot_orthoimages/canada_spot5_orthoimages/S5_2007/S5_08143_4507_20070504/s5_08143_4507_20070504_tn.jpg",
           "title": "S5_08143_4507_20070504"
          },
          "type": "Feature"
         },
         {
          "geometry": {
           "coordinates": [
            [
             [
              -82.19413800000001,
              43.002897899999866
             ],
             [
              -81.9983011,
              43.52332569999988
             ],
             [
              -81.2782497,
              43.3766073999999
             ],
             [
              -81.4785564,
              42.85763319999989
             ],
             [
              -82.19413800000001,
              43.002897899999866
             ]
            ]
           ],
           "type": "Polygon"
          },
          "id": "S5_08144_4311_20070504",
          "properties": {
           "abstract": null,
           "downloadLink": "https://fake-endpoint/collections/canada_spot5_orthoimages/items/S5_08144_4311_20070504",
           "eo:bands": [
            {
             "common_name": "panchromatic",
             "description": "Panchromatic: 480-710 nm",
             "name": "Panchromatic"
            },
            {
             "common_name": "green",
             "description": "Green: 500-590 nm",
             "name": "Green"
            },
            {
             "common_name": "red",
             "description": "Red: 610-680 nm",
             "name": "Red"
            },
            {
             "common_name": "nir",
             "description": "Near Infrared: 780-890 nm",
             "name": "Near Infrared"
            },
            {
             "common_name": "swir",
             "description": "ShortWave Infrared: 1580-1750 nm",
             "name": "ShortWave Infrared"
            }
           ],
           "eodag_product_type": null,
           "eodag_provider": "stac_http_provider",
           "eodag_search_intersection": {
            "geometries": [],
            "type": "GeometryCollection"
           },
           "instrument": null,
           "license": null,
           "missionStartDate": null,
           "platform": null,
           "platformSerialIdentifier": null,
           "processingLevel": null,
           "productType": "canada_spot5_orthoimages",
           "proj:epsg": 3979,
           "resolution": 20,
           "sensorType": null,
           "startTimeFromAscendingNode": "2007-05-04T00:00:00Z",
           "storageStatus": "ONLINE",
           "style": {
            "color": "red"
           },
           "thumbnail": "https://canada-spot-ortho.s3.amazonaws.com/canada_spot_orthoimages/canada_spot5_orthoimages/S5_2007/S5_08144_4311_20070504/s5_08144_4311_20070504_tn.jpg",
           "title": "S5_08144_4311_20070504"
          },
          "type": "Feature"
         },
         {
          "geometry": {
           "coordinates": [
            [
             [
              -81.82939060000001,
              43.97025879999991
             ],
             [
              -81.6293909,
              44.48955959999991
             ],
             [
              -80.8972191,
              44.341560399999906
             ],
             [
              -81.1035722,
              43.82257309999989
             ],
             [
              -81.82939060000001,
              43.97025879999991
             ]
            ]
           ],
           "type": "Polygon"
          },
          "id": "S5_08122_4409_20070504",
          "properties": {
           "abstract": null,
           "downloadLink": "https://fake-endpoint/collections/canada_spot5_orthoimages/items/S5_08122_4409_20070504",
           "eo:bands": [
            {
             "common_name": "panchromatic",
             "description": "Panchromatic: 480-710 nm",
             "name": "Panchromatic"
            },
            {
             "common_name": "green",
             "description": "Green: 500-590 nm",
             "name": "Green"
            },
            {
             "common_name": "red",
             "description": "Red: 610-680 nm",
             "name": "Red"
            },
            {
             "common_name": "nir",
             "description": "Near Infrared: 780-890 nm",
             "name": "Near Infrared"
            },
            {
             "common_name": "swir",
             "description": "ShortWave Infrared: 1580-1750 nm",
             "name": "ShortWave Infrared"
            }
           ],
           "eodag_product_type": null,
           "eodag_provider": "stac_http_provider",
           "eodag_search_intersection": {
            "geometries": [],
            "type": "GeometryCollection"
           },
           "instrument": null,
           "license": null,
           "missionStartDate": null,
           "platform": null,
           "platformSerialIdentifier": null,
           "processingLevel": null,
           "productType": "canada_spot5_orthoimages",
           "proj:epsg": 3979,
           "resolution": 20,
           "sensorType": null,
           "startTimeFromAscendingNode": "2007-05-04T00:00:00Z",
           "storageStatus": "ONLINE",
           "style": {
            "color": "red"
           },
           "thumbnail": "https://canada-spot-ortho.s3.amazonaws.com/canada_spot_orthoimages/canada_spot5_orthoimages/S5_2007/S5_08122_4409_20070504/s5_08122_4409_20070504_tn.jpg",
           "title": "S5_08122_4409_20070504"
          },
          "type": "Feature"
         },
         {
          "geometry": {
           "coordinates": [
            [
             [
              -85.0273477,
              46.859929499999936
             ],
             [
              -84.8043796,
              47.37592669998269
             ],
             [
              -84.02553680000001,
              47.21757089998226
             ],
             [
              -84.2562465,
              46.70048319999994
             ],
             [
              -85.0273477,
              46.859929499999936
             ]
            ]
           ],
           "type": "Polygon"
          },
          "id": "S5_08432_4702_20070503",
          "properties": {
           "abstract": null,
           "downloadLink": "https://fake-endpoint/collections/canada_spot5_orthoimages/items/S5_08432_4702_20070503",
           "eo:bands": [
            {
             "common_name": "panchromatic",
             "description": "Panchromatic: 480-710 nm",
             "name": "Panchromatic"
            },
            {
             "common_name": "green",
             "description": "Green: 500-590 nm",
             "name": "Green"
            },
            {
             "common_name": "red",
             "description": "Red: 610-680 nm",
             "name": "Red"
            },
            {
             "common_name": "nir",
             "description": "Near Infrared: 780-890 nm",
             "name": "Near Infrared"
            },
            {
             "common_name": "swir",
             "description": "ShortWave Infrared: 1580-1750 nm",
             "name": "ShortWave Infrared"
            }
           ],
           "eodag_product_type": null,
           "eodag_provider": "stac_http_provider",
           "eodag_search_intersection": {
            "geometries": [],
            "type": "GeometryCollection"
           },
           "instrument": null,
           "license": null,
           "missionStartDate": null,
           "platform": null,
           "platformSerialIdentifier": null,
           "processingLevel": null,
           "productType": "canada_spot5_orthoimages",
           "proj:epsg": 3979,
           "resolution": 20,
           "sensorType": null,
           "startTimeFromAscendingNode": "2007-05-03T00:00:00Z",
           "storageStatus": "ONLINE",
           "style": {
            "color": "red"
           },
           "thumbnail": "https://canada-spot-ortho.s3.amazonaws.com/canada_spot_orthoimages/canada_spot5_orthoimages/S5_2007/S5_08432_4702_20070503/s5_08432_4702_20070503_tn.jpg",
           "title": "S5_08432_4702_20070503"
          },
          "type": "Feature"
         },
         {
          "geometry": {
           "coordinates": [
            [
             [
              -77.6897149,
              45.41003529999992
             ],
             [
              -77.493466,
              45.93058879999993
             ],
             [
              -76.7514935,
              45.790705999999915
             ],
             [
              -76.9536275,
              45.27084659999991
             ],
             [
              -77.6897149,
              45.41003529999992
             ]
            ]
           ],
           "type": "Polygon"
          },
          "id": "S5_07713_4536_20070505",
          "properties": {
           "abstract": null,
           "downloadLink": "https://fake-endpoint/collections/canada_spot5_orthoimages/items/S5_07713_4536_20070505",
           "eo:bands": [
            {
             "common_name": "panchromatic",
             "description": "Panchromatic: 480-710 nm",
             "name": "Panchromatic"
            },
            {
             "common_name": "green",
             "description": "Green: 500-590 nm",
             "name": "Green"
            },
            {
             "common_name": "red",
             "description": "Red: 610-680 nm",
             "name": "Red"
            },
            {
             "common_name": "nir",
             "description": "Near Infrared: 780-890 nm",
             "name": "Near Infrared"
            },
            {
             "common_name": "swir",
             "description": "ShortWave Infrared: 1580-1750 nm",
             "name": "ShortWave Infrared"
            }
           ],
           "eodag_product_type": null,
           "eodag_provider": "stac_http_provider",
           "eodag_search_intersection": {
            "geometries": [],
            "type": "GeometryCollection"
           },
           "instrument": null,
           "license": null,
           "missionStartDate": null,
           "platform": null,
           "platformSerialIdentifier": null,
           "processingLevel": null,
           "productType": "canada_spot5_orthoimages",
           "proj:epsg": 3979,
           "resolution": 20,
           "sensorType": null,
           "startTimeFromAscendingNode": "2007-05-05T00:00:00Z",
           "storageStatus": "ONLINE",
           "style": {
            "color": "red"
           },
           "thumbnail": "https://canada-spot-ortho.s3.amazonaws.com/canada_spot_orthoimages/canada_spot5_orthoimages/S5_2007/S5_07713_4536_20070505/s5_07713_4536_20070505_tn.jpg",
           "title": "S5_07713_4536_20070505"
          },
          "type": "Feature"
         },
         {
          "geometry": {
           "coordinates": [
            [
             [
              -75.635484,
              49.71080699998813
             ],
             [
              -75.4077832,
              50.22914529998913
             ],
             [
              -74.6039477,
              50.07893649998885
             ],
             [
              -74.839718,
              49.562025099987835
             ],
             [
              -75.635484,
              49.71080699998813
             ]
            ]
           ],
           "type": "Polygon"
          },
          "id": "S5_07507_4954_20070505",
          "properties": {
           "abstract": null,
           "downloadLink": "https://fake-endpoint/collections/canada_spot5_orthoimages/items/S5_07507_4954_20070505",
           "eo:bands": [
            {
             "common_name": "panchromatic",
             "description": "Panchromatic: 480-710 nm",
             "name": "Panchromatic"
            },
            {
             "common_name": "green",
             "description": "Green: 500-590 nm",
             "name": "Green"
            },
            {
             "common_name": "red",
             "description": "Red: 610-680 nm",
             "name": "Red"
            },
            {
             "common_name": "nir",
             "description": "Near Infrared: 780-890 nm",
             "name": "Near Infrared"
            },
            {
             "common_name": "swir",
             "description": "ShortWave Infrared: 1580-1750 nm",
             "name": "ShortWave Infrared"
            }
           ],
           "eodag_product_type": null,
           "eodag_provider": "stac_http_provider",
           "eodag_search_intersection": {
            "geometries": [],
            "type": "GeometryCollection"
           },
           "instrument": null,
           "license": null,
           "missionStartDate": null,
           "platform": null,
           "platformSerialIdentifier": null,
           "processingLevel": null,
           "productType": "canada_spot5_orthoimages",
           "proj:epsg": 3979,
           "resolution": 20,
           "sensorType": null,
           "startTimeFromAscendingNode": "2007-05-05T00:00:00Z",
           "storageStatus": "ONLINE",
           "style": {
            "color": "red"
           },
           "thumbnail": "https://canada-spot-ortho.s3.amazonaws.com/canada_spot_orthoimages/canada_spot5_orthoimages/S5_2007/S5_07507_4954_20070505/s5_07507_4954_20070505_tn.jpg",
           "title": "S5_07507_4954_20070505"
          },
          "type": "Feature"
         },
         {
          "geometry": {
           "coordinates": [
            [
             [
              -77.5086458,
              45.89066339999992
             ],
             [
              -77.3097434,
              46.411011399999936
             ],
             [
              -76.56018450000002,
              46.27010199999995
             ],
             [
              -76.766165,
              45.75074559999991
             ],
             [
              -77.5086458,
              45.89066339999992
             ]
            ]
           ],
           "type": "Polygon"
          },
          "id": "S5_07702_4605_20070505",
          "properties": {
           "abstract": null,
           "downloadLink": "https://fake-endpoint/collections/canada_spot5_orthoimages/items/S5_07702_4605_20070505",
           "eo:bands": [
            {
             "common_name": "panchromatic",
             "description": "Panchromatic: 480-710 nm",
             "name": "Panchromatic"
            },
            {
             "common_name": "green",
             "description": "Green: 500-590 nm",
             "name": "Green"
            },
            {
             "common_name": "red",
             "description": "Red: 610-680 nm",
             "name": "Red"
            },
            {
             "common_name": "nir",
             "description": "Near Infrared: 780-890 nm",
             "name": "Near Infrared"
            },
            {
             "common_name": "swir",
             "description": "ShortWave Infrared: 1580-1750 nm",
             "name": "ShortWave Infrared"
            }
           ],
           "eodag_product_type": null,
           "eodag_provider": "stac_http_provider",
           "eodag_search_intersection": {
            "geometries": [],
            "type": "GeometryCollection"
           },
           "instrument": null,
           "license": null,
           "missionStartDate": null,
           "platform": null,
           "platformSerialIdentifier": null,
           "processingLevel": null,
           "productType": "canada_spot5_orthoimages",
           "proj:epsg": 3979,
           "resolution": 20,
           "sensorType": null,
           "startTimeFromAscendingNode": "2007-05-05T00:00:00Z",
           "storageStatus": "ONLINE",
           "style": {
            "color": "red"
           },
           "thumbnail": "https://canada-spot-ortho.s3.amazonaws.com/canada_spot_orthoimages/canada_spot5_orthoimages/S5_2007/S5_07702_4605_20070505/s5_07702_4605_20070505_tn.jpg",
           "title": "S5_07702_4605_20070505"
          },
          "type": "Feature"
         },
         {
          "geometry": {
           "coordinates": [
            [
             [
              -84.9345337,
              48.765304799986104
             ],
             [
              -84.7042059,
              49.282367799987256
             ],
             [
              -83.9089622,
              49.126539399986925
             ],
             [
              -84.1474371,
              48.61051919998576
             ],
             [
              -84.9345337,
              48.765304799986104
             ]
            ]
           ],
           "type": "Polygon"
          },
          "id": "S5_08426_4857_20070503",
          "properties": {
           "abstract": null,
           "downloadLink": "https://fake-endpoint/collections/canada_spot5_orthoimages/items/S5_08426_4857_20070503",
           "eo:bands": [
            {
             "common_name": "panchromatic",
             "description": "Panchromatic: 480-710 nm",
             "name": "Panchromatic"
            },
            {
             "common_name": "green",
             "description": "Green: 500-590 nm",
             "name": "Green"
            },
            {
             "common_name": "red",
             "description": "Red: 610-680 nm",
             "name": "Red"
            },
            {
             "common_name": "nir",
             "description": "Near Infrared: 780-890 nm",
             "name": "Near Infrared"
            },
            {
             "common_name": "swir",
             "description": "ShortWave Infrared: 1580-1750 nm",
             "name": "ShortWave Infrared"
            }
           ],
           "eodag_product_type": null,
           "eodag_provider": "stac_http_provider",
           "eodag_search_intersection": {
            "geometries": [],
            "type": "GeometryCollection"
           },
           "instrument": null,
           "license": null,
           "missionStartDate": null,
           "platform": null,
           "platformSerialIdentifier": null,
           "processingLevel": null,
           "productType": "canada_spot5_orthoimages",
           "proj:epsg": 3979,
           "resolution": 20,
           "sensorType": null,
           "startTimeFromAscendingNode": "2007-05-03T00:00:00Z",
           "storageStatus": "ONLINE",
           "style": {
            "color": "red"
           },
           "thumbnail": "https://canada-spot-ortho.s3.amazonaws.com/canada_spot_orthoimages/canada_spot5_orthoimages/S5_2007/S5_08426_4857_20070503/s5_08426_4857_20070503_tn.jpg",
           "title": "S5_08426_4857_20070503"
          },
          "type": "Feature"
         },
         {
          "geometry": {
           "coordinates": [
            [
             [
              -84.8206206,
              47.3379771999826
             ],
             [
              -84.59384510000001,
              47.85419849998393
             ],
             [
              -83.8084865,
              47.69434859998355
             ],
             [
              -84.0433223,
              47.17892369998218
             ],
             [
              -84.8206206,
              47.3379771999826
             ]
            ]
           ],
           "type": "Polygon"
          },
          "id": "S5_08419_4731_20070503",
          "properties": {
           "abstract": null,
           "downloadLink": "https://fake-endpoint/collections/canada_spot5_orthoimages/items/S5_08419_4731_20070503",
           "eo:bands": [
            {
             "common_name": "panchromatic",
             "description": "Panchromatic: 480-710 nm",
             "name": "Panchromatic"
            },
            {
             "common_name": "green",
             "description": "Green: 500-590 nm",
             "name": "Green"
            },
            {
             "common_name": "red",
             "description": "Red: 610-680 nm",
             "name": "Red"
            },
            {
             "common_name": "nir",
             "description": "Near Infrared: 780-890 nm",
             "name": "Near Infrared"
            },
            {
             "common_name": "swir",
             "description": "ShortWave Infrared: 1580-1750 nm",
             "name": "ShortWave Infrared"
            }
           ],
           "eodag_product_type": null,
           "eodag_provider": "stac_http_provider",
           "eodag_search_intersection": {
            "geometries": [],
            "type": "GeometryCollection"
           },
           "instrument": null,
           "license": null,
           "missionStartDate": null,
           "platform": null,
           "platformSerialIdentifier": null,
           "processingLevel": null,
           "productType": "canada_spot5_orthoimages",
           "proj:epsg": 3979,
           "resolution": 20,
           "sensorType": null,
           "startTimeFromAscendingNode": "2007-05-03T00:00:00Z",
           "storageStatus": "ONLINE",
           "style": {
            "color": "red"
           },
           "thumbnail": "https://canada-spot-ortho.s3.amazonaws.com/canada_spot_orthoimages/canada_spot5_orthoimages/S5_2007/S5_08419_4731_20070503/s5_08419_4731_20070503_tn.jpg",
           "title": "S5_08419_4731_20070503"
          },
          "type": "Feature"
         },
         {
          "geometry": {
           "coordinates": [
            [
             [
              -77.8688576,
              44.92858479999993
             ],
             [
              -77.6751065,
              45.44990809999991
             ],
             [
              -76.9381127,
              45.3104741999999
             ],
             [
              -77.13831010000001,
              44.790157899999905
             ],
             [
              -77.8688576,
              44.92858479999993
             ]
            ]
           ],
           "type": "Polygon"
          },
          "id": "S5_07724_4507_20070505",
          "properties": {
           "abstract": null,
           "downloadLink": "https://fake-endpoint/collections/canada_spot5_orthoimages/items/S5_07724_4507_20070505",
           "eo:bands": [
            {
             "common_name": "panchromatic",
             "description": "Panchromatic: 480-710 nm",
             "name": "Panchromatic"
            },
            {
             "common_name": "green",
             "description": "Green: 500-590 nm",
             "name": "Green"
            },
            {
             "common_name": "red",
             "description": "Red: 610-680 nm",
             "name": "Red"
            },
            {
             "common_name": "nir",
             "description": "Near Infrared: 780-890 nm",
             "name": "Near Infrared"
            },
            {
             "common_name": "swir",
             "description": "ShortWave Infrared: 1580-1750 nm",
             "name": "ShortWave Infrared"
            }
           ],
           "eodag_product_type": null,
           "eodag_provider": "stac_http_provider",
           "eodag_search_intersection": {
            "geometries": [],
            "type": "GeometryCollection"
           },
           "instrument": null,
           "license": null,
           "missionStartDate": null,
           "platform": null,
           "platformSerialIdentifier": null,
           "processingLevel": null,
           "productType": "canada_spot5_orthoimages",
           "proj:epsg": 3979,
           "resolution": 20,
           "sensorType": null,
           "startTimeFromAscendingNode": "2007-05-05T00:00:00Z",
           "storageStatus": "ONLINE",
           "style": {
            "color": "red"
           },
           "thumbnail": "https://canada-spot-ortho.s3.amazonaws.com/canada_spot_orthoimages/canada_spot5_orthoimages/S5_2007/S5_07724_4507_20070505/s5_07724_4507_20070505_tn.jpg",
           "title": "S5_07724_4507_20070505"
          },
          "type": "Feature"
         },
         {
          "geometry": {
           "coordinates": [
            [
             [
              -81.4555888,
              44.9349105999999
             ],
             [
              -81.2491542,
              45.45280749999993
             ],
             [
              -80.5044075,
              45.30292019999991
             ],
             [
              -80.7183832,
              44.78516229999991
             ],
             [
              -81.4555888,
              44.9349105999999
             ]
            ]
           ],
           "type": "Polygon"
          },
          "id": "S5_08059_4507_20070504",
          "properties": {
           "abstract": null,
           "downloadLink": "https://fake-endpoint/collections/canada_spot5_orthoimages/items/S5_08059_4507_20070504",
           "eo:bands": [
            {
             "common_name": "panchromatic",
             "description": "Panchromatic: 480-710 nm",
             "name": "Panchromatic"
            },
            {
             "common_name": "green",
             "description": "Green: 500-590 nm",
             "name": "Green"
            },
            {
             "common_name": "red",
             "description": "Red: 610-680 nm",
             "name": "Red"
            },
            {
             "common_name": "nir",
             "description": "Near Infrared: 780-890 nm",
             "name": "Near Infrared"
            },
            {
             "common_name": "swir",
             "description": "ShortWave Infrared: 1580-1750 nm",
             "name": "ShortWave Infrared"
            }
           ],
           "eodag_product_type": null,
           "eodag_provider": "stac_http_provider",
           "eodag_search_intersection": {
            "geometries": [],
            "type": "GeometryCollection"
           },
           "instrument": null,
           "license": null,
           "missionStartDate": null,
           "platform": null,
           "platformSerialIdentifier": null,
           "processingLevel": null,
           "productType": "canada_spot5_orthoimages",
           "proj:epsg": 3979,
           "resolution": 20,
           "sensorType": null,
           "startTimeFromAscendingNode": "2007-05-04T00:00:00Z",
           "storageStatus": "ONLINE",
           "style": {
            "color": "red"
           },
           "thumbnail": "https://canada-spot-ortho.s3.amazonaws.com/canada_spot_orthoimages/canada_spot5_orthoimages/S5_2007/S5_08059_4507_20070504/s5_08059_4507_20070504_tn.jpg",
           "title": "S5_08059_4507_20070504"
          },
          "type": "Feature"
         },
         {
          "geometry": {
           "coordinates": [
            [
             [
              -81.6437402,
              44.45305149999991
             ],
             [
              -81.440283,
              44.97205759999991
             ],
             [
              -80.70280270000002,
              44.82283499999992
             ],
             [
              -80.91258470000001,
              44.304634199999924
             ],
             [
              -81.6437402,
              44.45305149999991
             ]
            ]
           ],
           "type": "Polygon"
          },
          "id": "S5_08111_4438_20070504",
          "properties": {
           "abstract": null,
           "downloadLink": "https://fake-endpoint/collections/canada_spot5_orthoimages/items/S5_08111_4438_20070504",
           "eo:bands": [
            {
             "common_name": "panchromatic",
             "description": "Panchromatic: 480-710 nm",
             "name": "Panchromatic"
            },
            {
             "common_name": "green",
             "description": "Green: 500-590 nm",
             "name": "Green"
            },
            {
             "common_name": "red",
             "description": "Red: 610-680 nm",
             "name": "Red"
            },
            {
             "common_name": "nir",
             "description": "Near Infrared: 780-890 nm",
             "name": "Near Infrared"
            },
            {
             "common_name": "swir",
             "description": "ShortWave Infrared: 1580-1750 nm",
             "name": "ShortWave Infrared"
            }
           ],
           "eodag_product_type": null,
           "eodag_provider": "stac_http_provider",
           "eodag_search_intersection": {
            "geometries": [],
            "type": "GeometryCollection"
           },
           "instrument": null,
           "license": null,
           "missionStartDate": null,
           "platform": null,
           "platformSerialIdentifier": null,
           "processingLevel": null,
           "productType": "canada_spot5_orthoimages",
           "proj:epsg": 3979,
           "resolution": 20,
           "sensorType": null,
           "startTimeFromAscendingNode": "2007-05-04T00:00:00Z",
           "storageStatus": "ONLINE",
           "style": {
            "color": "red"
           },
           "thumbnail": "https://canada-spot-ortho.s3.amazonaws.com/canada_spot_orthoimages/canada_spot5_orthoimages/S5_2007/S5_08111_4438_20070504/s5_08111_4438_20070504_tn.jpg",
           "title": "S5_08111_4438_20070504"
          },
          "type": "Feature"
         },
         {
          "geometry": {
           "coordinates": [
            [
             [
              -86.1595605,
              49.23422629998713
             ],
             [
              -85.9407614,
              49.7529022999882
             ],
             [
              -85.1419636,
              49.60717919998791
             ],
             [
              -85.3685313,
              49.08959189998682
             ],
             [
              -86.1595605,
              49.23422629998713
             ]
            ]
           ],
           "type": "Polygon"
          },
          "id": "S5_08539_4925_20070503",
          "properties": {
           "abstract": null,
           "downloadLink": "https://fake-endpoint/collections/canada_spot5_orthoimages/items/S5_08539_4925_20070503",
           "eo:bands": [
            {
             "common_name": "panchromatic",
             "description": "Panchromatic: 480-710 nm",
             "name": "Panchromatic"
            },
            {
             "common_name": "green",
             "description": "Green: 500-590 nm",
             "name": "Green"
            },
            {
             "common_name": "red",
             "description": "Red: 610-680 nm",
             "name": "Red"
            },
            {
             "common_name": "nir",
             "description": "Near Infrared: 780-890 nm",
             "name": "Near Infrared"
            },
            {
             "common_name": "swir",
             "description": "ShortWave Infrared: 1580-1750 nm",
             "name": "ShortWave Infrared"
            }
           ],
           "eodag_product_type": null,
           "eodag_provider": "stac_http_provider",
           "eodag_search_intersection": {
            "geometries": [],
            "type": "GeometryCollection"
           },
           "instrument": null,
           "license": null,
           "missionStartDate": null,
           "platform": null,
           "platformSerialIdentifier": null,
           "processingLevel": null,
           "productType": "canada_spot5_orthoimages",
           "proj:epsg": 3979,
           "resolution": 20,
           "sensorType": null,
           "startTimeFromAscendingNode": "2007-05-03T00:00:00Z",
           "storageStatus": "ONLINE",
           "style": {
            "color": "red"
           },
           "thumbnail": "https://canada-spot-ortho.s3.amazonaws.com/canada_spot_orthoimages/canada_spot5_orthoimages/S5_2007/S5_08539_4925_20070503/s5_08539_4925_20070503_tn.jpg",
           "title": "S5_08539_4925_20070503"
          },
          "type": "Feature"
         },
         {
          "geometry": {
           "coordinates": [
            [
             [
              -85.1430113,
              48.28905129998501
             ],
             [
              -84.9162353,
              48.80620119998619
             ],
             [
              -84.1287318,
              48.65145419998586
             ],
             [
              -84.3634894,
              48.135371299984634
             ],
             [
              -85.1430113,
              48.28905129998501
             ]
            ]
           ],
           "type": "Polygon"
          },
          "id": "S5_08438_4828_20070503",
          "properties": {
           "abstract": null,
           "downloadLink": "https://fake-endpoint/collections/canada_spot5_orthoimages/items/S5_08438_4828_20070503",
           "eo:bands": [
            {
             "common_name": "panchromatic",
             "description": "Panchromatic: 480-710 nm",
             "name": "Panchromatic"
            },
            {
             "common_name": "green",
             "description": "Green: 500-590 nm",
             "name": "Green"
            },
            {
             "common_name": "red",
             "description": "Red: 610-680 nm",
             "name": "Red"
            },
            {
             "common_name": "nir",
             "description": "Near Infrared: 780-890 nm",
             "name": "Near Infrared"
            },
            {
             "common_name": "swir",
             "description": "ShortWave Infrared: 1580-1750 nm",
             "name": "ShortWave Infrared"
            }
           ],
           "eodag_product_type": null,
           "eodag_provider": "stac_http_provider",
           "eodag_search_intersection": {
            "geometries": [],
            "type": "GeometryCollection"
           },
           "instrument": null,
           "license": null,
           "missionStartDate": null,
           "platform": null,
           "platformSerialIdentifier": null,
           "processingLevel": null,
           "productType": "canada_spot5_orthoimages",
           "proj:epsg": 3979,
           "resolution": 20,
           "sensorType": null,
           "startTimeFromAscendingNode": "2007-05-03T00:00:00Z",
           "storageStatus": "ONLINE",
           "style": {
            "color": "red"
           },
           "thumbnail": "https://canada-spot-ortho.s3.amazonaws.com/canada_spot_orthoimages/canada_spot5_orthoimages/S5_2007/S5_08438_4828_20070503/s5_08438_4828_20070503_tn.jpg",
           "title": "S5_08438_4828_20070503"
          },
          "type": "Feature"
         },
         {
          "geometry": {
           "coordinates": [
            [
             [
              -82.3604829,
              44.4490351999999
             ],
             [
              -82.1638974,
              44.969530699999915
             ],
             [
              -81.4321473,
              44.82679269999993
             ],
             [
              -81.6351024,
              44.307056199999906
             ],
             [
              -82.3604829,
              44.4490351999999
             ]
            ]
           ],
           "type": "Polygon"
          },
          "id": "S5_08154_4438_20070504",
          "properties": {
           "abstract": null,
           "downloadLink": "https://fake-endpoint/collections/canada_spot5_orthoimages/items/S5_08154_4438_20070504",
           "eo:bands": [
            {
             "common_name": "panchromatic",
             "description": "Panchromatic: 480-710 nm",
             "name": "Panchromatic"
            },
            {
             "common_name": "green",
             "description": "Green: 500-590 nm",
             "name": "Green"
            },
            {
             "common_name": "red",
             "description": "Red: 610-680 nm",
             "name": "Red"
            },
            {
             "common_name": "nir",
             "description": "Near Infrared: 780-890 nm",
             "name": "Near Infrared"
            },
            {
             "common_name": "swir",
             "description": "ShortWave Infrared: 1580-1750 nm",
             "name": "ShortWave Infrared"
            }
           ],
           "eodag_product_type": null,
           "eodag_provider": "stac_http_provider",
           "eodag_search_intersection": {
            "geometries": [],
            "type": "GeometryCollection"
           },
           "instrument": null,
           "license": null,
           "missionStartDate": null,
           "platform": null,
           "platformSerialIdentifier": null,
           "processingLevel": null,
           "productType": "canada_spot5_orthoimages",
           "proj:epsg": 3979,
           "resolution": 20,
           "sensorType": null,
           "startTimeFromAscendingNode": "2007-05-04T00:00:00Z",
           "storageStatus": "ONLINE",
           "style": {
            "color": "red"
           },
           "thumbnail": "https://canada-spot-ortho.s3.amazonaws.com/canada_spot_orthoimages/canada_spot5_orthoimages/S5_2007/S5_08154_4438_20070504/s5_08154_4438_20070504_tn.jpg",
           "title": "S5_08154_4438_20070504"
          },
          "type": "Feature"
         },
         {
          "geometry": {
           "coordinates": [
            [
             [
              -76.24385540000002,
              48.284491499985
             ],
             [
              -76.0261593,
              48.80282719998618
             ],
             [
              -75.24409010000001,
              48.65556529998587
             ],
             [
              -75.4693021,
              48.138179499984645
             ],
             [
              -76.24385540000002,
              48.284491499985
             ]
            ]
           ],
           "type": "Polygon"
          },
          "id": "S5_07545_4828_20070505",
          "properties": {
           "abstract": null,
           "downloadLink": "https://fake-endpoint/collections/canada_spot5_orthoimages/items/S5_07545_4828_20070505",
           "eo:bands": [
            {
             "common_name": "panchromatic",
             "description": "Panchromatic: 480-710 nm",
             "name": "Panchromatic"
            },
            {
             "common_name": "green",
             "description": "Green: 500-590 nm",
             "name": "Green"
            },
            {
             "common_name": "red",
             "description": "Red: 610-680 nm",
             "name": "Red"
            },
            {
             "common_name": "nir",
             "description": "Near Infrared: 780-890 nm",
             "name": "Near Infrared"
            },
            {
             "common_name": "swir",
             "description": "ShortWave Infrared: 1580-1750 nm",
             "name": "ShortWave Infrared"
            }
           ],
           "eodag_product_type": null,
           "eodag_provider": "stac_http_provider",
           "eodag_search_intersection": {
            "geometries": [],
            "type": "GeometryCollection"
           },
           "instrument": null,
           "license": null,
           "missionStartDate": null,
           "platform": null,
           "platformSerialIdentifier": null,
           "processingLevel": null,
           "productType": "canada_spot5_orthoimages",
           "proj:epsg": 3979,
           "resolution": 20,
           "sensorType": null,
           "startTimeFromAscendingNode": "2007-05-05T00:00:00Z",
           "storageStatus": "ONLINE",
           "style": {
            "color": "red"
           },
           "thumbnail": "https://canada-spot-ortho.s3.amazonaws.com/canada_spot_orthoimages/canada_spot5_orthoimages/S5_2007/S5_07545_4828_20070505/s5_07545_4828_20070505_tn.jpg",
           "title": "S5_07545_4828_20070505"
          },
          "type": "Feature"
         },
         {
          "geometry": {
           "coordinates": [
            [
             [
              -82.5399498,
              43.96653589999989
             ],
             [
              -82.3458555,
              44.4875308999999
             ],
             [
              -81.6429288,
              44.34954079999989
             ],
             [
              -81.861012,
              43.83442389999987
             ],
             [
              -82.5399498,
              43.96653589999989
             ]
            ]
           ],
           "type": "Polygon"
          },
          "id": "S5_08205_4409_20070504",
          "properties": {
           "abstract": null,
           "downloadLink": "https://fake-endpoint/collections/canada_spot5_orthoimages/items/S5_08205_4409_20070504",
           "eo:bands": [
            {
             "common_name": "panchromatic",
             "description": "Panchromatic: 480-710 nm",
             "name": "Panchromatic"
            },
            {
             "common_name": "green",
             "description": "Green: 500-590 nm",
             "name": "Green"
            },
            {
             "common_name": "red",
             "description": "Red: 610-680 nm",
             "name": "Red"
            },
            {
             "common_name": "nir",
             "description": "Near Infrared: 780-890 nm",
             "name": "Near Infrared"
            },
            {
             "common_name": "swir",
             "description": "ShortWave Infrared: 1580-1750 nm",
             "name": "ShortWave Infrared"
            }
           ],
           "eodag_product_type": null,
           "eodag_provider": "stac_http_provider",
           "eodag_search_intersection": {
            "geometries": [],
            "type": "GeometryCollection"
           },
           "instrument": null,
           "license": null,
           "missionStartDate": null,
           "platform": null,
           "platformSerialIdentifier": null,
           "processingLevel": null,
           "productType": "canada_spot5_orthoimages",
           "proj:epsg": 3979,
           "resolution": 20,
           "sensorType": null,
           "startTimeFromAscendingNode": "2007-05-04T00:00:00Z",
           "storageStatus": "ONLINE",
           "style": {
            "color": "red"
           },
           "thumbnail": "https://canada-spot-ortho.s3.amazonaws.com/canada_spot_orthoimages/canada_spot5_orthoimages/S5_2007/S5_08205_4409_20070504/s5_08205_4409_20070504_tn.jpg",
           "title": "S5_08205_4409_20070504"
          },
          "type": "Feature"
         },
         {
          "geometry": {
           "coordinates": [
            [
             [
              -75.8416676,
              49.236272499987166
             ],
             [
              -75.6169194,
              49.75401399998823
             ],
             [
              -74.8203005,
              49.60474209998792
             ],
             [
              -75.052923,
              49.08803909998684
             ],
             [
              -75.8416676,
              49.236272499987166
             ]
            ]
           ],
           "type": "Polygon"
          },
          "id": "S5_07520_4925_20070505",
          "properties": {
           "abstract": null,
           "downloadLink": "https://fake-endpoint/collections/canada_spot5_orthoimages/items/S5_07520_4925_20070505",
           "eo:bands": [
            {
             "common_name": "panchromatic",
             "description": "Panchromatic: 480-710 nm",
             "name": "Panchromatic"
            },
            {
             "common_name": "green",
             "description": "Green: 500-590 nm",
             "name": "Green"
            },
            {
             "common_name": "red",
             "description": "Red: 610-680 nm",
             "name": "Red"
            },
            {
             "common_name": "nir",
             "description": "Near Infrared: 780-890 nm",
             "name": "Near Infrared"
            },
            {
             "common_name": "swir",
             "description": "ShortWave Infrared: 1580-1750 nm",
             "name": "ShortWave Infrared"
            }
           ],
           "eodag_product_type": null,
           "eodag_provider": "stac_http_provider",
           "eodag_search_intersection": {
            "geometries": [],
            "type": "GeometryCollection"
           },
           "instrument": null,
           "license": null,
           "missionStartDate": null,
           "platform": null,
           "platformSerialIdentifier": null,
           "processingLevel": null,
           "productType": "canada_spot5_orthoimages",
           "proj:epsg": 3979,
           "resolution": 20,
           "sensorType": null,
           "startTimeFromAscendingNode": "2007-05-05T00:00:00Z",
           "storageStatus": "ONLINE",
           "style": {
            "color": "red"
           },
           "thumbnail": "https://canada-spot-ortho.s3.amazonaws.com/canada_spot_orthoimages/canada_spot5_orthoimages/S5_2007/S5_07520_4925_20070505/s5_07520_4925_20070505_tn.jpg",
           "title": "S5_07520_4925_20070505"
          },
          "type": "Feature"
         },
         {
          "geometry": {
           "coordinates": [
            [
             [
              -134.61285240000004,
              59.90237209999863
             ],
             [
              -134.2436326,
              60.40733679999877
             ],
             [
              -133.2247839,
              60.218067899998715
             ],
             [
              -133.60573870000002,
              59.715175899998535
             ],
             [
              -134.61285240000004,
              59.90237209999863
             ]
            ]
           ],
           "type": "Polygon"
          },
          "id": "S5_13355_6004_20070502",
          "properties": {
           "abstract": null,
           "downloadLink": "https://fake-endpoint/collections/canada_spot5_orthoimages/items/S5_13355_6004_20070502",
           "eo:bands": [
            {
             "common_name": "panchromatic",
             "description": "Panchromatic: 480-710 nm",
             "name": "Panchromatic"
            },
            {
             "common_name": "green",
             "description": "Green: 500-590 nm",
             "name": "Green"
            },
            {
             "common_name": "red",
             "description": "Red: 610-680 nm",
             "name": "Red"
            },
            {
             "common_name": "nir",
             "description": "Near Infrared: 780-890 nm",
             "name": "Near Infrared"
            },
            {
             "common_name": "swir",
             "description": "ShortWave Infrared: 1580-1750 nm",
             "name": "ShortWave Infrared"
            }
           ],
           "eodag_product_type": null,
           "eodag_provider": "stac_http_provider",
           "eodag_search_intersection": {
            "geometries": [],
            "type": "GeometryCollection"
           },
           "instrument": null,
           "license": null,
           "missionStartDate": null,
           "platform": null,
           "platformSerialIdentifier": null,
           "processingLevel": null,
           "productType": "canada_spot5_orthoimages",
           "proj:epsg": 3979,
           "resolution": 20,
           "sensorType": null,
           "startTimeFromAscendingNode": "2007-05-02T00:00:00Z",
           "storageStatus": "ONLINE",
           "style": {
            "color": "red"
           },
           "thumbnail": "https://canada-spot-ortho.s3.amazonaws.com/canada_spot_orthoimages/canada_spot5_orthoimages/S5_2007/S5_13355_6004_20070502/s5_13355_6004_20070502_tn.jpg",
           "title": "S5_13355_6004_20070502"
          },
          "type": "Feature"
         },
         {
          "geometry": {
           "coordinates": [
            [
             [
              -75.8321003,
              47.85693209998394
             ],
             [
              -75.5637798,
              48.363290499985176
             ],
             [
              -74.5776358,
              48.12570679998459
             ],
             [
              -74.8555234,
              47.61966979998332
             ],
             [
              -75.8321003,
              47.85693209998394
             ]
            ]
           ],
           "type": "Polygon"
          },
          "id": "S5_07513_4760_20070504",
          "properties": {
           "abstract": null,
           "downloadLink": "https://fake-endpoint/collections/canada_spot5_orthoimages/items/S5_07513_4760_20070504",
           "eo:bands": [
            {
             "common_name": "panchromatic",
             "description": "Panchromatic: 480-710 nm",
             "name": "Panchromatic"
            },
            {
             "common_name": "green",
             "description": "Green: 500-590 nm",
             "name": "Green"
            },
            {
             "common_name": "red",
             "description": "Red: 610-680 nm",
             "name": "Red"
            },
            {
             "common_name": "nir",
             "description": "Near Infrared: 780-890 nm",
             "name": "Near Infrared"
            },
            {
             "common_name": "swir",
             "description": "ShortWave Infrared: 1580-1750 nm",
             "name": "ShortWave Infrared"
            }
           ],
           "eodag_product_type": null,
           "eodag_provider": "stac_http_provider",
           "eodag_search_intersection": {
            "geometries": [],
            "type": "GeometryCollection"
           },
           "instrument": null,
           "license": null,
           "missionStartDate": null,
           "platform": null,
           "platformSerialIdentifier": null,
           "processingLevel": null,
           "productType": "canada_spot5_orthoimages",
           "proj:epsg": 3979,
           "resolution": 20,
           "sensorType": null,
           "startTimeFromAscendingNode": "2007-05-04T00:00:00Z",
           "storageStatus": "ONLINE",
           "style": {
            "color": "red"
           },
           "thumbnail": "https://canada-spot-ortho.s3.amazonaws.com/canada_spot_orthoimages/canada_spot5_orthoimages/S5_2007/S5_07513_4760_20070504/s5_07513_4760_20070504_tn.jpg",
           "title": "S5_07513_4760_20070504"
          },
          "type": "Feature"
         }
        ],
        "type": "FeatureCollection"
       },
       "name": "",
       "options": [],
       "popup": null,
       "popup_max_height": null,
       "popup_max_width": 300,
       "popup_min_width": 50,
       "style": {
        "color": "red"
       }
      }
     },
     "d4901ddcef824f06aaeab832aa57a397": {
      "model_module": "@jupyter-widgets/base",
      "model_module_version": "1.2.0",
      "model_name": "LayoutModel",
      "state": {}
     },
     "d59f5ccb346d4937bf4d2c8c71cc84dc": {
      "model_module": "jupyter-leaflet",
      "model_module_version": "^0.13.5",
      "model_name": "LeafletAttributionControlModel",
      "state": {
       "_model_module_version": "^0.13.5",
       "_view_module_version": "^0.13.5",
       "options": [
        "position",
        "prefix"
       ],
       "position": "bottomright",
       "prefix": "ipyleaflet"
      }
     },
     "d5d7f1a594d04ae0ac4b86bb59c71541": {
      "model_module": "@jupyter-widgets/base",
      "model_module_version": "1.2.0",
      "model_name": "LayoutModel",
      "state": {}
     },
     "d5ed92d8103d491c946f44e2e0d2ceae": {
      "model_module": "jupyter-leaflet",
      "model_module_version": "^0.13.5",
      "model_name": "LeafletMapStyleModel",
      "state": {
       "_model_module_version": "^0.13.5"
      }
     },
     "d75cdf9da5d34176bad07f995272b61b": {
      "model_module": "@jupyter-widgets/controls",
      "model_module_version": "1.5.0",
      "model_name": "HTMLModel",
      "state": {
       "layout": "IPY_MODEL_d4901ddcef824f06aaeab832aa57a397",
       "style": "IPY_MODEL_bed3e261342b4c56a2b297362a6af760",
       "value": " 77.7M/77.7M [00:30&lt;00:00, 3.94MB/s]"
      }
     },
     "db65598da4a74bd1b9756c71d25e258d": {
      "model_module": "@jupyter-widgets/base",
      "model_module_version": "1.2.0",
      "model_name": "LayoutModel",
      "state": {}
     },
     "dc88140411e04b0a80323ea3a4e7b575": {
      "model_module": "@jupyter-widgets/controls",
      "model_module_version": "1.5.0",
      "model_name": "HTMLModel",
      "state": {
       "layout": "IPY_MODEL_313829da913343128c01f2c92490e329",
       "style": "IPY_MODEL_8a4daf66710c4364b202843452e410e2",
       "value": "S5_07702_4605_20070505: 100%"
      }
     },
     "de9018b108f541e592bb1df9d2f50fca": {
      "model_module": "jupyter-leaflet",
      "model_module_version": "^0.13.5",
      "model_name": "LeafletAttributionControlModel",
      "state": {
       "_model_module_version": "^0.13.5",
       "_view_module_version": "^0.13.5",
       "options": [
        "position",
        "prefix"
       ],
       "position": "bottomright",
       "prefix": "ipyleaflet"
      }
     },
     "dec0f784aba246ab937d611d5f55cb70": {
      "model_module": "@jupyter-widgets/base",
      "model_module_version": "1.2.0",
      "model_name": "LayoutModel",
      "state": {
       "flex": "2"
      }
     },
     "e047a1b374cc4f6e95c13c3e95c33818": {
      "model_module": "jupyter-leaflet",
      "model_module_version": "^0.13.5",
      "model_name": "LeafletMapModel",
      "state": {
       "_model_module_version": "^0.13.5",
       "_view_module_version": "^0.13.5",
       "bottom": 895,
       "center": [
        50,
        -100
       ],
       "controls": [
        "IPY_MODEL_6ac3c50f28c54e578acd570b23478abe",
        "IPY_MODEL_1e4d88b1ea4c47fa831aef200a3f45a7"
       ],
       "default_style": "IPY_MODEL_9c62251a0b8544f5abcc3e0db930d3f7",
       "dragging_style": "IPY_MODEL_8bc29a12661d4a5e96f4876c19f8095b",
       "east": -15.292968750000002,
       "fullscreen": false,
       "interpolation": "bilinear",
       "layers": [
        "IPY_MODEL_9edb1d3388274023b17ddf08f5a1fec2",
        "IPY_MODEL_adde8b2d20f54b46857884faeab3f05a",
        "IPY_MODEL_00bce54d54584d43a83e76c771df6f6f",
        "IPY_MODEL_f86b356740d940849d84fd8c63f5fe9d"
       ],
       "layout": "IPY_MODEL_4e22499aebcf4dbe8b610011f2177fa1",
       "left": -26,
       "modisdate": "yesterday",
       "north": 67.676084581981,
       "options": [
        "bounce_at_zoom_limits",
        "box_zoom",
        "center",
        "close_popup_on_click",
        "double_click_zoom",
        "dragging",
        "fullscreen",
        "inertia",
        "inertia_deceleration",
        "inertia_max_speed",
        "interpolation",
        "keyboard",
        "keyboard_pan_offset",
        "keyboard_zoom_offset",
        "max_zoom",
        "min_zoom",
        "scroll_wheel_zoom",
        "tap",
        "tap_tolerance",
        "touch_zoom",
        "world_copy_jump",
        "zoom",
        "zoom_animation_threshold",
        "zoom_delta",
        "zoom_snap",
        "zoom_start"
       ],
       "right": 937,
       "south": 22.105998799750566,
       "style": "IPY_MODEL_8939dfa46e38479f82ec7084652bf86e",
       "top": 495,
       "west": -184.57031250000003,
       "window_url": "http://localhost:8888/notebooks/tuto_stac_client.ipynb",
       "zoom": 3
      }
     },
     "e4c74e57e1814a7ba3e7b6a7b6ea896b": {
      "model_module": "@jupyter-widgets/base",
      "model_module_version": "1.2.0",
      "model_name": "LayoutModel",
      "state": {}
     },
     "e844344295714b7a9e11528e9fb6f7bf": {
      "model_module": "jupyter-leaflet",
      "model_module_version": "^0.13.5",
      "model_name": "LeafletGeoJSONModel",
      "state": {
       "_model_module": "jupyter-leaflet",
       "_model_module_version": "^0.13.5",
       "_view_count": null,
       "_view_module": "jupyter-leaflet",
       "_view_module_version": "^0.13.5",
       "base": false,
       "bottom": false,
       "data": {
        "coordinates": [
         [
          [
           -70,
           45
          ],
          [
           -75,
           47
          ],
          [
           -80,
           47
          ],
          [
           -80,
           44
          ],
          [
           -70,
           45
          ]
         ]
        ],
        "type": "Polygon"
       },
       "name": "",
       "options": [],
       "popup": null,
       "popup_max_height": null,
       "popup_max_width": 300,
       "popup_min_width": 50,
       "style": {
        "color": "blue"
       }
      }
     },
     "e8a4caf51ce74642af679de9aa89ff2c": {
      "model_module": "jupyter-leaflet",
      "model_module_version": "^0.13.5",
      "model_name": "LeafletGeoJSONModel",
      "state": {
       "_model_module": "jupyter-leaflet",
       "_model_module_version": "^0.13.5",
       "_view_count": null,
       "_view_module": "jupyter-leaflet",
       "_view_module_version": "^0.13.5",
       "base": false,
       "bottom": false,
       "data": {
        "features": [
         {
          "geometry": {
           "coordinates": [
            [
             [
              -75.635484,
              49.71080699998813
             ],
             [
              -75.4077832,
              50.22914529998913
             ],
             [
              -74.6039477,
              50.07893649998885
             ],
             [
              -74.839718,
              49.562025099987835
             ],
             [
              -75.635484,
              49.71080699998813
             ]
            ]
           ],
           "type": "Polygon"
          },
          "id": "S5_07507_4954_20070505",
          "properties": {
           "abstract": null,
           "downloadLink": "https://fake-endpoint/collections/canada_spot5_orthoimages/items/S5_07507_4954_20070505",
           "eo:bands": [
            {
             "common_name": "panchromatic",
             "description": "Panchromatic: 480-710 nm",
             "name": "Panchromatic"
            },
            {
             "common_name": "green",
             "description": "Green: 500-590 nm",
             "name": "Green"
            },
            {
             "common_name": "red",
             "description": "Red: 610-680 nm",
             "name": "Red"
            },
            {
             "common_name": "nir",
             "description": "Near Infrared: 780-890 nm",
             "name": "Near Infrared"
            },
            {
             "common_name": "swir",
             "description": "ShortWave Infrared: 1580-1750 nm",
             "name": "ShortWave Infrared"
            }
           ],
           "eodag_product_type": null,
           "eodag_provider": "stac_http_provider",
           "eodag_search_intersection": {
            "geometries": [],
            "type": "GeometryCollection"
           },
           "instrument": null,
           "license": null,
           "missionStartDate": null,
           "platform": null,
           "platformSerialIdentifier": null,
           "processingLevel": null,
           "productType": "canada_spot5_orthoimages",
           "proj:epsg": 3979,
           "resolution": 20,
           "sensorType": null,
           "startTimeFromAscendingNode": "2007-05-05T00:00:00Z",
           "storageStatus": "ONLINE",
           "style": {
            "color": "green"
           },
           "thumbnail": "https://canada-spot-ortho.s3.amazonaws.com/canada_spot_orthoimages/canada_spot5_orthoimages/S5_2007/S5_07507_4954_20070505/s5_07507_4954_20070505_tn.jpg",
           "title": "S5_07507_4954_20070505"
          },
          "type": "Feature"
         },
         {
          "geometry": {
           "coordinates": [
            [
             [
              -77.5086458,
              45.89066339999992
             ],
             [
              -77.3097434,
              46.411011399999936
             ],
             [
              -76.56018450000002,
              46.27010199999995
             ],
             [
              -76.766165,
              45.75074559999991
             ],
             [
              -77.5086458,
              45.89066339999992
             ]
            ]
           ],
           "type": "Polygon"
          },
          "id": "S5_07702_4605_20070505",
          "properties": {
           "abstract": null,
           "downloadLink": "https://fake-endpoint/collections/canada_spot5_orthoimages/items/S5_07702_4605_20070505",
           "eo:bands": [
            {
             "common_name": "panchromatic",
             "description": "Panchromatic: 480-710 nm",
             "name": "Panchromatic"
            },
            {
             "common_name": "green",
             "description": "Green: 500-590 nm",
             "name": "Green"
            },
            {
             "common_name": "red",
             "description": "Red: 610-680 nm",
             "name": "Red"
            },
            {
             "common_name": "nir",
             "description": "Near Infrared: 780-890 nm",
             "name": "Near Infrared"
            },
            {
             "common_name": "swir",
             "description": "ShortWave Infrared: 1580-1750 nm",
             "name": "ShortWave Infrared"
            }
           ],
           "eodag_product_type": null,
           "eodag_provider": "stac_http_provider",
           "eodag_search_intersection": {
            "geometries": [],
            "type": "GeometryCollection"
           },
           "instrument": null,
           "license": null,
           "missionStartDate": null,
           "platform": null,
           "platformSerialIdentifier": null,
           "processingLevel": null,
           "productType": "canada_spot5_orthoimages",
           "proj:epsg": 3979,
           "resolution": 20,
           "sensorType": null,
           "startTimeFromAscendingNode": "2007-05-05T00:00:00Z",
           "storageStatus": "ONLINE",
           "style": {
            "color": "green"
           },
           "thumbnail": "https://canada-spot-ortho.s3.amazonaws.com/canada_spot_orthoimages/canada_spot5_orthoimages/S5_2007/S5_07702_4605_20070505/s5_07702_4605_20070505_tn.jpg",
           "title": "S5_07702_4605_20070505"
          },
          "type": "Feature"
         },
         {
          "geometry": {
           "coordinates": [
            [
             [
              -77.6897149,
              45.41003529999992
             ],
             [
              -77.493466,
              45.93058879999993
             ],
             [
              -76.7514935,
              45.790705999999915
             ],
             [
              -76.9536275,
              45.27084659999991
             ],
             [
              -77.6897149,
              45.41003529999992
             ]
            ]
           ],
           "type": "Polygon"
          },
          "id": "S5_07713_4536_20070505",
          "properties": {
           "abstract": null,
           "downloadLink": "https://fake-endpoint/collections/canada_spot5_orthoimages/items/S5_07713_4536_20070505",
           "eo:bands": [
            {
             "common_name": "panchromatic",
             "description": "Panchromatic: 480-710 nm",
             "name": "Panchromatic"
            },
            {
             "common_name": "green",
             "description": "Green: 500-590 nm",
             "name": "Green"
            },
            {
             "common_name": "red",
             "description": "Red: 610-680 nm",
             "name": "Red"
            },
            {
             "common_name": "nir",
             "description": "Near Infrared: 780-890 nm",
             "name": "Near Infrared"
            },
            {
             "common_name": "swir",
             "description": "ShortWave Infrared: 1580-1750 nm",
             "name": "ShortWave Infrared"
            }
           ],
           "eodag_product_type": null,
           "eodag_provider": "stac_http_provider",
           "eodag_search_intersection": {
            "geometries": [],
            "type": "GeometryCollection"
           },
           "instrument": null,
           "license": null,
           "missionStartDate": null,
           "platform": null,
           "platformSerialIdentifier": null,
           "processingLevel": null,
           "productType": "canada_spot5_orthoimages",
           "proj:epsg": 3979,
           "resolution": 20,
           "sensorType": null,
           "startTimeFromAscendingNode": "2007-05-05T00:00:00Z",
           "storageStatus": "ONLINE",
           "style": {
            "color": "green"
           },
           "thumbnail": "https://canada-spot-ortho.s3.amazonaws.com/canada_spot_orthoimages/canada_spot5_orthoimages/S5_2007/S5_07713_4536_20070505/s5_07713_4536_20070505_tn.jpg",
           "title": "S5_07713_4536_20070505"
          },
          "type": "Feature"
         },
         {
          "geometry": {
           "coordinates": [
            [
             [
              -77.8688576,
              44.92858479999993
             ],
             [
              -77.6751065,
              45.44990809999991
             ],
             [
              -76.9381127,
              45.3104741999999
             ],
             [
              -77.13831010000001,
              44.790157899999905
             ],
             [
              -77.8688576,
              44.92858479999993
             ]
            ]
           ],
           "type": "Polygon"
          },
          "id": "S5_07724_4507_20070505",
          "properties": {
           "abstract": null,
           "downloadLink": "https://fake-endpoint/collections/canada_spot5_orthoimages/items/S5_07724_4507_20070505",
           "eo:bands": [
            {
             "common_name": "panchromatic",
             "description": "Panchromatic: 480-710 nm",
             "name": "Panchromatic"
            },
            {
             "common_name": "green",
             "description": "Green: 500-590 nm",
             "name": "Green"
            },
            {
             "common_name": "red",
             "description": "Red: 610-680 nm",
             "name": "Red"
            },
            {
             "common_name": "nir",
             "description": "Near Infrared: 780-890 nm",
             "name": "Near Infrared"
            },
            {
             "common_name": "swir",
             "description": "ShortWave Infrared: 1580-1750 nm",
             "name": "ShortWave Infrared"
            }
           ],
           "eodag_product_type": null,
           "eodag_provider": "stac_http_provider",
           "eodag_search_intersection": {
            "geometries": [],
            "type": "GeometryCollection"
           },
           "instrument": null,
           "license": null,
           "missionStartDate": null,
           "platform": null,
           "platformSerialIdentifier": null,
           "processingLevel": null,
           "productType": "canada_spot5_orthoimages",
           "proj:epsg": 3979,
           "resolution": 20,
           "sensorType": null,
           "startTimeFromAscendingNode": "2007-05-05T00:00:00Z",
           "storageStatus": "ONLINE",
           "style": {
            "color": "green"
           },
           "thumbnail": "https://canada-spot-ortho.s3.amazonaws.com/canada_spot_orthoimages/canada_spot5_orthoimages/S5_2007/S5_07724_4507_20070505/s5_07724_4507_20070505_tn.jpg",
           "title": "S5_07724_4507_20070505"
          },
          "type": "Feature"
         },
         {
          "geometry": {
           "coordinates": [
            [
             [
              -76.24385540000002,
              48.284491499985
             ],
             [
              -76.0261593,
              48.80282719998618
             ],
             [
              -75.24409010000001,
              48.65556529998587
             ],
             [
              -75.4693021,
              48.138179499984645
             ],
             [
              -76.24385540000002,
              48.284491499985
             ]
            ]
           ],
           "type": "Polygon"
          },
          "id": "S5_07545_4828_20070505",
          "properties": {
           "abstract": null,
           "downloadLink": "https://fake-endpoint/collections/canada_spot5_orthoimages/items/S5_07545_4828_20070505",
           "eo:bands": [
            {
             "common_name": "panchromatic",
             "description": "Panchromatic: 480-710 nm",
             "name": "Panchromatic"
            },
            {
             "common_name": "green",
             "description": "Green: 500-590 nm",
             "name": "Green"
            },
            {
             "common_name": "red",
             "description": "Red: 610-680 nm",
             "name": "Red"
            },
            {
             "common_name": "nir",
             "description": "Near Infrared: 780-890 nm",
             "name": "Near Infrared"
            },
            {
             "common_name": "swir",
             "description": "ShortWave Infrared: 1580-1750 nm",
             "name": "ShortWave Infrared"
            }
           ],
           "eodag_product_type": null,
           "eodag_provider": "stac_http_provider",
           "eodag_search_intersection": {
            "geometries": [],
            "type": "GeometryCollection"
           },
           "instrument": null,
           "license": null,
           "missionStartDate": null,
           "platform": null,
           "platformSerialIdentifier": null,
           "processingLevel": null,
           "productType": "canada_spot5_orthoimages",
           "proj:epsg": 3979,
           "resolution": 20,
           "sensorType": null,
           "startTimeFromAscendingNode": "2007-05-05T00:00:00Z",
           "storageStatus": "ONLINE",
           "style": {
            "color": "green"
           },
           "thumbnail": "https://canada-spot-ortho.s3.amazonaws.com/canada_spot_orthoimages/canada_spot5_orthoimages/S5_2007/S5_07545_4828_20070505/s5_07545_4828_20070505_tn.jpg",
           "title": "S5_07545_4828_20070505"
          },
          "type": "Feature"
         },
         {
          "geometry": {
           "coordinates": [
            [
             [
              -75.8416676,
              49.236272499987166
             ],
             [
              -75.6169194,
              49.75401399998823
             ],
             [
              -74.8203005,
              49.60474209998792
             ],
             [
              -75.052923,
              49.08803909998684
             ],
             [
              -75.8416676,
              49.236272499987166
             ]
            ]
           ],
           "type": "Polygon"
          },
          "id": "S5_07520_4925_20070505",
          "properties": {
           "abstract": null,
           "downloadLink": "https://fake-endpoint/collections/canada_spot5_orthoimages/items/S5_07520_4925_20070505",
           "eo:bands": [
            {
             "common_name": "panchromatic",
             "description": "Panchromatic: 480-710 nm",
             "name": "Panchromatic"
            },
            {
             "common_name": "green",
             "description": "Green: 500-590 nm",
             "name": "Green"
            },
            {
             "common_name": "red",
             "description": "Red: 610-680 nm",
             "name": "Red"
            },
            {
             "common_name": "nir",
             "description": "Near Infrared: 780-890 nm",
             "name": "Near Infrared"
            },
            {
             "common_name": "swir",
             "description": "ShortWave Infrared: 1580-1750 nm",
             "name": "ShortWave Infrared"
            }
           ],
           "eodag_product_type": null,
           "eodag_provider": "stac_http_provider",
           "eodag_search_intersection": {
            "geometries": [],
            "type": "GeometryCollection"
           },
           "instrument": null,
           "license": null,
           "missionStartDate": null,
           "platform": null,
           "platformSerialIdentifier": null,
           "processingLevel": null,
           "productType": "canada_spot5_orthoimages",
           "proj:epsg": 3979,
           "resolution": 20,
           "sensorType": null,
           "startTimeFromAscendingNode": "2007-05-05T00:00:00Z",
           "storageStatus": "ONLINE",
           "style": {
            "color": "green"
           },
           "thumbnail": "https://canada-spot-ortho.s3.amazonaws.com/canada_spot_orthoimages/canada_spot5_orthoimages/S5_2007/S5_07520_4925_20070505/s5_07520_4925_20070505_tn.jpg",
           "title": "S5_07520_4925_20070505"
          },
          "type": "Feature"
         },
         {
          "geometry": {
           "coordinates": [
            [
             [
              -75.8321003,
              47.85693209998394
             ],
             [
              -75.5637798,
              48.363290499985176
             ],
             [
              -74.5776358,
              48.12570679998459
             ],
             [
              -74.8555234,
              47.61966979998332
             ],
             [
              -75.8321003,
              47.85693209998394
             ]
            ]
           ],
           "type": "Polygon"
          },
          "id": "S5_07513_4760_20070504",
          "properties": {
           "abstract": null,
           "downloadLink": "https://fake-endpoint/collections/canada_spot5_orthoimages/items/S5_07513_4760_20070504",
           "eo:bands": [
            {
             "common_name": "panchromatic",
             "description": "Panchromatic: 480-710 nm",
             "name": "Panchromatic"
            },
            {
             "common_name": "green",
             "description": "Green: 500-590 nm",
             "name": "Green"
            },
            {
             "common_name": "red",
             "description": "Red: 610-680 nm",
             "name": "Red"
            },
            {
             "common_name": "nir",
             "description": "Near Infrared: 780-890 nm",
             "name": "Near Infrared"
            },
            {
             "common_name": "swir",
             "description": "ShortWave Infrared: 1580-1750 nm",
             "name": "ShortWave Infrared"
            }
           ],
           "eodag_product_type": null,
           "eodag_provider": "stac_http_provider",
           "eodag_search_intersection": {
            "geometries": [],
            "type": "GeometryCollection"
           },
           "instrument": null,
           "license": null,
           "missionStartDate": null,
           "platform": null,
           "platformSerialIdentifier": null,
           "processingLevel": null,
           "productType": "canada_spot5_orthoimages",
           "proj:epsg": 3979,
           "resolution": 20,
           "sensorType": null,
           "startTimeFromAscendingNode": "2007-05-04T00:00:00Z",
           "storageStatus": "ONLINE",
           "style": {
            "color": "green"
           },
           "thumbnail": "https://canada-spot-ortho.s3.amazonaws.com/canada_spot_orthoimages/canada_spot5_orthoimages/S5_2007/S5_07513_4760_20070504/s5_07513_4760_20070504_tn.jpg",
           "title": "S5_07513_4760_20070504"
          },
          "type": "Feature"
         }
        ],
        "type": "FeatureCollection"
       },
       "name": "",
       "options": [],
       "popup": null,
       "popup_max_height": null,
       "popup_max_width": 300,
       "popup_min_width": 50,
       "style": {
        "color": "green"
       }
      }
     },
     "e9e49fc55aae47018b52bc1376b8aa2e": {
      "model_module": "jupyter-leaflet",
      "model_module_version": "^0.13.5",
      "model_name": "LeafletGeoJSONModel",
      "state": {
       "_model_module": "jupyter-leaflet",
       "_model_module_version": "^0.13.5",
       "_view_count": null,
       "_view_module": "jupyter-leaflet",
       "_view_module_version": "^0.13.5",
       "base": false,
       "bottom": false,
       "data": {
        "features": [
         {
          "geometry": {
           "coordinates": [
            [
             [
              -82.0128118,
              43.486933699999895
             ],
             [
              -81.8154336,
              44.006646199999906
             ],
             [
              -81.0891217,
              43.85927329999989
             ],
             [
              -81.2926142,
              43.340113799999905
             ],
             [
              -82.0128118,
              43.486933699999895
             ]
            ]
           ],
           "type": "Polygon"
          },
          "id": "S5_08133_4340_20070504",
          "properties": {
           "abstract": null,
           "downloadLink": "https://eod-catalog-svc-prod.astraea.earth/collections/canada_spot5_orthoimages/items/S5_08133_4340_20070504",
           "eo:bands": [
            {
             "common_name": "panchromatic",
             "description": "Panchromatic: 480-710 nm",
             "name": "Panchromatic"
            },
            {
             "common_name": "green",
             "description": "Green: 500-590 nm",
             "name": "Green"
            },
            {
             "common_name": "red",
             "description": "Red: 610-680 nm",
             "name": "Red"
            },
            {
             "common_name": "nir",
             "description": "Near Infrared: 780-890 nm",
             "name": "Near Infrared"
            },
            {
             "common_name": "swir",
             "description": "ShortWave Infrared: 1580-1750 nm",
             "name": "ShortWave Infrared"
            }
           ],
           "eodag_product_type": null,
           "eodag_provider": "astraea_eod",
           "eodag_search_intersection": {
            "geometries": [],
            "type": "GeometryCollection"
           },
           "instrument": null,
           "license": null,
           "missionStartDate": null,
           "platform": null,
           "platformSerialIdentifier": null,
           "processingLevel": null,
           "productType": "canada_spot5_orthoimages",
           "proj:epsg": 3979,
           "resolution": 20,
           "sensorType": null,
           "startTimeFromAscendingNode": "2007-05-04T00:00:00Z",
           "style": {
            "color": "red"
           },
           "title": "S5_08133_4340_20070504"
          },
          "type": "Feature"
         },
         {
          "geometry": {
           "coordinates": [
            [
             [
              -77.5086458,
              45.89066339999992
             ],
             [
              -77.3097434,
              46.411011399999936
             ],
             [
              -76.56018450000002,
              46.27010199999995
             ],
             [
              -76.766165,
              45.75074559999991
             ],
             [
              -77.5086458,
              45.89066339999992
             ]
            ]
           ],
           "type": "Polygon"
          },
          "id": "S5_07702_4605_20070505",
          "properties": {
           "abstract": null,
           "downloadLink": "https://eod-catalog-svc-prod.astraea.earth/collections/canada_spot5_orthoimages/items/S5_07702_4605_20070505",
           "eo:bands": [
            {
             "common_name": "panchromatic",
             "description": "Panchromatic: 480-710 nm",
             "name": "Panchromatic"
            },
            {
             "common_name": "green",
             "description": "Green: 500-590 nm",
             "name": "Green"
            },
            {
             "common_name": "red",
             "description": "Red: 610-680 nm",
             "name": "Red"
            },
            {
             "common_name": "nir",
             "description": "Near Infrared: 780-890 nm",
             "name": "Near Infrared"
            },
            {
             "common_name": "swir",
             "description": "ShortWave Infrared: 1580-1750 nm",
             "name": "ShortWave Infrared"
            }
           ],
           "eodag_product_type": null,
           "eodag_provider": "astraea_eod",
           "eodag_search_intersection": {
            "geometries": [],
            "type": "GeometryCollection"
           },
           "instrument": null,
           "license": null,
           "missionStartDate": null,
           "platform": null,
           "platformSerialIdentifier": null,
           "processingLevel": null,
           "productType": "canada_spot5_orthoimages",
           "proj:epsg": 3979,
           "resolution": 20,
           "sensorType": null,
           "startTimeFromAscendingNode": "2007-05-05T00:00:00Z",
           "style": {
            "color": "red"
           },
           "title": "S5_07702_4605_20070505"
          },
          "type": "Feature"
         },
         {
          "geometry": {
           "coordinates": [
            [
             [
              -75.635484,
              49.71080699998813
             ],
             [
              -75.4077832,
              50.22914529998913
             ],
             [
              -74.6039477,
              50.07893649998885
             ],
             [
              -74.839718,
              49.562025099987835
             ],
             [
              -75.635484,
              49.71080699998813
             ]
            ]
           ],
           "type": "Polygon"
          },
          "id": "S5_07507_4954_20070505",
          "properties": {
           "abstract": null,
           "downloadLink": "https://eod-catalog-svc-prod.astraea.earth/collections/canada_spot5_orthoimages/items/S5_07507_4954_20070505",
           "eo:bands": [
            {
             "common_name": "panchromatic",
             "description": "Panchromatic: 480-710 nm",
             "name": "Panchromatic"
            },
            {
             "common_name": "green",
             "description": "Green: 500-590 nm",
             "name": "Green"
            },
            {
             "common_name": "red",
             "description": "Red: 610-680 nm",
             "name": "Red"
            },
            {
             "common_name": "nir",
             "description": "Near Infrared: 780-890 nm",
             "name": "Near Infrared"
            },
            {
             "common_name": "swir",
             "description": "ShortWave Infrared: 1580-1750 nm",
             "name": "ShortWave Infrared"
            }
           ],
           "eodag_product_type": null,
           "eodag_provider": "astraea_eod",
           "eodag_search_intersection": {
            "geometries": [],
            "type": "GeometryCollection"
           },
           "instrument": null,
           "license": null,
           "missionStartDate": null,
           "platform": null,
           "platformSerialIdentifier": null,
           "processingLevel": null,
           "productType": "canada_spot5_orthoimages",
           "proj:epsg": 3979,
           "resolution": 20,
           "sensorType": null,
           "startTimeFromAscendingNode": "2007-05-05T00:00:00Z",
           "style": {
            "color": "red"
           },
           "title": "S5_07507_4954_20070505"
          },
          "type": "Feature"
         },
         {
          "geometry": {
           "coordinates": [
            [
             [
              -77.6897149,
              45.41003529999992
             ],
             [
              -77.493466,
              45.93058879999993
             ],
             [
              -76.7514935,
              45.790705999999915
             ],
             [
              -76.9536275,
              45.27084659999991
             ],
             [
              -77.6897149,
              45.41003529999992
             ]
            ]
           ],
           "type": "Polygon"
          },
          "id": "S5_07713_4536_20070505",
          "properties": {
           "abstract": null,
           "downloadLink": "https://eod-catalog-svc-prod.astraea.earth/collections/canada_spot5_orthoimages/items/S5_07713_4536_20070505",
           "eo:bands": [
            {
             "common_name": "panchromatic",
             "description": "Panchromatic: 480-710 nm",
             "name": "Panchromatic"
            },
            {
             "common_name": "green",
             "description": "Green: 500-590 nm",
             "name": "Green"
            },
            {
             "common_name": "red",
             "description": "Red: 610-680 nm",
             "name": "Red"
            },
            {
             "common_name": "nir",
             "description": "Near Infrared: 780-890 nm",
             "name": "Near Infrared"
            },
            {
             "common_name": "swir",
             "description": "ShortWave Infrared: 1580-1750 nm",
             "name": "ShortWave Infrared"
            }
           ],
           "eodag_product_type": null,
           "eodag_provider": "astraea_eod",
           "eodag_search_intersection": {
            "geometries": [],
            "type": "GeometryCollection"
           },
           "instrument": null,
           "license": null,
           "missionStartDate": null,
           "platform": null,
           "platformSerialIdentifier": null,
           "processingLevel": null,
           "productType": "canada_spot5_orthoimages",
           "proj:epsg": 3979,
           "resolution": 20,
           "sensorType": null,
           "startTimeFromAscendingNode": "2007-05-05T00:00:00Z",
           "style": {
            "color": "red"
           },
           "title": "S5_07713_4536_20070505"
          },
          "type": "Feature"
         },
         {
          "geometry": {
           "coordinates": [
            [
             [
              -82.19413800000001,
              43.002897899999866
             ],
             [
              -81.9983011,
              43.52332569999988
             ],
             [
              -81.2782497,
              43.3766073999999
             ],
             [
              -81.4785564,
              42.85763319999989
             ],
             [
              -82.19413800000001,
              43.002897899999866
             ]
            ]
           ],
           "type": "Polygon"
          },
          "id": "S5_08144_4311_20070504",
          "properties": {
           "abstract": null,
           "downloadLink": "https://eod-catalog-svc-prod.astraea.earth/collections/canada_spot5_orthoimages/items/S5_08144_4311_20070504",
           "eo:bands": [
            {
             "common_name": "panchromatic",
             "description": "Panchromatic: 480-710 nm",
             "name": "Panchromatic"
            },
            {
             "common_name": "green",
             "description": "Green: 500-590 nm",
             "name": "Green"
            },
            {
             "common_name": "red",
             "description": "Red: 610-680 nm",
             "name": "Red"
            },
            {
             "common_name": "nir",
             "description": "Near Infrared: 780-890 nm",
             "name": "Near Infrared"
            },
            {
             "common_name": "swir",
             "description": "ShortWave Infrared: 1580-1750 nm",
             "name": "ShortWave Infrared"
            }
           ],
           "eodag_product_type": null,
           "eodag_provider": "astraea_eod",
           "eodag_search_intersection": {
            "geometries": [],
            "type": "GeometryCollection"
           },
           "instrument": null,
           "license": null,
           "missionStartDate": null,
           "platform": null,
           "platformSerialIdentifier": null,
           "processingLevel": null,
           "productType": "canada_spot5_orthoimages",
           "proj:epsg": 3979,
           "resolution": 20,
           "sensorType": null,
           "startTimeFromAscendingNode": "2007-05-04T00:00:00Z",
           "style": {
            "color": "red"
           },
           "title": "S5_08144_4311_20070504"
          },
          "type": "Feature"
         },
         {
          "geometry": {
           "coordinates": [
            [
             [
              -82.1791361,
              44.93104039999991
             ],
             [
              -81.9785331,
              45.45127599999993
             ],
             [
              -81.2418256,
              45.30744029999992
             ],
             [
              -81.4473278,
              44.78835739999991
             ],
             [
              -82.1791361,
              44.93104039999991
             ]
            ]
           ],
           "type": "Polygon"
          },
          "id": "S5_08143_4507_20070504",
          "properties": {
           "abstract": null,
           "downloadLink": "https://eod-catalog-svc-prod.astraea.earth/collections/canada_spot5_orthoimages/items/S5_08143_4507_20070504",
           "eo:bands": [
            {
             "common_name": "panchromatic",
             "description": "Panchromatic: 480-710 nm",
             "name": "Panchromatic"
            },
            {
             "common_name": "green",
             "description": "Green: 500-590 nm",
             "name": "Green"
            },
            {
             "common_name": "red",
             "description": "Red: 610-680 nm",
             "name": "Red"
            },
            {
             "common_name": "nir",
             "description": "Near Infrared: 780-890 nm",
             "name": "Near Infrared"
            },
            {
             "common_name": "swir",
             "description": "ShortWave Infrared: 1580-1750 nm",
             "name": "ShortWave Infrared"
            }
           ],
           "eodag_product_type": null,
           "eodag_provider": "astraea_eod",
           "eodag_search_intersection": {
            "geometries": [],
            "type": "GeometryCollection"
           },
           "instrument": null,
           "license": null,
           "missionStartDate": null,
           "platform": null,
           "platformSerialIdentifier": null,
           "processingLevel": null,
           "productType": "canada_spot5_orthoimages",
           "proj:epsg": 3979,
           "resolution": 20,
           "sensorType": null,
           "startTimeFromAscendingNode": "2007-05-04T00:00:00Z",
           "style": {
            "color": "red"
           },
           "title": "S5_08143_4507_20070504"
          },
          "type": "Feature"
         },
         {
          "geometry": {
           "coordinates": [
            [
             [
              -81.82939060000001,
              43.97025879999991
             ],
             [
              -81.6293909,
              44.48955959999991
             ],
             [
              -80.8972191,
              44.341560399999906
             ],
             [
              -81.1035722,
              43.82257309999989
             ],
             [
              -81.82939060000001,
              43.97025879999991
             ]
            ]
           ],
           "type": "Polygon"
          },
          "id": "S5_08122_4409_20070504",
          "properties": {
           "abstract": null,
           "downloadLink": "https://eod-catalog-svc-prod.astraea.earth/collections/canada_spot5_orthoimages/items/S5_08122_4409_20070504",
           "eo:bands": [
            {
             "common_name": "panchromatic",
             "description": "Panchromatic: 480-710 nm",
             "name": "Panchromatic"
            },
            {
             "common_name": "green",
             "description": "Green: 500-590 nm",
             "name": "Green"
            },
            {
             "common_name": "red",
             "description": "Red: 610-680 nm",
             "name": "Red"
            },
            {
             "common_name": "nir",
             "description": "Near Infrared: 780-890 nm",
             "name": "Near Infrared"
            },
            {
             "common_name": "swir",
             "description": "ShortWave Infrared: 1580-1750 nm",
             "name": "ShortWave Infrared"
            }
           ],
           "eodag_product_type": null,
           "eodag_provider": "astraea_eod",
           "eodag_search_intersection": {
            "geometries": [],
            "type": "GeometryCollection"
           },
           "instrument": null,
           "license": null,
           "missionStartDate": null,
           "platform": null,
           "platformSerialIdentifier": null,
           "processingLevel": null,
           "productType": "canada_spot5_orthoimages",
           "proj:epsg": 3979,
           "resolution": 20,
           "sensorType": null,
           "startTimeFromAscendingNode": "2007-05-04T00:00:00Z",
           "style": {
            "color": "red"
           },
           "title": "S5_08122_4409_20070504"
          },
          "type": "Feature"
         },
         {
          "geometry": {
           "coordinates": [
            [
             [
              -85.0273477,
              46.859929499999936
             ],
             [
              -84.8043796,
              47.37592669998269
             ],
             [
              -84.02553680000001,
              47.21757089998226
             ],
             [
              -84.2562465,
              46.70048319999994
             ],
             [
              -85.0273477,
              46.859929499999936
             ]
            ]
           ],
           "type": "Polygon"
          },
          "id": "S5_08432_4702_20070503",
          "properties": {
           "abstract": null,
           "downloadLink": "https://eod-catalog-svc-prod.astraea.earth/collections/canada_spot5_orthoimages/items/S5_08432_4702_20070503",
           "eo:bands": [
            {
             "common_name": "panchromatic",
             "description": "Panchromatic: 480-710 nm",
             "name": "Panchromatic"
            },
            {
             "common_name": "green",
             "description": "Green: 500-590 nm",
             "name": "Green"
            },
            {
             "common_name": "red",
             "description": "Red: 610-680 nm",
             "name": "Red"
            },
            {
             "common_name": "nir",
             "description": "Near Infrared: 780-890 nm",
             "name": "Near Infrared"
            },
            {
             "common_name": "swir",
             "description": "ShortWave Infrared: 1580-1750 nm",
             "name": "ShortWave Infrared"
            }
           ],
           "eodag_product_type": null,
           "eodag_provider": "astraea_eod",
           "eodag_search_intersection": {
            "geometries": [],
            "type": "GeometryCollection"
           },
           "instrument": null,
           "license": null,
           "missionStartDate": null,
           "platform": null,
           "platformSerialIdentifier": null,
           "processingLevel": null,
           "productType": "canada_spot5_orthoimages",
           "proj:epsg": 3979,
           "resolution": 20,
           "sensorType": null,
           "startTimeFromAscendingNode": "2007-05-03T00:00:00Z",
           "style": {
            "color": "red"
           },
           "title": "S5_08432_4702_20070503"
          },
          "type": "Feature"
         },
         {
          "geometry": {
           "coordinates": [
            [
             [
              -84.9345337,
              48.765304799986104
             ],
             [
              -84.7042059,
              49.282367799987256
             ],
             [
              -83.9089622,
              49.126539399986925
             ],
             [
              -84.1474371,
              48.61051919998576
             ],
             [
              -84.9345337,
              48.765304799986104
             ]
            ]
           ],
           "type": "Polygon"
          },
          "id": "S5_08426_4857_20070503",
          "properties": {
           "abstract": null,
           "downloadLink": "https://eod-catalog-svc-prod.astraea.earth/collections/canada_spot5_orthoimages/items/S5_08426_4857_20070503",
           "eo:bands": [
            {
             "common_name": "panchromatic",
             "description": "Panchromatic: 480-710 nm",
             "name": "Panchromatic"
            },
            {
             "common_name": "green",
             "description": "Green: 500-590 nm",
             "name": "Green"
            },
            {
             "common_name": "red",
             "description": "Red: 610-680 nm",
             "name": "Red"
            },
            {
             "common_name": "nir",
             "description": "Near Infrared: 780-890 nm",
             "name": "Near Infrared"
            },
            {
             "common_name": "swir",
             "description": "ShortWave Infrared: 1580-1750 nm",
             "name": "ShortWave Infrared"
            }
           ],
           "eodag_product_type": null,
           "eodag_provider": "astraea_eod",
           "eodag_search_intersection": {
            "geometries": [],
            "type": "GeometryCollection"
           },
           "instrument": null,
           "license": null,
           "missionStartDate": null,
           "platform": null,
           "platformSerialIdentifier": null,
           "processingLevel": null,
           "productType": "canada_spot5_orthoimages",
           "proj:epsg": 3979,
           "resolution": 20,
           "sensorType": null,
           "startTimeFromAscendingNode": "2007-05-03T00:00:00Z",
           "style": {
            "color": "red"
           },
           "title": "S5_08426_4857_20070503"
          },
          "type": "Feature"
         },
         {
          "geometry": {
           "coordinates": [
            [
             [
              -84.8206206,
              47.3379771999826
             ],
             [
              -84.59384510000001,
              47.85419849998393
             ],
             [
              -83.8084865,
              47.69434859998355
             ],
             [
              -84.0433223,
              47.17892369998218
             ],
             [
              -84.8206206,
              47.3379771999826
             ]
            ]
           ],
           "type": "Polygon"
          },
          "id": "S5_08419_4731_20070503",
          "properties": {
           "abstract": null,
           "downloadLink": "https://eod-catalog-svc-prod.astraea.earth/collections/canada_spot5_orthoimages/items/S5_08419_4731_20070503",
           "eo:bands": [
            {
             "common_name": "panchromatic",
             "description": "Panchromatic: 480-710 nm",
             "name": "Panchromatic"
            },
            {
             "common_name": "green",
             "description": "Green: 500-590 nm",
             "name": "Green"
            },
            {
             "common_name": "red",
             "description": "Red: 610-680 nm",
             "name": "Red"
            },
            {
             "common_name": "nir",
             "description": "Near Infrared: 780-890 nm",
             "name": "Near Infrared"
            },
            {
             "common_name": "swir",
             "description": "ShortWave Infrared: 1580-1750 nm",
             "name": "ShortWave Infrared"
            }
           ],
           "eodag_product_type": null,
           "eodag_provider": "astraea_eod",
           "eodag_search_intersection": {
            "geometries": [],
            "type": "GeometryCollection"
           },
           "instrument": null,
           "license": null,
           "missionStartDate": null,
           "platform": null,
           "platformSerialIdentifier": null,
           "processingLevel": null,
           "productType": "canada_spot5_orthoimages",
           "proj:epsg": 3979,
           "resolution": 20,
           "sensorType": null,
           "startTimeFromAscendingNode": "2007-05-03T00:00:00Z",
           "style": {
            "color": "red"
           },
           "title": "S5_08419_4731_20070503"
          },
          "type": "Feature"
         },
         {
          "geometry": {
           "coordinates": [
            [
             [
              -86.1595605,
              49.23422629998713
             ],
             [
              -85.9407614,
              49.7529022999882
             ],
             [
              -85.1419636,
              49.60717919998791
             ],
             [
              -85.3685313,
              49.08959189998682
             ],
             [
              -86.1595605,
              49.23422629998713
             ]
            ]
           ],
           "type": "Polygon"
          },
          "id": "S5_08539_4925_20070503",
          "properties": {
           "abstract": null,
           "downloadLink": "https://eod-catalog-svc-prod.astraea.earth/collections/canada_spot5_orthoimages/items/S5_08539_4925_20070503",
           "eo:bands": [
            {
             "common_name": "panchromatic",
             "description": "Panchromatic: 480-710 nm",
             "name": "Panchromatic"
            },
            {
             "common_name": "green",
             "description": "Green: 500-590 nm",
             "name": "Green"
            },
            {
             "common_name": "red",
             "description": "Red: 610-680 nm",
             "name": "Red"
            },
            {
             "common_name": "nir",
             "description": "Near Infrared: 780-890 nm",
             "name": "Near Infrared"
            },
            {
             "common_name": "swir",
             "description": "ShortWave Infrared: 1580-1750 nm",
             "name": "ShortWave Infrared"
            }
           ],
           "eodag_product_type": null,
           "eodag_provider": "astraea_eod",
           "eodag_search_intersection": {
            "geometries": [],
            "type": "GeometryCollection"
           },
           "instrument": null,
           "license": null,
           "missionStartDate": null,
           "platform": null,
           "platformSerialIdentifier": null,
           "processingLevel": null,
           "productType": "canada_spot5_orthoimages",
           "proj:epsg": 3979,
           "resolution": 20,
           "sensorType": null,
           "startTimeFromAscendingNode": "2007-05-03T00:00:00Z",
           "style": {
            "color": "red"
           },
           "title": "S5_08539_4925_20070503"
          },
          "type": "Feature"
         },
         {
          "geometry": {
           "coordinates": [
            [
             [
              -81.4555888,
              44.9349105999999
             ],
             [
              -81.2491542,
              45.45280749999993
             ],
             [
              -80.5044075,
              45.30292019999991
             ],
             [
              -80.7183832,
              44.78516229999991
             ],
             [
              -81.4555888,
              44.9349105999999
             ]
            ]
           ],
           "type": "Polygon"
          },
          "id": "S5_08059_4507_20070504",
          "properties": {
           "abstract": null,
           "downloadLink": "https://eod-catalog-svc-prod.astraea.earth/collections/canada_spot5_orthoimages/items/S5_08059_4507_20070504",
           "eo:bands": [
            {
             "common_name": "panchromatic",
             "description": "Panchromatic: 480-710 nm",
             "name": "Panchromatic"
            },
            {
             "common_name": "green",
             "description": "Green: 500-590 nm",
             "name": "Green"
            },
            {
             "common_name": "red",
             "description": "Red: 610-680 nm",
             "name": "Red"
            },
            {
             "common_name": "nir",
             "description": "Near Infrared: 780-890 nm",
             "name": "Near Infrared"
            },
            {
             "common_name": "swir",
             "description": "ShortWave Infrared: 1580-1750 nm",
             "name": "ShortWave Infrared"
            }
           ],
           "eodag_product_type": null,
           "eodag_provider": "astraea_eod",
           "eodag_search_intersection": {
            "geometries": [],
            "type": "GeometryCollection"
           },
           "instrument": null,
           "license": null,
           "missionStartDate": null,
           "platform": null,
           "platformSerialIdentifier": null,
           "processingLevel": null,
           "productType": "canada_spot5_orthoimages",
           "proj:epsg": 3979,
           "resolution": 20,
           "sensorType": null,
           "startTimeFromAscendingNode": "2007-05-04T00:00:00Z",
           "style": {
            "color": "red"
           },
           "title": "S5_08059_4507_20070504"
          },
          "type": "Feature"
         },
         {
          "geometry": {
           "coordinates": [
            [
             [
              -77.8688576,
              44.92858479999993
             ],
             [
              -77.6751065,
              45.44990809999991
             ],
             [
              -76.9381127,
              45.3104741999999
             ],
             [
              -77.13831010000001,
              44.790157899999905
             ],
             [
              -77.8688576,
              44.92858479999993
             ]
            ]
           ],
           "type": "Polygon"
          },
          "id": "S5_07724_4507_20070505",
          "properties": {
           "abstract": null,
           "downloadLink": "https://eod-catalog-svc-prod.astraea.earth/collections/canada_spot5_orthoimages/items/S5_07724_4507_20070505",
           "eo:bands": [
            {
             "common_name": "panchromatic",
             "description": "Panchromatic: 480-710 nm",
             "name": "Panchromatic"
            },
            {
             "common_name": "green",
             "description": "Green: 500-590 nm",
             "name": "Green"
            },
            {
             "common_name": "red",
             "description": "Red: 610-680 nm",
             "name": "Red"
            },
            {
             "common_name": "nir",
             "description": "Near Infrared: 780-890 nm",
             "name": "Near Infrared"
            },
            {
             "common_name": "swir",
             "description": "ShortWave Infrared: 1580-1750 nm",
             "name": "ShortWave Infrared"
            }
           ],
           "eodag_product_type": null,
           "eodag_provider": "astraea_eod",
           "eodag_search_intersection": {
            "geometries": [],
            "type": "GeometryCollection"
           },
           "instrument": null,
           "license": null,
           "missionStartDate": null,
           "platform": null,
           "platformSerialIdentifier": null,
           "processingLevel": null,
           "productType": "canada_spot5_orthoimages",
           "proj:epsg": 3979,
           "resolution": 20,
           "sensorType": null,
           "startTimeFromAscendingNode": "2007-05-05T00:00:00Z",
           "style": {
            "color": "red"
           },
           "title": "S5_07724_4507_20070505"
          },
          "type": "Feature"
         },
         {
          "geometry": {
           "coordinates": [
            [
             [
              -81.6437402,
              44.45305149999991
             ],
             [
              -81.440283,
              44.97205759999991
             ],
             [
              -80.70280270000002,
              44.82283499999992
             ],
             [
              -80.91258470000001,
              44.304634199999924
             ],
             [
              -81.6437402,
              44.45305149999991
             ]
            ]
           ],
           "type": "Polygon"
          },
          "id": "S5_08111_4438_20070504",
          "properties": {
           "abstract": null,
           "downloadLink": "https://eod-catalog-svc-prod.astraea.earth/collections/canada_spot5_orthoimages/items/S5_08111_4438_20070504",
           "eo:bands": [
            {
             "common_name": "panchromatic",
             "description": "Panchromatic: 480-710 nm",
             "name": "Panchromatic"
            },
            {
             "common_name": "green",
             "description": "Green: 500-590 nm",
             "name": "Green"
            },
            {
             "common_name": "red",
             "description": "Red: 610-680 nm",
             "name": "Red"
            },
            {
             "common_name": "nir",
             "description": "Near Infrared: 780-890 nm",
             "name": "Near Infrared"
            },
            {
             "common_name": "swir",
             "description": "ShortWave Infrared: 1580-1750 nm",
             "name": "ShortWave Infrared"
            }
           ],
           "eodag_product_type": null,
           "eodag_provider": "astraea_eod",
           "eodag_search_intersection": {
            "geometries": [],
            "type": "GeometryCollection"
           },
           "instrument": null,
           "license": null,
           "missionStartDate": null,
           "platform": null,
           "platformSerialIdentifier": null,
           "processingLevel": null,
           "productType": "canada_spot5_orthoimages",
           "proj:epsg": 3979,
           "resolution": 20,
           "sensorType": null,
           "startTimeFromAscendingNode": "2007-05-04T00:00:00Z",
           "style": {
            "color": "red"
           },
           "title": "S5_08111_4438_20070504"
          },
          "type": "Feature"
         },
         {
          "geometry": {
           "coordinates": [
            [
             [
              -85.1430113,
              48.28905129998501
             ],
             [
              -84.9162353,
              48.80620119998619
             ],
             [
              -84.1287318,
              48.65145419998586
             ],
             [
              -84.3634894,
              48.135371299984634
             ],
             [
              -85.1430113,
              48.28905129998501
             ]
            ]
           ],
           "type": "Polygon"
          },
          "id": "S5_08438_4828_20070503",
          "properties": {
           "abstract": null,
           "downloadLink": "https://eod-catalog-svc-prod.astraea.earth/collections/canada_spot5_orthoimages/items/S5_08438_4828_20070503",
           "eo:bands": [
            {
             "common_name": "panchromatic",
             "description": "Panchromatic: 480-710 nm",
             "name": "Panchromatic"
            },
            {
             "common_name": "green",
             "description": "Green: 500-590 nm",
             "name": "Green"
            },
            {
             "common_name": "red",
             "description": "Red: 610-680 nm",
             "name": "Red"
            },
            {
             "common_name": "nir",
             "description": "Near Infrared: 780-890 nm",
             "name": "Near Infrared"
            },
            {
             "common_name": "swir",
             "description": "ShortWave Infrared: 1580-1750 nm",
             "name": "ShortWave Infrared"
            }
           ],
           "eodag_product_type": null,
           "eodag_provider": "astraea_eod",
           "eodag_search_intersection": {
            "geometries": [],
            "type": "GeometryCollection"
           },
           "instrument": null,
           "license": null,
           "missionStartDate": null,
           "platform": null,
           "platformSerialIdentifier": null,
           "processingLevel": null,
           "productType": "canada_spot5_orthoimages",
           "proj:epsg": 3979,
           "resolution": 20,
           "sensorType": null,
           "startTimeFromAscendingNode": "2007-05-03T00:00:00Z",
           "style": {
            "color": "red"
           },
           "title": "S5_08438_4828_20070503"
          },
          "type": "Feature"
         },
         {
          "geometry": {
           "coordinates": [
            [
             [
              -82.3604829,
              44.4490351999999
             ],
             [
              -82.1638974,
              44.969530699999915
             ],
             [
              -81.4321473,
              44.82679269999993
             ],
             [
              -81.6351024,
              44.307056199999906
             ],
             [
              -82.3604829,
              44.4490351999999
             ]
            ]
           ],
           "type": "Polygon"
          },
          "id": "S5_08154_4438_20070504",
          "properties": {
           "abstract": null,
           "downloadLink": "https://eod-catalog-svc-prod.astraea.earth/collections/canada_spot5_orthoimages/items/S5_08154_4438_20070504",
           "eo:bands": [
            {
             "common_name": "panchromatic",
             "description": "Panchromatic: 480-710 nm",
             "name": "Panchromatic"
            },
            {
             "common_name": "green",
             "description": "Green: 500-590 nm",
             "name": "Green"
            },
            {
             "common_name": "red",
             "description": "Red: 610-680 nm",
             "name": "Red"
            },
            {
             "common_name": "nir",
             "description": "Near Infrared: 780-890 nm",
             "name": "Near Infrared"
            },
            {
             "common_name": "swir",
             "description": "ShortWave Infrared: 1580-1750 nm",
             "name": "ShortWave Infrared"
            }
           ],
           "eodag_product_type": null,
           "eodag_provider": "astraea_eod",
           "eodag_search_intersection": {
            "geometries": [],
            "type": "GeometryCollection"
           },
           "instrument": null,
           "license": null,
           "missionStartDate": null,
           "platform": null,
           "platformSerialIdentifier": null,
           "processingLevel": null,
           "productType": "canada_spot5_orthoimages",
           "proj:epsg": 3979,
           "resolution": 20,
           "sensorType": null,
           "startTimeFromAscendingNode": "2007-05-04T00:00:00Z",
           "style": {
            "color": "red"
           },
           "title": "S5_08154_4438_20070504"
          },
          "type": "Feature"
         },
         {
          "geometry": {
           "coordinates": [
            [
             [
              -76.24385540000002,
              48.284491499985
             ],
             [
              -76.0261593,
              48.80282719998618
             ],
             [
              -75.24409010000001,
              48.65556529998587
             ],
             [
              -75.4693021,
              48.138179499984645
             ],
             [
              -76.24385540000002,
              48.284491499985
             ]
            ]
           ],
           "type": "Polygon"
          },
          "id": "S5_07545_4828_20070505",
          "properties": {
           "abstract": null,
           "downloadLink": "https://eod-catalog-svc-prod.astraea.earth/collections/canada_spot5_orthoimages/items/S5_07545_4828_20070505",
           "eo:bands": [
            {
             "common_name": "panchromatic",
             "description": "Panchromatic: 480-710 nm",
             "name": "Panchromatic"
            },
            {
             "common_name": "green",
             "description": "Green: 500-590 nm",
             "name": "Green"
            },
            {
             "common_name": "red",
             "description": "Red: 610-680 nm",
             "name": "Red"
            },
            {
             "common_name": "nir",
             "description": "Near Infrared: 780-890 nm",
             "name": "Near Infrared"
            },
            {
             "common_name": "swir",
             "description": "ShortWave Infrared: 1580-1750 nm",
             "name": "ShortWave Infrared"
            }
           ],
           "eodag_product_type": null,
           "eodag_provider": "astraea_eod",
           "eodag_search_intersection": {
            "geometries": [],
            "type": "GeometryCollection"
           },
           "instrument": null,
           "license": null,
           "missionStartDate": null,
           "platform": null,
           "platformSerialIdentifier": null,
           "processingLevel": null,
           "productType": "canada_spot5_orthoimages",
           "proj:epsg": 3979,
           "resolution": 20,
           "sensorType": null,
           "startTimeFromAscendingNode": "2007-05-05T00:00:00Z",
           "style": {
            "color": "red"
           },
           "title": "S5_07545_4828_20070505"
          },
          "type": "Feature"
         },
         {
          "geometry": {
           "coordinates": [
            [
             [
              -82.5399498,
              43.96653589999989
             ],
             [
              -82.3458555,
              44.4875308999999
             ],
             [
              -81.6429288,
              44.34954079999989
             ],
             [
              -81.861012,
              43.83442389999987
             ],
             [
              -82.5399498,
              43.96653589999989
             ]
            ]
           ],
           "type": "Polygon"
          },
          "id": "S5_08205_4409_20070504",
          "properties": {
           "abstract": null,
           "downloadLink": "https://eod-catalog-svc-prod.astraea.earth/collections/canada_spot5_orthoimages/items/S5_08205_4409_20070504",
           "eo:bands": [
            {
             "common_name": "panchromatic",
             "description": "Panchromatic: 480-710 nm",
             "name": "Panchromatic"
            },
            {
             "common_name": "green",
             "description": "Green: 500-590 nm",
             "name": "Green"
            },
            {
             "common_name": "red",
             "description": "Red: 610-680 nm",
             "name": "Red"
            },
            {
             "common_name": "nir",
             "description": "Near Infrared: 780-890 nm",
             "name": "Near Infrared"
            },
            {
             "common_name": "swir",
             "description": "ShortWave Infrared: 1580-1750 nm",
             "name": "ShortWave Infrared"
            }
           ],
           "eodag_product_type": null,
           "eodag_provider": "astraea_eod",
           "eodag_search_intersection": {
            "geometries": [],
            "type": "GeometryCollection"
           },
           "instrument": null,
           "license": null,
           "missionStartDate": null,
           "platform": null,
           "platformSerialIdentifier": null,
           "processingLevel": null,
           "productType": "canada_spot5_orthoimages",
           "proj:epsg": 3979,
           "resolution": 20,
           "sensorType": null,
           "startTimeFromAscendingNode": "2007-05-04T00:00:00Z",
           "style": {
            "color": "red"
           },
           "title": "S5_08205_4409_20070504"
          },
          "type": "Feature"
         },
         {
          "geometry": {
           "coordinates": [
            [
             [
              -75.8416676,
              49.236272499987166
             ],
             [
              -75.6169194,
              49.75401399998823
             ],
             [
              -74.8203005,
              49.60474209998792
             ],
             [
              -75.052923,
              49.08803909998684
             ],
             [
              -75.8416676,
              49.236272499987166
             ]
            ]
           ],
           "type": "Polygon"
          },
          "id": "S5_07520_4925_20070505",
          "properties": {
           "abstract": null,
           "downloadLink": "https://eod-catalog-svc-prod.astraea.earth/collections/canada_spot5_orthoimages/items/S5_07520_4925_20070505",
           "eo:bands": [
            {
             "common_name": "panchromatic",
             "description": "Panchromatic: 480-710 nm",
             "name": "Panchromatic"
            },
            {
             "common_name": "green",
             "description": "Green: 500-590 nm",
             "name": "Green"
            },
            {
             "common_name": "red",
             "description": "Red: 610-680 nm",
             "name": "Red"
            },
            {
             "common_name": "nir",
             "description": "Near Infrared: 780-890 nm",
             "name": "Near Infrared"
            },
            {
             "common_name": "swir",
             "description": "ShortWave Infrared: 1580-1750 nm",
             "name": "ShortWave Infrared"
            }
           ],
           "eodag_product_type": null,
           "eodag_provider": "astraea_eod",
           "eodag_search_intersection": {
            "geometries": [],
            "type": "GeometryCollection"
           },
           "instrument": null,
           "license": null,
           "missionStartDate": null,
           "platform": null,
           "platformSerialIdentifier": null,
           "processingLevel": null,
           "productType": "canada_spot5_orthoimages",
           "proj:epsg": 3979,
           "resolution": 20,
           "sensorType": null,
           "startTimeFromAscendingNode": "2007-05-05T00:00:00Z",
           "style": {
            "color": "red"
           },
           "title": "S5_07520_4925_20070505"
          },
          "type": "Feature"
         },
         {
          "geometry": {
           "coordinates": [
            [
             [
              -134.61285240000004,
              59.90237209999863
             ],
             [
              -134.2436326,
              60.40733679999877
             ],
             [
              -133.2247839,
              60.218067899998715
             ],
             [
              -133.60573870000002,
              59.715175899998535
             ],
             [
              -134.61285240000004,
              59.90237209999863
             ]
            ]
           ],
           "type": "Polygon"
          },
          "id": "S5_13355_6004_20070502",
          "properties": {
           "abstract": null,
           "downloadLink": "https://eod-catalog-svc-prod.astraea.earth/collections/canada_spot5_orthoimages/items/S5_13355_6004_20070502",
           "eo:bands": [
            {
             "common_name": "panchromatic",
             "description": "Panchromatic: 480-710 nm",
             "name": "Panchromatic"
            },
            {
             "common_name": "green",
             "description": "Green: 500-590 nm",
             "name": "Green"
            },
            {
             "common_name": "red",
             "description": "Red: 610-680 nm",
             "name": "Red"
            },
            {
             "common_name": "nir",
             "description": "Near Infrared: 780-890 nm",
             "name": "Near Infrared"
            },
            {
             "common_name": "swir",
             "description": "ShortWave Infrared: 1580-1750 nm",
             "name": "ShortWave Infrared"
            }
           ],
           "eodag_product_type": null,
           "eodag_provider": "astraea_eod",
           "eodag_search_intersection": {
            "geometries": [],
            "type": "GeometryCollection"
           },
           "instrument": null,
           "license": null,
           "missionStartDate": null,
           "platform": null,
           "platformSerialIdentifier": null,
           "processingLevel": null,
           "productType": "canada_spot5_orthoimages",
           "proj:epsg": 3979,
           "resolution": 20,
           "sensorType": null,
           "startTimeFromAscendingNode": "2007-05-02T00:00:00Z",
           "style": {
            "color": "red"
           },
           "title": "S5_13355_6004_20070502"
          },
          "type": "Feature"
         },
         {
          "geometry": {
           "coordinates": [
            [
             [
              -75.8321003,
              47.85693209998394
             ],
             [
              -75.5637798,
              48.363290499985176
             ],
             [
              -74.5776358,
              48.12570679998459
             ],
             [
              -74.8555234,
              47.61966979998332
             ],
             [
              -75.8321003,
              47.85693209998394
             ]
            ]
           ],
           "type": "Polygon"
          },
          "id": "S5_07513_4760_20070504",
          "properties": {
           "abstract": null,
           "downloadLink": "https://eod-catalog-svc-prod.astraea.earth/collections/canada_spot5_orthoimages/items/S5_07513_4760_20070504",
           "eo:bands": [
            {
             "common_name": "panchromatic",
             "description": "Panchromatic: 480-710 nm",
             "name": "Panchromatic"
            },
            {
             "common_name": "green",
             "description": "Green: 500-590 nm",
             "name": "Green"
            },
            {
             "common_name": "red",
             "description": "Red: 610-680 nm",
             "name": "Red"
            },
            {
             "common_name": "nir",
             "description": "Near Infrared: 780-890 nm",
             "name": "Near Infrared"
            },
            {
             "common_name": "swir",
             "description": "ShortWave Infrared: 1580-1750 nm",
             "name": "ShortWave Infrared"
            }
           ],
           "eodag_product_type": null,
           "eodag_provider": "astraea_eod",
           "eodag_search_intersection": {
            "geometries": [],
            "type": "GeometryCollection"
           },
           "instrument": null,
           "license": null,
           "missionStartDate": null,
           "platform": null,
           "platformSerialIdentifier": null,
           "processingLevel": null,
           "productType": "canada_spot5_orthoimages",
           "proj:epsg": 3979,
           "resolution": 20,
           "sensorType": null,
           "startTimeFromAscendingNode": "2007-05-04T00:00:00Z",
           "style": {
            "color": "red"
           },
           "title": "S5_07513_4760_20070504"
          },
          "type": "Feature"
         }
        ],
        "type": "FeatureCollection"
       },
       "name": "",
       "options": [],
       "popup": null,
       "popup_max_height": null,
       "popup_max_width": 300,
       "popup_min_width": 50,
       "style": {
        "color": "red"
       }
      }
     },
     "eae21e0bab8247b6b3196d45c186c9ab": {
      "model_module": "@jupyter-widgets/base",
      "model_module_version": "1.2.0",
      "model_name": "LayoutModel",
      "state": {}
     },
     "ec923392cbf545bf9389155eb5ced36a": {
      "model_module": "jupyter-leaflet",
      "model_module_version": "^0.13.5",
      "model_name": "LeafletTileLayerModel",
      "state": {
       "_model_module_version": "^0.13.5",
       "_view_module_version": "^0.13.5",
       "base": true,
       "max_native_zoom": 18,
       "max_zoom": 19,
       "min_native_zoom": 0,
       "min_zoom": 1,
       "options": [
        "attribution",
        "detect_retina",
        "max_native_zoom",
        "max_zoom",
        "min_native_zoom",
        "min_zoom",
        "no_wrap",
        "tile_size",
        "tms"
       ]
      }
     },
     "ece05cea3b36462a8a928fb1b41cdfe8": {
      "model_module": "@jupyter-widgets/controls",
      "model_module_version": "1.5.0",
      "model_name": "HTMLModel",
      "state": {
       "layout": "IPY_MODEL_b26493b8331d4e0fb5f32e56b5659fab",
       "style": "IPY_MODEL_3009b1c1fbe2414997db23d5b5e774db",
       "value": "S5_07702_4605_20070505: 100%"
      }
     },
     "ed3fd29269524ecb8f3992882e98f646": {
      "model_module": "jupyter-leaflet",
      "model_module_version": "^0.13.5",
      "model_name": "LeafletMapStyleModel",
      "state": {
       "_model_module_version": "^0.13.5"
      }
     },
     "ee3ea2d086cc430882929dd3208e5f69": {
      "model_module": "@jupyter-widgets/base",
      "model_module_version": "1.2.0",
      "model_name": "LayoutModel",
      "state": {
       "display": "inline-flex",
       "flex_flow": "row wrap",
       "width": "100%"
      }
     },
     "f252f0eb10d94c47a4fb4d2077f32e85": {
      "model_module": "@jupyter-widgets/controls",
      "model_module_version": "1.5.0",
      "model_name": "FloatProgressModel",
      "state": {
       "bar_style": "success",
       "layout": "IPY_MODEL_0f76424c27cc4bfa906a220d280eb9a2",
       "max": 77683711,
       "style": "IPY_MODEL_829702b9e32c4e929d18c9e0f52e1107",
       "value": 77683711
      }
     },
     "f288769a3f4045259be140831457c207": {
      "model_module": "@jupyter-widgets/controls",
      "model_module_version": "1.5.0",
      "model_name": "FloatProgressModel",
      "state": {
       "bar_style": "success",
       "layout": "IPY_MODEL_8b0af4c4045b45609f1f76ca6fb927d2",
       "max": 77683711,
       "style": "IPY_MODEL_962476d0cb3f4b00b68006c5747d5f54",
       "value": 77683711
      }
     },
     "f3dfbf29310e4f428f6603afa0c3e9e5": {
      "model_module": "jupyter-leaflet",
      "model_module_version": "^0.13.5",
      "model_name": "LeafletMapStyleModel",
      "state": {
       "_model_module_version": "^0.13.5"
      }
     },
     "f50f28f0dbd148d794252ea8af66393e": {
      "model_module": "@jupyter-widgets/base",
      "model_module_version": "1.2.0",
      "model_name": "LayoutModel",
      "state": {}
     },
     "f515e33d99184616a1ab3543d028c06e": {
      "model_module": "@jupyter-widgets/controls",
      "model_module_version": "1.5.0",
      "model_name": "HTMLModel",
      "state": {
       "layout": "IPY_MODEL_9399f5608b3143449ff26535ac252375",
       "style": "IPY_MODEL_825f44efbfb04a21a192e5fc7575336d",
       "value": " 77.7M/77.7M [00:17&lt;00:00, 7.04MB/s]"
      }
     },
     "f688d709b66640a99ca558a5a8831aba": {
      "model_module": "jupyter-leaflet",
      "model_module_version": "^0.13.5",
      "model_name": "LeafletMapStyleModel",
      "state": {
       "_model_module_version": "^0.13.5"
      }
     },
     "f69d0c88cba849b29c77c1474f940270": {
      "model_module": "jupyter-leaflet",
      "model_module_version": "^0.13.5",
      "model_name": "LeafletGeoJSONModel",
      "state": {
       "_model_module": "jupyter-leaflet",
       "_model_module_version": "^0.13.5",
       "_view_count": null,
       "_view_module": "jupyter-leaflet",
       "_view_module_version": "^0.13.5",
       "base": false,
       "bottom": false,
       "data": {
        "features": [
         {
          "geometry": {
           "coordinates": [
            [
             [
              -77.5086458,
              45.89066339999992
             ],
             [
              -77.3097434,
              46.411011399999936
             ],
             [
              -76.56018450000002,
              46.27010199999995
             ],
             [
              -76.766165,
              45.75074559999991
             ],
             [
              -77.5086458,
              45.89066339999992
             ]
            ]
           ],
           "type": "Polygon"
          },
          "id": "S5_07702_4605_20070505",
          "properties": {
           "abstract": null,
           "downloadLink": "https://fake-endpoint/collections/canada_spot5_orthoimages/items/S5_07702_4605_20070505",
           "eo:bands": [
            {
             "common_name": "panchromatic",
             "description": "Panchromatic: 480-710 nm",
             "name": "Panchromatic"
            },
            {
             "common_name": "green",
             "description": "Green: 500-590 nm",
             "name": "Green"
            },
            {
             "common_name": "red",
             "description": "Red: 610-680 nm",
             "name": "Red"
            },
            {
             "common_name": "nir",
             "description": "Near Infrared: 780-890 nm",
             "name": "Near Infrared"
            },
            {
             "common_name": "swir",
             "description": "ShortWave Infrared: 1580-1750 nm",
             "name": "ShortWave Infrared"
            }
           ],
           "eodag_product_type": null,
           "eodag_provider": "stac_http_provider",
           "eodag_search_intersection": {
            "geometries": [],
            "type": "GeometryCollection"
           },
           "instrument": null,
           "license": null,
           "missionStartDate": null,
           "platform": null,
           "platformSerialIdentifier": null,
           "processingLevel": null,
           "productType": "canada_spot5_orthoimages",
           "proj:epsg": 3979,
           "resolution": 20,
           "sensorType": null,
           "startTimeFromAscendingNode": "2007-05-05T00:00:00Z",
           "storageStatus": "ONLINE",
           "style": {
            "color": "green"
           },
           "thumbnail": "https://canada-spot-ortho.s3.amazonaws.com/canada_spot_orthoimages/canada_spot5_orthoimages/S5_2007/S5_07702_4605_20070505/s5_07702_4605_20070505_tn.jpg",
           "title": "S5_07702_4605_20070505"
          },
          "type": "Feature"
         },
         {
          "geometry": {
           "coordinates": [
            [
             [
              -77.6897149,
              45.41003529999992
             ],
             [
              -77.493466,
              45.93058879999993
             ],
             [
              -76.7514935,
              45.790705999999915
             ],
             [
              -76.9536275,
              45.27084659999991
             ],
             [
              -77.6897149,
              45.41003529999992
             ]
            ]
           ],
           "type": "Polygon"
          },
          "id": "S5_07713_4536_20070505",
          "properties": {
           "abstract": null,
           "downloadLink": "https://fake-endpoint/collections/canada_spot5_orthoimages/items/S5_07713_4536_20070505",
           "eo:bands": [
            {
             "common_name": "panchromatic",
             "description": "Panchromatic: 480-710 nm",
             "name": "Panchromatic"
            },
            {
             "common_name": "green",
             "description": "Green: 500-590 nm",
             "name": "Green"
            },
            {
             "common_name": "red",
             "description": "Red: 610-680 nm",
             "name": "Red"
            },
            {
             "common_name": "nir",
             "description": "Near Infrared: 780-890 nm",
             "name": "Near Infrared"
            },
            {
             "common_name": "swir",
             "description": "ShortWave Infrared: 1580-1750 nm",
             "name": "ShortWave Infrared"
            }
           ],
           "eodag_product_type": null,
           "eodag_provider": "stac_http_provider",
           "eodag_search_intersection": {
            "geometries": [],
            "type": "GeometryCollection"
           },
           "instrument": null,
           "license": null,
           "missionStartDate": null,
           "platform": null,
           "platformSerialIdentifier": null,
           "processingLevel": null,
           "productType": "canada_spot5_orthoimages",
           "proj:epsg": 3979,
           "resolution": 20,
           "sensorType": null,
           "startTimeFromAscendingNode": "2007-05-05T00:00:00Z",
           "storageStatus": "ONLINE",
           "style": {
            "color": "green"
           },
           "thumbnail": "https://canada-spot-ortho.s3.amazonaws.com/canada_spot_orthoimages/canada_spot5_orthoimages/S5_2007/S5_07713_4536_20070505/s5_07713_4536_20070505_tn.jpg",
           "title": "S5_07713_4536_20070505"
          },
          "type": "Feature"
         },
         {
          "geometry": {
           "coordinates": [
            [
             [
              -77.8688576,
              44.92858479999993
             ],
             [
              -77.6751065,
              45.44990809999991
             ],
             [
              -76.9381127,
              45.3104741999999
             ],
             [
              -77.13831010000001,
              44.790157899999905
             ],
             [
              -77.8688576,
              44.92858479999993
             ]
            ]
           ],
           "type": "Polygon"
          },
          "id": "S5_07724_4507_20070505",
          "properties": {
           "abstract": null,
           "downloadLink": "https://fake-endpoint/collections/canada_spot5_orthoimages/items/S5_07724_4507_20070505",
           "eo:bands": [
            {
             "common_name": "panchromatic",
             "description": "Panchromatic: 480-710 nm",
             "name": "Panchromatic"
            },
            {
             "common_name": "green",
             "description": "Green: 500-590 nm",
             "name": "Green"
            },
            {
             "common_name": "red",
             "description": "Red: 610-680 nm",
             "name": "Red"
            },
            {
             "common_name": "nir",
             "description": "Near Infrared: 780-890 nm",
             "name": "Near Infrared"
            },
            {
             "common_name": "swir",
             "description": "ShortWave Infrared: 1580-1750 nm",
             "name": "ShortWave Infrared"
            }
           ],
           "eodag_product_type": null,
           "eodag_provider": "stac_http_provider",
           "eodag_search_intersection": {
            "geometries": [],
            "type": "GeometryCollection"
           },
           "instrument": null,
           "license": null,
           "missionStartDate": null,
           "platform": null,
           "platformSerialIdentifier": null,
           "processingLevel": null,
           "productType": "canada_spot5_orthoimages",
           "proj:epsg": 3979,
           "resolution": 20,
           "sensorType": null,
           "startTimeFromAscendingNode": "2007-05-05T00:00:00Z",
           "storageStatus": "ONLINE",
           "style": {
            "color": "green"
           },
           "thumbnail": "https://canada-spot-ortho.s3.amazonaws.com/canada_spot_orthoimages/canada_spot5_orthoimages/S5_2007/S5_07724_4507_20070505/s5_07724_4507_20070505_tn.jpg",
           "title": "S5_07724_4507_20070505"
          },
          "type": "Feature"
         }
        ],
        "type": "FeatureCollection"
       },
       "name": "",
       "options": [],
       "popup": null,
       "popup_max_height": null,
       "popup_max_width": 300,
       "popup_min_width": 50,
       "style": {
        "color": "green"
       }
      }
     },
     "f86b356740d940849d84fd8c63f5fe9d": {
      "model_module": "jupyter-leaflet",
      "model_module_version": "^0.13.5",
      "model_name": "LeafletGeoJSONModel",
      "state": {
       "_model_module": "jupyter-leaflet",
       "_model_module_version": "^0.13.5",
       "_view_count": null,
       "_view_module": "jupyter-leaflet",
       "_view_module_version": "^0.13.5",
       "base": false,
       "bottom": false,
       "data": {
        "features": [
         {
          "geometry": {
           "coordinates": [
            [
             [
              -75.635484,
              49.71080699998813
             ],
             [
              -75.4077832,
              50.22914529998913
             ],
             [
              -74.6039477,
              50.07893649998885
             ],
             [
              -74.839718,
              49.562025099987835
             ],
             [
              -75.635484,
              49.71080699998813
             ]
            ]
           ],
           "type": "Polygon"
          },
          "id": "S5_07507_4954_20070505",
          "properties": {
           "abstract": null,
           "downloadLink": "https://fake-endpoint/collections/canada_spot5_orthoimages/items/S5_07507_4954_20070505",
           "eo:bands": [
            {
             "common_name": "panchromatic",
             "description": "Panchromatic: 480-710 nm",
             "name": "Panchromatic"
            },
            {
             "common_name": "green",
             "description": "Green: 500-590 nm",
             "name": "Green"
            },
            {
             "common_name": "red",
             "description": "Red: 610-680 nm",
             "name": "Red"
            },
            {
             "common_name": "nir",
             "description": "Near Infrared: 780-890 nm",
             "name": "Near Infrared"
            },
            {
             "common_name": "swir",
             "description": "ShortWave Infrared: 1580-1750 nm",
             "name": "ShortWave Infrared"
            }
           ],
           "eodag_product_type": null,
           "eodag_provider": "stac_http_provider",
           "eodag_search_intersection": {
            "geometries": [],
            "type": "GeometryCollection"
           },
           "instrument": null,
           "license": null,
           "missionStartDate": null,
           "platform": null,
           "platformSerialIdentifier": null,
           "processingLevel": null,
           "productType": "canada_spot5_orthoimages",
           "proj:epsg": 3979,
           "resolution": 20,
           "sensorType": null,
           "startTimeFromAscendingNode": "2007-05-05T00:00:00Z",
           "storageStatus": "ONLINE",
           "style": {
            "color": "green"
           },
           "thumbnail": "https://canada-spot-ortho.s3.amazonaws.com/canada_spot_orthoimages/canada_spot5_orthoimages/S5_2007/S5_07507_4954_20070505/s5_07507_4954_20070505_tn.jpg",
           "title": "S5_07507_4954_20070505"
          },
          "type": "Feature"
         },
         {
          "geometry": {
           "coordinates": [
            [
             [
              -77.5086458,
              45.89066339999992
             ],
             [
              -77.3097434,
              46.411011399999936
             ],
             [
              -76.56018450000002,
              46.27010199999995
             ],
             [
              -76.766165,
              45.75074559999991
             ],
             [
              -77.5086458,
              45.89066339999992
             ]
            ]
           ],
           "type": "Polygon"
          },
          "id": "S5_07702_4605_20070505",
          "properties": {
           "abstract": null,
           "downloadLink": "https://fake-endpoint/collections/canada_spot5_orthoimages/items/S5_07702_4605_20070505",
           "eo:bands": [
            {
             "common_name": "panchromatic",
             "description": "Panchromatic: 480-710 nm",
             "name": "Panchromatic"
            },
            {
             "common_name": "green",
             "description": "Green: 500-590 nm",
             "name": "Green"
            },
            {
             "common_name": "red",
             "description": "Red: 610-680 nm",
             "name": "Red"
            },
            {
             "common_name": "nir",
             "description": "Near Infrared: 780-890 nm",
             "name": "Near Infrared"
            },
            {
             "common_name": "swir",
             "description": "ShortWave Infrared: 1580-1750 nm",
             "name": "ShortWave Infrared"
            }
           ],
           "eodag_product_type": null,
           "eodag_provider": "stac_http_provider",
           "eodag_search_intersection": {
            "geometries": [],
            "type": "GeometryCollection"
           },
           "instrument": null,
           "license": null,
           "missionStartDate": null,
           "platform": null,
           "platformSerialIdentifier": null,
           "processingLevel": null,
           "productType": "canada_spot5_orthoimages",
           "proj:epsg": 3979,
           "resolution": 20,
           "sensorType": null,
           "startTimeFromAscendingNode": "2007-05-05T00:00:00Z",
           "storageStatus": "ONLINE",
           "style": {
            "color": "green"
           },
           "thumbnail": "https://canada-spot-ortho.s3.amazonaws.com/canada_spot_orthoimages/canada_spot5_orthoimages/S5_2007/S5_07702_4605_20070505/s5_07702_4605_20070505_tn.jpg",
           "title": "S5_07702_4605_20070505"
          },
          "type": "Feature"
         },
         {
          "geometry": {
           "coordinates": [
            [
             [
              -77.6897149,
              45.41003529999992
             ],
             [
              -77.493466,
              45.93058879999993
             ],
             [
              -76.7514935,
              45.790705999999915
             ],
             [
              -76.9536275,
              45.27084659999991
             ],
             [
              -77.6897149,
              45.41003529999992
             ]
            ]
           ],
           "type": "Polygon"
          },
          "id": "S5_07713_4536_20070505",
          "properties": {
           "abstract": null,
           "downloadLink": "https://fake-endpoint/collections/canada_spot5_orthoimages/items/S5_07713_4536_20070505",
           "eo:bands": [
            {
             "common_name": "panchromatic",
             "description": "Panchromatic: 480-710 nm",
             "name": "Panchromatic"
            },
            {
             "common_name": "green",
             "description": "Green: 500-590 nm",
             "name": "Green"
            },
            {
             "common_name": "red",
             "description": "Red: 610-680 nm",
             "name": "Red"
            },
            {
             "common_name": "nir",
             "description": "Near Infrared: 780-890 nm",
             "name": "Near Infrared"
            },
            {
             "common_name": "swir",
             "description": "ShortWave Infrared: 1580-1750 nm",
             "name": "ShortWave Infrared"
            }
           ],
           "eodag_product_type": null,
           "eodag_provider": "stac_http_provider",
           "eodag_search_intersection": {
            "geometries": [],
            "type": "GeometryCollection"
           },
           "instrument": null,
           "license": null,
           "missionStartDate": null,
           "platform": null,
           "platformSerialIdentifier": null,
           "processingLevel": null,
           "productType": "canada_spot5_orthoimages",
           "proj:epsg": 3979,
           "resolution": 20,
           "sensorType": null,
           "startTimeFromAscendingNode": "2007-05-05T00:00:00Z",
           "storageStatus": "ONLINE",
           "style": {
            "color": "green"
           },
           "thumbnail": "https://canada-spot-ortho.s3.amazonaws.com/canada_spot_orthoimages/canada_spot5_orthoimages/S5_2007/S5_07713_4536_20070505/s5_07713_4536_20070505_tn.jpg",
           "title": "S5_07713_4536_20070505"
          },
          "type": "Feature"
         },
         {
          "geometry": {
           "coordinates": [
            [
             [
              -77.8688576,
              44.92858479999993
             ],
             [
              -77.6751065,
              45.44990809999991
             ],
             [
              -76.9381127,
              45.3104741999999
             ],
             [
              -77.13831010000001,
              44.790157899999905
             ],
             [
              -77.8688576,
              44.92858479999993
             ]
            ]
           ],
           "type": "Polygon"
          },
          "id": "S5_07724_4507_20070505",
          "properties": {
           "abstract": null,
           "downloadLink": "https://fake-endpoint/collections/canada_spot5_orthoimages/items/S5_07724_4507_20070505",
           "eo:bands": [
            {
             "common_name": "panchromatic",
             "description": "Panchromatic: 480-710 nm",
             "name": "Panchromatic"
            },
            {
             "common_name": "green",
             "description": "Green: 500-590 nm",
             "name": "Green"
            },
            {
             "common_name": "red",
             "description": "Red: 610-680 nm",
             "name": "Red"
            },
            {
             "common_name": "nir",
             "description": "Near Infrared: 780-890 nm",
             "name": "Near Infrared"
            },
            {
             "common_name": "swir",
             "description": "ShortWave Infrared: 1580-1750 nm",
             "name": "ShortWave Infrared"
            }
           ],
           "eodag_product_type": null,
           "eodag_provider": "stac_http_provider",
           "eodag_search_intersection": {
            "geometries": [],
            "type": "GeometryCollection"
           },
           "instrument": null,
           "license": null,
           "missionStartDate": null,
           "platform": null,
           "platformSerialIdentifier": null,
           "processingLevel": null,
           "productType": "canada_spot5_orthoimages",
           "proj:epsg": 3979,
           "resolution": 20,
           "sensorType": null,
           "startTimeFromAscendingNode": "2007-05-05T00:00:00Z",
           "storageStatus": "ONLINE",
           "style": {
            "color": "green"
           },
           "thumbnail": "https://canada-spot-ortho.s3.amazonaws.com/canada_spot_orthoimages/canada_spot5_orthoimages/S5_2007/S5_07724_4507_20070505/s5_07724_4507_20070505_tn.jpg",
           "title": "S5_07724_4507_20070505"
          },
          "type": "Feature"
         },
         {
          "geometry": {
           "coordinates": [
            [
             [
              -76.24385540000002,
              48.284491499985
             ],
             [
              -76.0261593,
              48.80282719998618
             ],
             [
              -75.24409010000001,
              48.65556529998587
             ],
             [
              -75.4693021,
              48.138179499984645
             ],
             [
              -76.24385540000002,
              48.284491499985
             ]
            ]
           ],
           "type": "Polygon"
          },
          "id": "S5_07545_4828_20070505",
          "properties": {
           "abstract": null,
           "downloadLink": "https://fake-endpoint/collections/canada_spot5_orthoimages/items/S5_07545_4828_20070505",
           "eo:bands": [
            {
             "common_name": "panchromatic",
             "description": "Panchromatic: 480-710 nm",
             "name": "Panchromatic"
            },
            {
             "common_name": "green",
             "description": "Green: 500-590 nm",
             "name": "Green"
            },
            {
             "common_name": "red",
             "description": "Red: 610-680 nm",
             "name": "Red"
            },
            {
             "common_name": "nir",
             "description": "Near Infrared: 780-890 nm",
             "name": "Near Infrared"
            },
            {
             "common_name": "swir",
             "description": "ShortWave Infrared: 1580-1750 nm",
             "name": "ShortWave Infrared"
            }
           ],
           "eodag_product_type": null,
           "eodag_provider": "stac_http_provider",
           "eodag_search_intersection": {
            "geometries": [],
            "type": "GeometryCollection"
           },
           "instrument": null,
           "license": null,
           "missionStartDate": null,
           "platform": null,
           "platformSerialIdentifier": null,
           "processingLevel": null,
           "productType": "canada_spot5_orthoimages",
           "proj:epsg": 3979,
           "resolution": 20,
           "sensorType": null,
           "startTimeFromAscendingNode": "2007-05-05T00:00:00Z",
           "storageStatus": "ONLINE",
           "style": {
            "color": "green"
           },
           "thumbnail": "https://canada-spot-ortho.s3.amazonaws.com/canada_spot_orthoimages/canada_spot5_orthoimages/S5_2007/S5_07545_4828_20070505/s5_07545_4828_20070505_tn.jpg",
           "title": "S5_07545_4828_20070505"
          },
          "type": "Feature"
         },
         {
          "geometry": {
           "coordinates": [
            [
             [
              -75.8416676,
              49.236272499987166
             ],
             [
              -75.6169194,
              49.75401399998823
             ],
             [
              -74.8203005,
              49.60474209998792
             ],
             [
              -75.052923,
              49.08803909998684
             ],
             [
              -75.8416676,
              49.236272499987166
             ]
            ]
           ],
           "type": "Polygon"
          },
          "id": "S5_07520_4925_20070505",
          "properties": {
           "abstract": null,
           "downloadLink": "https://fake-endpoint/collections/canada_spot5_orthoimages/items/S5_07520_4925_20070505",
           "eo:bands": [
            {
             "common_name": "panchromatic",
             "description": "Panchromatic: 480-710 nm",
             "name": "Panchromatic"
            },
            {
             "common_name": "green",
             "description": "Green: 500-590 nm",
             "name": "Green"
            },
            {
             "common_name": "red",
             "description": "Red: 610-680 nm",
             "name": "Red"
            },
            {
             "common_name": "nir",
             "description": "Near Infrared: 780-890 nm",
             "name": "Near Infrared"
            },
            {
             "common_name": "swir",
             "description": "ShortWave Infrared: 1580-1750 nm",
             "name": "ShortWave Infrared"
            }
           ],
           "eodag_product_type": null,
           "eodag_provider": "stac_http_provider",
           "eodag_search_intersection": {
            "geometries": [],
            "type": "GeometryCollection"
           },
           "instrument": null,
           "license": null,
           "missionStartDate": null,
           "platform": null,
           "platformSerialIdentifier": null,
           "processingLevel": null,
           "productType": "canada_spot5_orthoimages",
           "proj:epsg": 3979,
           "resolution": 20,
           "sensorType": null,
           "startTimeFromAscendingNode": "2007-05-05T00:00:00Z",
           "storageStatus": "ONLINE",
           "style": {
            "color": "green"
           },
           "thumbnail": "https://canada-spot-ortho.s3.amazonaws.com/canada_spot_orthoimages/canada_spot5_orthoimages/S5_2007/S5_07520_4925_20070505/s5_07520_4925_20070505_tn.jpg",
           "title": "S5_07520_4925_20070505"
          },
          "type": "Feature"
         },
         {
          "geometry": {
           "coordinates": [
            [
             [
              -75.8321003,
              47.85693209998394
             ],
             [
              -75.5637798,
              48.363290499985176
             ],
             [
              -74.5776358,
              48.12570679998459
             ],
             [
              -74.8555234,
              47.61966979998332
             ],
             [
              -75.8321003,
              47.85693209998394
             ]
            ]
           ],
           "type": "Polygon"
          },
          "id": "S5_07513_4760_20070504",
          "properties": {
           "abstract": null,
           "downloadLink": "https://fake-endpoint/collections/canada_spot5_orthoimages/items/S5_07513_4760_20070504",
           "eo:bands": [
            {
             "common_name": "panchromatic",
             "description": "Panchromatic: 480-710 nm",
             "name": "Panchromatic"
            },
            {
             "common_name": "green",
             "description": "Green: 500-590 nm",
             "name": "Green"
            },
            {
             "common_name": "red",
             "description": "Red: 610-680 nm",
             "name": "Red"
            },
            {
             "common_name": "nir",
             "description": "Near Infrared: 780-890 nm",
             "name": "Near Infrared"
            },
            {
             "common_name": "swir",
             "description": "ShortWave Infrared: 1580-1750 nm",
             "name": "ShortWave Infrared"
            }
           ],
           "eodag_product_type": null,
           "eodag_provider": "stac_http_provider",
           "eodag_search_intersection": {
            "geometries": [],
            "type": "GeometryCollection"
           },
           "instrument": null,
           "license": null,
           "missionStartDate": null,
           "platform": null,
           "platformSerialIdentifier": null,
           "processingLevel": null,
           "productType": "canada_spot5_orthoimages",
           "proj:epsg": 3979,
           "resolution": 20,
           "sensorType": null,
           "startTimeFromAscendingNode": "2007-05-04T00:00:00Z",
           "storageStatus": "ONLINE",
           "style": {
            "color": "green"
           },
           "thumbnail": "https://canada-spot-ortho.s3.amazonaws.com/canada_spot_orthoimages/canada_spot5_orthoimages/S5_2007/S5_07513_4760_20070504/s5_07513_4760_20070504_tn.jpg",
           "title": "S5_07513_4760_20070504"
          },
          "type": "Feature"
         }
        ],
        "type": "FeatureCollection"
       },
       "name": "",
       "options": [],
       "popup": null,
       "popup_max_height": null,
       "popup_max_width": 300,
       "popup_min_width": 50,
       "style": {
        "color": "green"
       }
      }
     },
     "f93acd1701104a7c937d057a8a496a96": {
      "model_module": "jupyter-leaflet",
      "model_module_version": "^0.13.5",
      "model_name": "LeafletGeoJSONModel",
      "state": {
       "_model_module": "jupyter-leaflet",
       "_model_module_version": "^0.13.5",
       "_view_count": null,
       "_view_module": "jupyter-leaflet",
       "_view_module_version": "^0.13.5",
       "base": false,
       "bottom": false,
       "data": {
        "features": [
         {
          "geometry": {
           "coordinates": [
            [
             [
              -75.635484,
              49.71080699998813
             ],
             [
              -75.4077832,
              50.22914529998913
             ],
             [
              -74.6039477,
              50.07893649998885
             ],
             [
              -74.839718,
              49.562025099987835
             ],
             [
              -75.635484,
              49.71080699998813
             ]
            ]
           ],
           "type": "Polygon"
          },
          "id": "S5_07507_4954_20070505",
          "properties": {
           "abstract": null,
           "downloadLink": "https://fake-endpoint/collections/canada_spot5_orthoimages/items/S5_07507_4954_20070505",
           "eo:bands": [
            {
             "common_name": "panchromatic",
             "description": "Panchromatic: 480-710 nm",
             "name": "Panchromatic"
            },
            {
             "common_name": "green",
             "description": "Green: 500-590 nm",
             "name": "Green"
            },
            {
             "common_name": "red",
             "description": "Red: 610-680 nm",
             "name": "Red"
            },
            {
             "common_name": "nir",
             "description": "Near Infrared: 780-890 nm",
             "name": "Near Infrared"
            },
            {
             "common_name": "swir",
             "description": "ShortWave Infrared: 1580-1750 nm",
             "name": "ShortWave Infrared"
            }
           ],
           "eodag_product_type": null,
           "eodag_provider": "stac_http_provider",
           "eodag_search_intersection": {
            "geometries": [],
            "type": "GeometryCollection"
           },
           "instrument": null,
           "license": null,
           "missionStartDate": null,
           "platform": null,
           "platformSerialIdentifier": null,
           "processingLevel": null,
           "productType": "canada_spot5_orthoimages",
           "proj:epsg": 3979,
           "resolution": 20,
           "sensorType": null,
           "startTimeFromAscendingNode": "2007-05-05T00:00:00Z",
           "storageStatus": "ONLINE",
           "style": {
            "color": "green"
           },
           "thumbnail": "https://canada-spot-ortho.s3.amazonaws.com/canada_spot_orthoimages/canada_spot5_orthoimages/S5_2007/S5_07507_4954_20070505/s5_07507_4954_20070505_tn.jpg",
           "title": "S5_07507_4954_20070505"
          },
          "type": "Feature"
         },
         {
          "geometry": {
           "coordinates": [
            [
             [
              -77.5086458,
              45.89066339999992
             ],
             [
              -77.3097434,
              46.411011399999936
             ],
             [
              -76.56018450000002,
              46.27010199999995
             ],
             [
              -76.766165,
              45.75074559999991
             ],
             [
              -77.5086458,
              45.89066339999992
             ]
            ]
           ],
           "type": "Polygon"
          },
          "id": "S5_07702_4605_20070505",
          "properties": {
           "abstract": null,
           "downloadLink": "https://fake-endpoint/collections/canada_spot5_orthoimages/items/S5_07702_4605_20070505",
           "eo:bands": [
            {
             "common_name": "panchromatic",
             "description": "Panchromatic: 480-710 nm",
             "name": "Panchromatic"
            },
            {
             "common_name": "green",
             "description": "Green: 500-590 nm",
             "name": "Green"
            },
            {
             "common_name": "red",
             "description": "Red: 610-680 nm",
             "name": "Red"
            },
            {
             "common_name": "nir",
             "description": "Near Infrared: 780-890 nm",
             "name": "Near Infrared"
            },
            {
             "common_name": "swir",
             "description": "ShortWave Infrared: 1580-1750 nm",
             "name": "ShortWave Infrared"
            }
           ],
           "eodag_product_type": null,
           "eodag_provider": "stac_http_provider",
           "eodag_search_intersection": {
            "geometries": [],
            "type": "GeometryCollection"
           },
           "instrument": null,
           "license": null,
           "missionStartDate": null,
           "platform": null,
           "platformSerialIdentifier": null,
           "processingLevel": null,
           "productType": "canada_spot5_orthoimages",
           "proj:epsg": 3979,
           "resolution": 20,
           "sensorType": null,
           "startTimeFromAscendingNode": "2007-05-05T00:00:00Z",
           "storageStatus": "ONLINE",
           "style": {
            "color": "green"
           },
           "thumbnail": "https://canada-spot-ortho.s3.amazonaws.com/canada_spot_orthoimages/canada_spot5_orthoimages/S5_2007/S5_07702_4605_20070505/s5_07702_4605_20070505_tn.jpg",
           "title": "S5_07702_4605_20070505"
          },
          "type": "Feature"
         },
         {
          "geometry": {
           "coordinates": [
            [
             [
              -77.6897149,
              45.41003529999992
             ],
             [
              -77.493466,
              45.93058879999993
             ],
             [
              -76.7514935,
              45.790705999999915
             ],
             [
              -76.9536275,
              45.27084659999991
             ],
             [
              -77.6897149,
              45.41003529999992
             ]
            ]
           ],
           "type": "Polygon"
          },
          "id": "S5_07713_4536_20070505",
          "properties": {
           "abstract": null,
           "downloadLink": "https://fake-endpoint/collections/canada_spot5_orthoimages/items/S5_07713_4536_20070505",
           "eo:bands": [
            {
             "common_name": "panchromatic",
             "description": "Panchromatic: 480-710 nm",
             "name": "Panchromatic"
            },
            {
             "common_name": "green",
             "description": "Green: 500-590 nm",
             "name": "Green"
            },
            {
             "common_name": "red",
             "description": "Red: 610-680 nm",
             "name": "Red"
            },
            {
             "common_name": "nir",
             "description": "Near Infrared: 780-890 nm",
             "name": "Near Infrared"
            },
            {
             "common_name": "swir",
             "description": "ShortWave Infrared: 1580-1750 nm",
             "name": "ShortWave Infrared"
            }
           ],
           "eodag_product_type": null,
           "eodag_provider": "stac_http_provider",
           "eodag_search_intersection": {
            "geometries": [],
            "type": "GeometryCollection"
           },
           "instrument": null,
           "license": null,
           "missionStartDate": null,
           "platform": null,
           "platformSerialIdentifier": null,
           "processingLevel": null,
           "productType": "canada_spot5_orthoimages",
           "proj:epsg": 3979,
           "resolution": 20,
           "sensorType": null,
           "startTimeFromAscendingNode": "2007-05-05T00:00:00Z",
           "storageStatus": "ONLINE",
           "style": {
            "color": "green"
           },
           "thumbnail": "https://canada-spot-ortho.s3.amazonaws.com/canada_spot_orthoimages/canada_spot5_orthoimages/S5_2007/S5_07713_4536_20070505/s5_07713_4536_20070505_tn.jpg",
           "title": "S5_07713_4536_20070505"
          },
          "type": "Feature"
         },
         {
          "geometry": {
           "coordinates": [
            [
             [
              -77.8688576,
              44.92858479999993
             ],
             [
              -77.6751065,
              45.44990809999991
             ],
             [
              -76.9381127,
              45.3104741999999
             ],
             [
              -77.13831010000001,
              44.790157899999905
             ],
             [
              -77.8688576,
              44.92858479999993
             ]
            ]
           ],
           "type": "Polygon"
          },
          "id": "S5_07724_4507_20070505",
          "properties": {
           "abstract": null,
           "downloadLink": "https://fake-endpoint/collections/canada_spot5_orthoimages/items/S5_07724_4507_20070505",
           "eo:bands": [
            {
             "common_name": "panchromatic",
             "description": "Panchromatic: 480-710 nm",
             "name": "Panchromatic"
            },
            {
             "common_name": "green",
             "description": "Green: 500-590 nm",
             "name": "Green"
            },
            {
             "common_name": "red",
             "description": "Red: 610-680 nm",
             "name": "Red"
            },
            {
             "common_name": "nir",
             "description": "Near Infrared: 780-890 nm",
             "name": "Near Infrared"
            },
            {
             "common_name": "swir",
             "description": "ShortWave Infrared: 1580-1750 nm",
             "name": "ShortWave Infrared"
            }
           ],
           "eodag_product_type": null,
           "eodag_provider": "stac_http_provider",
           "eodag_search_intersection": {
            "geometries": [],
            "type": "GeometryCollection"
           },
           "instrument": null,
           "license": null,
           "missionStartDate": null,
           "platform": null,
           "platformSerialIdentifier": null,
           "processingLevel": null,
           "productType": "canada_spot5_orthoimages",
           "proj:epsg": 3979,
           "resolution": 20,
           "sensorType": null,
           "startTimeFromAscendingNode": "2007-05-05T00:00:00Z",
           "storageStatus": "ONLINE",
           "style": {
            "color": "green"
           },
           "thumbnail": "https://canada-spot-ortho.s3.amazonaws.com/canada_spot_orthoimages/canada_spot5_orthoimages/S5_2007/S5_07724_4507_20070505/s5_07724_4507_20070505_tn.jpg",
           "title": "S5_07724_4507_20070505"
          },
          "type": "Feature"
         },
         {
          "geometry": {
           "coordinates": [
            [
             [
              -76.24385540000002,
              48.284491499985
             ],
             [
              -76.0261593,
              48.80282719998618
             ],
             [
              -75.24409010000001,
              48.65556529998587
             ],
             [
              -75.4693021,
              48.138179499984645
             ],
             [
              -76.24385540000002,
              48.284491499985
             ]
            ]
           ],
           "type": "Polygon"
          },
          "id": "S5_07545_4828_20070505",
          "properties": {
           "abstract": null,
           "downloadLink": "https://fake-endpoint/collections/canada_spot5_orthoimages/items/S5_07545_4828_20070505",
           "eo:bands": [
            {
             "common_name": "panchromatic",
             "description": "Panchromatic: 480-710 nm",
             "name": "Panchromatic"
            },
            {
             "common_name": "green",
             "description": "Green: 500-590 nm",
             "name": "Green"
            },
            {
             "common_name": "red",
             "description": "Red: 610-680 nm",
             "name": "Red"
            },
            {
             "common_name": "nir",
             "description": "Near Infrared: 780-890 nm",
             "name": "Near Infrared"
            },
            {
             "common_name": "swir",
             "description": "ShortWave Infrared: 1580-1750 nm",
             "name": "ShortWave Infrared"
            }
           ],
           "eodag_product_type": null,
           "eodag_provider": "stac_http_provider",
           "eodag_search_intersection": {
            "geometries": [],
            "type": "GeometryCollection"
           },
           "instrument": null,
           "license": null,
           "missionStartDate": null,
           "platform": null,
           "platformSerialIdentifier": null,
           "processingLevel": null,
           "productType": "canada_spot5_orthoimages",
           "proj:epsg": 3979,
           "resolution": 20,
           "sensorType": null,
           "startTimeFromAscendingNode": "2007-05-05T00:00:00Z",
           "storageStatus": "ONLINE",
           "style": {
            "color": "green"
           },
           "thumbnail": "https://canada-spot-ortho.s3.amazonaws.com/canada_spot_orthoimages/canada_spot5_orthoimages/S5_2007/S5_07545_4828_20070505/s5_07545_4828_20070505_tn.jpg",
           "title": "S5_07545_4828_20070505"
          },
          "type": "Feature"
         },
         {
          "geometry": {
           "coordinates": [
            [
             [
              -75.8416676,
              49.236272499987166
             ],
             [
              -75.6169194,
              49.75401399998823
             ],
             [
              -74.8203005,
              49.60474209998792
             ],
             [
              -75.052923,
              49.08803909998684
             ],
             [
              -75.8416676,
              49.236272499987166
             ]
            ]
           ],
           "type": "Polygon"
          },
          "id": "S5_07520_4925_20070505",
          "properties": {
           "abstract": null,
           "downloadLink": "https://fake-endpoint/collections/canada_spot5_orthoimages/items/S5_07520_4925_20070505",
           "eo:bands": [
            {
             "common_name": "panchromatic",
             "description": "Panchromatic: 480-710 nm",
             "name": "Panchromatic"
            },
            {
             "common_name": "green",
             "description": "Green: 500-590 nm",
             "name": "Green"
            },
            {
             "common_name": "red",
             "description": "Red: 610-680 nm",
             "name": "Red"
            },
            {
             "common_name": "nir",
             "description": "Near Infrared: 780-890 nm",
             "name": "Near Infrared"
            },
            {
             "common_name": "swir",
             "description": "ShortWave Infrared: 1580-1750 nm",
             "name": "ShortWave Infrared"
            }
           ],
           "eodag_product_type": null,
           "eodag_provider": "stac_http_provider",
           "eodag_search_intersection": {
            "geometries": [],
            "type": "GeometryCollection"
           },
           "instrument": null,
           "license": null,
           "missionStartDate": null,
           "platform": null,
           "platformSerialIdentifier": null,
           "processingLevel": null,
           "productType": "canada_spot5_orthoimages",
           "proj:epsg": 3979,
           "resolution": 20,
           "sensorType": null,
           "startTimeFromAscendingNode": "2007-05-05T00:00:00Z",
           "storageStatus": "ONLINE",
           "style": {
            "color": "green"
           },
           "thumbnail": "https://canada-spot-ortho.s3.amazonaws.com/canada_spot_orthoimages/canada_spot5_orthoimages/S5_2007/S5_07520_4925_20070505/s5_07520_4925_20070505_tn.jpg",
           "title": "S5_07520_4925_20070505"
          },
          "type": "Feature"
         },
         {
          "geometry": {
           "coordinates": [
            [
             [
              -75.8321003,
              47.85693209998394
             ],
             [
              -75.5637798,
              48.363290499985176
             ],
             [
              -74.5776358,
              48.12570679998459
             ],
             [
              -74.8555234,
              47.61966979998332
             ],
             [
              -75.8321003,
              47.85693209998394
             ]
            ]
           ],
           "type": "Polygon"
          },
          "id": "S5_07513_4760_20070504",
          "properties": {
           "abstract": null,
           "downloadLink": "https://fake-endpoint/collections/canada_spot5_orthoimages/items/S5_07513_4760_20070504",
           "eo:bands": [
            {
             "common_name": "panchromatic",
             "description": "Panchromatic: 480-710 nm",
             "name": "Panchromatic"
            },
            {
             "common_name": "green",
             "description": "Green: 500-590 nm",
             "name": "Green"
            },
            {
             "common_name": "red",
             "description": "Red: 610-680 nm",
             "name": "Red"
            },
            {
             "common_name": "nir",
             "description": "Near Infrared: 780-890 nm",
             "name": "Near Infrared"
            },
            {
             "common_name": "swir",
             "description": "ShortWave Infrared: 1580-1750 nm",
             "name": "ShortWave Infrared"
            }
           ],
           "eodag_product_type": null,
           "eodag_provider": "stac_http_provider",
           "eodag_search_intersection": {
            "geometries": [],
            "type": "GeometryCollection"
           },
           "instrument": null,
           "license": null,
           "missionStartDate": null,
           "platform": null,
           "platformSerialIdentifier": null,
           "processingLevel": null,
           "productType": "canada_spot5_orthoimages",
           "proj:epsg": 3979,
           "resolution": 20,
           "sensorType": null,
           "startTimeFromAscendingNode": "2007-05-04T00:00:00Z",
           "storageStatus": "ONLINE",
           "style": {
            "color": "green"
           },
           "thumbnail": "https://canada-spot-ortho.s3.amazonaws.com/canada_spot_orthoimages/canada_spot5_orthoimages/S5_2007/S5_07513_4760_20070504/s5_07513_4760_20070504_tn.jpg",
           "title": "S5_07513_4760_20070504"
          },
          "type": "Feature"
         }
        ],
        "type": "FeatureCollection"
       },
       "name": "",
       "options": [],
       "popup": null,
       "popup_max_height": null,
       "popup_max_width": 300,
       "popup_min_width": 50,
       "style": {
        "color": "green"
       }
      }
     },
     "f99ee3b851a04905aa1d74a1532683dd": {
      "model_module": "jupyter-leaflet",
      "model_module_version": "^0.13.5",
      "model_name": "LeafletTileLayerModel",
      "state": {
       "_model_module_version": "^0.13.5",
       "_view_module_version": "^0.13.5",
       "base": true,
       "max_native_zoom": 18,
       "max_zoom": 19,
       "min_native_zoom": 0,
       "min_zoom": 1,
       "options": [
        "attribution",
        "detect_retina",
        "max_native_zoom",
        "max_zoom",
        "min_native_zoom",
        "min_zoom",
        "no_wrap",
        "tile_size",
        "tms"
       ]
      }
     },
     "f9ab8c47c09f4d03a794842c80f73652": {
      "model_module": "jupyter-leaflet",
      "model_module_version": "^0.13.5",
      "model_name": "LeafletMapModel",
      "state": {
       "_model_module_version": "^0.13.5",
       "_view_module_version": "^0.13.5",
       "bottom": 895,
       "center": [
        50,
        -100
       ],
       "controls": [
        "IPY_MODEL_ba3657f2168d45f7b04f686078a57e9e",
        "IPY_MODEL_a23adb557ffb4a7297a605a278982d80"
       ],
       "default_style": "IPY_MODEL_f688d709b66640a99ca558a5a8831aba",
       "dragging_style": "IPY_MODEL_bf52c35904d940ce8c40357cbfa819a5",
       "east": -15.292968750000002,
       "fullscreen": false,
       "interpolation": "bilinear",
       "layers": [
        "IPY_MODEL_ec923392cbf545bf9389155eb5ced36a",
        "IPY_MODEL_47de8ddad5d6475a8ba6ac70362e85f1",
        "IPY_MODEL_d38fb086b681460a8c636d023617e9f8",
        "IPY_MODEL_aa5a1a3e989443869aca422795122df0"
       ],
       "layout": "IPY_MODEL_69394f249eb44590a2e78d03b0e0ce91",
       "left": -26,
       "modisdate": "yesterday",
       "north": 67.676084581981,
       "options": [
        "bounce_at_zoom_limits",
        "box_zoom",
        "center",
        "close_popup_on_click",
        "double_click_zoom",
        "dragging",
        "fullscreen",
        "inertia",
        "inertia_deceleration",
        "inertia_max_speed",
        "interpolation",
        "keyboard",
        "keyboard_pan_offset",
        "keyboard_zoom_offset",
        "max_zoom",
        "min_zoom",
        "scroll_wheel_zoom",
        "tap",
        "tap_tolerance",
        "touch_zoom",
        "world_copy_jump",
        "zoom",
        "zoom_animation_threshold",
        "zoom_delta",
        "zoom_snap",
        "zoom_start"
       ],
       "right": 937,
       "south": 22.105998799750566,
       "style": "IPY_MODEL_42b65c6f60c54ec79d945b9cd6dbbaac",
       "top": 495,
       "west": -184.57031250000003,
       "window_url": "http://localhost:8888/notebooks/tuto_stac_client.ipynb",
       "zoom": 3
      }
     },
     "fa7d798a58a74098bad54d781ec37fff": {
      "model_module": "@jupyter-widgets/controls",
      "model_module_version": "1.5.0",
      "model_name": "HTMLModel",
      "state": {
       "layout": "IPY_MODEL_96e4e7ef132f4488915829b14eca871a",
       "style": "IPY_MODEL_c9ae2c4832594f27b64e7238bc313cb5",
       "value": " 77.7M/77.7M [00:39&lt;00:00, 2.01MB/s]"
      }
     },
     "fd8c284051d74c488e4ce890768b986a": {
      "model_module": "jupyter-leaflet",
      "model_module_version": "^0.13.5",
      "model_name": "LeafletGeoJSONModel",
      "state": {
       "_model_module": "jupyter-leaflet",
       "_model_module_version": "^0.13.5",
       "_view_count": null,
       "_view_module": "jupyter-leaflet",
       "_view_module_version": "^0.13.5",
       "base": false,
       "bottom": false,
       "data": {
        "coordinates": [
         [
          [
           -70,
           45
          ],
          [
           -75,
           47
          ],
          [
           -80,
           47
          ],
          [
           -80,
           44
          ],
          [
           -70,
           45
          ]
         ]
        ],
        "type": "Polygon"
       },
       "name": "",
       "options": [],
       "popup": null,
       "popup_max_height": null,
       "popup_max_width": 300,
       "popup_min_width": 50,
       "style": {
        "color": "blue"
       }
      }
     },
     "fef35b68248547bebee89fb56d44632e": {
      "model_module": "jupyter-leaflet",
      "model_module_version": "^0.13.5",
      "model_name": "LeafletMapStyleModel",
      "state": {
       "_model_module_version": "^0.13.5",
       "cursor": "move"
      }
     },
     "ff62ab061cfd4bc8b7847ecd20e965cc": {
      "model_module": "jupyter-leaflet",
      "model_module_version": "^0.13.5",
      "model_name": "LeafletTileLayerModel",
      "state": {
       "_model_module_version": "^0.13.5",
       "_view_module_version": "^0.13.5",
       "base": true,
       "max_native_zoom": 18,
       "max_zoom": 19,
       "min_native_zoom": 0,
       "min_zoom": 1,
       "options": [
        "attribution",
        "detect_retina",
        "max_native_zoom",
        "max_zoom",
        "min_native_zoom",
        "min_zoom",
        "no_wrap",
        "tile_size",
        "tms"
       ]
      }
     }
    },
    "version_major": 2,
    "version_minor": 0
   }
  }
 },
 "nbformat": 4,
 "nbformat_minor": 5
}
