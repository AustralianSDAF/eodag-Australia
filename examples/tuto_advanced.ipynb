{
 "cells": [
  {
   "cell_type": "markdown",
   "metadata": {},
   "source": [
    "# Eodag advanced features\n",
    "_____________\n",
    "\n",
    "We present `eodag`'s advanced features for **searching and downloading EO products**.\n",
    "\n",
    "To be able to follow this tutorial, you will need to install the additional Python packages [ipyleaflet](https://ipyleaflet.readthedocs.io/en/latest/installation.html) and [ipywidgets](https://ipywidgets.readthedocs.io/en/latest/user_install.html).\n",
    "\n",
    "## Configuration\n",
    "\n",
    "Let's start by setting your personal credentials to access [sobloo service](https://sobloo.eu/) by filling your API key below:"
   ]
  },
  {
   "cell_type": "code",
   "execution_count": 1,
   "metadata": {},
   "outputs": [],
   "source": [
    "import os\n",
    "from pprint import pprint\n",
    "os.environ[\"EODAG__SOBLOO__AUTH__CREDENTIALS__APIKEY\"] = \"PLEASE_CHANGE_ME\""
   ]
  },
  {
   "cell_type": "markdown",
   "metadata": {},
   "source": [
    "The name of the environment variables understood by `eodag` must follow the pattern `EODAG__KEY1__KEY2__[...]__KEYN` (note the double underscore between the keys).\n",
    "\n",
    "See for instance the following configuration extracted from a minimal YAML file:\n",
    "\n",
    "```yaml\n",
    "sobloo:\n",
    "    download:\n",
    "        extract: True\n",
    "        outputs_prefix: <absolute_path_to_download_folder>\n",
    "\n",
    "```\n",
    "\n",
    "It sets the `extract` and `outputs_prefix` (download folder) parameters, which could also be set with the environment variables `EODAG__SOBLOO__DOWNLOAD__EXTRACT` and `EODAG__SOBLOO__DOWNLOAD__OUTPUTS_PREFIX` given the established pattern. Every configuration parameter can be changed this way. Check the YAML file located at `~/.config/eodag/eodag.yml` to see all the parameters you can set."
   ]
  },
  {
   "cell_type": "markdown",
   "metadata": {},
   "source": [
    "We create a workspace directory where all our files will live:"
   ]
  },
  {
   "cell_type": "code",
   "execution_count": 2,
   "metadata": {},
   "outputs": [],
   "source": [
    "workspace = 'eodag_workspace_advanced'\n",
    "if not os.path.isdir(workspace):\n",
    "    os.mkdir(workspace)"
   ]
  },
  {
   "cell_type": "markdown",
   "metadata": {},
   "source": [
    "Let's check that the Python packages required to run this notebook are available:"
   ]
  },
  {
   "cell_type": "code",
   "execution_count": 3,
   "metadata": {},
   "outputs": [],
   "source": [
    "import ipyleaflet as ipyl\n",
    "import ipywidgets as ipyw"
   ]
  },
  {
   "cell_type": "markdown",
   "metadata": {},
   "source": [
    "We configure `eodag` with environment variables to download *sobloo* products to our workspace folder but not to extract them once they are downloaded. Note that in this tutorial we do not use a YAML configuration as demonstrated in the basic example. The complete configuration is done by setting the right environment variables."
   ]
  },
  {
   "cell_type": "code",
   "execution_count": 4,
   "metadata": {},
   "outputs": [],
   "source": [
    "os.environ[\"EODAG__SOBLOO__DOWNLOAD__OUTPUTS_PREFIX\"] = os.path.abspath(workspace)\n",
    "os.environ[\"EODAG__SOBLOO__DOWNLOAD__EXTRACT\"] =  \"false\""
   ]
  },
  {
   "cell_type": "markdown",
   "metadata": {},
   "source": [
    "We are now ready to initialize the session by creating an `EODataAccessGateway` instance which is going to take into account what we have just configured."
   ]
  },
  {
   "cell_type": "code",
   "execution_count": 5,
   "metadata": {},
   "outputs": [
    {
     "name": "stderr",
     "output_type": "stream",
     "text": [
      "2021-01-26 16:54:21,617-15s eodag.config                     [INFO    ] Loading user configuration from: /home/sylvain/.config/eodag/eodag.yml\n",
      "2021-01-26 16:54:21,994-15s eodag.core                       [INFO    ] Locations configuration loaded from /home/sylvain/.config/eodag/locations.yml\n"
     ]
    }
   ],
   "source": [
    "from eodag.api.core import EODataAccessGateway\n",
    "from eodag.utils.logging import setup_logging\n",
    "\n",
    "# To have some basic feedback on what eodag is doing, we configure logging to output minimum information\n",
    "setup_logging(verbose=1)\n",
    "dag = EODataAccessGateway()"
   ]
  },
  {
   "cell_type": "markdown",
   "metadata": {},
   "source": [
    "`eodag` includes a number of different providers (*PEPS*, *USGS*, *sobloo*, etc.). Each provider has a priority expressed as an number, the lower this number the lower the priority of the provider. The one with the higher priority is used to search and download products.\n",
    "\n",
    "*PEPS* is defined as the default provider. We can easily verify that:"
   ]
  },
  {
   "cell_type": "code",
   "execution_count": 6,
   "metadata": {},
   "outputs": [
    {
     "name": "stdout",
     "output_type": "stream",
     "text": [
      "('peps', 1)\n"
     ]
    }
   ],
   "source": [
    "print(dag.get_preferred_provider())"
   ]
  },
  {
   "cell_type": "markdown",
   "metadata": {},
   "source": [
    "Since we want to search for products from *sobloo*, we have to set it as the the preferred provider:"
   ]
  },
  {
   "cell_type": "code",
   "execution_count": 7,
   "metadata": {},
   "outputs": [
    {
     "name": "stdout",
     "output_type": "stream",
     "text": [
      "('sobloo', 2)\n"
     ]
    }
   ],
   "source": [
    "dag.set_preferred_provider(\"sobloo\")\n",
    "print(dag.get_preferred_provider())"
   ]
  },
  {
   "cell_type": "markdown",
   "metadata": {},
   "source": [
    "The priority of the providers can also be defined in a YAML configuration file and with environment variables."
   ]
  },
  {
   "cell_type": "markdown",
   "metadata": {},
   "source": [
    "## Search\n",
    "\n",
    "Now let's search for Sentinel-2 L1C products in the South of France acquired in the last 30 days.\n",
    "\n",
    "We will add two complementary search parameters. First we would like to filter at 10% of maximum cloud cover. In order to do so we can set the parameter `cloudCover` which is an OGC standard parameter. Second we would like to search for products that are immediately available for download. `eodag` defines this kind of product as *ONLINE* (see the Introduction page for more details). The `search` method accepts any number of keyword arguments. This feature is handy to define this setting since its syntax is specific to *sobloo*:"
   ]
  },
  {
   "cell_type": "code",
   "execution_count": 8,
   "metadata": {},
   "outputs": [
    {
     "name": "stderr",
     "output_type": "stream",
     "text": [
      "2021-01-26 16:54:22,216-15s eodag.core                       [INFO    ] Searching product type 'S2_MSI_L1C' on provider: sobloo\n",
      "2021-01-26 16:54:22,218-15s eodag.plugins.search.qssearch    [INFO    ] Sending count request: https://sobloo.eu/api/v1/services/search?f=contentDescription.cloudCoverPercentage:lte:10&f=state%2Eservices%2Edownload:eq:internal&f=acquisition.beginViewingDate:gte:1609023600000&f=acquisition.endViewingDate:lte:1611615600000&f=identification.type:eq:S2MSI1C&gintersect=POLYGON ((-1.9995 42.7631, -1.9995 46.7549, 4.5703 46.7549, 4.5703 42.7631, -1.9995 42.7631))&size=1&from=0\n",
      "2021-01-26 16:54:22,932-15s eodag.plugins.search.qssearch    [INFO    ] Sending search request: https://sobloo.eu/api/v1/services/search?f=contentDescription.cloudCoverPercentage:lte:10&f=state%2Eservices%2Edownload:eq:internal&f=acquisition.beginViewingDate:gte:1609023600000&f=acquisition.endViewingDate:lte:1611615600000&f=identification.type:eq:S2MSI1C&gintersect=POLYGON ((-1.9995 42.7631, -1.9995 46.7549, 4.5703 46.7549, 4.5703 42.7631, -1.9995 42.7631))&size=20&from=0\n",
      "2021-01-26 16:54:23,753-15s eodag.core                       [INFO    ] Found 48 result(s) on provider 'sobloo'\n"
     ]
    },
    {
     "name": "stdout",
     "output_type": "stream",
     "text": [
      "[EOProduct(id=S2B_MSIL1C_20210103T110349_N0209_R094_T30TYP_20210103T121021, provider=sobloo),\n",
      " EOProduct(id=S2A_MSIL1C_20210108T110431_N0209_R094_T31TCK_20210108T131314, provider=sobloo),\n",
      " EOProduct(id=S2A_MSIL1C_20210108T110431_N0209_R094_T30TXS_20210108T131314, provider=sobloo),\n",
      " EOProduct(id=S2B_MSIL1C_20210114T103309_N0209_R108_T31TFH_20210114T114331, provider=sobloo),\n",
      " EOProduct(id=S2B_MSIL1C_20210114T103309_N0209_R108_T31TEH_20210114T114331, provider=sobloo),\n",
      " EOProduct(id=S2A_MSIL1C_20210118T110401_N0209_R094_T30TYP_20210118T131217, provider=sobloo),\n",
      " EOProduct(id=S2A_MSIL1C_20210118T110401_N0209_R094_T30TYQ_20210118T131217, provider=sobloo),\n",
      " EOProduct(id=S2A_MSIL1C_20210118T110401_N0209_R094_T30TXR_20210118T131217, provider=sobloo),\n",
      " EOProduct(id=S2B_MSIL1C_20210117T104259_N0209_R008_T31TFJ_20210117T115034, provider=sobloo),\n",
      " EOProduct(id=S2B_MSIL1C_20210110T105329_N0209_R051_T30TYQ_20210110T130049, provider=sobloo),\n",
      " EOProduct(id=S2B_MSIL1C_20210110T105329_N0209_R051_T30TYS_20210110T130049, provider=sobloo),\n",
      " EOProduct(id=S2B_MSIL1C_20210110T105329_N0209_R051_T31TEJ_20210110T130049, provider=sobloo),\n",
      " EOProduct(id=S2B_MSIL1C_20210124T103229_N0209_R108_T31TFK_20210124T113837, provider=sobloo),\n",
      " EOProduct(id=S2B_MSIL1C_20210124T103229_N0209_R108_T31TFH_20210124T113837, provider=sobloo),\n",
      " EOProduct(id=S2B_MSIL1C_20201228T104349_N0209_R008_T31TEH_20201228T113546, provider=sobloo),\n",
      " EOProduct(id=S2A_MSIL1C_20201230T103441_N0209_R108_T31TEH_20201230T124210, provider=sobloo),\n",
      " EOProduct(id=S2B_MSIL1C_20210114T103309_N0209_R108_T31TFJ_20210114T114331, provider=sobloo),\n",
      " EOProduct(id=S2A_MSIL1C_20210108T110431_N0209_R094_T30TXQ_20210108T131314, provider=sobloo),\n",
      " EOProduct(id=S2A_MSIL1C_20210108T110431_N0209_R094_T30TWQ_20210108T131314, provider=sobloo),\n",
      " EOProduct(id=S2A_MSIL1C_20210108T110431_N0209_R094_T30TWS_20210108T131314, provider=sobloo)]\n"
     ]
    }
   ],
   "source": [
    "from datetime import date, timedelta\n",
    "\n",
    "product_type = 'S2_MSI_L1C'\n",
    "extent = {\n",
    "    'lonmin': -1.999512,\n",
    "    'lonmax': 4.570313,\n",
    "    'latmin': 42.763146,\n",
    "    'latmax': 46.754917\n",
    "}\n",
    "\n",
    "products, estimated_total_nbr_of_results = dag.search(\n",
    "    productType=product_type,\n",
    "    start=(date.today() - timedelta(days=30)).isoformat(),\n",
    "    end=date.today().isoformat(),\n",
    "    geom=extent,\n",
    "    cloudCover=10,\n",
    "    **{\"state.services.download\": \"internal\"}\n",
    ")\n",
    "pprint(products)"
   ]
  },
  {
   "cell_type": "markdown",
   "metadata": {},
   "source": [
    "We can check that the products we have got have a cloud cover below 10% and that they are all immediately available for download."
   ]
  },
  {
   "cell_type": "code",
   "execution_count": 9,
   "metadata": {},
   "outputs": [
    {
     "data": {
      "text/plain": [
       "True"
      ]
     },
     "execution_count": 9,
     "metadata": {},
     "output_type": "execute_result"
    }
   ],
   "source": [
    "all(p.properties[\"cloudCover\"] < 10 for p in products)"
   ]
  },
  {
   "cell_type": "code",
   "execution_count": 10,
   "metadata": {},
   "outputs": [
    {
     "data": {
      "text/plain": [
       "True"
      ]
     },
     "execution_count": 10,
     "metadata": {},
     "output_type": "execute_result"
    }
   ],
   "source": [
    "all(p.properties[\"storageStatus\"] == \"ONLINE\" for p in products)"
   ]
  },
  {
   "cell_type": "markdown",
   "metadata": {},
   "source": [
    "As already demonstrated in the basic example we use `ipyleaflet` to plot the returned results (in blue). This time we also map our search extent (in green): "
   ]
  },
  {
   "cell_type": "code",
   "execution_count": 11,
   "metadata": {},
   "outputs": [
    {
     "data": {
      "application/vnd.jupyter.widget-view+json": {
       "model_id": "dbec899223114ffcabb498a3f3d0562b",
       "version_major": 2,
       "version_minor": 0
      },
      "text/plain": [
       "Map(center=[43.6, 1.5], controls=(ZoomControl(options=['position', 'zoom_in_text', 'zoom_in_title', 'zoom_out_…"
      ]
     },
     "metadata": {},
     "output_type": "display_data"
    }
   ],
   "source": [
    "import ipyleaflet as ipyl\n",
    "\n",
    "m = ipyl.Map(center=[43.6, 1.5], zoom=5)\n",
    "search_layer = ipyl.Rectangle(\n",
    "    bounds=((extent[\"latmin\"], extent[\"lonmin\"]), (extent[\"latmax\"], extent[\"lonmax\"])),\n",
    "    color=\"green\"\n",
    ")\n",
    "products_layer = ipyl.GeoJSON(data=products.as_geojson_object(), hover_style={'fillColor': 'yellow'})\n",
    "m.add_layer(search_layer)\n",
    "m.add_layer(products_layer)\n",
    "m"
   ]
  },
  {
   "cell_type": "markdown",
   "metadata": {},
   "source": [
    "`eodag` includes several *crunchers* that allow you to filter products:\n",
    "* `FilterDate`: by start date (optional) and end date (optional)\n",
    "* `FilterLatestByName`: get only the latest product based on the name of the product\n",
    "* `FilterLatestIntersect`: filter latest products (the ones with a the highest start date) that intersect search extent\n",
    "* `FilterOverlap`: retain only those that are overlapping with a search extent\n",
    "* `FilterProperty`: retain only those whose property match a given criteria\n",
    "\n",
    "In this example we demonstrate how to use the cruncher `FilterOverlap` to get the products that are strictly within the search bounding box. For more information about the crunchers checkout the API documentation."
   ]
  },
  {
   "cell_type": "code",
   "execution_count": 12,
   "metadata": {
    "scrolled": true
   },
   "outputs": [
    {
     "name": "stderr",
     "output_type": "stream",
     "text": [
      "2021-01-26 16:54:23,905-15s eodag.plugins.crunch.filter_overlap [INFO    ] Finished filtering products. 8 resulting products\n"
     ]
    }
   ],
   "source": [
    "from eodag.plugins.crunch.filter_overlap import FilterOverlap\n",
    "\n",
    "filtered_products = products.crunch(FilterOverlap({\"minimum_overlap\": 100}), geometry=extent)"
   ]
  },
  {
   "cell_type": "code",
   "execution_count": 13,
   "metadata": {},
   "outputs": [
    {
     "name": "stdout",
     "output_type": "stream",
     "text": [
      "[EOProduct(id=S2B_MSIL1C_20210103T110349_N0209_R094_T30TYP_20210103T121021, provider=sobloo),\n",
      " EOProduct(id=S2A_MSIL1C_20210108T110431_N0209_R094_T31TCK_20210108T131314, provider=sobloo),\n",
      " EOProduct(id=S2A_MSIL1C_20210118T110401_N0209_R094_T30TYP_20210118T131217, provider=sobloo),\n",
      " EOProduct(id=S2A_MSIL1C_20210118T110401_N0209_R094_T30TYQ_20210118T131217, provider=sobloo),\n",
      " EOProduct(id=S2A_MSIL1C_20210118T110401_N0209_R094_T30TXR_20210118T131217, provider=sobloo),\n",
      " EOProduct(id=S2B_MSIL1C_20210110T105329_N0209_R051_T30TYQ_20210110T130049, provider=sobloo),\n",
      " EOProduct(id=S2B_MSIL1C_20210110T105329_N0209_R051_T31TEJ_20210110T130049, provider=sobloo),\n",
      " EOProduct(id=S2A_MSIL1C_20210108T110431_N0209_R094_T30TXQ_20210108T131314, provider=sobloo)]\n"
     ]
    }
   ],
   "source": [
    "pprint(filtered_products)"
   ]
  },
  {
   "cell_type": "markdown",
   "metadata": {},
   "source": [
    "We add the filtered products to the **previous map** (in red)."
   ]
  },
  {
   "cell_type": "code",
   "execution_count": 14,
   "metadata": {},
   "outputs": [],
   "source": [
    "filtered_products_layer = ipyl.GeoJSON(\n",
    "    data=filtered_products.as_geojson_object(), \n",
    "    hover_style={'fillColor': 'yellow'},\n",
    "    style={\"color\":\"red\"}\n",
    ")\n",
    "m.add_layer(filtered_products_layer)"
   ]
  },
  {
   "cell_type": "markdown",
   "metadata": {},
   "source": [
    "We create a new map which displays the product *ID* on hover. It also allows you to select which products you would like to download. To try it out, click on a filtered product (in red) to add it to the download list `chosen_products`. Once a product is selected, its contour line should turn yellow. Note that the more products you select on the map the longer the download time in the end."
   ]
  },
  {
   "cell_type": "code",
   "execution_count": 15,
   "metadata": {},
   "outputs": [
    {
     "data": {
      "application/vnd.jupyter.widget-view+json": {
       "model_id": "5812b6f1834748beafa1ba681036c239",
       "version_major": 2,
       "version_minor": 0
      },
      "text/plain": [
       "VBox(children=(Map(center=[43.6, 1.5], controls=(ZoomControl(options=['position', 'zoom_in_text', 'zoom_in_tit…"
      ]
     },
     "metadata": {},
     "output_type": "display_data"
    }
   ],
   "source": [
    "from eodag.api.product import EOProduct\n",
    "from eodag.api.search_result import SearchResult\n",
    "\n",
    "label = ipyw.Label(layout=ipyw.Layout(width='100%'))\n",
    "\n",
    "chosen_products = SearchResult([])\n",
    "\n",
    "def click_handler(feature=None, **kwargs):\n",
    "    if feature and feature not in chosen_products:\n",
    "        chosen_products.append(EOProduct.from_geojson(feature))\n",
    "        # register product downloader\n",
    "        chosen_products[-1].register_downloader(products[0].downloader, products[0].downloader_auth)\n",
    "        # update map\n",
    "        chosen_products_layer = ipyl.GeoJSON(\n",
    "            data=chosen_products.as_geojson_object(), \n",
    "            hover_style={'fillColor': 'yellow'},\n",
    "            style={\"color\":\"yellow\"}\n",
    "        )\n",
    "        if chosen_products_layer in m.layers:\n",
    "            m.remove_layer(chosen_products_layer)\n",
    "        m.add_layer(chosen_products_layer)\n",
    "        \n",
    "filtered_products_layer.on_click(click_handler)\n",
    "\n",
    "def hover_handler(id=None, **kwargs):\n",
    "    label.value = id\n",
    "filtered_products_layer.on_hover(hover_handler)\n",
    "\n",
    "ipyw.VBox([m, label])"
   ]
  },
  {
   "cell_type": "markdown",
   "metadata": {},
   "source": [
    "Now that you have selected at least one product the list of `chosen_products` shouldn't be empty anymore."
   ]
  },
  {
   "cell_type": "code",
   "execution_count": 18,
   "metadata": {},
   "outputs": [
    {
     "data": {
      "text/plain": [
       "[EOProduct(id=S2B_MSIL1C_20210110T105329_N0209_R051_T31TEJ_20210110T130049, provider=sobloo), EOProduct(id=S2A_MSIL1C_20210108T110431_N0209_R094_T31TCK_20210108T131314, provider=sobloo)]"
      ]
     },
     "execution_count": 18,
     "metadata": {},
     "output_type": "execute_result"
    }
   ],
   "source": [
    "chosen_products"
   ]
  },
  {
   "cell_type": "markdown",
   "metadata": {},
   "source": [
    "## Download"
   ]
  },
  {
   "cell_type": "markdown",
   "metadata": {},
   "source": [
    "We finally use the `download_all` method to download all the selected products."
   ]
  },
  {
   "cell_type": "code",
   "execution_count": 19,
   "metadata": {
    "scrolled": false
   },
   "outputs": [
    {
     "name": "stderr",
     "output_type": "stream",
     "text": [
      "2021-01-26 16:55:01,432-15s eodag.core                       [INFO    ] Downloading 2 products\n",
      "Downloading products:   0%|          | 0/2 [00:00<?, ?product/s]2021-01-26 16:55:01,450-15s eodag.plugins.download.base      [INFO    ] Download url: https://sobloo.eu/api/v1/services/download/31b2f1a8-046e-4e15-a83a-3bce3f6c1837\n"
     ]
    },
    {
     "data": {
      "application/vnd.jupyter.widget-view+json": {
       "model_id": "4a59ee8a35754310a37cbb7bda8833e3",
       "version_major": 2,
       "version_minor": 0
      },
      "text/plain": [
       "0.00B [00:00, ?B/s]"
      ]
     },
     "metadata": {},
     "output_type": "display_data"
    },
    {
     "name": "stderr",
     "output_type": "stream",
     "text": [
      "2021-01-26 16:55:11,781-15s eodag.plugins.download.base      [INFO    ] Extraction not activated. The product is available as is.\n",
      "Downloading products:  50%|█████     | 1/2 [00:10<00:10, 10.33s/product]2021-01-26 16:55:11,784-15s eodag.plugins.download.base      [INFO    ] Download url: https://sobloo.eu/api/v1/services/download/6937a5ba-51eb-4b28-8d4b-1c87cce92ec3\n",
      "2021-01-26 16:56:47,779-15s eodag.plugins.download.base      [INFO    ] Extraction not activated. The product is available as is.\n",
      "Downloading products: 100%|██████████| 2/2 [01:46<00:00, 53.17s/product]\n"
     ]
    }
   ],
   "source": [
    "from eodag.utils import NotebookProgressCallback\n",
    "\n",
    "if chosen_products:\n",
    "    paths = dag.download_all(\n",
    "        chosen_products, \n",
    "        progress_callback=NotebookProgressCallback(), \n",
    "    )"
   ]
  },
  {
   "cell_type": "markdown",
   "metadata": {},
   "source": [
    "You can now check your workspace folder where you should find the archive files (since we have configured `eodag` not to extract them) of your selected products.\n",
    "\n",
    "We specified earlier that we wanted *ONLINE* products only. If we hadn't done so some products could have been *OFFLINE*, i.e. not immediately available for download. In this case `edoag` would have first ordered them, and then would have retried to download them every 2 minutes, and kept retrying for 20 minutes. These default times can be changed, for instance, `wait=0.5` and `timeout=5` define them to 30 seconds and 5 minutes respectively."
   ]
  },
  {
   "cell_type": "markdown",
   "metadata": {},
   "source": [
    "This concludes the tutorial for the advanced usage of eodag."
   ]
  }
 ],
 "metadata": {
  "kernelspec": {
   "display_name": "Python 3",
   "language": "python",
   "name": "python3"
  },
  "language_info": {
   "codemirror_mode": {
    "name": "ipython",
    "version": 3
   },
   "file_extension": ".py",
   "mimetype": "text/x-python",
   "name": "python",
   "nbconvert_exporter": "python",
   "pygments_lexer": "ipython3",
   "version": "3.8.5"
  },
  "widgets": {
   "application/vnd.jupyter.widget-state+json": {
    "state": {
     "048a7ccf511946e28998ea58bed1aea0": {
      "model_module": "jupyter-leaflet",
      "model_module_version": "^0.13.5",
      "model_name": "LeafletAttributionControlModel",
      "state": {
       "_model_module_version": "^0.13.5",
       "_view_module_version": "^0.13.5",
       "options": [
        "position",
        "prefix"
       ],
       "position": "bottomright",
       "prefix": "ipyleaflet"
      }
     },
     "0ec4eeae9e6244379bf67fb309e36410": {
      "model_module": "@jupyter-widgets/controls",
      "model_module_version": "1.5.0",
      "model_name": "HTMLModel",
      "state": {
       "layout": "IPY_MODEL_b7cbad844e14469ea17208668369e117",
       "style": "IPY_MODEL_ba35ba006b244012a7b0f560da27d2b7"
      }
     },
     "1770e12bacfd4a8994af11f6226be6e3": {
      "model_module": "@jupyter-widgets/controls",
      "model_module_version": "1.5.0",
      "model_name": "DescriptionStyleModel",
      "state": {
       "description_width": ""
      }
     },
     "19acd12a5dce47e9bb1489048521e15b": {
      "model_module": "@jupyter-widgets/base",
      "model_module_version": "1.2.0",
      "model_name": "LayoutModel",
      "state": {}
     },
     "2998c4f158f94fee8eda6b5f223f817b": {
      "model_module": "@jupyter-widgets/controls",
      "model_module_version": "1.5.0",
      "model_name": "HTMLModel",
      "state": {
       "layout": "IPY_MODEL_19acd12a5dce47e9bb1489048521e15b",
       "style": "IPY_MODEL_df6a871b4cc149df8a93e853b8e04dcd"
      }
     },
     "2e2f6cf29bd14aa4a4cbc8edf7d83930": {
      "model_module": "jupyter-leaflet",
      "model_module_version": "^0.13.5",
      "model_name": "LeafletGeoJSONModel",
      "state": {
       "_model_module": "jupyter-leaflet",
       "_model_module_version": "^0.13.5",
       "_view_count": null,
       "_view_module": "jupyter-leaflet",
       "_view_module_version": "^0.13.5",
       "base": false,
       "bottom": false,
       "data": {
        "features": [
         {
          "geometry": {
           "coordinates": [
            [
             [
              2.999750708112026,
              43.95524095200904
             ],
             [
              3.018033244913145,
              44.000801945423504
             ],
             [
              3.076193903368761,
              44.14658096408308
             ],
             [
              3.118553553782752,
              44.25270268099162
             ],
             [
              2.999749474120944,
              44.25341758107761
             ],
             [
              2.999750708112026,
              43.95524095200904
             ]
            ]
           ],
           "type": "Polygon"
          },
          "id": "S2B_MSIL1C_20210110T105329_N0209_R051_T31TEJ_20210110T130049",
          "properties": {
           "abstract": "The Level-1C product is composed of 100x100 km2 tiles (ortho-images in UTM/WGS84 projection). It results from\nusing a Digital Elevation Model (DEM) to project the image in cartographic geometry. Per-pixel radiometric\nmeasurements are provided in Top Of Atmosphere (TOA) reflectances along with the parameters to transform them\ninto radiances. Level-1C products are resampled with a constant Ground Sampling Distance (GSD) of 10, 20 and 60\nmeters depending on the native resolution of the different spectral bands. In Level-1C  products, pixel\ncoordinates refer to the upper left corner of the pixel. Level-1C products will additionally include Cloud Masks\nand ECMWF data (total column of ozone, total column of water vapour and mean sea level pressure).\n",
           "acquisition": {
            "beginViewingDate": 1610276009024,
            "centerViewingDate": 1610276009024,
            "endViewingDate": 1610276009024,
            "mission": "Sentinel-2",
            "missionCode": "S2B",
            "missionId": "B",
            "missionName": "Sentinel-2B",
            "sensorId": "MSI",
            "sensorMode": "INS-NOBS"
           },
           "archive": {
            "filename": "S2B_MSIL1C_20210110T105329_N0209_R051_T31TEJ_20210110T130049.SAFE",
            "format": "SAFE",
            "offLine": false,
            "onLine": false,
            "size": 31
           },
           "attachments": [],
           "attitude": {},
           "bands": [
            {
             "center_wavelength": 0.4439,
             "common_name": "coastal",
             "full_width_half_max": 0.027,
             "gsd": 60,
             "name": "B01"
            },
            {
             "center_wavelength": 0.4966,
             "common_name": "blue",
             "full_width_half_max": 0.098,
             "gsd": 10,
             "name": "B02"
            },
            {
             "center_wavelength": 0.56,
             "common_name": "green",
             "full_width_half_max": 0.045,
             "gsd": 10,
             "name": "B03"
            },
            {
             "center_wavelength": 0.6645,
             "common_name": "red",
             "full_width_half_max": 0.038,
             "gsd": 10,
             "name": "B04"
            },
            {
             "center_wavelength": 0.7039,
             "full_width_half_max": 0.019,
             "gsd": 20,
             "name": "B05"
            },
            {
             "center_wavelength": 0.7402,
             "full_width_half_max": 0.018,
             "gsd": 20,
             "name": "B06"
            },
            {
             "center_wavelength": 0.7825,
             "full_width_half_max": 0.028,
             "gsd": 20,
             "name": "B07"
            },
            {
             "center_wavelength": 0.8351,
             "common_name": "nir",
             "full_width_half_max": 0.145,
             "gsd": 10,
             "name": "B08"
            },
            {
             "center_wavelength": 0.8648,
             "full_width_half_max": 0.033,
             "gsd": 20,
             "name": "B8A"
            },
            {
             "center_wavelength": 0.945,
             "full_width_half_max": 0.026,
             "gsd": 60,
             "name": "B09"
            },
            {
             "center_wavelength": 0.13735,
             "common_name": "cirrus",
             "full_width_half_max": 0.075,
             "gsd": 60,
             "name": "B10"
            },
            {
             "center_wavelength": 0.16137,
             "common_name": "swir16",
             "full_width_half_max": 0.075,
             "gsd": 20,
             "name": "B11"
            },
            {
             "center_wavelength": 0.22024,
             "common_name": "swir22",
             "full_width_half_max": 0.242,
             "gsd": 20,
             "name": "B12"
            }
           ],
           "cloudCover": 0.3882,
           "completionTimeFromAscendingNode": "2021-01-10T10:53:29.024000+00:00",
           "contentDescription": {
            "cloudCoverPercentage": 0.3882
           },
           "creationDate": "2021-01-10T15:22:49.286000+00:00",
           "downloadLink": "https://sobloo.eu/api/v1/services/download/31b2f1a8-046e-4e15-a83a-3bce3f6c1837",
           "enrichment": {
            "geonames": [
             {
              "name": "France",
              "states": [
               {
                "counties": [
                 {
                  "cities": [
                   {
                    "name": "Millau"
                   }
                  ],
                  "name": "Aveyron",
                  "villages": [
                   {
                    "name": "Castelnau-Pégayrols"
                   },
                   {
                    "name": "Rivière-sur-Tarn"
                   },
                   {
                    "name": "Millau"
                   },
                   {
                    "name": "Roquefort-sur-Soulzon"
                   },
                   {
                    "name": "Saint-Georges-de-Luzençon"
                   },
                   {
                    "name": "Tournemire"
                   },
                   {
                    "name": "Creissels"
                   },
                   {
                    "name": "Saint-Léons"
                   },
                   {
                    "name": "Aguessac"
                   },
                   {
                    "name": "Comprégnac"
                   },
                   {
                    "name": "Vézins-de-Lévézou"
                   },
                   {
                    "name": "Sévérac-d'Aveyron"
                   },
                   {
                    "name": "Saint-Rome-de-Cernon"
                   },
                   {
                    "name": "Verrières"
                   },
                   {
                    "name": "Compeyre"
                   },
                   {
                    "name": "Saint-Beauzély"
                   }
                  ]
                 }
                ],
                "name": "Occitanie"
               }
              ]
             }
            ],
            "naturallanguage": {
             "search_cloud_string": "cloud:partly_cloudy",
             "search_date_string": "2021 January 10 10: 10:53 10:53:29",
             "search_incidence_angle_string": "incidence:?",
             "search_quality_string": "quality:?"
            }
           },
           "eodag_product_type": "S2_MSI_L1C",
           "eodag_provider": "sobloo",
           "eodag_search_intersection": {
            "coordinates": [
             [
              [
               2.999750708112026,
               43.95524095200904
              ],
              [
               2.999749474120944,
               44.25341758107761
              ],
              [
               3.118553553782752,
               44.25270268099162
              ],
              [
               3.076193903368761,
               44.14658096408308
              ],
              [
               3.018033244913145,
               44.000801945423504
              ],
              [
               2.999750708112026,
               43.95524095200904
              ]
             ]
            ],
            "type": "Polygon"
           },
           "identification": {
            "collection": "Sentinel-2",
            "dataset": {},
            "externalId": "S2B_MSIL1C_20210110T105329_N0209_R051_T31TEJ_20210110T130049",
            "hvTileId": "TJ31E",
            "profile": "Image",
            "tileId": "31TEJ",
            "type": "S2MSI1C"
           },
           "illumination": {},
           "instrument": "MSI",
           "license": "proprietary",
           "missionStartDate": "2015-06-23T00:00:00Z",
           "orbit": {
            "direction": "DESCENDING",
            "number": 20097,
            "relativeNumber": 51
           },
           "orbitDirection": "DESCENDING",
           "orbitNumber": 20097,
           "platform": "Sentinel-2",
           "platformSerialIdentifier": "S2B",
           "processingLevel": "Level-1C",
           "productType": "S2MSI1C",
           "production": {
            "baseline": "02.09",
            "levelCode": "Level-1C",
            "ongoing": false
           },
           "provider": {},
           "quality": {
            "qualified": false
           },
           "quicklook": "https://sobloo.eu/api/v1/services/quicklook/31b2f1a8-046e-4e15-a83a-3bce3f6c1837",
           "sensorMode": "INS-NOBS",
           "sensorType": "OPTICAL",
           "spatialCoverage": {
            "geometry": {
             "centerPoint": {
              "lat": 44.15372805857198,
              "lon": 3.039352935927719
             },
             "geographicBoundingPolygon": {
              "coordinates": [
               [
                [
                 2.999750708112026,
                 43.95524095200904
                ],
                [
                 3.018033244913145,
                 44.000801945423504
                ],
                [
                 3.076193903368761,
                 44.14658096408308
                ],
                [
                 3.118553553782752,
                 44.25270268099162
                ],
                [
                 2.999749474120944,
                 44.25341758107761
                ],
                [
                 2.999750708112026,
                 43.95524095200904
                ]
               ]
              ],
              "type": "Polygon"
             },
             "global": false
            },
            "verticality": {}
           },
           "startTimeFromAscendingNode": "2021-01-10T10:53:29.024000+00:00",
           "state": {
            "insertionDate": 1610292169286,
            "resources": {
             "quicklook": true,
             "thumbnail": true
            },
            "services": {
             "download": "internal",
             "wcs": false,
             "wms": false,
             "wmts": false
            }
           },
           "storageStatus": "ONLINE",
           "style": {
            "color": "yellow"
           },
           "target": {},
           "timeStamp": 1610276009024,
           "title": "S2B_MSIL1C_20210110T105329_N0209_R051_T31TEJ_20210110T130049",
           "transmission": {},
           "uid": "31b2f1a8-046e-4e15-a83a-3bce3f6c1837",
           "visibility": {
            "deleted": false
           }
          },
          "type": "Feature"
         },
         {
          "geometry": {
           "coordinates": [
            [
             [
              0.499651613106885,
              44.137996748196564
             ],
             [
              0.547326919389197,
              44.13875411986689
             ],
             [
              0.567537320331426,
              44.18935658826113
             ],
             [
              0.625788942487544,
              44.33515624875584
             ],
             [
              0.685039219907538,
              44.480861587803375
             ],
             [
              0.744545071976698,
              44.62652039050277
             ],
             [
              0.803778209145012,
              44.772162974223214
             ],
             [
              0.86316473457256,
              44.91769059085591
             ],
             [
              0.922419943876341,
              45.06324191215061
             ],
             [
              0.951443339301435,
              45.13350764694719
             ],
             [
              0.45686051699677,
              45.12551356202371
             ],
             [
              0.499651613106885,
              44.137996748196564
             ]
            ]
           ],
           "type": "Polygon"
          },
          "id": "S2A_MSIL1C_20210108T110431_N0209_R094_T31TCK_20210108T131314",
          "properties": {
           "abstract": "The Level-1C product is composed of 100x100 km2 tiles (ortho-images in UTM/WGS84 projection). It results from\nusing a Digital Elevation Model (DEM) to project the image in cartographic geometry. Per-pixel radiometric\nmeasurements are provided in Top Of Atmosphere (TOA) reflectances along with the parameters to transform them\ninto radiances. Level-1C products are resampled with a constant Ground Sampling Distance (GSD) of 10, 20 and 60\nmeters depending on the native resolution of the different spectral bands. In Level-1C  products, pixel\ncoordinates refer to the upper left corner of the pixel. Level-1C products will additionally include Cloud Masks\nand ECMWF data (total column of ozone, total column of water vapour and mean sea level pressure).\n",
           "acquisition": {
            "beginViewingDate": 1610103871024,
            "centerViewingDate": 1610103871024,
            "endViewingDate": 1610103871024,
            "mission": "Sentinel-2",
            "missionCode": "S2A",
            "missionId": "A",
            "missionName": "Sentinel-2A",
            "sensorId": "MSI",
            "sensorMode": "INS-NOBS"
           },
           "archive": {
            "filename": "S2A_MSIL1C_20210108T110431_N0209_R094_T31TCK_20210108T131314.SAFE",
            "format": "SAFE",
            "offLine": false,
            "onLine": false,
            "size": 186
           },
           "attachments": [],
           "attitude": {},
           "bands": [
            {
             "center_wavelength": 0.4439,
             "common_name": "coastal",
             "full_width_half_max": 0.027,
             "gsd": 60,
             "name": "B01"
            },
            {
             "center_wavelength": 0.4966,
             "common_name": "blue",
             "full_width_half_max": 0.098,
             "gsd": 10,
             "name": "B02"
            },
            {
             "center_wavelength": 0.56,
             "common_name": "green",
             "full_width_half_max": 0.045,
             "gsd": 10,
             "name": "B03"
            },
            {
             "center_wavelength": 0.6645,
             "common_name": "red",
             "full_width_half_max": 0.038,
             "gsd": 10,
             "name": "B04"
            },
            {
             "center_wavelength": 0.7039,
             "full_width_half_max": 0.019,
             "gsd": 20,
             "name": "B05"
            },
            {
             "center_wavelength": 0.7402,
             "full_width_half_max": 0.018,
             "gsd": 20,
             "name": "B06"
            },
            {
             "center_wavelength": 0.7825,
             "full_width_half_max": 0.028,
             "gsd": 20,
             "name": "B07"
            },
            {
             "center_wavelength": 0.8351,
             "common_name": "nir",
             "full_width_half_max": 0.145,
             "gsd": 10,
             "name": "B08"
            },
            {
             "center_wavelength": 0.8648,
             "full_width_half_max": 0.033,
             "gsd": 20,
             "name": "B8A"
            },
            {
             "center_wavelength": 0.945,
             "full_width_half_max": 0.026,
             "gsd": 60,
             "name": "B09"
            },
            {
             "center_wavelength": 0.13735,
             "common_name": "cirrus",
             "full_width_half_max": 0.075,
             "gsd": 60,
             "name": "B10"
            },
            {
             "center_wavelength": 0.16137,
             "common_name": "swir16",
             "full_width_half_max": 0.075,
             "gsd": 20,
             "name": "B11"
            },
            {
             "center_wavelength": 0.22024,
             "common_name": "swir22",
             "full_width_half_max": 0.242,
             "gsd": 20,
             "name": "B12"
            }
           ],
           "cloudCover": 0,
           "completionTimeFromAscendingNode": "2021-01-08T11:04:31.024000+00:00",
           "contentDescription": {
            "cloudCoverPercentage": 0
           },
           "creationDate": "2021-01-08T15:24:54.074000+00:00",
           "downloadLink": "https://sobloo.eu/api/v1/services/download/6937a5ba-51eb-4b28-8d4b-1c87cce92ec3",
           "enrichment": {
            "geonames": [
             {
              "name": "France",
              "states": [
               {
                "counties": [
                 {
                  "cities": [
                   {
                    "name": "Marmande"
                   },
                   {
                    "name": "Agen"
                   },
                   {
                    "name": "Villeneuve-sur-Lot"
                   },
                   {
                    "name": "Nérac"
                   }
                  ],
                  "name": "Lot-et-Garonne",
                  "villages": [
                   {
                    "name": "Ségalas"
                   },
                   {
                    "name": "Cancon"
                   },
                   {
                    "name": "Sérignac-sur-Garonne"
                   },
                   {
                    "name": "Saint-Pastour"
                   },
                   {
                    "name": "Monflanquin"
                   },
                   {
                    "name": "Saint-Hilaire-de-Lusignan"
                   },
                   {
                    "name": "La Sauvetat-sur-Lède"
                   },
                   {
                    "name": "Saint-Colomb-de-Lauzun"
                   },
                   {
                    "name": "Monviel"
                   },
                   {
                    "name": "Pailloles"
                   },
                   {
                    "name": "Ferrensac"
                   },
                   {
                    "name": "Moulinet"
                   },
                   {
                    "name": "Villeréal"
                   },
                   {
                    "name": "Castelnaud-de-Gratecambe"
                   },
                   {
                    "name": "Montaut"
                   },
                   {
                    "name": "Colayrac-Saint-Cirq"
                   },
                   {
                    "name": "Sainte-Colombe-en-Bruilhois"
                   },
                   {
                    "name": "Dolmayrac"
                   },
                   {
                    "name": "Castelmoron-sur-Lot"
                   },
                   {
                    "name": "Pinel-Hauterive"
                   },
                   {
                    "name": "Le Temple-sur-Lot"
                   },
                   {
                    "name": "Saint-Maurice-de-Lestapel"
                   },
                   {
                    "name": "Montpezat"
                   },
                   {
                    "name": "Doudrac"
                   },
                   {
                    "name": "Saint-Étienne-de-Villeréal"
                   },
                   {
                    "name": "Brugnac"
                   },
                   {
                    "name": "Beaugas"
                   },
                   {
                    "name": "Fongrave"
                   },
                   {
                    "name": "Villeneuve-sur-Lot"
                   },
                   {
                    "name": "Bournel"
                   },
                   {
                    "name": "Montastruc"
                   },
                   {
                    "name": "Roquefort"
                   },
                   {
                    "name": "Moncaut"
                   },
                   {
                    "name": "Laplume"
                   },
                   {
                    "name": "Cahuzac"
                   }
                  ]
                 },
                 {
                  "cities": [
                   {
                    "name": "Bergerac"
                   },
                   {
                    "name": "Sarlat-la-Canéda"
                   },
                   {
                    "name": "Périgueux"
                   }
                  ],
                  "name": "Dordogne",
                  "villages": [
                   {
                    "name": "Saint-Geyrac"
                   },
                   {
                    "name": "Singleyrac"
                   },
                   {
                    "name": "Monmarvès"
                   },
                   {
                    "name": "Conne-de-Labarde"
                   },
                   {
                    "name": "Villamblard"
                   },
                   {
                    "name": "Cause-de-Clérans"
                   },
                   {
                    "name": "Saint-Germain-du-Salembre"
                   },
                   {
                    "name": "Manzac-sur-Vern"
                   },
                   {
                    "name": "Saint-Laurent-des-Vignes"
                   },
                   {
                    "name": "Clermont-de-Beauregard"
                   },
                   {
                    "name": "Plaisance"
                   },
                   {
                    "name": "Beauregard-et-Bassac"
                   },
                   {
                    "name": "Sadillac"
                   },
                   {
                    "name": "Naussannes"
                   },
                   {
                    "name": "Fossemagne"
                   },
                   {
                    "name": "Creysse"
                   },
                   {
                    "name": "Le Buisson-de-Cadouin"
                   },
                   {
                    "name": "Faurilles"
                   },
                   {
                    "name": "Badefols-sur-Dordogne"
                   },
                   {
                    "name": "Saint-Maime-de-Péreyrol"
                   },
                   {
                    "name": "Vallereuil"
                   },
                   {
                    "name": "Saint-Amand-de-Vergt"
                   },
                   {
                    "name": "Cours-de-Pile"
                   },
                   {
                    "name": "Monmadalès"
                   },
                   {
                    "name": "Saint-Jean-d'Estissac"
                   },
                   {
                    "name": "Saint-Nexans"
                   },
                   {
                    "name": "Monsaguel"
                   },
                   {
                    "name": "Sainte-Alvère-Saint-Laurent-les-Bâtons"
                   },
                   {
                    "name": "Couze-et-Saint-Front"
                   },
                   {
                    "name": "Salon"
                   },
                   {
                    "name": "Sourzac"
                   },
                   {
                    "name": "Bourniquel"
                   },
                   {
                    "name": "Saint-Félix-de-Reillac-et-Mortemart"
                   },
                   {
                    "name": "Colombier"
                   },
                   {
                    "name": "Saint-Avit-Sénieur"
                   },
                   {
                    "name": "Lanquais"
                   },
                   {
                    "name": "Creyssensac-et-Pissot"
                   },
                   {
                    "name": "Razac-d'Eymet"
                   },
                   {
                    "name": "Église-Neuve-de-Vergt"
                   },
                   {
                    "name": "Montagnac-la-Crempse"
                   },
                   {
                    "name": "Lembras"
                   },
                   {
                    "name": "Breuilh"
                   },
                   {
                    "name": "Bourrou"
                   },
                   {
                    "name": "Lamonzie-Montastruc"
                   },
                   {
                    "name": "Issac"
                   },
                   {
                    "name": "Notre-Dame-de-Sanilhac"
                   },
                   {
                    "name": "Cendrieux"
                   },
                   {
                    "name": "Lalinde"
                   },
                   {
                    "name": "Saint-Séverin-d'Estissac"
                   },
                   {
                    "name": "Sainte-Foy-de-Longas"
                   },
                   {
                    "name": "Douville"
                   },
                   {
                    "name": "Eyliac"
                   },
                   {
                    "name": "Fouleix"
                   },
                   {
                    "name": "Veyrines-de-Vergt"
                   }
                  ]
                 }
                ],
                "name": "Nouvelle-Aquitaine"
               }
              ]
             }
            ],
            "naturallanguage": {
             "search_cloud_string": "cloud:clear",
             "search_date_string": "2021 January 08 11: 11:04 11:04:31",
             "search_incidence_angle_string": "incidence:?",
             "search_quality_string": "quality:?"
            }
           },
           "eodag_product_type": "S2_MSI_L1C",
           "eodag_provider": "sobloo",
           "eodag_search_intersection": {
            "coordinates": [
             [
              [
               0.499651613106885,
               44.137996748196564
              ],
              [
               0.45686051699677,
               45.12551356202371
              ],
              [
               0.951443339301435,
               45.13350764694719
              ],
              [
               0.922419943876341,
               45.06324191215061
              ],
              [
               0.86316473457256,
               44.91769059085591
              ],
              [
               0.803778209145012,
               44.772162974223214
              ],
              [
               0.744545071976698,
               44.62652039050277
              ],
              [
               0.685039219907538,
               44.480861587803375
              ],
              [
               0.625788942487544,
               44.33515624875584
              ],
              [
               0.567537320331426,
               44.18935658826113
              ],
              [
               0.547326919389197,
               44.13875411986689
              ],
              [
               0.499651613106885,
               44.137996748196564
              ]
             ]
            ],
            "type": "Polygon"
           },
           "identification": {
            "collection": "Sentinel-2",
            "dataset": {},
            "externalId": "S2A_MSIL1C_20210108T110431_N0209_R094_T31TCK_20210108T131314",
            "hvTileId": "TK31C",
            "profile": "Image",
            "tileId": "31TCK",
            "type": "S2MSI1C"
           },
           "illumination": {},
           "instrument": "MSI",
           "license": "proprietary",
           "missionStartDate": "2015-06-23T00:00:00Z",
           "orbit": {
            "direction": "DESCENDING",
            "number": 28977,
            "relativeNumber": 94
           },
           "orbitDirection": "DESCENDING",
           "orbitNumber": 28977,
           "platform": "Sentinel-2",
           "platformSerialIdentifier": "S2A",
           "processingLevel": "Level-1C",
           "productType": "S2MSI1C",
           "production": {
            "baseline": "02.09",
            "levelCode": "Level-1C",
            "ongoing": false
           },
           "provider": {},
           "quality": {
            "qualified": false
           },
           "quicklook": "https://sobloo.eu/api/v1/services/quicklook/6937a5ba-51eb-4b28-8d4b-1c87cce92ec3",
           "sensorMode": "INS-NOBS",
           "sensorType": "OPTICAL",
           "spatialCoverage": {
            "geometry": {
             "centerPoint": {
              "lat": 44.77064071594664,
              "lon": 0.6383608135343207
             },
             "geographicBoundingPolygon": {
              "coordinates": [
               [
                [
                 0.499651613106885,
                 44.137996748196564
                ],
                [
                 0.547326919389197,
                 44.13875411986689
                ],
                [
                 0.567537320331426,
                 44.18935658826113
                ],
                [
                 0.625788942487544,
                 44.33515624875584
                ],
                [
                 0.685039219907538,
                 44.480861587803375
                ],
                [
                 0.744545071976698,
                 44.62652039050277
                ],
                [
                 0.803778209145012,
                 44.772162974223214
                ],
                [
                 0.86316473457256,
                 44.91769059085591
                ],
                [
                 0.922419943876341,
                 45.06324191215061
                ],
                [
                 0.951443339301435,
                 45.13350764694719
                ],
                [
                 0.45686051699677,
                 45.12551356202371
                ],
                [
                 0.499651613106885,
                 44.137996748196564
                ]
               ]
              ],
              "type": "Polygon"
             },
             "global": false
            },
            "verticality": {}
           },
           "startTimeFromAscendingNode": "2021-01-08T11:04:31.024000+00:00",
           "state": {
            "insertionDate": 1610119494074,
            "resources": {
             "quicklook": true,
             "thumbnail": true
            },
            "services": {
             "download": "internal",
             "wcs": false,
             "wms": false,
             "wmts": false
            }
           },
           "storageStatus": "ONLINE",
           "style": {
            "color": "yellow"
           },
           "target": {},
           "timeStamp": 1610103871024,
           "title": "S2A_MSIL1C_20210108T110431_N0209_R094_T31TCK_20210108T131314",
           "transmission": {},
           "uid": "6937a5ba-51eb-4b28-8d4b-1c87cce92ec3",
           "visibility": {
            "deleted": false
           }
          },
          "type": "Feature"
         }
        ],
        "type": "FeatureCollection"
       },
       "hover_style": {
        "fillColor": "yellow"
       },
       "name": "",
       "options": [],
       "popup": null,
       "popup_max_height": null,
       "popup_max_width": 300,
       "popup_min_width": 50,
       "style": {
        "color": "yellow"
       }
      }
     },
     "31ccb4e80045473fb373b493f0c833bd": {
      "model_module": "@jupyter-widgets/base",
      "model_module_version": "1.2.0",
      "model_name": "LayoutModel",
      "state": {}
     },
     "409a2e12701a48f399beb83268228f92": {
      "model_module": "@jupyter-widgets/controls",
      "model_module_version": "1.5.0",
      "model_name": "LabelModel",
      "state": {
       "layout": "IPY_MODEL_8e784e20bbc94cf188c8e3fc7c52b478",
       "style": "IPY_MODEL_b8095fa468bf476f967f7570e8a15fd8",
       "value": "S2A_MSIL1C_20210118T110401_N0209_R094_T30TXR_20210118T131217"
      }
     },
     "4a59ee8a35754310a37cbb7bda8833e3": {
      "model_module": "@jupyter-widgets/controls",
      "model_module_version": "1.5.0",
      "model_name": "HBoxModel",
      "state": {
       "children": [
        "IPY_MODEL_2998c4f158f94fee8eda6b5f223f817b",
        "IPY_MODEL_9264c0995f654e84a25d48f120bc8327",
        "IPY_MODEL_80b7223589d74e6d887508bbe24f181f"
       ],
       "layout": "IPY_MODEL_5b9b2f72b8a94fce82d7f6c649740fef"
      }
     },
     "51ba2bbe632144a78a36ddb966461e6d": {
      "model_module": "jupyter-leaflet",
      "model_module_version": "^0.13.5",
      "model_name": "LeafletRectangleModel",
      "state": {
       "_model_module_version": "^0.13.5",
       "_view_module_version": "^0.13.5",
       "bounds": [
        [
         42.763146,
         -1.999512
        ],
        [
         46.754917,
         4.570313
        ]
       ],
       "color": "green",
       "draggable": false,
       "options": [
        "color",
        "dash_array",
        "draggable",
        "fill",
        "fill_color",
        "fill_opacity",
        "line_cap",
        "line_join",
        "no_clip",
        "opacity",
        "pointer_events",
        "smooth_factor",
        "stroke",
        "transform",
        "weight"
       ],
       "rotation": true,
       "scaling": true,
       "transform": false,
       "uniform_scaling": false
      }
     },
     "5812b6f1834748beafa1ba681036c239": {
      "model_module": "@jupyter-widgets/controls",
      "model_module_version": "1.5.0",
      "model_name": "VBoxModel",
      "state": {
       "children": [
        "IPY_MODEL_dbec899223114ffcabb498a3f3d0562b",
        "IPY_MODEL_409a2e12701a48f399beb83268228f92"
       ],
       "layout": "IPY_MODEL_a91a4fd6395740a4bccfdf1935901781"
      }
     },
     "5b6b00b30b0d4e859c79aa3a73948867": {
      "model_module": "jupyter-leaflet",
      "model_module_version": "^0.13.5",
      "model_name": "LeafletTileLayerModel",
      "state": {
       "_model_module_version": "^0.13.5",
       "_view_module_version": "^0.13.5",
       "base": true,
       "max_native_zoom": 18,
       "max_zoom": 19,
       "min_native_zoom": 0,
       "min_zoom": 1,
       "options": [
        "attribution",
        "detect_retina",
        "max_native_zoom",
        "max_zoom",
        "min_native_zoom",
        "min_zoom",
        "no_wrap",
        "tile_size",
        "tms"
       ]
      }
     },
     "5b9b2f72b8a94fce82d7f6c649740fef": {
      "model_module": "@jupyter-widgets/base",
      "model_module_version": "1.2.0",
      "model_name": "LayoutModel",
      "state": {}
     },
     "5eaf479387544d73a92acf4958e7b13b": {
      "model_module": "jupyter-leaflet",
      "model_module_version": "^0.13.5",
      "model_name": "LeafletGeoJSONModel",
      "state": {
       "_model_module": "jupyter-leaflet",
       "_model_module_version": "^0.13.5",
       "_view_count": null,
       "_view_module": "jupyter-leaflet",
       "_view_module_version": "^0.13.5",
       "base": false,
       "bottom": false,
       "data": {
        "features": [
         {
          "geometry": {
           "coordinates": [
            [
             [
              2.999750708112026,
              43.95524095200904
             ],
             [
              3.018033244913145,
              44.000801945423504
             ],
             [
              3.076193903368761,
              44.14658096408308
             ],
             [
              3.118553553782752,
              44.25270268099162
             ],
             [
              2.999749474120944,
              44.25341758107761
             ],
             [
              2.999750708112026,
              43.95524095200904
             ]
            ]
           ],
           "type": "Polygon"
          },
          "id": "S2B_MSIL1C_20210110T105329_N0209_R051_T31TEJ_20210110T130049",
          "properties": {
           "abstract": "The Level-1C product is composed of 100x100 km2 tiles (ortho-images in UTM/WGS84 projection). It results from\nusing a Digital Elevation Model (DEM) to project the image in cartographic geometry. Per-pixel radiometric\nmeasurements are provided in Top Of Atmosphere (TOA) reflectances along with the parameters to transform them\ninto radiances. Level-1C products are resampled with a constant Ground Sampling Distance (GSD) of 10, 20 and 60\nmeters depending on the native resolution of the different spectral bands. In Level-1C  products, pixel\ncoordinates refer to the upper left corner of the pixel. Level-1C products will additionally include Cloud Masks\nand ECMWF data (total column of ozone, total column of water vapour and mean sea level pressure).\n",
           "acquisition": {
            "beginViewingDate": 1610276009024,
            "centerViewingDate": 1610276009024,
            "endViewingDate": 1610276009024,
            "mission": "Sentinel-2",
            "missionCode": "S2B",
            "missionId": "B",
            "missionName": "Sentinel-2B",
            "sensorId": "MSI",
            "sensorMode": "INS-NOBS"
           },
           "archive": {
            "filename": "S2B_MSIL1C_20210110T105329_N0209_R051_T31TEJ_20210110T130049.SAFE",
            "format": "SAFE",
            "offLine": false,
            "onLine": false,
            "size": 31
           },
           "attachments": [],
           "attitude": {},
           "bands": [
            {
             "center_wavelength": 0.4439,
             "common_name": "coastal",
             "full_width_half_max": 0.027,
             "gsd": 60,
             "name": "B01"
            },
            {
             "center_wavelength": 0.4966,
             "common_name": "blue",
             "full_width_half_max": 0.098,
             "gsd": 10,
             "name": "B02"
            },
            {
             "center_wavelength": 0.56,
             "common_name": "green",
             "full_width_half_max": 0.045,
             "gsd": 10,
             "name": "B03"
            },
            {
             "center_wavelength": 0.6645,
             "common_name": "red",
             "full_width_half_max": 0.038,
             "gsd": 10,
             "name": "B04"
            },
            {
             "center_wavelength": 0.7039,
             "full_width_half_max": 0.019,
             "gsd": 20,
             "name": "B05"
            },
            {
             "center_wavelength": 0.7402,
             "full_width_half_max": 0.018,
             "gsd": 20,
             "name": "B06"
            },
            {
             "center_wavelength": 0.7825,
             "full_width_half_max": 0.028,
             "gsd": 20,
             "name": "B07"
            },
            {
             "center_wavelength": 0.8351,
             "common_name": "nir",
             "full_width_half_max": 0.145,
             "gsd": 10,
             "name": "B08"
            },
            {
             "center_wavelength": 0.8648,
             "full_width_half_max": 0.033,
             "gsd": 20,
             "name": "B8A"
            },
            {
             "center_wavelength": 0.945,
             "full_width_half_max": 0.026,
             "gsd": 60,
             "name": "B09"
            },
            {
             "center_wavelength": 0.13735,
             "common_name": "cirrus",
             "full_width_half_max": 0.075,
             "gsd": 60,
             "name": "B10"
            },
            {
             "center_wavelength": 0.16137,
             "common_name": "swir16",
             "full_width_half_max": 0.075,
             "gsd": 20,
             "name": "B11"
            },
            {
             "center_wavelength": 0.22024,
             "common_name": "swir22",
             "full_width_half_max": 0.242,
             "gsd": 20,
             "name": "B12"
            }
           ],
           "cloudCover": 0.3882,
           "completionTimeFromAscendingNode": "2021-01-10T10:53:29.024000+00:00",
           "contentDescription": {
            "cloudCoverPercentage": 0.3882
           },
           "creationDate": "2021-01-10T15:22:49.286000+00:00",
           "downloadLink": "https://sobloo.eu/api/v1/services/download/31b2f1a8-046e-4e15-a83a-3bce3f6c1837",
           "enrichment": {
            "geonames": [
             {
              "name": "France",
              "states": [
               {
                "counties": [
                 {
                  "cities": [
                   {
                    "name": "Millau"
                   }
                  ],
                  "name": "Aveyron",
                  "villages": [
                   {
                    "name": "Castelnau-Pégayrols"
                   },
                   {
                    "name": "Rivière-sur-Tarn"
                   },
                   {
                    "name": "Millau"
                   },
                   {
                    "name": "Roquefort-sur-Soulzon"
                   },
                   {
                    "name": "Saint-Georges-de-Luzençon"
                   },
                   {
                    "name": "Tournemire"
                   },
                   {
                    "name": "Creissels"
                   },
                   {
                    "name": "Saint-Léons"
                   },
                   {
                    "name": "Aguessac"
                   },
                   {
                    "name": "Comprégnac"
                   },
                   {
                    "name": "Vézins-de-Lévézou"
                   },
                   {
                    "name": "Sévérac-d'Aveyron"
                   },
                   {
                    "name": "Saint-Rome-de-Cernon"
                   },
                   {
                    "name": "Verrières"
                   },
                   {
                    "name": "Compeyre"
                   },
                   {
                    "name": "Saint-Beauzély"
                   }
                  ]
                 }
                ],
                "name": "Occitanie"
               }
              ]
             }
            ],
            "naturallanguage": {
             "search_cloud_string": "cloud:partly_cloudy",
             "search_date_string": "2021 January 10 10: 10:53 10:53:29",
             "search_incidence_angle_string": "incidence:?",
             "search_quality_string": "quality:?"
            }
           },
           "eodag_product_type": "S2_MSI_L1C",
           "eodag_provider": "sobloo",
           "eodag_search_intersection": {
            "coordinates": [
             [
              [
               2.999750708112026,
               43.95524095200904
              ],
              [
               2.999749474120944,
               44.25341758107761
              ],
              [
               3.118553553782752,
               44.25270268099162
              ],
              [
               3.076193903368761,
               44.14658096408308
              ],
              [
               3.018033244913145,
               44.000801945423504
              ],
              [
               2.999750708112026,
               43.95524095200904
              ]
             ]
            ],
            "type": "Polygon"
           },
           "identification": {
            "collection": "Sentinel-2",
            "dataset": {},
            "externalId": "S2B_MSIL1C_20210110T105329_N0209_R051_T31TEJ_20210110T130049",
            "hvTileId": "TJ31E",
            "profile": "Image",
            "tileId": "31TEJ",
            "type": "S2MSI1C"
           },
           "illumination": {},
           "instrument": "MSI",
           "license": "proprietary",
           "missionStartDate": "2015-06-23T00:00:00Z",
           "orbit": {
            "direction": "DESCENDING",
            "number": 20097,
            "relativeNumber": 51
           },
           "orbitDirection": "DESCENDING",
           "orbitNumber": 20097,
           "platform": "Sentinel-2",
           "platformSerialIdentifier": "S2B",
           "processingLevel": "Level-1C",
           "productType": "S2MSI1C",
           "production": {
            "baseline": "02.09",
            "levelCode": "Level-1C",
            "ongoing": false
           },
           "provider": {},
           "quality": {
            "qualified": false
           },
           "quicklook": "https://sobloo.eu/api/v1/services/quicklook/31b2f1a8-046e-4e15-a83a-3bce3f6c1837",
           "sensorMode": "INS-NOBS",
           "sensorType": "OPTICAL",
           "spatialCoverage": {
            "geometry": {
             "centerPoint": {
              "lat": 44.15372805857198,
              "lon": 3.039352935927719
             },
             "geographicBoundingPolygon": {
              "coordinates": [
               [
                [
                 2.999750708112026,
                 43.95524095200904
                ],
                [
                 3.018033244913145,
                 44.000801945423504
                ],
                [
                 3.076193903368761,
                 44.14658096408308
                ],
                [
                 3.118553553782752,
                 44.25270268099162
                ],
                [
                 2.999749474120944,
                 44.25341758107761
                ],
                [
                 2.999750708112026,
                 43.95524095200904
                ]
               ]
              ],
              "type": "Polygon"
             },
             "global": false
            },
            "verticality": {}
           },
           "startTimeFromAscendingNode": "2021-01-10T10:53:29.024000+00:00",
           "state": {
            "insertionDate": 1610292169286,
            "resources": {
             "quicklook": true,
             "thumbnail": true
            },
            "services": {
             "download": "internal",
             "wcs": false,
             "wms": false,
             "wmts": false
            }
           },
           "storageStatus": "ONLINE",
           "style": {
            "color": "yellow"
           },
           "target": {},
           "timeStamp": 1610276009024,
           "title": "S2B_MSIL1C_20210110T105329_N0209_R051_T31TEJ_20210110T130049",
           "transmission": {},
           "uid": "31b2f1a8-046e-4e15-a83a-3bce3f6c1837",
           "visibility": {
            "deleted": false
           }
          },
          "type": "Feature"
         }
        ],
        "type": "FeatureCollection"
       },
       "hover_style": {
        "fillColor": "yellow"
       },
       "name": "",
       "options": [],
       "popup": null,
       "popup_max_height": null,
       "popup_max_width": 300,
       "popup_min_width": 50,
       "style": {
        "color": "yellow"
       }
      }
     },
     "64583b001397468c838e34fa7b13a048": {
      "model_module": "jupyter-leaflet",
      "model_module_version": "^0.13.5",
      "model_name": "LeafletGeoJSONModel",
      "state": {
       "_model_module": "jupyter-leaflet",
       "_model_module_version": "^0.13.5",
       "_view_count": null,
       "_view_module": "jupyter-leaflet",
       "_view_module_version": "^0.13.5",
       "base": false,
       "bottom": false,
       "data": {
        "features": [
         {
          "geometry": {
           "coordinates": [
            [
             [
              0.196659174525255,
              43.21812306328243
             ],
             [
              0.214653323827068,
              43.26358647616488
             ],
             [
              0.272122281899612,
              43.4094748667584
             ],
             [
              0.329745220250706,
              43.555293624836
             ],
             [
              0.387420360888636,
              43.701103604596646
             ],
             [
              0.444903309673641,
              43.84685961561742
             ],
             [
              0.490435507664308,
              43.96178393766129
             ],
             [
              0.502259194941621,
              43.99174279782117
             ],
             [
              0.522822048156159,
              44.0433315856212
             ],
             [
              0.560584713141412,
              44.138277054299344
             ],
             [
              0.5834693618212,
              44.19579082833161
             ],
             [
              0,
              44.212099406551744
             ],
             [
              -0.49642944,
              44.22597512802537
             ],
             [
              -0.53726196,
              43.238273156784096
             ],
             [
              0,
              43.22352241829243
             ],
             [
              0.196659174525255,
              43.21812306328243
             ]
            ]
           ],
           "type": "Polygon"
          },
          "id": "S2B_MSIL1C_20210103T110349_N0209_R094_T30TYP_20210103T121021",
          "properties": {
           "abstract": "The Level-1C product is composed of 100x100 km2 tiles (ortho-images in UTM/WGS84 projection). It results from\nusing a Digital Elevation Model (DEM) to project the image in cartographic geometry. Per-pixel radiometric\nmeasurements are provided in Top Of Atmosphere (TOA) reflectances along with the parameters to transform them\ninto radiances. Level-1C products are resampled with a constant Ground Sampling Distance (GSD) of 10, 20 and 60\nmeters depending on the native resolution of the different spectral bands. In Level-1C  products, pixel\ncoordinates refer to the upper left corner of the pixel. Level-1C products will additionally include Cloud Masks\nand ECMWF data (total column of ozone, total column of water vapour and mean sea level pressure).\n",
           "acquisition": {
            "beginViewingDate": 1609671829024,
            "centerViewingDate": 1609671829024,
            "endViewingDate": 1609671829024,
            "mission": "Sentinel-2",
            "missionCode": "S2B",
            "missionId": "B",
            "missionName": "Sentinel-2B",
            "sensorId": "MSI",
            "sensorMode": "INS-NOBS"
           },
           "archive": {
            "filename": "S2B_MSIL1C_20210103T110349_N0209_R094_T30TYP_20210103T121021.SAFE",
            "format": "SAFE",
            "offLine": false,
            "onLine": false,
            "size": 564
           },
           "attachments": [],
           "attitude": {},
           "bands": [
            {
             "center_wavelength": 0.4439,
             "common_name": "coastal",
             "full_width_half_max": 0.027,
             "gsd": 60,
             "name": "B01"
            },
            {
             "center_wavelength": 0.4966,
             "common_name": "blue",
             "full_width_half_max": 0.098,
             "gsd": 10,
             "name": "B02"
            },
            {
             "center_wavelength": 0.56,
             "common_name": "green",
             "full_width_half_max": 0.045,
             "gsd": 10,
             "name": "B03"
            },
            {
             "center_wavelength": 0.6645,
             "common_name": "red",
             "full_width_half_max": 0.038,
             "gsd": 10,
             "name": "B04"
            },
            {
             "center_wavelength": 0.7039,
             "full_width_half_max": 0.019,
             "gsd": 20,
             "name": "B05"
            },
            {
             "center_wavelength": 0.7402,
             "full_width_half_max": 0.018,
             "gsd": 20,
             "name": "B06"
            },
            {
             "center_wavelength": 0.7825,
             "full_width_half_max": 0.028,
             "gsd": 20,
             "name": "B07"
            },
            {
             "center_wavelength": 0.8351,
             "common_name": "nir",
             "full_width_half_max": 0.145,
             "gsd": 10,
             "name": "B08"
            },
            {
             "center_wavelength": 0.8648,
             "full_width_half_max": 0.033,
             "gsd": 20,
             "name": "B8A"
            },
            {
             "center_wavelength": 0.945,
             "full_width_half_max": 0.026,
             "gsd": 60,
             "name": "B09"
            },
            {
             "center_wavelength": 0.13735,
             "common_name": "cirrus",
             "full_width_half_max": 0.075,
             "gsd": 60,
             "name": "B10"
            },
            {
             "center_wavelength": 0.16137,
             "common_name": "swir16",
             "full_width_half_max": 0.075,
             "gsd": 20,
             "name": "B11"
            },
            {
             "center_wavelength": 0.22024,
             "common_name": "swir22",
             "full_width_half_max": 0.242,
             "gsd": 20,
             "name": "B12"
            }
           ],
           "cloudCover": 1.4675,
           "completionTimeFromAscendingNode": "2021-01-03T11:03:49.024000+00:00",
           "contentDescription": {
            "cloudCoverPercentage": 1.4675
           },
           "creationDate": "2021-01-03T15:28:45.035000+00:00",
           "downloadLink": "https://sobloo.eu/api/v1/services/download/a482f380-8734-43af-8af0-6ff38ccc0743",
           "enrichment": {
            "geonames": [
             {
              "name": "France",
              "states": [
               {
                "counties": [
                 {
                  "cities": [
                   {
                    "name": "Nérac"
                   },
                   {
                    "name": "Agen"
                   }
                  ],
                  "name": "Lot-et-Garonne",
                  "villages": [
                   {
                    "name": "Sérignac-sur-Garonne"
                   },
                   {
                    "name": "Fargues-sur-Ourbise"
                   },
                   {
                    "name": "Nérac"
                   },
                   {
                    "name": "Houeillès"
                   },
                   {
                    "name": "Sainte-Colombe-en-Bruilhois"
                   },
                   {
                    "name": "Laplume"
                   },
                   {
                    "name": "Roquefort"
                   }
                  ]
                 },
                 {
                  "cities": [
                   {
                    "name": "Langon"
                   }
                  ],
                  "name": "Gironde"
                 },
                 {
                  "cities": [
                   {
                    "name": "Pau"
                   },
                   {
                    "name": "Oloron-Sainte-Marie"
                   }
                  ],
                  "name": "Pyrénées-Atlantiques",
                  "villages": [
                   {
                    "name": "Lasseube"
                   },
                   {
                    "name": "Bernadets"
                   },
                   {
                    "name": "Momas"
                   },
                   {
                    "name": "Mazerolles"
                   },
                   {
                    "name": "Géus-d'Arzacq"
                   },
                   {
                    "name": "Artigueloutan"
                   },
                   {
                    "name": "Urost"
                   },
                   {
                    "name": "Siros"
                   },
                   {
                    "name": "Saint-Jammes"
                   },
                   {
                    "name": "Meillon"
                   },
                   {
                    "name": "Aubertin"
                   },
                   {
                    "name": "Saint-Laurent-Bretagne"
                   },
                   {
                    "name": "Boueilh-Boueilho-Lasque"
                   },
                   {
                    "name": "Doumy"
                   },
                   {
                    "name": "Buros"
                   },
                   {
                    "name": "Aydie"
                   },
                   {
                    "name": "Lamayou"
                   },
                   {
                    "name": "Poey-de-Lescar"
                   },
                   {
                    "name": "Pontacq"
                   },
                   {
                    "name": "Arrosès"
                   }
                  ]
                 },
                 {
                  "cities": [
                   {
                    "name": "Mont-de-Marsan"
                   }
                  ],
                  "name": "Landes",
                  "villages": [
                   {
                    "name": "Rimbez-et-Baudiets"
                   },
                   {
                    "name": "Montgaillard"
                   },
                   {
                    "name": "Bats"
                   },
                   {
                    "name": "Labrit"
                   },
                   {
                    "name": "Betbezer-d'Armagnac"
                   },
                   {
                    "name": "Monségur"
                   },
                   {
                    "name": "Lacquy"
                   },
                   {
                    "name": "Saint-Avit"
                   },
                   {
                    "name": "Arue"
                   },
                   {
                    "name": "Saint-Sever"
                   },
                   {
                    "name": "Saint-Julien-d'Armagnac"
                   },
                   {
                    "name": "Cachen"
                   },
                   {
                    "name": "Laglorieuse"
                   },
                   {
                    "name": "Hontanx"
                   },
                   {
                    "name": "Classun"
                   },
                   {
                    "name": "Luxey"
                   },
                   {
                    "name": "Renung"
                   },
                   {
                    "name": "Bascons"
                   },
                   {
                    "name": "Pujo-le-Plan"
                   },
                   {
                    "name": "Le Frêche"
                   },
                   {
                    "name": "Buanes"
                   },
                   {
                    "name": "Sarbazan"
                   },
                   {
                    "name": "Parleboscq"
                   },
                   {
                    "name": "Labastide-d'Armagnac"
                   },
                   {
                    "name": "Geaune"
                   },
                   {
                    "name": "Castelnau-Tursan"
                   }
                  ]
                 }
                ],
                "name": "Nouvelle-Aquitaine"
               },
               {
                "counties": [
                 {
                  "cities": [
                   {
                    "name": "Tarbes"
                   }
                  ],
                  "name": "Hautes-Pyrénées",
                  "villages": [
                   {
                    "name": "Bours"
                   },
                   {
                    "name": "Villefranque"
                   },
                   {
                    "name": "Laslades"
                   },
                   {
                    "name": "Soréac"
                   },
                   {
                    "name": "Lansac"
                   },
                   {
                    "name": "Marseillan"
                   }
                  ]
                 },
                 {
                  "cities": [
                   {
                    "name": "Condom"
                   },
                   {
                    "name": "Mirande"
                   },
                   {
                    "name": "Auch"
                   }
                  ],
                  "name": "Gers",
                  "villages": [
                   {
                    "name": "Mauléon-d'Armagnac"
                   },
                   {
                    "name": "Saint-Orens-Pouy-Petit"
                   },
                   {
                    "name": "Plaisance"
                   },
                   {
                    "name": "Peyrusse-Vieille"
                   },
                   {
                    "name": "Arblade-le-Haut"
                   },
                   {
                    "name": "Manciet"
                   },
                   {
                    "name": "Beaumont"
                   },
                   {
                    "name": "Jû-Belloc"
                   },
                   {
                    "name": "Riguepeu"
                   },
                   {
                    "name": "Beaucaire"
                   },
                   {
                    "name": "Castillon-Debats"
                   },
                   {
                    "name": "Lauraët"
                   },
                   {
                    "name": "Barcelonne-du-Gers"
                   },
                   {
                    "name": "Condom"
                   },
                   {
                    "name": "Aignan"
                   },
                   {
                    "name": "Castelnavet"
                   },
                   {
                    "name": "Caumont"
                   },
                   {
                    "name": "Bretagne-d'Armagnac"
                   },
                   {
                    "name": "Belmont"
                   },
                   {
                    "name": "Haget"
                   },
                   {
                    "name": "Roques"
                   },
                   {
                    "name": "Saint-Griède"
                   }
                  ]
                 }
                ],
                "name": "Occitanie"
               }
              ]
             }
            ],
            "naturallanguage": {
             "search_cloud_string": "cloud:partly_cloudy",
             "search_date_string": "2021 January 03 11: 11:03 11:03:49",
             "search_incidence_angle_string": "incidence:?",
             "search_quality_string": "quality:?"
            }
           },
           "eodag_product_type": "S2_MSI_L1C",
           "eodag_provider": "sobloo",
           "eodag_search_intersection": {
            "coordinates": [
             [
              [
               0.196659174525255,
               43.21812306328243
              ],
              [
               0,
               43.22352241829243
              ],
              [
               -0.53726196,
               43.238273156784096
              ],
              [
               -0.49642944,
               44.22597512802537
              ],
              [
               0,
               44.212099406551744
              ],
              [
               0.5834693618212,
               44.19579082833161
              ],
              [
               0.560584713141412,
               44.138277054299344
              ],
              [
               0.522822048156159,
               44.0433315856212
              ],
              [
               0.502259194941621,
               43.99174279782117
              ],
              [
               0.490435507664308,
               43.96178393766129
              ],
              [
               0.444903309673641,
               43.84685961561742
              ],
              [
               0.387420360888636,
               43.701103604596646
              ],
              [
               0.329745220250706,
               43.555293624836
              ],
              [
               0.272122281899612,
               43.4094748667584
              ],
              [
               0.214653323827068,
               43.26358647616488
              ],
              [
               0.196659174525255,
               43.21812306328243
              ]
             ]
            ],
            "type": "Polygon"
           },
           "identification": {
            "collection": "Sentinel-2",
            "dataset": {},
            "externalId": "S2B_MSIL1C_20210103T110349_N0209_R094_T30TYP_20210103T121021",
            "hvTileId": "TP30Y",
            "profile": "Image",
            "tileId": "30TYP",
            "type": "S2MSI1C"
           },
           "illumination": {},
           "instrument": "MSI",
           "license": "proprietary",
           "missionStartDate": "2015-06-23T00:00:00Z",
           "orbit": {
            "direction": "DESCENDING",
            "number": 19997,
            "relativeNumber": 94
           },
           "orbitDirection": "DESCENDING",
           "orbitNumber": 19997,
           "platform": "Sentinel-2",
           "platformSerialIdentifier": "S2B",
           "processingLevel": "Level-1C",
           "productType": "S2MSI1C",
           "production": {
            "baseline": "02.09",
            "levelCode": "Level-1C",
            "ongoing": false
           },
           "provider": {},
           "quality": {
            "qualified": false
           },
           "quicklook": "https://sobloo.eu/api/v1/services/quicklook/a482f380-8734-43af-8af0-6ff38ccc0743",
           "sensorMode": "INS-NOBS",
           "sensorType": "OPTICAL",
           "spatialCoverage": {
            "geometry": {
             "centerPoint": {
              "lat": 43.75078543447845,
              "lon": -0.056772036274430636
             },
             "geographicBoundingPolygon": {
              "coordinates": [
               [
                [
                 0.196659174525255,
                 43.21812306328243
                ],
                [
                 0.214653323827068,
                 43.26358647616488
                ],
                [
                 0.272122281899612,
                 43.4094748667584
                ],
                [
                 0.329745220250706,
                 43.555293624836
                ],
                [
                 0.387420360888636,
                 43.701103604596646
                ],
                [
                 0.444903309673641,
                 43.84685961561742
                ],
                [
                 0.490435507664308,
                 43.96178393766129
                ],
                [
                 0.502259194941621,
                 43.99174279782117
                ],
                [
                 0.522822048156159,
                 44.0433315856212
                ],
                [
                 0.560584713141412,
                 44.138277054299344
                ],
                [
                 0.5834693618212,
                 44.19579082833161
                ],
                [
                 0,
                 44.212099406551744
                ],
                [
                 -0.49642944,
                 44.22597512802537
                ],
                [
                 -0.53726196,
                 43.238273156784096
                ],
                [
                 0,
                 43.22352241829243
                ],
                [
                 0.196659174525255,
                 43.21812306328243
                ]
               ]
              ],
              "type": "Polygon"
             },
             "global": false
            },
            "verticality": {}
           },
           "startTimeFromAscendingNode": "2021-01-03T11:03:49.024000+00:00",
           "state": {
            "insertionDate": 1609687725035,
            "resources": {
             "quicklook": true,
             "thumbnail": true
            },
            "services": {
             "download": "internal",
             "wcs": false,
             "wms": false,
             "wmts": false
            }
           },
           "storageStatus": "ONLINE",
           "target": {},
           "timeStamp": 1609671829024,
           "title": "S2B_MSIL1C_20210103T110349_N0209_R094_T30TYP_20210103T121021",
           "transmission": {},
           "uid": "a482f380-8734-43af-8af0-6ff38ccc0743",
           "visibility": {
            "deleted": false
           }
          },
          "type": "Feature"
         },
         {
          "geometry": {
           "coordinates": [
            [
             [
              0.499651613106885,
              44.137996748196564
             ],
             [
              0.547326919389197,
              44.13875411986689
             ],
             [
              0.567537320331426,
              44.18935658826113
             ],
             [
              0.625788942487544,
              44.33515624875584
             ],
             [
              0.685039219907538,
              44.480861587803375
             ],
             [
              0.744545071976698,
              44.62652039050277
             ],
             [
              0.803778209145012,
              44.772162974223214
             ],
             [
              0.86316473457256,
              44.91769059085591
             ],
             [
              0.922419943876341,
              45.06324191215061
             ],
             [
              0.951443339301435,
              45.13350764694719
             ],
             [
              0.45686051699677,
              45.12551356202371
             ],
             [
              0.499651613106885,
              44.137996748196564
             ]
            ]
           ],
           "type": "Polygon"
          },
          "id": "S2A_MSIL1C_20210108T110431_N0209_R094_T31TCK_20210108T131314",
          "properties": {
           "abstract": "The Level-1C product is composed of 100x100 km2 tiles (ortho-images in UTM/WGS84 projection). It results from\nusing a Digital Elevation Model (DEM) to project the image in cartographic geometry. Per-pixel radiometric\nmeasurements are provided in Top Of Atmosphere (TOA) reflectances along with the parameters to transform them\ninto radiances. Level-1C products are resampled with a constant Ground Sampling Distance (GSD) of 10, 20 and 60\nmeters depending on the native resolution of the different spectral bands. In Level-1C  products, pixel\ncoordinates refer to the upper left corner of the pixel. Level-1C products will additionally include Cloud Masks\nand ECMWF data (total column of ozone, total column of water vapour and mean sea level pressure).\n",
           "acquisition": {
            "beginViewingDate": 1610103871024,
            "centerViewingDate": 1610103871024,
            "endViewingDate": 1610103871024,
            "mission": "Sentinel-2",
            "missionCode": "S2A",
            "missionId": "A",
            "missionName": "Sentinel-2A",
            "sensorId": "MSI",
            "sensorMode": "INS-NOBS"
           },
           "archive": {
            "filename": "S2A_MSIL1C_20210108T110431_N0209_R094_T31TCK_20210108T131314.SAFE",
            "format": "SAFE",
            "offLine": false,
            "onLine": false,
            "size": 186
           },
           "attachments": [],
           "attitude": {},
           "bands": [
            {
             "center_wavelength": 0.4439,
             "common_name": "coastal",
             "full_width_half_max": 0.027,
             "gsd": 60,
             "name": "B01"
            },
            {
             "center_wavelength": 0.4966,
             "common_name": "blue",
             "full_width_half_max": 0.098,
             "gsd": 10,
             "name": "B02"
            },
            {
             "center_wavelength": 0.56,
             "common_name": "green",
             "full_width_half_max": 0.045,
             "gsd": 10,
             "name": "B03"
            },
            {
             "center_wavelength": 0.6645,
             "common_name": "red",
             "full_width_half_max": 0.038,
             "gsd": 10,
             "name": "B04"
            },
            {
             "center_wavelength": 0.7039,
             "full_width_half_max": 0.019,
             "gsd": 20,
             "name": "B05"
            },
            {
             "center_wavelength": 0.7402,
             "full_width_half_max": 0.018,
             "gsd": 20,
             "name": "B06"
            },
            {
             "center_wavelength": 0.7825,
             "full_width_half_max": 0.028,
             "gsd": 20,
             "name": "B07"
            },
            {
             "center_wavelength": 0.8351,
             "common_name": "nir",
             "full_width_half_max": 0.145,
             "gsd": 10,
             "name": "B08"
            },
            {
             "center_wavelength": 0.8648,
             "full_width_half_max": 0.033,
             "gsd": 20,
             "name": "B8A"
            },
            {
             "center_wavelength": 0.945,
             "full_width_half_max": 0.026,
             "gsd": 60,
             "name": "B09"
            },
            {
             "center_wavelength": 0.13735,
             "common_name": "cirrus",
             "full_width_half_max": 0.075,
             "gsd": 60,
             "name": "B10"
            },
            {
             "center_wavelength": 0.16137,
             "common_name": "swir16",
             "full_width_half_max": 0.075,
             "gsd": 20,
             "name": "B11"
            },
            {
             "center_wavelength": 0.22024,
             "common_name": "swir22",
             "full_width_half_max": 0.242,
             "gsd": 20,
             "name": "B12"
            }
           ],
           "cloudCover": 0,
           "completionTimeFromAscendingNode": "2021-01-08T11:04:31.024000+00:00",
           "contentDescription": {
            "cloudCoverPercentage": 0
           },
           "creationDate": "2021-01-08T15:24:54.074000+00:00",
           "downloadLink": "https://sobloo.eu/api/v1/services/download/6937a5ba-51eb-4b28-8d4b-1c87cce92ec3",
           "enrichment": {
            "geonames": [
             {
              "name": "France",
              "states": [
               {
                "counties": [
                 {
                  "cities": [
                   {
                    "name": "Marmande"
                   },
                   {
                    "name": "Agen"
                   },
                   {
                    "name": "Villeneuve-sur-Lot"
                   },
                   {
                    "name": "Nérac"
                   }
                  ],
                  "name": "Lot-et-Garonne",
                  "villages": [
                   {
                    "name": "Ségalas"
                   },
                   {
                    "name": "Cancon"
                   },
                   {
                    "name": "Sérignac-sur-Garonne"
                   },
                   {
                    "name": "Saint-Pastour"
                   },
                   {
                    "name": "Monflanquin"
                   },
                   {
                    "name": "Saint-Hilaire-de-Lusignan"
                   },
                   {
                    "name": "La Sauvetat-sur-Lède"
                   },
                   {
                    "name": "Saint-Colomb-de-Lauzun"
                   },
                   {
                    "name": "Monviel"
                   },
                   {
                    "name": "Pailloles"
                   },
                   {
                    "name": "Ferrensac"
                   },
                   {
                    "name": "Moulinet"
                   },
                   {
                    "name": "Villeréal"
                   },
                   {
                    "name": "Castelnaud-de-Gratecambe"
                   },
                   {
                    "name": "Montaut"
                   },
                   {
                    "name": "Colayrac-Saint-Cirq"
                   },
                   {
                    "name": "Sainte-Colombe-en-Bruilhois"
                   },
                   {
                    "name": "Dolmayrac"
                   },
                   {
                    "name": "Castelmoron-sur-Lot"
                   },
                   {
                    "name": "Pinel-Hauterive"
                   },
                   {
                    "name": "Le Temple-sur-Lot"
                   },
                   {
                    "name": "Saint-Maurice-de-Lestapel"
                   },
                   {
                    "name": "Montpezat"
                   },
                   {
                    "name": "Doudrac"
                   },
                   {
                    "name": "Saint-Étienne-de-Villeréal"
                   },
                   {
                    "name": "Brugnac"
                   },
                   {
                    "name": "Beaugas"
                   },
                   {
                    "name": "Fongrave"
                   },
                   {
                    "name": "Villeneuve-sur-Lot"
                   },
                   {
                    "name": "Bournel"
                   },
                   {
                    "name": "Montastruc"
                   },
                   {
                    "name": "Roquefort"
                   },
                   {
                    "name": "Moncaut"
                   },
                   {
                    "name": "Laplume"
                   },
                   {
                    "name": "Cahuzac"
                   }
                  ]
                 },
                 {
                  "cities": [
                   {
                    "name": "Bergerac"
                   },
                   {
                    "name": "Sarlat-la-Canéda"
                   },
                   {
                    "name": "Périgueux"
                   }
                  ],
                  "name": "Dordogne",
                  "villages": [
                   {
                    "name": "Saint-Geyrac"
                   },
                   {
                    "name": "Singleyrac"
                   },
                   {
                    "name": "Monmarvès"
                   },
                   {
                    "name": "Conne-de-Labarde"
                   },
                   {
                    "name": "Villamblard"
                   },
                   {
                    "name": "Cause-de-Clérans"
                   },
                   {
                    "name": "Saint-Germain-du-Salembre"
                   },
                   {
                    "name": "Manzac-sur-Vern"
                   },
                   {
                    "name": "Saint-Laurent-des-Vignes"
                   },
                   {
                    "name": "Clermont-de-Beauregard"
                   },
                   {
                    "name": "Plaisance"
                   },
                   {
                    "name": "Beauregard-et-Bassac"
                   },
                   {
                    "name": "Sadillac"
                   },
                   {
                    "name": "Naussannes"
                   },
                   {
                    "name": "Fossemagne"
                   },
                   {
                    "name": "Creysse"
                   },
                   {
                    "name": "Le Buisson-de-Cadouin"
                   },
                   {
                    "name": "Faurilles"
                   },
                   {
                    "name": "Badefols-sur-Dordogne"
                   },
                   {
                    "name": "Saint-Maime-de-Péreyrol"
                   },
                   {
                    "name": "Vallereuil"
                   },
                   {
                    "name": "Saint-Amand-de-Vergt"
                   },
                   {
                    "name": "Cours-de-Pile"
                   },
                   {
                    "name": "Monmadalès"
                   },
                   {
                    "name": "Saint-Jean-d'Estissac"
                   },
                   {
                    "name": "Saint-Nexans"
                   },
                   {
                    "name": "Monsaguel"
                   },
                   {
                    "name": "Sainte-Alvère-Saint-Laurent-les-Bâtons"
                   },
                   {
                    "name": "Couze-et-Saint-Front"
                   },
                   {
                    "name": "Salon"
                   },
                   {
                    "name": "Sourzac"
                   },
                   {
                    "name": "Bourniquel"
                   },
                   {
                    "name": "Saint-Félix-de-Reillac-et-Mortemart"
                   },
                   {
                    "name": "Colombier"
                   },
                   {
                    "name": "Saint-Avit-Sénieur"
                   },
                   {
                    "name": "Lanquais"
                   },
                   {
                    "name": "Creyssensac-et-Pissot"
                   },
                   {
                    "name": "Razac-d'Eymet"
                   },
                   {
                    "name": "Église-Neuve-de-Vergt"
                   },
                   {
                    "name": "Montagnac-la-Crempse"
                   },
                   {
                    "name": "Lembras"
                   },
                   {
                    "name": "Breuilh"
                   },
                   {
                    "name": "Bourrou"
                   },
                   {
                    "name": "Lamonzie-Montastruc"
                   },
                   {
                    "name": "Issac"
                   },
                   {
                    "name": "Notre-Dame-de-Sanilhac"
                   },
                   {
                    "name": "Cendrieux"
                   },
                   {
                    "name": "Lalinde"
                   },
                   {
                    "name": "Saint-Séverin-d'Estissac"
                   },
                   {
                    "name": "Sainte-Foy-de-Longas"
                   },
                   {
                    "name": "Douville"
                   },
                   {
                    "name": "Eyliac"
                   },
                   {
                    "name": "Fouleix"
                   },
                   {
                    "name": "Veyrines-de-Vergt"
                   }
                  ]
                 }
                ],
                "name": "Nouvelle-Aquitaine"
               }
              ]
             }
            ],
            "naturallanguage": {
             "search_cloud_string": "cloud:clear",
             "search_date_string": "2021 January 08 11: 11:04 11:04:31",
             "search_incidence_angle_string": "incidence:?",
             "search_quality_string": "quality:?"
            }
           },
           "eodag_product_type": "S2_MSI_L1C",
           "eodag_provider": "sobloo",
           "eodag_search_intersection": {
            "coordinates": [
             [
              [
               0.499651613106885,
               44.137996748196564
              ],
              [
               0.45686051699677,
               45.12551356202371
              ],
              [
               0.951443339301435,
               45.13350764694719
              ],
              [
               0.922419943876341,
               45.06324191215061
              ],
              [
               0.86316473457256,
               44.91769059085591
              ],
              [
               0.803778209145012,
               44.772162974223214
              ],
              [
               0.744545071976698,
               44.62652039050277
              ],
              [
               0.685039219907538,
               44.480861587803375
              ],
              [
               0.625788942487544,
               44.33515624875584
              ],
              [
               0.567537320331426,
               44.18935658826113
              ],
              [
               0.547326919389197,
               44.13875411986689
              ],
              [
               0.499651613106885,
               44.137996748196564
              ]
             ]
            ],
            "type": "Polygon"
           },
           "identification": {
            "collection": "Sentinel-2",
            "dataset": {},
            "externalId": "S2A_MSIL1C_20210108T110431_N0209_R094_T31TCK_20210108T131314",
            "hvTileId": "TK31C",
            "profile": "Image",
            "tileId": "31TCK",
            "type": "S2MSI1C"
           },
           "illumination": {},
           "instrument": "MSI",
           "license": "proprietary",
           "missionStartDate": "2015-06-23T00:00:00Z",
           "orbit": {
            "direction": "DESCENDING",
            "number": 28977,
            "relativeNumber": 94
           },
           "orbitDirection": "DESCENDING",
           "orbitNumber": 28977,
           "platform": "Sentinel-2",
           "platformSerialIdentifier": "S2A",
           "processingLevel": "Level-1C",
           "productType": "S2MSI1C",
           "production": {
            "baseline": "02.09",
            "levelCode": "Level-1C",
            "ongoing": false
           },
           "provider": {},
           "quality": {
            "qualified": false
           },
           "quicklook": "https://sobloo.eu/api/v1/services/quicklook/6937a5ba-51eb-4b28-8d4b-1c87cce92ec3",
           "sensorMode": "INS-NOBS",
           "sensorType": "OPTICAL",
           "spatialCoverage": {
            "geometry": {
             "centerPoint": {
              "lat": 44.77064071594664,
              "lon": 0.6383608135343207
             },
             "geographicBoundingPolygon": {
              "coordinates": [
               [
                [
                 0.499651613106885,
                 44.137996748196564
                ],
                [
                 0.547326919389197,
                 44.13875411986689
                ],
                [
                 0.567537320331426,
                 44.18935658826113
                ],
                [
                 0.625788942487544,
                 44.33515624875584
                ],
                [
                 0.685039219907538,
                 44.480861587803375
                ],
                [
                 0.744545071976698,
                 44.62652039050277
                ],
                [
                 0.803778209145012,
                 44.772162974223214
                ],
                [
                 0.86316473457256,
                 44.91769059085591
                ],
                [
                 0.922419943876341,
                 45.06324191215061
                ],
                [
                 0.951443339301435,
                 45.13350764694719
                ],
                [
                 0.45686051699677,
                 45.12551356202371
                ],
                [
                 0.499651613106885,
                 44.137996748196564
                ]
               ]
              ],
              "type": "Polygon"
             },
             "global": false
            },
            "verticality": {}
           },
           "startTimeFromAscendingNode": "2021-01-08T11:04:31.024000+00:00",
           "state": {
            "insertionDate": 1610119494074,
            "resources": {
             "quicklook": true,
             "thumbnail": true
            },
            "services": {
             "download": "internal",
             "wcs": false,
             "wms": false,
             "wmts": false
            }
           },
           "storageStatus": "ONLINE",
           "target": {},
           "timeStamp": 1610103871024,
           "title": "S2A_MSIL1C_20210108T110431_N0209_R094_T31TCK_20210108T131314",
           "transmission": {},
           "uid": "6937a5ba-51eb-4b28-8d4b-1c87cce92ec3",
           "visibility": {
            "deleted": false
           }
          },
          "type": "Feature"
         },
         {
          "geometry": {
           "coordinates": [
            [
             [
              -0.2937317,
              45.93349650488509
             ],
             [
              -0.24441528,
              46.920536388192055
             ],
             [
              -1.6859741,
              46.94616825397537
             ],
             [
              -1.7095032,
              45.95826451839171
             ],
             [
              -0.2937317,
              45.93349650488509
             ]
            ]
           ],
           "type": "Polygon"
          },
          "id": "S2A_MSIL1C_20210108T110431_N0209_R094_T30TXS_20210108T131314",
          "properties": {
           "abstract": "The Level-1C product is composed of 100x100 km2 tiles (ortho-images in UTM/WGS84 projection). It results from\nusing a Digital Elevation Model (DEM) to project the image in cartographic geometry. Per-pixel radiometric\nmeasurements are provided in Top Of Atmosphere (TOA) reflectances along with the parameters to transform them\ninto radiances. Level-1C products are resampled with a constant Ground Sampling Distance (GSD) of 10, 20 and 60\nmeters depending on the native resolution of the different spectral bands. In Level-1C  products, pixel\ncoordinates refer to the upper left corner of the pixel. Level-1C products will additionally include Cloud Masks\nand ECMWF data (total column of ozone, total column of water vapour and mean sea level pressure).\n",
           "acquisition": {
            "beginViewingDate": 1610103871024,
            "centerViewingDate": 1610103871024,
            "endViewingDate": 1610103871024,
            "mission": "Sentinel-2",
            "missionCode": "S2A",
            "missionId": "A",
            "missionName": "Sentinel-2A",
            "sensorId": "MSI",
            "sensorMode": "INS-NOBS"
           },
           "archive": {
            "filename": "S2A_MSIL1C_20210108T110431_N0209_R094_T30TXS_20210108T131314.SAFE",
            "format": "SAFE",
            "offLine": false,
            "onLine": false,
            "size": 785
           },
           "attachments": [],
           "attitude": {},
           "bands": [
            {
             "center_wavelength": 0.4439,
             "common_name": "coastal",
             "full_width_half_max": 0.027,
             "gsd": 60,
             "name": "B01"
            },
            {
             "center_wavelength": 0.4966,
             "common_name": "blue",
             "full_width_half_max": 0.098,
             "gsd": 10,
             "name": "B02"
            },
            {
             "center_wavelength": 0.56,
             "common_name": "green",
             "full_width_half_max": 0.045,
             "gsd": 10,
             "name": "B03"
            },
            {
             "center_wavelength": 0.6645,
             "common_name": "red",
             "full_width_half_max": 0.038,
             "gsd": 10,
             "name": "B04"
            },
            {
             "center_wavelength": 0.7039,
             "full_width_half_max": 0.019,
             "gsd": 20,
             "name": "B05"
            },
            {
             "center_wavelength": 0.7402,
             "full_width_half_max": 0.018,
             "gsd": 20,
             "name": "B06"
            },
            {
             "center_wavelength": 0.7825,
             "full_width_half_max": 0.028,
             "gsd": 20,
             "name": "B07"
            },
            {
             "center_wavelength": 0.8351,
             "common_name": "nir",
             "full_width_half_max": 0.145,
             "gsd": 10,
             "name": "B08"
            },
            {
             "center_wavelength": 0.8648,
             "full_width_half_max": 0.033,
             "gsd": 20,
             "name": "B8A"
            },
            {
             "center_wavelength": 0.945,
             "full_width_half_max": 0.026,
             "gsd": 60,
             "name": "B09"
            },
            {
             "center_wavelength": 0.13735,
             "common_name": "cirrus",
             "full_width_half_max": 0.075,
             "gsd": 60,
             "name": "B10"
            },
            {
             "center_wavelength": 0.16137,
             "common_name": "swir16",
             "full_width_half_max": 0.075,
             "gsd": 20,
             "name": "B11"
            },
            {
             "center_wavelength": 0.22024,
             "common_name": "swir22",
             "full_width_half_max": 0.242,
             "gsd": 20,
             "name": "B12"
            }
           ],
           "cloudCover": 9.5471,
           "completionTimeFromAscendingNode": "2021-01-08T11:04:31.024000+00:00",
           "contentDescription": {
            "cloudCoverPercentage": 9.5471
           },
           "creationDate": "2021-01-08T15:25:19.671000+00:00",
           "downloadLink": "https://sobloo.eu/api/v1/services/download/f0c696bc-f9ca-45ee-865a-2698ebdf98cd",
           "enrichment": {
            "geonames": [
             {
              "name": "France",
              "states": [
               {
                "counties": [
                 {
                  "cities": [
                   {
                    "name": "Fontenay-le-Comte"
                   },
                   {
                    "name": "La Roche-sur-Yon"
                   },
                   {
                    "name": "Les Sables-d'Olonne"
                   }
                  ],
                  "name": "Vendée",
                  "villages": [
                   {
                    "name": "Mervent"
                   },
                   {
                    "name": "Saint-Étienne-du-Bois"
                   },
                   {
                    "name": "Saint-Vincent-sur-Jard"
                   },
                   {
                    "name": "Saint-Prouant"
                   },
                   {
                    "name": "Les Landes-Genusson"
                   },
                   {
                    "name": "Mouilleron-le-Captif"
                   },
                   {
                    "name": "Nalliers"
                   },
                   {
                    "name": "Saint-Laurent-de-la-Salle"
                   },
                   {
                    "name": "Saint-Jean-de-Beugné"
                   },
                   {
                    "name": "Mallièvre"
                   },
                   {
                    "name": "Aizenay"
                   },
                   {
                    "name": "Menomblet"
                   },
                   {
                    "name": "Bessay"
                   },
                   {
                    "name": "La Génétouze"
                   },
                   {
                    "name": "Antigny"
                   },
                   {
                    "name": "Thiré"
                   },
                   {
                    "name": "Le Poiré-sur-Velluire"
                   },
                   {
                    "name": "Avrillé"
                   },
                   {
                    "name": "Palluau"
                   },
                   {
                    "name": "Les Pineaux"
                   },
                   {
                    "name": "Martinet"
                   },
                   {
                    "name": "La Copechagnière"
                   },
                   {
                    "name": "Sainte-Pexine"
                   },
                   {
                    "name": "Foussais-Payré"
                   },
                   {
                    "name": "Saint-Mars-la-Réorthe"
                   },
                   {
                    "name": "Saint-Paul-en-Pareds"
                   },
                   {
                    "name": "Saint-Paul-Mont-Penit"
                   },
                   {
                    "name": "Saint-Maurice-des-Noues"
                   },
                   {
                    "name": "Le Tablier"
                   },
                   {
                    "name": "Saint-Cyr-des-Gâts"
                   },
                   {
                    "name": "Nieul-le-Dolent"
                   },
                   {
                    "name": "Benet"
                   },
                   {
                    "name": "Vendrennes"
                   },
                   {
                    "name": "Saint-Martin-des-Fontaines"
                   }
                  ]
                 },
                 {
                  "cities": [
                   {
                    "name": "Nantes"
                   }
                  ],
                  "name": "Loire-Atlantique",
                  "villages": [
                   {
                    "name": "Touvois"
                   }
                  ]
                 }
                ],
                "name": "Pays-de-la-Loire"
               },
               {
                "counties": [
                 {
                  "cities": [
                   {
                    "name": "Parthenay"
                   },
                   {
                    "name": "Niort"
                   },
                   {
                    "name": "Bressuire"
                   }
                  ],
                  "name": "Deux-Sèvres",
                  "villages": [
                   {
                    "name": "Vallans"
                   },
                   {
                    "name": "Priaires"
                   },
                   {
                    "name": "Saint-Pardoux"
                   },
                   {
                    "name": "Villiers-en-Bois"
                   },
                   {
                    "name": "Les Groseillers"
                   },
                   {
                    "name": "Augé"
                   },
                   {
                    "name": "Adilly"
                   },
                   {
                    "name": "Mazières-en-Gâtine"
                   },
                   {
                    "name": "Cherveux"
                   },
                   {
                    "name": "Geay"
                   },
                   {
                    "name": "Fenioux"
                   },
                   {
                    "name": "Clessé"
                   },
                   {
                    "name": "Le Breuil-Bernard"
                   },
                   {
                    "name": "Cours"
                   },
                   {
                    "name": "Le Vanneau-Irleau"
                   },
                   {
                    "name": "Le Pin"
                   },
                   {
                    "name": "Argentonnay"
                   },
                   {
                    "name": "La Foye-Monjault"
                   },
                   {
                    "name": "Châtillon-sur-Thouet"
                   },
                   {
                    "name": "Saint-Maxire"
                   },
                   {
                    "name": "Marigny"
                   },
                   {
                    "name": "Niort"
                   },
                   {
                    "name": "Surin"
                   },
                   {
                    "name": "Allonne"
                   },
                   {
                    "name": "Mauléon"
                   },
                   {
                    "name": "Secondigné-sur-Belle"
                   }
                  ]
                 },
                 {
                  "cities": [
                   {
                    "name": "Saint-Jean-d'Angély"
                   },
                   {
                    "name": "Rochefort"
                   }
                  ],
                  "name": "Charente-Maritime",
                  "villages": [
                   {
                    "name": "Saint-Pierre-d'Amilly"
                   },
                   {
                    "name": "Le Thou"
                   },
                   {
                    "name": "Saint-Martin-de-Juillers"
                   },
                   {
                    "name": "Ciré-d'Aunis"
                   },
                   {
                    "name": "Saint-Saturnin-du-Bois"
                   },
                   {
                    "name": "Yves"
                   },
                   {
                    "name": "Marsais"
                   },
                   {
                    "name": "Aigrefeuille-d'Aunis"
                   },
                   {
                    "name": "Saint-Germain-de-Marencennes"
                   },
                   {
                    "name": "Saint-Pierre-d'Oléron"
                   },
                   {
                    "name": "Saint-Georges-d'Oléron"
                   },
                   {
                    "name": "Les Nouillers"
                   },
                   {
                    "name": "Courcelles"
                   },
                   {
                    "name": "Dampierre-sur-Boutonne"
                   }
                  ]
                 }
                ],
                "name": "Nouvelle-Aquitaine"
               }
              ]
             }
            ],
            "naturallanguage": {
             "search_cloud_string": "cloud:partly_cloudy",
             "search_date_string": "2021 January 08 11: 11:04 11:04:31",
             "search_incidence_angle_string": "incidence:?",
             "search_quality_string": "quality:?"
            }
           },
           "eodag_product_type": "S2_MSI_L1C",
           "eodag_provider": "sobloo",
           "eodag_search_intersection": {
            "coordinates": [
             [
              [
               -0.25269028027745316,
               46.754917
              ],
              [
               -0.2937317,
               45.93349650488509
              ],
              [
               -1.7095032,
               45.95826451839171
              ],
              [
               -1.6905291692014068,
               46.754917
              ],
              [
               -0.25269028027745316,
               46.754917
              ]
             ]
            ],
            "type": "Polygon"
           },
           "identification": {
            "collection": "Sentinel-2",
            "dataset": {},
            "externalId": "S2A_MSIL1C_20210108T110431_N0209_R094_T30TXS_20210108T131314",
            "hvTileId": "TS30X",
            "profile": "Image",
            "tileId": "30TXS",
            "type": "S2MSI1C"
           },
           "illumination": {},
           "instrument": "MSI",
           "license": "proprietary",
           "missionStartDate": "2015-06-23T00:00:00Z",
           "orbit": {
            "direction": "DESCENDING",
            "number": 28977,
            "relativeNumber": 94
           },
           "orbitDirection": "DESCENDING",
           "orbitNumber": 28977,
           "platform": "Sentinel-2",
           "platformSerialIdentifier": "S2A",
           "processingLevel": "Level-1C",
           "productType": "S2MSI1C",
           "production": {
            "baseline": "02.09",
            "levelCode": "Level-1C",
            "ongoing": false
           },
           "provider": {},
           "quality": {
            "qualified": false
           },
           "quicklook": "https://sobloo.eu/api/v1/services/quicklook/f0c696bc-f9ca-45ee-865a-2698ebdf98cd",
           "sensorMode": "INS-NOBS",
           "sensorType": "OPTICAL",
           "spatialCoverage": {
            "geometry": {
             "centerPoint": {
              "lat": 46.441103471151685,
              "lon": -0.9834005310289281
             },
             "geographicBoundingPolygon": {
              "coordinates": [
               [
                [
                 -0.2937317,
                 45.93349650488509
                ],
                [
                 -0.24441528,
                 46.920536388192055
                ],
                [
                 -1.6859741,
                 46.94616825397537
                ],
                [
                 -1.7095032,
                 45.95826451839171
                ],
                [
                 -0.2937317,
                 45.93349650488509
                ]
               ]
              ],
              "type": "Polygon"
             },
             "global": false
            },
            "verticality": {}
           },
           "startTimeFromAscendingNode": "2021-01-08T11:04:31.024000+00:00",
           "state": {
            "insertionDate": 1610119519671,
            "resources": {
             "quicklook": true,
             "thumbnail": true
            },
            "services": {
             "download": "internal",
             "wcs": false,
             "wms": false,
             "wmts": false
            }
           },
           "storageStatus": "ONLINE",
           "target": {},
           "timeStamp": 1610103871024,
           "title": "S2A_MSIL1C_20210108T110431_N0209_R094_T30TXS_20210108T131314",
           "transmission": {},
           "uid": "f0c696bc-f9ca-45ee-865a-2698ebdf98cd",
           "visibility": {
            "deleted": false
           }
          },
          "type": "Feature"
         },
         {
          "geometry": {
           "coordinates": [
            [
             [
              5.546630572300243,
              42.33578223926217
             ],
             [
              5.587536184106559,
              43.323576596360866
             ],
             [
              4.233812137762024,
              43.346200009839855
             ],
             [
              4.214287134177919,
              42.35764145317536
             ],
             [
              5.546630572300243,
              42.33578223926217
             ]
            ]
           ],
           "type": "Polygon"
          },
          "id": "S2B_MSIL1C_20210114T103309_N0209_R108_T31TFH_20210114T114331",
          "properties": {
           "abstract": "The Level-1C product is composed of 100x100 km2 tiles (ortho-images in UTM/WGS84 projection). It results from\nusing a Digital Elevation Model (DEM) to project the image in cartographic geometry. Per-pixel radiometric\nmeasurements are provided in Top Of Atmosphere (TOA) reflectances along with the parameters to transform them\ninto radiances. Level-1C products are resampled with a constant Ground Sampling Distance (GSD) of 10, 20 and 60\nmeters depending on the native resolution of the different spectral bands. In Level-1C  products, pixel\ncoordinates refer to the upper left corner of the pixel. Level-1C products will additionally include Cloud Masks\nand ECMWF data (total column of ozone, total column of water vapour and mean sea level pressure).\n",
           "acquisition": {
            "beginViewingDate": 1610620389024,
            "centerViewingDate": 1610620389024,
            "endViewingDate": 1610620389024,
            "mission": "Sentinel-2",
            "missionCode": "S2B",
            "missionId": "B",
            "missionName": "Sentinel-2B",
            "sensorId": "MSI",
            "sensorMode": "INS-NOBS"
           },
           "archive": {
            "filename": "S2B_MSIL1C_20210114T103309_N0209_R108_T31TFH_20210114T114331.SAFE",
            "format": "SAFE",
            "offLine": false,
            "onLine": false,
            "size": 720
           },
           "attachments": [],
           "attitude": {},
           "bands": [
            {
             "center_wavelength": 0.4439,
             "common_name": "coastal",
             "full_width_half_max": 0.027,
             "gsd": 60,
             "name": "B01"
            },
            {
             "center_wavelength": 0.4966,
             "common_name": "blue",
             "full_width_half_max": 0.098,
             "gsd": 10,
             "name": "B02"
            },
            {
             "center_wavelength": 0.56,
             "common_name": "green",
             "full_width_half_max": 0.045,
             "gsd": 10,
             "name": "B03"
            },
            {
             "center_wavelength": 0.6645,
             "common_name": "red",
             "full_width_half_max": 0.038,
             "gsd": 10,
             "name": "B04"
            },
            {
             "center_wavelength": 0.7039,
             "full_width_half_max": 0.019,
             "gsd": 20,
             "name": "B05"
            },
            {
             "center_wavelength": 0.7402,
             "full_width_half_max": 0.018,
             "gsd": 20,
             "name": "B06"
            },
            {
             "center_wavelength": 0.7825,
             "full_width_half_max": 0.028,
             "gsd": 20,
             "name": "B07"
            },
            {
             "center_wavelength": 0.8351,
             "common_name": "nir",
             "full_width_half_max": 0.145,
             "gsd": 10,
             "name": "B08"
            },
            {
             "center_wavelength": 0.8648,
             "full_width_half_max": 0.033,
             "gsd": 20,
             "name": "B8A"
            },
            {
             "center_wavelength": 0.945,
             "full_width_half_max": 0.026,
             "gsd": 60,
             "name": "B09"
            },
            {
             "center_wavelength": 0.13735,
             "common_name": "cirrus",
             "full_width_half_max": 0.075,
             "gsd": 60,
             "name": "B10"
            },
            {
             "center_wavelength": 0.16137,
             "common_name": "swir16",
             "full_width_half_max": 0.075,
             "gsd": 20,
             "name": "B11"
            },
            {
             "center_wavelength": 0.22024,
             "common_name": "swir22",
             "full_width_half_max": 0.242,
             "gsd": 20,
             "name": "B12"
            }
           ],
           "cloudCover": 0.0899,
           "completionTimeFromAscendingNode": "2021-01-14T10:33:09.024000+00:00",
           "contentDescription": {
            "cloudCoverPercentage": 0.0899
           },
           "creationDate": "2021-01-14T14:51:09.705000+00:00",
           "downloadLink": "https://sobloo.eu/api/v1/services/download/def0701c-299d-4bab-b2ee-4e6ba4a04c48",
           "enrichment": {
            "geonames": [
             {
              "name": "France",
              "states": [
               {
                "counties": [
                 {
                  "cities": [
                   {
                    "name": "Istres"
                   },
                   {
                    "name": "Marseille"
                   },
                   {
                    "name": "Arles"
                   }
                  ],
                  "name": "Bouches-du-Rhône",
                  "villages": [
                   {
                    "name": "Aubagne"
                   },
                   {
                    "name": "Carry-le-Rouet"
                   },
                   {
                    "name": "Martigues"
                   },
                   {
                    "name": "Ensuès-la-Redonne"
                   },
                   {
                    "name": "Arles"
                   },
                   {
                    "name": "Sausset-les-Pins"
                   },
                   {
                    "name": "Carnoux-en-Provence"
                   },
                   {
                    "name": "Port-Saint-Louis-du-Rhône"
                   },
                   {
                    "name": "Allauch"
                   },
                   {
                    "name": "Roquefort-la-Bédoule"
                   },
                   {
                    "name": "La Penne-sur-Huveaune"
                   },
                   {
                    "name": "La Ciotat"
                   },
                   {
                    "name": "Cassis"
                   }
                  ]
                 }
                ],
                "name": "Provence-Alpes-Côte d'Azur"
               }
              ]
             }
            ],
            "naturallanguage": {
             "search_cloud_string": "cloud:partly_cloudy",
             "search_date_string": "2021 January 14 10: 10:33 10:33:09",
             "search_incidence_angle_string": "incidence:?",
             "search_quality_string": "quality:?"
            }
           },
           "eodag_product_type": "S2_MSI_L1C",
           "eodag_provider": "sobloo",
           "eodag_search_intersection": {
            "coordinates": [
             [
              [
               4.222296247726879,
               42.763146
              ],
              [
               4.233812137762024,
               43.346200009839855
              ],
              [
               4.570313,
               43.34057641309353
              ],
              [
               4.570313,
               42.763146
              ],
              [
               4.222296247726879,
               42.763146
              ]
             ]
            ],
            "type": "Polygon"
           },
           "identification": {
            "collection": "Sentinel-2",
            "dataset": {},
            "externalId": "S2B_MSIL1C_20210114T103309_N0209_R108_T31TFH_20210114T114331",
            "hvTileId": "TH31F",
            "profile": "Image",
            "tileId": "31TFH",
            "type": "S2MSI1C"
           },
           "illumination": {},
           "instrument": "MSI",
           "license": "proprietary",
           "missionStartDate": "2015-06-23T00:00:00Z",
           "orbit": {
            "direction": "DESCENDING",
            "number": 20154,
            "relativeNumber": 108
           },
           "orbitDirection": "DESCENDING",
           "orbitNumber": 20154,
           "platform": "Sentinel-2",
           "platformSerialIdentifier": "S2B",
           "processingLevel": "Level-1C",
           "productType": "S2MSI1C",
           "production": {
            "baseline": "02.09",
            "levelCode": "Level-1C",
            "ongoing": false
           },
           "provider": {},
           "quality": {
            "qualified": false
           },
           "quicklook": "https://sobloo.eu/api/v1/services/quicklook/def0701c-299d-4bab-b2ee-4e6ba4a04c48",
           "sensorMode": "INS-NOBS",
           "sensorType": "OPTICAL",
           "spatialCoverage": {
            "geometry": {
             "centerPoint": {
              "lat": 42.8421125628182,
              "lon": 4.895560188530171
             },
             "geographicBoundingPolygon": {
              "coordinates": [
               [
                [
                 5.546630572300243,
                 42.33578223926217
                ],
                [
                 5.587536184106559,
                 43.323576596360866
                ],
                [
                 4.233812137762024,
                 43.346200009839855
                ],
                [
                 4.214287134177919,
                 42.35764145317536
                ],
                [
                 5.546630572300243,
                 42.33578223926217
                ]
               ]
              ],
              "type": "Polygon"
             },
             "global": false
            },
            "verticality": {}
           },
           "startTimeFromAscendingNode": "2021-01-14T10:33:09.024000+00:00",
           "state": {
            "insertionDate": 1610635869705,
            "resources": {
             "quicklook": true,
             "thumbnail": true
            },
            "services": {
             "download": "internal",
             "wcs": false,
             "wms": false,
             "wmts": false
            }
           },
           "storageStatus": "ONLINE",
           "target": {},
           "timeStamp": 1610620389024,
           "title": "S2B_MSIL1C_20210114T103309_N0209_R108_T31TFH_20210114T114331",
           "transmission": {},
           "uid": "def0701c-299d-4bab-b2ee-4e6ba4a04c48",
           "visibility": {
            "deleted": false
           }
          },
          "type": "Feature"
         },
         {
          "geometry": {
           "coordinates": [
            [
             [
              4.333014608804459,
              42.35632239007374
             ],
             [
              4.354447329980782,
              43.34483481646455
             ],
             [
              4.033192090604983,
              43.346736834038616
             ],
             [
              4.024800059919316,
              43.320900979434086
             ],
             [
              3.977386863154254,
              43.174026922488494
             ],
             [
              3.930115516598597,
              43.027140490124445
             ],
             [
              3.883107648659057,
              42.88025340364959
             ],
             [
              3.836172848353396,
              42.733351984335
             ],
             [
              3.789242418466266,
              42.58642869691398
             ],
             [
              3.742236792946631,
              42.43942444155886
             ],
             [
              3.716781468710741,
              42.35990423187348
             ],
             [
              4.333014608804459,
              42.35632239007374
             ]
            ]
           ],
           "type": "Polygon"
          },
          "id": "S2B_MSIL1C_20210114T103309_N0209_R108_T31TEH_20210114T114331",
          "properties": {
           "abstract": "The Level-1C product is composed of 100x100 km2 tiles (ortho-images in UTM/WGS84 projection). It results from\nusing a Digital Elevation Model (DEM) to project the image in cartographic geometry. Per-pixel radiometric\nmeasurements are provided in Top Of Atmosphere (TOA) reflectances along with the parameters to transform them\ninto radiances. Level-1C products are resampled with a constant Ground Sampling Distance (GSD) of 10, 20 and 60\nmeters depending on the native resolution of the different spectral bands. In Level-1C  products, pixel\ncoordinates refer to the upper left corner of the pixel. Level-1C products will additionally include Cloud Masks\nand ECMWF data (total column of ozone, total column of water vapour and mean sea level pressure).\n",
           "acquisition": {
            "beginViewingDate": 1610620389024,
            "centerViewingDate": 1610620389024,
            "endViewingDate": 1610620389024,
            "mission": "Sentinel-2",
            "missionCode": "S2B",
            "missionId": "B",
            "missionName": "Sentinel-2B",
            "sensorId": "MSI",
            "sensorMode": "INS-NOBS"
           },
           "archive": {
            "filename": "S2B_MSIL1C_20210114T103309_N0209_R108_T31TEH_20210114T114331.SAFE",
            "format": "SAFE",
            "offLine": false,
            "onLine": false,
            "size": 261
           },
           "attachments": [],
           "attitude": {},
           "bands": [
            {
             "center_wavelength": 0.4439,
             "common_name": "coastal",
             "full_width_half_max": 0.027,
             "gsd": 60,
             "name": "B01"
            },
            {
             "center_wavelength": 0.4966,
             "common_name": "blue",
             "full_width_half_max": 0.098,
             "gsd": 10,
             "name": "B02"
            },
            {
             "center_wavelength": 0.56,
             "common_name": "green",
             "full_width_half_max": 0.045,
             "gsd": 10,
             "name": "B03"
            },
            {
             "center_wavelength": 0.6645,
             "common_name": "red",
             "full_width_half_max": 0.038,
             "gsd": 10,
             "name": "B04"
            },
            {
             "center_wavelength": 0.7039,
             "full_width_half_max": 0.019,
             "gsd": 20,
             "name": "B05"
            },
            {
             "center_wavelength": 0.7402,
             "full_width_half_max": 0.018,
             "gsd": 20,
             "name": "B06"
            },
            {
             "center_wavelength": 0.7825,
             "full_width_half_max": 0.028,
             "gsd": 20,
             "name": "B07"
            },
            {
             "center_wavelength": 0.8351,
             "common_name": "nir",
             "full_width_half_max": 0.145,
             "gsd": 10,
             "name": "B08"
            },
            {
             "center_wavelength": 0.8648,
             "full_width_half_max": 0.033,
             "gsd": 20,
             "name": "B8A"
            },
            {
             "center_wavelength": 0.945,
             "full_width_half_max": 0.026,
             "gsd": 60,
             "name": "B09"
            },
            {
             "center_wavelength": 0.13735,
             "common_name": "cirrus",
             "full_width_half_max": 0.075,
             "gsd": 60,
             "name": "B10"
            },
            {
             "center_wavelength": 0.16137,
             "common_name": "swir16",
             "full_width_half_max": 0.075,
             "gsd": 20,
             "name": "B11"
            },
            {
             "center_wavelength": 0.22024,
             "common_name": "swir22",
             "full_width_half_max": 0.242,
             "gsd": 20,
             "name": "B12"
            }
           ],
           "cloudCover": 0.705,
           "completionTimeFromAscendingNode": "2021-01-14T10:33:09.024000+00:00",
           "contentDescription": {
            "cloudCoverPercentage": 0.705
           },
           "creationDate": "2021-01-14T14:34:43.855000+00:00",
           "downloadLink": "https://sobloo.eu/api/v1/services/download/6f8c25d5-77ee-4fa1-bf30-040aac92f02e",
           "enrichment": {
            "geonames": [
             {
              "name": "France"
             }
            ],
            "naturallanguage": {
             "search_cloud_string": "cloud:partly_cloudy",
             "search_date_string": "2021 January 14 10: 10:33 10:33:09",
             "search_incidence_angle_string": "incidence:?",
             "search_quality_string": "quality:?"
            }
           },
           "eodag_product_type": "S2_MSI_L1C",
           "eodag_provider": "sobloo",
           "eodag_search_intersection": {
            "coordinates": [
             [
              [
               3.8456919951530995,
               42.763146
              ],
              [
               3.883107648659057,
               42.88025340364959
              ],
              [
               3.930115516598597,
               43.027140490124445
              ],
              [
               3.977386863154254,
               43.174026922488494
              ],
              [
               4.024800059919316,
               43.320900979434086
              ],
              [
               4.033192090604983,
               43.346736834038616
              ],
              [
               4.354447329980782,
               43.34483481646455
              ],
              [
               4.3418352738428645,
               42.763146
              ],
              [
               3.8456919951530995,
               42.763146
              ]
             ]
            ],
            "type": "Polygon"
           },
           "identification": {
            "collection": "Sentinel-2",
            "dataset": {},
            "externalId": "S2B_MSIL1C_20210114T103309_N0209_R108_T31TEH_20210114T114331",
            "hvTileId": "TH31E",
            "profile": "Image",
            "tileId": "31TEH",
            "type": "S2MSI1C"
           },
           "illumination": {},
           "instrument": "MSI",
           "license": "proprietary",
           "missionStartDate": "2015-06-23T00:00:00Z",
           "orbit": {
            "direction": "DESCENDING",
            "number": 20154,
            "relativeNumber": 108
           },
           "orbitDirection": "DESCENDING",
           "orbitNumber": 20154,
           "platform": "Sentinel-2",
           "platformSerialIdentifier": "S2B",
           "processingLevel": "Level-1C",
           "productType": "S2MSI1C",
           "production": {
            "baseline": "02.09",
            "levelCode": "Level-1C",
            "ongoing": false
           },
           "provider": {},
           "quality": {
            "qualified": false
           },
           "quicklook": "https://sobloo.eu/api/v1/services/quicklook/6f8c25d5-77ee-4fa1-bf30-040aac92f02e",
           "sensorMode": "INS-NOBS",
           "sensorType": "OPTICAL",
           "spatialCoverage": {
            "geometry": {
             "centerPoint": {
              "lat": 42.800250842663644,
              "lon": 4.100363004591062
             },
             "geographicBoundingPolygon": {
              "coordinates": [
               [
                [
                 4.333014608804459,
                 42.35632239007374
                ],
                [
                 4.354447329980782,
                 43.34483481646455
                ],
                [
                 4.033192090604983,
                 43.346736834038616
                ],
                [
                 4.024800059919316,
                 43.320900979434086
                ],
                [
                 3.977386863154254,
                 43.174026922488494
                ],
                [
                 3.930115516598597,
                 43.027140490124445
                ],
                [
                 3.883107648659057,
                 42.88025340364959
                ],
                [
                 3.836172848353396,
                 42.733351984335
                ],
                [
                 3.789242418466266,
                 42.58642869691398
                ],
                [
                 3.742236792946631,
                 42.43942444155886
                ],
                [
                 3.716781468710741,
                 42.35990423187348
                ],
                [
                 4.333014608804459,
                 42.35632239007374
                ]
               ]
              ],
              "type": "Polygon"
             },
             "global": false
            },
            "verticality": {}
           },
           "startTimeFromAscendingNode": "2021-01-14T10:33:09.024000+00:00",
           "state": {
            "insertionDate": 1610634883855,
            "resources": {
             "quicklook": true,
             "thumbnail": true
            },
            "services": {
             "download": "internal",
             "wcs": false,
             "wms": false,
             "wmts": false
            }
           },
           "storageStatus": "ONLINE",
           "target": {},
           "timeStamp": 1610620389024,
           "title": "S2B_MSIL1C_20210114T103309_N0209_R108_T31TEH_20210114T114331",
           "transmission": {},
           "uid": "6f8c25d5-77ee-4fa1-bf30-040aac92f02e",
           "visibility": {
            "deleted": false
           }
          },
          "type": "Feature"
         },
         {
          "geometry": {
           "coordinates": [
            [
             [
              0.179545066965175,
              43.218592936198405
             ],
             [
              0.211030315905288,
              43.29860960544407
             ],
             [
              0.268229330327928,
              43.444387764785205
             ],
             [
              0.325660686156245,
              43.590062916504266
             ],
             [
              0.383007085662187,
              43.73570626286512
             ],
             [
              0.440345599695016,
              43.88134598206136
             ],
             [
              0.497829945125254,
              44.0269583041786
             ],
             [
              0.555872664814201,
              44.17253559018692
             ],
             [
              0.565350861107027,
              44.19629725959304
             ],
             [
              0,
              44.21209941421145
             ],
             [
              -0.496428932800862,
              44.22597512802537
             ],
             [
              -0.537264522308053,
              43.238273156784096
             ],
             [
              0,
              43.22352239944196
             ],
             [
              0.179545066965175,
              43.218592936198405
             ]
            ]
           ],
           "type": "Polygon"
          },
          "id": "S2A_MSIL1C_20210118T110401_N0209_R094_T30TYP_20210118T131217",
          "properties": {
           "abstract": "The Level-1C product is composed of 100x100 km2 tiles (ortho-images in UTM/WGS84 projection). It results from\nusing a Digital Elevation Model (DEM) to project the image in cartographic geometry. Per-pixel radiometric\nmeasurements are provided in Top Of Atmosphere (TOA) reflectances along with the parameters to transform them\ninto radiances. Level-1C products are resampled with a constant Ground Sampling Distance (GSD) of 10, 20 and 60\nmeters depending on the native resolution of the different spectral bands. In Level-1C  products, pixel\ncoordinates refer to the upper left corner of the pixel. Level-1C products will additionally include Cloud Masks\nand ECMWF data (total column of ozone, total column of water vapour and mean sea level pressure).\n",
           "acquisition": {
            "beginViewingDate": 1610967841024,
            "centerViewingDate": 1610967841024,
            "endViewingDate": 1610967841024,
            "mission": "Sentinel-2",
            "missionCode": "S2A",
            "missionId": "A",
            "missionName": "Sentinel-2A",
            "sensorId": "MSI",
            "sensorMode": "INS-NOBS"
           },
           "archive": {
            "filename": "S2A_MSIL1C_20210118T110401_N0209_R094_T30TYP_20210118T131217.SAFE",
            "format": "SAFE",
            "offLine": false,
            "onLine": false,
            "size": 557
           },
           "attachments": [],
           "attitude": {},
           "bands": [
            {
             "center_wavelength": 0.4439,
             "common_name": "coastal",
             "full_width_half_max": 0.027,
             "gsd": 60,
             "name": "B01"
            },
            {
             "center_wavelength": 0.4966,
             "common_name": "blue",
             "full_width_half_max": 0.098,
             "gsd": 10,
             "name": "B02"
            },
            {
             "center_wavelength": 0.56,
             "common_name": "green",
             "full_width_half_max": 0.045,
             "gsd": 10,
             "name": "B03"
            },
            {
             "center_wavelength": 0.6645,
             "common_name": "red",
             "full_width_half_max": 0.038,
             "gsd": 10,
             "name": "B04"
            },
            {
             "center_wavelength": 0.7039,
             "full_width_half_max": 0.019,
             "gsd": 20,
             "name": "B05"
            },
            {
             "center_wavelength": 0.7402,
             "full_width_half_max": 0.018,
             "gsd": 20,
             "name": "B06"
            },
            {
             "center_wavelength": 0.7825,
             "full_width_half_max": 0.028,
             "gsd": 20,
             "name": "B07"
            },
            {
             "center_wavelength": 0.8351,
             "common_name": "nir",
             "full_width_half_max": 0.145,
             "gsd": 10,
             "name": "B08"
            },
            {
             "center_wavelength": 0.8648,
             "full_width_half_max": 0.033,
             "gsd": 20,
             "name": "B8A"
            },
            {
             "center_wavelength": 0.945,
             "full_width_half_max": 0.026,
             "gsd": 60,
             "name": "B09"
            },
            {
             "center_wavelength": 0.13735,
             "common_name": "cirrus",
             "full_width_half_max": 0.075,
             "gsd": 60,
             "name": "B10"
            },
            {
             "center_wavelength": 0.16137,
             "common_name": "swir16",
             "full_width_half_max": 0.075,
             "gsd": 20,
             "name": "B11"
            },
            {
             "center_wavelength": 0.22024,
             "common_name": "swir22",
             "full_width_half_max": 0.242,
             "gsd": 20,
             "name": "B12"
            }
           ],
           "cloudCover": 1.4068,
           "completionTimeFromAscendingNode": "2021-01-18T11:04:01.024000+00:00",
           "contentDescription": {
            "cloudCoverPercentage": 1.4068
           },
           "creationDate": "2021-01-18T15:35:23.609000+00:00",
           "downloadLink": "https://sobloo.eu/api/v1/services/download/b3788591-d43f-4ac1-b296-f6147ab37ed2",
           "enrichment": {
            "geonames": [
             {
              "name": "France",
              "states": [
               {
                "counties": [
                 {
                  "cities": [
                   {
                    "name": "Nérac"
                   },
                   {
                    "name": "Agen"
                   }
                  ],
                  "name": "Lot-et-Garonne",
                  "villages": [
                   {
                    "name": "Nérac"
                   },
                   {
                    "name": "Sérignac-sur-Garonne"
                   },
                   {
                    "name": "Laplume"
                   },
                   {
                    "name": "Houeillès"
                   },
                   {
                    "name": "Roquefort"
                   },
                   {
                    "name": "Fargues-sur-Ourbise"
                   },
                   {
                    "name": "Sainte-Colombe-en-Bruilhois"
                   }
                  ]
                 },
                 {
                  "cities": [
                   {
                    "name": "Mont-de-Marsan"
                   }
                  ],
                  "name": "Landes",
                  "villages": [
                   {
                    "name": "Geaune"
                   },
                   {
                    "name": "Sarbazan"
                   },
                   {
                    "name": "Rimbez-et-Baudiets"
                   },
                   {
                    "name": "Lacquy"
                   },
                   {
                    "name": "Classun"
                   },
                   {
                    "name": "Arue"
                   },
                   {
                    "name": "Cachen"
                   },
                   {
                    "name": "Saint-Julien-d'Armagnac"
                   },
                   {
                    "name": "Le Frêche"
                   },
                   {
                    "name": "Labastide-d'Armagnac"
                   },
                   {
                    "name": "Bats"
                   },
                   {
                    "name": "Saint-Sever"
                   },
                   {
                    "name": "Saint-Avit"
                   },
                   {
                    "name": "Pujo-le-Plan"
                   },
                   {
                    "name": "Montgaillard"
                   },
                   {
                    "name": "Bascons"
                   },
                   {
                    "name": "Hontanx"
                   },
                   {
                    "name": "Castelnau-Tursan"
                   },
                   {
                    "name": "Labrit"
                   },
                   {
                    "name": "Renung"
                   },
                   {
                    "name": "Laglorieuse"
                   },
                   {
                    "name": "Parleboscq"
                   },
                   {
                    "name": "Betbezer-d'Armagnac"
                   },
                   {
                    "name": "Luxey"
                   },
                   {
                    "name": "Monségur"
                   },
                   {
                    "name": "Buanes"
                   }
                  ]
                 },
                 {
                  "cities": [
                   {
                    "name": "Langon"
                   }
                  ],
                  "name": "Gironde"
                 },
                 {
                  "cities": [
                   {
                    "name": "Pau"
                   },
                   {
                    "name": "Oloron-Sainte-Marie"
                   }
                  ],
                  "name": "Pyrénées-Atlantiques",
                  "villages": [
                   {
                    "name": "Urost"
                   },
                   {
                    "name": "Buros"
                   },
                   {
                    "name": "Doumy"
                   },
                   {
                    "name": "Saint-Laurent-Bretagne"
                   },
                   {
                    "name": "Aubertin"
                   },
                   {
                    "name": "Siros"
                   },
                   {
                    "name": "Artigueloutan"
                   },
                   {
                    "name": "Aydie"
                   },
                   {
                    "name": "Bernadets"
                   },
                   {
                    "name": "Poey-de-Lescar"
                   },
                   {
                    "name": "Lasseube"
                   },
                   {
                    "name": "Saint-Jammes"
                   },
                   {
                    "name": "Géus-d'Arzacq"
                   },
                   {
                    "name": "Momas"
                   },
                   {
                    "name": "Mazerolles"
                   },
                   {
                    "name": "Boueilh-Boueilho-Lasque"
                   },
                   {
                    "name": "Lamayou"
                   },
                   {
                    "name": "Arrosès"
                   },
                   {
                    "name": "Meillon"
                   },
                   {
                    "name": "Pontacq"
                   }
                  ]
                 }
                ],
                "name": "Nouvelle-Aquitaine"
               },
               {
                "counties": [
                 {
                  "cities": [
                   {
                    "name": "Mirande"
                   },
                   {
                    "name": "Auch"
                   },
                   {
                    "name": "Condom"
                   }
                  ],
                  "name": "Gers",
                  "villages": [
                   {
                    "name": "Roques"
                   },
                   {
                    "name": "Jû-Belloc"
                   },
                   {
                    "name": "Lauraët"
                   },
                   {
                    "name": "Saint-Griède"
                   },
                   {
                    "name": "Arblade-le-Haut"
                   },
                   {
                    "name": "Manciet"
                   },
                   {
                    "name": "Castelnavet"
                   },
                   {
                    "name": "Castillon-Debats"
                   },
                   {
                    "name": "Condom"
                   },
                   {
                    "name": "Haget"
                   },
                   {
                    "name": "Riguepeu"
                   },
                   {
                    "name": "Belmont"
                   },
                   {
                    "name": "Aignan"
                   },
                   {
                    "name": "Beaucaire"
                   },
                   {
                    "name": "Caumont"
                   },
                   {
                    "name": "Mauléon-d'Armagnac"
                   },
                   {
                    "name": "Plaisance"
                   },
                   {
                    "name": "Bretagne-d'Armagnac"
                   },
                   {
                    "name": "Beaumont"
                   },
                   {
                    "name": "Peyrusse-Vieille"
                   },
                   {
                    "name": "Saint-Orens-Pouy-Petit"
                   },
                   {
                    "name": "Barcelonne-du-Gers"
                   }
                  ]
                 },
                 {
                  "cities": [
                   {
                    "name": "Tarbes"
                   }
                  ],
                  "name": "Hautes-Pyrénées",
                  "villages": [
                   {
                    "name": "Marseillan"
                   },
                   {
                    "name": "Laslades"
                   },
                   {
                    "name": "Villefranque"
                   },
                   {
                    "name": "Lansac"
                   },
                   {
                    "name": "Bours"
                   },
                   {
                    "name": "Soréac"
                   }
                  ]
                 }
                ],
                "name": "Occitanie"
               }
              ]
             }
            ],
            "naturallanguage": {
             "search_cloud_string": "cloud:partly_cloudy",
             "search_date_string": "2021 January 18 11: 11:04 11:04:01",
             "search_incidence_angle_string": "incidence:?",
             "search_quality_string": "quality:?"
            }
           },
           "eodag_product_type": "S2_MSI_L1C",
           "eodag_provider": "sobloo",
           "eodag_search_intersection": {
            "coordinates": [
             [
              [
               0.179545066965175,
               43.218592936198405
              ],
              [
               0,
               43.22352239944196
              ],
              [
               -0.537264522308053,
               43.238273156784096
              ],
              [
               -0.496428932800862,
               44.22597512802537
              ],
              [
               0,
               44.21209941421145
              ],
              [
               0.565350861107027,
               44.19629725959304
              ],
              [
               0.555872664814201,
               44.17253559018692
              ],
              [
               0.497829945125254,
               44.0269583041786
              ],
              [
               0.440345599695016,
               43.88134598206136
              ],
              [
               0.383007085662187,
               43.73570626286512
              ],
              [
               0.325660686156245,
               43.590062916504266
              ],
              [
               0.268229330327928,
               43.444387764785205
              ],
              [
               0.211030315905288,
               43.29860960544407
              ],
              [
               0.179545066965175,
               43.218592936198405
              ]
             ]
            ],
            "type": "Polygon"
           },
           "identification": {
            "collection": "Sentinel-2",
            "dataset": {},
            "externalId": "S2A_MSIL1C_20210118T110401_N0209_R094_T30TYP_20210118T131217",
            "hvTileId": "TP30Y",
            "profile": "Image",
            "tileId": "30TYP",
            "type": "S2MSI1C"
           },
           "illumination": {},
           "instrument": "MSI",
           "license": "proprietary",
           "missionStartDate": "2015-06-23T00:00:00Z",
           "orbit": {
            "direction": "DESCENDING",
            "number": 29120,
            "relativeNumber": 94
           },
           "orbitDirection": "DESCENDING",
           "orbitNumber": 29120,
           "platform": "Sentinel-2",
           "platformSerialIdentifier": "S2A",
           "processingLevel": "Level-1C",
           "productType": "S2MSI1C",
           "production": {
            "baseline": "02.09",
            "levelCode": "Level-1C",
            "ongoing": false
           },
           "provider": {},
           "quality": {
            "qualified": false
           },
           "quicklook": "https://sobloo.eu/api/v1/services/quicklook/b3788591-d43f-4ac1-b296-f6147ab37ed2",
           "sensorMode": "INS-NOBS",
           "sensorType": "OPTICAL",
           "spatialCoverage": {
            "geometry": {
             "centerPoint": {
              "lat": 43.75154998451888,
              "lon": -0.06556615159577464
             },
             "geographicBoundingPolygon": {
              "coordinates": [
               [
                [
                 0.179545066965175,
                 43.218592936198405
                ],
                [
                 0.211030315905288,
                 43.29860960544407
                ],
                [
                 0.268229330327928,
                 43.444387764785205
                ],
                [
                 0.325660686156245,
                 43.590062916504266
                ],
                [
                 0.383007085662187,
                 43.73570626286512
                ],
                [
                 0.440345599695016,
                 43.88134598206136
                ],
                [
                 0.497829945125254,
                 44.0269583041786
                ],
                [
                 0.555872664814201,
                 44.17253559018692
                ],
                [
                 0.565350861107027,
                 44.19629725959304
                ],
                [
                 0,
                 44.21209941421145
                ],
                [
                 -0.496428932800862,
                 44.22597512802537
                ],
                [
                 -0.537264522308053,
                 43.238273156784096
                ],
                [
                 0,
                 43.22352239944196
                ],
                [
                 0.179545066965175,
                 43.218592936198405
                ]
               ]
              ],
              "type": "Polygon"
             },
             "global": false
            },
            "verticality": {}
           },
           "startTimeFromAscendingNode": "2021-01-18T11:04:01.024000+00:00",
           "state": {
            "insertionDate": 1610984123609,
            "resources": {
             "quicklook": true,
             "thumbnail": true
            },
            "services": {
             "download": "internal",
             "wcs": false,
             "wms": false,
             "wmts": false
            }
           },
           "storageStatus": "ONLINE",
           "target": {},
           "timeStamp": 1610967841024,
           "title": "S2A_MSIL1C_20210118T110401_N0209_R094_T30TYP_20210118T131217",
           "transmission": {},
           "uid": "b3788591-d43f-4ac1-b296-f6147ab37ed2",
           "visibility": {
            "deleted": false
           }
          },
          "type": "Feature"
         },
         {
          "geometry": {
           "coordinates": [
            [
             [
              0.530636748653955,
              44.10924124071071
             ],
             [
              0.555872664814201,
              44.17253559018692
             ],
             [
              0.614004826942123,
              44.31827188596211
             ],
             [
              0.673124885378234,
              44.463936213325496
             ],
             [
              0.7325154306541,
              44.609631972569936
             ],
             [
              0.791922756585697,
              44.75531586131342
             ],
             [
              0.851495478671671,
              44.900866653885046
             ],
             [
              0.910821642587588,
              45.04649709533156
             ],
             [
              0.927250602487587,
              45.08620817260245
             ],
             [
              0,
              45.11253775273545
             ],
             [
              -0.457368642755675,
              45.12552488296481
             ],
             [
              -0.500151210995916,
              44.13800768802703
             ],
             [
              0,
              44.12404984798184
             ],
             [
              0.530636748653955,
              44.10924124071071
             ]
            ]
           ],
           "type": "Polygon"
          },
          "id": "S2A_MSIL1C_20210118T110401_N0209_R094_T30TYQ_20210118T131217",
          "properties": {
           "abstract": "The Level-1C product is composed of 100x100 km2 tiles (ortho-images in UTM/WGS84 projection). It results from\nusing a Digital Elevation Model (DEM) to project the image in cartographic geometry. Per-pixel radiometric\nmeasurements are provided in Top Of Atmosphere (TOA) reflectances along with the parameters to transform them\ninto radiances. Level-1C products are resampled with a constant Ground Sampling Distance (GSD) of 10, 20 and 60\nmeters depending on the native resolution of the different spectral bands. In Level-1C  products, pixel\ncoordinates refer to the upper left corner of the pixel. Level-1C products will additionally include Cloud Masks\nand ECMWF data (total column of ozone, total column of water vapour and mean sea level pressure).\n",
           "acquisition": {
            "beginViewingDate": 1610967841024,
            "centerViewingDate": 1610967841024,
            "endViewingDate": 1610967841024,
            "mission": "Sentinel-2",
            "missionCode": "S2A",
            "missionId": "A",
            "missionName": "Sentinel-2A",
            "sensorId": "MSI",
            "sensorMode": "INS-NOBS"
           },
           "archive": {
            "filename": "S2A_MSIL1C_20210118T110401_N0209_R094_T30TYQ_20210118T131217.SAFE",
            "format": "SAFE",
            "offLine": false,
            "onLine": false,
            "size": 728
           },
           "attachments": [],
           "attitude": {},
           "bands": [
            {
             "center_wavelength": 0.4439,
             "common_name": "coastal",
             "full_width_half_max": 0.027,
             "gsd": 60,
             "name": "B01"
            },
            {
             "center_wavelength": 0.4966,
             "common_name": "blue",
             "full_width_half_max": 0.098,
             "gsd": 10,
             "name": "B02"
            },
            {
             "center_wavelength": 0.56,
             "common_name": "green",
             "full_width_half_max": 0.045,
             "gsd": 10,
             "name": "B03"
            },
            {
             "center_wavelength": 0.6645,
             "common_name": "red",
             "full_width_half_max": 0.038,
             "gsd": 10,
             "name": "B04"
            },
            {
             "center_wavelength": 0.7039,
             "full_width_half_max": 0.019,
             "gsd": 20,
             "name": "B05"
            },
            {
             "center_wavelength": 0.7402,
             "full_width_half_max": 0.018,
             "gsd": 20,
             "name": "B06"
            },
            {
             "center_wavelength": 0.7825,
             "full_width_half_max": 0.028,
             "gsd": 20,
             "name": "B07"
            },
            {
             "center_wavelength": 0.8351,
             "common_name": "nir",
             "full_width_half_max": 0.145,
             "gsd": 10,
             "name": "B08"
            },
            {
             "center_wavelength": 0.8648,
             "full_width_half_max": 0.033,
             "gsd": 20,
             "name": "B8A"
            },
            {
             "center_wavelength": 0.945,
             "full_width_half_max": 0.026,
             "gsd": 60,
             "name": "B09"
            },
            {
             "center_wavelength": 0.13735,
             "common_name": "cirrus",
             "full_width_half_max": 0.075,
             "gsd": 60,
             "name": "B10"
            },
            {
             "center_wavelength": 0.16137,
             "common_name": "swir16",
             "full_width_half_max": 0.075,
             "gsd": 20,
             "name": "B11"
            },
            {
             "center_wavelength": 0.22024,
             "common_name": "swir22",
             "full_width_half_max": 0.242,
             "gsd": 20,
             "name": "B12"
            }
           ],
           "cloudCover": 0.0209,
           "completionTimeFromAscendingNode": "2021-01-18T11:04:01.024000+00:00",
           "contentDescription": {
            "cloudCoverPercentage": 0.0209
           },
           "creationDate": "2021-01-18T15:29:34.614000+00:00",
           "downloadLink": "https://sobloo.eu/api/v1/services/download/421d447a-0709-4cb9-8c4e-bf441a0a95ad",
           "enrichment": {
            "geonames": [
             {
              "name": "France",
              "states": [
               {
                "counties": [
                 {
                  "cities": [
                   {
                    "name": "Jonzac"
                   }
                  ],
                  "name": "Charente-Maritime",
                  "villages": [
                   {
                    "name": "Cercoux"
                   }
                  ]
                 },
                 {
                  "cities": [
                   {
                    "name": "Blaye"
                   },
                   {
                    "name": "Langon"
                   },
                   {
                    "name": "Libourne"
                   },
                   {
                    "name": "Bordeaux"
                   }
                  ],
                  "name": "Gironde",
                  "villages": [
                   {
                    "name": "Margueron"
                   },
                   {
                    "name": "Lapouyade"
                   },
                   {
                    "name": "Saint-Martin-de-Laye"
                   },
                   {
                    "name": "Cubzac-les-Ponts"
                   },
                   {
                    "name": "Laruscade"
                   },
                   {
                    "name": "Saint-Hippolyte"
                   },
                   {
                    "name": "Noaillan"
                   },
                   {
                    "name": "Saint-Christophe-de-Double"
                   },
                   {
                    "name": "Puisseguin"
                   },
                   {
                    "name": "Nérigean"
                   },
                   {
                    "name": "Saint-Michel-de-Castelnau"
                   },
                   {
                    "name": "Lagorce"
                   },
                   {
                    "name": "Cours-les-Bains"
                   },
                   {
                    "name": "Saint-Laurent-d'Arce"
                   },
                   {
                    "name": "Saint-Vincent-de-Paul"
                   },
                   {
                    "name": "Francs"
                   },
                   {
                    "name": "Lugasson"
                   },
                   {
                    "name": "Ruch"
                   },
                   {
                    "name": "Saint-Philippe-d'Aiguille"
                   },
                   {
                    "name": "Auriolles"
                   },
                   {
                    "name": "Sainte-Radegonde"
                   },
                   {
                    "name": "Sauveterre-de-Guyenne"
                   },
                   {
                    "name": "Camblanes-et-Meynac"
                   },
                   {
                    "name": "Cudos"
                   },
                   {
                    "name": "Cénac"
                   },
                   {
                    "name": "Saint-Mariens"
                   },
                   {
                    "name": "Belvès-de-Castillon"
                   },
                   {
                    "name": "Lartigue"
                   },
                   {
                    "name": "Aillas"
                   },
                   {
                    "name": "Landiras"
                   },
                   {
                    "name": "Saint-Genès-de-Fronsac"
                   },
                   {
                    "name": "Pineuilh"
                   },
                   {
                    "name": "Saint-Médard-de-Guizières"
                   },
                   {
                    "name": "Tizac-de-Lapouyade"
                   },
                   {
                    "name": "Saint-André-et-Appelles"
                   }
                  ]
                 },
                 {
                  "cities": [
                   {
                    "name": "Mont-de-Marsan"
                   }
                  ],
                  "name": "Landes"
                 },
                 {
                  "cities": [
                   {
                    "name": "Agen"
                   },
                   {
                    "name": "Villeneuve-sur-Lot"
                   },
                   {
                    "name": "Nérac"
                   },
                   {
                    "name": "Marmande"
                   }
                  ],
                  "name": "Lot-et-Garonne",
                  "villages": [
                   {
                    "name": "Castelnau-sur-Gupie"
                   },
                   {
                    "name": "Baleyssagues"
                   },
                   {
                    "name": "Nérac"
                   },
                   {
                    "name": "Doudrac"
                   },
                   {
                    "name": "Bournel"
                   },
                   {
                    "name": "Saint-Salvy"
                   },
                   {
                    "name": "Port-Sainte-Marie"
                   },
                   {
                    "name": "Sainte-Colombe-en-Bruilhois"
                   },
                   {
                    "name": "Hautesvignes"
                   },
                   {
                    "name": "Casteljaloux"
                   },
                   {
                    "name": "Saint-Pastour"
                   },
                   {
                    "name": "Esclottes"
                   },
                   {
                    "name": "Duras"
                   },
                   {
                    "name": "Laplume"
                   },
                   {
                    "name": "Ségalas"
                   },
                   {
                    "name": "Puymiclan"
                   },
                   {
                    "name": "Labastide-Castel-Amouroux"
                   },
                   {
                    "name": "Guérin"
                   },
                   {
                    "name": "Saint-Hilaire-de-Lusignan"
                   },
                   {
                    "name": "Castillonnès"
                   },
                   {
                    "name": "Montaut"
                   },
                   {
                    "name": "Pailloles"
                   }
                  ]
                 },
                 {
                  "cities": [
                   {
                    "name": "Bergerac"
                   },
                   {
                    "name": "Périgueux"
                   },
                   {
                    "name": "Sarlat-la-Canéda"
                   }
                  ],
                  "name": "Dordogne",
                  "villages": [
                   {
                    "name": "Lembras"
                   },
                   {
                    "name": "Saint-Martial-d'Artenset"
                   },
                   {
                    "name": "Sourzac"
                   },
                   {
                    "name": "Saint-Étienne-de-Puycorbier"
                   },
                   {
                    "name": "Eygurande-et-Gardedeuil"
                   },
                   {
                    "name": "Creyssensac-et-Pissot"
                   },
                   {
                    "name": "La Roche-Chalais"
                   },
                   {
                    "name": "Lanquais"
                   },
                   {
                    "name": "Razac-de-Saussignac"
                   },
                   {
                    "name": "Saint-Médard-de-Mussidan"
                   },
                   {
                    "name": "Plaisance"
                   },
                   {
                    "name": "Montpon-Ménestérol"
                   },
                   {
                    "name": "Villamblard"
                   },
                   {
                    "name": "Monmarvès"
                   },
                   {
                    "name": "Église-Neuve-d'Issac"
                   },
                   {
                    "name": "Monmadalès"
                   },
                   {
                    "name": "Saint-Géraud-de-Corps"
                   },
                   {
                    "name": "Saint-Pierre-d'Eyraud"
                   },
                   {
                    "name": "Les Lèches"
                   },
                   {
                    "name": "Monbazillac"
                   },
                   {
                    "name": "Saint-Avit-Sénieur"
                   },
                   {
                    "name": "Saint-Séverin-d'Estissac"
                   }
                  ]
                 }
                ],
                "name": "Nouvelle-Aquitaine"
               }
              ]
             }
            ],
            "naturallanguage": {
             "search_cloud_string": "cloud:partly_cloudy",
             "search_date_string": "2021 January 18 11: 11:04 11:04:01",
             "search_incidence_angle_string": "incidence:?",
             "search_quality_string": "quality:?"
            }
           },
           "eodag_product_type": "S2_MSI_L1C",
           "eodag_provider": "sobloo",
           "eodag_search_intersection": {
            "coordinates": [
             [
              [
               0.530636748653955,
               44.10924124071071
              ],
              [
               0,
               44.12404984798184
              ],
              [
               -0.500151210995916,
               44.13800768802703
              ],
              [
               -0.457368642755675,
               45.12552488296481
              ],
              [
               0,
               45.11253775273545
              ],
              [
               0.927250602487587,
               45.08620817260245
              ],
              [
               0.910821642587588,
               45.04649709533156
              ],
              [
               0.851495478671671,
               44.900866653885046
              ],
              [
               0.791922756585697,
               44.75531586131342
              ],
              [
               0.7325154306541,
               44.609631972569936
              ],
              [
               0.673124885378234,
               44.463936213325496
              ],
              [
               0.614004826942123,
               44.31827188596211
              ],
              [
               0.555872664814201,
               44.17253559018692
              ],
              [
               0.530636748653955,
               44.10924124071071
              ]
             ]
            ],
            "type": "Polygon"
           },
           "identification": {
            "collection": "Sentinel-2",
            "dataset": {},
            "externalId": "S2A_MSIL1C_20210118T110401_N0209_R094_T30TYQ_20210118T131217",
            "hvTileId": "TQ30Y",
            "profile": "Image",
            "tileId": "30TYQ",
            "type": "S2MSI1C"
           },
           "illumination": {},
           "instrument": "MSI",
           "license": "proprietary",
           "missionStartDate": "2015-06-23T00:00:00Z",
           "orbit": {
            "direction": "DESCENDING",
            "number": 29120,
            "relativeNumber": 94
           },
           "orbitDirection": "DESCENDING",
           "orbitNumber": 29120,
           "platform": "Sentinel-2",
           "platformSerialIdentifier": "S2A",
           "processingLevel": "Level-1C",
           "productType": "S2MSI1C",
           "production": {
            "baseline": "02.09",
            "levelCode": "Level-1C",
            "ongoing": false
           },
           "provider": {},
           "quality": {
            "qualified": false
           },
           "quicklook": "https://sobloo.eu/api/v1/services/quicklook/421d447a-0709-4cb9-8c4e-bf441a0a95ad",
           "sensorMode": "INS-NOBS",
           "sensorType": "OPTICAL",
           "spatialCoverage": {
            "geometry": {
             "centerPoint": {
              "lat": 44.63881030412535,
              "lon": 0.1299562568769784
             },
             "geographicBoundingPolygon": {
              "coordinates": [
               [
                [
                 0.530636748653955,
                 44.10924124071071
                ],
                [
                 0.555872664814201,
                 44.17253559018692
                ],
                [
                 0.614004826942123,
                 44.31827188596211
                ],
                [
                 0.673124885378234,
                 44.463936213325496
                ],
                [
                 0.7325154306541,
                 44.609631972569936
                ],
                [
                 0.791922756585697,
                 44.75531586131342
                ],
                [
                 0.851495478671671,
                 44.900866653885046
                ],
                [
                 0.910821642587588,
                 45.04649709533156
                ],
                [
                 0.927250602487587,
                 45.08620817260245
                ],
                [
                 0,
                 45.11253775273545
                ],
                [
                 -0.457368642755675,
                 45.12552488296481
                ],
                [
                 -0.500151210995916,
                 44.13800768802703
                ],
                [
                 0,
                 44.12404984798184
                ],
                [
                 0.530636748653955,
                 44.10924124071071
                ]
               ]
              ],
              "type": "Polygon"
             },
             "global": false
            },
            "verticality": {}
           },
           "startTimeFromAscendingNode": "2021-01-18T11:04:01.024000+00:00",
           "state": {
            "insertionDate": 1610983774614,
            "resources": {
             "quicklook": true,
             "thumbnail": true
            },
            "services": {
             "download": "internal",
             "wcs": false,
             "wms": false,
             "wmts": false
            }
           },
           "storageStatus": "ONLINE",
           "target": {},
           "timeStamp": 1610967841024,
           "title": "S2A_MSIL1C_20210118T110401_N0209_R094_T30TYQ_20210118T131217",
           "transmission": {},
           "uid": "421d447a-0709-4cb9-8c4e-bf441a0a95ad",
           "visibility": {
            "deleted": false
           }
          },
          "type": "Feature"
         },
         {
          "geometry": {
           "coordinates": [
            [
             [
              -0.336495792231452,
              45.034190140253024
             ],
             [
              -0.289455852402278,
              46.02142174250963
             ],
             [
              -1.707467964166699,
              46.046265456303395
             ],
             [
              -1.729924328222515,
              45.05819732058294
             ],
             [
              -0.336495792231452,
              45.034190140253024
             ]
            ]
           ],
           "type": "Polygon"
          },
          "id": "S2A_MSIL1C_20210118T110401_N0209_R094_T30TXR_20210118T131217",
          "properties": {
           "abstract": "The Level-1C product is composed of 100x100 km2 tiles (ortho-images in UTM/WGS84 projection). It results from\nusing a Digital Elevation Model (DEM) to project the image in cartographic geometry. Per-pixel radiometric\nmeasurements are provided in Top Of Atmosphere (TOA) reflectances along with the parameters to transform them\ninto radiances. Level-1C products are resampled with a constant Ground Sampling Distance (GSD) of 10, 20 and 60\nmeters depending on the native resolution of the different spectral bands. In Level-1C  products, pixel\ncoordinates refer to the upper left corner of the pixel. Level-1C products will additionally include Cloud Masks\nand ECMWF data (total column of ozone, total column of water vapour and mean sea level pressure).\n",
           "acquisition": {
            "beginViewingDate": 1610967841024,
            "centerViewingDate": 1610967841024,
            "endViewingDate": 1610967841024,
            "mission": "Sentinel-2",
            "missionCode": "S2A",
            "missionId": "A",
            "missionName": "Sentinel-2A",
            "sensorId": "MSI",
            "sensorMode": "INS-NOBS"
           },
           "archive": {
            "filename": "S2A_MSIL1C_20210118T110401_N0209_R094_T30TXR_20210118T131217.SAFE",
            "format": "SAFE",
            "offLine": false,
            "onLine": false,
            "size": 751
           },
           "attachments": [],
           "attitude": {},
           "bands": [
            {
             "center_wavelength": 0.4439,
             "common_name": "coastal",
             "full_width_half_max": 0.027,
             "gsd": 60,
             "name": "B01"
            },
            {
             "center_wavelength": 0.4966,
             "common_name": "blue",
             "full_width_half_max": 0.098,
             "gsd": 10,
             "name": "B02"
            },
            {
             "center_wavelength": 0.56,
             "common_name": "green",
             "full_width_half_max": 0.045,
             "gsd": 10,
             "name": "B03"
            },
            {
             "center_wavelength": 0.6645,
             "common_name": "red",
             "full_width_half_max": 0.038,
             "gsd": 10,
             "name": "B04"
            },
            {
             "center_wavelength": 0.7039,
             "full_width_half_max": 0.019,
             "gsd": 20,
             "name": "B05"
            },
            {
             "center_wavelength": 0.7402,
             "full_width_half_max": 0.018,
             "gsd": 20,
             "name": "B06"
            },
            {
             "center_wavelength": 0.7825,
             "full_width_half_max": 0.028,
             "gsd": 20,
             "name": "B07"
            },
            {
             "center_wavelength": 0.8351,
             "common_name": "nir",
             "full_width_half_max": 0.145,
             "gsd": 10,
             "name": "B08"
            },
            {
             "center_wavelength": 0.8648,
             "full_width_half_max": 0.033,
             "gsd": 20,
             "name": "B8A"
            },
            {
             "center_wavelength": 0.945,
             "full_width_half_max": 0.026,
             "gsd": 60,
             "name": "B09"
            },
            {
             "center_wavelength": 0.13735,
             "common_name": "cirrus",
             "full_width_half_max": 0.075,
             "gsd": 60,
             "name": "B10"
            },
            {
             "center_wavelength": 0.16137,
             "common_name": "swir16",
             "full_width_half_max": 0.075,
             "gsd": 20,
             "name": "B11"
            },
            {
             "center_wavelength": 0.22024,
             "common_name": "swir22",
             "full_width_half_max": 0.242,
             "gsd": 20,
             "name": "B12"
            }
           ],
           "cloudCover": 1.3037,
           "completionTimeFromAscendingNode": "2021-01-18T11:04:01.024000+00:00",
           "contentDescription": {
            "cloudCoverPercentage": 1.3037
           },
           "creationDate": "2021-01-18T15:29:36.425000+00:00",
           "downloadLink": "https://sobloo.eu/api/v1/services/download/f72cbc13-d887-469b-a09f-455c12169d30",
           "enrichment": {
            "geonames": [
             {
              "name": "France",
              "states": [
               {
                "counties": [
                 {
                  "cities": [
                   {
                    "name": "Lesparre-Médoc"
                   },
                   {
                    "name": "Blaye"
                   },
                   {
                    "name": "Bordeaux"
                   },
                   {
                    "name": "Libourne"
                   }
                  ],
                  "name": "Gironde",
                  "villages": [
                   {
                    "name": "Saint-Mariens"
                   },
                   {
                    "name": "Cubnezais"
                   },
                   {
                    "name": "Blaye"
                   },
                   {
                    "name": "Saint-Vivien-de-Blaye"
                   },
                   {
                    "name": "Saint-Genès-de-Fronsac"
                   },
                   {
                    "name": "Comps"
                   },
                   {
                    "name": "Tizac-de-Lapouyade"
                   },
                   {
                    "name": "Cantenac"
                   },
                   {
                    "name": "Moulis-en-Médoc"
                   },
                   {
                    "name": "Saint-Christoly-Médoc"
                   },
                   {
                    "name": "Saint-Savin"
                   },
                   {
                    "name": "Macau"
                   },
                   {
                    "name": "Listrac-Médoc"
                   },
                   {
                    "name": "Laruscade"
                   },
                   {
                    "name": "Saint-Laurent-d'Arce"
                   },
                   {
                    "name": "Ordonnac"
                   },
                   {
                    "name": "Générac"
                   }
                  ]
                 },
                 {
                  "cities": [
                   {
                    "name": "Cognac"
                   }
                  ],
                  "name": "Charente",
                  "villages": [
                   {
                    "name": "Saint-Palais-du-Né"
                   },
                   {
                    "name": "Cognac"
                   },
                   {
                    "name": "Cherves-Richemont"
                   },
                   {
                    "name": "Salles-d'Angles"
                   },
                   {
                    "name": "Louzac-Saint-André"
                   },
                   {
                    "name": "Ars"
                   }
                  ]
                 },
                 {
                  "cities": [
                   {
                    "name": "Saint-Jean-d'Angély"
                   },
                   {
                    "name": "Rochefort"
                   },
                   {
                    "name": "Jonzac"
                   }
                  ],
                  "name": "Charente-Maritime",
                  "villages": [
                   {
                    "name": "Gibourne"
                   },
                   {
                    "name": "Saint-Germain-de-Lusignan"
                   },
                   {
                    "name": "Soubran"
                   },
                   {
                    "name": "Saint-Georges-d'Oléron"
                   },
                   {
                    "name": "Pommiers-Moulons"
                   },
                   {
                    "name": "Saint-Augustin"
                   },
                   {
                    "name": "La Frédière"
                   },
                   {
                    "name": "Courpignac"
                   },
                   {
                    "name": "Chamouillac"
                   },
                   {
                    "name": "Aumagne"
                   },
                   {
                    "name": "Bois"
                   },
                   {
                    "name": "Léoville"
                   },
                   {
                    "name": "Breuillet"
                   },
                   {
                    "name": "Yves"
                   },
                   {
                    "name": "Semillac"
                   },
                   {
                    "name": "Saint-Georges-Antignac"
                   },
                   {
                    "name": "Hiers-Brouage"
                   },
                   {
                    "name": "Saint-Sulpice-de-Royan"
                   },
                   {
                    "name": "Tonnay-Boutonne"
                   },
                   {
                    "name": "Aujac"
                   },
                   {
                    "name": "Mirambeau"
                   },
                   {
                    "name": "Saint-Bonnet-sur-Gironde"
                   },
                   {
                    "name": "La Brousse"
                   },
                   {
                    "name": "Le Grand-Village-Plage"
                   },
                   {
                    "name": "Jarnac-Champagne"
                   },
                   {
                    "name": "Saint-Martin-de-Juillers"
                   },
                   {
                    "name": "Courcelles"
                   },
                   {
                    "name": "Vaux-sur-Mer"
                   },
                   {
                    "name": "Chepniers"
                   },
                   {
                    "name": "Le Château-d'Oléron"
                   },
                   {
                    "name": "Ciré-d'Aunis"
                   },
                   {
                    "name": "Rouffignac"
                   },
                   {
                    "name": "Saint-Hilaire-du-Bois"
                   },
                   {
                    "name": "Villexavier"
                   },
                   {
                    "name": "Saint-Sornin"
                   },
                   {
                    "name": "Mons"
                   },
                   {
                    "name": "Souméras"
                   },
                   {
                    "name": "Authon-Ébéon"
                   },
                   {
                    "name": "Saint-Thomas-de-Conac"
                   },
                   {
                    "name": "Mosnac"
                   },
                   {
                    "name": "Essouvert"
                   },
                   {
                    "name": "Saint-Pierre-d'Oléron"
                   },
                   {
                    "name": "Saint-Palais-sur-Mer"
                   },
                   {
                    "name": "Saint-Savinien"
                   }
                  ]
                 }
                ],
                "name": "Nouvelle-Aquitaine"
               }
              ]
             }
            ],
            "naturallanguage": {
             "search_cloud_string": "cloud:partly_cloudy",
             "search_date_string": "2021 January 18 11: 11:04 11:04:01",
             "search_incidence_angle_string": "incidence:?",
             "search_quality_string": "quality:?"
            }
           },
           "eodag_product_type": "S2_MSI_L1C",
           "eodag_provider": "sobloo",
           "eodag_search_intersection": {
            "coordinates": [
             [
              [
               -0.336495792231452,
               45.034190140253024
              ],
              [
               -1.729924328222515,
               45.05819732058294
              ],
              [
               -1.707467964166699,
               46.046265456303395
              ],
              [
               -0.289455852402278,
               46.02142174250963
              ],
              [
               -0.336495792231452,
               45.034190140253024
              ]
             ]
            ],
            "type": "Polygon"
           },
           "identification": {
            "collection": "Sentinel-2",
            "dataset": {},
            "externalId": "S2A_MSIL1C_20210118T110401_N0209_R094_T30TXR_20210118T131217",
            "hvTileId": "TR30X",
            "profile": "Image",
            "tileId": "30TXR",
            "type": "S2MSI1C"
           },
           "illumination": {},
           "instrument": "MSI",
           "license": "proprietary",
           "missionStartDate": "2015-06-23T00:00:00Z",
           "orbit": {
            "direction": "DESCENDING",
            "number": 29120,
            "relativeNumber": 94
           },
           "orbitDirection": "DESCENDING",
           "orbitNumber": 29120,
           "platform": "Sentinel-2",
           "platformSerialIdentifier": "S2A",
           "processingLevel": "Level-1C",
           "productType": "S2MSI1C",
           "production": {
            "baseline": "02.09",
            "levelCode": "Level-1C",
            "ongoing": false
           },
           "provider": {},
           "quality": {
            "qualified": false
           },
           "quicklook": "https://sobloo.eu/api/v1/services/quicklook/f72cbc13-d887-469b-a09f-455c12169d30",
           "sensorMode": "INS-NOBS",
           "sensorType": "OPTICAL",
           "spatialCoverage": {
            "geometry": {
             "centerPoint": {
              "lat": 45.54145970575801,
              "lon": -1.0158338398713007
             },
             "geographicBoundingPolygon": {
              "coordinates": [
               [
                [
                 -0.336495792231452,
                 45.034190140253024
                ],
                [
                 -0.289455852402278,
                 46.02142174250963
                ],
                [
                 -1.707467964166699,
                 46.046265456303395
                ],
                [
                 -1.729924328222515,
                 45.05819732058294
                ],
                [
                 -0.336495792231452,
                 45.034190140253024
                ]
               ]
              ],
              "type": "Polygon"
             },
             "global": false
            },
            "verticality": {}
           },
           "startTimeFromAscendingNode": "2021-01-18T11:04:01.024000+00:00",
           "state": {
            "insertionDate": 1610983776425,
            "resources": {
             "quicklook": true,
             "thumbnail": true
            },
            "services": {
             "download": "internal",
             "wcs": false,
             "wms": false,
             "wmts": false
            }
           },
           "storageStatus": "ONLINE",
           "target": {},
           "timeStamp": 1610967841024,
           "title": "S2A_MSIL1C_20210118T110401_N0209_R094_T30TXR_20210118T131217",
           "transmission": {},
           "uid": "f72cbc13-d887-469b-a09f-455c12169d30",
           "visibility": {
            "deleted": false
           }
          },
          "type": "Feature"
         },
         {
          "geometry": {
           "coordinates": [
            [
             [
              5.233078486264741,
              43.241452882446374
             ],
             [
              5.272558059303372,
              43.34235575915526
             ],
             [
              5.329467648949343,
              43.48828797285292
             ],
             [
              5.386400655755406,
              43.63426544544656
             ],
             [
              5.444260259138137,
              43.78003347010286
             ],
             [
              5.501967522768033,
              43.92582800686264
             ],
             [
              5.558790675470347,
              44.07179428932923
             ],
             [
              5.616957097782753,
              44.21730736504482
             ],
             [
              5.619335158314912,
              44.22333391995735
             ],
             [
              4.252480872223193,
              44.24655093494868
             ],
             [
              4.232032700041831,
              43.25815531909012
             ],
             [
              5.233078486264741,
              43.241452882446374
             ]
            ]
           ],
           "type": "Polygon"
          },
          "id": "S2B_MSIL1C_20210117T104259_N0209_R008_T31TFJ_20210117T115034",
          "properties": {
           "abstract": "The Level-1C product is composed of 100x100 km2 tiles (ortho-images in UTM/WGS84 projection). It results from\nusing a Digital Elevation Model (DEM) to project the image in cartographic geometry. Per-pixel radiometric\nmeasurements are provided in Top Of Atmosphere (TOA) reflectances along with the parameters to transform them\ninto radiances. Level-1C products are resampled with a constant Ground Sampling Distance (GSD) of 10, 20 and 60\nmeters depending on the native resolution of the different spectral bands. In Level-1C  products, pixel\ncoordinates refer to the upper left corner of the pixel. Level-1C products will additionally include Cloud Masks\nand ECMWF data (total column of ozone, total column of water vapour and mean sea level pressure).\n",
           "acquisition": {
            "beginViewingDate": 1610880179024,
            "centerViewingDate": 1610880179024,
            "endViewingDate": 1610880179024,
            "mission": "Sentinel-2",
            "missionCode": "S2B",
            "missionId": "B",
            "missionName": "Sentinel-2B",
            "sensorId": "MSI",
            "sensorMode": "INS-NOBS"
           },
           "archive": {
            "filename": "S2B_MSIL1C_20210117T104259_N0209_R008_T31TFJ_20210117T115034.SAFE",
            "format": "SAFE",
            "offLine": false,
            "onLine": false,
            "size": 710
           },
           "attachments": [],
           "attitude": {},
           "bands": [
            {
             "center_wavelength": 0.4439,
             "common_name": "coastal",
             "full_width_half_max": 0.027,
             "gsd": 60,
             "name": "B01"
            },
            {
             "center_wavelength": 0.4966,
             "common_name": "blue",
             "full_width_half_max": 0.098,
             "gsd": 10,
             "name": "B02"
            },
            {
             "center_wavelength": 0.56,
             "common_name": "green",
             "full_width_half_max": 0.045,
             "gsd": 10,
             "name": "B03"
            },
            {
             "center_wavelength": 0.6645,
             "common_name": "red",
             "full_width_half_max": 0.038,
             "gsd": 10,
             "name": "B04"
            },
            {
             "center_wavelength": 0.7039,
             "full_width_half_max": 0.019,
             "gsd": 20,
             "name": "B05"
            },
            {
             "center_wavelength": 0.7402,
             "full_width_half_max": 0.018,
             "gsd": 20,
             "name": "B06"
            },
            {
             "center_wavelength": 0.7825,
             "full_width_half_max": 0.028,
             "gsd": 20,
             "name": "B07"
            },
            {
             "center_wavelength": 0.8351,
             "common_name": "nir",
             "full_width_half_max": 0.145,
             "gsd": 10,
             "name": "B08"
            },
            {
             "center_wavelength": 0.8648,
             "full_width_half_max": 0.033,
             "gsd": 20,
             "name": "B8A"
            },
            {
             "center_wavelength": 0.945,
             "full_width_half_max": 0.026,
             "gsd": 60,
             "name": "B09"
            },
            {
             "center_wavelength": 0.13735,
             "common_name": "cirrus",
             "full_width_half_max": 0.075,
             "gsd": 60,
             "name": "B10"
            },
            {
             "center_wavelength": 0.16137,
             "common_name": "swir16",
             "full_width_half_max": 0.075,
             "gsd": 20,
             "name": "B11"
            },
            {
             "center_wavelength": 0.22024,
             "common_name": "swir22",
             "full_width_half_max": 0.242,
             "gsd": 20,
             "name": "B12"
            }
           ],
           "cloudCover": 1.9369000000000003,
           "completionTimeFromAscendingNode": "2021-01-17T10:42:59.024000+00:00",
           "contentDescription": {
            "cloudCoverPercentage": 1.9369000000000003
           },
           "creationDate": "2021-01-17T21:31:55.458000+00:00",
           "downloadLink": "https://sobloo.eu/api/v1/services/download/3644ecad-6cda-447d-b8fa-b0e9ca422439",
           "enrichment": {
            "geonames": [
             {
              "name": "France",
              "states": [
               {
                "counties": [
                 {
                  "cities": [
                   {
                    "name": "Forcalquier"
                   }
                  ],
                  "name": "Alpes-de-Haute-Provence",
                  "villages": [
                   {
                    "name": "Revest-du-Bion"
                   }
                  ]
                 },
                 {
                  "cities": [
                   {
                    "name": "Apt"
                   },
                   {
                    "name": "Carpentras"
                   },
                   {
                    "name": "Avignon"
                   }
                  ],
                  "name": "Vaucluse",
                  "villages": [
                   {
                    "name": "Morières-lès-Avignon"
                   },
                   {
                    "name": "Vaison-la-Romaine"
                   },
                   {
                    "name": "Gigondas"
                   },
                   {
                    "name": "Blauvac"
                   },
                   {
                    "name": "Aurel"
                   },
                   {
                    "name": "Castellet"
                   },
                   {
                    "name": "Sablet"
                   },
                   {
                    "name": "Saint-Christol"
                   },
                   {
                    "name": "Châteauneuf-du-Pape"
                   },
                   {
                    "name": "Monteux"
                   },
                   {
                    "name": "Mormoiron"
                   },
                   {
                    "name": "Cheval-Blanc"
                   },
                   {
                    "name": "Violès"
                   },
                   {
                    "name": "Althen-des-Paluds"
                   },
                   {
                    "name": "Pernes-les-Fontaines"
                   },
                   {
                    "name": "Orange"
                   },
                   {
                    "name": "Le Barroux"
                   },
                   {
                    "name": "Bédoin"
                   },
                   {
                    "name": "Méthamis"
                   },
                   {
                    "name": "Gordes"
                   },
                   {
                    "name": "Cavaillon"
                   },
                   {
                    "name": "Sault"
                   },
                   {
                    "name": "Velleron"
                   },
                   {
                    "name": "Saint-Pierre-de-Vassols"
                   },
                   {
                    "name": "Saint-Didier"
                   },
                   {
                    "name": "Malaucène"
                   },
                   {
                    "name": "Roussillon"
                   },
                   {
                    "name": "Cairanne"
                   },
                   {
                    "name": "Jonquerettes"
                   },
                   {
                    "name": "Saignon"
                   },
                   {
                    "name": "Lourmarin"
                   },
                   {
                    "name": "Courthézon"
                   },
                   {
                    "name": "Monieux"
                   },
                   {
                    "name": "Lacoste"
                   }
                  ]
                 },
                 {
                  "cities": [
                   {
                    "name": "Arles"
                   },
                   {
                    "name": "Marseille"
                   },
                   {
                    "name": "Istres"
                   },
                   {
                    "name": "Aix-en-Provence"
                   }
                  ],
                  "name": "Bouches-du-Rhône",
                  "villages": [
                   {
                    "name": "Mouriès"
                   },
                   {
                    "name": "Marignane"
                   },
                   {
                    "name": "Fontvieille"
                   },
                   {
                    "name": "Vernègues"
                   },
                   {
                    "name": "Fos-sur-Mer"
                   },
                   {
                    "name": "Les Pennes-Mirabeau"
                   },
                   {
                    "name": "Le Rove"
                   },
                   {
                    "name": "Boulbon"
                   },
                   {
                    "name": "Lamanon"
                   },
                   {
                    "name": "Ensuès-la-Redonne"
                   },
                   {
                    "name": "Saintes-Maries-de-la-Mer"
                   },
                   {
                    "name": "Charleval"
                   },
                   {
                    "name": "Saint-Andiol"
                   },
                   {
                    "name": "Martigues"
                   },
                   {
                    "name": "Aureille"
                   },
                   {
                    "name": "Saint-Chamas"
                   }
                  ]
                 }
                ],
                "name": "Provence-Alpes-Côte d'Azur"
               },
               {
                "counties": [
                 {
                  "cities": [
                   {
                    "name": "Nimes"
                   },
                   {
                    "name": "Alès"
                   }
                  ],
                  "name": "Gard",
                  "villages": [
                   {
                    "name": "Chusclan"
                   },
                   {
                    "name": "La Bastide-d'Engras"
                   },
                   {
                    "name": "Blauzac"
                   },
                   {
                    "name": "Vers-Pont-du-Gard"
                   },
                   {
                    "name": "Nages-et-Solorgues"
                   },
                   {
                    "name": "Bourdic"
                   },
                   {
                    "name": "Remoulins"
                   },
                   {
                    "name": "Uzès"
                   },
                   {
                    "name": "Codolet"
                   },
                   {
                    "name": "Pouzilhac"
                   },
                   {
                    "name": "Foissac"
                   },
                   {
                    "name": "Baron"
                   },
                   {
                    "name": "Montaren-et-Saint-Médiers"
                   },
                   {
                    "name": "Poulx"
                   },
                   {
                    "name": "Saint-Chaptes"
                   },
                   {
                    "name": "Fourques"
                   },
                   {
                    "name": "Saint-Laurent-la-Vernède"
                   },
                   {
                    "name": "Fournès"
                   },
                   {
                    "name": "Roquemaure"
                   },
                   {
                    "name": "Marguerittes"
                   },
                   {
                    "name": "Meynes"
                   },
                   {
                    "name": "Bernis"
                   },
                   {
                    "name": "Estézargues"
                   },
                   {
                    "name": "La Calmette"
                   },
                   {
                    "name": "Brouzet-lès-Alès"
                   },
                   {
                    "name": "Générac"
                   },
                   {
                    "name": "Montclus"
                   },
                   {
                    "name": "Saint-Siffret"
                   }
                  ]
                 }
                ],
                "name": "Occitanie"
               },
               {
                "counties": [
                 {
                  "cities": [
                   {
                    "name": "Nyons"
                   }
                  ],
                  "name": "Drôme",
                  "villages": [
                   {
                    "name": "Rochegude"
                   }
                  ]
                 }
                ],
                "name": "Auvergne-Rhône-Alpes"
               }
              ]
             }
            ],
            "naturallanguage": {
             "search_cloud_string": "cloud:partly_cloudy",
             "search_date_string": "2021 January 17 10: 10:42 10:42:59",
             "search_incidence_angle_string": "incidence:?",
             "search_quality_string": "quality:?"
            }
           },
           "eodag_product_type": "S2_MSI_L1C",
           "eodag_provider": "sobloo",
           "eodag_search_intersection": {
            "coordinates": [
             [
              [
               4.570313,
               43.25251111644161
              ],
              [
               4.232032700041831,
               43.25815531909012
              ],
              [
               4.252480872223193,
               44.24655093494868
              ],
              [
               4.570313,
               44.24115232490633
              ],
              [
               4.570313,
               43.25251111644161
              ]
             ]
            ],
            "type": "Polygon"
           },
           "identification": {
            "collection": "Sentinel-2",
            "dataset": {},
            "externalId": "S2B_MSIL1C_20210117T104259_N0209_R008_T31TFJ_20210117T115034",
            "hvTileId": "TJ31F",
            "profile": "Image",
            "tileId": "31TFJ",
            "type": "S2MSI1C"
           },
           "illumination": {},
           "instrument": "MSI",
           "license": "proprietary",
           "missionStartDate": "2015-06-23T00:00:00Z",
           "orbit": {
            "direction": "DESCENDING",
            "number": 20197,
            "relativeNumber": 8
           },
           "orbitDirection": "DESCENDING",
           "orbitNumber": 20197,
           "platform": "Sentinel-2",
           "platformSerialIdentifier": "S2B",
           "processingLevel": "Level-1C",
           "productType": "S2MSI1C",
           "production": {
            "baseline": "02.09",
            "levelCode": "Level-1C",
            "ongoing": false
           },
           "provider": {},
           "quality": {
            "qualified": false
           },
           "quicklook": "https://sobloo.eu/api/v1/services/quicklook/3644ecad-6cda-447d-b8fa-b0e9ca422439",
           "sensorMode": "INS-NOBS",
           "sensorType": "OPTICAL",
           "spatialCoverage": {
            "geometry": {
             "centerPoint": {
              "lat": 43.76775496128031,
              "lon": 4.839135036308256
             },
             "geographicBoundingPolygon": {
              "coordinates": [
               [
                [
                 5.233078486264741,
                 43.241452882446374
                ],
                [
                 5.272558059303372,
                 43.34235575915526
                ],
                [
                 5.329467648949343,
                 43.48828797285292
                ],
                [
                 5.386400655755406,
                 43.63426544544656
                ],
                [
                 5.444260259138137,
                 43.78003347010286
                ],
                [
                 5.501967522768033,
                 43.92582800686264
                ],
                [
                 5.558790675470347,
                 44.07179428932923
                ],
                [
                 5.616957097782753,
                 44.21730736504482
                ],
                [
                 5.619335158314912,
                 44.22333391995735
                ],
                [
                 4.252480872223193,
                 44.24655093494868
                ],
                [
                 4.232032700041831,
                 43.25815531909012
                ],
                [
                 5.233078486264741,
                 43.241452882446374
                ]
               ]
              ],
              "type": "Polygon"
             },
             "global": false
            },
            "verticality": {}
           },
           "startTimeFromAscendingNode": "2021-01-17T10:42:59.024000+00:00",
           "state": {
            "insertionDate": 1610919115458,
            "resources": {
             "quicklook": true,
             "thumbnail": true
            },
            "services": {
             "download": "internal",
             "wcs": false,
             "wms": false,
             "wmts": false
            }
           },
           "storageStatus": "ONLINE",
           "target": {},
           "timeStamp": 1610880179024,
           "title": "S2B_MSIL1C_20210117T104259_N0209_R008_T31TFJ_20210117T115034",
           "transmission": {},
           "uid": "3644ecad-6cda-447d-b8fa-b0e9ca422439",
           "visibility": {
            "deleted": false
           }
          },
          "type": "Feature"
         },
         {
          "geometry": {
           "coordinates": [
            [
             [
              0.869986766421332,
              44.099770918209835
             ],
             [
              0.936097556086391,
              45.08595696049961
             ],
             [
              0,
              45.11253795923955
             ],
             [
              -0.4074402,
              45.12410744510391
             ],
             [
              -0.4095459,
              45.11802358626529
             ],
             [
              -0.45980835,
              44.97133812335457
             ],
             [
              -0.46466064,
              44.95708824903188
             ],
             [
              -0.5001526,
              44.13800768802703
             ],
             [
              0,
              44.124049823368615
             ],
             [
              0.869986766421332,
              44.099770918209835
             ]
            ]
           ],
           "type": "Polygon"
          },
          "id": "S2B_MSIL1C_20210110T105329_N0209_R051_T30TYQ_20210110T130049",
          "properties": {
           "abstract": "The Level-1C product is composed of 100x100 km2 tiles (ortho-images in UTM/WGS84 projection). It results from\nusing a Digital Elevation Model (DEM) to project the image in cartographic geometry. Per-pixel radiometric\nmeasurements are provided in Top Of Atmosphere (TOA) reflectances along with the parameters to transform them\ninto radiances. Level-1C products are resampled with a constant Ground Sampling Distance (GSD) of 10, 20 and 60\nmeters depending on the native resolution of the different spectral bands. In Level-1C  products, pixel\ncoordinates refer to the upper left corner of the pixel. Level-1C products will additionally include Cloud Masks\nand ECMWF data (total column of ozone, total column of water vapour and mean sea level pressure).\n",
           "acquisition": {
            "beginViewingDate": 1610276009024,
            "centerViewingDate": 1610276009024,
            "endViewingDate": 1610276009024,
            "mission": "Sentinel-2",
            "missionCode": "S2B",
            "missionId": "B",
            "missionName": "Sentinel-2B",
            "sensorId": "MSI",
            "sensorMode": "INS-NOBS"
           },
           "archive": {
            "filename": "S2B_MSIL1C_20210110T105329_N0209_R051_T30TYQ_20210110T130049.SAFE",
            "format": "SAFE",
            "offLine": false,
            "onLine": false,
            "size": 797
           },
           "attachments": [],
           "attitude": {},
           "bands": [
            {
             "center_wavelength": 0.4439,
             "common_name": "coastal",
             "full_width_half_max": 0.027,
             "gsd": 60,
             "name": "B01"
            },
            {
             "center_wavelength": 0.4966,
             "common_name": "blue",
             "full_width_half_max": 0.098,
             "gsd": 10,
             "name": "B02"
            },
            {
             "center_wavelength": 0.56,
             "common_name": "green",
             "full_width_half_max": 0.045,
             "gsd": 10,
             "name": "B03"
            },
            {
             "center_wavelength": 0.6645,
             "common_name": "red",
             "full_width_half_max": 0.038,
             "gsd": 10,
             "name": "B04"
            },
            {
             "center_wavelength": 0.7039,
             "full_width_half_max": 0.019,
             "gsd": 20,
             "name": "B05"
            },
            {
             "center_wavelength": 0.7402,
             "full_width_half_max": 0.018,
             "gsd": 20,
             "name": "B06"
            },
            {
             "center_wavelength": 0.7825,
             "full_width_half_max": 0.028,
             "gsd": 20,
             "name": "B07"
            },
            {
             "center_wavelength": 0.8351,
             "common_name": "nir",
             "full_width_half_max": 0.145,
             "gsd": 10,
             "name": "B08"
            },
            {
             "center_wavelength": 0.8648,
             "full_width_half_max": 0.033,
             "gsd": 20,
             "name": "B8A"
            },
            {
             "center_wavelength": 0.945,
             "full_width_half_max": 0.026,
             "gsd": 60,
             "name": "B09"
            },
            {
             "center_wavelength": 0.13735,
             "common_name": "cirrus",
             "full_width_half_max": 0.075,
             "gsd": 60,
             "name": "B10"
            },
            {
             "center_wavelength": 0.16137,
             "common_name": "swir16",
             "full_width_half_max": 0.075,
             "gsd": 20,
             "name": "B11"
            },
            {
             "center_wavelength": 0.22024,
             "common_name": "swir22",
             "full_width_half_max": 0.242,
             "gsd": 20,
             "name": "B12"
            }
           ],
           "cloudCover": 2.2235,
           "completionTimeFromAscendingNode": "2021-01-10T10:53:29.024000+00:00",
           "contentDescription": {
            "cloudCoverPercentage": 2.2235
           },
           "creationDate": "2021-01-10T15:17:00.524000+00:00",
           "downloadLink": "https://sobloo.eu/api/v1/services/download/e7fb7a56-7ff3-4c43-83f4-09e7f0a412a2",
           "enrichment": {
            "geonames": [
             {
              "name": "France",
              "states": [
               {
                "counties": [
                 {
                  "cities": [
                   {
                    "name": "Castelsarrasin"
                   }
                  ],
                  "name": "Tarn-et-Garonne",
                  "villages": [
                   {
                    "name": "Valence"
                   },
                   {
                    "name": "Perville"
                   }
                  ]
                 }
                ],
                "name": "Occitanie"
               },
               {
                "counties": [
                 {
                  "cities": [
                   {
                    "name": "Jonzac"
                   }
                  ],
                  "name": "Charente-Maritime",
                  "villages": [
                   {
                    "name": "Cercoux"
                   }
                  ]
                 },
                 {
                  "cities": [
                   {
                    "name": "Blaye"
                   },
                   {
                    "name": "Langon"
                   },
                   {
                    "name": "Bordeaux"
                   },
                   {
                    "name": "Libourne"
                   }
                  ],
                  "name": "Gironde",
                  "villages": [
                   {
                    "name": "Margueron"
                   },
                   {
                    "name": "Saint-Philippe-d'Aiguille"
                   },
                   {
                    "name": "Laruscade"
                   },
                   {
                    "name": "Sauveterre-de-Guyenne"
                   },
                   {
                    "name": "Saint-Martin-de-Laye"
                   },
                   {
                    "name": "Saint-Mariens"
                   },
                   {
                    "name": "Aillas"
                   },
                   {
                    "name": "Saint-Christophe-de-Double"
                   },
                   {
                    "name": "Auriolles"
                   },
                   {
                    "name": "Saint-Vincent-de-Paul"
                   },
                   {
                    "name": "Ruch"
                   },
                   {
                    "name": "Cours-les-Bains"
                   },
                   {
                    "name": "Landiras"
                   },
                   {
                    "name": "Saint-André-et-Appelles"
                   },
                   {
                    "name": "Camblanes-et-Meynac"
                   },
                   {
                    "name": "Francs"
                   },
                   {
                    "name": "Cénac"
                   },
                   {
                    "name": "Pineuilh"
                   },
                   {
                    "name": "Saint-Hippolyte"
                   },
                   {
                    "name": "Saint-Médard-de-Guizières"
                   },
                   {
                    "name": "Nérigean"
                   },
                   {
                    "name": "Belvès-de-Castillon"
                   },
                   {
                    "name": "Sainte-Radegonde"
                   },
                   {
                    "name": "Lugasson"
                   },
                   {
                    "name": "Lagorce"
                   },
                   {
                    "name": "Saint-Genès-de-Fronsac"
                   }
                  ]
                 },
                 {
                  "cities": [
                   {
                    "name": "Sarlat-la-Canéda"
                   },
                   {
                    "name": "Bergerac"
                   },
                   {
                    "name": "Périgueux"
                   }
                  ],
                  "name": "Dordogne",
                  "villages": [
                   {
                    "name": "Capdrot"
                   },
                   {
                    "name": "Eygurande-et-Gardedeuil"
                   },
                   {
                    "name": "Plaisance"
                   },
                   {
                    "name": "Montferrand-du-Périgord"
                   },
                   {
                    "name": "Mauzens-et-Miremont"
                   },
                   {
                    "name": "Saint-Étienne-de-Puycorbier"
                   },
                   {
                    "name": "Creyssensac-et-Pissot"
                   },
                   {
                    "name": "Saint-Médard-de-Mussidan"
                   },
                   {
                    "name": "Fougueyrolles"
                   },
                   {
                    "name": "Saint-Géraud-de-Corps"
                   },
                   {
                    "name": "Saint-Séverin-d'Estissac"
                   },
                   {
                    "name": "Monmarvès"
                   },
                   {
                    "name": "Lembras"
                   },
                   {
                    "name": "Vergt-de-Biron"
                   },
                   {
                    "name": "Monbazillac"
                   },
                   {
                    "name": "Saint-Avit-Sénieur"
                   },
                   {
                    "name": "Lanquais"
                   },
                   {
                    "name": "Villamblard"
                   },
                   {
                    "name": "Monmadalès"
                   },
                   {
                    "name": "Église-Neuve-d'Issac"
                   },
                   {
                    "name": "Montpon-Ménestérol"
                   },
                   {
                    "name": "Saint-Pierre-d'Eyraud"
                   },
                   {
                    "name": "Saint-Martial-d'Artenset"
                   },
                   {
                    "name": "Razac-de-Saussignac"
                   },
                   {
                    "name": "La Roche-Chalais"
                   },
                   {
                    "name": "Sourzac"
                   },
                   {
                    "name": "Les Lèches"
                   }
                  ]
                 },
                 {
                  "cities": [
                   {
                    "name": "Nérac"
                   },
                   {
                    "name": "Marmande"
                   },
                   {
                    "name": "Villeneuve-sur-Lot"
                   },
                   {
                    "name": "Agen"
                   }
                  ],
                  "name": "Lot-et-Garonne",
                  "villages": [
                   {
                    "name": "Duras"
                   },
                   {
                    "name": "Casteljaloux"
                   },
                   {
                    "name": "Baleyssagues"
                   },
                   {
                    "name": "Labastide-Castel-Amouroux"
                   },
                   {
                    "name": "Saint-Salvy"
                   },
                   {
                    "name": "Laplume"
                   },
                   {
                    "name": "Saint-Pastour"
                   },
                   {
                    "name": "Doudrac"
                   },
                   {
                    "name": "Sainte-Colombe-en-Bruilhois"
                   },
                   {
                    "name": "Ségalas"
                   },
                   {
                    "name": "Caudecoste"
                   },
                   {
                    "name": "Saint-Hilaire-de-Lusignan"
                   },
                   {
                    "name": "Esclottes"
                   },
                   {
                    "name": "Bournel"
                   },
                   {
                    "name": "Castillonnès"
                   },
                   {
                    "name": "Hautesvignes"
                   },
                   {
                    "name": "Montaut"
                   },
                   {
                    "name": "Puymiclan"
                   },
                   {
                    "name": "Guérin"
                   },
                   {
                    "name": "Port-Sainte-Marie"
                   },
                   {
                    "name": "Castelnau-sur-Gupie"
                   }
                  ]
                 },
                 {
                  "cities": [
                   {
                    "name": "Mont-de-Marsan"
                   }
                  ],
                  "name": "Landes"
                 }
                ],
                "name": "Nouvelle-Aquitaine"
               }
              ]
             }
            ],
            "naturallanguage": {
             "search_cloud_string": "cloud:partly_cloudy",
             "search_date_string": "2021 January 10 10: 10:53 10:53:29",
             "search_incidence_angle_string": "incidence:?",
             "search_quality_string": "quality:?"
            }
           },
           "eodag_product_type": "S2_MSI_L1C",
           "eodag_provider": "sobloo",
           "eodag_search_intersection": {
            "coordinates": [
             [
              [
               0.869986766421332,
               44.099770918209835
              ],
              [
               0,
               44.124049823368615
              ],
              [
               -0.5001526,
               44.13800768802703
              ],
              [
               -0.46466064,
               44.95708824903188
              ],
              [
               -0.45980835,
               44.97133812335457
              ],
              [
               -0.4095459,
               45.11802358626529
              ],
              [
               -0.4074402,
               45.12410744510391
              ],
              [
               0,
               45.11253795923955
              ],
              [
               0.936097556086391,
               45.08595696049961
              ],
              [
               0.869986766421332,
               44.099770918209835
              ]
             ]
            ],
            "type": "Polygon"
           },
           "identification": {
            "collection": "Sentinel-2",
            "dataset": {},
            "externalId": "S2B_MSIL1C_20210110T105329_N0209_R051_T30TYQ_20210110T130049",
            "hvTileId": "TQ30Y",
            "profile": "Image",
            "tileId": "30TYQ",
            "type": "S2MSI1C"
           },
           "illumination": {},
           "instrument": "MSI",
           "license": "proprietary",
           "missionStartDate": "2015-06-23T00:00:00Z",
           "orbit": {
            "direction": "DESCENDING",
            "number": 20097,
            "relativeNumber": 51
           },
           "orbitDirection": "DESCENDING",
           "orbitNumber": 20097,
           "platform": "Sentinel-2",
           "platformSerialIdentifier": "S2B",
           "processingLevel": "Level-1C",
           "productType": "S2MSI1C",
           "production": {
            "baseline": "02.09",
            "levelCode": "Level-1C",
            "ongoing": false
           },
           "provider": {},
           "quality": {
            "qualified": false
           },
           "quicklook": "https://sobloo.eu/api/v1/services/quicklook/e7fb7a56-7ff3-4c43-83f4-09e7f0a412a2",
           "sensorMode": "INS-NOBS",
           "sensorType": "OPTICAL",
           "spatialCoverage": {
            "geometry": {
             "centerPoint": {
              "lat": 44.612301373677106,
              "lon": 0.21416458520301881
             },
             "geographicBoundingPolygon": {
              "coordinates": [
               [
                [
                 0.869986766421332,
                 44.099770918209835
                ],
                [
                 0.936097556086391,
                 45.08595696049961
                ],
                [
                 0,
                 45.11253795923955
                ],
                [
                 -0.4074402,
                 45.12410744510391
                ],
                [
                 -0.4095459,
                 45.11802358626529
                ],
                [
                 -0.45980835,
                 44.97133812335457
                ],
                [
                 -0.46466064,
                 44.95708824903188
                ],
                [
                 -0.5001526,
                 44.13800768802703
                ],
                [
                 0,
                 44.124049823368615
                ],
                [
                 0.869986766421332,
                 44.099770918209835
                ]
               ]
              ],
              "type": "Polygon"
             },
             "global": false
            },
            "verticality": {}
           },
           "startTimeFromAscendingNode": "2021-01-10T10:53:29.024000+00:00",
           "state": {
            "insertionDate": 1610291820524,
            "resources": {
             "quicklook": true,
             "thumbnail": true
            },
            "services": {
             "download": "internal",
             "wcs": false,
             "wms": false,
             "wmts": false
            }
           },
           "storageStatus": "ONLINE",
           "target": {},
           "timeStamp": 1610276009024,
           "title": "S2B_MSIL1C_20210110T105329_N0209_R051_T30TYQ_20210110T130049",
           "transmission": {},
           "uid": "e7fb7a56-7ff3-4c43-83f4-09e7f0a412a2",
           "visibility": {
            "deleted": false
           }
          },
          "type": "Feature"
         },
         {
          "geometry": {
           "coordinates": [
            [
             [
              0.993002166545218,
              45.895735251937936
             ],
             [
              1.06565713269579,
              46.881459661637656
             ],
             [
              0.214245673232191,
              46.90637387207518
             ],
             [
              0.203676726275781,
              46.876997916508266
             ],
             [
              0.151112027997098,
              46.73044708799944
             ],
             [
              0.098989247958789,
              46.58385692795928
             ],
             [
              0.046970336989498,
              46.437328420826965
             ],
             [
              0,
              46.304135319161915
             ],
             [
              -0.004699707,
              46.29080842835449
             ],
             [
              -0.055877686,
              46.144238363889286
             ],
             [
              -0.10687256,
              45.997705920544085
             ],
             [
              -0.13098145,
              45.92809458565909
             ],
             [
              0,
              45.92432364772953
             ],
             [
              0.993002166545218,
              45.895735251937936
             ]
            ]
           ],
           "type": "Polygon"
          },
          "id": "S2B_MSIL1C_20210110T105329_N0209_R051_T30TYS_20210110T130049",
          "properties": {
           "abstract": "The Level-1C product is composed of 100x100 km2 tiles (ortho-images in UTM/WGS84 projection). It results from\nusing a Digital Elevation Model (DEM) to project the image in cartographic geometry. Per-pixel radiometric\nmeasurements are provided in Top Of Atmosphere (TOA) reflectances along with the parameters to transform them\ninto radiances. Level-1C products are resampled with a constant Ground Sampling Distance (GSD) of 10, 20 and 60\nmeters depending on the native resolution of the different spectral bands. In Level-1C  products, pixel\ncoordinates refer to the upper left corner of the pixel. Level-1C products will additionally include Cloud Masks\nand ECMWF data (total column of ozone, total column of water vapour and mean sea level pressure).\n",
           "acquisition": {
            "beginViewingDate": 1610276009024,
            "centerViewingDate": 1610276009024,
            "endViewingDate": 1610276009024,
            "mission": "Sentinel-2",
            "missionCode": "S2B",
            "missionId": "B",
            "missionName": "Sentinel-2B",
            "sensorId": "MSI",
            "sensorMode": "INS-NOBS"
           },
           "archive": {
            "filename": "S2B_MSIL1C_20210110T105329_N0209_R051_T30TYS_20210110T130049.SAFE",
            "format": "SAFE",
            "offLine": false,
            "onLine": false,
            "size": 593
           },
           "attachments": [],
           "attitude": {},
           "bands": [
            {
             "center_wavelength": 0.4439,
             "common_name": "coastal",
             "full_width_half_max": 0.027,
             "gsd": 60,
             "name": "B01"
            },
            {
             "center_wavelength": 0.4966,
             "common_name": "blue",
             "full_width_half_max": 0.098,
             "gsd": 10,
             "name": "B02"
            },
            {
             "center_wavelength": 0.56,
             "common_name": "green",
             "full_width_half_max": 0.045,
             "gsd": 10,
             "name": "B03"
            },
            {
             "center_wavelength": 0.6645,
             "common_name": "red",
             "full_width_half_max": 0.038,
             "gsd": 10,
             "name": "B04"
            },
            {
             "center_wavelength": 0.7039,
             "full_width_half_max": 0.019,
             "gsd": 20,
             "name": "B05"
            },
            {
             "center_wavelength": 0.7402,
             "full_width_half_max": 0.018,
             "gsd": 20,
             "name": "B06"
            },
            {
             "center_wavelength": 0.7825,
             "full_width_half_max": 0.028,
             "gsd": 20,
             "name": "B07"
            },
            {
             "center_wavelength": 0.8351,
             "common_name": "nir",
             "full_width_half_max": 0.145,
             "gsd": 10,
             "name": "B08"
            },
            {
             "center_wavelength": 0.8648,
             "full_width_half_max": 0.033,
             "gsd": 20,
             "name": "B8A"
            },
            {
             "center_wavelength": 0.945,
             "full_width_half_max": 0.026,
             "gsd": 60,
             "name": "B09"
            },
            {
             "center_wavelength": 0.13735,
             "common_name": "cirrus",
             "full_width_half_max": 0.075,
             "gsd": 60,
             "name": "B10"
            },
            {
             "center_wavelength": 0.16137,
             "common_name": "swir16",
             "full_width_half_max": 0.075,
             "gsd": 20,
             "name": "B11"
            },
            {
             "center_wavelength": 0.22024,
             "common_name": "swir22",
             "full_width_half_max": 0.242,
             "gsd": 20,
             "name": "B12"
            }
           ],
           "cloudCover": 0.5467,
           "completionTimeFromAscendingNode": "2021-01-10T10:53:29.024000+00:00",
           "contentDescription": {
            "cloudCoverPercentage": 0.5467
           },
           "creationDate": "2021-01-10T15:17:00.914000+00:00",
           "downloadLink": "https://sobloo.eu/api/v1/services/download/e7818fba-7da7-4f05-bded-570a1b977dd6",
           "enrichment": {
            "geonames": [
             {
              "name": "France",
              "states": [
               {
                "counties": [
                 {
                  "cities": [
                   {
                    "name": "Le Blanc"
                   }
                  ],
                  "name": "Indre"
                 },
                 {
                  "cities": [
                   {
                    "name": "Loches"
                   }
                  ],
                  "name": "Indre-et-Loire"
                 }
                ],
                "name": "Centre-Val de Loire"
               },
               {
                "counties": [
                 {
                  "cities": [
                   {
                    "name": "Poitiers"
                   },
                   {
                    "name": "Châtellerault"
                   },
                   {
                    "name": "Montmorillon"
                   }
                  ],
                  "name": "Vienne",
                  "villages": [
                   {
                    "name": "Châtellerault"
                   },
                   {
                    "name": "Asnières-sur-Blour"
                   },
                   {
                    "name": "Nieuil-l'Espoir"
                   },
                   {
                    "name": "Sainte-Radégonde"
                   },
                   {
                    "name": "Vouillé"
                   },
                   {
                    "name": "Le Vigeant"
                   },
                   {
                    "name": "Lhommaizé"
                   },
                   {
                    "name": "Saint-Romain"
                   },
                   {
                    "name": "Sommières-du-Clain"
                   },
                   {
                    "name": "Béruges"
                   },
                   {
                    "name": "Aslonnes"
                   },
                   {
                    "name": "Thurageau"
                   },
                   {
                    "name": "Vendeuvre-du-Poitou"
                   },
                   {
                    "name": "Champagné-Saint-Hilaire"
                   },
                   {
                    "name": "Jazeneuil"
                   },
                   {
                    "name": "Payroux"
                   },
                   {
                    "name": "Lauthiers"
                   },
                   {
                    "name": "Villemort"
                   },
                   {
                    "name": "Rouillé"
                   },
                   {
                    "name": "Cenon-sur-Vienne"
                   },
                   {
                    "name": "La Chapelle-Bâton"
                   },
                   {
                    "name": "Payré"
                   },
                   {
                    "name": "Saint-Sauvant"
                   },
                   {
                    "name": "Gouex"
                   },
                   {
                    "name": "Saint-Pierre-d'Exideuil"
                   },
                   {
                    "name": "Chenevelles"
                   },
                   {
                    "name": "Sossais"
                   },
                   {
                    "name": "Lavausseau"
                   },
                   {
                    "name": "Montmorillon"
                   },
                   {
                    "name": "Montreuil-Bonnin"
                   },
                   {
                    "name": "Millac"
                   },
                   {
                    "name": "Bourg-Archambault"
                   },
                   {
                    "name": "Vivonne"
                   },
                   {
                    "name": "Lusignan"
                   },
                   {
                    "name": "Charroux"
                   },
                   {
                    "name": "Avanton"
                   },
                   {
                    "name": "Chouppes"
                   },
                   {
                    "name": "Villiers"
                   },
                   {
                    "name": "Vicq-sur-Gartempe"
                   },
                   {
                    "name": "Linazay"
                   },
                   {
                    "name": "Bonneuil-Matours"
                   },
                   {
                    "name": "Pleumartin"
                   },
                   {
                    "name": "Charrais"
                   }
                  ]
                 },
                 {
                  "cities": [
                   {
                    "name": "Niort"
                   }
                  ],
                  "name": "Deux-Sèvres",
                  "villages": [
                   {
                    "name": "Gournay-Loizé"
                   },
                   {
                    "name": "Sainte-Soline"
                   },
                   {
                    "name": "Villemain"
                   },
                   {
                    "name": "Rom"
                   },
                   {
                    "name": "Couture-d'Argenson"
                   }
                  ]
                 },
                 {
                  "cities": [
                   {
                    "name": "Confolens"
                   }
                  ],
                  "name": "Charente",
                  "villages": [
                   {
                    "name": "Brigueuil"
                   },
                   {
                    "name": "La Magdeleine"
                   },
                   {
                    "name": "Confolens"
                   },
                   {
                    "name": "Lesterps"
                   },
                   {
                    "name": "Lupsault"
                   },
                   {
                    "name": "Condac"
                   },
                   {
                    "name": "Les Adjots"
                   },
                   {
                    "name": "Esse"
                   },
                   {
                    "name": "Montjean"
                   },
                   {
                    "name": "Barbezières"
                   },
                   {
                    "name": "Lessac"
                   },
                   {
                    "name": "Saint-Sulpice-de-Ruffec"
                   },
                   {
                    "name": "Bernac"
                   },
                   {
                    "name": "Ansac-sur-Vienne"
                   },
                   {
                    "name": "Nieuil"
                   },
                   {
                    "name": "Le Grand-Madieu"
                   },
                   {
                    "name": "Tuzie"
                   },
                   {
                    "name": "Saint-Christophe"
                   },
                   {
                    "name": "Longré"
                   },
                   {
                    "name": "Beaulieu-sur-Sonnette"
                   },
                   {
                    "name": "Oradour-Fanais"
                   },
                   {
                    "name": "Roumazières-Loubert"
                   }
                  ]
                 },
                 {
                  "cities": [
                   {
                    "name": "Saint-Jean-d'Angély"
                   }
                  ],
                  "name": "Charente-Maritime"
                 },
                 {
                  "cities": [
                   {
                    "name": "Bellac"
                   },
                   {
                    "name": "Rochechouart"
                   }
                  ],
                  "name": "Haute-Vienne",
                  "villages": [
                   {
                    "name": "Mortemart"
                   },
                   {
                    "name": "Peyrat-de-Bellac"
                   },
                   {
                    "name": "Nouic"
                   },
                   {
                    "name": "Saint-Junien"
                   },
                   {
                    "name": "Val-d'Issoire"
                   },
                   {
                    "name": "Saint-Martial-sur-Isop"
                   },
                   {
                    "name": "Bellac"
                   },
                   {
                    "name": "Oradour-sur-Glane"
                   },
                   {
                    "name": "Saint-Brice-sur-Vienne"
                   },
                   {
                    "name": "Oradour-Saint-Genest"
                   }
                  ]
                 }
                ],
                "name": "Nouvelle-Aquitaine"
               }
              ]
             }
            ],
            "naturallanguage": {
             "search_cloud_string": "cloud:partly_cloudy",
             "search_date_string": "2021 January 10 10: 10:53 10:53:29",
             "search_incidence_angle_string": "incidence:?",
             "search_quality_string": "quality:?"
            }
           },
           "eodag_product_type": "S2_MSI_L1C",
           "eodag_provider": "sobloo",
           "eodag_search_intersection": {
            "coordinates": [
             [
              [
               1.0563300300011453,
               46.754917
              ],
              [
               0.993002166545218,
               45.895735251937936
              ],
              [
               0,
               45.92432364772953
              ],
              [
               -0.13098145,
               45.92809458565909
              ],
              [
               -0.10687256,
               45.997705920544085
              ],
              [
               -0.055877686,
               46.144238363889286
              ],
              [
               -0.004699707,
               46.29080842835449
              ],
              [
               0,
               46.304135319161915
              ],
              [
               0.046970336989498,
               46.437328420826965
              ],
              [
               0.098989247958789,
               46.58385692795928
              ],
              [
               0.151112027997098,
               46.73044708799944
              ],
              [
               0.15988887050493805,
               46.754917
              ],
              [
               1.0563300300011453,
               46.754917
              ]
             ]
            ],
            "type": "Polygon"
           },
           "identification": {
            "collection": "Sentinel-2",
            "dataset": {},
            "externalId": "S2B_MSIL1C_20210110T105329_N0209_R051_T30TYS_20210110T130049",
            "hvTileId": "TS30Y",
            "profile": "Image",
            "tileId": "30TYS",
            "type": "S2MSI1C"
           },
           "illumination": {},
           "instrument": "MSI",
           "license": "proprietary",
           "missionStartDate": "2015-06-23T00:00:00Z",
           "orbit": {
            "direction": "DESCENDING",
            "number": 20097,
            "relativeNumber": 51
           },
           "orbitDirection": "DESCENDING",
           "orbitNumber": 20097,
           "platform": "Sentinel-2",
           "platformSerialIdentifier": "S2B",
           "processingLevel": "Level-1C",
           "productType": "S2MSI1C",
           "production": {
            "baseline": "02.09",
            "levelCode": "Level-1C",
            "ongoing": false
           },
           "provider": {},
           "quality": {
            "qualified": false
           },
           "quicklook": "https://sobloo.eu/api/v1/services/quicklook/e7818fba-7da7-4f05-bded-570a1b977dd6",
           "sensorMode": "INS-NOBS",
           "sensorType": "OPTICAL",
           "spatialCoverage": {
            "geometry": {
             "centerPoint": {
              "lat": 46.380381564478434,
              "lon": 0.5300809466083248
             },
             "geographicBoundingPolygon": {
              "coordinates": [
               [
                [
                 0.993002166545218,
                 45.895735251937936
                ],
                [
                 1.06565713269579,
                 46.881459661637656
                ],
                [
                 0.214245673232191,
                 46.90637387207518
                ],
                [
                 0.203676726275781,
                 46.876997916508266
                ],
                [
                 0.151112027997098,
                 46.73044708799944
                ],
                [
                 0.098989247958789,
                 46.58385692795928
                ],
                [
                 0.046970336989498,
                 46.437328420826965
                ],
                [
                 0,
                 46.304135319161915
                ],
                [
                 -0.004699707,
                 46.29080842835449
                ],
                [
                 -0.055877686,
                 46.144238363889286
                ],
                [
                 -0.10687256,
                 45.997705920544085
                ],
                [
                 -0.13098145,
                 45.92809458565909
                ],
                [
                 0,
                 45.92432364772953
                ],
                [
                 0.993002166545218,
                 45.895735251937936
                ]
               ]
              ],
              "type": "Polygon"
             },
             "global": false
            },
            "verticality": {}
           },
           "startTimeFromAscendingNode": "2021-01-10T10:53:29.024000+00:00",
           "state": {
            "insertionDate": 1610291820914,
            "resources": {
             "quicklook": true,
             "thumbnail": true
            },
            "services": {
             "download": "internal",
             "wcs": false,
             "wms": false,
             "wmts": false
            }
           },
           "storageStatus": "ONLINE",
           "target": {},
           "timeStamp": 1610276009024,
           "title": "S2B_MSIL1C_20210110T105329_N0209_R051_T30TYS_20210110T130049",
           "transmission": {},
           "uid": "e7818fba-7da7-4f05-bded-570a1b977dd6",
           "visibility": {
            "deleted": false
           }
          },
          "type": "Feature"
         },
         {
          "geometry": {
           "coordinates": [
            [
             [
              2.999750708112026,
              43.95524095200904
             ],
             [
              3.018033244913145,
              44.000801945423504
             ],
             [
              3.076193903368761,
              44.14658096408308
             ],
             [
              3.118553553782752,
              44.25270268099162
             ],
             [
              2.999749474120944,
              44.25341758107761
             ],
             [
              2.999750708112026,
              43.95524095200904
             ]
            ]
           ],
           "type": "Polygon"
          },
          "id": "S2B_MSIL1C_20210110T105329_N0209_R051_T31TEJ_20210110T130049",
          "properties": {
           "abstract": "The Level-1C product is composed of 100x100 km2 tiles (ortho-images in UTM/WGS84 projection). It results from\nusing a Digital Elevation Model (DEM) to project the image in cartographic geometry. Per-pixel radiometric\nmeasurements are provided in Top Of Atmosphere (TOA) reflectances along with the parameters to transform them\ninto radiances. Level-1C products are resampled with a constant Ground Sampling Distance (GSD) of 10, 20 and 60\nmeters depending on the native resolution of the different spectral bands. In Level-1C  products, pixel\ncoordinates refer to the upper left corner of the pixel. Level-1C products will additionally include Cloud Masks\nand ECMWF data (total column of ozone, total column of water vapour and mean sea level pressure).\n",
           "acquisition": {
            "beginViewingDate": 1610276009024,
            "centerViewingDate": 1610276009024,
            "endViewingDate": 1610276009024,
            "mission": "Sentinel-2",
            "missionCode": "S2B",
            "missionId": "B",
            "missionName": "Sentinel-2B",
            "sensorId": "MSI",
            "sensorMode": "INS-NOBS"
           },
           "archive": {
            "filename": "S2B_MSIL1C_20210110T105329_N0209_R051_T31TEJ_20210110T130049.SAFE",
            "format": "SAFE",
            "offLine": false,
            "onLine": false,
            "size": 31
           },
           "attachments": [],
           "attitude": {},
           "bands": [
            {
             "center_wavelength": 0.4439,
             "common_name": "coastal",
             "full_width_half_max": 0.027,
             "gsd": 60,
             "name": "B01"
            },
            {
             "center_wavelength": 0.4966,
             "common_name": "blue",
             "full_width_half_max": 0.098,
             "gsd": 10,
             "name": "B02"
            },
            {
             "center_wavelength": 0.56,
             "common_name": "green",
             "full_width_half_max": 0.045,
             "gsd": 10,
             "name": "B03"
            },
            {
             "center_wavelength": 0.6645,
             "common_name": "red",
             "full_width_half_max": 0.038,
             "gsd": 10,
             "name": "B04"
            },
            {
             "center_wavelength": 0.7039,
             "full_width_half_max": 0.019,
             "gsd": 20,
             "name": "B05"
            },
            {
             "center_wavelength": 0.7402,
             "full_width_half_max": 0.018,
             "gsd": 20,
             "name": "B06"
            },
            {
             "center_wavelength": 0.7825,
             "full_width_half_max": 0.028,
             "gsd": 20,
             "name": "B07"
            },
            {
             "center_wavelength": 0.8351,
             "common_name": "nir",
             "full_width_half_max": 0.145,
             "gsd": 10,
             "name": "B08"
            },
            {
             "center_wavelength": 0.8648,
             "full_width_half_max": 0.033,
             "gsd": 20,
             "name": "B8A"
            },
            {
             "center_wavelength": 0.945,
             "full_width_half_max": 0.026,
             "gsd": 60,
             "name": "B09"
            },
            {
             "center_wavelength": 0.13735,
             "common_name": "cirrus",
             "full_width_half_max": 0.075,
             "gsd": 60,
             "name": "B10"
            },
            {
             "center_wavelength": 0.16137,
             "common_name": "swir16",
             "full_width_half_max": 0.075,
             "gsd": 20,
             "name": "B11"
            },
            {
             "center_wavelength": 0.22024,
             "common_name": "swir22",
             "full_width_half_max": 0.242,
             "gsd": 20,
             "name": "B12"
            }
           ],
           "cloudCover": 0.3882,
           "completionTimeFromAscendingNode": "2021-01-10T10:53:29.024000+00:00",
           "contentDescription": {
            "cloudCoverPercentage": 0.3882
           },
           "creationDate": "2021-01-10T15:22:49.286000+00:00",
           "downloadLink": "https://sobloo.eu/api/v1/services/download/31b2f1a8-046e-4e15-a83a-3bce3f6c1837",
           "enrichment": {
            "geonames": [
             {
              "name": "France",
              "states": [
               {
                "counties": [
                 {
                  "cities": [
                   {
                    "name": "Millau"
                   }
                  ],
                  "name": "Aveyron",
                  "villages": [
                   {
                    "name": "Castelnau-Pégayrols"
                   },
                   {
                    "name": "Rivière-sur-Tarn"
                   },
                   {
                    "name": "Millau"
                   },
                   {
                    "name": "Roquefort-sur-Soulzon"
                   },
                   {
                    "name": "Saint-Georges-de-Luzençon"
                   },
                   {
                    "name": "Tournemire"
                   },
                   {
                    "name": "Creissels"
                   },
                   {
                    "name": "Saint-Léons"
                   },
                   {
                    "name": "Aguessac"
                   },
                   {
                    "name": "Comprégnac"
                   },
                   {
                    "name": "Vézins-de-Lévézou"
                   },
                   {
                    "name": "Sévérac-d'Aveyron"
                   },
                   {
                    "name": "Saint-Rome-de-Cernon"
                   },
                   {
                    "name": "Verrières"
                   },
                   {
                    "name": "Compeyre"
                   },
                   {
                    "name": "Saint-Beauzély"
                   }
                  ]
                 }
                ],
                "name": "Occitanie"
               }
              ]
             }
            ],
            "naturallanguage": {
             "search_cloud_string": "cloud:partly_cloudy",
             "search_date_string": "2021 January 10 10: 10:53 10:53:29",
             "search_incidence_angle_string": "incidence:?",
             "search_quality_string": "quality:?"
            }
           },
           "eodag_product_type": "S2_MSI_L1C",
           "eodag_provider": "sobloo",
           "eodag_search_intersection": {
            "coordinates": [
             [
              [
               2.999750708112026,
               43.95524095200904
              ],
              [
               2.999749474120944,
               44.25341758107761
              ],
              [
               3.118553553782752,
               44.25270268099162
              ],
              [
               3.076193903368761,
               44.14658096408308
              ],
              [
               3.018033244913145,
               44.000801945423504
              ],
              [
               2.999750708112026,
               43.95524095200904
              ]
             ]
            ],
            "type": "Polygon"
           },
           "identification": {
            "collection": "Sentinel-2",
            "dataset": {},
            "externalId": "S2B_MSIL1C_20210110T105329_N0209_R051_T31TEJ_20210110T130049",
            "hvTileId": "TJ31E",
            "profile": "Image",
            "tileId": "31TEJ",
            "type": "S2MSI1C"
           },
           "illumination": {},
           "instrument": "MSI",
           "license": "proprietary",
           "missionStartDate": "2015-06-23T00:00:00Z",
           "orbit": {
            "direction": "DESCENDING",
            "number": 20097,
            "relativeNumber": 51
           },
           "orbitDirection": "DESCENDING",
           "orbitNumber": 20097,
           "platform": "Sentinel-2",
           "platformSerialIdentifier": "S2B",
           "processingLevel": "Level-1C",
           "productType": "S2MSI1C",
           "production": {
            "baseline": "02.09",
            "levelCode": "Level-1C",
            "ongoing": false
           },
           "provider": {},
           "quality": {
            "qualified": false
           },
           "quicklook": "https://sobloo.eu/api/v1/services/quicklook/31b2f1a8-046e-4e15-a83a-3bce3f6c1837",
           "sensorMode": "INS-NOBS",
           "sensorType": "OPTICAL",
           "spatialCoverage": {
            "geometry": {
             "centerPoint": {
              "lat": 44.15372805857198,
              "lon": 3.039352935927719
             },
             "geographicBoundingPolygon": {
              "coordinates": [
               [
                [
                 2.999750708112026,
                 43.95524095200904
                ],
                [
                 3.018033244913145,
                 44.000801945423504
                ],
                [
                 3.076193903368761,
                 44.14658096408308
                ],
                [
                 3.118553553782752,
                 44.25270268099162
                ],
                [
                 2.999749474120944,
                 44.25341758107761
                ],
                [
                 2.999750708112026,
                 43.95524095200904
                ]
               ]
              ],
              "type": "Polygon"
             },
             "global": false
            },
            "verticality": {}
           },
           "startTimeFromAscendingNode": "2021-01-10T10:53:29.024000+00:00",
           "state": {
            "insertionDate": 1610292169286,
            "resources": {
             "quicklook": true,
             "thumbnail": true
            },
            "services": {
             "download": "internal",
             "wcs": false,
             "wms": false,
             "wmts": false
            }
           },
           "storageStatus": "ONLINE",
           "target": {},
           "timeStamp": 1610276009024,
           "title": "S2B_MSIL1C_20210110T105329_N0209_R051_T31TEJ_20210110T130049",
           "transmission": {},
           "uid": "31b2f1a8-046e-4e15-a83a-3bce3f6c1837",
           "visibility": {
            "deleted": false
           }
          },
          "type": "Feature"
         },
         {
          "geometry": {
           "coordinates": [
            [
             [
              5.622741209146946,
              44.135250725162805
             ],
             [
              5.667621076812861,
              45.122671880514964
             ],
             [
              4.629907255868955,
              45.140577811146855
             ],
             [
              4.623180770902565,
              45.12029913496988
             ],
             [
              4.572920866687639,
              44.973841043623054
             ],
             [
              4.523134423551239,
              44.82722005038925
             ],
             [
              4.4740752906125,
              44.68033630145157
             ],
             [
              4.423622356643039,
              44.53386316602752
             ],
             [
              4.374161015171339,
              44.38710420480752
             ],
             [
              4.325399284997347,
              44.24019256782661
             ],
             [
              4.29784576774852,
              44.157719825373
             ],
             [
              5.622741209146946,
              44.135250725162805
             ]
            ]
           ],
           "type": "Polygon"
          },
          "id": "S2B_MSIL1C_20210124T103229_N0209_R108_T31TFK_20210124T113837",
          "properties": {
           "abstract": "The Level-1C product is composed of 100x100 km2 tiles (ortho-images in UTM/WGS84 projection). It results from\nusing a Digital Elevation Model (DEM) to project the image in cartographic geometry. Per-pixel radiometric\nmeasurements are provided in Top Of Atmosphere (TOA) reflectances along with the parameters to transform them\ninto radiances. Level-1C products are resampled with a constant Ground Sampling Distance (GSD) of 10, 20 and 60\nmeters depending on the native resolution of the different spectral bands. In Level-1C  products, pixel\ncoordinates refer to the upper left corner of the pixel. Level-1C products will additionally include Cloud Masks\nand ECMWF data (total column of ozone, total column of water vapour and mean sea level pressure).\n",
           "acquisition": {
            "beginViewingDate": 1611484349024,
            "centerViewingDate": 1611484349024,
            "endViewingDate": 1611484349024,
            "mission": "Sentinel-2",
            "missionCode": "S2B",
            "missionId": "B",
            "missionName": "Sentinel-2B",
            "sensorId": "MSI",
            "sensorMode": "INS-NOBS"
           },
           "archive": {
            "filename": "S2B_MSIL1C_20210124T103229_N0209_R108_T31TFK_20210124T113837.SAFE",
            "format": "SAFE",
            "offLine": false,
            "onLine": false,
            "size": 750
           },
           "attachments": [],
           "attitude": {},
           "bands": [
            {
             "center_wavelength": 0.4439,
             "common_name": "coastal",
             "full_width_half_max": 0.027,
             "gsd": 60,
             "name": "B01"
            },
            {
             "center_wavelength": 0.4966,
             "common_name": "blue",
             "full_width_half_max": 0.098,
             "gsd": 10,
             "name": "B02"
            },
            {
             "center_wavelength": 0.56,
             "common_name": "green",
             "full_width_half_max": 0.045,
             "gsd": 10,
             "name": "B03"
            },
            {
             "center_wavelength": 0.6645,
             "common_name": "red",
             "full_width_half_max": 0.038,
             "gsd": 10,
             "name": "B04"
            },
            {
             "center_wavelength": 0.7039,
             "full_width_half_max": 0.019,
             "gsd": 20,
             "name": "B05"
            },
            {
             "center_wavelength": 0.7402,
             "full_width_half_max": 0.018,
             "gsd": 20,
             "name": "B06"
            },
            {
             "center_wavelength": 0.7825,
             "full_width_half_max": 0.028,
             "gsd": 20,
             "name": "B07"
            },
            {
             "center_wavelength": 0.8351,
             "common_name": "nir",
             "full_width_half_max": 0.145,
             "gsd": 10,
             "name": "B08"
            },
            {
             "center_wavelength": 0.8648,
             "full_width_half_max": 0.033,
             "gsd": 20,
             "name": "B8A"
            },
            {
             "center_wavelength": 0.945,
             "full_width_half_max": 0.026,
             "gsd": 60,
             "name": "B09"
            },
            {
             "center_wavelength": 0.13735,
             "common_name": "cirrus",
             "full_width_half_max": 0.075,
             "gsd": 60,
             "name": "B10"
            },
            {
             "center_wavelength": 0.16137,
             "common_name": "swir16",
             "full_width_half_max": 0.075,
             "gsd": 20,
             "name": "B11"
            },
            {
             "center_wavelength": 0.22024,
             "common_name": "swir22",
             "full_width_half_max": 0.242,
             "gsd": 20,
             "name": "B12"
            }
           ],
           "cloudCover": 4.519,
           "completionTimeFromAscendingNode": "2021-01-24T10:32:29.024000+00:00",
           "contentDescription": {
            "cloudCoverPercentage": 4.519
           },
           "creationDate": "2021-01-24T14:26:57.699000+00:00",
           "downloadLink": "https://sobloo.eu/api/v1/services/download/d8d4b717-24da-4441-bc56-a24c46209434",
           "enrichment": {
            "geonames": [
             {
              "name": "France",
              "states": [
               {
                "counties": [
                 {
                  "cities": [
                   {
                    "name": "Nimes"
                   },
                   {
                    "name": "Alès"
                   }
                  ],
                  "name": "Gard",
                  "villages": [
                   {
                    "name": "Barjac"
                   },
                   {
                    "name": "Saint-Julien-de-Peyrolas"
                   }
                  ]
                 }
                ],
                "name": "Occitanie"
               },
               {
                "counties": [
                 {
                  "cities": [
                   {
                    "name": "Avignon"
                   },
                   {
                    "name": "Carpentras"
                   }
                  ],
                  "name": "Vaucluse",
                  "villages": [
                   {
                    "name": "Malaucène"
                   },
                   {
                    "name": "Visan"
                   },
                   {
                    "name": "Grillon"
                   },
                   {
                    "name": "Vaison-la-Romaine"
                   },
                   {
                    "name": "Aurel"
                   },
                   {
                    "name": "Gigondas"
                   },
                   {
                    "name": "Puyméras"
                   },
                   {
                    "name": "Bédoin"
                   },
                   {
                    "name": "Cairanne"
                   }
                  ]
                 },
                 {
                  "cities": [
                   {
                    "name": "Gap"
                   }
                  ],
                  "name": "Hautes-Alpes",
                  "villages": [
                   {
                    "name": "Bruis"
                   },
                   {
                    "name": "Montbrand"
                   },
                   {
                    "name": "Montclus"
                   },
                   {
                    "name": "Rosans"
                   },
                   {
                    "name": "Sainte-Marie"
                   },
                   {
                    "name": "Montmorin"
                   }
                  ]
                 },
                 {
                  "cities": [
                   {
                    "name": "Forcalquier"
                   }
                  ],
                  "name": "Alpes-de-Haute-Provence"
                 }
                ],
                "name": "Provence-Alpes-Côte d'Azur"
               },
               {
                "counties": [
                 {
                  "cities": [
                   {
                    "name": "Grenoble"
                   }
                  ],
                  "name": "Isère",
                  "villages": [
                   {
                    "name": "Malleval-en-Vercors"
                   },
                   {
                    "name": "Saint-Lattier"
                   },
                   {
                    "name": "Lavars"
                   },
                   {
                    "name": "Roissard"
                   },
                   {
                    "name": "Saint-Michel-les-Portes"
                   },
                   {
                    "name": "Gresse-en-Vercors"
                   },
                   {
                    "name": "Autrans-Méaudre-en-Vercors"
                   }
                  ]
                 },
                 {
                  "cities": [
                   {
                    "name": "Tournon-sur-Rhône"
                   },
                   {
                    "name": "Privas"
                   },
                   {
                    "name": "Largentière"
                   }
                  ],
                  "name": "Ardèche",
                  "villages": [
                   {
                    "name": "Aubignas"
                   },
                   {
                    "name": "Tournon-sur-Rhône"
                   },
                   {
                    "name": "Saint-Gineis-en-Coiron"
                   },
                   {
                    "name": "Beauvène"
                   },
                   {
                    "name": "Bozas"
                   },
                   {
                    "name": "Plats"
                   },
                   {
                    "name": "Sceautres"
                   },
                   {
                    "name": "Vesseaux"
                   },
                   {
                    "name": "Saint-Romain-de-Lerps"
                   },
                   {
                    "name": "Saint-Pierreville"
                   },
                   {
                    "name": "Saint-Félicien"
                   },
                   {
                    "name": "Saint-Sauveur-de-Montagut"
                   },
                   {
                    "name": "Saint-Barthélemy-le-Plain"
                   },
                   {
                    "name": "Pranles"
                   },
                   {
                    "name": "Gilhoc-sur-Ormèze"
                   },
                   {
                    "name": "Toulaud"
                   },
                   {
                    "name": "Saint-Remèze"
                   },
                   {
                    "name": "Saint-Martin-sur-Lavezon"
                   },
                   {
                    "name": "Arlebosc"
                   },
                   {
                    "name": "Rochecolombe"
                   },
                   {
                    "name": "Saint-Priest"
                   },
                   {
                    "name": "Lemps"
                   },
                   {
                    "name": "Saint-Sylvestre"
                   },
                   {
                    "name": "Veyras"
                   },
                   {
                    "name": "Vagnas"
                   },
                   {
                    "name": "Gluiras"
                   },
                   {
                    "name": "Saint-Apollinaire-de-Rias"
                   },
                   {
                    "name": "Étables"
                   },
                   {
                    "name": "Creysseilles"
                   },
                   {
                    "name": "Saint-Laurent-sous-Coiron"
                   },
                   {
                    "name": "Lussas"
                   },
                   {
                    "name": "Saint-Vincent-de-Durfort"
                   }
                  ]
                 },
                 {
                  "cities": [
                   {
                    "name": "Die"
                   },
                   {
                    "name": "Valence"
                   },
                   {
                    "name": "Nyons"
                   }
                  ],
                  "name": "Drôme",
                  "villages": [
                   {
                    "name": "Saint-Thomas-en-Royans"
                   },
                   {
                    "name": "Rioms"
                   },
                   {
                    "name": "Marsanne"
                   },
                   {
                    "name": "Le Poët-Célard"
                   },
                   {
                    "name": "Rochegude"
                   },
                   {
                    "name": "Roynac"
                   },
                   {
                    "name": "Mercurol-Veaunes"
                   },
                   {
                    "name": "Soyans"
                   },
                   {
                    "name": "Montaulieu"
                   },
                   {
                    "name": "Le Poët-en-Percip"
                   },
                   {
                    "name": "Rochefort-Samson"
                   },
                   {
                    "name": "Montmiral"
                   },
                   {
                    "name": "Montferrand-la-Fare"
                   },
                   {
                    "name": "Vesc"
                   },
                   {
                    "name": "Marches"
                   },
                   {
                    "name": "Ambonil"
                   },
                   {
                    "name": "Grignan"
                   },
                   {
                    "name": "Saint-Martin-en-Vercors"
                   },
                   {
                    "name": "Beauregard-Baret"
                   },
                   {
                    "name": "Léoncel"
                   }
                  ]
                 }
                ],
                "name": "Auvergne-Rhône-Alpes"
               }
              ]
             }
            ],
            "naturallanguage": {
             "search_cloud_string": "cloud:partly_cloudy",
             "search_date_string": "2021 January 24 10: 10:32 10:32:29",
             "search_incidence_angle_string": "incidence:?",
             "search_quality_string": "quality:?"
            }
           },
           "eodag_product_type": "S2_MSI_L1C",
           "eodag_provider": "sobloo",
           "eodag_search_intersection": {
            "coordinates": [
             [
              [
               4.570313,
               44.153099012775904
              ],
              [
               4.29784576774852,
               44.157719825373
              ],
              [
               4.325399284997347,
               44.24019256782661
              ],
              [
               4.374161015171339,
               44.38710420480752
              ],
              [
               4.423622356643039,
               44.53386316602752
              ],
              [
               4.4740752906125,
               44.68033630145157
              ],
              [
               4.523134423551239,
               44.82722005038925
              ],
              [
               4.570313,
               44.96616088051288
              ],
              [
               4.570313,
               44.153099012775904
              ]
             ]
            ],
            "type": "Polygon"
           },
           "identification": {
            "collection": "Sentinel-2",
            "dataset": {},
            "externalId": "S2B_MSIL1C_20210124T103229_N0209_R108_T31TFK_20210124T113837",
            "hvTileId": "TK31F",
            "profile": "Image",
            "tileId": "31TFK",
            "type": "S2MSI1C"
           },
           "illumination": {},
           "instrument": "MSI",
           "license": "proprietary",
           "missionStartDate": "2015-06-23T00:00:00Z",
           "orbit": {
            "direction": "DESCENDING",
            "number": 20297,
            "relativeNumber": 108
           },
           "orbitDirection": "DESCENDING",
           "orbitNumber": 20297,
           "platform": "Sentinel-2",
           "platformSerialIdentifier": "S2B",
           "processingLevel": "Level-1C",
           "productType": "S2MSI1C",
           "production": {
            "baseline": "02.09",
            "levelCode": "Level-1C",
            "ongoing": false
           },
           "provider": {},
           "quality": {
            "qualified": false
           },
           "quicklook": "https://sobloo.eu/api/v1/services/quicklook/d8d4b717-24da-4441-bc56-a24c46209434",
           "sensorMode": "INS-NOBS",
           "sensorType": "OPTICAL",
           "spatialCoverage": {
            "geometry": {
             "centerPoint": {
              "lat": 44.61909435322456,
              "lon": 5.050332752851818
             },
             "geographicBoundingPolygon": {
              "coordinates": [
               [
                [
                 5.622741209146946,
                 44.135250725162805
                ],
                [
                 5.667621076812861,
                 45.122671880514964
                ],
                [
                 4.629907255868955,
                 45.140577811146855
                ],
                [
                 4.623180770902565,
                 45.12029913496988
                ],
                [
                 4.572920866687639,
                 44.973841043623054
                ],
                [
                 4.523134423551239,
                 44.82722005038925
                ],
                [
                 4.4740752906125,
                 44.68033630145157
                ],
                [
                 4.423622356643039,
                 44.53386316602752
                ],
                [
                 4.374161015171339,
                 44.38710420480752
                ],
                [
                 4.325399284997347,
                 44.24019256782661
                ],
                [
                 4.29784576774852,
                 44.157719825373
                ],
                [
                 5.622741209146946,
                 44.135250725162805
                ]
               ]
              ],
              "type": "Polygon"
             },
             "global": false
            },
            "verticality": {}
           },
           "startTimeFromAscendingNode": "2021-01-24T10:32:29.024000+00:00",
           "state": {
            "insertionDate": 1611498417699,
            "resources": {
             "quicklook": true,
             "thumbnail": true
            },
            "services": {
             "download": "internal",
             "wcs": false,
             "wms": false,
             "wmts": false
            }
           },
           "storageStatus": "ONLINE",
           "target": {},
           "timeStamp": 1611484349024,
           "title": "S2B_MSIL1C_20210124T103229_N0209_R108_T31TFK_20210124T113837",
           "transmission": {},
           "uid": "d8d4b717-24da-4441-bc56-a24c46209434",
           "visibility": {
            "deleted": false
           }
          },
          "type": "Feature"
         },
         {
          "geometry": {
           "coordinates": [
            [
             [
              5.546630572300243,
              42.33578223926217
             ],
             [
              5.587536184106559,
              43.323576596360866
             ],
             [
              4.233812137762024,
              43.346200009839855
             ],
             [
              4.214287134177919,
              42.35764145317536
             ],
             [
              5.546630572300243,
              42.33578223926217
             ]
            ]
           ],
           "type": "Polygon"
          },
          "id": "S2B_MSIL1C_20210124T103229_N0209_R108_T31TFH_20210124T113837",
          "properties": {
           "abstract": "The Level-1C product is composed of 100x100 km2 tiles (ortho-images in UTM/WGS84 projection). It results from\nusing a Digital Elevation Model (DEM) to project the image in cartographic geometry. Per-pixel radiometric\nmeasurements are provided in Top Of Atmosphere (TOA) reflectances along with the parameters to transform them\ninto radiances. Level-1C products are resampled with a constant Ground Sampling Distance (GSD) of 10, 20 and 60\nmeters depending on the native resolution of the different spectral bands. In Level-1C  products, pixel\ncoordinates refer to the upper left corner of the pixel. Level-1C products will additionally include Cloud Masks\nand ECMWF data (total column of ozone, total column of water vapour and mean sea level pressure).\n",
           "acquisition": {
            "beginViewingDate": 1611484349024,
            "centerViewingDate": 1611484349024,
            "endViewingDate": 1611484349024,
            "mission": "Sentinel-2",
            "missionCode": "S2B",
            "missionId": "B",
            "missionName": "Sentinel-2B",
            "sensorId": "MSI",
            "sensorMode": "INS-NOBS"
           },
           "archive": {
            "filename": "S2B_MSIL1C_20210124T103229_N0209_R108_T31TFH_20210124T113837.SAFE",
            "format": "SAFE",
            "offLine": false,
            "onLine": false,
            "size": 730
           },
           "attachments": [],
           "attitude": {},
           "bands": [
            {
             "center_wavelength": 0.4439,
             "common_name": "coastal",
             "full_width_half_max": 0.027,
             "gsd": 60,
             "name": "B01"
            },
            {
             "center_wavelength": 0.4966,
             "common_name": "blue",
             "full_width_half_max": 0.098,
             "gsd": 10,
             "name": "B02"
            },
            {
             "center_wavelength": 0.56,
             "common_name": "green",
             "full_width_half_max": 0.045,
             "gsd": 10,
             "name": "B03"
            },
            {
             "center_wavelength": 0.6645,
             "common_name": "red",
             "full_width_half_max": 0.038,
             "gsd": 10,
             "name": "B04"
            },
            {
             "center_wavelength": 0.7039,
             "full_width_half_max": 0.019,
             "gsd": 20,
             "name": "B05"
            },
            {
             "center_wavelength": 0.7402,
             "full_width_half_max": 0.018,
             "gsd": 20,
             "name": "B06"
            },
            {
             "center_wavelength": 0.7825,
             "full_width_half_max": 0.028,
             "gsd": 20,
             "name": "B07"
            },
            {
             "center_wavelength": 0.8351,
             "common_name": "nir",
             "full_width_half_max": 0.145,
             "gsd": 10,
             "name": "B08"
            },
            {
             "center_wavelength": 0.8648,
             "full_width_half_max": 0.033,
             "gsd": 20,
             "name": "B8A"
            },
            {
             "center_wavelength": 0.945,
             "full_width_half_max": 0.026,
             "gsd": 60,
             "name": "B09"
            },
            {
             "center_wavelength": 0.13735,
             "common_name": "cirrus",
             "full_width_half_max": 0.075,
             "gsd": 60,
             "name": "B10"
            },
            {
             "center_wavelength": 0.16137,
             "common_name": "swir16",
             "full_width_half_max": 0.075,
             "gsd": 20,
             "name": "B11"
            },
            {
             "center_wavelength": 0.22024,
             "common_name": "swir22",
             "full_width_half_max": 0.242,
             "gsd": 20,
             "name": "B12"
            }
           ],
           "cloudCover": 1.0183,
           "completionTimeFromAscendingNode": "2021-01-24T10:32:29.024000+00:00",
           "contentDescription": {
            "cloudCoverPercentage": 1.0183
           },
           "creationDate": "2021-01-24T14:29:41.925000+00:00",
           "downloadLink": "https://sobloo.eu/api/v1/services/download/04220d06-88d3-4e24-b9e1-c01612852160",
           "enrichment": {
            "geonames": [
             {
              "name": "France",
              "states": [
               {
                "counties": [
                 {
                  "cities": [
                   {
                    "name": "Istres"
                   },
                   {
                    "name": "Arles"
                   },
                   {
                    "name": "Marseille"
                   }
                  ],
                  "name": "Bouches-du-Rhône",
                  "villages": [
                   {
                    "name": "Aubagne"
                   },
                   {
                    "name": "Carry-le-Rouet"
                   },
                   {
                    "name": "Allauch"
                   },
                   {
                    "name": "Cassis"
                   },
                   {
                    "name": "La Ciotat"
                   },
                   {
                    "name": "Roquefort-la-Bédoule"
                   },
                   {
                    "name": "Sausset-les-Pins"
                   },
                   {
                    "name": "Carnoux-en-Provence"
                   },
                   {
                    "name": "Port-Saint-Louis-du-Rhône"
                   },
                   {
                    "name": "Ensuès-la-Redonne"
                   },
                   {
                    "name": "Arles"
                   },
                   {
                    "name": "La Penne-sur-Huveaune"
                   },
                   {
                    "name": "Martigues"
                   }
                  ]
                 }
                ],
                "name": "Provence-Alpes-Côte d'Azur"
               }
              ]
             }
            ],
            "naturallanguage": {
             "search_cloud_string": "cloud:partly_cloudy",
             "search_date_string": "2021 January 24 10: 10:32 10:32:29",
             "search_incidence_angle_string": "incidence:?",
             "search_quality_string": "quality:?"
            }
           },
           "eodag_product_type": "S2_MSI_L1C",
           "eodag_provider": "sobloo",
           "eodag_search_intersection": {
            "coordinates": [
             [
              [
               4.222296247726879,
               42.763146
              ],
              [
               4.233812137762024,
               43.346200009839855
              ],
              [
               4.570313,
               43.34057641309353
              ],
              [
               4.570313,
               42.763146
              ],
              [
               4.222296247726879,
               42.763146
              ]
             ]
            ],
            "type": "Polygon"
           },
           "identification": {
            "collection": "Sentinel-2",
            "dataset": {},
            "externalId": "S2B_MSIL1C_20210124T103229_N0209_R108_T31TFH_20210124T113837",
            "hvTileId": "TH31F",
            "profile": "Image",
            "tileId": "31TFH",
            "type": "S2MSI1C"
           },
           "illumination": {},
           "instrument": "MSI",
           "license": "proprietary",
           "missionStartDate": "2015-06-23T00:00:00Z",
           "orbit": {
            "direction": "DESCENDING",
            "number": 20297,
            "relativeNumber": 108
           },
           "orbitDirection": "DESCENDING",
           "orbitNumber": 20297,
           "platform": "Sentinel-2",
           "platformSerialIdentifier": "S2B",
           "processingLevel": "Level-1C",
           "productType": "S2MSI1C",
           "production": {
            "baseline": "02.09",
            "levelCode": "Level-1C",
            "ongoing": false
           },
           "provider": {},
           "quality": {
            "qualified": false
           },
           "quicklook": "https://sobloo.eu/api/v1/services/quicklook/04220d06-88d3-4e24-b9e1-c01612852160",
           "sensorMode": "INS-NOBS",
           "sensorType": "OPTICAL",
           "spatialCoverage": {
            "geometry": {
             "centerPoint": {
              "lat": 42.8421125628182,
              "lon": 4.895560188530171
             },
             "geographicBoundingPolygon": {
              "coordinates": [
               [
                [
                 5.546630572300243,
                 42.33578223926217
                ],
                [
                 5.587536184106559,
                 43.323576596360866
                ],
                [
                 4.233812137762024,
                 43.346200009839855
                ],
                [
                 4.214287134177919,
                 42.35764145317536
                ],
                [
                 5.546630572300243,
                 42.33578223926217
                ]
               ]
              ],
              "type": "Polygon"
             },
             "global": false
            },
            "verticality": {}
           },
           "startTimeFromAscendingNode": "2021-01-24T10:32:29.024000+00:00",
           "state": {
            "insertionDate": 1611498581925,
            "resources": {
             "quicklook": true,
             "thumbnail": true
            },
            "services": {
             "download": "internal",
             "wcs": false,
             "wms": false,
             "wmts": false
            }
           },
           "storageStatus": "ONLINE",
           "target": {},
           "timeStamp": 1611484349024,
           "title": "S2B_MSIL1C_20210124T103229_N0209_R108_T31TFH_20210124T113837",
           "transmission": {},
           "uid": "04220d06-88d3-4e24-b9e1-c01612852160",
           "visibility": {
            "deleted": false
           }
          },
          "type": "Feature"
         },
         {
          "geometry": {
           "coordinates": [
            [
             [
              4.333014608804459,
              42.35632239007374
             ],
             [
              4.354447329980782,
              43.34483481646455
             ],
             [
              2.999753209473979,
              43.35285539234588
             ],
             [
              2.999757116098431,
              42.36407192041621
             ],
             [
              4.333014608804459,
              42.35632239007374
             ]
            ]
           ],
           "type": "Polygon"
          },
          "id": "S2B_MSIL1C_20201228T104349_N0209_R008_T31TEH_20201228T113546",
          "properties": {
           "abstract": "The Level-1C product is composed of 100x100 km2 tiles (ortho-images in UTM/WGS84 projection). It results from\nusing a Digital Elevation Model (DEM) to project the image in cartographic geometry. Per-pixel radiometric\nmeasurements are provided in Top Of Atmosphere (TOA) reflectances along with the parameters to transform them\ninto radiances. Level-1C products are resampled with a constant Ground Sampling Distance (GSD) of 10, 20 and 60\nmeters depending on the native resolution of the different spectral bands. In Level-1C  products, pixel\ncoordinates refer to the upper left corner of the pixel. Level-1C products will additionally include Cloud Masks\nand ECMWF data (total column of ozone, total column of water vapour and mean sea level pressure).\n",
           "acquisition": {
            "beginViewingDate": 1609152229024,
            "centerViewingDate": 1609152229024,
            "endViewingDate": 1609152229024,
            "mission": "Sentinel-2",
            "missionCode": "S2B",
            "missionId": "B",
            "missionName": "Sentinel-2B",
            "sensorId": "MSI",
            "sensorMode": "INS-NOBS"
           },
           "archive": {
            "filename": "S2B_MSIL1C_20201228T104349_N0209_R008_T31TEH_20201228T113546.SAFE",
            "format": "SAFE",
            "offLine": false,
            "onLine": false,
            "size": 722
           },
           "attachments": [],
           "attitude": {},
           "bands": [
            {
             "center_wavelength": 0.4439,
             "common_name": "coastal",
             "full_width_half_max": 0.027,
             "gsd": 60,
             "name": "B01"
            },
            {
             "center_wavelength": 0.4966,
             "common_name": "blue",
             "full_width_half_max": 0.098,
             "gsd": 10,
             "name": "B02"
            },
            {
             "center_wavelength": 0.56,
             "common_name": "green",
             "full_width_half_max": 0.045,
             "gsd": 10,
             "name": "B03"
            },
            {
             "center_wavelength": 0.6645,
             "common_name": "red",
             "full_width_half_max": 0.038,
             "gsd": 10,
             "name": "B04"
            },
            {
             "center_wavelength": 0.7039,
             "full_width_half_max": 0.019,
             "gsd": 20,
             "name": "B05"
            },
            {
             "center_wavelength": 0.7402,
             "full_width_half_max": 0.018,
             "gsd": 20,
             "name": "B06"
            },
            {
             "center_wavelength": 0.7825,
             "full_width_half_max": 0.028,
             "gsd": 20,
             "name": "B07"
            },
            {
             "center_wavelength": 0.8351,
             "common_name": "nir",
             "full_width_half_max": 0.145,
             "gsd": 10,
             "name": "B08"
            },
            {
             "center_wavelength": 0.8648,
             "full_width_half_max": 0.033,
             "gsd": 20,
             "name": "B8A"
            },
            {
             "center_wavelength": 0.945,
             "full_width_half_max": 0.026,
             "gsd": 60,
             "name": "B09"
            },
            {
             "center_wavelength": 0.13735,
             "common_name": "cirrus",
             "full_width_half_max": 0.075,
             "gsd": 60,
             "name": "B10"
            },
            {
             "center_wavelength": 0.16137,
             "common_name": "swir16",
             "full_width_half_max": 0.075,
             "gsd": 20,
             "name": "B11"
            },
            {
             "center_wavelength": 0.22024,
             "common_name": "swir22",
             "full_width_half_max": 0.242,
             "gsd": 20,
             "name": "B12"
            }
           ],
           "cloudCover": 8.415,
           "completionTimeFromAscendingNode": "2020-12-28T10:43:49.024000+00:00",
           "contentDescription": {
            "cloudCoverPercentage": 8.415
           },
           "creationDate": "2020-12-28T13:16:42.274000+00:00",
           "downloadLink": "https://sobloo.eu/api/v1/services/download/a40eba9e-ae87-4caf-a553-683c6839da64",
           "enrichment": {
            "geonames": [
             {
              "name": "France",
              "states": [
               {
                "counties": [
                 {
                  "cities": [
                   {
                    "name": "Perpignan"
                   },
                   {
                    "name": "Céret"
                   }
                  ],
                  "name": "Pyrénées-Orientales",
                  "villages": [
                   {
                    "name": "Saint-Laurent-de-la-Salanque"
                   },
                   {
                    "name": "Saint-Nazaire"
                   },
                   {
                    "name": "Sainte-Marie"
                   },
                   {
                    "name": "Torreilles"
                   },
                   {
                    "name": "Saint-Cyprien"
                   },
                   {
                    "name": "Elne"
                   },
                   {
                    "name": "Alénya"
                   },
                   {
                    "name": "Sorède"
                   },
                   {
                    "name": "Latour-Bas-Elne"
                   },
                   {
                    "name": "Banyuls-sur-Mer"
                   },
                   {
                    "name": "Cerbère"
                   },
                   {
                    "name": "Salses-le-Château"
                   },
                   {
                    "name": "Saint-Hippolyte"
                   },
                   {
                    "name": "Port-Vendres"
                   },
                   {
                    "name": "Canet-en-Roussillon"
                   },
                   {
                    "name": "Collioure"
                   },
                   {
                    "name": "Saint-André"
                   },
                   {
                    "name": "Argelès-sur-Mer"
                   },
                   {
                    "name": "Le Barcarès"
                   }
                  ]
                 },
                 {
                  "cities": [
                   {
                    "name": "Béziers"
                   },
                   {
                    "name": "Montpellier"
                   }
                  ],
                  "name": "Hérault",
                  "villages": [
                   {
                    "name": "Florensac"
                   },
                   {
                    "name": "Vendres"
                   },
                   {
                    "name": "Capestang"
                   },
                   {
                    "name": "Puisserguier"
                   },
                   {
                    "name": "Sète"
                   },
                   {
                    "name": "Cers"
                   },
                   {
                    "name": "Villeneuve-lès-Béziers"
                   },
                   {
                    "name": "Sérignan"
                   },
                   {
                    "name": "Vias"
                   },
                   {
                    "name": "Lespignan"
                   },
                   {
                    "name": "Agde"
                   },
                   {
                    "name": "Poilhes"
                   },
                   {
                    "name": "Bessan"
                   },
                   {
                    "name": "Valras-Plage"
                   },
                   {
                    "name": "Sauvian"
                   },
                   {
                    "name": "Marseillan"
                   },
                   {
                    "name": "Maureilhan"
                   },
                   {
                    "name": "Quarante"
                   },
                   {
                    "name": "Montels"
                   },
                   {
                    "name": "Montblanc"
                   },
                   {
                    "name": "Béziers"
                   },
                   {
                    "name": "Nissan-lez-Enserune"
                   },
                   {
                    "name": "Montady"
                   },
                   {
                    "name": "Colombiers"
                   },
                   {
                    "name": "Portiragnes"
                   },
                   {
                    "name": "Maraussan"
                   }
                  ]
                 },
                 {
                  "cities": [
                   {
                    "name": "Narbonne"
                   }
                  ],
                  "name": "Aude",
                  "villages": [
                   {
                    "name": "Peyriac-de-Mer"
                   },
                   {
                    "name": "Gruissan"
                   },
                   {
                    "name": "Coursan"
                   },
                   {
                    "name": "Salles-d'Aude"
                   },
                   {
                    "name": "Fleury"
                   },
                   {
                    "name": "Cuxac-d'Aude"
                   },
                   {
                    "name": "Port-la-Nouvelle"
                   },
                   {
                    "name": "Ouveillan"
                   },
                   {
                    "name": "Sigean"
                   },
                   {
                    "name": "Armissan"
                   },
                   {
                    "name": "Leucate"
                   },
                   {
                    "name": "Narbonne"
                   },
                   {
                    "name": "La Palme"
                   },
                   {
                    "name": "Fitou"
                   },
                   {
                    "name": "Bages"
                   },
                   {
                    "name": "Vinassan"
                   }
                  ]
                 }
                ],
                "name": "Occitanie"
               }
              ]
             },
             {
              "name": "Spain",
              "states": [
               {
                "counties": [
                 {
                  "cities": [
                   {
                    "name": "Upper Empordà"
                   }
                  ],
                  "name": "Girona",
                  "villages": [
                   {
                    "name": "Mollet de Peralada"
                   },
                   {
                    "name": "Colera"
                   },
                   {
                    "name": "Llançà"
                   },
                   {
                    "name": "Vilamaniscle"
                   },
                   {
                    "name": "Garriguella"
                   },
                   {
                    "name": "Rabós"
                   },
                   {
                    "name": "Espolla"
                   },
                   {
                    "name": "Portbou"
                   }
                  ]
                 }
                ],
                "name": "Catalonia"
               }
              ]
             }
            ],
            "naturallanguage": {
             "search_cloud_string": "cloud:partly_cloudy",
             "search_date_string": "2020 December 28 10: 10:43 10:43:49",
             "search_incidence_angle_string": "incidence:?",
             "search_quality_string": "quality:?"
            }
           },
           "eodag_product_type": "S2_MSI_L1C",
           "eodag_provider": "sobloo",
           "eodag_search_intersection": {
            "coordinates": [
             [
              [
               2.9997555393805735,
               42.763146
              ],
              [
               2.999753209473979,
               43.35285539234588
              ],
              [
               4.354447329980782,
               43.34483481646455
              ],
              [
               4.3418352738428645,
               42.763146
              ],
              [
               2.9997555393805735,
               42.763146
              ]
             ]
            ],
            "type": "Polygon"
           },
           "identification": {
            "collection": "Sentinel-2",
            "dataset": {},
            "externalId": "S2B_MSIL1C_20201228T104349_N0209_R008_T31TEH_20201228T113546",
            "hvTileId": "TH31E",
            "profile": "Image",
            "tileId": "31TEH",
            "type": "S2MSI1C"
           },
           "illumination": {},
           "instrument": "MSI",
           "license": "proprietary",
           "missionStartDate": "2015-06-23T00:00:00Z",
           "orbit": {
            "direction": "DESCENDING",
            "number": 19911,
            "relativeNumber": 8
           },
           "orbitDirection": "DESCENDING",
           "orbitNumber": 19911,
           "platform": "Sentinel-2",
           "platformSerialIdentifier": "S2B",
           "processingLevel": "Level-1C",
           "productType": "S2MSI1C",
           "production": {
            "baseline": "02.09",
            "levelCode": "Level-1C",
            "ongoing": false
           },
           "provider": {},
           "quality": {
            "qualified": false
           },
           "quicklook": "https://sobloo.eu/api/v1/services/quicklook/a40eba9e-ae87-4caf-a553-683c6839da64",
           "sensorMode": "INS-NOBS",
           "sensorType": "OPTICAL",
           "spatialCoverage": {
            "geometry": {
             "centerPoint": {
              "lat": 42.85583541388228,
              "lon": 3.671740851920556
             },
             "geographicBoundingPolygon": {
              "coordinates": [
               [
                [
                 4.333014608804459,
                 42.35632239007374
                ],
                [
                 4.354447329980782,
                 43.34483481646455
                ],
                [
                 2.999753209473979,
                 43.35285539234588
                ],
                [
                 2.999757116098431,
                 42.36407192041621
                ],
                [
                 4.333014608804459,
                 42.35632239007374
                ]
               ]
              ],
              "type": "Polygon"
             },
             "global": false
            },
            "verticality": {}
           },
           "startTimeFromAscendingNode": "2020-12-28T10:43:49.024000+00:00",
           "state": {
            "insertionDate": 1609161402274,
            "resources": {
             "quicklook": true,
             "thumbnail": true
            },
            "services": {
             "download": "internal",
             "wcs": false,
             "wms": false,
             "wmts": false
            }
           },
           "storageStatus": "ONLINE",
           "target": {},
           "timeStamp": 1609152229024,
           "title": "S2B_MSIL1C_20201228T104349_N0209_R008_T31TEH_20201228T113546",
           "transmission": {},
           "uid": "a40eba9e-ae87-4caf-a553-683c6839da64",
           "visibility": {
            "deleted": false
           }
          },
          "type": "Feature"
         },
         {
          "geometry": {
           "coordinates": [
            [
             [
              4.333014608804459,
              42.35632239007374
             ],
             [
              4.354447329980782,
              43.34483481646455
             ],
             [
              4.035087850093119,
              43.34672561004155
             ],
             [
              4.018096881714534,
              43.2944547922529
             ],
             [
              3.970448516142462,
              43.14757696469108
             ],
             [
              3.922981835226392,
              43.00065427475236
             ],
             [
              3.875512414371358,
              42.85372519875048
             ],
             [
              3.827993289598461,
              42.706723626348825
             ],
             [
              3.780708447833767,
              42.55969936803569
             ],
             [
              3.733763460265605,
              42.41269581330046
             ],
             [
              3.717000444904116,
              42.35990295907909
             ],
             [
              4.333014608804459,
              42.35632239007374
             ]
            ]
           ],
           "type": "Polygon"
          },
          "id": "S2A_MSIL1C_20201230T103441_N0209_R108_T31TEH_20201230T124210",
          "properties": {
           "abstract": "The Level-1C product is composed of 100x100 km2 tiles (ortho-images in UTM/WGS84 projection). It results from\nusing a Digital Elevation Model (DEM) to project the image in cartographic geometry. Per-pixel radiometric\nmeasurements are provided in Top Of Atmosphere (TOA) reflectances along with the parameters to transform them\ninto radiances. Level-1C products are resampled with a constant Ground Sampling Distance (GSD) of 10, 20 and 60\nmeters depending on the native resolution of the different spectral bands. In Level-1C  products, pixel\ncoordinates refer to the upper left corner of the pixel. Level-1C products will additionally include Cloud Masks\nand ECMWF data (total column of ozone, total column of water vapour and mean sea level pressure).\n",
           "acquisition": {
            "beginViewingDate": 1609324481024,
            "centerViewingDate": 1609324481024,
            "endViewingDate": 1609324481024,
            "mission": "Sentinel-2",
            "missionCode": "S2A",
            "missionId": "A",
            "missionName": "Sentinel-2A",
            "sensorId": "MSI",
            "sensorMode": "INS-NOBS"
           },
           "archive": {
            "filename": "S2A_MSIL1C_20201230T103441_N0209_R108_T31TEH_20201230T124210.SAFE",
            "format": "SAFE",
            "offLine": false,
            "onLine": false,
            "size": 269
           },
           "attachments": [],
           "attitude": {},
           "bands": [
            {
             "center_wavelength": 0.4439,
             "common_name": "coastal",
             "full_width_half_max": 0.027,
             "gsd": 60,
             "name": "B01"
            },
            {
             "center_wavelength": 0.4966,
             "common_name": "blue",
             "full_width_half_max": 0.098,
             "gsd": 10,
             "name": "B02"
            },
            {
             "center_wavelength": 0.56,
             "common_name": "green",
             "full_width_half_max": 0.045,
             "gsd": 10,
             "name": "B03"
            },
            {
             "center_wavelength": 0.6645,
             "common_name": "red",
             "full_width_half_max": 0.038,
             "gsd": 10,
             "name": "B04"
            },
            {
             "center_wavelength": 0.7039,
             "full_width_half_max": 0.019,
             "gsd": 20,
             "name": "B05"
            },
            {
             "center_wavelength": 0.7402,
             "full_width_half_max": 0.018,
             "gsd": 20,
             "name": "B06"
            },
            {
             "center_wavelength": 0.7825,
             "full_width_half_max": 0.028,
             "gsd": 20,
             "name": "B07"
            },
            {
             "center_wavelength": 0.8351,
             "common_name": "nir",
             "full_width_half_max": 0.145,
             "gsd": 10,
             "name": "B08"
            },
            {
             "center_wavelength": 0.8648,
             "full_width_half_max": 0.033,
             "gsd": 20,
             "name": "B8A"
            },
            {
             "center_wavelength": 0.945,
             "full_width_half_max": 0.026,
             "gsd": 60,
             "name": "B09"
            },
            {
             "center_wavelength": 0.13735,
             "common_name": "cirrus",
             "full_width_half_max": 0.075,
             "gsd": 60,
             "name": "B10"
            },
            {
             "center_wavelength": 0.16137,
             "common_name": "swir16",
             "full_width_half_max": 0.075,
             "gsd": 20,
             "name": "B11"
            },
            {
             "center_wavelength": 0.22024,
             "common_name": "swir22",
             "full_width_half_max": 0.242,
             "gsd": 20,
             "name": "B12"
            }
           ],
           "cloudCover": 4.3206,
           "completionTimeFromAscendingNode": "2020-12-30T10:34:41.024000+00:00",
           "contentDescription": {
            "cloudCoverPercentage": 4.3206
           },
           "creationDate": "2020-12-30T14:15:28.106000+00:00",
           "downloadLink": "https://sobloo.eu/api/v1/services/download/c2a7c087-95a6-471b-bb1d-3f4d40320505",
           "enrichment": {
            "geonames": [
             {
              "name": "France"
             }
            ],
            "naturallanguage": {
             "search_cloud_string": "cloud:partly_cloudy",
             "search_date_string": "2020 December 30 10: 10:34 10:34:41",
             "search_incidence_angle_string": "incidence:?",
             "search_quality_string": "quality:?"
            }
           },
           "eodag_product_type": "S2_MSI_L1C",
           "eodag_provider": "sobloo",
           "eodag_search_intersection": {
            "coordinates": [
             [
              [
               3.84623215446031,
               42.763146
              ],
              [
               3.875512414371358,
               42.85372519875048
              ],
              [
               3.922981835226392,
               43.00065427475236
              ],
              [
               3.970448516142462,
               43.14757696469108
              ],
              [
               4.018096881714534,
               43.2944547922529
              ],
              [
               4.035087850093119,
               43.34672561004155
              ],
              [
               4.354447329980782,
               43.34483481646455
              ],
              [
               4.3418352738428645,
               42.763146
              ],
              [
               3.84623215446031,
               42.763146
              ]
             ]
            ],
            "type": "Polygon"
           },
           "identification": {
            "collection": "Sentinel-2",
            "dataset": {},
            "externalId": "S2A_MSIL1C_20201230T103441_N0209_R108_T31TEH_20201230T124210",
            "hvTileId": "TH31E",
            "profile": "Image",
            "tileId": "31TEH",
            "type": "S2MSI1C"
           },
           "illumination": {},
           "instrument": "MSI",
           "license": "proprietary",
           "missionStartDate": "2015-06-23T00:00:00Z",
           "orbit": {
            "direction": "DESCENDING",
            "number": 28848,
            "relativeNumber": 108
           },
           "orbitDirection": "DESCENDING",
           "orbitNumber": 28848,
           "platform": "Sentinel-2",
           "platformSerialIdentifier": "S2A",
           "processingLevel": "Level-1C",
           "productType": "S2MSI1C",
           "production": {
            "baseline": "02.09",
            "levelCode": "Level-1C",
            "ongoing": false
           },
           "provider": {},
           "quality": {
            "qualified": false
           },
           "quicklook": "https://sobloo.eu/api/v1/services/quicklook/c2a7c087-95a6-471b-bb1d-3f4d40320505",
           "sensorMode": "INS-NOBS",
           "sensorType": "OPTICAL",
           "spatialCoverage": {
            "geometry": {
             "centerPoint": {
              "lat": 42.799755501018716,
              "lon": 4.100653469736082
             },
             "geographicBoundingPolygon": {
              "coordinates": [
               [
                [
                 4.333014608804459,
                 42.35632239007374
                ],
                [
                 4.354447329980782,
                 43.34483481646455
                ],
                [
                 4.035087850093119,
                 43.34672561004155
                ],
                [
                 4.018096881714534,
                 43.2944547922529
                ],
                [
                 3.970448516142462,
                 43.14757696469108
                ],
                [
                 3.922981835226392,
                 43.00065427475236
                ],
                [
                 3.875512414371358,
                 42.85372519875048
                ],
                [
                 3.827993289598461,
                 42.706723626348825
                ],
                [
                 3.780708447833767,
                 42.55969936803569
                ],
                [
                 3.733763460265605,
                 42.41269581330046
                ],
                [
                 3.717000444904116,
                 42.35990295907909
                ],
                [
                 4.333014608804459,
                 42.35632239007374
                ]
               ]
              ],
              "type": "Polygon"
             },
             "global": false
            },
            "verticality": {}
           },
           "startTimeFromAscendingNode": "2020-12-30T10:34:41.024000+00:00",
           "state": {
            "insertionDate": 1609337728106,
            "resources": {
             "quicklook": false,
             "thumbnail": false
            },
            "services": {
             "download": "internal",
             "wcs": false,
             "wms": false,
             "wmts": false
            }
           },
           "storageStatus": "ONLINE",
           "target": {},
           "timeStamp": 1609324481024,
           "title": "S2A_MSIL1C_20201230T103441_N0209_R108_T31TEH_20201230T124210",
           "transmission": {},
           "uid": "c2a7c087-95a6-471b-bb1d-3f4d40320505",
           "visibility": {
            "deleted": false
           }
          },
          "type": "Feature"
         },
         {
          "geometry": {
           "coordinates": [
            [
             [
              5.583808279580875,
              43.235600960154144
             ],
             [
              5.62664597371116,
              44.22320974043625
             ],
             [
              4.330420449782306,
              44.24522707449112
             ],
             [
              4.316011805469967,
              44.20181302229955
             ],
             [
              4.266610173805343,
              44.055103973884506
             ],
             [
              4.247327931178226,
              43.99747515974248
             ],
             [
              4.232032700041831,
              43.25815531909012
             ],
             [
              5.583808279580875,
              43.235600960154144
             ]
            ]
           ],
           "type": "Polygon"
          },
          "id": "S2B_MSIL1C_20210114T103309_N0209_R108_T31TFJ_20210114T114331",
          "properties": {
           "abstract": "The Level-1C product is composed of 100x100 km2 tiles (ortho-images in UTM/WGS84 projection). It results from\nusing a Digital Elevation Model (DEM) to project the image in cartographic geometry. Per-pixel radiometric\nmeasurements are provided in Top Of Atmosphere (TOA) reflectances along with the parameters to transform them\ninto radiances. Level-1C products are resampled with a constant Ground Sampling Distance (GSD) of 10, 20 and 60\nmeters depending on the native resolution of the different spectral bands. In Level-1C  products, pixel\ncoordinates refer to the upper left corner of the pixel. Level-1C products will additionally include Cloud Masks\nand ECMWF data (total column of ozone, total column of water vapour and mean sea level pressure).\n",
           "acquisition": {
            "beginViewingDate": 1610620389024,
            "centerViewingDate": 1610620389024,
            "endViewingDate": 1610620389024,
            "mission": "Sentinel-2",
            "missionCode": "S2B",
            "missionId": "B",
            "missionName": "Sentinel-2B",
            "sensorId": "MSI",
            "sensorMode": "INS-NOBS"
           },
           "archive": {
            "filename": "S2B_MSIL1C_20210114T103309_N0209_R108_T31TFJ_20210114T114331.SAFE",
            "format": "SAFE",
            "offLine": false,
            "onLine": false,
            "size": 797
           },
           "attachments": [],
           "attitude": {},
           "bands": [
            {
             "center_wavelength": 0.4439,
             "common_name": "coastal",
             "full_width_half_max": 0.027,
             "gsd": 60,
             "name": "B01"
            },
            {
             "center_wavelength": 0.4966,
             "common_name": "blue",
             "full_width_half_max": 0.098,
             "gsd": 10,
             "name": "B02"
            },
            {
             "center_wavelength": 0.56,
             "common_name": "green",
             "full_width_half_max": 0.045,
             "gsd": 10,
             "name": "B03"
            },
            {
             "center_wavelength": 0.6645,
             "common_name": "red",
             "full_width_half_max": 0.038,
             "gsd": 10,
             "name": "B04"
            },
            {
             "center_wavelength": 0.7039,
             "full_width_half_max": 0.019,
             "gsd": 20,
             "name": "B05"
            },
            {
             "center_wavelength": 0.7402,
             "full_width_half_max": 0.018,
             "gsd": 20,
             "name": "B06"
            },
            {
             "center_wavelength": 0.7825,
             "full_width_half_max": 0.028,
             "gsd": 20,
             "name": "B07"
            },
            {
             "center_wavelength": 0.8351,
             "common_name": "nir",
             "full_width_half_max": 0.145,
             "gsd": 10,
             "name": "B08"
            },
            {
             "center_wavelength": 0.8648,
             "full_width_half_max": 0.033,
             "gsd": 20,
             "name": "B8A"
            },
            {
             "center_wavelength": 0.945,
             "full_width_half_max": 0.026,
             "gsd": 60,
             "name": "B09"
            },
            {
             "center_wavelength": 0.13735,
             "common_name": "cirrus",
             "full_width_half_max": 0.075,
             "gsd": 60,
             "name": "B10"
            },
            {
             "center_wavelength": 0.16137,
             "common_name": "swir16",
             "full_width_half_max": 0.075,
             "gsd": 20,
             "name": "B11"
            },
            {
             "center_wavelength": 0.22024,
             "common_name": "swir22",
             "full_width_half_max": 0.242,
             "gsd": 20,
             "name": "B12"
            }
           ],
           "cloudCover": 2.3704,
           "completionTimeFromAscendingNode": "2021-01-14T10:33:09.024000+00:00",
           "contentDescription": {
            "cloudCoverPercentage": 2.3704
           },
           "creationDate": "2021-01-14T14:35:24.978000+00:00",
           "downloadLink": "https://sobloo.eu/api/v1/services/download/4ffaa457-63da-4206-aa3d-28fed0876b47",
           "enrichment": {
            "geonames": [
             {
              "name": "France",
              "states": [
               {
                "counties": [
                 {
                  "cities": [
                   {
                    "name": "Avignon"
                   },
                   {
                    "name": "Carpentras"
                   },
                   {
                    "name": "Apt"
                   }
                  ],
                  "name": "Vaucluse",
                  "villages": [
                   {
                    "name": "Lacoste"
                   },
                   {
                    "name": "Saint-Pierre-de-Vassols"
                   },
                   {
                    "name": "Jonquerettes"
                   },
                   {
                    "name": "Monieux"
                   },
                   {
                    "name": "Le Barroux"
                   },
                   {
                    "name": "Vaison-la-Romaine"
                   },
                   {
                    "name": "Saint-Christol"
                   },
                   {
                    "name": "Blauvac"
                   },
                   {
                    "name": "Vitrolles-en-Luberon"
                   },
                   {
                    "name": "Orange"
                   },
                   {
                    "name": "Lourmarin"
                   },
                   {
                    "name": "Mirabeau"
                   },
                   {
                    "name": "Gigondas"
                   },
                   {
                    "name": "Châteauneuf-du-Pape"
                   },
                   {
                    "name": "Malaucène"
                   },
                   {
                    "name": "Cheval-Blanc"
                   },
                   {
                    "name": "Courthézon"
                   },
                   {
                    "name": "Méthamis"
                   },
                   {
                    "name": "Cairanne"
                   },
                   {
                    "name": "Sannes"
                   },
                   {
                    "name": "Ansouis"
                   },
                   {
                    "name": "Sablet"
                   },
                   {
                    "name": "Saignon"
                   },
                   {
                    "name": "Bédoin"
                   },
                   {
                    "name": "Bonnieux"
                   },
                   {
                    "name": "Saint-Pantaléon"
                   },
                   {
                    "name": "Morières-lès-Avignon"
                   },
                   {
                    "name": "Saint-Didier"
                   },
                   {
                    "name": "Monteux"
                   },
                   {
                    "name": "Gordes"
                   },
                   {
                    "name": "Aurel"
                   },
                   {
                    "name": "Mormoiron"
                   },
                   {
                    "name": "La Motte-d'Aigues"
                   },
                   {
                    "name": "Viens"
                   }
                  ]
                 },
                 {
                  "cities": [
                   {
                    "name": "Istres"
                   },
                   {
                    "name": "Arles"
                   },
                   {
                    "name": "Aix-en-Provence"
                   },
                   {
                    "name": "Marseille"
                   }
                  ],
                  "name": "Bouches-du-Rhône",
                  "villages": [
                   {
                    "name": "Le Rove"
                   },
                   {
                    "name": "Sausset-les-Pins"
                   },
                   {
                    "name": "Mouriès"
                   },
                   {
                    "name": "Fos-sur-Mer"
                   },
                   {
                    "name": "Saint-Andiol"
                   },
                   {
                    "name": "La Penne-sur-Huveaune"
                   },
                   {
                    "name": "Vauvenargues"
                   },
                   {
                    "name": "Fuveau"
                   },
                   {
                    "name": "Vitrolles"
                   },
                   {
                    "name": "Saintes-Maries-de-la-Mer"
                   },
                   {
                    "name": "Les Pennes-Mirabeau"
                   },
                   {
                    "name": "Charleval"
                   },
                   {
                    "name": "La Bouilladisse"
                   },
                   {
                    "name": "Marignane"
                   },
                   {
                    "name": "Meyreuil"
                   },
                   {
                    "name": "Saint-Chamas"
                   },
                   {
                    "name": "Vernègues"
                   },
                   {
                    "name": "Martigues"
                   },
                   {
                    "name": "Fontvieille"
                   }
                  ]
                 },
                 {
                  "cities": [
                   {
                    "name": "Forcalquier"
                   }
                  ],
                  "name": "Alpes-de-Haute-Provence",
                  "villages": [
                   {
                    "name": "Reillanne"
                   },
                   {
                    "name": "Montsalier"
                   },
                   {
                    "name": "Revest-du-Bion"
                   }
                  ]
                 }
                ],
                "name": "Provence-Alpes-Côte d'Azur"
               },
               {
                "counties": [
                 {
                  "cities": [
                   {
                    "name": "Nimes"
                   },
                   {
                    "name": "Alès"
                   }
                  ],
                  "name": "Gard",
                  "villages": [
                   {
                    "name": "Saint-Chaptes"
                   },
                   {
                    "name": "Saint-Siffret"
                   },
                   {
                    "name": "Milhaud"
                   },
                   {
                    "name": "Chusclan"
                   },
                   {
                    "name": "Marguerittes"
                   },
                   {
                    "name": "Fourques"
                   },
                   {
                    "name": "Bernis"
                   },
                   {
                    "name": "Roquemaure"
                   },
                   {
                    "name": "Blauzac"
                   },
                   {
                    "name": "Générac"
                   },
                   {
                    "name": "Pouzilhac"
                   },
                   {
                    "name": "Arpaillargues-et-Aureillac"
                   },
                   {
                    "name": "Meynes"
                   },
                   {
                    "name": "Fournès"
                   },
                   {
                    "name": "Codolet"
                   },
                   {
                    "name": "Poulx"
                   },
                   {
                    "name": "Montclus"
                   },
                   {
                    "name": "La Bastide-d'Engras"
                   },
                   {
                    "name": "Foissac"
                   },
                   {
                    "name": "La Calmette"
                   },
                   {
                    "name": "Baron"
                   },
                   {
                    "name": "Remoulins"
                   },
                   {
                    "name": "Bourdic"
                   }
                  ]
                 }
                ],
                "name": "Occitanie"
               },
               {
                "counties": [
                 {
                  "cities": [
                   {
                    "name": "Nyons"
                   }
                  ],
                  "name": "Drôme",
                  "villages": [
                   {
                    "name": "Rochegude"
                   }
                  ]
                 }
                ],
                "name": "Auvergne-Rhône-Alpes"
               }
              ]
             }
            ],
            "naturallanguage": {
             "search_cloud_string": "cloud:partly_cloudy",
             "search_date_string": "2021 January 14 10: 10:33 10:33:09",
             "search_incidence_angle_string": "incidence:?",
             "search_quality_string": "quality:?"
            }
           },
           "eodag_product_type": "S2_MSI_L1C",
           "eodag_provider": "sobloo",
           "eodag_search_intersection": {
            "coordinates": [
             [
              [
               4.570313,
               43.25251111644161
              ],
              [
               4.232032700041831,
               43.25815531909012
              ],
              [
               4.247327931178226,
               43.99747515974248
              ],
              [
               4.266610173805343,
               44.055103973884506
              ],
              [
               4.316011805469967,
               44.20181302229955
              ],
              [
               4.330420449782306,
               44.24522707449112
              ],
              [
               4.570313,
               44.24115232490633
              ],
              [
               4.570313,
               43.25251111644161
              ]
             ]
            ],
            "type": "Polygon"
           },
           "identification": {
            "collection": "Sentinel-2",
            "dataset": {},
            "externalId": "S2B_MSIL1C_20210114T103309_N0209_R108_T31TFJ_20210114T114331",
            "hvTileId": "TJ31F",
            "profile": "Image",
            "tileId": "31TFJ",
            "type": "S2MSI1C"
           },
           "illumination": {},
           "instrument": "MSI",
           "license": "proprietary",
           "missionStartDate": "2015-06-23T00:00:00Z",
           "orbit": {
            "direction": "DESCENDING",
            "number": 20154,
            "relativeNumber": 108
           },
           "orbitDirection": "DESCENDING",
           "orbitNumber": 20154,
           "platform": "Sentinel-2",
           "platformSerialIdentifier": "S2B",
           "processingLevel": "Level-1C",
           "productType": "S2MSI1C",
           "production": {
            "baseline": "02.09",
            "levelCode": "Level-1C",
            "ongoing": false
           },
           "provider": {},
           "quality": {
            "qualified": false
           },
           "quicklook": "https://sobloo.eu/api/v1/services/quicklook/4ffaa457-63da-4206-aa3d-28fed0876b47",
           "sensorMode": "INS-NOBS",
           "sensorType": "OPTICAL",
           "spatialCoverage": {
            "geometry": {
             "centerPoint": {
              "lat": 43.73917495824649,
              "lon": 4.928439181645969
             },
             "geographicBoundingPolygon": {
              "coordinates": [
               [
                [
                 5.583808279580875,
                 43.235600960154144
                ],
                [
                 5.62664597371116,
                 44.22320974043625
                ],
                [
                 4.330420449782306,
                 44.24522707449112
                ],
                [
                 4.316011805469967,
                 44.20181302229955
                ],
                [
                 4.266610173805343,
                 44.055103973884506
                ],
                [
                 4.247327931178226,
                 43.99747515974248
                ],
                [
                 4.232032700041831,
                 43.25815531909012
                ],
                [
                 5.583808279580875,
                 43.235600960154144
                ]
               ]
              ],
              "type": "Polygon"
             },
             "global": false
            },
            "verticality": {}
           },
           "startTimeFromAscendingNode": "2021-01-14T10:33:09.024000+00:00",
           "state": {
            "insertionDate": 1610634924978,
            "resources": {
             "quicklook": true,
             "thumbnail": true
            },
            "services": {
             "download": "internal",
             "wcs": false,
             "wms": false,
             "wmts": false
            }
           },
           "storageStatus": "ONLINE",
           "target": {},
           "timeStamp": 1610620389024,
           "title": "S2B_MSIL1C_20210114T103309_N0209_R108_T31TFJ_20210114T114331",
           "transmission": {},
           "uid": "4ffaa457-63da-4206-aa3d-28fed0876b47",
           "visibility": {
            "deleted": false
           }
          },
          "type": "Feature"
         },
         {
          "geometry": {
           "coordinates": [
            [
             [
              -0.3772583,
              44.135250725162805
             ],
             [
              -0.33236694,
              45.122671880514964
             ],
             [
              -1.7279663,
              45.14675285555784
             ],
             [
              -1.7493896,
              44.158520786393645
             ],
             [
              -0.3772583,
              44.135250725162805
             ]
            ]
           ],
           "type": "Polygon"
          },
          "id": "S2A_MSIL1C_20210108T110431_N0209_R094_T30TXQ_20210108T131314",
          "properties": {
           "abstract": "The Level-1C product is composed of 100x100 km2 tiles (ortho-images in UTM/WGS84 projection). It results from\nusing a Digital Elevation Model (DEM) to project the image in cartographic geometry. Per-pixel radiometric\nmeasurements are provided in Top Of Atmosphere (TOA) reflectances along with the parameters to transform them\ninto radiances. Level-1C products are resampled with a constant Ground Sampling Distance (GSD) of 10, 20 and 60\nmeters depending on the native resolution of the different spectral bands. In Level-1C  products, pixel\ncoordinates refer to the upper left corner of the pixel. Level-1C products will additionally include Cloud Masks\nand ECMWF data (total column of ozone, total column of water vapour and mean sea level pressure).\n",
           "acquisition": {
            "beginViewingDate": 1610103871024,
            "centerViewingDate": 1610103871024,
            "endViewingDate": 1610103871024,
            "mission": "Sentinel-2",
            "missionCode": "S2A",
            "missionId": "A",
            "missionName": "Sentinel-2A",
            "sensorId": "MSI",
            "sensorMode": "INS-NOBS"
           },
           "archive": {
            "filename": "S2A_MSIL1C_20210108T110431_N0209_R094_T30TXQ_20210108T131314.SAFE",
            "format": "SAFE",
            "offLine": false,
            "onLine": false,
            "size": 738
           },
           "attachments": [],
           "attitude": {},
           "bands": [
            {
             "center_wavelength": 0.4439,
             "common_name": "coastal",
             "full_width_half_max": 0.027,
             "gsd": 60,
             "name": "B01"
            },
            {
             "center_wavelength": 0.4966,
             "common_name": "blue",
             "full_width_half_max": 0.098,
             "gsd": 10,
             "name": "B02"
            },
            {
             "center_wavelength": 0.56,
             "common_name": "green",
             "full_width_half_max": 0.045,
             "gsd": 10,
             "name": "B03"
            },
            {
             "center_wavelength": 0.6645,
             "common_name": "red",
             "full_width_half_max": 0.038,
             "gsd": 10,
             "name": "B04"
            },
            {
             "center_wavelength": 0.7039,
             "full_width_half_max": 0.019,
             "gsd": 20,
             "name": "B05"
            },
            {
             "center_wavelength": 0.7402,
             "full_width_half_max": 0.018,
             "gsd": 20,
             "name": "B06"
            },
            {
             "center_wavelength": 0.7825,
             "full_width_half_max": 0.028,
             "gsd": 20,
             "name": "B07"
            },
            {
             "center_wavelength": 0.8351,
             "common_name": "nir",
             "full_width_half_max": 0.145,
             "gsd": 10,
             "name": "B08"
            },
            {
             "center_wavelength": 0.8648,
             "full_width_half_max": 0.033,
             "gsd": 20,
             "name": "B8A"
            },
            {
             "center_wavelength": 0.945,
             "full_width_half_max": 0.026,
             "gsd": 60,
             "name": "B09"
            },
            {
             "center_wavelength": 0.13735,
             "common_name": "cirrus",
             "full_width_half_max": 0.075,
             "gsd": 60,
             "name": "B10"
            },
            {
             "center_wavelength": 0.16137,
             "common_name": "swir16",
             "full_width_half_max": 0.075,
             "gsd": 20,
             "name": "B11"
            },
            {
             "center_wavelength": 0.22024,
             "common_name": "swir22",
             "full_width_half_max": 0.242,
             "gsd": 20,
             "name": "B12"
            }
           ],
           "cloudCover": 1.8243,
           "completionTimeFromAscendingNode": "2021-01-08T11:04:31.024000+00:00",
           "contentDescription": {
            "cloudCoverPercentage": 1.8243
           },
           "creationDate": "2021-01-08T15:23:11.395000+00:00",
           "downloadLink": "https://sobloo.eu/api/v1/services/download/65571ffd-484b-4e26-838b-eb6b284ccf3f",
           "enrichment": {
            "geonames": [
             {
              "name": "France",
              "states": [
               {
                "counties": [
                 {
                  "cities": [
                   {
                    "name": "Blaye"
                   },
                   {
                    "name": "Libourne"
                   },
                   {
                    "name": "Langon"
                   },
                   {
                    "name": "Lesparre-Médoc"
                   },
                   {
                    "name": "Arcachon"
                   },
                   {
                    "name": "Bordeaux"
                   }
                  ],
                  "name": "Gironde",
                  "villages": [
                   {
                    "name": "Gauriaguet"
                   },
                   {
                    "name": "Sauternes"
                   },
                   {
                    "name": "Le Barp"
                   },
                   {
                    "name": "Saint-Jean-d'Illac"
                   },
                   {
                    "name": "Cubzac-les-Ponts"
                   },
                   {
                    "name": "Saint-Magne"
                   },
                   {
                    "name": "Vayres"
                   },
                   {
                    "name": "Le Temple"
                   },
                   {
                    "name": "Saint-Vincent-de-Paul"
                   },
                   {
                    "name": "Cabanac-et-Villagrains"
                   },
                   {
                    "name": "Périssac"
                   },
                   {
                    "name": "Louchats"
                   },
                   {
                    "name": "Castelnau-de-Médoc"
                   },
                   {
                    "name": "Saint-Laurent-d'Arce"
                   },
                   {
                    "name": "Saint-Vivien-de-Blaye"
                   },
                   {
                    "name": "Gauriac"
                   },
                   {
                    "name": "Bonnetan"
                   },
                   {
                    "name": "Tizac-de-Lapouyade"
                   },
                   {
                    "name": "Lugon-et-l'Île-du-Carnay"
                   },
                   {
                    "name": "Samonac"
                   },
                   {
                    "name": "Macau"
                   },
                   {
                    "name": "Saint-Mariens"
                   },
                   {
                    "name": "Plassac"
                   },
                   {
                    "name": "Saint-Trojan"
                   },
                   {
                    "name": "Saint-Seurin-de-Bourg"
                   },
                   {
                    "name": "Mombrier"
                   },
                   {
                    "name": "Pessac"
                   },
                   {
                    "name": "Eysines"
                   },
                   {
                    "name": "Avensan"
                   },
                   {
                    "name": "Moulis-en-Médoc"
                   },
                   {
                    "name": "Noaillan"
                   },
                   {
                    "name": "Portets"
                   },
                   {
                    "name": "La Teste-de-Buch"
                   },
                   {
                    "name": "Cavignac"
                   },
                   {
                    "name": "Salles"
                   },
                   {
                    "name": "Lestiac-sur-Garonne"
                   },
                   {
                    "name": "Saint-Genès-de-Fronsac"
                   },
                   {
                    "name": "Listrac-Médoc"
                   },
                   {
                    "name": "Lanton"
                   },
                   {
                    "name": "Sainte-Eulalie"
                   },
                   {
                    "name": "Budos"
                   },
                   {
                    "name": "Ludon-Médoc"
                   },
                   {
                    "name": "Bègles"
                   },
                   {
                    "name": "Blanquefort"
                   },
                   {
                    "name": "Arès"
                   },
                   {
                    "name": "Camblanes-et-Meynac"
                   },
                   {
                    "name": "Préchac"
                   },
                   {
                    "name": "Saint-Léger-de-Balson"
                   },
                   {
                    "name": "Pompignac"
                   },
                   {
                    "name": "Landiras"
                   },
                   {
                    "name": "Audenge"
                   },
                   {
                    "name": "Saint-Morillon"
                   },
                   {
                    "name": "Mios"
                   },
                   {
                    "name": "Saint-Savin"
                   },
                   {
                    "name": "Peujard"
                   },
                   {
                    "name": "Comps"
                   },
                   {
                    "name": "Le Bouscat"
                   },
                   {
                    "name": "Labarde"
                   },
                   {
                    "name": "Saint-Aubin-de-Médoc"
                   },
                   {
                    "name": "Martignas-sur-Jalle"
                   },
                   {
                    "name": "Cénac"
                   },
                   {
                    "name": "Balizac"
                   },
                   {
                    "name": "Saint-Gervais"
                   },
                   {
                    "name": "Saint-Romain-la-Virvée"
                   },
                   {
                    "name": "Prignac-et-Marcamps"
                   },
                   {
                    "name": "Guillos"
                   },
                   {
                    "name": "Belin-Béliet"
                   },
                   {
                    "name": "Saint-Médard-d'Eyrans"
                   },
                   {
                    "name": "Le Pian-Médoc"
                   },
                   {
                    "name": "Pugnac"
                   },
                   {
                    "name": "Bommes"
                   },
                   {
                    "name": "Cantenac"
                   },
                   {
                    "name": "Gujan-Mestras"
                   },
                   {
                    "name": "Cars"
                   },
                   {
                    "name": "Sadirac"
                   },
                   {
                    "name": "Cubnezais"
                   },
                   {
                    "name": "Uzeste"
                   },
                   {
                    "name": "Mérignac"
                   }
                  ]
                 },
                 {
                  "cities": [
                   {
                    "name": "Mont-de-Marsan"
                   }
                  ],
                  "name": "Landes",
                  "villages": [
                   {
                    "name": "Labouheyre"
                   },
                   {
                    "name": "Solférino"
                   },
                   {
                    "name": "Mimizan"
                   },
                   {
                    "name": "Trensacq"
                   },
                   {
                    "name": "Saugnacq-et-Muret"
                   },
                   {
                    "name": "Luxey"
                   },
                   {
                    "name": "Lüe"
                   },
                   {
                    "name": "Callen"
                   },
                   {
                    "name": "Saint-Paul-en-Born"
                   },
                   {
                    "name": "Labrit"
                   },
                   {
                    "name": "Sore"
                   }
                  ]
                 }
                ],
                "name": "Nouvelle-Aquitaine"
               }
              ]
             }
            ],
            "naturallanguage": {
             "search_cloud_string": "cloud:partly_cloudy",
             "search_date_string": "2021 January 08 11: 11:04 11:04:31",
             "search_incidence_angle_string": "incidence:?",
             "search_quality_string": "quality:?"
            }
           },
           "eodag_product_type": "S2_MSI_L1C",
           "eodag_provider": "sobloo",
           "eodag_search_intersection": {
            "coordinates": [
             [
              [
               -0.3772583,
               44.135250725162805
              ],
              [
               -1.7493896,
               44.158520786393645
              ],
              [
               -1.7279663,
               45.14675285555784
              ],
              [
               -0.33236694,
               45.122671880514964
              ],
              [
               -0.3772583,
               44.135250725162805
              ]
             ]
            ],
            "type": "Polygon"
           },
           "identification": {
            "collection": "Sentinel-2",
            "dataset": {},
            "externalId": "S2A_MSIL1C_20210108T110431_N0209_R094_T30TXQ_20210108T131314",
            "hvTileId": "TQ30X",
            "profile": "Image",
            "tileId": "30TXQ",
            "type": "S2MSI1C"
           },
           "illumination": {},
           "instrument": "MSI",
           "license": "proprietary",
           "missionStartDate": "2015-06-23T00:00:00Z",
           "orbit": {
            "direction": "DESCENDING",
            "number": 28977,
            "relativeNumber": 94
           },
           "orbitDirection": "DESCENDING",
           "orbitNumber": 28977,
           "platform": "Sentinel-2",
           "platformSerialIdentifier": "S2A",
           "processingLevel": "Level-1C",
           "productType": "S2MSI1C",
           "production": {
            "baseline": "02.09",
            "levelCode": "Level-1C",
            "ongoing": false
           },
           "provider": {},
           "quality": {
            "qualified": false
           },
           "quicklook": "https://sobloo.eu/api/v1/services/quicklook/65571ffd-484b-4e26-838b-eb6b284ccf3f",
           "sensorMode": "INS-NOBS",
           "sensorType": "OPTICAL",
           "spatialCoverage": {
            "geometry": {
             "centerPoint": {
              "lat": 44.64219668785285,
              "lon": -1.0467461689686957
             },
             "geographicBoundingPolygon": {
              "coordinates": [
               [
                [
                 -0.3772583,
                 44.135250725162805
                ],
                [
                 -0.33236694,
                 45.122671880514964
                ],
                [
                 -1.7279663,
                 45.14675285555784
                ],
                [
                 -1.7493896,
                 44.158520786393645
                ],
                [
                 -0.3772583,
                 44.135250725162805
                ]
               ]
              ],
              "type": "Polygon"
             },
             "global": false
            },
            "verticality": {}
           },
           "startTimeFromAscendingNode": "2021-01-08T11:04:31.024000+00:00",
           "state": {
            "insertionDate": 1610119391395,
            "resources": {
             "quicklook": true,
             "thumbnail": true
            },
            "services": {
             "download": "internal",
             "wcs": false,
             "wms": false,
             "wmts": false
            }
           },
           "storageStatus": "ONLINE",
           "target": {},
           "timeStamp": 1610103871024,
           "title": "S2A_MSIL1C_20210108T110431_N0209_R094_T30TXQ_20210108T131314",
           "transmission": {},
           "uid": "65571ffd-484b-4e26-838b-eb6b284ccf3f",
           "visibility": {
            "deleted": false
           }
          },
          "type": "Feature"
         },
         {
          "geometry": {
           "coordinates": [
            [
             [
              -1.6271057,
              44.157116557384406
             ],
             [
              -1.6035767,
              45.145299673094094
             ],
             [
              -2.9217834,
              45.15335752146897
             ],
             [
              -2.9689026,
              45.01465803164295
             ],
             [
              -3.0002441,
              44.92171339932068
             ],
             [
              -3.0002441,
              44.16536649550738
             ],
             [
              -1.6271057,
              44.157116557384406
             ]
            ]
           ],
           "type": "Polygon"
          },
          "id": "S2A_MSIL1C_20210108T110431_N0209_R094_T30TWQ_20210108T131314",
          "properties": {
           "abstract": "The Level-1C product is composed of 100x100 km2 tiles (ortho-images in UTM/WGS84 projection). It results from\nusing a Digital Elevation Model (DEM) to project the image in cartographic geometry. Per-pixel radiometric\nmeasurements are provided in Top Of Atmosphere (TOA) reflectances along with the parameters to transform them\ninto radiances. Level-1C products are resampled with a constant Ground Sampling Distance (GSD) of 10, 20 and 60\nmeters depending on the native resolution of the different spectral bands. In Level-1C  products, pixel\ncoordinates refer to the upper left corner of the pixel. Level-1C products will additionally include Cloud Masks\nand ECMWF data (total column of ozone, total column of water vapour and mean sea level pressure).\n",
           "acquisition": {
            "beginViewingDate": 1610103871024,
            "centerViewingDate": 1610103871024,
            "endViewingDate": 1610103871024,
            "mission": "Sentinel-2",
            "missionCode": "S2A",
            "missionId": "A",
            "missionName": "Sentinel-2A",
            "sensorId": "MSI",
            "sensorMode": "INS-NOBS"
           },
           "archive": {
            "filename": "S2A_MSIL1C_20210108T110431_N0209_R094_T30TWQ_20210108T131314.SAFE",
            "format": "SAFE",
            "offLine": false,
            "onLine": false,
            "size": 705
           },
           "attachments": [],
           "attitude": {},
           "bands": [
            {
             "center_wavelength": 0.4439,
             "common_name": "coastal",
             "full_width_half_max": 0.027,
             "gsd": 60,
             "name": "B01"
            },
            {
             "center_wavelength": 0.4966,
             "common_name": "blue",
             "full_width_half_max": 0.098,
             "gsd": 10,
             "name": "B02"
            },
            {
             "center_wavelength": 0.56,
             "common_name": "green",
             "full_width_half_max": 0.045,
             "gsd": 10,
             "name": "B03"
            },
            {
             "center_wavelength": 0.6645,
             "common_name": "red",
             "full_width_half_max": 0.038,
             "gsd": 10,
             "name": "B04"
            },
            {
             "center_wavelength": 0.7039,
             "full_width_half_max": 0.019,
             "gsd": 20,
             "name": "B05"
            },
            {
             "center_wavelength": 0.7402,
             "full_width_half_max": 0.018,
             "gsd": 20,
             "name": "B06"
            },
            {
             "center_wavelength": 0.7825,
             "full_width_half_max": 0.028,
             "gsd": 20,
             "name": "B07"
            },
            {
             "center_wavelength": 0.8351,
             "common_name": "nir",
             "full_width_half_max": 0.145,
             "gsd": 10,
             "name": "B08"
            },
            {
             "center_wavelength": 0.8648,
             "full_width_half_max": 0.033,
             "gsd": 20,
             "name": "B8A"
            },
            {
             "center_wavelength": 0.945,
             "full_width_half_max": 0.026,
             "gsd": 60,
             "name": "B09"
            },
            {
             "center_wavelength": 0.13735,
             "common_name": "cirrus",
             "full_width_half_max": 0.075,
             "gsd": 60,
             "name": "B10"
            },
            {
             "center_wavelength": 0.16137,
             "common_name": "swir16",
             "full_width_half_max": 0.075,
             "gsd": 20,
             "name": "B11"
            },
            {
             "center_wavelength": 0.22024,
             "common_name": "swir22",
             "full_width_half_max": 0.242,
             "gsd": 20,
             "name": "B12"
            }
           ],
           "cloudCover": 8.199,
           "completionTimeFromAscendingNode": "2021-01-08T11:04:31.024000+00:00",
           "contentDescription": {
            "cloudCoverPercentage": 8.199
           },
           "creationDate": "2021-01-08T15:23:28.460000+00:00",
           "downloadLink": "https://sobloo.eu/api/v1/services/download/125f4128-5287-47a9-975a-1233d671a42a",
           "enrichment": {
            "naturallanguage": {
             "search_cloud_string": "cloud:partly_cloudy",
             "search_date_string": "2021 January 08 11: 11:04 11:04:31",
             "search_incidence_angle_string": "incidence:?",
             "search_quality_string": "quality:?"
            }
           },
           "eodag_product_type": "S2_MSI_L1C",
           "eodag_provider": "sobloo",
           "eodag_search_intersection": {
            "coordinates": [
             [
              [
               -1.999512,
               45.147719920702954
              ],
              [
               -1.6035767,
               45.145299673094094
              ],
              [
               -1.6271057,
               44.157116557384406
              ],
              [
               -1.999512,
               44.1593540076892
              ],
              [
               -1.999512,
               45.147719920702954
              ]
             ]
            ],
            "type": "Polygon"
           },
           "identification": {
            "collection": "Sentinel-2",
            "dataset": {},
            "externalId": "S2A_MSIL1C_20210108T110431_N0209_R094_T30TWQ_20210108T131314",
            "hvTileId": "TQ30W",
            "profile": "Image",
            "tileId": "30TWQ",
            "type": "S2MSI1C"
           },
           "illumination": {},
           "instrument": "MSI",
           "license": "proprietary",
           "missionStartDate": "2015-06-23T00:00:00Z",
           "orbit": {
            "direction": "DESCENDING",
            "number": 28977,
            "relativeNumber": 94
           },
           "orbitDirection": "DESCENDING",
           "orbitNumber": 28977,
           "platform": "Sentinel-2",
           "platformSerialIdentifier": "S2A",
           "processingLevel": "Level-1C",
           "productType": "S2MSI1C",
           "production": {
            "baseline": "02.09",
            "levelCode": "Level-1C",
            "ongoing": false
           },
           "provider": {},
           "quality": {
            "qualified": false
           },
           "quicklook": "https://sobloo.eu/api/v1/services/quicklook/125f4128-5287-47a9-975a-1233d671a42a",
           "sensorMode": "INS-NOBS",
           "sensorType": "OPTICAL",
           "spatialCoverage": {
            "geometry": {
             "centerPoint": {
              "lat": 44.653999490151165,
              "lon": -2.3033384989642607
             },
             "geographicBoundingPolygon": {
              "coordinates": [
               [
                [
                 -1.6271057,
                 44.157116557384406
                ],
                [
                 -1.6035767,
                 45.145299673094094
                ],
                [
                 -2.9217834,
                 45.15335752146897
                ],
                [
                 -2.9689026,
                 45.01465803164295
                ],
                [
                 -3.0002441,
                 44.92171339932068
                ],
                [
                 -3.0002441,
                 44.16536649550738
                ],
                [
                 -1.6271057,
                 44.157116557384406
                ]
               ]
              ],
              "type": "Polygon"
             },
             "global": false
            },
            "verticality": {}
           },
           "startTimeFromAscendingNode": "2021-01-08T11:04:31.024000+00:00",
           "state": {
            "insertionDate": 1610119408460,
            "resources": {
             "quicklook": true,
             "thumbnail": true
            },
            "services": {
             "download": "internal",
             "wcs": false,
             "wms": false,
             "wmts": false
            }
           },
           "storageStatus": "ONLINE",
           "target": {},
           "timeStamp": 1610103871024,
           "title": "S2A_MSIL1C_20210108T110431_N0209_R094_T30TWQ_20210108T131314",
           "transmission": {},
           "uid": "125f4128-5287-47a9-975a-1233d671a42a",
           "visibility": {
            "deleted": false
           }
          },
          "type": "Feature"
         },
         {
          "geometry": {
           "coordinates": [
            [
             [
              -1.5833435,
              45.956769859075806
             ],
             [
              -1.5574951,
              46.94462144140276
             ],
             [
              -2.295105,
              46.949267607052825
             ],
             [
              -2.3055725,
              46.9202459366
             ],
             [
              -2.357727,
              46.773771781315766
             ],
             [
              -2.4093628,
              46.62737361181405
             ],
             [
              -2.460907,
              46.48092444357568
             ],
             [
              -2.5124207,
              46.334447241932
             ],
             [
              -2.5638733,
              46.18793713965661
             ],
             [
              -2.6149597,
              46.04143030451786
             ],
             [
              -2.6419983,
              45.963330799678936
             ],
             [
              -1.5833435,
              45.956769859075806
             ]
            ]
           ],
           "type": "Polygon"
          },
          "id": "S2A_MSIL1C_20210108T110431_N0209_R094_T30TWS_20210108T131314",
          "properties": {
           "abstract": "The Level-1C product is composed of 100x100 km2 tiles (ortho-images in UTM/WGS84 projection). It results from\nusing a Digital Elevation Model (DEM) to project the image in cartographic geometry. Per-pixel radiometric\nmeasurements are provided in Top Of Atmosphere (TOA) reflectances along with the parameters to transform them\ninto radiances. Level-1C products are resampled with a constant Ground Sampling Distance (GSD) of 10, 20 and 60\nmeters depending on the native resolution of the different spectral bands. In Level-1C  products, pixel\ncoordinates refer to the upper left corner of the pixel. Level-1C products will additionally include Cloud Masks\nand ECMWF data (total column of ozone, total column of water vapour and mean sea level pressure).\n",
           "acquisition": {
            "beginViewingDate": 1610103871024,
            "centerViewingDate": 1610103871024,
            "endViewingDate": 1610103871024,
            "mission": "Sentinel-2",
            "missionCode": "S2A",
            "missionId": "A",
            "missionName": "Sentinel-2A",
            "sensorId": "MSI",
            "sensorMode": "INS-NOBS"
           },
           "archive": {
            "filename": "S2A_MSIL1C_20210108T110431_N0209_R094_T30TWS_20210108T131314.SAFE",
            "format": "SAFE",
            "offLine": false,
            "onLine": false,
            "size": 490
           },
           "attachments": [],
           "attitude": {},
           "bands": [
            {
             "center_wavelength": 0.4439,
             "common_name": "coastal",
             "full_width_half_max": 0.027,
             "gsd": 60,
             "name": "B01"
            },
            {
             "center_wavelength": 0.4966,
             "common_name": "blue",
             "full_width_half_max": 0.098,
             "gsd": 10,
             "name": "B02"
            },
            {
             "center_wavelength": 0.56,
             "common_name": "green",
             "full_width_half_max": 0.045,
             "gsd": 10,
             "name": "B03"
            },
            {
             "center_wavelength": 0.6645,
             "common_name": "red",
             "full_width_half_max": 0.038,
             "gsd": 10,
             "name": "B04"
            },
            {
             "center_wavelength": 0.7039,
             "full_width_half_max": 0.019,
             "gsd": 20,
             "name": "B05"
            },
            {
             "center_wavelength": 0.7402,
             "full_width_half_max": 0.018,
             "gsd": 20,
             "name": "B06"
            },
            {
             "center_wavelength": 0.7825,
             "full_width_half_max": 0.028,
             "gsd": 20,
             "name": "B07"
            },
            {
             "center_wavelength": 0.8351,
             "common_name": "nir",
             "full_width_half_max": 0.145,
             "gsd": 10,
             "name": "B08"
            },
            {
             "center_wavelength": 0.8648,
             "full_width_half_max": 0.033,
             "gsd": 20,
             "name": "B8A"
            },
            {
             "center_wavelength": 0.945,
             "full_width_half_max": 0.026,
             "gsd": 60,
             "name": "B09"
            },
            {
             "center_wavelength": 0.13735,
             "common_name": "cirrus",
             "full_width_half_max": 0.075,
             "gsd": 60,
             "name": "B10"
            },
            {
             "center_wavelength": 0.16137,
             "common_name": "swir16",
             "full_width_half_max": 0.075,
             "gsd": 20,
             "name": "B11"
            },
            {
             "center_wavelength": 0.22024,
             "common_name": "swir22",
             "full_width_half_max": 0.242,
             "gsd": 20,
             "name": "B12"
            }
           ],
           "cloudCover": 3.5412,
           "completionTimeFromAscendingNode": "2021-01-08T11:04:31.024000+00:00",
           "contentDescription": {
            "cloudCoverPercentage": 3.5412
           },
           "creationDate": "2021-01-08T15:23:06.165000+00:00",
           "downloadLink": "https://sobloo.eu/api/v1/services/download/cd5d8b87-6963-45c5-b6aa-322cd537e5e0",
           "enrichment": {
            "geonames": [
             {
              "name": "France",
              "states": [
               {
                "counties": [
                 {
                  "cities": [
                   {
                    "name": "Nantes"
                   }
                  ],
                  "name": "Loire-Atlantique",
                  "villages": [
                   {
                    "name": "Paulx"
                   },
                   {
                    "name": "Saint-Étienne-de-Mer-Morte"
                   },
                   {
                    "name": "Corcoué-sur-Logne"
                   },
                   {
                    "name": "Touvois"
                   },
                   {
                    "name": "Legé"
                   }
                  ]
                 },
                 {
                  "cities": [
                   {
                    "name": "La Roche-sur-Yon"
                   },
                   {
                    "name": "Les Sables-d'Olonne"
                   }
                  ],
                  "name": "Vendée",
                  "villages": [
                   {
                    "name": "Les Lucs-sur-Boulogne"
                   },
                   {
                    "name": "La Chapelle-Hermier"
                   },
                   {
                    "name": "Sainte-Foy"
                   },
                   {
                    "name": "Les Sables-d'Olonne"
                   },
                   {
                    "name": "Maché"
                   },
                   {
                    "name": "Le Fenouiller"
                   },
                   {
                    "name": "L'Île-d'Olonne"
                   },
                   {
                    "name": "Saint-Paul-Mont-Penit"
                   },
                   {
                    "name": "La Chaize-Giraud"
                   },
                   {
                    "name": "Saint-Étienne-du-Bois"
                   },
                   {
                    "name": "L'Île-d'Yeu"
                   },
                   {
                    "name": "La Chapelle-Achard"
                   },
                   {
                    "name": "Bretignolles-sur-Mer"
                   },
                   {
                    "name": "Saint-Gilles-Croix-de-Vie"
                   },
                   {
                    "name": "Palluau"
                   },
                   {
                    "name": "Saint-Christophe-du-Ligneron"
                   },
                   {
                    "name": "Froidfond"
                   },
                   {
                    "name": "La Garnache"
                   },
                   {
                    "name": "La Chapelle-Palluau"
                   },
                   {
                    "name": "Saint-Révérend"
                   },
                   {
                    "name": "Notre-Dame-de-Monts"
                   },
                   {
                    "name": "La Mothe-Achard"
                   },
                   {
                    "name": "Brem-sur-Mer"
                   },
                   {
                    "name": "Landeronde"
                   },
                   {
                    "name": "Saint-Georges-de-Pointindoux"
                   },
                   {
                    "name": "Bois-de-Céné"
                   },
                   {
                    "name": "L'Aiguillon-sur-Vie"
                   },
                   {
                    "name": "Saint-Urbain"
                   },
                   {
                    "name": "Givrand"
                   },
                   {
                    "name": "Saint-Jean-de-Monts"
                   },
                   {
                    "name": "Saint-Maixent-sur-Vie"
                   },
                   {
                    "name": "Châteauneuf"
                   },
                   {
                    "name": "Grand'Landes"
                   },
                   {
                    "name": "Falleron"
                   },
                   {
                    "name": "Venansault"
                   },
                   {
                    "name": "Saint-Hilaire-de-Riez"
                   },
                   {
                    "name": "Le Perrier"
                   },
                   {
                    "name": "Olonne-sur-Mer"
                   },
                   {
                    "name": "Grosbreuil"
                   },
                   {
                    "name": "Talmont-Saint-Hilaire"
                   },
                   {
                    "name": "Aizenay"
                   },
                   {
                    "name": "Beauvoir-sur-Mer"
                   },
                   {
                    "name": "Bouin"
                   },
                   {
                    "name": "Beaufou"
                   },
                   {
                    "name": "Apremont"
                   },
                   {
                    "name": "Saint-Mathurin"
                   },
                   {
                    "name": "La Barre-de-Monts"
                   },
                   {
                    "name": "Commequiers"
                   },
                   {
                    "name": "Saint-Julien-des-Landes"
                   },
                   {
                    "name": "Notre-Dame-de-Riez"
                   },
                   {
                    "name": "Barbâtre"
                   },
                   {
                    "name": "Vairé"
                   },
                   {
                    "name": "Coëx"
                   },
                   {
                    "name": "Le Girouard"
                   },
                   {
                    "name": "Beaulieu-sous-la-Roche"
                   },
                   {
                    "name": "Challans"
                   },
                   {
                    "name": "Le Poiré-sur-Vie"
                   },
                   {
                    "name": "Soullans"
                   },
                   {
                    "name": "Château-d'Olonne"
                   },
                   {
                    "name": "Saint-Vincent-sur-Jard"
                   },
                   {
                    "name": "Jard-sur-Mer"
                   },
                   {
                    "name": "Saint-Gervais"
                   },
                   {
                    "name": "Landevieille"
                   },
                   {
                    "name": "Poiroux"
                   },
                   {
                    "name": "Sallertaine"
                   },
                   {
                    "name": "Martinet"
                   },
                   {
                    "name": "Sainte-Flaive-des-Loups"
                   }
                  ]
                 }
                ],
                "name": "Pays-de-la-Loire"
               }
              ]
             }
            ],
            "naturallanguage": {
             "search_cloud_string": "cloud:partly_cloudy",
             "search_date_string": "2021 January 08 11: 11:04 11:04:31",
             "search_incidence_angle_string": "incidence:?",
             "search_quality_string": "quality:?"
            }
           },
           "eodag_product_type": "S2_MSI_L1C",
           "eodag_provider": "sobloo",
           "eodag_search_intersection": {
            "coordinates": [
             [
              [
               -1.5624589593194378,
               46.754917
              ],
              [
               -1.5833435,
               45.956769859075806
              ],
              [
               -1.999512,
               45.95934903484622
              ],
              [
               -1.999512,
               46.754917
              ],
              [
               -1.5624589593194378,
               46.754917
              ]
             ]
            ],
            "type": "Polygon"
           },
           "identification": {
            "collection": "Sentinel-2",
            "dataset": {},
            "externalId": "S2A_MSIL1C_20210108T110431_N0209_R094_T30TWS_20210108T131314",
            "hvTileId": "TS30W",
            "profile": "Image",
            "tileId": "30TWS",
            "type": "S2MSI1C"
           },
           "illumination": {},
           "instrument": "MSI",
           "license": "proprietary",
           "missionStartDate": "2015-06-23T00:00:00Z",
           "orbit": {
            "direction": "DESCENDING",
            "number": 28977,
            "relativeNumber": 94
           },
           "orbitDirection": "DESCENDING",
           "orbitNumber": 28977,
           "platform": "Sentinel-2",
           "platformSerialIdentifier": "S2A",
           "processingLevel": "Level-1C",
           "productType": "S2MSI1C",
           "production": {
            "baseline": "02.09",
            "levelCode": "Level-1C",
            "ongoing": false
           },
           "provider": {},
           "quality": {
            "qualified": false
           },
           "quicklook": "https://sobloo.eu/api/v1/services/quicklook/cd5d8b87-6963-45c5-b6aa-322cd537e5e0",
           "sensorMode": "INS-NOBS",
           "sensorType": "OPTICAL",
           "spatialCoverage": {
            "geometry": {
             "centerPoint": {
              "lat": 46.4241365250673,
              "lon": -2.025427907564525
             },
             "geographicBoundingPolygon": {
              "coordinates": [
               [
                [
                 -1.5833435,
                 45.956769859075806
                ],
                [
                 -1.5574951,
                 46.94462144140276
                ],
                [
                 -2.295105,
                 46.949267607052825
                ],
                [
                 -2.3055725,
                 46.9202459366
                ],
                [
                 -2.357727,
                 46.773771781315766
                ],
                [
                 -2.4093628,
                 46.62737361181405
                ],
                [
                 -2.460907,
                 46.48092444357568
                ],
                [
                 -2.5124207,
                 46.334447241932
                ],
                [
                 -2.5638733,
                 46.18793713965661
                ],
                [
                 -2.6149597,
                 46.04143030451786
                ],
                [
                 -2.6419983,
                 45.963330799678936
                ],
                [
                 -1.5833435,
                 45.956769859075806
                ]
               ]
              ],
              "type": "Polygon"
             },
             "global": false
            },
            "verticality": {}
           },
           "startTimeFromAscendingNode": "2021-01-08T11:04:31.024000+00:00",
           "state": {
            "insertionDate": 1610119386165,
            "resources": {
             "quicklook": true,
             "thumbnail": true
            },
            "services": {
             "download": "internal",
             "wcs": false,
             "wms": false,
             "wmts": false
            }
           },
           "storageStatus": "ONLINE",
           "target": {},
           "timeStamp": 1610103871024,
           "title": "S2A_MSIL1C_20210108T110431_N0209_R094_T30TWS_20210108T131314",
           "transmission": {},
           "uid": "cd5d8b87-6963-45c5-b6aa-322cd537e5e0",
           "visibility": {
            "deleted": false
           }
          },
          "type": "Feature"
         }
        ],
        "type": "FeatureCollection"
       },
       "hover_style": {
        "fillColor": "yellow"
       },
       "name": "",
       "options": [],
       "popup": null,
       "popup_max_height": null,
       "popup_max_width": 300,
       "popup_min_width": 50
      }
     },
     "663b934abb3f4fa18e6ff917a1a34db7": {
      "model_module": "@jupyter-widgets/controls",
      "model_module_version": "1.5.0",
      "model_name": "HTMLModel",
      "state": {
       "layout": "IPY_MODEL_ab798d3134ae49c5875e03e91248a4d2",
       "style": "IPY_MODEL_1770e12bacfd4a8994af11f6226be6e3"
      }
     },
     "7abd68836ccf47329be6e10de04c3df6": {
      "model_module": "@jupyter-widgets/controls",
      "model_module_version": "1.5.0",
      "model_name": "DescriptionStyleModel",
      "state": {
       "description_width": ""
      }
     },
     "80b7223589d74e6d887508bbe24f181f": {
      "model_module": "@jupyter-widgets/controls",
      "model_module_version": "1.5.0",
      "model_name": "HTMLModel",
      "state": {
       "layout": "IPY_MODEL_f2c620931c564677a1a4e7c703f9036c",
       "style": "IPY_MODEL_7abd68836ccf47329be6e10de04c3df6",
       "value": " 185M/0.00 [01:58&lt;00:00, 2.23MB/s]"
      }
     },
     "87b8d2c86c3c4a688f955059220896ae": {
      "model_module": "@jupyter-widgets/controls",
      "model_module_version": "1.5.0",
      "model_name": "HTMLModel",
      "state": {
       "layout": "IPY_MODEL_c86a88cf9d9441758475b4b6c711b6f8",
       "style": "IPY_MODEL_b06887a843a54d38b4ba7f4fd934e6d5"
      }
     },
     "8802e8d586a34b52b34fb4ef9fd44da1": {
      "model_module": "jupyter-leaflet",
      "model_module_version": "^0.13.5",
      "model_name": "LeafletMapStyleModel",
      "state": {
       "_model_module_version": "^0.13.5"
      }
     },
     "8e784e20bbc94cf188c8e3fc7c52b478": {
      "model_module": "@jupyter-widgets/base",
      "model_module_version": "1.2.0",
      "model_name": "LayoutModel",
      "state": {
       "width": "100%"
      }
     },
     "9264c0995f654e84a25d48f120bc8327": {
      "model_module": "@jupyter-widgets/controls",
      "model_module_version": "1.5.0",
      "model_name": "FloatProgressModel",
      "state": {
       "bar_style": "info",
       "layout": "IPY_MODEL_cd91a4136a4b4bbeb762a64ac2930aa5",
       "max": 1,
       "style": "IPY_MODEL_c8d861077ce940e785a7a92d0fce29f5",
       "value": 1
      }
     },
     "a7f314e060424dddbad1c23340541b22": {
      "model_module": "jupyter-leaflet",
      "model_module_version": "^0.13.5",
      "model_name": "LeafletMapStyleModel",
      "state": {
       "_model_module_version": "^0.13.5",
       "cursor": "move"
      }
     },
     "a91a4fd6395740a4bccfdf1935901781": {
      "model_module": "@jupyter-widgets/base",
      "model_module_version": "1.2.0",
      "model_name": "LayoutModel",
      "state": {}
     },
     "ab798d3134ae49c5875e03e91248a4d2": {
      "model_module": "@jupyter-widgets/base",
      "model_module_version": "1.2.0",
      "model_name": "LayoutModel",
      "state": {}
     },
     "b06887a843a54d38b4ba7f4fd934e6d5": {
      "model_module": "@jupyter-widgets/controls",
      "model_module_version": "1.5.0",
      "model_name": "DescriptionStyleModel",
      "state": {
       "description_width": ""
      }
     },
     "b7cbad844e14469ea17208668369e117": {
      "model_module": "@jupyter-widgets/base",
      "model_module_version": "1.2.0",
      "model_name": "LayoutModel",
      "state": {}
     },
     "b8095fa468bf476f967f7570e8a15fd8": {
      "model_module": "@jupyter-widgets/controls",
      "model_module_version": "1.5.0",
      "model_name": "DescriptionStyleModel",
      "state": {
       "description_width": ""
      }
     },
     "ba35ba006b244012a7b0f560da27d2b7": {
      "model_module": "@jupyter-widgets/controls",
      "model_module_version": "1.5.0",
      "model_name": "DescriptionStyleModel",
      "state": {
       "description_width": ""
      }
     },
     "c86a88cf9d9441758475b4b6c711b6f8": {
      "model_module": "@jupyter-widgets/base",
      "model_module_version": "1.2.0",
      "model_name": "LayoutModel",
      "state": {}
     },
     "c8d861077ce940e785a7a92d0fce29f5": {
      "model_module": "@jupyter-widgets/controls",
      "model_module_version": "1.5.0",
      "model_name": "ProgressStyleModel",
      "state": {
       "description_width": ""
      }
     },
     "cd91a4136a4b4bbeb762a64ac2930aa5": {
      "model_module": "@jupyter-widgets/base",
      "model_module_version": "1.2.0",
      "model_name": "LayoutModel",
      "state": {
       "width": "20px"
      }
     },
     "dbec899223114ffcabb498a3f3d0562b": {
      "model_module": "jupyter-leaflet",
      "model_module_version": "^0.13.5",
      "model_name": "LeafletMapModel",
      "state": {
       "_model_module_version": "^0.13.5",
       "_view_module_version": "^0.13.5",
       "bottom": 3191,
       "center": [
        43.6,
        1.5
       ],
       "controls": [
        "IPY_MODEL_f157b2c6e9f04fbe94728492d9dc2a17",
        "IPY_MODEL_048a7ccf511946e28998ea58bed1aea0"
       ],
       "default_style": "IPY_MODEL_e115f8a783bf4b8fa1d29e7c22d72575",
       "dragging_style": "IPY_MODEL_a7f314e060424dddbad1c23340541b22",
       "east": 22.67578125,
       "fullscreen": false,
       "interpolation": "bilinear",
       "layers": [
        "IPY_MODEL_5b6b00b30b0d4e859c79aa3a73948867",
        "IPY_MODEL_51ba2bbe632144a78a36ddb966461e6d",
        "IPY_MODEL_64583b001397468c838e34fa7b13a048",
        "IPY_MODEL_ff8df13d44604c2eb8ffa2f9cf440b00",
        "IPY_MODEL_5eaf479387544d73a92acf4958e7b13b",
        "IPY_MODEL_2e2f6cf29bd14aa4a4cbc8edf7d83930"
       ],
       "layout": "IPY_MODEL_31ccb4e80045473fb373b493f0c833bd",
       "left": 3649,
       "modisdate": "yesterday",
       "north": 49.63917719651036,
       "options": [
        "bounce_at_zoom_limits",
        "box_zoom",
        "center",
        "close_popup_on_click",
        "double_click_zoom",
        "dragging",
        "fullscreen",
        "inertia",
        "inertia_deceleration",
        "inertia_max_speed",
        "interpolation",
        "keyboard",
        "keyboard_pan_offset",
        "keyboard_zoom_offset",
        "max_zoom",
        "min_zoom",
        "scroll_wheel_zoom",
        "tap",
        "tap_tolerance",
        "touch_zoom",
        "world_copy_jump",
        "zoom",
        "zoom_animation_threshold",
        "zoom_delta",
        "zoom_snap",
        "zoom_start"
       ],
       "right": 4612,
       "south": 36.914764288955936,
       "style": "IPY_MODEL_e115f8a783bf4b8fa1d29e7c22d72575",
       "top": 2791,
       "west": -19.643554687500004,
       "window_url": "http://localhost:8888/notebooks/examples/tuto_advanced.ipynb",
       "zoom": 5
      }
     },
     "df6a871b4cc149df8a93e853b8e04dcd": {
      "model_module": "@jupyter-widgets/controls",
      "model_module_version": "1.5.0",
      "model_name": "DescriptionStyleModel",
      "state": {
       "description_width": ""
      }
     },
     "e115f8a783bf4b8fa1d29e7c22d72575": {
      "model_module": "jupyter-leaflet",
      "model_module_version": "^0.13.5",
      "model_name": "LeafletMapStyleModel",
      "state": {
       "_model_module_version": "^0.13.5"
      }
     },
     "f157b2c6e9f04fbe94728492d9dc2a17": {
      "model_module": "jupyter-leaflet",
      "model_module_version": "^0.13.5",
      "model_name": "LeafletZoomControlModel",
      "state": {
       "_model_module_version": "^0.13.5",
       "_view_module_version": "^0.13.5",
       "options": [
        "position",
        "zoom_in_text",
        "zoom_in_title",
        "zoom_out_text",
        "zoom_out_title"
       ]
      }
     },
     "f2c620931c564677a1a4e7c703f9036c": {
      "model_module": "@jupyter-widgets/base",
      "model_module_version": "1.2.0",
      "model_name": "LayoutModel",
      "state": {}
     },
     "ff8df13d44604c2eb8ffa2f9cf440b00": {
      "model_module": "jupyter-leaflet",
      "model_module_version": "^0.13.5",
      "model_name": "LeafletGeoJSONModel",
      "state": {
       "_model_module": "jupyter-leaflet",
       "_model_module_version": "^0.13.5",
       "_view_count": null,
       "_view_module": "jupyter-leaflet",
       "_view_module_version": "^0.13.5",
       "base": false,
       "bottom": false,
       "data": {
        "features": [
         {
          "geometry": {
           "coordinates": [
            [
             [
              0.196659174525255,
              43.21812306328243
             ],
             [
              0.214653323827068,
              43.26358647616488
             ],
             [
              0.272122281899612,
              43.4094748667584
             ],
             [
              0.329745220250706,
              43.555293624836
             ],
             [
              0.387420360888636,
              43.701103604596646
             ],
             [
              0.444903309673641,
              43.84685961561742
             ],
             [
              0.490435507664308,
              43.96178393766129
             ],
             [
              0.502259194941621,
              43.99174279782117
             ],
             [
              0.522822048156159,
              44.0433315856212
             ],
             [
              0.560584713141412,
              44.138277054299344
             ],
             [
              0.5834693618212,
              44.19579082833161
             ],
             [
              0,
              44.212099406551744
             ],
             [
              -0.49642944,
              44.22597512802537
             ],
             [
              -0.53726196,
              43.238273156784096
             ],
             [
              0,
              43.22352241829243
             ],
             [
              0.196659174525255,
              43.21812306328243
             ]
            ]
           ],
           "type": "Polygon"
          },
          "id": "S2B_MSIL1C_20210103T110349_N0209_R094_T30TYP_20210103T121021",
          "properties": {
           "abstract": "The Level-1C product is composed of 100x100 km2 tiles (ortho-images in UTM/WGS84 projection). It results from\nusing a Digital Elevation Model (DEM) to project the image in cartographic geometry. Per-pixel radiometric\nmeasurements are provided in Top Of Atmosphere (TOA) reflectances along with the parameters to transform them\ninto radiances. Level-1C products are resampled with a constant Ground Sampling Distance (GSD) of 10, 20 and 60\nmeters depending on the native resolution of the different spectral bands. In Level-1C  products, pixel\ncoordinates refer to the upper left corner of the pixel. Level-1C products will additionally include Cloud Masks\nand ECMWF data (total column of ozone, total column of water vapour and mean sea level pressure).\n",
           "acquisition": {
            "beginViewingDate": 1609671829024,
            "centerViewingDate": 1609671829024,
            "endViewingDate": 1609671829024,
            "mission": "Sentinel-2",
            "missionCode": "S2B",
            "missionId": "B",
            "missionName": "Sentinel-2B",
            "sensorId": "MSI",
            "sensorMode": "INS-NOBS"
           },
           "archive": {
            "filename": "S2B_MSIL1C_20210103T110349_N0209_R094_T30TYP_20210103T121021.SAFE",
            "format": "SAFE",
            "offLine": false,
            "onLine": false,
            "size": 564
           },
           "attachments": [],
           "attitude": {},
           "bands": [
            {
             "center_wavelength": 0.4439,
             "common_name": "coastal",
             "full_width_half_max": 0.027,
             "gsd": 60,
             "name": "B01"
            },
            {
             "center_wavelength": 0.4966,
             "common_name": "blue",
             "full_width_half_max": 0.098,
             "gsd": 10,
             "name": "B02"
            },
            {
             "center_wavelength": 0.56,
             "common_name": "green",
             "full_width_half_max": 0.045,
             "gsd": 10,
             "name": "B03"
            },
            {
             "center_wavelength": 0.6645,
             "common_name": "red",
             "full_width_half_max": 0.038,
             "gsd": 10,
             "name": "B04"
            },
            {
             "center_wavelength": 0.7039,
             "full_width_half_max": 0.019,
             "gsd": 20,
             "name": "B05"
            },
            {
             "center_wavelength": 0.7402,
             "full_width_half_max": 0.018,
             "gsd": 20,
             "name": "B06"
            },
            {
             "center_wavelength": 0.7825,
             "full_width_half_max": 0.028,
             "gsd": 20,
             "name": "B07"
            },
            {
             "center_wavelength": 0.8351,
             "common_name": "nir",
             "full_width_half_max": 0.145,
             "gsd": 10,
             "name": "B08"
            },
            {
             "center_wavelength": 0.8648,
             "full_width_half_max": 0.033,
             "gsd": 20,
             "name": "B8A"
            },
            {
             "center_wavelength": 0.945,
             "full_width_half_max": 0.026,
             "gsd": 60,
             "name": "B09"
            },
            {
             "center_wavelength": 0.13735,
             "common_name": "cirrus",
             "full_width_half_max": 0.075,
             "gsd": 60,
             "name": "B10"
            },
            {
             "center_wavelength": 0.16137,
             "common_name": "swir16",
             "full_width_half_max": 0.075,
             "gsd": 20,
             "name": "B11"
            },
            {
             "center_wavelength": 0.22024,
             "common_name": "swir22",
             "full_width_half_max": 0.242,
             "gsd": 20,
             "name": "B12"
            }
           ],
           "cloudCover": 1.4675,
           "completionTimeFromAscendingNode": "2021-01-03T11:03:49.024000+00:00",
           "contentDescription": {
            "cloudCoverPercentage": 1.4675
           },
           "creationDate": "2021-01-03T15:28:45.035000+00:00",
           "downloadLink": "https://sobloo.eu/api/v1/services/download/a482f380-8734-43af-8af0-6ff38ccc0743",
           "enrichment": {
            "geonames": [
             {
              "name": "France",
              "states": [
               {
                "counties": [
                 {
                  "cities": [
                   {
                    "name": "Nérac"
                   },
                   {
                    "name": "Agen"
                   }
                  ],
                  "name": "Lot-et-Garonne",
                  "villages": [
                   {
                    "name": "Sérignac-sur-Garonne"
                   },
                   {
                    "name": "Fargues-sur-Ourbise"
                   },
                   {
                    "name": "Nérac"
                   },
                   {
                    "name": "Houeillès"
                   },
                   {
                    "name": "Sainte-Colombe-en-Bruilhois"
                   },
                   {
                    "name": "Laplume"
                   },
                   {
                    "name": "Roquefort"
                   }
                  ]
                 },
                 {
                  "cities": [
                   {
                    "name": "Langon"
                   }
                  ],
                  "name": "Gironde"
                 },
                 {
                  "cities": [
                   {
                    "name": "Pau"
                   },
                   {
                    "name": "Oloron-Sainte-Marie"
                   }
                  ],
                  "name": "Pyrénées-Atlantiques",
                  "villages": [
                   {
                    "name": "Lasseube"
                   },
                   {
                    "name": "Bernadets"
                   },
                   {
                    "name": "Momas"
                   },
                   {
                    "name": "Mazerolles"
                   },
                   {
                    "name": "Géus-d'Arzacq"
                   },
                   {
                    "name": "Artigueloutan"
                   },
                   {
                    "name": "Urost"
                   },
                   {
                    "name": "Siros"
                   },
                   {
                    "name": "Saint-Jammes"
                   },
                   {
                    "name": "Meillon"
                   },
                   {
                    "name": "Aubertin"
                   },
                   {
                    "name": "Saint-Laurent-Bretagne"
                   },
                   {
                    "name": "Boueilh-Boueilho-Lasque"
                   },
                   {
                    "name": "Doumy"
                   },
                   {
                    "name": "Buros"
                   },
                   {
                    "name": "Aydie"
                   },
                   {
                    "name": "Lamayou"
                   },
                   {
                    "name": "Poey-de-Lescar"
                   },
                   {
                    "name": "Pontacq"
                   },
                   {
                    "name": "Arrosès"
                   }
                  ]
                 },
                 {
                  "cities": [
                   {
                    "name": "Mont-de-Marsan"
                   }
                  ],
                  "name": "Landes",
                  "villages": [
                   {
                    "name": "Rimbez-et-Baudiets"
                   },
                   {
                    "name": "Montgaillard"
                   },
                   {
                    "name": "Bats"
                   },
                   {
                    "name": "Labrit"
                   },
                   {
                    "name": "Betbezer-d'Armagnac"
                   },
                   {
                    "name": "Monségur"
                   },
                   {
                    "name": "Lacquy"
                   },
                   {
                    "name": "Saint-Avit"
                   },
                   {
                    "name": "Arue"
                   },
                   {
                    "name": "Saint-Sever"
                   },
                   {
                    "name": "Saint-Julien-d'Armagnac"
                   },
                   {
                    "name": "Cachen"
                   },
                   {
                    "name": "Laglorieuse"
                   },
                   {
                    "name": "Hontanx"
                   },
                   {
                    "name": "Classun"
                   },
                   {
                    "name": "Luxey"
                   },
                   {
                    "name": "Renung"
                   },
                   {
                    "name": "Bascons"
                   },
                   {
                    "name": "Pujo-le-Plan"
                   },
                   {
                    "name": "Le Frêche"
                   },
                   {
                    "name": "Buanes"
                   },
                   {
                    "name": "Sarbazan"
                   },
                   {
                    "name": "Parleboscq"
                   },
                   {
                    "name": "Labastide-d'Armagnac"
                   },
                   {
                    "name": "Geaune"
                   },
                   {
                    "name": "Castelnau-Tursan"
                   }
                  ]
                 }
                ],
                "name": "Nouvelle-Aquitaine"
               },
               {
                "counties": [
                 {
                  "cities": [
                   {
                    "name": "Tarbes"
                   }
                  ],
                  "name": "Hautes-Pyrénées",
                  "villages": [
                   {
                    "name": "Bours"
                   },
                   {
                    "name": "Villefranque"
                   },
                   {
                    "name": "Laslades"
                   },
                   {
                    "name": "Soréac"
                   },
                   {
                    "name": "Lansac"
                   },
                   {
                    "name": "Marseillan"
                   }
                  ]
                 },
                 {
                  "cities": [
                   {
                    "name": "Condom"
                   },
                   {
                    "name": "Mirande"
                   },
                   {
                    "name": "Auch"
                   }
                  ],
                  "name": "Gers",
                  "villages": [
                   {
                    "name": "Mauléon-d'Armagnac"
                   },
                   {
                    "name": "Saint-Orens-Pouy-Petit"
                   },
                   {
                    "name": "Plaisance"
                   },
                   {
                    "name": "Peyrusse-Vieille"
                   },
                   {
                    "name": "Arblade-le-Haut"
                   },
                   {
                    "name": "Manciet"
                   },
                   {
                    "name": "Beaumont"
                   },
                   {
                    "name": "Jû-Belloc"
                   },
                   {
                    "name": "Riguepeu"
                   },
                   {
                    "name": "Beaucaire"
                   },
                   {
                    "name": "Castillon-Debats"
                   },
                   {
                    "name": "Lauraët"
                   },
                   {
                    "name": "Barcelonne-du-Gers"
                   },
                   {
                    "name": "Condom"
                   },
                   {
                    "name": "Aignan"
                   },
                   {
                    "name": "Castelnavet"
                   },
                   {
                    "name": "Caumont"
                   },
                   {
                    "name": "Bretagne-d'Armagnac"
                   },
                   {
                    "name": "Belmont"
                   },
                   {
                    "name": "Haget"
                   },
                   {
                    "name": "Roques"
                   },
                   {
                    "name": "Saint-Griède"
                   }
                  ]
                 }
                ],
                "name": "Occitanie"
               }
              ]
             }
            ],
            "naturallanguage": {
             "search_cloud_string": "cloud:partly_cloudy",
             "search_date_string": "2021 January 03 11: 11:03 11:03:49",
             "search_incidence_angle_string": "incidence:?",
             "search_quality_string": "quality:?"
            }
           },
           "eodag_product_type": "S2_MSI_L1C",
           "eodag_provider": "sobloo",
           "eodag_search_intersection": {
            "coordinates": [
             [
              [
               0.196659174525255,
               43.21812306328243
              ],
              [
               0,
               43.22352241829243
              ],
              [
               -0.53726196,
               43.238273156784096
              ],
              [
               -0.49642944,
               44.22597512802537
              ],
              [
               0,
               44.212099406551744
              ],
              [
               0.5834693618212,
               44.19579082833161
              ],
              [
               0.560584713141412,
               44.138277054299344
              ],
              [
               0.522822048156159,
               44.0433315856212
              ],
              [
               0.502259194941621,
               43.99174279782117
              ],
              [
               0.490435507664308,
               43.96178393766129
              ],
              [
               0.444903309673641,
               43.84685961561742
              ],
              [
               0.387420360888636,
               43.701103604596646
              ],
              [
               0.329745220250706,
               43.555293624836
              ],
              [
               0.272122281899612,
               43.4094748667584
              ],
              [
               0.214653323827068,
               43.26358647616488
              ],
              [
               0.196659174525255,
               43.21812306328243
              ]
             ]
            ],
            "type": "Polygon"
           },
           "identification": {
            "collection": "Sentinel-2",
            "dataset": {},
            "externalId": "S2B_MSIL1C_20210103T110349_N0209_R094_T30TYP_20210103T121021",
            "hvTileId": "TP30Y",
            "profile": "Image",
            "tileId": "30TYP",
            "type": "S2MSI1C"
           },
           "illumination": {},
           "instrument": "MSI",
           "license": "proprietary",
           "missionStartDate": "2015-06-23T00:00:00Z",
           "orbit": {
            "direction": "DESCENDING",
            "number": 19997,
            "relativeNumber": 94
           },
           "orbitDirection": "DESCENDING",
           "orbitNumber": 19997,
           "platform": "Sentinel-2",
           "platformSerialIdentifier": "S2B",
           "processingLevel": "Level-1C",
           "productType": "S2MSI1C",
           "production": {
            "baseline": "02.09",
            "levelCode": "Level-1C",
            "ongoing": false
           },
           "provider": {},
           "quality": {
            "qualified": false
           },
           "quicklook": "https://sobloo.eu/api/v1/services/quicklook/a482f380-8734-43af-8af0-6ff38ccc0743",
           "sensorMode": "INS-NOBS",
           "sensorType": "OPTICAL",
           "spatialCoverage": {
            "geometry": {
             "centerPoint": {
              "lat": 43.75078543447845,
              "lon": -0.056772036274430636
             },
             "geographicBoundingPolygon": {
              "coordinates": [
               [
                [
                 0.196659174525255,
                 43.21812306328243
                ],
                [
                 0.214653323827068,
                 43.26358647616488
                ],
                [
                 0.272122281899612,
                 43.4094748667584
                ],
                [
                 0.329745220250706,
                 43.555293624836
                ],
                [
                 0.387420360888636,
                 43.701103604596646
                ],
                [
                 0.444903309673641,
                 43.84685961561742
                ],
                [
                 0.490435507664308,
                 43.96178393766129
                ],
                [
                 0.502259194941621,
                 43.99174279782117
                ],
                [
                 0.522822048156159,
                 44.0433315856212
                ],
                [
                 0.560584713141412,
                 44.138277054299344
                ],
                [
                 0.5834693618212,
                 44.19579082833161
                ],
                [
                 0,
                 44.212099406551744
                ],
                [
                 -0.49642944,
                 44.22597512802537
                ],
                [
                 -0.53726196,
                 43.238273156784096
                ],
                [
                 0,
                 43.22352241829243
                ],
                [
                 0.196659174525255,
                 43.21812306328243
                ]
               ]
              ],
              "type": "Polygon"
             },
             "global": false
            },
            "verticality": {}
           },
           "startTimeFromAscendingNode": "2021-01-03T11:03:49.024000+00:00",
           "state": {
            "insertionDate": 1609687725035,
            "resources": {
             "quicklook": true,
             "thumbnail": true
            },
            "services": {
             "download": "internal",
             "wcs": false,
             "wms": false,
             "wmts": false
            }
           },
           "storageStatus": "ONLINE",
           "style": {
            "color": "red"
           },
           "target": {},
           "timeStamp": 1609671829024,
           "title": "S2B_MSIL1C_20210103T110349_N0209_R094_T30TYP_20210103T121021",
           "transmission": {},
           "uid": "a482f380-8734-43af-8af0-6ff38ccc0743",
           "visibility": {
            "deleted": false
           }
          },
          "type": "Feature"
         },
         {
          "geometry": {
           "coordinates": [
            [
             [
              0.499651613106885,
              44.137996748196564
             ],
             [
              0.547326919389197,
              44.13875411986689
             ],
             [
              0.567537320331426,
              44.18935658826113
             ],
             [
              0.625788942487544,
              44.33515624875584
             ],
             [
              0.685039219907538,
              44.480861587803375
             ],
             [
              0.744545071976698,
              44.62652039050277
             ],
             [
              0.803778209145012,
              44.772162974223214
             ],
             [
              0.86316473457256,
              44.91769059085591
             ],
             [
              0.922419943876341,
              45.06324191215061
             ],
             [
              0.951443339301435,
              45.13350764694719
             ],
             [
              0.45686051699677,
              45.12551356202371
             ],
             [
              0.499651613106885,
              44.137996748196564
             ]
            ]
           ],
           "type": "Polygon"
          },
          "id": "S2A_MSIL1C_20210108T110431_N0209_R094_T31TCK_20210108T131314",
          "properties": {
           "abstract": "The Level-1C product is composed of 100x100 km2 tiles (ortho-images in UTM/WGS84 projection). It results from\nusing a Digital Elevation Model (DEM) to project the image in cartographic geometry. Per-pixel radiometric\nmeasurements are provided in Top Of Atmosphere (TOA) reflectances along with the parameters to transform them\ninto radiances. Level-1C products are resampled with a constant Ground Sampling Distance (GSD) of 10, 20 and 60\nmeters depending on the native resolution of the different spectral bands. In Level-1C  products, pixel\ncoordinates refer to the upper left corner of the pixel. Level-1C products will additionally include Cloud Masks\nand ECMWF data (total column of ozone, total column of water vapour and mean sea level pressure).\n",
           "acquisition": {
            "beginViewingDate": 1610103871024,
            "centerViewingDate": 1610103871024,
            "endViewingDate": 1610103871024,
            "mission": "Sentinel-2",
            "missionCode": "S2A",
            "missionId": "A",
            "missionName": "Sentinel-2A",
            "sensorId": "MSI",
            "sensorMode": "INS-NOBS"
           },
           "archive": {
            "filename": "S2A_MSIL1C_20210108T110431_N0209_R094_T31TCK_20210108T131314.SAFE",
            "format": "SAFE",
            "offLine": false,
            "onLine": false,
            "size": 186
           },
           "attachments": [],
           "attitude": {},
           "bands": [
            {
             "center_wavelength": 0.4439,
             "common_name": "coastal",
             "full_width_half_max": 0.027,
             "gsd": 60,
             "name": "B01"
            },
            {
             "center_wavelength": 0.4966,
             "common_name": "blue",
             "full_width_half_max": 0.098,
             "gsd": 10,
             "name": "B02"
            },
            {
             "center_wavelength": 0.56,
             "common_name": "green",
             "full_width_half_max": 0.045,
             "gsd": 10,
             "name": "B03"
            },
            {
             "center_wavelength": 0.6645,
             "common_name": "red",
             "full_width_half_max": 0.038,
             "gsd": 10,
             "name": "B04"
            },
            {
             "center_wavelength": 0.7039,
             "full_width_half_max": 0.019,
             "gsd": 20,
             "name": "B05"
            },
            {
             "center_wavelength": 0.7402,
             "full_width_half_max": 0.018,
             "gsd": 20,
             "name": "B06"
            },
            {
             "center_wavelength": 0.7825,
             "full_width_half_max": 0.028,
             "gsd": 20,
             "name": "B07"
            },
            {
             "center_wavelength": 0.8351,
             "common_name": "nir",
             "full_width_half_max": 0.145,
             "gsd": 10,
             "name": "B08"
            },
            {
             "center_wavelength": 0.8648,
             "full_width_half_max": 0.033,
             "gsd": 20,
             "name": "B8A"
            },
            {
             "center_wavelength": 0.945,
             "full_width_half_max": 0.026,
             "gsd": 60,
             "name": "B09"
            },
            {
             "center_wavelength": 0.13735,
             "common_name": "cirrus",
             "full_width_half_max": 0.075,
             "gsd": 60,
             "name": "B10"
            },
            {
             "center_wavelength": 0.16137,
             "common_name": "swir16",
             "full_width_half_max": 0.075,
             "gsd": 20,
             "name": "B11"
            },
            {
             "center_wavelength": 0.22024,
             "common_name": "swir22",
             "full_width_half_max": 0.242,
             "gsd": 20,
             "name": "B12"
            }
           ],
           "cloudCover": 0,
           "completionTimeFromAscendingNode": "2021-01-08T11:04:31.024000+00:00",
           "contentDescription": {
            "cloudCoverPercentage": 0
           },
           "creationDate": "2021-01-08T15:24:54.074000+00:00",
           "downloadLink": "https://sobloo.eu/api/v1/services/download/6937a5ba-51eb-4b28-8d4b-1c87cce92ec3",
           "enrichment": {
            "geonames": [
             {
              "name": "France",
              "states": [
               {
                "counties": [
                 {
                  "cities": [
                   {
                    "name": "Marmande"
                   },
                   {
                    "name": "Agen"
                   },
                   {
                    "name": "Villeneuve-sur-Lot"
                   },
                   {
                    "name": "Nérac"
                   }
                  ],
                  "name": "Lot-et-Garonne",
                  "villages": [
                   {
                    "name": "Ségalas"
                   },
                   {
                    "name": "Cancon"
                   },
                   {
                    "name": "Sérignac-sur-Garonne"
                   },
                   {
                    "name": "Saint-Pastour"
                   },
                   {
                    "name": "Monflanquin"
                   },
                   {
                    "name": "Saint-Hilaire-de-Lusignan"
                   },
                   {
                    "name": "La Sauvetat-sur-Lède"
                   },
                   {
                    "name": "Saint-Colomb-de-Lauzun"
                   },
                   {
                    "name": "Monviel"
                   },
                   {
                    "name": "Pailloles"
                   },
                   {
                    "name": "Ferrensac"
                   },
                   {
                    "name": "Moulinet"
                   },
                   {
                    "name": "Villeréal"
                   },
                   {
                    "name": "Castelnaud-de-Gratecambe"
                   },
                   {
                    "name": "Montaut"
                   },
                   {
                    "name": "Colayrac-Saint-Cirq"
                   },
                   {
                    "name": "Sainte-Colombe-en-Bruilhois"
                   },
                   {
                    "name": "Dolmayrac"
                   },
                   {
                    "name": "Castelmoron-sur-Lot"
                   },
                   {
                    "name": "Pinel-Hauterive"
                   },
                   {
                    "name": "Le Temple-sur-Lot"
                   },
                   {
                    "name": "Saint-Maurice-de-Lestapel"
                   },
                   {
                    "name": "Montpezat"
                   },
                   {
                    "name": "Doudrac"
                   },
                   {
                    "name": "Saint-Étienne-de-Villeréal"
                   },
                   {
                    "name": "Brugnac"
                   },
                   {
                    "name": "Beaugas"
                   },
                   {
                    "name": "Fongrave"
                   },
                   {
                    "name": "Villeneuve-sur-Lot"
                   },
                   {
                    "name": "Bournel"
                   },
                   {
                    "name": "Montastruc"
                   },
                   {
                    "name": "Roquefort"
                   },
                   {
                    "name": "Moncaut"
                   },
                   {
                    "name": "Laplume"
                   },
                   {
                    "name": "Cahuzac"
                   }
                  ]
                 },
                 {
                  "cities": [
                   {
                    "name": "Bergerac"
                   },
                   {
                    "name": "Sarlat-la-Canéda"
                   },
                   {
                    "name": "Périgueux"
                   }
                  ],
                  "name": "Dordogne",
                  "villages": [
                   {
                    "name": "Saint-Geyrac"
                   },
                   {
                    "name": "Singleyrac"
                   },
                   {
                    "name": "Monmarvès"
                   },
                   {
                    "name": "Conne-de-Labarde"
                   },
                   {
                    "name": "Villamblard"
                   },
                   {
                    "name": "Cause-de-Clérans"
                   },
                   {
                    "name": "Saint-Germain-du-Salembre"
                   },
                   {
                    "name": "Manzac-sur-Vern"
                   },
                   {
                    "name": "Saint-Laurent-des-Vignes"
                   },
                   {
                    "name": "Clermont-de-Beauregard"
                   },
                   {
                    "name": "Plaisance"
                   },
                   {
                    "name": "Beauregard-et-Bassac"
                   },
                   {
                    "name": "Sadillac"
                   },
                   {
                    "name": "Naussannes"
                   },
                   {
                    "name": "Fossemagne"
                   },
                   {
                    "name": "Creysse"
                   },
                   {
                    "name": "Le Buisson-de-Cadouin"
                   },
                   {
                    "name": "Faurilles"
                   },
                   {
                    "name": "Badefols-sur-Dordogne"
                   },
                   {
                    "name": "Saint-Maime-de-Péreyrol"
                   },
                   {
                    "name": "Vallereuil"
                   },
                   {
                    "name": "Saint-Amand-de-Vergt"
                   },
                   {
                    "name": "Cours-de-Pile"
                   },
                   {
                    "name": "Monmadalès"
                   },
                   {
                    "name": "Saint-Jean-d'Estissac"
                   },
                   {
                    "name": "Saint-Nexans"
                   },
                   {
                    "name": "Monsaguel"
                   },
                   {
                    "name": "Sainte-Alvère-Saint-Laurent-les-Bâtons"
                   },
                   {
                    "name": "Couze-et-Saint-Front"
                   },
                   {
                    "name": "Salon"
                   },
                   {
                    "name": "Sourzac"
                   },
                   {
                    "name": "Bourniquel"
                   },
                   {
                    "name": "Saint-Félix-de-Reillac-et-Mortemart"
                   },
                   {
                    "name": "Colombier"
                   },
                   {
                    "name": "Saint-Avit-Sénieur"
                   },
                   {
                    "name": "Lanquais"
                   },
                   {
                    "name": "Creyssensac-et-Pissot"
                   },
                   {
                    "name": "Razac-d'Eymet"
                   },
                   {
                    "name": "Église-Neuve-de-Vergt"
                   },
                   {
                    "name": "Montagnac-la-Crempse"
                   },
                   {
                    "name": "Lembras"
                   },
                   {
                    "name": "Breuilh"
                   },
                   {
                    "name": "Bourrou"
                   },
                   {
                    "name": "Lamonzie-Montastruc"
                   },
                   {
                    "name": "Issac"
                   },
                   {
                    "name": "Notre-Dame-de-Sanilhac"
                   },
                   {
                    "name": "Cendrieux"
                   },
                   {
                    "name": "Lalinde"
                   },
                   {
                    "name": "Saint-Séverin-d'Estissac"
                   },
                   {
                    "name": "Sainte-Foy-de-Longas"
                   },
                   {
                    "name": "Douville"
                   },
                   {
                    "name": "Eyliac"
                   },
                   {
                    "name": "Fouleix"
                   },
                   {
                    "name": "Veyrines-de-Vergt"
                   }
                  ]
                 }
                ],
                "name": "Nouvelle-Aquitaine"
               }
              ]
             }
            ],
            "naturallanguage": {
             "search_cloud_string": "cloud:clear",
             "search_date_string": "2021 January 08 11: 11:04 11:04:31",
             "search_incidence_angle_string": "incidence:?",
             "search_quality_string": "quality:?"
            }
           },
           "eodag_product_type": "S2_MSI_L1C",
           "eodag_provider": "sobloo",
           "eodag_search_intersection": {
            "coordinates": [
             [
              [
               0.499651613106885,
               44.137996748196564
              ],
              [
               0.45686051699677,
               45.12551356202371
              ],
              [
               0.951443339301435,
               45.13350764694719
              ],
              [
               0.922419943876341,
               45.06324191215061
              ],
              [
               0.86316473457256,
               44.91769059085591
              ],
              [
               0.803778209145012,
               44.772162974223214
              ],
              [
               0.744545071976698,
               44.62652039050277
              ],
              [
               0.685039219907538,
               44.480861587803375
              ],
              [
               0.625788942487544,
               44.33515624875584
              ],
              [
               0.567537320331426,
               44.18935658826113
              ],
              [
               0.547326919389197,
               44.13875411986689
              ],
              [
               0.499651613106885,
               44.137996748196564
              ]
             ]
            ],
            "type": "Polygon"
           },
           "identification": {
            "collection": "Sentinel-2",
            "dataset": {},
            "externalId": "S2A_MSIL1C_20210108T110431_N0209_R094_T31TCK_20210108T131314",
            "hvTileId": "TK31C",
            "profile": "Image",
            "tileId": "31TCK",
            "type": "S2MSI1C"
           },
           "illumination": {},
           "instrument": "MSI",
           "license": "proprietary",
           "missionStartDate": "2015-06-23T00:00:00Z",
           "orbit": {
            "direction": "DESCENDING",
            "number": 28977,
            "relativeNumber": 94
           },
           "orbitDirection": "DESCENDING",
           "orbitNumber": 28977,
           "platform": "Sentinel-2",
           "platformSerialIdentifier": "S2A",
           "processingLevel": "Level-1C",
           "productType": "S2MSI1C",
           "production": {
            "baseline": "02.09",
            "levelCode": "Level-1C",
            "ongoing": false
           },
           "provider": {},
           "quality": {
            "qualified": false
           },
           "quicklook": "https://sobloo.eu/api/v1/services/quicklook/6937a5ba-51eb-4b28-8d4b-1c87cce92ec3",
           "sensorMode": "INS-NOBS",
           "sensorType": "OPTICAL",
           "spatialCoverage": {
            "geometry": {
             "centerPoint": {
              "lat": 44.77064071594664,
              "lon": 0.6383608135343207
             },
             "geographicBoundingPolygon": {
              "coordinates": [
               [
                [
                 0.499651613106885,
                 44.137996748196564
                ],
                [
                 0.547326919389197,
                 44.13875411986689
                ],
                [
                 0.567537320331426,
                 44.18935658826113
                ],
                [
                 0.625788942487544,
                 44.33515624875584
                ],
                [
                 0.685039219907538,
                 44.480861587803375
                ],
                [
                 0.744545071976698,
                 44.62652039050277
                ],
                [
                 0.803778209145012,
                 44.772162974223214
                ],
                [
                 0.86316473457256,
                 44.91769059085591
                ],
                [
                 0.922419943876341,
                 45.06324191215061
                ],
                [
                 0.951443339301435,
                 45.13350764694719
                ],
                [
                 0.45686051699677,
                 45.12551356202371
                ],
                [
                 0.499651613106885,
                 44.137996748196564
                ]
               ]
              ],
              "type": "Polygon"
             },
             "global": false
            },
            "verticality": {}
           },
           "startTimeFromAscendingNode": "2021-01-08T11:04:31.024000+00:00",
           "state": {
            "insertionDate": 1610119494074,
            "resources": {
             "quicklook": true,
             "thumbnail": true
            },
            "services": {
             "download": "internal",
             "wcs": false,
             "wms": false,
             "wmts": false
            }
           },
           "storageStatus": "ONLINE",
           "style": {
            "color": "red"
           },
           "target": {},
           "timeStamp": 1610103871024,
           "title": "S2A_MSIL1C_20210108T110431_N0209_R094_T31TCK_20210108T131314",
           "transmission": {},
           "uid": "6937a5ba-51eb-4b28-8d4b-1c87cce92ec3",
           "visibility": {
            "deleted": false
           }
          },
          "type": "Feature"
         },
         {
          "geometry": {
           "coordinates": [
            [
             [
              0.179545066965175,
              43.218592936198405
             ],
             [
              0.211030315905288,
              43.29860960544407
             ],
             [
              0.268229330327928,
              43.444387764785205
             ],
             [
              0.325660686156245,
              43.590062916504266
             ],
             [
              0.383007085662187,
              43.73570626286512
             ],
             [
              0.440345599695016,
              43.88134598206136
             ],
             [
              0.497829945125254,
              44.0269583041786
             ],
             [
              0.555872664814201,
              44.17253559018692
             ],
             [
              0.565350861107027,
              44.19629725959304
             ],
             [
              0,
              44.21209941421145
             ],
             [
              -0.496428932800862,
              44.22597512802537
             ],
             [
              -0.537264522308053,
              43.238273156784096
             ],
             [
              0,
              43.22352239944196
             ],
             [
              0.179545066965175,
              43.218592936198405
             ]
            ]
           ],
           "type": "Polygon"
          },
          "id": "S2A_MSIL1C_20210118T110401_N0209_R094_T30TYP_20210118T131217",
          "properties": {
           "abstract": "The Level-1C product is composed of 100x100 km2 tiles (ortho-images in UTM/WGS84 projection). It results from\nusing a Digital Elevation Model (DEM) to project the image in cartographic geometry. Per-pixel radiometric\nmeasurements are provided in Top Of Atmosphere (TOA) reflectances along with the parameters to transform them\ninto radiances. Level-1C products are resampled with a constant Ground Sampling Distance (GSD) of 10, 20 and 60\nmeters depending on the native resolution of the different spectral bands. In Level-1C  products, pixel\ncoordinates refer to the upper left corner of the pixel. Level-1C products will additionally include Cloud Masks\nand ECMWF data (total column of ozone, total column of water vapour and mean sea level pressure).\n",
           "acquisition": {
            "beginViewingDate": 1610967841024,
            "centerViewingDate": 1610967841024,
            "endViewingDate": 1610967841024,
            "mission": "Sentinel-2",
            "missionCode": "S2A",
            "missionId": "A",
            "missionName": "Sentinel-2A",
            "sensorId": "MSI",
            "sensorMode": "INS-NOBS"
           },
           "archive": {
            "filename": "S2A_MSIL1C_20210118T110401_N0209_R094_T30TYP_20210118T131217.SAFE",
            "format": "SAFE",
            "offLine": false,
            "onLine": false,
            "size": 557
           },
           "attachments": [],
           "attitude": {},
           "bands": [
            {
             "center_wavelength": 0.4439,
             "common_name": "coastal",
             "full_width_half_max": 0.027,
             "gsd": 60,
             "name": "B01"
            },
            {
             "center_wavelength": 0.4966,
             "common_name": "blue",
             "full_width_half_max": 0.098,
             "gsd": 10,
             "name": "B02"
            },
            {
             "center_wavelength": 0.56,
             "common_name": "green",
             "full_width_half_max": 0.045,
             "gsd": 10,
             "name": "B03"
            },
            {
             "center_wavelength": 0.6645,
             "common_name": "red",
             "full_width_half_max": 0.038,
             "gsd": 10,
             "name": "B04"
            },
            {
             "center_wavelength": 0.7039,
             "full_width_half_max": 0.019,
             "gsd": 20,
             "name": "B05"
            },
            {
             "center_wavelength": 0.7402,
             "full_width_half_max": 0.018,
             "gsd": 20,
             "name": "B06"
            },
            {
             "center_wavelength": 0.7825,
             "full_width_half_max": 0.028,
             "gsd": 20,
             "name": "B07"
            },
            {
             "center_wavelength": 0.8351,
             "common_name": "nir",
             "full_width_half_max": 0.145,
             "gsd": 10,
             "name": "B08"
            },
            {
             "center_wavelength": 0.8648,
             "full_width_half_max": 0.033,
             "gsd": 20,
             "name": "B8A"
            },
            {
             "center_wavelength": 0.945,
             "full_width_half_max": 0.026,
             "gsd": 60,
             "name": "B09"
            },
            {
             "center_wavelength": 0.13735,
             "common_name": "cirrus",
             "full_width_half_max": 0.075,
             "gsd": 60,
             "name": "B10"
            },
            {
             "center_wavelength": 0.16137,
             "common_name": "swir16",
             "full_width_half_max": 0.075,
             "gsd": 20,
             "name": "B11"
            },
            {
             "center_wavelength": 0.22024,
             "common_name": "swir22",
             "full_width_half_max": 0.242,
             "gsd": 20,
             "name": "B12"
            }
           ],
           "cloudCover": 1.4068,
           "completionTimeFromAscendingNode": "2021-01-18T11:04:01.024000+00:00",
           "contentDescription": {
            "cloudCoverPercentage": 1.4068
           },
           "creationDate": "2021-01-18T15:35:23.609000+00:00",
           "downloadLink": "https://sobloo.eu/api/v1/services/download/b3788591-d43f-4ac1-b296-f6147ab37ed2",
           "enrichment": {
            "geonames": [
             {
              "name": "France",
              "states": [
               {
                "counties": [
                 {
                  "cities": [
                   {
                    "name": "Nérac"
                   },
                   {
                    "name": "Agen"
                   }
                  ],
                  "name": "Lot-et-Garonne",
                  "villages": [
                   {
                    "name": "Nérac"
                   },
                   {
                    "name": "Sérignac-sur-Garonne"
                   },
                   {
                    "name": "Laplume"
                   },
                   {
                    "name": "Houeillès"
                   },
                   {
                    "name": "Roquefort"
                   },
                   {
                    "name": "Fargues-sur-Ourbise"
                   },
                   {
                    "name": "Sainte-Colombe-en-Bruilhois"
                   }
                  ]
                 },
                 {
                  "cities": [
                   {
                    "name": "Mont-de-Marsan"
                   }
                  ],
                  "name": "Landes",
                  "villages": [
                   {
                    "name": "Geaune"
                   },
                   {
                    "name": "Sarbazan"
                   },
                   {
                    "name": "Rimbez-et-Baudiets"
                   },
                   {
                    "name": "Lacquy"
                   },
                   {
                    "name": "Classun"
                   },
                   {
                    "name": "Arue"
                   },
                   {
                    "name": "Cachen"
                   },
                   {
                    "name": "Saint-Julien-d'Armagnac"
                   },
                   {
                    "name": "Le Frêche"
                   },
                   {
                    "name": "Labastide-d'Armagnac"
                   },
                   {
                    "name": "Bats"
                   },
                   {
                    "name": "Saint-Sever"
                   },
                   {
                    "name": "Saint-Avit"
                   },
                   {
                    "name": "Pujo-le-Plan"
                   },
                   {
                    "name": "Montgaillard"
                   },
                   {
                    "name": "Bascons"
                   },
                   {
                    "name": "Hontanx"
                   },
                   {
                    "name": "Castelnau-Tursan"
                   },
                   {
                    "name": "Labrit"
                   },
                   {
                    "name": "Renung"
                   },
                   {
                    "name": "Laglorieuse"
                   },
                   {
                    "name": "Parleboscq"
                   },
                   {
                    "name": "Betbezer-d'Armagnac"
                   },
                   {
                    "name": "Luxey"
                   },
                   {
                    "name": "Monségur"
                   },
                   {
                    "name": "Buanes"
                   }
                  ]
                 },
                 {
                  "cities": [
                   {
                    "name": "Langon"
                   }
                  ],
                  "name": "Gironde"
                 },
                 {
                  "cities": [
                   {
                    "name": "Pau"
                   },
                   {
                    "name": "Oloron-Sainte-Marie"
                   }
                  ],
                  "name": "Pyrénées-Atlantiques",
                  "villages": [
                   {
                    "name": "Urost"
                   },
                   {
                    "name": "Buros"
                   },
                   {
                    "name": "Doumy"
                   },
                   {
                    "name": "Saint-Laurent-Bretagne"
                   },
                   {
                    "name": "Aubertin"
                   },
                   {
                    "name": "Siros"
                   },
                   {
                    "name": "Artigueloutan"
                   },
                   {
                    "name": "Aydie"
                   },
                   {
                    "name": "Bernadets"
                   },
                   {
                    "name": "Poey-de-Lescar"
                   },
                   {
                    "name": "Lasseube"
                   },
                   {
                    "name": "Saint-Jammes"
                   },
                   {
                    "name": "Géus-d'Arzacq"
                   },
                   {
                    "name": "Momas"
                   },
                   {
                    "name": "Mazerolles"
                   },
                   {
                    "name": "Boueilh-Boueilho-Lasque"
                   },
                   {
                    "name": "Lamayou"
                   },
                   {
                    "name": "Arrosès"
                   },
                   {
                    "name": "Meillon"
                   },
                   {
                    "name": "Pontacq"
                   }
                  ]
                 }
                ],
                "name": "Nouvelle-Aquitaine"
               },
               {
                "counties": [
                 {
                  "cities": [
                   {
                    "name": "Mirande"
                   },
                   {
                    "name": "Auch"
                   },
                   {
                    "name": "Condom"
                   }
                  ],
                  "name": "Gers",
                  "villages": [
                   {
                    "name": "Roques"
                   },
                   {
                    "name": "Jû-Belloc"
                   },
                   {
                    "name": "Lauraët"
                   },
                   {
                    "name": "Saint-Griède"
                   },
                   {
                    "name": "Arblade-le-Haut"
                   },
                   {
                    "name": "Manciet"
                   },
                   {
                    "name": "Castelnavet"
                   },
                   {
                    "name": "Castillon-Debats"
                   },
                   {
                    "name": "Condom"
                   },
                   {
                    "name": "Haget"
                   },
                   {
                    "name": "Riguepeu"
                   },
                   {
                    "name": "Belmont"
                   },
                   {
                    "name": "Aignan"
                   },
                   {
                    "name": "Beaucaire"
                   },
                   {
                    "name": "Caumont"
                   },
                   {
                    "name": "Mauléon-d'Armagnac"
                   },
                   {
                    "name": "Plaisance"
                   },
                   {
                    "name": "Bretagne-d'Armagnac"
                   },
                   {
                    "name": "Beaumont"
                   },
                   {
                    "name": "Peyrusse-Vieille"
                   },
                   {
                    "name": "Saint-Orens-Pouy-Petit"
                   },
                   {
                    "name": "Barcelonne-du-Gers"
                   }
                  ]
                 },
                 {
                  "cities": [
                   {
                    "name": "Tarbes"
                   }
                  ],
                  "name": "Hautes-Pyrénées",
                  "villages": [
                   {
                    "name": "Marseillan"
                   },
                   {
                    "name": "Laslades"
                   },
                   {
                    "name": "Villefranque"
                   },
                   {
                    "name": "Lansac"
                   },
                   {
                    "name": "Bours"
                   },
                   {
                    "name": "Soréac"
                   }
                  ]
                 }
                ],
                "name": "Occitanie"
               }
              ]
             }
            ],
            "naturallanguage": {
             "search_cloud_string": "cloud:partly_cloudy",
             "search_date_string": "2021 January 18 11: 11:04 11:04:01",
             "search_incidence_angle_string": "incidence:?",
             "search_quality_string": "quality:?"
            }
           },
           "eodag_product_type": "S2_MSI_L1C",
           "eodag_provider": "sobloo",
           "eodag_search_intersection": {
            "coordinates": [
             [
              [
               0.179545066965175,
               43.218592936198405
              ],
              [
               0,
               43.22352239944196
              ],
              [
               -0.537264522308053,
               43.238273156784096
              ],
              [
               -0.496428932800862,
               44.22597512802537
              ],
              [
               0,
               44.21209941421145
              ],
              [
               0.565350861107027,
               44.19629725959304
              ],
              [
               0.555872664814201,
               44.17253559018692
              ],
              [
               0.497829945125254,
               44.0269583041786
              ],
              [
               0.440345599695016,
               43.88134598206136
              ],
              [
               0.383007085662187,
               43.73570626286512
              ],
              [
               0.325660686156245,
               43.590062916504266
              ],
              [
               0.268229330327928,
               43.444387764785205
              ],
              [
               0.211030315905288,
               43.29860960544407
              ],
              [
               0.179545066965175,
               43.218592936198405
              ]
             ]
            ],
            "type": "Polygon"
           },
           "identification": {
            "collection": "Sentinel-2",
            "dataset": {},
            "externalId": "S2A_MSIL1C_20210118T110401_N0209_R094_T30TYP_20210118T131217",
            "hvTileId": "TP30Y",
            "profile": "Image",
            "tileId": "30TYP",
            "type": "S2MSI1C"
           },
           "illumination": {},
           "instrument": "MSI",
           "license": "proprietary",
           "missionStartDate": "2015-06-23T00:00:00Z",
           "orbit": {
            "direction": "DESCENDING",
            "number": 29120,
            "relativeNumber": 94
           },
           "orbitDirection": "DESCENDING",
           "orbitNumber": 29120,
           "platform": "Sentinel-2",
           "platformSerialIdentifier": "S2A",
           "processingLevel": "Level-1C",
           "productType": "S2MSI1C",
           "production": {
            "baseline": "02.09",
            "levelCode": "Level-1C",
            "ongoing": false
           },
           "provider": {},
           "quality": {
            "qualified": false
           },
           "quicklook": "https://sobloo.eu/api/v1/services/quicklook/b3788591-d43f-4ac1-b296-f6147ab37ed2",
           "sensorMode": "INS-NOBS",
           "sensorType": "OPTICAL",
           "spatialCoverage": {
            "geometry": {
             "centerPoint": {
              "lat": 43.75154998451888,
              "lon": -0.06556615159577464
             },
             "geographicBoundingPolygon": {
              "coordinates": [
               [
                [
                 0.179545066965175,
                 43.218592936198405
                ],
                [
                 0.211030315905288,
                 43.29860960544407
                ],
                [
                 0.268229330327928,
                 43.444387764785205
                ],
                [
                 0.325660686156245,
                 43.590062916504266
                ],
                [
                 0.383007085662187,
                 43.73570626286512
                ],
                [
                 0.440345599695016,
                 43.88134598206136
                ],
                [
                 0.497829945125254,
                 44.0269583041786
                ],
                [
                 0.555872664814201,
                 44.17253559018692
                ],
                [
                 0.565350861107027,
                 44.19629725959304
                ],
                [
                 0,
                 44.21209941421145
                ],
                [
                 -0.496428932800862,
                 44.22597512802537
                ],
                [
                 -0.537264522308053,
                 43.238273156784096
                ],
                [
                 0,
                 43.22352239944196
                ],
                [
                 0.179545066965175,
                 43.218592936198405
                ]
               ]
              ],
              "type": "Polygon"
             },
             "global": false
            },
            "verticality": {}
           },
           "startTimeFromAscendingNode": "2021-01-18T11:04:01.024000+00:00",
           "state": {
            "insertionDate": 1610984123609,
            "resources": {
             "quicklook": true,
             "thumbnail": true
            },
            "services": {
             "download": "internal",
             "wcs": false,
             "wms": false,
             "wmts": false
            }
           },
           "storageStatus": "ONLINE",
           "style": {
            "color": "red"
           },
           "target": {},
           "timeStamp": 1610967841024,
           "title": "S2A_MSIL1C_20210118T110401_N0209_R094_T30TYP_20210118T131217",
           "transmission": {},
           "uid": "b3788591-d43f-4ac1-b296-f6147ab37ed2",
           "visibility": {
            "deleted": false
           }
          },
          "type": "Feature"
         },
         {
          "geometry": {
           "coordinates": [
            [
             [
              0.530636748653955,
              44.10924124071071
             ],
             [
              0.555872664814201,
              44.17253559018692
             ],
             [
              0.614004826942123,
              44.31827188596211
             ],
             [
              0.673124885378234,
              44.463936213325496
             ],
             [
              0.7325154306541,
              44.609631972569936
             ],
             [
              0.791922756585697,
              44.75531586131342
             ],
             [
              0.851495478671671,
              44.900866653885046
             ],
             [
              0.910821642587588,
              45.04649709533156
             ],
             [
              0.927250602487587,
              45.08620817260245
             ],
             [
              0,
              45.11253775273545
             ],
             [
              -0.457368642755675,
              45.12552488296481
             ],
             [
              -0.500151210995916,
              44.13800768802703
             ],
             [
              0,
              44.12404984798184
             ],
             [
              0.530636748653955,
              44.10924124071071
             ]
            ]
           ],
           "type": "Polygon"
          },
          "id": "S2A_MSIL1C_20210118T110401_N0209_R094_T30TYQ_20210118T131217",
          "properties": {
           "abstract": "The Level-1C product is composed of 100x100 km2 tiles (ortho-images in UTM/WGS84 projection). It results from\nusing a Digital Elevation Model (DEM) to project the image in cartographic geometry. Per-pixel radiometric\nmeasurements are provided in Top Of Atmosphere (TOA) reflectances along with the parameters to transform them\ninto radiances. Level-1C products are resampled with a constant Ground Sampling Distance (GSD) of 10, 20 and 60\nmeters depending on the native resolution of the different spectral bands. In Level-1C  products, pixel\ncoordinates refer to the upper left corner of the pixel. Level-1C products will additionally include Cloud Masks\nand ECMWF data (total column of ozone, total column of water vapour and mean sea level pressure).\n",
           "acquisition": {
            "beginViewingDate": 1610967841024,
            "centerViewingDate": 1610967841024,
            "endViewingDate": 1610967841024,
            "mission": "Sentinel-2",
            "missionCode": "S2A",
            "missionId": "A",
            "missionName": "Sentinel-2A",
            "sensorId": "MSI",
            "sensorMode": "INS-NOBS"
           },
           "archive": {
            "filename": "S2A_MSIL1C_20210118T110401_N0209_R094_T30TYQ_20210118T131217.SAFE",
            "format": "SAFE",
            "offLine": false,
            "onLine": false,
            "size": 728
           },
           "attachments": [],
           "attitude": {},
           "bands": [
            {
             "center_wavelength": 0.4439,
             "common_name": "coastal",
             "full_width_half_max": 0.027,
             "gsd": 60,
             "name": "B01"
            },
            {
             "center_wavelength": 0.4966,
             "common_name": "blue",
             "full_width_half_max": 0.098,
             "gsd": 10,
             "name": "B02"
            },
            {
             "center_wavelength": 0.56,
             "common_name": "green",
             "full_width_half_max": 0.045,
             "gsd": 10,
             "name": "B03"
            },
            {
             "center_wavelength": 0.6645,
             "common_name": "red",
             "full_width_half_max": 0.038,
             "gsd": 10,
             "name": "B04"
            },
            {
             "center_wavelength": 0.7039,
             "full_width_half_max": 0.019,
             "gsd": 20,
             "name": "B05"
            },
            {
             "center_wavelength": 0.7402,
             "full_width_half_max": 0.018,
             "gsd": 20,
             "name": "B06"
            },
            {
             "center_wavelength": 0.7825,
             "full_width_half_max": 0.028,
             "gsd": 20,
             "name": "B07"
            },
            {
             "center_wavelength": 0.8351,
             "common_name": "nir",
             "full_width_half_max": 0.145,
             "gsd": 10,
             "name": "B08"
            },
            {
             "center_wavelength": 0.8648,
             "full_width_half_max": 0.033,
             "gsd": 20,
             "name": "B8A"
            },
            {
             "center_wavelength": 0.945,
             "full_width_half_max": 0.026,
             "gsd": 60,
             "name": "B09"
            },
            {
             "center_wavelength": 0.13735,
             "common_name": "cirrus",
             "full_width_half_max": 0.075,
             "gsd": 60,
             "name": "B10"
            },
            {
             "center_wavelength": 0.16137,
             "common_name": "swir16",
             "full_width_half_max": 0.075,
             "gsd": 20,
             "name": "B11"
            },
            {
             "center_wavelength": 0.22024,
             "common_name": "swir22",
             "full_width_half_max": 0.242,
             "gsd": 20,
             "name": "B12"
            }
           ],
           "cloudCover": 0.0209,
           "completionTimeFromAscendingNode": "2021-01-18T11:04:01.024000+00:00",
           "contentDescription": {
            "cloudCoverPercentage": 0.0209
           },
           "creationDate": "2021-01-18T15:29:34.614000+00:00",
           "downloadLink": "https://sobloo.eu/api/v1/services/download/421d447a-0709-4cb9-8c4e-bf441a0a95ad",
           "enrichment": {
            "geonames": [
             {
              "name": "France",
              "states": [
               {
                "counties": [
                 {
                  "cities": [
                   {
                    "name": "Jonzac"
                   }
                  ],
                  "name": "Charente-Maritime",
                  "villages": [
                   {
                    "name": "Cercoux"
                   }
                  ]
                 },
                 {
                  "cities": [
                   {
                    "name": "Blaye"
                   },
                   {
                    "name": "Langon"
                   },
                   {
                    "name": "Libourne"
                   },
                   {
                    "name": "Bordeaux"
                   }
                  ],
                  "name": "Gironde",
                  "villages": [
                   {
                    "name": "Margueron"
                   },
                   {
                    "name": "Lapouyade"
                   },
                   {
                    "name": "Saint-Martin-de-Laye"
                   },
                   {
                    "name": "Cubzac-les-Ponts"
                   },
                   {
                    "name": "Laruscade"
                   },
                   {
                    "name": "Saint-Hippolyte"
                   },
                   {
                    "name": "Noaillan"
                   },
                   {
                    "name": "Saint-Christophe-de-Double"
                   },
                   {
                    "name": "Puisseguin"
                   },
                   {
                    "name": "Nérigean"
                   },
                   {
                    "name": "Saint-Michel-de-Castelnau"
                   },
                   {
                    "name": "Lagorce"
                   },
                   {
                    "name": "Cours-les-Bains"
                   },
                   {
                    "name": "Saint-Laurent-d'Arce"
                   },
                   {
                    "name": "Saint-Vincent-de-Paul"
                   },
                   {
                    "name": "Francs"
                   },
                   {
                    "name": "Lugasson"
                   },
                   {
                    "name": "Ruch"
                   },
                   {
                    "name": "Saint-Philippe-d'Aiguille"
                   },
                   {
                    "name": "Auriolles"
                   },
                   {
                    "name": "Sainte-Radegonde"
                   },
                   {
                    "name": "Sauveterre-de-Guyenne"
                   },
                   {
                    "name": "Camblanes-et-Meynac"
                   },
                   {
                    "name": "Cudos"
                   },
                   {
                    "name": "Cénac"
                   },
                   {
                    "name": "Saint-Mariens"
                   },
                   {
                    "name": "Belvès-de-Castillon"
                   },
                   {
                    "name": "Lartigue"
                   },
                   {
                    "name": "Aillas"
                   },
                   {
                    "name": "Landiras"
                   },
                   {
                    "name": "Saint-Genès-de-Fronsac"
                   },
                   {
                    "name": "Pineuilh"
                   },
                   {
                    "name": "Saint-Médard-de-Guizières"
                   },
                   {
                    "name": "Tizac-de-Lapouyade"
                   },
                   {
                    "name": "Saint-André-et-Appelles"
                   }
                  ]
                 },
                 {
                  "cities": [
                   {
                    "name": "Mont-de-Marsan"
                   }
                  ],
                  "name": "Landes"
                 },
                 {
                  "cities": [
                   {
                    "name": "Agen"
                   },
                   {
                    "name": "Villeneuve-sur-Lot"
                   },
                   {
                    "name": "Nérac"
                   },
                   {
                    "name": "Marmande"
                   }
                  ],
                  "name": "Lot-et-Garonne",
                  "villages": [
                   {
                    "name": "Castelnau-sur-Gupie"
                   },
                   {
                    "name": "Baleyssagues"
                   },
                   {
                    "name": "Nérac"
                   },
                   {
                    "name": "Doudrac"
                   },
                   {
                    "name": "Bournel"
                   },
                   {
                    "name": "Saint-Salvy"
                   },
                   {
                    "name": "Port-Sainte-Marie"
                   },
                   {
                    "name": "Sainte-Colombe-en-Bruilhois"
                   },
                   {
                    "name": "Hautesvignes"
                   },
                   {
                    "name": "Casteljaloux"
                   },
                   {
                    "name": "Saint-Pastour"
                   },
                   {
                    "name": "Esclottes"
                   },
                   {
                    "name": "Duras"
                   },
                   {
                    "name": "Laplume"
                   },
                   {
                    "name": "Ségalas"
                   },
                   {
                    "name": "Puymiclan"
                   },
                   {
                    "name": "Labastide-Castel-Amouroux"
                   },
                   {
                    "name": "Guérin"
                   },
                   {
                    "name": "Saint-Hilaire-de-Lusignan"
                   },
                   {
                    "name": "Castillonnès"
                   },
                   {
                    "name": "Montaut"
                   },
                   {
                    "name": "Pailloles"
                   }
                  ]
                 },
                 {
                  "cities": [
                   {
                    "name": "Bergerac"
                   },
                   {
                    "name": "Périgueux"
                   },
                   {
                    "name": "Sarlat-la-Canéda"
                   }
                  ],
                  "name": "Dordogne",
                  "villages": [
                   {
                    "name": "Lembras"
                   },
                   {
                    "name": "Saint-Martial-d'Artenset"
                   },
                   {
                    "name": "Sourzac"
                   },
                   {
                    "name": "Saint-Étienne-de-Puycorbier"
                   },
                   {
                    "name": "Eygurande-et-Gardedeuil"
                   },
                   {
                    "name": "Creyssensac-et-Pissot"
                   },
                   {
                    "name": "La Roche-Chalais"
                   },
                   {
                    "name": "Lanquais"
                   },
                   {
                    "name": "Razac-de-Saussignac"
                   },
                   {
                    "name": "Saint-Médard-de-Mussidan"
                   },
                   {
                    "name": "Plaisance"
                   },
                   {
                    "name": "Montpon-Ménestérol"
                   },
                   {
                    "name": "Villamblard"
                   },
                   {
                    "name": "Monmarvès"
                   },
                   {
                    "name": "Église-Neuve-d'Issac"
                   },
                   {
                    "name": "Monmadalès"
                   },
                   {
                    "name": "Saint-Géraud-de-Corps"
                   },
                   {
                    "name": "Saint-Pierre-d'Eyraud"
                   },
                   {
                    "name": "Les Lèches"
                   },
                   {
                    "name": "Monbazillac"
                   },
                   {
                    "name": "Saint-Avit-Sénieur"
                   },
                   {
                    "name": "Saint-Séverin-d'Estissac"
                   }
                  ]
                 }
                ],
                "name": "Nouvelle-Aquitaine"
               }
              ]
             }
            ],
            "naturallanguage": {
             "search_cloud_string": "cloud:partly_cloudy",
             "search_date_string": "2021 January 18 11: 11:04 11:04:01",
             "search_incidence_angle_string": "incidence:?",
             "search_quality_string": "quality:?"
            }
           },
           "eodag_product_type": "S2_MSI_L1C",
           "eodag_provider": "sobloo",
           "eodag_search_intersection": {
            "coordinates": [
             [
              [
               0.530636748653955,
               44.10924124071071
              ],
              [
               0,
               44.12404984798184
              ],
              [
               -0.500151210995916,
               44.13800768802703
              ],
              [
               -0.457368642755675,
               45.12552488296481
              ],
              [
               0,
               45.11253775273545
              ],
              [
               0.927250602487587,
               45.08620817260245
              ],
              [
               0.910821642587588,
               45.04649709533156
              ],
              [
               0.851495478671671,
               44.900866653885046
              ],
              [
               0.791922756585697,
               44.75531586131342
              ],
              [
               0.7325154306541,
               44.609631972569936
              ],
              [
               0.673124885378234,
               44.463936213325496
              ],
              [
               0.614004826942123,
               44.31827188596211
              ],
              [
               0.555872664814201,
               44.17253559018692
              ],
              [
               0.530636748653955,
               44.10924124071071
              ]
             ]
            ],
            "type": "Polygon"
           },
           "identification": {
            "collection": "Sentinel-2",
            "dataset": {},
            "externalId": "S2A_MSIL1C_20210118T110401_N0209_R094_T30TYQ_20210118T131217",
            "hvTileId": "TQ30Y",
            "profile": "Image",
            "tileId": "30TYQ",
            "type": "S2MSI1C"
           },
           "illumination": {},
           "instrument": "MSI",
           "license": "proprietary",
           "missionStartDate": "2015-06-23T00:00:00Z",
           "orbit": {
            "direction": "DESCENDING",
            "number": 29120,
            "relativeNumber": 94
           },
           "orbitDirection": "DESCENDING",
           "orbitNumber": 29120,
           "platform": "Sentinel-2",
           "platformSerialIdentifier": "S2A",
           "processingLevel": "Level-1C",
           "productType": "S2MSI1C",
           "production": {
            "baseline": "02.09",
            "levelCode": "Level-1C",
            "ongoing": false
           },
           "provider": {},
           "quality": {
            "qualified": false
           },
           "quicklook": "https://sobloo.eu/api/v1/services/quicklook/421d447a-0709-4cb9-8c4e-bf441a0a95ad",
           "sensorMode": "INS-NOBS",
           "sensorType": "OPTICAL",
           "spatialCoverage": {
            "geometry": {
             "centerPoint": {
              "lat": 44.63881030412535,
              "lon": 0.1299562568769784
             },
             "geographicBoundingPolygon": {
              "coordinates": [
               [
                [
                 0.530636748653955,
                 44.10924124071071
                ],
                [
                 0.555872664814201,
                 44.17253559018692
                ],
                [
                 0.614004826942123,
                 44.31827188596211
                ],
                [
                 0.673124885378234,
                 44.463936213325496
                ],
                [
                 0.7325154306541,
                 44.609631972569936
                ],
                [
                 0.791922756585697,
                 44.75531586131342
                ],
                [
                 0.851495478671671,
                 44.900866653885046
                ],
                [
                 0.910821642587588,
                 45.04649709533156
                ],
                [
                 0.927250602487587,
                 45.08620817260245
                ],
                [
                 0,
                 45.11253775273545
                ],
                [
                 -0.457368642755675,
                 45.12552488296481
                ],
                [
                 -0.500151210995916,
                 44.13800768802703
                ],
                [
                 0,
                 44.12404984798184
                ],
                [
                 0.530636748653955,
                 44.10924124071071
                ]
               ]
              ],
              "type": "Polygon"
             },
             "global": false
            },
            "verticality": {}
           },
           "startTimeFromAscendingNode": "2021-01-18T11:04:01.024000+00:00",
           "state": {
            "insertionDate": 1610983774614,
            "resources": {
             "quicklook": true,
             "thumbnail": true
            },
            "services": {
             "download": "internal",
             "wcs": false,
             "wms": false,
             "wmts": false
            }
           },
           "storageStatus": "ONLINE",
           "style": {
            "color": "red"
           },
           "target": {},
           "timeStamp": 1610967841024,
           "title": "S2A_MSIL1C_20210118T110401_N0209_R094_T30TYQ_20210118T131217",
           "transmission": {},
           "uid": "421d447a-0709-4cb9-8c4e-bf441a0a95ad",
           "visibility": {
            "deleted": false
           }
          },
          "type": "Feature"
         },
         {
          "geometry": {
           "coordinates": [
            [
             [
              -0.336495792231452,
              45.034190140253024
             ],
             [
              -0.289455852402278,
              46.02142174250963
             ],
             [
              -1.707467964166699,
              46.046265456303395
             ],
             [
              -1.729924328222515,
              45.05819732058294
             ],
             [
              -0.336495792231452,
              45.034190140253024
             ]
            ]
           ],
           "type": "Polygon"
          },
          "id": "S2A_MSIL1C_20210118T110401_N0209_R094_T30TXR_20210118T131217",
          "properties": {
           "abstract": "The Level-1C product is composed of 100x100 km2 tiles (ortho-images in UTM/WGS84 projection). It results from\nusing a Digital Elevation Model (DEM) to project the image in cartographic geometry. Per-pixel radiometric\nmeasurements are provided in Top Of Atmosphere (TOA) reflectances along with the parameters to transform them\ninto radiances. Level-1C products are resampled with a constant Ground Sampling Distance (GSD) of 10, 20 and 60\nmeters depending on the native resolution of the different spectral bands. In Level-1C  products, pixel\ncoordinates refer to the upper left corner of the pixel. Level-1C products will additionally include Cloud Masks\nand ECMWF data (total column of ozone, total column of water vapour and mean sea level pressure).\n",
           "acquisition": {
            "beginViewingDate": 1610967841024,
            "centerViewingDate": 1610967841024,
            "endViewingDate": 1610967841024,
            "mission": "Sentinel-2",
            "missionCode": "S2A",
            "missionId": "A",
            "missionName": "Sentinel-2A",
            "sensorId": "MSI",
            "sensorMode": "INS-NOBS"
           },
           "archive": {
            "filename": "S2A_MSIL1C_20210118T110401_N0209_R094_T30TXR_20210118T131217.SAFE",
            "format": "SAFE",
            "offLine": false,
            "onLine": false,
            "size": 751
           },
           "attachments": [],
           "attitude": {},
           "bands": [
            {
             "center_wavelength": 0.4439,
             "common_name": "coastal",
             "full_width_half_max": 0.027,
             "gsd": 60,
             "name": "B01"
            },
            {
             "center_wavelength": 0.4966,
             "common_name": "blue",
             "full_width_half_max": 0.098,
             "gsd": 10,
             "name": "B02"
            },
            {
             "center_wavelength": 0.56,
             "common_name": "green",
             "full_width_half_max": 0.045,
             "gsd": 10,
             "name": "B03"
            },
            {
             "center_wavelength": 0.6645,
             "common_name": "red",
             "full_width_half_max": 0.038,
             "gsd": 10,
             "name": "B04"
            },
            {
             "center_wavelength": 0.7039,
             "full_width_half_max": 0.019,
             "gsd": 20,
             "name": "B05"
            },
            {
             "center_wavelength": 0.7402,
             "full_width_half_max": 0.018,
             "gsd": 20,
             "name": "B06"
            },
            {
             "center_wavelength": 0.7825,
             "full_width_half_max": 0.028,
             "gsd": 20,
             "name": "B07"
            },
            {
             "center_wavelength": 0.8351,
             "common_name": "nir",
             "full_width_half_max": 0.145,
             "gsd": 10,
             "name": "B08"
            },
            {
             "center_wavelength": 0.8648,
             "full_width_half_max": 0.033,
             "gsd": 20,
             "name": "B8A"
            },
            {
             "center_wavelength": 0.945,
             "full_width_half_max": 0.026,
             "gsd": 60,
             "name": "B09"
            },
            {
             "center_wavelength": 0.13735,
             "common_name": "cirrus",
             "full_width_half_max": 0.075,
             "gsd": 60,
             "name": "B10"
            },
            {
             "center_wavelength": 0.16137,
             "common_name": "swir16",
             "full_width_half_max": 0.075,
             "gsd": 20,
             "name": "B11"
            },
            {
             "center_wavelength": 0.22024,
             "common_name": "swir22",
             "full_width_half_max": 0.242,
             "gsd": 20,
             "name": "B12"
            }
           ],
           "cloudCover": 1.3037,
           "completionTimeFromAscendingNode": "2021-01-18T11:04:01.024000+00:00",
           "contentDescription": {
            "cloudCoverPercentage": 1.3037
           },
           "creationDate": "2021-01-18T15:29:36.425000+00:00",
           "downloadLink": "https://sobloo.eu/api/v1/services/download/f72cbc13-d887-469b-a09f-455c12169d30",
           "enrichment": {
            "geonames": [
             {
              "name": "France",
              "states": [
               {
                "counties": [
                 {
                  "cities": [
                   {
                    "name": "Lesparre-Médoc"
                   },
                   {
                    "name": "Blaye"
                   },
                   {
                    "name": "Bordeaux"
                   },
                   {
                    "name": "Libourne"
                   }
                  ],
                  "name": "Gironde",
                  "villages": [
                   {
                    "name": "Saint-Mariens"
                   },
                   {
                    "name": "Cubnezais"
                   },
                   {
                    "name": "Blaye"
                   },
                   {
                    "name": "Saint-Vivien-de-Blaye"
                   },
                   {
                    "name": "Saint-Genès-de-Fronsac"
                   },
                   {
                    "name": "Comps"
                   },
                   {
                    "name": "Tizac-de-Lapouyade"
                   },
                   {
                    "name": "Cantenac"
                   },
                   {
                    "name": "Moulis-en-Médoc"
                   },
                   {
                    "name": "Saint-Christoly-Médoc"
                   },
                   {
                    "name": "Saint-Savin"
                   },
                   {
                    "name": "Macau"
                   },
                   {
                    "name": "Listrac-Médoc"
                   },
                   {
                    "name": "Laruscade"
                   },
                   {
                    "name": "Saint-Laurent-d'Arce"
                   },
                   {
                    "name": "Ordonnac"
                   },
                   {
                    "name": "Générac"
                   }
                  ]
                 },
                 {
                  "cities": [
                   {
                    "name": "Cognac"
                   }
                  ],
                  "name": "Charente",
                  "villages": [
                   {
                    "name": "Saint-Palais-du-Né"
                   },
                   {
                    "name": "Cognac"
                   },
                   {
                    "name": "Cherves-Richemont"
                   },
                   {
                    "name": "Salles-d'Angles"
                   },
                   {
                    "name": "Louzac-Saint-André"
                   },
                   {
                    "name": "Ars"
                   }
                  ]
                 },
                 {
                  "cities": [
                   {
                    "name": "Saint-Jean-d'Angély"
                   },
                   {
                    "name": "Rochefort"
                   },
                   {
                    "name": "Jonzac"
                   }
                  ],
                  "name": "Charente-Maritime",
                  "villages": [
                   {
                    "name": "Gibourne"
                   },
                   {
                    "name": "Saint-Germain-de-Lusignan"
                   },
                   {
                    "name": "Soubran"
                   },
                   {
                    "name": "Saint-Georges-d'Oléron"
                   },
                   {
                    "name": "Pommiers-Moulons"
                   },
                   {
                    "name": "Saint-Augustin"
                   },
                   {
                    "name": "La Frédière"
                   },
                   {
                    "name": "Courpignac"
                   },
                   {
                    "name": "Chamouillac"
                   },
                   {
                    "name": "Aumagne"
                   },
                   {
                    "name": "Bois"
                   },
                   {
                    "name": "Léoville"
                   },
                   {
                    "name": "Breuillet"
                   },
                   {
                    "name": "Yves"
                   },
                   {
                    "name": "Semillac"
                   },
                   {
                    "name": "Saint-Georges-Antignac"
                   },
                   {
                    "name": "Hiers-Brouage"
                   },
                   {
                    "name": "Saint-Sulpice-de-Royan"
                   },
                   {
                    "name": "Tonnay-Boutonne"
                   },
                   {
                    "name": "Aujac"
                   },
                   {
                    "name": "Mirambeau"
                   },
                   {
                    "name": "Saint-Bonnet-sur-Gironde"
                   },
                   {
                    "name": "La Brousse"
                   },
                   {
                    "name": "Le Grand-Village-Plage"
                   },
                   {
                    "name": "Jarnac-Champagne"
                   },
                   {
                    "name": "Saint-Martin-de-Juillers"
                   },
                   {
                    "name": "Courcelles"
                   },
                   {
                    "name": "Vaux-sur-Mer"
                   },
                   {
                    "name": "Chepniers"
                   },
                   {
                    "name": "Le Château-d'Oléron"
                   },
                   {
                    "name": "Ciré-d'Aunis"
                   },
                   {
                    "name": "Rouffignac"
                   },
                   {
                    "name": "Saint-Hilaire-du-Bois"
                   },
                   {
                    "name": "Villexavier"
                   },
                   {
                    "name": "Saint-Sornin"
                   },
                   {
                    "name": "Mons"
                   },
                   {
                    "name": "Souméras"
                   },
                   {
                    "name": "Authon-Ébéon"
                   },
                   {
                    "name": "Saint-Thomas-de-Conac"
                   },
                   {
                    "name": "Mosnac"
                   },
                   {
                    "name": "Essouvert"
                   },
                   {
                    "name": "Saint-Pierre-d'Oléron"
                   },
                   {
                    "name": "Saint-Palais-sur-Mer"
                   },
                   {
                    "name": "Saint-Savinien"
                   }
                  ]
                 }
                ],
                "name": "Nouvelle-Aquitaine"
               }
              ]
             }
            ],
            "naturallanguage": {
             "search_cloud_string": "cloud:partly_cloudy",
             "search_date_string": "2021 January 18 11: 11:04 11:04:01",
             "search_incidence_angle_string": "incidence:?",
             "search_quality_string": "quality:?"
            }
           },
           "eodag_product_type": "S2_MSI_L1C",
           "eodag_provider": "sobloo",
           "eodag_search_intersection": {
            "coordinates": [
             [
              [
               -0.336495792231452,
               45.034190140253024
              ],
              [
               -1.729924328222515,
               45.05819732058294
              ],
              [
               -1.707467964166699,
               46.046265456303395
              ],
              [
               -0.289455852402278,
               46.02142174250963
              ],
              [
               -0.336495792231452,
               45.034190140253024
              ]
             ]
            ],
            "type": "Polygon"
           },
           "identification": {
            "collection": "Sentinel-2",
            "dataset": {},
            "externalId": "S2A_MSIL1C_20210118T110401_N0209_R094_T30TXR_20210118T131217",
            "hvTileId": "TR30X",
            "profile": "Image",
            "tileId": "30TXR",
            "type": "S2MSI1C"
           },
           "illumination": {},
           "instrument": "MSI",
           "license": "proprietary",
           "missionStartDate": "2015-06-23T00:00:00Z",
           "orbit": {
            "direction": "DESCENDING",
            "number": 29120,
            "relativeNumber": 94
           },
           "orbitDirection": "DESCENDING",
           "orbitNumber": 29120,
           "platform": "Sentinel-2",
           "platformSerialIdentifier": "S2A",
           "processingLevel": "Level-1C",
           "productType": "S2MSI1C",
           "production": {
            "baseline": "02.09",
            "levelCode": "Level-1C",
            "ongoing": false
           },
           "provider": {},
           "quality": {
            "qualified": false
           },
           "quicklook": "https://sobloo.eu/api/v1/services/quicklook/f72cbc13-d887-469b-a09f-455c12169d30",
           "sensorMode": "INS-NOBS",
           "sensorType": "OPTICAL",
           "spatialCoverage": {
            "geometry": {
             "centerPoint": {
              "lat": 45.54145970575801,
              "lon": -1.0158338398713007
             },
             "geographicBoundingPolygon": {
              "coordinates": [
               [
                [
                 -0.336495792231452,
                 45.034190140253024
                ],
                [
                 -0.289455852402278,
                 46.02142174250963
                ],
                [
                 -1.707467964166699,
                 46.046265456303395
                ],
                [
                 -1.729924328222515,
                 45.05819732058294
                ],
                [
                 -0.336495792231452,
                 45.034190140253024
                ]
               ]
              ],
              "type": "Polygon"
             },
             "global": false
            },
            "verticality": {}
           },
           "startTimeFromAscendingNode": "2021-01-18T11:04:01.024000+00:00",
           "state": {
            "insertionDate": 1610983776425,
            "resources": {
             "quicklook": true,
             "thumbnail": true
            },
            "services": {
             "download": "internal",
             "wcs": false,
             "wms": false,
             "wmts": false
            }
           },
           "storageStatus": "ONLINE",
           "style": {
            "color": "red"
           },
           "target": {},
           "timeStamp": 1610967841024,
           "title": "S2A_MSIL1C_20210118T110401_N0209_R094_T30TXR_20210118T131217",
           "transmission": {},
           "uid": "f72cbc13-d887-469b-a09f-455c12169d30",
           "visibility": {
            "deleted": false
           }
          },
          "type": "Feature"
         },
         {
          "geometry": {
           "coordinates": [
            [
             [
              0.869986766421332,
              44.099770918209835
             ],
             [
              0.936097556086391,
              45.08595696049961
             ],
             [
              0,
              45.11253795923955
             ],
             [
              -0.4074402,
              45.12410744510391
             ],
             [
              -0.4095459,
              45.11802358626529
             ],
             [
              -0.45980835,
              44.97133812335457
             ],
             [
              -0.46466064,
              44.95708824903188
             ],
             [
              -0.5001526,
              44.13800768802703
             ],
             [
              0,
              44.124049823368615
             ],
             [
              0.869986766421332,
              44.099770918209835
             ]
            ]
           ],
           "type": "Polygon"
          },
          "id": "S2B_MSIL1C_20210110T105329_N0209_R051_T30TYQ_20210110T130049",
          "properties": {
           "abstract": "The Level-1C product is composed of 100x100 km2 tiles (ortho-images in UTM/WGS84 projection). It results from\nusing a Digital Elevation Model (DEM) to project the image in cartographic geometry. Per-pixel radiometric\nmeasurements are provided in Top Of Atmosphere (TOA) reflectances along with the parameters to transform them\ninto radiances. Level-1C products are resampled with a constant Ground Sampling Distance (GSD) of 10, 20 and 60\nmeters depending on the native resolution of the different spectral bands. In Level-1C  products, pixel\ncoordinates refer to the upper left corner of the pixel. Level-1C products will additionally include Cloud Masks\nand ECMWF data (total column of ozone, total column of water vapour and mean sea level pressure).\n",
           "acquisition": {
            "beginViewingDate": 1610276009024,
            "centerViewingDate": 1610276009024,
            "endViewingDate": 1610276009024,
            "mission": "Sentinel-2",
            "missionCode": "S2B",
            "missionId": "B",
            "missionName": "Sentinel-2B",
            "sensorId": "MSI",
            "sensorMode": "INS-NOBS"
           },
           "archive": {
            "filename": "S2B_MSIL1C_20210110T105329_N0209_R051_T30TYQ_20210110T130049.SAFE",
            "format": "SAFE",
            "offLine": false,
            "onLine": false,
            "size": 797
           },
           "attachments": [],
           "attitude": {},
           "bands": [
            {
             "center_wavelength": 0.4439,
             "common_name": "coastal",
             "full_width_half_max": 0.027,
             "gsd": 60,
             "name": "B01"
            },
            {
             "center_wavelength": 0.4966,
             "common_name": "blue",
             "full_width_half_max": 0.098,
             "gsd": 10,
             "name": "B02"
            },
            {
             "center_wavelength": 0.56,
             "common_name": "green",
             "full_width_half_max": 0.045,
             "gsd": 10,
             "name": "B03"
            },
            {
             "center_wavelength": 0.6645,
             "common_name": "red",
             "full_width_half_max": 0.038,
             "gsd": 10,
             "name": "B04"
            },
            {
             "center_wavelength": 0.7039,
             "full_width_half_max": 0.019,
             "gsd": 20,
             "name": "B05"
            },
            {
             "center_wavelength": 0.7402,
             "full_width_half_max": 0.018,
             "gsd": 20,
             "name": "B06"
            },
            {
             "center_wavelength": 0.7825,
             "full_width_half_max": 0.028,
             "gsd": 20,
             "name": "B07"
            },
            {
             "center_wavelength": 0.8351,
             "common_name": "nir",
             "full_width_half_max": 0.145,
             "gsd": 10,
             "name": "B08"
            },
            {
             "center_wavelength": 0.8648,
             "full_width_half_max": 0.033,
             "gsd": 20,
             "name": "B8A"
            },
            {
             "center_wavelength": 0.945,
             "full_width_half_max": 0.026,
             "gsd": 60,
             "name": "B09"
            },
            {
             "center_wavelength": 0.13735,
             "common_name": "cirrus",
             "full_width_half_max": 0.075,
             "gsd": 60,
             "name": "B10"
            },
            {
             "center_wavelength": 0.16137,
             "common_name": "swir16",
             "full_width_half_max": 0.075,
             "gsd": 20,
             "name": "B11"
            },
            {
             "center_wavelength": 0.22024,
             "common_name": "swir22",
             "full_width_half_max": 0.242,
             "gsd": 20,
             "name": "B12"
            }
           ],
           "cloudCover": 2.2235,
           "completionTimeFromAscendingNode": "2021-01-10T10:53:29.024000+00:00",
           "contentDescription": {
            "cloudCoverPercentage": 2.2235
           },
           "creationDate": "2021-01-10T15:17:00.524000+00:00",
           "downloadLink": "https://sobloo.eu/api/v1/services/download/e7fb7a56-7ff3-4c43-83f4-09e7f0a412a2",
           "enrichment": {
            "geonames": [
             {
              "name": "France",
              "states": [
               {
                "counties": [
                 {
                  "cities": [
                   {
                    "name": "Castelsarrasin"
                   }
                  ],
                  "name": "Tarn-et-Garonne",
                  "villages": [
                   {
                    "name": "Valence"
                   },
                   {
                    "name": "Perville"
                   }
                  ]
                 }
                ],
                "name": "Occitanie"
               },
               {
                "counties": [
                 {
                  "cities": [
                   {
                    "name": "Jonzac"
                   }
                  ],
                  "name": "Charente-Maritime",
                  "villages": [
                   {
                    "name": "Cercoux"
                   }
                  ]
                 },
                 {
                  "cities": [
                   {
                    "name": "Blaye"
                   },
                   {
                    "name": "Langon"
                   },
                   {
                    "name": "Bordeaux"
                   },
                   {
                    "name": "Libourne"
                   }
                  ],
                  "name": "Gironde",
                  "villages": [
                   {
                    "name": "Margueron"
                   },
                   {
                    "name": "Saint-Philippe-d'Aiguille"
                   },
                   {
                    "name": "Laruscade"
                   },
                   {
                    "name": "Sauveterre-de-Guyenne"
                   },
                   {
                    "name": "Saint-Martin-de-Laye"
                   },
                   {
                    "name": "Saint-Mariens"
                   },
                   {
                    "name": "Aillas"
                   },
                   {
                    "name": "Saint-Christophe-de-Double"
                   },
                   {
                    "name": "Auriolles"
                   },
                   {
                    "name": "Saint-Vincent-de-Paul"
                   },
                   {
                    "name": "Ruch"
                   },
                   {
                    "name": "Cours-les-Bains"
                   },
                   {
                    "name": "Landiras"
                   },
                   {
                    "name": "Saint-André-et-Appelles"
                   },
                   {
                    "name": "Camblanes-et-Meynac"
                   },
                   {
                    "name": "Francs"
                   },
                   {
                    "name": "Cénac"
                   },
                   {
                    "name": "Pineuilh"
                   },
                   {
                    "name": "Saint-Hippolyte"
                   },
                   {
                    "name": "Saint-Médard-de-Guizières"
                   },
                   {
                    "name": "Nérigean"
                   },
                   {
                    "name": "Belvès-de-Castillon"
                   },
                   {
                    "name": "Sainte-Radegonde"
                   },
                   {
                    "name": "Lugasson"
                   },
                   {
                    "name": "Lagorce"
                   },
                   {
                    "name": "Saint-Genès-de-Fronsac"
                   }
                  ]
                 },
                 {
                  "cities": [
                   {
                    "name": "Sarlat-la-Canéda"
                   },
                   {
                    "name": "Bergerac"
                   },
                   {
                    "name": "Périgueux"
                   }
                  ],
                  "name": "Dordogne",
                  "villages": [
                   {
                    "name": "Capdrot"
                   },
                   {
                    "name": "Eygurande-et-Gardedeuil"
                   },
                   {
                    "name": "Plaisance"
                   },
                   {
                    "name": "Montferrand-du-Périgord"
                   },
                   {
                    "name": "Mauzens-et-Miremont"
                   },
                   {
                    "name": "Saint-Étienne-de-Puycorbier"
                   },
                   {
                    "name": "Creyssensac-et-Pissot"
                   },
                   {
                    "name": "Saint-Médard-de-Mussidan"
                   },
                   {
                    "name": "Fougueyrolles"
                   },
                   {
                    "name": "Saint-Géraud-de-Corps"
                   },
                   {
                    "name": "Saint-Séverin-d'Estissac"
                   },
                   {
                    "name": "Monmarvès"
                   },
                   {
                    "name": "Lembras"
                   },
                   {
                    "name": "Vergt-de-Biron"
                   },
                   {
                    "name": "Monbazillac"
                   },
                   {
                    "name": "Saint-Avit-Sénieur"
                   },
                   {
                    "name": "Lanquais"
                   },
                   {
                    "name": "Villamblard"
                   },
                   {
                    "name": "Monmadalès"
                   },
                   {
                    "name": "Église-Neuve-d'Issac"
                   },
                   {
                    "name": "Montpon-Ménestérol"
                   },
                   {
                    "name": "Saint-Pierre-d'Eyraud"
                   },
                   {
                    "name": "Saint-Martial-d'Artenset"
                   },
                   {
                    "name": "Razac-de-Saussignac"
                   },
                   {
                    "name": "La Roche-Chalais"
                   },
                   {
                    "name": "Sourzac"
                   },
                   {
                    "name": "Les Lèches"
                   }
                  ]
                 },
                 {
                  "cities": [
                   {
                    "name": "Nérac"
                   },
                   {
                    "name": "Marmande"
                   },
                   {
                    "name": "Villeneuve-sur-Lot"
                   },
                   {
                    "name": "Agen"
                   }
                  ],
                  "name": "Lot-et-Garonne",
                  "villages": [
                   {
                    "name": "Duras"
                   },
                   {
                    "name": "Casteljaloux"
                   },
                   {
                    "name": "Baleyssagues"
                   },
                   {
                    "name": "Labastide-Castel-Amouroux"
                   },
                   {
                    "name": "Saint-Salvy"
                   },
                   {
                    "name": "Laplume"
                   },
                   {
                    "name": "Saint-Pastour"
                   },
                   {
                    "name": "Doudrac"
                   },
                   {
                    "name": "Sainte-Colombe-en-Bruilhois"
                   },
                   {
                    "name": "Ségalas"
                   },
                   {
                    "name": "Caudecoste"
                   },
                   {
                    "name": "Saint-Hilaire-de-Lusignan"
                   },
                   {
                    "name": "Esclottes"
                   },
                   {
                    "name": "Bournel"
                   },
                   {
                    "name": "Castillonnès"
                   },
                   {
                    "name": "Hautesvignes"
                   },
                   {
                    "name": "Montaut"
                   },
                   {
                    "name": "Puymiclan"
                   },
                   {
                    "name": "Guérin"
                   },
                   {
                    "name": "Port-Sainte-Marie"
                   },
                   {
                    "name": "Castelnau-sur-Gupie"
                   }
                  ]
                 },
                 {
                  "cities": [
                   {
                    "name": "Mont-de-Marsan"
                   }
                  ],
                  "name": "Landes"
                 }
                ],
                "name": "Nouvelle-Aquitaine"
               }
              ]
             }
            ],
            "naturallanguage": {
             "search_cloud_string": "cloud:partly_cloudy",
             "search_date_string": "2021 January 10 10: 10:53 10:53:29",
             "search_incidence_angle_string": "incidence:?",
             "search_quality_string": "quality:?"
            }
           },
           "eodag_product_type": "S2_MSI_L1C",
           "eodag_provider": "sobloo",
           "eodag_search_intersection": {
            "coordinates": [
             [
              [
               0.869986766421332,
               44.099770918209835
              ],
              [
               0,
               44.124049823368615
              ],
              [
               -0.5001526,
               44.13800768802703
              ],
              [
               -0.46466064,
               44.95708824903188
              ],
              [
               -0.45980835,
               44.97133812335457
              ],
              [
               -0.4095459,
               45.11802358626529
              ],
              [
               -0.4074402,
               45.12410744510391
              ],
              [
               0,
               45.11253795923955
              ],
              [
               0.936097556086391,
               45.08595696049961
              ],
              [
               0.869986766421332,
               44.099770918209835
              ]
             ]
            ],
            "type": "Polygon"
           },
           "identification": {
            "collection": "Sentinel-2",
            "dataset": {},
            "externalId": "S2B_MSIL1C_20210110T105329_N0209_R051_T30TYQ_20210110T130049",
            "hvTileId": "TQ30Y",
            "profile": "Image",
            "tileId": "30TYQ",
            "type": "S2MSI1C"
           },
           "illumination": {},
           "instrument": "MSI",
           "license": "proprietary",
           "missionStartDate": "2015-06-23T00:00:00Z",
           "orbit": {
            "direction": "DESCENDING",
            "number": 20097,
            "relativeNumber": 51
           },
           "orbitDirection": "DESCENDING",
           "orbitNumber": 20097,
           "platform": "Sentinel-2",
           "platformSerialIdentifier": "S2B",
           "processingLevel": "Level-1C",
           "productType": "S2MSI1C",
           "production": {
            "baseline": "02.09",
            "levelCode": "Level-1C",
            "ongoing": false
           },
           "provider": {},
           "quality": {
            "qualified": false
           },
           "quicklook": "https://sobloo.eu/api/v1/services/quicklook/e7fb7a56-7ff3-4c43-83f4-09e7f0a412a2",
           "sensorMode": "INS-NOBS",
           "sensorType": "OPTICAL",
           "spatialCoverage": {
            "geometry": {
             "centerPoint": {
              "lat": 44.612301373677106,
              "lon": 0.21416458520301881
             },
             "geographicBoundingPolygon": {
              "coordinates": [
               [
                [
                 0.869986766421332,
                 44.099770918209835
                ],
                [
                 0.936097556086391,
                 45.08595696049961
                ],
                [
                 0,
                 45.11253795923955
                ],
                [
                 -0.4074402,
                 45.12410744510391
                ],
                [
                 -0.4095459,
                 45.11802358626529
                ],
                [
                 -0.45980835,
                 44.97133812335457
                ],
                [
                 -0.46466064,
                 44.95708824903188
                ],
                [
                 -0.5001526,
                 44.13800768802703
                ],
                [
                 0,
                 44.124049823368615
                ],
                [
                 0.869986766421332,
                 44.099770918209835
                ]
               ]
              ],
              "type": "Polygon"
             },
             "global": false
            },
            "verticality": {}
           },
           "startTimeFromAscendingNode": "2021-01-10T10:53:29.024000+00:00",
           "state": {
            "insertionDate": 1610291820524,
            "resources": {
             "quicklook": true,
             "thumbnail": true
            },
            "services": {
             "download": "internal",
             "wcs": false,
             "wms": false,
             "wmts": false
            }
           },
           "storageStatus": "ONLINE",
           "style": {
            "color": "red"
           },
           "target": {},
           "timeStamp": 1610276009024,
           "title": "S2B_MSIL1C_20210110T105329_N0209_R051_T30TYQ_20210110T130049",
           "transmission": {},
           "uid": "e7fb7a56-7ff3-4c43-83f4-09e7f0a412a2",
           "visibility": {
            "deleted": false
           }
          },
          "type": "Feature"
         },
         {
          "geometry": {
           "coordinates": [
            [
             [
              2.999750708112026,
              43.95524095200904
             ],
             [
              3.018033244913145,
              44.000801945423504
             ],
             [
              3.076193903368761,
              44.14658096408308
             ],
             [
              3.118553553782752,
              44.25270268099162
             ],
             [
              2.999749474120944,
              44.25341758107761
             ],
             [
              2.999750708112026,
              43.95524095200904
             ]
            ]
           ],
           "type": "Polygon"
          },
          "id": "S2B_MSIL1C_20210110T105329_N0209_R051_T31TEJ_20210110T130049",
          "properties": {
           "abstract": "The Level-1C product is composed of 100x100 km2 tiles (ortho-images in UTM/WGS84 projection). It results from\nusing a Digital Elevation Model (DEM) to project the image in cartographic geometry. Per-pixel radiometric\nmeasurements are provided in Top Of Atmosphere (TOA) reflectances along with the parameters to transform them\ninto radiances. Level-1C products are resampled with a constant Ground Sampling Distance (GSD) of 10, 20 and 60\nmeters depending on the native resolution of the different spectral bands. In Level-1C  products, pixel\ncoordinates refer to the upper left corner of the pixel. Level-1C products will additionally include Cloud Masks\nand ECMWF data (total column of ozone, total column of water vapour and mean sea level pressure).\n",
           "acquisition": {
            "beginViewingDate": 1610276009024,
            "centerViewingDate": 1610276009024,
            "endViewingDate": 1610276009024,
            "mission": "Sentinel-2",
            "missionCode": "S2B",
            "missionId": "B",
            "missionName": "Sentinel-2B",
            "sensorId": "MSI",
            "sensorMode": "INS-NOBS"
           },
           "archive": {
            "filename": "S2B_MSIL1C_20210110T105329_N0209_R051_T31TEJ_20210110T130049.SAFE",
            "format": "SAFE",
            "offLine": false,
            "onLine": false,
            "size": 31
           },
           "attachments": [],
           "attitude": {},
           "bands": [
            {
             "center_wavelength": 0.4439,
             "common_name": "coastal",
             "full_width_half_max": 0.027,
             "gsd": 60,
             "name": "B01"
            },
            {
             "center_wavelength": 0.4966,
             "common_name": "blue",
             "full_width_half_max": 0.098,
             "gsd": 10,
             "name": "B02"
            },
            {
             "center_wavelength": 0.56,
             "common_name": "green",
             "full_width_half_max": 0.045,
             "gsd": 10,
             "name": "B03"
            },
            {
             "center_wavelength": 0.6645,
             "common_name": "red",
             "full_width_half_max": 0.038,
             "gsd": 10,
             "name": "B04"
            },
            {
             "center_wavelength": 0.7039,
             "full_width_half_max": 0.019,
             "gsd": 20,
             "name": "B05"
            },
            {
             "center_wavelength": 0.7402,
             "full_width_half_max": 0.018,
             "gsd": 20,
             "name": "B06"
            },
            {
             "center_wavelength": 0.7825,
             "full_width_half_max": 0.028,
             "gsd": 20,
             "name": "B07"
            },
            {
             "center_wavelength": 0.8351,
             "common_name": "nir",
             "full_width_half_max": 0.145,
             "gsd": 10,
             "name": "B08"
            },
            {
             "center_wavelength": 0.8648,
             "full_width_half_max": 0.033,
             "gsd": 20,
             "name": "B8A"
            },
            {
             "center_wavelength": 0.945,
             "full_width_half_max": 0.026,
             "gsd": 60,
             "name": "B09"
            },
            {
             "center_wavelength": 0.13735,
             "common_name": "cirrus",
             "full_width_half_max": 0.075,
             "gsd": 60,
             "name": "B10"
            },
            {
             "center_wavelength": 0.16137,
             "common_name": "swir16",
             "full_width_half_max": 0.075,
             "gsd": 20,
             "name": "B11"
            },
            {
             "center_wavelength": 0.22024,
             "common_name": "swir22",
             "full_width_half_max": 0.242,
             "gsd": 20,
             "name": "B12"
            }
           ],
           "cloudCover": 0.3882,
           "completionTimeFromAscendingNode": "2021-01-10T10:53:29.024000+00:00",
           "contentDescription": {
            "cloudCoverPercentage": 0.3882
           },
           "creationDate": "2021-01-10T15:22:49.286000+00:00",
           "downloadLink": "https://sobloo.eu/api/v1/services/download/31b2f1a8-046e-4e15-a83a-3bce3f6c1837",
           "enrichment": {
            "geonames": [
             {
              "name": "France",
              "states": [
               {
                "counties": [
                 {
                  "cities": [
                   {
                    "name": "Millau"
                   }
                  ],
                  "name": "Aveyron",
                  "villages": [
                   {
                    "name": "Castelnau-Pégayrols"
                   },
                   {
                    "name": "Rivière-sur-Tarn"
                   },
                   {
                    "name": "Millau"
                   },
                   {
                    "name": "Roquefort-sur-Soulzon"
                   },
                   {
                    "name": "Saint-Georges-de-Luzençon"
                   },
                   {
                    "name": "Tournemire"
                   },
                   {
                    "name": "Creissels"
                   },
                   {
                    "name": "Saint-Léons"
                   },
                   {
                    "name": "Aguessac"
                   },
                   {
                    "name": "Comprégnac"
                   },
                   {
                    "name": "Vézins-de-Lévézou"
                   },
                   {
                    "name": "Sévérac-d'Aveyron"
                   },
                   {
                    "name": "Saint-Rome-de-Cernon"
                   },
                   {
                    "name": "Verrières"
                   },
                   {
                    "name": "Compeyre"
                   },
                   {
                    "name": "Saint-Beauzély"
                   }
                  ]
                 }
                ],
                "name": "Occitanie"
               }
              ]
             }
            ],
            "naturallanguage": {
             "search_cloud_string": "cloud:partly_cloudy",
             "search_date_string": "2021 January 10 10: 10:53 10:53:29",
             "search_incidence_angle_string": "incidence:?",
             "search_quality_string": "quality:?"
            }
           },
           "eodag_product_type": "S2_MSI_L1C",
           "eodag_provider": "sobloo",
           "eodag_search_intersection": {
            "coordinates": [
             [
              [
               2.999750708112026,
               43.95524095200904
              ],
              [
               2.999749474120944,
               44.25341758107761
              ],
              [
               3.118553553782752,
               44.25270268099162
              ],
              [
               3.076193903368761,
               44.14658096408308
              ],
              [
               3.018033244913145,
               44.000801945423504
              ],
              [
               2.999750708112026,
               43.95524095200904
              ]
             ]
            ],
            "type": "Polygon"
           },
           "identification": {
            "collection": "Sentinel-2",
            "dataset": {},
            "externalId": "S2B_MSIL1C_20210110T105329_N0209_R051_T31TEJ_20210110T130049",
            "hvTileId": "TJ31E",
            "profile": "Image",
            "tileId": "31TEJ",
            "type": "S2MSI1C"
           },
           "illumination": {},
           "instrument": "MSI",
           "license": "proprietary",
           "missionStartDate": "2015-06-23T00:00:00Z",
           "orbit": {
            "direction": "DESCENDING",
            "number": 20097,
            "relativeNumber": 51
           },
           "orbitDirection": "DESCENDING",
           "orbitNumber": 20097,
           "platform": "Sentinel-2",
           "platformSerialIdentifier": "S2B",
           "processingLevel": "Level-1C",
           "productType": "S2MSI1C",
           "production": {
            "baseline": "02.09",
            "levelCode": "Level-1C",
            "ongoing": false
           },
           "provider": {},
           "quality": {
            "qualified": false
           },
           "quicklook": "https://sobloo.eu/api/v1/services/quicklook/31b2f1a8-046e-4e15-a83a-3bce3f6c1837",
           "sensorMode": "INS-NOBS",
           "sensorType": "OPTICAL",
           "spatialCoverage": {
            "geometry": {
             "centerPoint": {
              "lat": 44.15372805857198,
              "lon": 3.039352935927719
             },
             "geographicBoundingPolygon": {
              "coordinates": [
               [
                [
                 2.999750708112026,
                 43.95524095200904
                ],
                [
                 3.018033244913145,
                 44.000801945423504
                ],
                [
                 3.076193903368761,
                 44.14658096408308
                ],
                [
                 3.118553553782752,
                 44.25270268099162
                ],
                [
                 2.999749474120944,
                 44.25341758107761
                ],
                [
                 2.999750708112026,
                 43.95524095200904
                ]
               ]
              ],
              "type": "Polygon"
             },
             "global": false
            },
            "verticality": {}
           },
           "startTimeFromAscendingNode": "2021-01-10T10:53:29.024000+00:00",
           "state": {
            "insertionDate": 1610292169286,
            "resources": {
             "quicklook": true,
             "thumbnail": true
            },
            "services": {
             "download": "internal",
             "wcs": false,
             "wms": false,
             "wmts": false
            }
           },
           "storageStatus": "ONLINE",
           "style": {
            "color": "red"
           },
           "target": {},
           "timeStamp": 1610276009024,
           "title": "S2B_MSIL1C_20210110T105329_N0209_R051_T31TEJ_20210110T130049",
           "transmission": {},
           "uid": "31b2f1a8-046e-4e15-a83a-3bce3f6c1837",
           "visibility": {
            "deleted": false
           }
          },
          "type": "Feature"
         },
         {
          "geometry": {
           "coordinates": [
            [
             [
              -0.3772583,
              44.135250725162805
             ],
             [
              -0.33236694,
              45.122671880514964
             ],
             [
              -1.7279663,
              45.14675285555784
             ],
             [
              -1.7493896,
              44.158520786393645
             ],
             [
              -0.3772583,
              44.135250725162805
             ]
            ]
           ],
           "type": "Polygon"
          },
          "id": "S2A_MSIL1C_20210108T110431_N0209_R094_T30TXQ_20210108T131314",
          "properties": {
           "abstract": "The Level-1C product is composed of 100x100 km2 tiles (ortho-images in UTM/WGS84 projection). It results from\nusing a Digital Elevation Model (DEM) to project the image in cartographic geometry. Per-pixel radiometric\nmeasurements are provided in Top Of Atmosphere (TOA) reflectances along with the parameters to transform them\ninto radiances. Level-1C products are resampled with a constant Ground Sampling Distance (GSD) of 10, 20 and 60\nmeters depending on the native resolution of the different spectral bands. In Level-1C  products, pixel\ncoordinates refer to the upper left corner of the pixel. Level-1C products will additionally include Cloud Masks\nand ECMWF data (total column of ozone, total column of water vapour and mean sea level pressure).\n",
           "acquisition": {
            "beginViewingDate": 1610103871024,
            "centerViewingDate": 1610103871024,
            "endViewingDate": 1610103871024,
            "mission": "Sentinel-2",
            "missionCode": "S2A",
            "missionId": "A",
            "missionName": "Sentinel-2A",
            "sensorId": "MSI",
            "sensorMode": "INS-NOBS"
           },
           "archive": {
            "filename": "S2A_MSIL1C_20210108T110431_N0209_R094_T30TXQ_20210108T131314.SAFE",
            "format": "SAFE",
            "offLine": false,
            "onLine": false,
            "size": 738
           },
           "attachments": [],
           "attitude": {},
           "bands": [
            {
             "center_wavelength": 0.4439,
             "common_name": "coastal",
             "full_width_half_max": 0.027,
             "gsd": 60,
             "name": "B01"
            },
            {
             "center_wavelength": 0.4966,
             "common_name": "blue",
             "full_width_half_max": 0.098,
             "gsd": 10,
             "name": "B02"
            },
            {
             "center_wavelength": 0.56,
             "common_name": "green",
             "full_width_half_max": 0.045,
             "gsd": 10,
             "name": "B03"
            },
            {
             "center_wavelength": 0.6645,
             "common_name": "red",
             "full_width_half_max": 0.038,
             "gsd": 10,
             "name": "B04"
            },
            {
             "center_wavelength": 0.7039,
             "full_width_half_max": 0.019,
             "gsd": 20,
             "name": "B05"
            },
            {
             "center_wavelength": 0.7402,
             "full_width_half_max": 0.018,
             "gsd": 20,
             "name": "B06"
            },
            {
             "center_wavelength": 0.7825,
             "full_width_half_max": 0.028,
             "gsd": 20,
             "name": "B07"
            },
            {
             "center_wavelength": 0.8351,
             "common_name": "nir",
             "full_width_half_max": 0.145,
             "gsd": 10,
             "name": "B08"
            },
            {
             "center_wavelength": 0.8648,
             "full_width_half_max": 0.033,
             "gsd": 20,
             "name": "B8A"
            },
            {
             "center_wavelength": 0.945,
             "full_width_half_max": 0.026,
             "gsd": 60,
             "name": "B09"
            },
            {
             "center_wavelength": 0.13735,
             "common_name": "cirrus",
             "full_width_half_max": 0.075,
             "gsd": 60,
             "name": "B10"
            },
            {
             "center_wavelength": 0.16137,
             "common_name": "swir16",
             "full_width_half_max": 0.075,
             "gsd": 20,
             "name": "B11"
            },
            {
             "center_wavelength": 0.22024,
             "common_name": "swir22",
             "full_width_half_max": 0.242,
             "gsd": 20,
             "name": "B12"
            }
           ],
           "cloudCover": 1.8243,
           "completionTimeFromAscendingNode": "2021-01-08T11:04:31.024000+00:00",
           "contentDescription": {
            "cloudCoverPercentage": 1.8243
           },
           "creationDate": "2021-01-08T15:23:11.395000+00:00",
           "downloadLink": "https://sobloo.eu/api/v1/services/download/65571ffd-484b-4e26-838b-eb6b284ccf3f",
           "enrichment": {
            "geonames": [
             {
              "name": "France",
              "states": [
               {
                "counties": [
                 {
                  "cities": [
                   {
                    "name": "Blaye"
                   },
                   {
                    "name": "Libourne"
                   },
                   {
                    "name": "Langon"
                   },
                   {
                    "name": "Lesparre-Médoc"
                   },
                   {
                    "name": "Arcachon"
                   },
                   {
                    "name": "Bordeaux"
                   }
                  ],
                  "name": "Gironde",
                  "villages": [
                   {
                    "name": "Gauriaguet"
                   },
                   {
                    "name": "Sauternes"
                   },
                   {
                    "name": "Le Barp"
                   },
                   {
                    "name": "Saint-Jean-d'Illac"
                   },
                   {
                    "name": "Cubzac-les-Ponts"
                   },
                   {
                    "name": "Saint-Magne"
                   },
                   {
                    "name": "Vayres"
                   },
                   {
                    "name": "Le Temple"
                   },
                   {
                    "name": "Saint-Vincent-de-Paul"
                   },
                   {
                    "name": "Cabanac-et-Villagrains"
                   },
                   {
                    "name": "Périssac"
                   },
                   {
                    "name": "Louchats"
                   },
                   {
                    "name": "Castelnau-de-Médoc"
                   },
                   {
                    "name": "Saint-Laurent-d'Arce"
                   },
                   {
                    "name": "Saint-Vivien-de-Blaye"
                   },
                   {
                    "name": "Gauriac"
                   },
                   {
                    "name": "Bonnetan"
                   },
                   {
                    "name": "Tizac-de-Lapouyade"
                   },
                   {
                    "name": "Lugon-et-l'Île-du-Carnay"
                   },
                   {
                    "name": "Samonac"
                   },
                   {
                    "name": "Macau"
                   },
                   {
                    "name": "Saint-Mariens"
                   },
                   {
                    "name": "Plassac"
                   },
                   {
                    "name": "Saint-Trojan"
                   },
                   {
                    "name": "Saint-Seurin-de-Bourg"
                   },
                   {
                    "name": "Mombrier"
                   },
                   {
                    "name": "Pessac"
                   },
                   {
                    "name": "Eysines"
                   },
                   {
                    "name": "Avensan"
                   },
                   {
                    "name": "Moulis-en-Médoc"
                   },
                   {
                    "name": "Noaillan"
                   },
                   {
                    "name": "Portets"
                   },
                   {
                    "name": "La Teste-de-Buch"
                   },
                   {
                    "name": "Cavignac"
                   },
                   {
                    "name": "Salles"
                   },
                   {
                    "name": "Lestiac-sur-Garonne"
                   },
                   {
                    "name": "Saint-Genès-de-Fronsac"
                   },
                   {
                    "name": "Listrac-Médoc"
                   },
                   {
                    "name": "Lanton"
                   },
                   {
                    "name": "Sainte-Eulalie"
                   },
                   {
                    "name": "Budos"
                   },
                   {
                    "name": "Ludon-Médoc"
                   },
                   {
                    "name": "Bègles"
                   },
                   {
                    "name": "Blanquefort"
                   },
                   {
                    "name": "Arès"
                   },
                   {
                    "name": "Camblanes-et-Meynac"
                   },
                   {
                    "name": "Préchac"
                   },
                   {
                    "name": "Saint-Léger-de-Balson"
                   },
                   {
                    "name": "Pompignac"
                   },
                   {
                    "name": "Landiras"
                   },
                   {
                    "name": "Audenge"
                   },
                   {
                    "name": "Saint-Morillon"
                   },
                   {
                    "name": "Mios"
                   },
                   {
                    "name": "Saint-Savin"
                   },
                   {
                    "name": "Peujard"
                   },
                   {
                    "name": "Comps"
                   },
                   {
                    "name": "Le Bouscat"
                   },
                   {
                    "name": "Labarde"
                   },
                   {
                    "name": "Saint-Aubin-de-Médoc"
                   },
                   {
                    "name": "Martignas-sur-Jalle"
                   },
                   {
                    "name": "Cénac"
                   },
                   {
                    "name": "Balizac"
                   },
                   {
                    "name": "Saint-Gervais"
                   },
                   {
                    "name": "Saint-Romain-la-Virvée"
                   },
                   {
                    "name": "Prignac-et-Marcamps"
                   },
                   {
                    "name": "Guillos"
                   },
                   {
                    "name": "Belin-Béliet"
                   },
                   {
                    "name": "Saint-Médard-d'Eyrans"
                   },
                   {
                    "name": "Le Pian-Médoc"
                   },
                   {
                    "name": "Pugnac"
                   },
                   {
                    "name": "Bommes"
                   },
                   {
                    "name": "Cantenac"
                   },
                   {
                    "name": "Gujan-Mestras"
                   },
                   {
                    "name": "Cars"
                   },
                   {
                    "name": "Sadirac"
                   },
                   {
                    "name": "Cubnezais"
                   },
                   {
                    "name": "Uzeste"
                   },
                   {
                    "name": "Mérignac"
                   }
                  ]
                 },
                 {
                  "cities": [
                   {
                    "name": "Mont-de-Marsan"
                   }
                  ],
                  "name": "Landes",
                  "villages": [
                   {
                    "name": "Labouheyre"
                   },
                   {
                    "name": "Solférino"
                   },
                   {
                    "name": "Mimizan"
                   },
                   {
                    "name": "Trensacq"
                   },
                   {
                    "name": "Saugnacq-et-Muret"
                   },
                   {
                    "name": "Luxey"
                   },
                   {
                    "name": "Lüe"
                   },
                   {
                    "name": "Callen"
                   },
                   {
                    "name": "Saint-Paul-en-Born"
                   },
                   {
                    "name": "Labrit"
                   },
                   {
                    "name": "Sore"
                   }
                  ]
                 }
                ],
                "name": "Nouvelle-Aquitaine"
               }
              ]
             }
            ],
            "naturallanguage": {
             "search_cloud_string": "cloud:partly_cloudy",
             "search_date_string": "2021 January 08 11: 11:04 11:04:31",
             "search_incidence_angle_string": "incidence:?",
             "search_quality_string": "quality:?"
            }
           },
           "eodag_product_type": "S2_MSI_L1C",
           "eodag_provider": "sobloo",
           "eodag_search_intersection": {
            "coordinates": [
             [
              [
               -0.3772583,
               44.135250725162805
              ],
              [
               -1.7493896,
               44.158520786393645
              ],
              [
               -1.7279663,
               45.14675285555784
              ],
              [
               -0.33236694,
               45.122671880514964
              ],
              [
               -0.3772583,
               44.135250725162805
              ]
             ]
            ],
            "type": "Polygon"
           },
           "identification": {
            "collection": "Sentinel-2",
            "dataset": {},
            "externalId": "S2A_MSIL1C_20210108T110431_N0209_R094_T30TXQ_20210108T131314",
            "hvTileId": "TQ30X",
            "profile": "Image",
            "tileId": "30TXQ",
            "type": "S2MSI1C"
           },
           "illumination": {},
           "instrument": "MSI",
           "license": "proprietary",
           "missionStartDate": "2015-06-23T00:00:00Z",
           "orbit": {
            "direction": "DESCENDING",
            "number": 28977,
            "relativeNumber": 94
           },
           "orbitDirection": "DESCENDING",
           "orbitNumber": 28977,
           "platform": "Sentinel-2",
           "platformSerialIdentifier": "S2A",
           "processingLevel": "Level-1C",
           "productType": "S2MSI1C",
           "production": {
            "baseline": "02.09",
            "levelCode": "Level-1C",
            "ongoing": false
           },
           "provider": {},
           "quality": {
            "qualified": false
           },
           "quicklook": "https://sobloo.eu/api/v1/services/quicklook/65571ffd-484b-4e26-838b-eb6b284ccf3f",
           "sensorMode": "INS-NOBS",
           "sensorType": "OPTICAL",
           "spatialCoverage": {
            "geometry": {
             "centerPoint": {
              "lat": 44.64219668785285,
              "lon": -1.0467461689686957
             },
             "geographicBoundingPolygon": {
              "coordinates": [
               [
                [
                 -0.3772583,
                 44.135250725162805
                ],
                [
                 -0.33236694,
                 45.122671880514964
                ],
                [
                 -1.7279663,
                 45.14675285555784
                ],
                [
                 -1.7493896,
                 44.158520786393645
                ],
                [
                 -0.3772583,
                 44.135250725162805
                ]
               ]
              ],
              "type": "Polygon"
             },
             "global": false
            },
            "verticality": {}
           },
           "startTimeFromAscendingNode": "2021-01-08T11:04:31.024000+00:00",
           "state": {
            "insertionDate": 1610119391395,
            "resources": {
             "quicklook": true,
             "thumbnail": true
            },
            "services": {
             "download": "internal",
             "wcs": false,
             "wms": false,
             "wmts": false
            }
           },
           "storageStatus": "ONLINE",
           "style": {
            "color": "red"
           },
           "target": {},
           "timeStamp": 1610103871024,
           "title": "S2A_MSIL1C_20210108T110431_N0209_R094_T30TXQ_20210108T131314",
           "transmission": {},
           "uid": "65571ffd-484b-4e26-838b-eb6b284ccf3f",
           "visibility": {
            "deleted": false
           }
          },
          "type": "Feature"
         }
        ],
        "type": "FeatureCollection"
       },
       "hover_style": {
        "fillColor": "yellow"
       },
       "name": "",
       "options": [],
       "popup": null,
       "popup_max_height": null,
       "popup_max_width": 300,
       "popup_min_width": 50,
       "style": {
        "color": "red"
       }
      }
     }
    },
    "version_major": 2,
    "version_minor": 0
   }
  }
 },
 "nbformat": 4,
 "nbformat_minor": 2
}
