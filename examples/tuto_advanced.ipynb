{
 "cells": [
  {
   "cell_type": "markdown",
   "metadata": {},
   "source": [
    "# Eodag advanced features\n",
    "_____________\n",
    "\n",
    "We present `eodag`'s advanced features for **searching and downloading EO products**.\n",
    "\n",
    "To be able to follow this tutorial, you will need to install the additional Python packages [ipyleaflet](https://ipyleaflet.readthedocs.io/en/latest/installation.html) and [ipywidgets](https://ipywidgets.readthedocs.io/en/latest/user_install.html).\n",
    "\n",
    "## Configuration\n",
    "\n",
    "Let's start by setting your personal credentials to access [sobloo service](https://sobloo.eu/) by filling your API key below:"
   ]
  },
  {
   "cell_type": "code",
   "execution_count": 1,
   "metadata": {},
   "outputs": [],
   "source": [
    "import os\n",
    "from pprint import pprint\n",
    "os.environ[\"EODAG__SOBLOO__AUTH__CREDENTIALS__APIKEY\"] = \"PLEASE_CHANGE_ME\""
   ]
  },
  {
   "cell_type": "markdown",
   "metadata": {},
   "source": [
    "The name of the environment variables understood by `eodag` must follow the pattern `EODAG__KEY1__KEY2__[...]__KEYN` (note the double underscore between the keys).\n",
    "\n",
    "See for instance the following configuration extracted from a minimal YAML file:\n",
    "\n",
    "```yaml\n",
    "sobloo:\n",
    "    download:\n",
    "        extract: True\n",
    "        outputs_prefix: <absolute_path_to_download_folder>\n",
    "\n",
    "```\n",
    "\n",
    "It sets the `extract` and `outputs_prefix` (download folder) parameters, which could also be set with the environment variables `EODAG__SOBLOO__DOWNLOAD__EXTRACT` and `EODAG__SOBLOO__DOWNLOAD__OUTPUTS_PREFIX` given the established pattern. Every configuration parameter can be changed this way. Check the YAML file located at `~/.config/eodag/eodag.yml` to see all the parameters you can set."
   ]
  },
  {
   "cell_type": "markdown",
   "metadata": {},
   "source": [
    "We create a workspace directory where all our files will live:"
   ]
  },
  {
   "cell_type": "code",
   "execution_count": 2,
   "metadata": {},
   "outputs": [],
   "source": [
    "workspace = 'eodag_workspace_advanced'\n",
    "if not os.path.isdir(workspace):\n",
    "    os.mkdir(workspace)"
   ]
  },
  {
   "cell_type": "markdown",
   "metadata": {},
   "source": [
    "Let's check that the Python packages required to run this notebook are available:"
   ]
  },
  {
   "cell_type": "code",
   "execution_count": 3,
   "metadata": {},
   "outputs": [],
   "source": [
    "import ipyleaflet as ipyl\n",
    "import ipywidgets as ipyw"
   ]
  },
  {
   "cell_type": "markdown",
   "metadata": {},
   "source": [
    "We configure `eodag` with environment variables to download *sobloo* products to our workspace folder but not to extract them once they are downloaded. Note that in this tutorial we do not use a YAML configuration as demonstrated in the basic example. The complete configuration is done by setting the right environment variables."
   ]
  },
  {
   "cell_type": "code",
   "execution_count": 4,
   "metadata": {},
   "outputs": [],
   "source": [
    "os.environ[\"EODAG__SOBLOO__DOWNLOAD__OUTPUTS_PREFIX\"] = os.path.abspath(workspace)\n",
    "os.environ[\"EODAG__SOBLOO__DOWNLOAD__EXTRACT\"] =  \"false\""
   ]
  },
  {
   "cell_type": "markdown",
   "metadata": {},
   "source": [
    "We are now ready to initialize the session by creating an `EODataAccessGateway` instance which is going to take into account what we have just configured."
   ]
  },
  {
   "cell_type": "code",
   "execution_count": 5,
   "metadata": {},
   "outputs": [
    {
     "name": "stderr",
     "output_type": "stream",
     "text": [
      "2021-01-12 16:58:28,437-15s eodag.config                     [INFO    ] Loading user configuration from: /home/maxime/.config/eodag/eodag.yml\n",
      "2021-01-12 16:58:28,654-15s eodag.core                       [INFO    ] Locations configuration loaded from /home/maxime/.config/eodag/locations.yml\n"
     ]
    }
   ],
   "source": [
    "from eodag.api.core import EODataAccessGateway\n",
    "from eodag.utils.logging import setup_logging\n",
    "\n",
    "# To have some basic feedback on what eodag is doing, we configure logging to output minimum information\n",
    "setup_logging(verbose=1)\n",
    "dag = EODataAccessGateway()"
   ]
  },
  {
   "cell_type": "markdown",
   "metadata": {},
   "source": [
    "`eodag` includes a number of different providers (*PEPS*, *USGS*, *sobloo*, etc.). Each provider has a priority expressed as an number, the lower this number the lower the priority of the provider. The one with the higher priority is used to search and download products.\n",
    "\n",
    "*PEPS* is defined as the default provider. We can easily verify that:"
   ]
  },
  {
   "cell_type": "code",
   "execution_count": 6,
   "metadata": {},
   "outputs": [
    {
     "name": "stdout",
     "output_type": "stream",
     "text": [
      "('peps', 1)\n"
     ]
    }
   ],
   "source": [
    "print(dag.get_preferred_provider())"
   ]
  },
  {
   "cell_type": "markdown",
   "metadata": {},
   "source": [
    "Since we want to search for products from *sobloo*, we have to set it as the the preferred provider:"
   ]
  },
  {
   "cell_type": "code",
   "execution_count": 7,
   "metadata": {},
   "outputs": [
    {
     "name": "stdout",
     "output_type": "stream",
     "text": [
      "('sobloo', 2)\n"
     ]
    }
   ],
   "source": [
    "dag.set_preferred_provider(\"sobloo\")\n",
    "print(dag.get_preferred_provider())"
   ]
  },
  {
   "cell_type": "markdown",
   "metadata": {},
   "source": [
    "The priority of the providers can also be defined in a YAML configuration file and with environment variables."
   ]
  },
  {
   "cell_type": "markdown",
   "metadata": {},
   "source": [
    "## Search\n",
    "\n",
    "Now let's search for Sentinel-2 L1C products in the South of France acquired in the last 30 days.\n",
    "\n",
    "We will add two complementary search parameters. First we would like to filter at 10% of maximum cloud cover. In order to do so we can set the parameter `cloudCover` which is an OGC standard parameter. Second we would like to search for products that are immediately available for download. `eodag` defines this kind of product as *ONLINE* (see the Introduction page for more details). The `search` method accepts any number of keyword arguments. This feature is handy to define this setting since its syntax is specific to *sobloo*:"
   ]
  },
  {
   "cell_type": "code",
   "execution_count": 8,
   "metadata": {},
   "outputs": [
    {
     "name": "stderr",
     "output_type": "stream",
     "text": [
      "2021-01-12 16:58:28,830-15s eodag.core                       [INFO    ] Searching product type 'S2_MSI_L1C' on provider: sobloo\n",
      "2021-01-12 16:58:28,831-15s eodag.plugins.search.qssearch    [INFO    ] Sending count request: https://sobloo.eu/api/v1/services/search?f=contentDescription.cloudCoverPercentage:lte:10&f=state%2Eservices%2Edownload:eq:internal&f=acquisition.beginViewingDate:gte:1607814000000&f=acquisition.endViewingDate:lte:1610406000000&f=identification.type:eq:S2MSI1C&gintersect=POLYGON ((-1.9995 42.7631, -1.9995 46.7549, 4.5703 46.7549, 4.5703 42.7631, -1.9995 42.7631))&size=1&from=0\n",
      "2021-01-12 16:58:29,552-15s eodag.plugins.search.qssearch    [INFO    ] Sending search request: https://sobloo.eu/api/v1/services/search?f=contentDescription.cloudCoverPercentage:lte:10&f=state%2Eservices%2Edownload:eq:internal&f=acquisition.beginViewingDate:gte:1607814000000&f=acquisition.endViewingDate:lte:1610406000000&f=identification.type:eq:S2MSI1C&gintersect=POLYGON ((-1.9995 42.7631, -1.9995 46.7549, 4.5703 46.7549, 4.5703 42.7631, -1.9995 42.7631))&size=20&from=0\n",
      "2021-01-12 16:58:30,102-15s eodag.core                       [INFO    ] Found 39 result(s) on provider 'sobloo'\n"
     ]
    },
    {
     "name": "stdout",
     "output_type": "stream",
     "text": [
      "[EOProduct(id=S2A_MSIL1C_20201213T104441_N0209_R008_T31TEM_20201213T125210, provider=sobloo),\n",
      " EOProduct(id=S2B_MSIL1C_20201217T111359_N0209_R137_T30TWR_20201217T132006, provider=sobloo),\n",
      " EOProduct(id=S2B_MSIL1C_20201217T111359_N0209_R137_T30TWQ_20201217T150041, provider=sobloo),\n",
      " EOProduct(id=S2B_MSIL1C_20201217T111359_N0209_R137_T30TXQ_20201217T150041, provider=sobloo),\n",
      " EOProduct(id=S2B_MSIL1C_20201218T104349_N0209_R008_T31TEL_20201218T115054, provider=sobloo),\n",
      " EOProduct(id=S2B_MSIL1C_20201218T104349_N0209_R008_T31TCH_20201218T115054, provider=sobloo),\n",
      " EOProduct(id=S2B_MSIL1C_20201218T104349_N0209_R008_T31TDL_20201218T115054, provider=sobloo),\n",
      " EOProduct(id=S2B_MSIL1C_20210103T110349_N0209_R094_T30TYP_20210103T121021, provider=sobloo),\n",
      " EOProduct(id=S2A_MSIL1C_20210108T110431_N0209_R094_T30TXS_20210108T131314, provider=sobloo),\n",
      " EOProduct(id=S2A_MSIL1C_20210108T110431_N0209_R094_T31TCK_20210108T131314, provider=sobloo),\n",
      " EOProduct(id=S2A_MSIL1C_20201213T104441_N0209_R008_T31TEL_20201213T125210, provider=sobloo),\n",
      " EOProduct(id=S2A_MSIL1C_20201213T104441_N0209_R008_T31TEK_20201213T125210, provider=sobloo),\n",
      " EOProduct(id=S2A_MSIL1C_20201213T104441_N0209_R008_T31TFH_20201213T125210, provider=sobloo),\n",
      " EOProduct(id=S2A_MSIL1C_20201213T104441_N0209_R008_T31TEH_20201213T125210, provider=sobloo),\n",
      " EOProduct(id=S2A_MSIL1C_20201213T104441_N0209_R008_T31TFM_20201213T125210, provider=sobloo),\n",
      " EOProduct(id=S2B_MSIL1C_20201217T111359_N0209_R137_T30TWP_20201217T150041, provider=sobloo),\n",
      " EOProduct(id=S2B_MSIL1C_20201217T111359_N0209_R137_T30TXS_20201217T132006, provider=sobloo),\n",
      " EOProduct(id=S2B_MSIL1C_20201225T103339_N0209_R108_T31TEJ_20201225T112846, provider=sobloo),\n",
      " EOProduct(id=S2B_MSIL1C_20201225T103339_N0209_R108_T31TEH_20201225T112846, provider=sobloo),\n",
      " EOProduct(id=S2A_MSIL1C_20201226T105451_N0209_R051_T30TYN_20201226T130209, provider=sobloo)]\n"
     ]
    }
   ],
   "source": [
    "from datetime import date, timedelta\n",
    "\n",
    "product_type = 'S2_MSI_L1C'\n",
    "extent = {\n",
    "    'lonmin': -1.999512,\n",
    "    'lonmax': 4.570313,\n",
    "    'latmin': 42.763146,\n",
    "    'latmax': 46.754917\n",
    "}\n",
    "\n",
    "products, estimated_total_nbr_of_results = dag.search(\n",
    "    productType=product_type,\n",
    "    start=(date.today() - timedelta(days=30)).isoformat(),\n",
    "    end=date.today().isoformat(),\n",
    "    geom=extent,\n",
    "    cloudCover=10,\n",
    "    **{\"state.services.download\": \"internal\"}\n",
    ")\n",
    "pprint(products)"
   ]
  },
  {
   "cell_type": "markdown",
   "metadata": {},
   "source": [
    "We can check that the products we have got have a cloud cover below 10% and that they are all immediately available for download."
   ]
  },
  {
   "cell_type": "code",
   "execution_count": 9,
   "metadata": {},
   "outputs": [
    {
     "data": {
      "text/plain": [
       "True"
      ]
     },
     "execution_count": 9,
     "metadata": {},
     "output_type": "execute_result"
    }
   ],
   "source": [
    "all(p.properties[\"cloudCover\"] < 10 for p in products)"
   ]
  },
  {
   "cell_type": "code",
   "execution_count": 10,
   "metadata": {},
   "outputs": [
    {
     "data": {
      "text/plain": [
       "True"
      ]
     },
     "execution_count": 10,
     "metadata": {},
     "output_type": "execute_result"
    }
   ],
   "source": [
    "all(p.properties[\"storageStatus\"] == \"ONLINE\" for p in products)"
   ]
  },
  {
   "cell_type": "markdown",
   "metadata": {},
   "source": [
    "As already demonstrated in the basic example we use `ipyleaflet` to plot the returned results (in blue). This time we also map our search extent (in green): "
   ]
  },
  {
   "cell_type": "code",
   "execution_count": 11,
   "metadata": {},
   "outputs": [
    {
     "data": {
      "application/vnd.jupyter.widget-view+json": {
       "model_id": "5fccc9aada2a47c084f609a19ba9b3b4",
       "version_major": 2,
       "version_minor": 0
      },
      "text/plain": [
       "Map(center=[43.6, 1.5], controls=(ZoomControl(options=['position', 'zoom_in_text', 'zoom_in_title', 'zoom_out_…"
      ]
     },
     "metadata": {},
     "output_type": "display_data"
    }
   ],
   "source": [
    "import ipyleaflet as ipyl\n",
    "\n",
    "m = ipyl.Map(center=[43.6, 1.5], zoom=5)\n",
    "search_layer = ipyl.Rectangle(\n",
    "    bounds=((extent[\"latmin\"], extent[\"lonmin\"]), (extent[\"latmax\"], extent[\"lonmax\"])),\n",
    "    color=\"green\"\n",
    ")\n",
    "products_layer = ipyl.GeoJSON(data=products.as_geojson_object(), hover_style={'fillColor': 'yellow'})\n",
    "m.add_layer(search_layer)\n",
    "m.add_layer(products_layer)\n",
    "m"
   ]
  },
  {
   "cell_type": "markdown",
   "metadata": {},
   "source": [
    "`eodag` includes several *crunchers* that allow you to filter products:\n",
    "* `FilterDate`: by start date (optional) and end date (optional)\n",
    "* `FilterLatestByName`: get only the latest product based on the name of the product\n",
    "* `FilterLatestIntersect`: filter latest products (the ones with a the highest start date) that intersect search extent\n",
    "* `FilterOverlap`: retain only those that are overlapping with a search extent\n",
    "* `FilterProperty`: retain only those whose property match a given criteria\n",
    "\n",
    "In this example we demonstrate how to use the cruncher `FilterOverlap` to get the products that are strictly within the search bounding box. For more information about the crunchers checkout the API documentation."
   ]
  },
  {
   "cell_type": "code",
   "execution_count": 12,
   "metadata": {
    "scrolled": true
   },
   "outputs": [
    {
     "name": "stderr",
     "output_type": "stream",
     "text": [
      "2021-01-12 16:58:30,292-15s eodag.plugins.crunch.filter_overlap [INFO    ] Start filtering for overlapping products\n",
      "2021-01-12 16:58:30,293-15s eodag.plugins.crunch.filter_overlap [INFO    ] Minimum overlap is: 100.0 %\n",
      "2021-01-12 16:58:30,294-15s eodag.plugins.crunch.filter_overlap [INFO    ] Initial requested extent area: 26.225236910074997\n",
      "2021-01-12 16:58:30,295-15s eodag.plugins.crunch.filter_overlap [INFO    ] Uncovered extent area: 26.225236910074997\n",
      "2021-01-12 16:58:30,296-15s eodag.plugins.crunch.filter_overlap [INFO    ] Intersection of product extent and search extent covers 4.320350 percent of the search extent area\n",
      "2021-01-12 16:58:30,296-15s eodag.plugins.crunch.filter_overlap [INFO    ] Intersection of product extent and search extent covers 80.196526 percent of the product extent area\n",
      "2021-01-12 16:58:30,297-15s eodag.plugins.crunch.filter_overlap [INFO    ] Product EOProduct(id=S2A_MSIL1C_20201213T104441_N0209_R008_T31TEM_20201213T125210, provider=sobloo) does not overlaps the search extent by the specified constraint. Skipping it\n",
      "2021-01-12 16:58:30,297-15s eodag.plugins.crunch.filter_overlap [INFO    ] Uncovered extent area: 26.225236910074997\n",
      "2021-01-12 16:58:30,298-15s eodag.plugins.crunch.filter_overlap [INFO    ] Intersection of product extent and search extent covers 1.530212 percent of the search extent area\n",
      "2021-01-12 16:58:30,298-15s eodag.plugins.crunch.filter_overlap [INFO    ] Intersection of product extent and search extent covers 29.975212 percent of the product extent area\n",
      "2021-01-12 16:58:30,299-15s eodag.plugins.crunch.filter_overlap [INFO    ] Product EOProduct(id=S2B_MSIL1C_20201217T111359_N0209_R137_T30TWR_20201217T132006, provider=sobloo) does not overlaps the search extent by the specified constraint. Skipping it\n",
      "2021-01-12 16:58:30,299-15s eodag.plugins.crunch.filter_overlap [INFO    ] Uncovered extent area: 26.225236910074997\n",
      "2021-01-12 16:58:30,300-15s eodag.plugins.crunch.filter_overlap [INFO    ] Intersection of product extent and search extent covers 0.889847 percent of the search extent area\n",
      "2021-01-12 16:58:30,300-15s eodag.plugins.crunch.filter_overlap [INFO    ] Intersection of product extent and search extent covers 19.089017 percent of the product extent area\n",
      "2021-01-12 16:58:30,301-15s eodag.plugins.crunch.filter_overlap [INFO    ] Product EOProduct(id=S2B_MSIL1C_20201217T111359_N0209_R137_T30TWQ_20201217T150041, provider=sobloo) does not overlaps the search extent by the specified constraint. Skipping it\n",
      "2021-01-12 16:58:30,301-15s eodag.plugins.crunch.filter_overlap [INFO    ] Uncovered extent area: 26.225236910074997\n",
      "2021-01-12 16:58:30,301-15s eodag.plugins.crunch.filter_overlap [INFO    ] Intersection of product extent and search extent covers 0.122471 percent of the search extent area\n",
      "2021-01-12 16:58:30,302-15s eodag.plugins.crunch.filter_overlap [INFO    ] Intersection of product extent and search extent covers 100.000000 percent of the product extent area\n",
      "2021-01-12 16:58:30,303-15s eodag.plugins.crunch.filter_overlap [INFO    ] Product EOProduct(id=S2B_MSIL1C_20201217T111359_N0209_R137_T30TXQ_20201217T150041, provider=sobloo) overlaps the search extent by the specified constraint. Adding it to filtered results\n",
      "2021-01-12 16:58:30,303-15s eodag.plugins.crunch.filter_overlap [INFO    ] Uncovered extent area: 26.225236910074997\n",
      "2021-01-12 16:58:30,304-15s eodag.plugins.crunch.filter_overlap [INFO    ] Intersection of product extent and search extent covers 5.301357 percent of the search extent area\n",
      "2021-01-12 16:58:30,305-15s eodag.plugins.crunch.filter_overlap [INFO    ] Intersection of product extent and search extent covers 100.000000 percent of the product extent area\n",
      "2021-01-12 16:58:30,305-15s eodag.plugins.crunch.filter_overlap [INFO    ] Product EOProduct(id=S2B_MSIL1C_20201218T104349_N0209_R008_T31TEL_20201218T115054, provider=sobloo) overlaps the search extent by the specified constraint. Adding it to filtered results\n",
      "2021-01-12 16:58:30,306-15s eodag.plugins.crunch.filter_overlap [INFO    ] Uncovered extent area: 26.225236910074997\n",
      "2021-01-12 16:58:30,309-15s eodag.plugins.crunch.filter_overlap [INFO    ] Intersection of product extent and search extent covers 1.010122 percent of the search extent area\n",
      "2021-01-12 16:58:30,309-15s eodag.plugins.crunch.filter_overlap [INFO    ] Intersection of product extent and search extent covers 51.075666 percent of the product extent area\n",
      "2021-01-12 16:58:30,310-15s eodag.plugins.crunch.filter_overlap [INFO    ] Product EOProduct(id=S2B_MSIL1C_20201218T104349_N0209_R008_T31TCH_20201218T115054, provider=sobloo) does not overlaps the search extent by the specified constraint. Skipping it\n",
      "2021-01-12 16:58:30,310-15s eodag.plugins.crunch.filter_overlap [INFO    ] Uncovered extent area: 26.225236910074997\n",
      "2021-01-12 16:58:30,311-15s eodag.plugins.crunch.filter_overlap [INFO    ] Intersection of product extent and search extent covers 3.215788 percent of the search extent area\n",
      "2021-01-12 16:58:30,311-15s eodag.plugins.crunch.filter_overlap [INFO    ] Intersection of product extent and search extent covers 100.000000 percent of the product extent area\n",
      "2021-01-12 16:58:30,312-15s eodag.plugins.crunch.filter_overlap [INFO    ] Product EOProduct(id=S2B_MSIL1C_20201218T104349_N0209_R008_T31TDL_20201218T115054, provider=sobloo) overlaps the search extent by the specified constraint. Adding it to filtered results\n",
      "2021-01-12 16:58:30,312-15s eodag.plugins.crunch.filter_overlap [INFO    ] Uncovered extent area: 26.225236910074997\n",
      "2021-01-12 16:58:30,313-15s eodag.plugins.crunch.filter_overlap [INFO    ] Intersection of product extent and search extent covers 3.417725 percent of the search extent area\n",
      "2021-01-12 16:58:30,313-15s eodag.plugins.crunch.filter_overlap [INFO    ] Intersection of product extent and search extent covers 100.000000 percent of the product extent area\n",
      "2021-01-12 16:58:30,313-15s eodag.plugins.crunch.filter_overlap [INFO    ] Product EOProduct(id=S2B_MSIL1C_20210103T110349_N0209_R094_T30TYP_20210103T121021, provider=sobloo) overlaps the search extent by the specified constraint. Adding it to filtered results\n",
      "2021-01-12 16:58:30,314-15s eodag.plugins.crunch.filter_overlap [INFO    ] Uncovered extent area: 26.225236910074997\n",
      "2021-01-12 16:58:30,315-15s eodag.plugins.crunch.filter_overlap [INFO    ] Intersection of product extent and search extent covers 4.403045 percent of the search extent area\n",
      "2021-01-12 16:58:30,316-15s eodag.plugins.crunch.filter_overlap [INFO    ] Intersection of product extent and search extent covers 81.796545 percent of the product extent area\n",
      "2021-01-12 16:58:30,316-15s eodag.plugins.crunch.filter_overlap [INFO    ] Product EOProduct(id=S2A_MSIL1C_20210108T110431_N0209_R094_T30TXS_20210108T131314, provider=sobloo) does not overlaps the search extent by the specified constraint. Skipping it\n",
      "2021-01-12 16:58:30,317-15s eodag.plugins.crunch.filter_overlap [INFO    ] Uncovered extent area: 26.225236910074997\n",
      "2021-01-12 16:58:30,317-15s eodag.plugins.crunch.filter_overlap [INFO    ] Intersection of product extent and search extent covers 1.018563 percent of the search extent area\n",
      "2021-01-12 16:58:30,318-15s eodag.plugins.crunch.filter_overlap [INFO    ] Intersection of product extent and search extent covers 100.000000 percent of the product extent area\n",
      "2021-01-12 16:58:30,319-15s eodag.plugins.crunch.filter_overlap [INFO    ] Product EOProduct(id=S2A_MSIL1C_20210108T110431_N0209_R094_T31TCK_20210108T131314, provider=sobloo) overlaps the search extent by the specified constraint. Adding it to filtered results\n",
      "2021-01-12 16:58:30,319-15s eodag.plugins.crunch.filter_overlap [INFO    ] Uncovered extent area: 26.225236910074997\n",
      "2021-01-12 16:58:30,320-15s eodag.plugins.crunch.filter_overlap [INFO    ] Intersection of product extent and search extent covers 5.301357 percent of the search extent area\n",
      "2021-01-12 16:58:30,321-15s eodag.plugins.crunch.filter_overlap [INFO    ] Intersection of product extent and search extent covers 100.000000 percent of the product extent area\n",
      "2021-01-12 16:58:30,323-15s eodag.plugins.crunch.filter_overlap [INFO    ] Product EOProduct(id=S2A_MSIL1C_20201213T104441_N0209_R008_T31TEL_20201213T125210, provider=sobloo) overlaps the search extent by the specified constraint. Adding it to filtered results\n"
     ]
    },
    {
     "name": "stderr",
     "output_type": "stream",
     "text": [
      "2021-01-12 16:58:30,323-15s eodag.plugins.crunch.filter_overlap [INFO    ] Uncovered extent area: 26.225236910074997\n",
      "2021-01-12 16:58:30,324-15s eodag.plugins.crunch.filter_overlap [INFO    ] Intersection of product extent and search extent covers 5.219543 percent of the search extent area\n",
      "2021-01-12 16:58:30,324-15s eodag.plugins.crunch.filter_overlap [INFO    ] Intersection of product extent and search extent covers 100.000000 percent of the product extent area\n",
      "2021-01-12 16:58:30,324-15s eodag.plugins.crunch.filter_overlap [INFO    ] Product EOProduct(id=S2A_MSIL1C_20201213T104441_N0209_R008_T31TEK_20201213T125210, provider=sobloo) overlaps the search extent by the specified constraint. Adding it to filtered results\n",
      "2021-01-12 16:58:30,325-15s eodag.plugins.crunch.filter_overlap [INFO    ] Uncovered extent area: 26.225236910074997\n",
      "2021-01-12 16:58:30,325-15s eodag.plugins.crunch.filter_overlap [INFO    ] Intersection of product extent and search extent covers 0.757321 percent of the search extent area\n",
      "2021-01-12 16:58:30,326-15s eodag.plugins.crunch.filter_overlap [INFO    ] Intersection of product extent and search extent covers 23.178606 percent of the product extent area\n",
      "2021-01-12 16:58:30,327-15s eodag.plugins.crunch.filter_overlap [INFO    ] Product EOProduct(id=S2A_MSIL1C_20201213T104441_N0209_R008_T31TFH_20201213T125210, provider=sobloo) does not overlaps the search extent by the specified constraint. Skipping it\n",
      "2021-01-12 16:58:30,327-15s eodag.plugins.crunch.filter_overlap [INFO    ] Uncovered extent area: 26.225236910074997\n",
      "2021-01-12 16:58:30,328-15s eodag.plugins.crunch.filter_overlap [INFO    ] Intersection of product extent and search extent covers 3.011505 percent of the search extent area\n",
      "2021-01-12 16:58:30,329-15s eodag.plugins.crunch.filter_overlap [INFO    ] Intersection of product extent and search extent covers 59.435000 percent of the product extent area\n",
      "2021-01-12 16:58:30,330-15s eodag.plugins.crunch.filter_overlap [INFO    ] Product EOProduct(id=S2A_MSIL1C_20201213T104441_N0209_R008_T31TEH_20201213T125210, provider=sobloo) does not overlaps the search extent by the specified constraint. Skipping it\n",
      "2021-01-12 16:58:30,331-15s eodag.plugins.crunch.filter_overlap [INFO    ] Uncovered extent area: 26.225236910074997\n",
      "2021-01-12 16:58:30,331-15s eodag.plugins.crunch.filter_overlap [INFO    ] Intersection of product extent and search extent covers 0.823811 percent of the search extent area\n",
      "2021-01-12 16:58:30,334-15s eodag.plugins.crunch.filter_overlap [INFO    ] Intersection of product extent and search extent covers 15.304208 percent of the product extent area\n",
      "2021-01-12 16:58:30,335-15s eodag.plugins.crunch.filter_overlap [INFO    ] Product EOProduct(id=S2A_MSIL1C_20201213T104441_N0209_R008_T31TFM_20201213T125210, provider=sobloo) does not overlaps the search extent by the specified constraint. Skipping it\n",
      "2021-01-12 16:58:30,336-15s eodag.plugins.crunch.filter_overlap [INFO    ] Uncovered extent area: 26.225236910074997\n",
      "2021-01-12 16:58:30,337-15s eodag.plugins.crunch.filter_overlap [INFO    ] Intersection of product extent and search extent covers 0.034345 percent of the search extent area\n",
      "2021-01-12 16:58:30,338-15s eodag.plugins.crunch.filter_overlap [INFO    ] Intersection of product extent and search extent covers 1.024005 percent of the product extent area\n",
      "2021-01-12 16:58:30,338-15s eodag.plugins.crunch.filter_overlap [INFO    ] Product EOProduct(id=S2B_MSIL1C_20201217T111359_N0209_R137_T30TWP_20201217T150041, provider=sobloo) does not overlaps the search extent by the specified constraint. Skipping it\n",
      "2021-01-12 16:58:30,339-15s eodag.plugins.crunch.filter_overlap [INFO    ] Uncovered extent area: 26.225236910074997\n",
      "2021-01-12 16:58:30,340-15s eodag.plugins.crunch.filter_overlap [INFO    ] Intersection of product extent and search extent covers 2.015292 percent of the search extent area\n",
      "2021-01-12 16:58:30,340-15s eodag.plugins.crunch.filter_overlap [INFO    ] Intersection of product extent and search extent covers 77.029729 percent of the product extent area\n",
      "2021-01-12 16:58:30,342-15s eodag.plugins.crunch.filter_overlap [INFO    ] Product EOProduct(id=S2B_MSIL1C_20201217T111359_N0209_R137_T30TXS_20201217T132006, provider=sobloo) does not overlaps the search extent by the specified constraint. Skipping it\n",
      "2021-01-12 16:58:30,343-15s eodag.plugins.crunch.filter_overlap [INFO    ] Uncovered extent area: 26.225236910074997\n",
      "2021-01-12 16:58:30,344-15s eodag.plugins.crunch.filter_overlap [INFO    ] Intersection of product extent and search extent covers 0.702337 percent of the search extent area\n",
      "2021-01-12 16:58:30,345-15s eodag.plugins.crunch.filter_overlap [INFO    ] Intersection of product extent and search extent covers 100.000000 percent of the product extent area\n",
      "2021-01-12 16:58:30,345-15s eodag.plugins.crunch.filter_overlap [INFO    ] Product EOProduct(id=S2B_MSIL1C_20201225T103339_N0209_R108_T31TEJ_20201225T112846, provider=sobloo) overlaps the search extent by the specified constraint. Adding it to filtered results\n",
      "2021-01-12 16:58:30,346-15s eodag.plugins.crunch.filter_overlap [INFO    ] Uncovered extent area: 26.225236910074997\n",
      "2021-01-12 16:58:30,346-15s eodag.plugins.crunch.filter_overlap [INFO    ] Intersection of product extent and search extent covers 0.887403 percent of the search extent area\n",
      "2021-01-12 16:58:30,347-15s eodag.plugins.crunch.filter_overlap [INFO    ] Intersection of product extent and search extent covers 51.217419 percent of the product extent area\n",
      "2021-01-12 16:58:30,348-15s eodag.plugins.crunch.filter_overlap [INFO    ] Product EOProduct(id=S2B_MSIL1C_20201225T103339_N0209_R108_T31TEH_20201225T112846, provider=sobloo) does not overlaps the search extent by the specified constraint. Skipping it\n",
      "2021-01-12 16:58:30,352-15s eodag.plugins.crunch.filter_overlap [INFO    ] Uncovered extent area: 26.225236910074997\n",
      "2021-01-12 16:58:30,352-15s eodag.plugins.crunch.filter_overlap [INFO    ] Intersection of product extent and search extent covers 2.798519 percent of the search extent area\n",
      "2021-01-12 16:58:30,353-15s eodag.plugins.crunch.filter_overlap [INFO    ] Intersection of product extent and search extent covers 55.351546 percent of the product extent area\n",
      "2021-01-12 16:58:30,354-15s eodag.plugins.crunch.filter_overlap [INFO    ] Product EOProduct(id=S2A_MSIL1C_20201226T105451_N0209_R051_T30TYN_20201226T130209, provider=sobloo) does not overlaps the search extent by the specified constraint. Skipping it\n",
      "2021-01-12 16:58:30,355-15s eodag.plugins.crunch.filter_overlap [INFO    ] Finished filtering products. Resulting products: [EOProduct(id=S2B_MSIL1C_20201217T111359_N0209_R137_T30TXQ_20201217T150041, provider=sobloo), EOProduct(id=S2B_MSIL1C_20201218T104349_N0209_R008_T31TEL_20201218T115054, provider=sobloo), EOProduct(id=S2B_MSIL1C_20201218T104349_N0209_R008_T31TDL_20201218T115054, provider=sobloo), EOProduct(id=S2B_MSIL1C_20210103T110349_N0209_R094_T30TYP_20210103T121021, provider=sobloo), EOProduct(id=S2A_MSIL1C_20210108T110431_N0209_R094_T31TCK_20210108T131314, provider=sobloo), EOProduct(id=S2A_MSIL1C_20201213T104441_N0209_R008_T31TEL_20201213T125210, provider=sobloo), EOProduct(id=S2A_MSIL1C_20201213T104441_N0209_R008_T31TEK_20201213T125210, provider=sobloo), EOProduct(id=S2B_MSIL1C_20201225T103339_N0209_R108_T31TEJ_20201225T112846, provider=sobloo)]\n"
     ]
    }
   ],
   "source": [
    "from eodag.plugins.crunch.filter_overlap import FilterOverlap\n",
    "\n",
    "filtered_products = products.crunch(FilterOverlap({\"minimum_overlap\": 100}), geometry=extent)"
   ]
  },
  {
   "cell_type": "code",
   "execution_count": 13,
   "metadata": {},
   "outputs": [
    {
     "name": "stdout",
     "output_type": "stream",
     "text": [
      "[EOProduct(id=S2B_MSIL1C_20201217T111359_N0209_R137_T30TXQ_20201217T150041, provider=sobloo),\n",
      " EOProduct(id=S2B_MSIL1C_20201218T104349_N0209_R008_T31TEL_20201218T115054, provider=sobloo),\n",
      " EOProduct(id=S2B_MSIL1C_20201218T104349_N0209_R008_T31TDL_20201218T115054, provider=sobloo),\n",
      " EOProduct(id=S2B_MSIL1C_20210103T110349_N0209_R094_T30TYP_20210103T121021, provider=sobloo),\n",
      " EOProduct(id=S2A_MSIL1C_20210108T110431_N0209_R094_T31TCK_20210108T131314, provider=sobloo),\n",
      " EOProduct(id=S2A_MSIL1C_20201213T104441_N0209_R008_T31TEL_20201213T125210, provider=sobloo),\n",
      " EOProduct(id=S2A_MSIL1C_20201213T104441_N0209_R008_T31TEK_20201213T125210, provider=sobloo),\n",
      " EOProduct(id=S2B_MSIL1C_20201225T103339_N0209_R108_T31TEJ_20201225T112846, provider=sobloo)]\n"
     ]
    }
   ],
   "source": [
    "pprint(filtered_products)"
   ]
  },
  {
   "cell_type": "markdown",
   "metadata": {},
   "source": [
    "We add the filtered products to the **previous map** (in red)."
   ]
  },
  {
   "cell_type": "code",
   "execution_count": 14,
   "metadata": {},
   "outputs": [],
   "source": [
    "filtered_products_layer = ipyl.GeoJSON(\n",
    "    data=filtered_products.as_geojson_object(), \n",
    "    hover_style={'fillColor': 'yellow'},\n",
    "    style={\"color\":\"red\"}\n",
    ")\n",
    "m.add_layer(filtered_products_layer)"
   ]
  },
  {
   "cell_type": "markdown",
   "metadata": {},
   "source": [
    "We create a new map which displays the product *ID* on hover. It also allows you to select which products you would like to download. To try it out, click on a filtered product (in red) to add it to the download list `chosen_products`. Once a product is selected, its contour line should turn yellow. Note that the more products you select on the map the longer the download time in the end."
   ]
  },
  {
   "cell_type": "code",
   "execution_count": 15,
   "metadata": {},
   "outputs": [
    {
     "data": {
      "application/vnd.jupyter.widget-view+json": {
       "model_id": "fa98d962855445d4ac825dca14f2b723",
       "version_major": 2,
       "version_minor": 0
      },
      "text/plain": [
       "VBox(children=(Map(center=[43.6, 1.5], controls=(ZoomControl(options=['position', 'zoom_in_text', 'zoom_in_tit…"
      ]
     },
     "metadata": {},
     "output_type": "display_data"
    }
   ],
   "source": [
    "from eodag.api.product import EOProduct\n",
    "from eodag.api.search_result import SearchResult\n",
    "\n",
    "label = ipyw.Label(layout=ipyw.Layout(width='100%'))\n",
    "\n",
    "chosen_products = SearchResult([])\n",
    "\n",
    "def click_handler(feature=None, **kwargs):\n",
    "    if feature and feature not in chosen_products:\n",
    "        chosen_products.append(EOProduct.from_geojson(feature))\n",
    "        # register product downloader\n",
    "        chosen_products[-1].register_downloader(products[0].downloader, products[0].downloader_auth)\n",
    "        # update map\n",
    "        chosen_products_layer = ipyl.GeoJSON(\n",
    "            data=chosen_products.as_geojson_object(), \n",
    "            hover_style={'fillColor': 'yellow'},\n",
    "            style={\"color\":\"yellow\"}\n",
    "        )\n",
    "        if chosen_products_layer in m.layers:\n",
    "            m.remove_layer(chosen_products_layer)\n",
    "        m.add_layer(chosen_products_layer)\n",
    "        \n",
    "filtered_products_layer.on_click(click_handler)\n",
    "\n",
    "def hover_handler(id=None, **kwargs):\n",
    "    label.value = id\n",
    "filtered_products_layer.on_hover(hover_handler)\n",
    "\n",
    "ipyw.VBox([m, label])"
   ]
  },
  {
   "cell_type": "markdown",
   "metadata": {},
   "source": [
    "Now that you have selected at least one product the list of `chosen_products` shouldn't be empty anymore."
   ]
  },
  {
   "cell_type": "code",
   "execution_count": 16,
   "metadata": {},
   "outputs": [
    {
     "data": {
      "text/plain": [
       "[EOProduct(id=S2A_MSIL1C_20210108T110431_N0209_R094_T31TCK_20210108T131314, provider=sobloo)]"
      ]
     },
     "execution_count": 16,
     "metadata": {},
     "output_type": "execute_result"
    }
   ],
   "source": [
    "chosen_products"
   ]
  },
  {
   "cell_type": "markdown",
   "metadata": {},
   "source": [
    "## Download"
   ]
  },
  {
   "cell_type": "markdown",
   "metadata": {},
   "source": [
    "We finally use the `download_all` method to download all the selected products."
   ]
  },
  {
   "cell_type": "code",
   "execution_count": 17,
   "metadata": {
    "scrolled": false
   },
   "outputs": [
    {
     "name": "stderr",
     "output_type": "stream",
     "text": [
      "2021-01-12 16:58:42,349-15s eodag.core                       [INFO    ] Downloading 1 products\n",
      "Downloading products:   0%|          | 0/1 [00:00<?, ?product/s]2021-01-12 16:58:42,361-15s eodag.plugins.download.base      [INFO    ] Download url: https://sobloo.eu/api/v1/services/download/6937a5ba-51eb-4b28-8d4b-1c87cce92ec3\n"
     ]
    },
    {
     "data": {
      "application/vnd.jupyter.widget-view+json": {
       "model_id": "f6f6a1ee6dc1497bb11a5277033d8bec",
       "version_major": 2,
       "version_minor": 0
      },
      "text/plain": [
       "HBox(children=(HTML(value=''), FloatProgress(value=1.0, bar_style='info', layout=Layout(width='20px'), max=1.0…"
      ]
     },
     "metadata": {},
     "output_type": "display_data"
    },
    {
     "name": "stderr",
     "output_type": "stream",
     "text": [
      "2021-01-12 16:59:08,153-15s eodag.plugins.download.base      [INFO    ] Extraction not activated. The product is available as is.\n",
      "Downloading products: 100%|██████████| 1/1 [00:25<00:00, 25.80s/product]\n"
     ]
    }
   ],
   "source": [
    "from eodag.utils import NotebookProgressCallback\n",
    "\n",
    "if chosen_products:\n",
    "    paths = dag.download_all(\n",
    "        chosen_products, \n",
    "        progress_callback=NotebookProgressCallback(), \n",
    "    )"
   ]
  },
  {
   "cell_type": "markdown",
   "metadata": {},
   "source": [
    "You can now check your workspace folder where you should find the archive files (since we have configured `eodag` not to extract them) of your selected products.\n",
    "\n",
    "We specified earlier that we wanted *ONLINE* products only. If we hadn't done so some products could have been *OFFLINE*, i.e. not immediately available for download. In this case `edoag` would have first ordered them, and then would have retried to download them every 2 minutes, and kept retrying for 20 minutes. These default times can be changed, for instance, `wait=0.5` and `timeout=5` define them to 30 seconds and 5 minutes respectively."
   ]
  },
  {
   "cell_type": "markdown",
   "metadata": {},
   "source": [
    "This concludes the tutorial for the advanced usage of eodag."
   ]
  }
 ],
 "metadata": {
  "kernelspec": {
   "display_name": "Python 3",
   "language": "python",
   "name": "python3"
  },
  "language_info": {
   "codemirror_mode": {
    "name": "ipython",
    "version": 3
   },
   "file_extension": ".py",
   "mimetype": "text/x-python",
   "name": "python",
   "nbconvert_exporter": "python",
   "pygments_lexer": "ipython3",
   "version": "3.8.6"
  },
  "widgets": {
   "application/vnd.jupyter.widget-state+json": {
    "state": {
     "149c9c95592643c98bfcf976800687a6": {
      "model_module": "@jupyter-widgets/controls",
      "model_module_version": "1.5.0",
      "model_name": "FloatProgressModel",
      "state": {
       "bar_style": "info",
       "layout": "IPY_MODEL_688e7258d68a49138ac2509376e418b3",
       "max": 1,
       "style": "IPY_MODEL_fa1b527936f2413c88e2ed1973ae8276",
       "value": 1
      }
     },
     "166272fc066d404aa67774aaec7f71d2": {
      "model_module": "@jupyter-widgets/controls",
      "model_module_version": "1.5.0",
      "model_name": "HTMLModel",
      "state": {
       "layout": "IPY_MODEL_774306a8ebe34c5c9c0a834684665ee5",
       "style": "IPY_MODEL_fc695f95872149ae9480f0216939445d"
      }
     },
     "2babc7802051495b8bdd1d90b2287a79": {
      "model_module": "@jupyter-widgets/controls",
      "model_module_version": "1.5.0",
      "model_name": "DescriptionStyleModel",
      "state": {
       "description_width": ""
      }
     },
     "33b7b35e73e84a1e8dbf00074ce9c90e": {
      "model_module": "@jupyter-widgets/base",
      "model_module_version": "1.2.0",
      "model_name": "LayoutModel",
      "state": {}
     },
     "369e0aaf43a347a9a1d5374693a1b9d4": {
      "model_module": "@jupyter-widgets/controls",
      "model_module_version": "1.5.0",
      "model_name": "DescriptionStyleModel",
      "state": {
       "description_width": ""
      }
     },
     "3f8f11f8df054bbda34e91dce8910e41": {
      "model_module": "jupyter-leaflet",
      "model_module_version": "^0.13.2",
      "model_name": "LeafletGeoJSONModel",
      "state": {
       "_model_module": "jupyter-leaflet",
       "_model_module_version": "^0.13.2",
       "_view_count": null,
       "_view_module": "jupyter-leaflet",
       "_view_module_version": "^0.13.2",
       "base": false,
       "bottom": false,
       "data": {
        "features": [
         {
          "geometry": {
           "coordinates": [
            [
             [
              -1.7380371,
              44.68238612934589
             ],
             [
              -1.7059631,
              44.761107280881056
             ],
             [
              -1.6973572,
              44.78230871392616
             ],
             [
              -1.6556702,
              44.88484774480535
             ],
             [
              -1.6378479,
              44.92870699386136
             ],
             [
              -1.6138306,
              44.987572367697375
             ],
             [
              -1.5791016,
              45.072707806806925
             ],
             [
              -1.7287598,
              45.10952623824178
             ],
             [
              -1.7380371,
              44.68238612934589
             ]
            ]
           ],
           "type": "Polygon"
          },
          "id": "S2B_MSIL1C_20201217T111359_N0209_R137_T30TXQ_20201217T150041",
          "properties": {
           "abstract": "The Level-1C product is composed of 100x100 km2 tiles (ortho-images in UTM/WGS84 projection). It results from\nusing a Digital Elevation Model (DEM) to project the image in cartographic geometry. Per-pixel radiometric\nmeasurements are provided in Top Of Atmosphere (TOA) reflectances along with the parameters to transform them\ninto radiances. Level-1C products are resampled with a constant Ground Sampling Distance (GSD) of 10, 20 and 60\nmeters depending on the native resolution of the different spectral bands. In Level-1C  products, pixel\ncoordinates refer to the upper left corner of the pixel. Level-1C products will additionally include Cloud Masks\nand ECMWF data (total column of ozone, total column of water vapour and mean sea level pressure).\n",
           "acquisition": {
            "beginViewingDate": 1608203639024,
            "centerViewingDate": 1608203639024,
            "endViewingDate": 1608203639024,
            "mission": "Sentinel-2",
            "missionCode": "S2B",
            "missionId": "B",
            "missionName": "Sentinel-2B",
            "sensorId": "MSI",
            "sensorMode": "INS-NOBS"
           },
           "archive": {
            "filename": "S2B_MSIL1C_20201217T111359_N0209_R137_T30TXQ_20201217T150041.SAFE",
            "format": "SAFE",
            "offLine": false,
            "onLine": false,
            "size": 37
           },
           "attachments": [],
           "attitude": {},
           "bands": [
            {
             "center_wavelength": 0.4439,
             "common_name": "coastal",
             "full_width_half_max": 0.027,
             "gsd": 60,
             "name": "B01"
            },
            {
             "center_wavelength": 0.4966,
             "common_name": "blue",
             "full_width_half_max": 0.098,
             "gsd": 10,
             "name": "B02"
            },
            {
             "center_wavelength": 0.56,
             "common_name": "green",
             "full_width_half_max": 0.045,
             "gsd": 10,
             "name": "B03"
            },
            {
             "center_wavelength": 0.6645,
             "common_name": "red",
             "full_width_half_max": 0.038,
             "gsd": 10,
             "name": "B04"
            },
            {
             "center_wavelength": 0.7039,
             "full_width_half_max": 0.019,
             "gsd": 20,
             "name": "B05"
            },
            {
             "center_wavelength": 0.7402,
             "full_width_half_max": 0.018,
             "gsd": 20,
             "name": "B06"
            },
            {
             "center_wavelength": 0.7825,
             "full_width_half_max": 0.028,
             "gsd": 20,
             "name": "B07"
            },
            {
             "center_wavelength": 0.8351,
             "common_name": "nir",
             "full_width_half_max": 0.145,
             "gsd": 10,
             "name": "B08"
            },
            {
             "center_wavelength": 0.8648,
             "full_width_half_max": 0.033,
             "gsd": 20,
             "name": "B8A"
            },
            {
             "center_wavelength": 0.945,
             "full_width_half_max": 0.026,
             "gsd": 60,
             "name": "B09"
            },
            {
             "center_wavelength": 0.13735,
             "common_name": "cirrus",
             "full_width_half_max": 0.075,
             "gsd": 60,
             "name": "B10"
            },
            {
             "center_wavelength": 0.16137,
             "common_name": "swir16",
             "full_width_half_max": 0.075,
             "gsd": 20,
             "name": "B11"
            },
            {
             "center_wavelength": 0.22024,
             "common_name": "swir22",
             "full_width_half_max": 0.242,
             "gsd": 20,
             "name": "B12"
            }
           ],
           "cloudCover": 2.5638,
           "completionTimeFromAscendingNode": "2020-12-17T11:13:59.024000+00:00",
           "contentDescription": {
            "cloudCoverPercentage": 2.5638
           },
           "creationDate": "2020-12-17T17:04:10.955000+00:00",
           "downloadLink": "https://sobloo.eu/api/v1/services/download/5d807f90-d64d-4f39-a63b-b72b1f147e87",
           "enrichment": {
            "naturallanguage": {
             "search_cloud_string": "cloud:partly_cloudy",
             "search_date_string": "2020 December 17 11: 11:13 11:13:59",
             "search_incidence_angle_string": "incidence:?",
             "search_quality_string": "quality:?"
            }
           },
           "eodag_product_type": "S2_MSI_L1C",
           "eodag_provider": "sobloo",
           "eodag_search_intersection": {
            "coordinates": [
             [
              [
               -1.7380371,
               44.68238612934589
              ],
              [
               -1.7287598,
               45.10952623824178
              ],
              [
               -1.5791016,
               45.072707806806925
              ],
              [
               -1.6138306,
               44.987572367697375
              ],
              [
               -1.6378479,
               44.92870699386136
              ],
              [
               -1.6556702,
               44.88484774480535
              ],
              [
               -1.6973572,
               44.78230871392616
              ],
              [
               -1.7059631,
               44.761107280881056
              ],
              [
               -1.7380371,
               44.68238612934589
              ]
             ]
            ],
            "type": "Polygon"
           },
           "identification": {
            "collection": "Sentinel-2",
            "dataset": {},
            "externalId": "S2B_MSIL1C_20201217T111359_N0209_R137_T30TXQ_20201217T150041",
            "hvTileId": "TQ30X",
            "profile": "Image",
            "tileId": "30TXQ",
            "type": "S2MSI1C"
           },
           "illumination": {},
           "instrument": "MSI",
           "license": "proprietary",
           "missionStartDate": "2015-06-23T00:00:00Z",
           "orbit": {
            "direction": "DESCENDING",
            "number": 19754,
            "relativeNumber": 137
           },
           "orbitDirection": "DESCENDING",
           "orbitNumber": 19754,
           "platform": "Sentinel-2",
           "platformSerialIdentifier": "S2B",
           "processingLevel": "Level-1C",
           "productType": "S2MSI1C",
           "production": {
            "baseline": "02.09",
            "levelCode": "Level-1C",
            "ongoing": false
           },
           "provider": {},
           "quality": {
            "qualified": false
           },
           "quicklook": "https://sobloo.eu/api/v1/services/quicklook/5d807f90-d64d-4f39-a63b-b72b1f147e87",
           "sensorMode": "INS-NOBS",
           "sensorType": "OPTICAL",
           "spatialCoverage": {
            "geometry": {
             "centerPoint": {
              "lat": 44.954882061008135,
              "lon": -1.6819883815085919
             },
             "geographicBoundingPolygon": {
              "coordinates": [
               [
                [
                 -1.7380371,
                 44.68238612934589
                ],
                [
                 -1.7059631,
                 44.761107280881056
                ],
                [
                 -1.6973572,
                 44.78230871392616
                ],
                [
                 -1.6556702,
                 44.88484774480535
                ],
                [
                 -1.6378479,
                 44.92870699386136
                ],
                [
                 -1.6138306,
                 44.987572367697375
                ],
                [
                 -1.5791016,
                 45.072707806806925
                ],
                [
                 -1.7287598,
                 45.10952623824178
                ],
                [
                 -1.7380371,
                 44.68238612934589
                ]
               ]
              ],
              "type": "Polygon"
             },
             "global": false
            },
            "verticality": {}
           },
           "startTimeFromAscendingNode": "2020-12-17T11:13:59.024000+00:00",
           "state": {
            "insertionDate": 1608224650955,
            "resources": {
             "quicklook": true,
             "thumbnail": true
            },
            "services": {
             "download": "internal",
             "wcs": false,
             "wms": false,
             "wmts": false
            }
           },
           "storageStatus": "ONLINE",
           "style": {
            "color": "red"
           },
           "target": {},
           "timeStamp": 1608203639024,
           "title": "S2B_MSIL1C_20201217T111359_N0209_R137_T30TXQ_20201217T150041",
           "transmission": {},
           "uid": "5d807f90-d64d-4f39-a63b-b72b1f147e87",
           "visibility": {
            "deleted": false
           }
          },
          "type": "Feature"
         },
         {
          "geometry": {
           "coordinates": [
            [
             [
              4.394253870988432,
              45.05674859305782
             ],
             [
              4.41890414435335,
              46.044766226835556
             ],
             [
              2.999741460261881,
              46.05357436995249
             ],
             [
              2.999745953598584,
              45.06525999447365
             ],
             [
              4.394253870988432,
              45.05674859305782
             ]
            ]
           ],
           "type": "Polygon"
          },
          "id": "S2B_MSIL1C_20201218T104349_N0209_R008_T31TEL_20201218T115054",
          "properties": {
           "abstract": "The Level-1C product is composed of 100x100 km2 tiles (ortho-images in UTM/WGS84 projection). It results from\nusing a Digital Elevation Model (DEM) to project the image in cartographic geometry. Per-pixel radiometric\nmeasurements are provided in Top Of Atmosphere (TOA) reflectances along with the parameters to transform them\ninto radiances. Level-1C products are resampled with a constant Ground Sampling Distance (GSD) of 10, 20 and 60\nmeters depending on the native resolution of the different spectral bands. In Level-1C  products, pixel\ncoordinates refer to the upper left corner of the pixel. Level-1C products will additionally include Cloud Masks\nand ECMWF data (total column of ozone, total column of water vapour and mean sea level pressure).\n",
           "acquisition": {
            "beginViewingDate": 1608288229024,
            "centerViewingDate": 1608288229024,
            "endViewingDate": 1608288229024,
            "mission": "Sentinel-2",
            "missionCode": "S2B",
            "missionId": "B",
            "missionName": "Sentinel-2B",
            "sensorId": "MSI",
            "sensorMode": "INS-NOBS"
           },
           "archive": {
            "filename": "S2B_MSIL1C_20201218T104349_N0209_R008_T31TEL_20201218T115054.SAFE",
            "format": "SAFE",
            "offLine": false,
            "onLine": false,
            "size": 803
           },
           "attachments": [],
           "attitude": {},
           "bands": [
            {
             "center_wavelength": 0.4439,
             "common_name": "coastal",
             "full_width_half_max": 0.027,
             "gsd": 60,
             "name": "B01"
            },
            {
             "center_wavelength": 0.4966,
             "common_name": "blue",
             "full_width_half_max": 0.098,
             "gsd": 10,
             "name": "B02"
            },
            {
             "center_wavelength": 0.56,
             "common_name": "green",
             "full_width_half_max": 0.045,
             "gsd": 10,
             "name": "B03"
            },
            {
             "center_wavelength": 0.6645,
             "common_name": "red",
             "full_width_half_max": 0.038,
             "gsd": 10,
             "name": "B04"
            },
            {
             "center_wavelength": 0.7039,
             "full_width_half_max": 0.019,
             "gsd": 20,
             "name": "B05"
            },
            {
             "center_wavelength": 0.7402,
             "full_width_half_max": 0.018,
             "gsd": 20,
             "name": "B06"
            },
            {
             "center_wavelength": 0.7825,
             "full_width_half_max": 0.028,
             "gsd": 20,
             "name": "B07"
            },
            {
             "center_wavelength": 0.8351,
             "common_name": "nir",
             "full_width_half_max": 0.145,
             "gsd": 10,
             "name": "B08"
            },
            {
             "center_wavelength": 0.8648,
             "full_width_half_max": 0.033,
             "gsd": 20,
             "name": "B8A"
            },
            {
             "center_wavelength": 0.945,
             "full_width_half_max": 0.026,
             "gsd": 60,
             "name": "B09"
            },
            {
             "center_wavelength": 0.13735,
             "common_name": "cirrus",
             "full_width_half_max": 0.075,
             "gsd": 60,
             "name": "B10"
            },
            {
             "center_wavelength": 0.16137,
             "common_name": "swir16",
             "full_width_half_max": 0.075,
             "gsd": 20,
             "name": "B11"
            },
            {
             "center_wavelength": 0.22024,
             "common_name": "swir22",
             "full_width_half_max": 0.242,
             "gsd": 20,
             "name": "B12"
            }
           ],
           "cloudCover": 7.4451,
           "completionTimeFromAscendingNode": "2020-12-18T10:43:49.024000+00:00",
           "contentDescription": {
            "cloudCoverPercentage": 7.4451
           },
           "creationDate": "2020-12-18T13:50:58.673000+00:00",
           "downloadLink": "https://sobloo.eu/api/v1/services/download/5cd36b99-d1de-49a9-820d-82e6436183d2",
           "enrichment": {
            "geonames": [
             {
              "name": "France",
              "states": [
               {
                "counties": [
                 {
                  "cities": [
                   {
                    "name": "Vichy"
                   }
                  ],
                  "name": "Allier",
                  "villages": [
                   {
                    "name": "Ferrières-sur-Sichon"
                   }
                  ]
                 },
                 {
                  "name": "Meaux-la-Montagne",
                  "villages": [
                   {
                    "name": "Meaux-la-Montagne"
                   }
                  ]
                 },
                 {
                  "cities": [
                   {
                    "name": "Tournon-sur-Rhône"
                   }
                  ],
                  "name": "Ardèche",
                  "villages": [
                   {
                    "name": "Devesset"
                   }
                  ]
                 },
                 {
                  "cities": [
                   {
                    "name": "Clermont-Ferrand"
                   },
                   {
                    "name": "Issoire"
                   },
                   {
                    "name": "Thiers"
                   },
                   {
                    "name": "Riom"
                   },
                   {
                    "name": "Ambert"
                   }
                  ],
                  "name": "Puy-de-Dôme",
                  "villages": [
                   {
                    "name": "Augerolles"
                   },
                   {
                    "name": "La Chapelle-Agnon"
                   },
                   {
                    "name": "Prompsat"
                   },
                   {
                    "name": "Parent"
                   },
                   {
                    "name": "Saint-Hilaire-la-Croix"
                   },
                   {
                    "name": "Saint-Diéry"
                   },
                   {
                    "name": "Olloix"
                   },
                   {
                    "name": "Thiolières"
                   },
                   {
                    "name": "Pérignat-sur-Allier"
                   },
                   {
                    "name": "Davayat"
                   },
                   {
                    "name": "Lussat"
                   },
                   {
                    "name": "Malauzat"
                   },
                   {
                    "name": "Saint-Nectaire"
                   }
                  ]
                 },
                 {
                  "cities": [
                   {
                    "name": "Villefranche-sur-Saône"
                   }
                  ],
                  "name": "Villefranche-sur-Saône"
                 },
                 {
                  "name": "Saint-Vincent-de-Reins",
                  "villages": [
                   {
                    "name": "Saint-Vincent-de-Reins"
                   }
                  ]
                 },
                 {
                  "cities": [
                   {
                    "name": "Montbrison"
                   },
                   {
                    "name": "Roanne"
                   },
                   {
                    "name": "Saint-Étienne"
                   }
                  ],
                  "name": "Loire",
                  "villages": [
                   {
                    "name": "Pradines"
                   },
                   {
                    "name": "Saint-Julien-d'Oddes"
                   },
                   {
                    "name": "Bully"
                   },
                   {
                    "name": "Lavieu"
                   },
                   {
                    "name": "Renaison"
                   },
                   {
                    "name": "Roanne"
                   },
                   {
                    "name": "Dancé"
                   },
                   {
                    "name": "Juré"
                   },
                   {
                    "name": "Montbrison"
                   },
                   {
                    "name": "Balbigny"
                   },
                   {
                    "name": "Unieux"
                   },
                   {
                    "name": "Mornand-en-Forez"
                   },
                   {
                    "name": "Pralong"
                   },
                   {
                    "name": "Saint-Symphorien-de-Lay"
                   },
                   {
                    "name": "Saint-Victor-sur-Rhins"
                   },
                   {
                    "name": "Villerest"
                   }
                  ]
                 },
                 {
                  "name": "Rhône"
                 },
                 {
                  "cities": [
                   {
                    "name": "Saint-Flour"
                   }
                  ],
                  "name": "Cantal",
                  "villages": [
                   {
                    "name": "Charmensac"
                   },
                   {
                    "name": "Mentières"
                   }
                  ]
                 },
                 {
                  "cities": [
                   {
                    "name": "Pays du Velay"
                   },
                   {
                    "name": "Yssingeaux"
                   },
                   {
                    "name": "Brioude"
                   }
                  ],
                  "name": "Haute-Loire",
                  "villages": [
                   {
                    "name": "Josat"
                   },
                   {
                    "name": "Fix-Saint-Geneys"
                   },
                   {
                    "name": "Monlet"
                   },
                   {
                    "name": "Craponne-sur-Arzon"
                   },
                   {
                    "name": "Vernassal"
                   },
                   {
                    "name": "Blesle"
                   },
                   {
                    "name": "Cistrières"
                   },
                   {
                    "name": "Beaulieu"
                   },
                   {
                    "name": "Saint-Beauzire"
                   },
                   {
                    "name": "Saint-Julien-des-Chazes"
                   },
                   {
                    "name": "Saint-Paulien"
                   },
                   {
                    "name": "Sanssac-l'Église"
                   },
                   {
                    "name": "La Chaise-Dieu"
                   },
                   {
                    "name": "Varennes-Saint-Honorat"
                   },
                   {
                    "name": "Salzuit"
                   },
                   {
                    "name": "Saint-Georges-d'Aurac"
                   },
                   {
                    "name": "Frugières-le-Pin"
                   },
                   {
                    "name": "Saint-Hostien"
                   },
                   {
                    "name": "Agnat"
                   },
                   {
                    "name": "Lapte"
                   },
                   {
                    "name": "Saint-Pal-de-Senouire"
                   },
                   {
                    "name": "Saint-Cirgues"
                   },
                   {
                    "name": "Saint-Arcons-d'Allier"
                   },
                   {
                    "name": "Chomelix"
                   },
                   {
                    "name": "Allègre"
                   },
                   {
                    "name": "Lissac"
                   },
                   {
                    "name": "Chastel"
                   },
                   {
                    "name": "Bellevue-la-Montagne"
                   },
                   {
                    "name": "Saint-Julien-Chapteuil"
                   },
                   {
                    "name": "Chamalières-sur-Loire"
                   },
                   {
                    "name": "Saint-Laurent-Chabreuges"
                   },
                   {
                    "name": "Chaniat"
                   },
                   {
                    "name": "Lamothe"
                   },
                   {
                    "name": "Pinols"
                   },
                   {
                    "name": "Langeac"
                   },
                   {
                    "name": "Vieille-Brioude"
                   },
                   {
                    "name": "Vergongheon"
                   },
                   {
                    "name": "Saint-Didier-en-Velay"
                   },
                   {
                    "name": "Montregard"
                   },
                   {
                    "name": "Ferrussac"
                   }
                  ]
                 }
                ],
                "name": "Auvergne-Rhône-Alpes"
               }
              ]
             }
            ],
            "naturallanguage": {
             "search_cloud_string": "cloud:partly_cloudy",
             "search_date_string": "2020 December 18 10: 10:43 10:43:49",
             "search_incidence_angle_string": "incidence:?",
             "search_quality_string": "quality:?"
            }
           },
           "eodag_product_type": "S2_MSI_L1C",
           "eodag_provider": "sobloo",
           "eodag_search_intersection": {
            "coordinates": [
             [
              [
               4.394253870988432,
               45.05674859305782
              ],
              [
               2.999745953598584,
               45.06525999447365
              ],
              [
               2.999741460261881,
               46.05357436995249
              ],
              [
               4.41890414435335,
               46.044766226835556
              ],
              [
               4.394253870988432,
               45.05674859305782
              ]
             ]
            ],
            "type": "Polygon"
           },
           "identification": {
            "collection": "Sentinel-2",
            "dataset": {},
            "externalId": "S2B_MSIL1C_20201218T104349_N0209_R008_T31TEL_20201218T115054",
            "hvTileId": "TL31E",
            "profile": "Image",
            "tileId": "31TEL",
            "type": "S2MSI1C"
           },
           "illumination": {},
           "instrument": "MSI",
           "license": "proprietary",
           "missionStartDate": "2015-06-23T00:00:00Z",
           "orbit": {
            "direction": "DESCENDING",
            "number": 19768,
            "relativeNumber": 8
           },
           "orbitDirection": "DESCENDING",
           "orbitNumber": 19768,
           "platform": "Sentinel-2",
           "platformSerialIdentifier": "S2B",
           "processingLevel": "Level-1C",
           "productType": "S2MSI1C",
           "production": {
            "baseline": "02.09",
            "levelCode": "Level-1C",
            "ongoing": false
           },
           "provider": {},
           "quality": {
            "qualified": false
           },
           "quicklook": "https://sobloo.eu/api/v1/services/quicklook/5cd36b99-d1de-49a9-820d-82e6436183d2",
           "sensorMode": "INS-NOBS",
           "sensorType": "OPTICAL",
           "spatialCoverage": {
            "geometry": {
             "centerPoint": {
              "lat": 45.556530640585144,
              "lon": 3.7031621560927723
             },
             "geographicBoundingPolygon": {
              "coordinates": [
               [
                [
                 4.394253870988432,
                 45.05674859305782
                ],
                [
                 4.41890414435335,
                 46.044766226835556
                ],
                [
                 2.999741460261881,
                 46.05357436995249
                ],
                [
                 2.999745953598584,
                 45.06525999447365
                ],
                [
                 4.394253870988432,
                 45.05674859305782
                ]
               ]
              ],
              "type": "Polygon"
             },
             "global": false
            },
            "verticality": {}
           },
           "startTimeFromAscendingNode": "2020-12-18T10:43:49.024000+00:00",
           "state": {
            "insertionDate": 1608299458673,
            "resources": {
             "quicklook": true,
             "thumbnail": true
            },
            "services": {
             "download": "internal",
             "wcs": false,
             "wms": false,
             "wmts": false
            }
           },
           "storageStatus": "ONLINE",
           "style": {
            "color": "red"
           },
           "target": {},
           "timeStamp": 1608288229024,
           "title": "S2B_MSIL1C_20201218T104349_N0209_R008_T31TEL_20201218T115054",
           "transmission": {},
           "uid": "5cd36b99-d1de-49a9-820d-82e6436183d2",
           "visibility": {
            "deleted": false
           }
          },
          "type": "Feature"
         },
         {
          "geometry": {
           "coordinates": [
            [
             [
              2.100730924600643,
              45.06005576349448
             ],
             [
              3.123974498511317,
              45.06519270654337
             ],
             [
              3.12616723722405,
              46.05350473573164
             ],
             [
              2.442264045636349,
              46.050013396306014
             ],
             [
              2.405587041364614,
              45.943564851080666
             ],
             [
              2.355418649630285,
              45.79693117023561
             ],
             [
              2.304900100048291,
              45.65035350157424
             ],
             [
              2.254169765990034,
              45.503758569256455
             ],
             [
              2.20316101653202,
              45.35717559197535
             ],
             [
              2.152759175229163,
              45.21046764341903
             ],
             [
              2.102007774224171,
              45.06386226143027
             ],
             [
              2.100730924600643,
              45.06005576349448
             ]
            ]
           ],
           "type": "Polygon"
          },
          "id": "S2B_MSIL1C_20201218T104349_N0209_R008_T31TDL_20201218T115054",
          "properties": {
           "abstract": "The Level-1C product is composed of 100x100 km2 tiles (ortho-images in UTM/WGS84 projection). It results from\nusing a Digital Elevation Model (DEM) to project the image in cartographic geometry. Per-pixel radiometric\nmeasurements are provided in Top Of Atmosphere (TOA) reflectances along with the parameters to transform them\ninto radiances. Level-1C products are resampled with a constant Ground Sampling Distance (GSD) of 10, 20 and 60\nmeters depending on the native resolution of the different spectral bands. In Level-1C  products, pixel\ncoordinates refer to the upper left corner of the pixel. Level-1C products will additionally include Cloud Masks\nand ECMWF data (total column of ozone, total column of water vapour and mean sea level pressure).\n",
           "acquisition": {
            "beginViewingDate": 1608288229024,
            "centerViewingDate": 1608288229024,
            "endViewingDate": 1608288229024,
            "mission": "Sentinel-2",
            "missionCode": "S2B",
            "missionId": "B",
            "missionName": "Sentinel-2B",
            "sensorId": "MSI",
            "sensorMode": "INS-NOBS"
           },
           "archive": {
            "filename": "S2B_MSIL1C_20201218T104349_N0209_R008_T31TDL_20201218T115054.SAFE",
            "format": "SAFE",
            "offLine": false,
            "onLine": false,
            "size": 538
           },
           "attachments": [],
           "attitude": {},
           "bands": [
            {
             "center_wavelength": 0.4439,
             "common_name": "coastal",
             "full_width_half_max": 0.027,
             "gsd": 60,
             "name": "B01"
            },
            {
             "center_wavelength": 0.4966,
             "common_name": "blue",
             "full_width_half_max": 0.098,
             "gsd": 10,
             "name": "B02"
            },
            {
             "center_wavelength": 0.56,
             "common_name": "green",
             "full_width_half_max": 0.045,
             "gsd": 10,
             "name": "B03"
            },
            {
             "center_wavelength": 0.6645,
             "common_name": "red",
             "full_width_half_max": 0.038,
             "gsd": 10,
             "name": "B04"
            },
            {
             "center_wavelength": 0.7039,
             "full_width_half_max": 0.019,
             "gsd": 20,
             "name": "B05"
            },
            {
             "center_wavelength": 0.7402,
             "full_width_half_max": 0.018,
             "gsd": 20,
             "name": "B06"
            },
            {
             "center_wavelength": 0.7825,
             "full_width_half_max": 0.028,
             "gsd": 20,
             "name": "B07"
            },
            {
             "center_wavelength": 0.8351,
             "common_name": "nir",
             "full_width_half_max": 0.145,
             "gsd": 10,
             "name": "B08"
            },
            {
             "center_wavelength": 0.8648,
             "full_width_half_max": 0.033,
             "gsd": 20,
             "name": "B8A"
            },
            {
             "center_wavelength": 0.945,
             "full_width_half_max": 0.026,
             "gsd": 60,
             "name": "B09"
            },
            {
             "center_wavelength": 0.13735,
             "common_name": "cirrus",
             "full_width_half_max": 0.075,
             "gsd": 60,
             "name": "B10"
            },
            {
             "center_wavelength": 0.16137,
             "common_name": "swir16",
             "full_width_half_max": 0.075,
             "gsd": 20,
             "name": "B11"
            },
            {
             "center_wavelength": 0.22024,
             "common_name": "swir22",
             "full_width_half_max": 0.242,
             "gsd": 20,
             "name": "B12"
            }
           ],
           "cloudCover": 2.2242,
           "completionTimeFromAscendingNode": "2020-12-18T10:43:49.024000+00:00",
           "contentDescription": {
            "cloudCoverPercentage": 2.2242
           },
           "creationDate": "2020-12-18T13:58:51.985000+00:00",
           "downloadLink": "https://sobloo.eu/api/v1/services/download/b75cf658-2a37-4c3b-9f74-3620fdafcc3f",
           "enrichment": {
            "geonames": [
             {
              "name": "France",
              "states": [
               {
                "counties": [
                 {
                  "cities": [
                   {
                    "name": "Aubusson"
                   }
                  ],
                  "name": "Creuse",
                  "villages": [
                   {
                    "name": "Saint-Oradoux-de-Chirouze"
                   },
                   {
                    "name": "Crocq"
                   },
                   {
                    "name": "Arfeuille-Châtain"
                   },
                   {
                    "name": "Chard"
                   },
                   {
                    "name": "Saint-Merd-la-Breuille"
                   }
                  ]
                 },
                 {
                  "cities": [
                   {
                    "name": "Tulle"
                   },
                   {
                    "name": "Ussel"
                   }
                  ],
                  "name": "Corrèze",
                  "villages": [
                   {
                    "name": "Saint-Bonnet-près-Bort"
                   },
                   {
                    "name": "Saint-Rémy"
                   },
                   {
                    "name": "Laval-sur-Luzège"
                   },
                   {
                    "name": "Ussel"
                   },
                   {
                    "name": "Saint-Fréjoux"
                   },
                   {
                    "name": "Monestier-Port-Dieu"
                   },
                   {
                    "name": "Saint-Hilaire-Luc"
                   },
                   {
                    "name": "Saint-Julien-près-Bort"
                   }
                  ]
                 }
                ],
                "name": "Nouvelle-Aquitaine"
               },
               {
                "counties": [
                 {
                  "cities": [
                   {
                    "name": "Aurillac"
                   },
                   {
                    "name": "Mauriac"
                   },
                   {
                    "name": "Saint-Flour"
                   }
                  ],
                  "name": "Cantal",
                  "villages": [
                   {
                    "name": "Saint-Cirgues-de-Jordanne"
                   },
                   {
                    "name": "Saint-Paul-de-Salers"
                   },
                   {
                    "name": "Murat"
                   },
                   {
                    "name": "Ferrières-Saint-Mary"
                   },
                   {
                    "name": "Vebret"
                   },
                   {
                    "name": "Chavagnac"
                   },
                   {
                    "name": "Arnac"
                   },
                   {
                    "name": "Saint-Illide"
                   },
                   {
                    "name": "Bonnac"
                   },
                   {
                    "name": "Riom-ès-Montagnes"
                   },
                   {
                    "name": "Sauvat"
                   },
                   {
                    "name": "La Chapelle-d'Alagnon"
                   },
                   {
                    "name": "Charmensac"
                   },
                   {
                    "name": "Pradiers"
                   },
                   {
                    "name": "Rézentières"
                   },
                   {
                    "name": "Trémouille"
                   },
                   {
                    "name": "Moussages"
                   },
                   {
                    "name": "Fontanges"
                   },
                   {
                    "name": "Mandailles-Saint-Julien"
                   },
                   {
                    "name": "Le Falgoux"
                   },
                   {
                    "name": "Ally"
                   },
                   {
                    "name": "Auzers"
                   },
                   {
                    "name": "Cheylade"
                   },
                   {
                    "name": "La Monselie"
                   },
                   {
                    "name": "Saint-Cernin"
                   },
                   {
                    "name": "Le Fau"
                   },
                   {
                    "name": "Veyrières"
                   },
                   {
                    "name": "Coren"
                   },
                   {
                    "name": "Escorailles"
                   },
                   {
                    "name": "Laurie"
                   },
                   {
                    "name": "Lavigerie"
                   },
                   {
                    "name": "Champs-sur-Tarentaine-Marchal"
                   }
                  ]
                 },
                 {
                  "cities": [
                   {
                    "name": "Riom"
                   },
                   {
                    "name": "Clermont-Ferrand"
                   },
                   {
                    "name": "Issoire"
                   }
                  ],
                  "name": "Puy-de-Dôme",
                  "villages": [
                   {
                    "name": "Charensat"
                   },
                   {
                    "name": "Saint-Julien-la-Geneste"
                   },
                   {
                    "name": "Olloix"
                   },
                   {
                    "name": "Saint-Hilaire-la-Croix"
                   },
                   {
                    "name": "Espinasse"
                   },
                   {
                    "name": "Orcival"
                   },
                   {
                    "name": "Laqueuille"
                   },
                   {
                    "name": "Mont-Dore"
                   },
                   {
                    "name": "Heume-l'Église"
                   },
                   {
                    "name": "Saint-Maurice-près-Pionsat"
                   },
                   {
                    "name": "Singles"
                   },
                   {
                    "name": "Saint-Gervais-d'Auvergne"
                   },
                   {
                    "name": "Saint-Angel"
                   },
                   {
                    "name": "Villosanges"
                   },
                   {
                    "name": "Malauzat"
                   },
                   {
                    "name": "Saint-Donat"
                   },
                   {
                    "name": "Vodable"
                   },
                   {
                    "name": "Picherande"
                   },
                   {
                    "name": "Saint-Bonnet-près-Orcival"
                   },
                   {
                    "name": "Saint-Jacques-d'Ambur"
                   },
                   {
                    "name": "Compains"
                   },
                   {
                    "name": "Saint-Pierre-Roche"
                   },
                   {
                    "name": "La Roche-Blanche"
                   },
                   {
                    "name": "Vergheas"
                   },
                   {
                    "name": "Saint-Sauves-d'Auvergne"
                   },
                   {
                    "name": "Bourg-Lastic"
                   },
                   {
                    "name": "Tallende"
                   },
                   {
                    "name": "Davayat"
                   },
                   {
                    "name": "La Goutelle"
                   },
                   {
                    "name": "Saint-Nectaire"
                   },
                   {
                    "name": "Riom"
                   },
                   {
                    "name": "Saint-Georges-de-Mons"
                   },
                   {
                    "name": "Prompsat"
                   },
                   {
                    "name": "Tortebesse"
                   },
                   {
                    "name": "Saint-Sulpice"
                   },
                   {
                    "name": "Manzat"
                   },
                   {
                    "name": "Saint-Diéry"
                   }
                  ]
                 },
                 {
                  "cities": [
                   {
                    "name": "Brioude"
                   }
                  ],
                  "name": "Haute-Loire"
                 }
                ],
                "name": "Auvergne-Rhône-Alpes"
               }
              ]
             }
            ],
            "naturallanguage": {
             "search_cloud_string": "cloud:partly_cloudy",
             "search_date_string": "2020 December 18 10: 10:43 10:43:49",
             "search_incidence_angle_string": "incidence:?",
             "search_quality_string": "quality:?"
            }
           },
           "eodag_product_type": "S2_MSI_L1C",
           "eodag_provider": "sobloo",
           "eodag_search_intersection": {
            "coordinates": [
             [
              [
               2.100730924600643,
               45.06005576349448
              ],
              [
               2.102007774224171,
               45.06386226143027
              ],
              [
               2.152759175229163,
               45.21046764341903
              ],
              [
               2.20316101653202,
               45.35717559197535
              ],
              [
               2.254169765990034,
               45.503758569256455
              ],
              [
               2.304900100048291,
               45.65035350157424
              ],
              [
               2.355418649630285,
               45.79693117023561
              ],
              [
               2.405587041364614,
               45.943564851080666
              ],
              [
               2.442264045636349,
               46.050013396306014
              ],
              [
               3.12616723722405,
               46.05350473573164
              ],
              [
               3.123974498511317,
               45.06519270654337
              ],
              [
               2.100730924600643,
               45.06005576349448
              ]
             ]
            ],
            "type": "Polygon"
           },
           "identification": {
            "collection": "Sentinel-2",
            "dataset": {},
            "externalId": "S2B_MSIL1C_20201218T104349_N0209_R008_T31TDL_20201218T115054",
            "hvTileId": "TL31D",
            "profile": "Image",
            "tileId": "31TDL",
            "type": "S2MSI1C"
           },
           "illumination": {},
           "instrument": "MSI",
           "license": "proprietary",
           "missionStartDate": "2015-06-23T00:00:00Z",
           "orbit": {
            "direction": "DESCENDING",
            "number": 19768,
            "relativeNumber": 8
           },
           "orbitDirection": "DESCENDING",
           "orbitNumber": 19768,
           "platform": "Sentinel-2",
           "platformSerialIdentifier": "S2B",
           "processingLevel": "Level-1C",
           "productType": "S2MSI1C",
           "production": {
            "baseline": "02.09",
            "levelCode": "Level-1C",
            "ongoing": false
           },
           "provider": {},
           "quality": {
            "qualified": false
           },
           "quicklook": "https://sobloo.eu/api/v1/services/quicklook/b75cf658-2a37-4c3b-9f74-3620fdafcc3f",
           "sensorMode": "INS-NOBS",
           "sensorType": "OPTICAL",
           "spatialCoverage": {
            "geometry": {
             "centerPoint": {
              "lat": 45.52438992130744,
              "lon": 2.6926918269967364
             },
             "geographicBoundingPolygon": {
              "coordinates": [
               [
                [
                 2.100730924600643,
                 45.06005576349448
                ],
                [
                 3.123974498511317,
                 45.06519270654337
                ],
                [
                 3.12616723722405,
                 46.05350473573164
                ],
                [
                 2.442264045636349,
                 46.050013396306014
                ],
                [
                 2.405587041364614,
                 45.943564851080666
                ],
                [
                 2.355418649630285,
                 45.79693117023561
                ],
                [
                 2.304900100048291,
                 45.65035350157424
                ],
                [
                 2.254169765990034,
                 45.503758569256455
                ],
                [
                 2.20316101653202,
                 45.35717559197535
                ],
                [
                 2.152759175229163,
                 45.21046764341903
                ],
                [
                 2.102007774224171,
                 45.06386226143027
                ],
                [
                 2.100730924600643,
                 45.06005576349448
                ]
               ]
              ],
              "type": "Polygon"
             },
             "global": false
            },
            "verticality": {}
           },
           "startTimeFromAscendingNode": "2020-12-18T10:43:49.024000+00:00",
           "state": {
            "insertionDate": 1608299931985,
            "resources": {
             "quicklook": true,
             "thumbnail": true
            },
            "services": {
             "download": "internal",
             "wcs": false,
             "wms": false,
             "wmts": false
            }
           },
           "storageStatus": "ONLINE",
           "style": {
            "color": "red"
           },
           "target": {},
           "timeStamp": 1608288229024,
           "title": "S2B_MSIL1C_20201218T104349_N0209_R008_T31TDL_20201218T115054",
           "transmission": {},
           "uid": "b75cf658-2a37-4c3b-9f74-3620fdafcc3f",
           "visibility": {
            "deleted": false
           }
          },
          "type": "Feature"
         },
         {
          "geometry": {
           "coordinates": [
            [
             [
              0.196659174525255,
              43.21812306328243
             ],
             [
              0.214653323827068,
              43.26358647616488
             ],
             [
              0.272122281899612,
              43.4094748667584
             ],
             [
              0.329745220250706,
              43.555293624836
             ],
             [
              0.387420360888636,
              43.701103604596646
             ],
             [
              0.444903309673641,
              43.84685961561742
             ],
             [
              0.490435507664308,
              43.96178393766129
             ],
             [
              0.502259194941621,
              43.99174279782117
             ],
             [
              0.522822048156159,
              44.0433315856212
             ],
             [
              0.560584713141412,
              44.138277054299344
             ],
             [
              0.5834693618212,
              44.19579082833161
             ],
             [
              0,
              44.212099406551744
             ],
             [
              -0.49642944,
              44.22597512802537
             ],
             [
              -0.53726196,
              43.238273156784096
             ],
             [
              0,
              43.22352241829243
             ],
             [
              0.196659174525255,
              43.21812306328243
             ]
            ]
           ],
           "type": "Polygon"
          },
          "id": "S2B_MSIL1C_20210103T110349_N0209_R094_T30TYP_20210103T121021",
          "properties": {
           "abstract": "The Level-1C product is composed of 100x100 km2 tiles (ortho-images in UTM/WGS84 projection). It results from\nusing a Digital Elevation Model (DEM) to project the image in cartographic geometry. Per-pixel radiometric\nmeasurements are provided in Top Of Atmosphere (TOA) reflectances along with the parameters to transform them\ninto radiances. Level-1C products are resampled with a constant Ground Sampling Distance (GSD) of 10, 20 and 60\nmeters depending on the native resolution of the different spectral bands. In Level-1C  products, pixel\ncoordinates refer to the upper left corner of the pixel. Level-1C products will additionally include Cloud Masks\nand ECMWF data (total column of ozone, total column of water vapour and mean sea level pressure).\n",
           "acquisition": {
            "beginViewingDate": 1609671829024,
            "centerViewingDate": 1609671829024,
            "endViewingDate": 1609671829024,
            "mission": "Sentinel-2",
            "missionCode": "S2B",
            "missionId": "B",
            "missionName": "Sentinel-2B",
            "sensorId": "MSI",
            "sensorMode": "INS-NOBS"
           },
           "archive": {
            "filename": "S2B_MSIL1C_20210103T110349_N0209_R094_T30TYP_20210103T121021.SAFE",
            "format": "SAFE",
            "offLine": false,
            "onLine": false,
            "size": 564
           },
           "attachments": [],
           "attitude": {},
           "bands": [
            {
             "center_wavelength": 0.4439,
             "common_name": "coastal",
             "full_width_half_max": 0.027,
             "gsd": 60,
             "name": "B01"
            },
            {
             "center_wavelength": 0.4966,
             "common_name": "blue",
             "full_width_half_max": 0.098,
             "gsd": 10,
             "name": "B02"
            },
            {
             "center_wavelength": 0.56,
             "common_name": "green",
             "full_width_half_max": 0.045,
             "gsd": 10,
             "name": "B03"
            },
            {
             "center_wavelength": 0.6645,
             "common_name": "red",
             "full_width_half_max": 0.038,
             "gsd": 10,
             "name": "B04"
            },
            {
             "center_wavelength": 0.7039,
             "full_width_half_max": 0.019,
             "gsd": 20,
             "name": "B05"
            },
            {
             "center_wavelength": 0.7402,
             "full_width_half_max": 0.018,
             "gsd": 20,
             "name": "B06"
            },
            {
             "center_wavelength": 0.7825,
             "full_width_half_max": 0.028,
             "gsd": 20,
             "name": "B07"
            },
            {
             "center_wavelength": 0.8351,
             "common_name": "nir",
             "full_width_half_max": 0.145,
             "gsd": 10,
             "name": "B08"
            },
            {
             "center_wavelength": 0.8648,
             "full_width_half_max": 0.033,
             "gsd": 20,
             "name": "B8A"
            },
            {
             "center_wavelength": 0.945,
             "full_width_half_max": 0.026,
             "gsd": 60,
             "name": "B09"
            },
            {
             "center_wavelength": 0.13735,
             "common_name": "cirrus",
             "full_width_half_max": 0.075,
             "gsd": 60,
             "name": "B10"
            },
            {
             "center_wavelength": 0.16137,
             "common_name": "swir16",
             "full_width_half_max": 0.075,
             "gsd": 20,
             "name": "B11"
            },
            {
             "center_wavelength": 0.22024,
             "common_name": "swir22",
             "full_width_half_max": 0.242,
             "gsd": 20,
             "name": "B12"
            }
           ],
           "cloudCover": 1.4675,
           "completionTimeFromAscendingNode": "2021-01-03T11:03:49.024000+00:00",
           "contentDescription": {
            "cloudCoverPercentage": 1.4675
           },
           "creationDate": "2021-01-03T15:28:45.035000+00:00",
           "downloadLink": "https://sobloo.eu/api/v1/services/download/a482f380-8734-43af-8af0-6ff38ccc0743",
           "enrichment": {
            "geonames": [
             {
              "name": "France",
              "states": [
               {
                "counties": [
                 {
                  "cities": [
                   {
                    "name": "Nérac"
                   },
                   {
                    "name": "Agen"
                   }
                  ],
                  "name": "Lot-et-Garonne",
                  "villages": [
                   {
                    "name": "Sérignac-sur-Garonne"
                   },
                   {
                    "name": "Fargues-sur-Ourbise"
                   },
                   {
                    "name": "Nérac"
                   },
                   {
                    "name": "Houeillès"
                   },
                   {
                    "name": "Sainte-Colombe-en-Bruilhois"
                   },
                   {
                    "name": "Laplume"
                   },
                   {
                    "name": "Roquefort"
                   }
                  ]
                 },
                 {
                  "cities": [
                   {
                    "name": "Langon"
                   }
                  ],
                  "name": "Gironde"
                 },
                 {
                  "cities": [
                   {
                    "name": "Pau"
                   },
                   {
                    "name": "Oloron-Sainte-Marie"
                   }
                  ],
                  "name": "Pyrénées-Atlantiques",
                  "villages": [
                   {
                    "name": "Lasseube"
                   },
                   {
                    "name": "Bernadets"
                   },
                   {
                    "name": "Momas"
                   },
                   {
                    "name": "Mazerolles"
                   },
                   {
                    "name": "Géus-d'Arzacq"
                   },
                   {
                    "name": "Artigueloutan"
                   },
                   {
                    "name": "Urost"
                   },
                   {
                    "name": "Siros"
                   },
                   {
                    "name": "Saint-Jammes"
                   },
                   {
                    "name": "Meillon"
                   },
                   {
                    "name": "Aubertin"
                   },
                   {
                    "name": "Saint-Laurent-Bretagne"
                   },
                   {
                    "name": "Boueilh-Boueilho-Lasque"
                   },
                   {
                    "name": "Doumy"
                   },
                   {
                    "name": "Buros"
                   },
                   {
                    "name": "Aydie"
                   },
                   {
                    "name": "Lamayou"
                   },
                   {
                    "name": "Poey-de-Lescar"
                   },
                   {
                    "name": "Pontacq"
                   },
                   {
                    "name": "Arrosès"
                   }
                  ]
                 },
                 {
                  "cities": [
                   {
                    "name": "Mont-de-Marsan"
                   }
                  ],
                  "name": "Landes",
                  "villages": [
                   {
                    "name": "Rimbez-et-Baudiets"
                   },
                   {
                    "name": "Montgaillard"
                   },
                   {
                    "name": "Bats"
                   },
                   {
                    "name": "Labrit"
                   },
                   {
                    "name": "Betbezer-d'Armagnac"
                   },
                   {
                    "name": "Monségur"
                   },
                   {
                    "name": "Lacquy"
                   },
                   {
                    "name": "Saint-Avit"
                   },
                   {
                    "name": "Arue"
                   },
                   {
                    "name": "Saint-Sever"
                   },
                   {
                    "name": "Saint-Julien-d'Armagnac"
                   },
                   {
                    "name": "Cachen"
                   },
                   {
                    "name": "Laglorieuse"
                   },
                   {
                    "name": "Hontanx"
                   },
                   {
                    "name": "Classun"
                   },
                   {
                    "name": "Luxey"
                   },
                   {
                    "name": "Renung"
                   },
                   {
                    "name": "Bascons"
                   },
                   {
                    "name": "Pujo-le-Plan"
                   },
                   {
                    "name": "Le Frêche"
                   },
                   {
                    "name": "Buanes"
                   },
                   {
                    "name": "Sarbazan"
                   },
                   {
                    "name": "Parleboscq"
                   },
                   {
                    "name": "Labastide-d'Armagnac"
                   },
                   {
                    "name": "Geaune"
                   },
                   {
                    "name": "Castelnau-Tursan"
                   }
                  ]
                 }
                ],
                "name": "Nouvelle-Aquitaine"
               },
               {
                "counties": [
                 {
                  "cities": [
                   {
                    "name": "Tarbes"
                   }
                  ],
                  "name": "Hautes-Pyrénées",
                  "villages": [
                   {
                    "name": "Bours"
                   },
                   {
                    "name": "Villefranque"
                   },
                   {
                    "name": "Laslades"
                   },
                   {
                    "name": "Soréac"
                   },
                   {
                    "name": "Lansac"
                   },
                   {
                    "name": "Marseillan"
                   }
                  ]
                 },
                 {
                  "cities": [
                   {
                    "name": "Condom"
                   },
                   {
                    "name": "Mirande"
                   },
                   {
                    "name": "Auch"
                   }
                  ],
                  "name": "Gers",
                  "villages": [
                   {
                    "name": "Mauléon-d'Armagnac"
                   },
                   {
                    "name": "Saint-Orens-Pouy-Petit"
                   },
                   {
                    "name": "Plaisance"
                   },
                   {
                    "name": "Peyrusse-Vieille"
                   },
                   {
                    "name": "Arblade-le-Haut"
                   },
                   {
                    "name": "Manciet"
                   },
                   {
                    "name": "Beaumont"
                   },
                   {
                    "name": "Jû-Belloc"
                   },
                   {
                    "name": "Riguepeu"
                   },
                   {
                    "name": "Beaucaire"
                   },
                   {
                    "name": "Castillon-Debats"
                   },
                   {
                    "name": "Lauraët"
                   },
                   {
                    "name": "Barcelonne-du-Gers"
                   },
                   {
                    "name": "Condom"
                   },
                   {
                    "name": "Aignan"
                   },
                   {
                    "name": "Castelnavet"
                   },
                   {
                    "name": "Caumont"
                   },
                   {
                    "name": "Bretagne-d'Armagnac"
                   },
                   {
                    "name": "Belmont"
                   },
                   {
                    "name": "Haget"
                   },
                   {
                    "name": "Roques"
                   },
                   {
                    "name": "Saint-Griède"
                   }
                  ]
                 }
                ],
                "name": "Occitanie"
               }
              ]
             }
            ],
            "naturallanguage": {
             "search_cloud_string": "cloud:partly_cloudy",
             "search_date_string": "2021 January 03 11: 11:03 11:03:49",
             "search_incidence_angle_string": "incidence:?",
             "search_quality_string": "quality:?"
            }
           },
           "eodag_product_type": "S2_MSI_L1C",
           "eodag_provider": "sobloo",
           "eodag_search_intersection": {
            "coordinates": [
             [
              [
               0.196659174525255,
               43.21812306328243
              ],
              [
               0,
               43.22352241829243
              ],
              [
               -0.53726196,
               43.238273156784096
              ],
              [
               -0.49642944,
               44.22597512802537
              ],
              [
               0,
               44.212099406551744
              ],
              [
               0.5834693618212,
               44.19579082833161
              ],
              [
               0.560584713141412,
               44.138277054299344
              ],
              [
               0.522822048156159,
               44.0433315856212
              ],
              [
               0.502259194941621,
               43.99174279782117
              ],
              [
               0.490435507664308,
               43.96178393766129
              ],
              [
               0.444903309673641,
               43.84685961561742
              ],
              [
               0.387420360888636,
               43.701103604596646
              ],
              [
               0.329745220250706,
               43.555293624836
              ],
              [
               0.272122281899612,
               43.4094748667584
              ],
              [
               0.214653323827068,
               43.26358647616488
              ],
              [
               0.196659174525255,
               43.21812306328243
              ]
             ]
            ],
            "type": "Polygon"
           },
           "identification": {
            "collection": "Sentinel-2",
            "dataset": {},
            "externalId": "S2B_MSIL1C_20210103T110349_N0209_R094_T30TYP_20210103T121021",
            "hvTileId": "TP30Y",
            "profile": "Image",
            "tileId": "30TYP",
            "type": "S2MSI1C"
           },
           "illumination": {},
           "instrument": "MSI",
           "license": "proprietary",
           "missionStartDate": "2015-06-23T00:00:00Z",
           "orbit": {
            "direction": "DESCENDING",
            "number": 19997,
            "relativeNumber": 94
           },
           "orbitDirection": "DESCENDING",
           "orbitNumber": 19997,
           "platform": "Sentinel-2",
           "platformSerialIdentifier": "S2B",
           "processingLevel": "Level-1C",
           "productType": "S2MSI1C",
           "production": {
            "baseline": "02.09",
            "levelCode": "Level-1C",
            "ongoing": false
           },
           "provider": {},
           "quality": {
            "qualified": false
           },
           "quicklook": "https://sobloo.eu/api/v1/services/quicklook/a482f380-8734-43af-8af0-6ff38ccc0743",
           "sensorMode": "INS-NOBS",
           "sensorType": "OPTICAL",
           "spatialCoverage": {
            "geometry": {
             "centerPoint": {
              "lat": 43.75078543447845,
              "lon": -0.056772036274430636
             },
             "geographicBoundingPolygon": {
              "coordinates": [
               [
                [
                 0.196659174525255,
                 43.21812306328243
                ],
                [
                 0.214653323827068,
                 43.26358647616488
                ],
                [
                 0.272122281899612,
                 43.4094748667584
                ],
                [
                 0.329745220250706,
                 43.555293624836
                ],
                [
                 0.387420360888636,
                 43.701103604596646
                ],
                [
                 0.444903309673641,
                 43.84685961561742
                ],
                [
                 0.490435507664308,
                 43.96178393766129
                ],
                [
                 0.502259194941621,
                 43.99174279782117
                ],
                [
                 0.522822048156159,
                 44.0433315856212
                ],
                [
                 0.560584713141412,
                 44.138277054299344
                ],
                [
                 0.5834693618212,
                 44.19579082833161
                ],
                [
                 0,
                 44.212099406551744
                ],
                [
                 -0.49642944,
                 44.22597512802537
                ],
                [
                 -0.53726196,
                 43.238273156784096
                ],
                [
                 0,
                 43.22352241829243
                ],
                [
                 0.196659174525255,
                 43.21812306328243
                ]
               ]
              ],
              "type": "Polygon"
             },
             "global": false
            },
            "verticality": {}
           },
           "startTimeFromAscendingNode": "2021-01-03T11:03:49.024000+00:00",
           "state": {
            "insertionDate": 1609687725035,
            "resources": {
             "quicklook": true,
             "thumbnail": true
            },
            "services": {
             "download": "internal",
             "wcs": false,
             "wms": false,
             "wmts": false
            }
           },
           "storageStatus": "ONLINE",
           "style": {
            "color": "red"
           },
           "target": {},
           "timeStamp": 1609671829024,
           "title": "S2B_MSIL1C_20210103T110349_N0209_R094_T30TYP_20210103T121021",
           "transmission": {},
           "uid": "a482f380-8734-43af-8af0-6ff38ccc0743",
           "visibility": {
            "deleted": false
           }
          },
          "type": "Feature"
         },
         {
          "geometry": {
           "coordinates": [
            [
             [
              0.499651613106885,
              44.137996748196564
             ],
             [
              0.547326919389197,
              44.13875411986689
             ],
             [
              0.567537320331426,
              44.18935658826113
             ],
             [
              0.625788942487544,
              44.33515624875584
             ],
             [
              0.685039219907538,
              44.480861587803375
             ],
             [
              0.744545071976698,
              44.62652039050277
             ],
             [
              0.803778209145012,
              44.772162974223214
             ],
             [
              0.86316473457256,
              44.91769059085591
             ],
             [
              0.922419943876341,
              45.06324191215061
             ],
             [
              0.951443339301435,
              45.13350764694719
             ],
             [
              0.45686051699677,
              45.12551356202371
             ],
             [
              0.499651613106885,
              44.137996748196564
             ]
            ]
           ],
           "type": "Polygon"
          },
          "id": "S2A_MSIL1C_20210108T110431_N0209_R094_T31TCK_20210108T131314",
          "properties": {
           "abstract": "The Level-1C product is composed of 100x100 km2 tiles (ortho-images in UTM/WGS84 projection). It results from\nusing a Digital Elevation Model (DEM) to project the image in cartographic geometry. Per-pixel radiometric\nmeasurements are provided in Top Of Atmosphere (TOA) reflectances along with the parameters to transform them\ninto radiances. Level-1C products are resampled with a constant Ground Sampling Distance (GSD) of 10, 20 and 60\nmeters depending on the native resolution of the different spectral bands. In Level-1C  products, pixel\ncoordinates refer to the upper left corner of the pixel. Level-1C products will additionally include Cloud Masks\nand ECMWF data (total column of ozone, total column of water vapour and mean sea level pressure).\n",
           "acquisition": {
            "beginViewingDate": 1610103871024,
            "centerViewingDate": 1610103871024,
            "endViewingDate": 1610103871024,
            "mission": "Sentinel-2",
            "missionCode": "S2A",
            "missionId": "A",
            "missionName": "Sentinel-2A",
            "sensorId": "MSI",
            "sensorMode": "INS-NOBS"
           },
           "archive": {
            "filename": "S2A_MSIL1C_20210108T110431_N0209_R094_T31TCK_20210108T131314.SAFE",
            "format": "SAFE",
            "offLine": false,
            "onLine": false,
            "size": 186
           },
           "attachments": [],
           "attitude": {},
           "bands": [
            {
             "center_wavelength": 0.4439,
             "common_name": "coastal",
             "full_width_half_max": 0.027,
             "gsd": 60,
             "name": "B01"
            },
            {
             "center_wavelength": 0.4966,
             "common_name": "blue",
             "full_width_half_max": 0.098,
             "gsd": 10,
             "name": "B02"
            },
            {
             "center_wavelength": 0.56,
             "common_name": "green",
             "full_width_half_max": 0.045,
             "gsd": 10,
             "name": "B03"
            },
            {
             "center_wavelength": 0.6645,
             "common_name": "red",
             "full_width_half_max": 0.038,
             "gsd": 10,
             "name": "B04"
            },
            {
             "center_wavelength": 0.7039,
             "full_width_half_max": 0.019,
             "gsd": 20,
             "name": "B05"
            },
            {
             "center_wavelength": 0.7402,
             "full_width_half_max": 0.018,
             "gsd": 20,
             "name": "B06"
            },
            {
             "center_wavelength": 0.7825,
             "full_width_half_max": 0.028,
             "gsd": 20,
             "name": "B07"
            },
            {
             "center_wavelength": 0.8351,
             "common_name": "nir",
             "full_width_half_max": 0.145,
             "gsd": 10,
             "name": "B08"
            },
            {
             "center_wavelength": 0.8648,
             "full_width_half_max": 0.033,
             "gsd": 20,
             "name": "B8A"
            },
            {
             "center_wavelength": 0.945,
             "full_width_half_max": 0.026,
             "gsd": 60,
             "name": "B09"
            },
            {
             "center_wavelength": 0.13735,
             "common_name": "cirrus",
             "full_width_half_max": 0.075,
             "gsd": 60,
             "name": "B10"
            },
            {
             "center_wavelength": 0.16137,
             "common_name": "swir16",
             "full_width_half_max": 0.075,
             "gsd": 20,
             "name": "B11"
            },
            {
             "center_wavelength": 0.22024,
             "common_name": "swir22",
             "full_width_half_max": 0.242,
             "gsd": 20,
             "name": "B12"
            }
           ],
           "cloudCover": 0,
           "completionTimeFromAscendingNode": "2021-01-08T11:04:31.024000+00:00",
           "contentDescription": {
            "cloudCoverPercentage": 0
           },
           "creationDate": "2021-01-08T15:24:54.074000+00:00",
           "downloadLink": "https://sobloo.eu/api/v1/services/download/6937a5ba-51eb-4b28-8d4b-1c87cce92ec3",
           "enrichment": {
            "geonames": [
             {
              "name": "France",
              "states": [
               {
                "counties": [
                 {
                  "cities": [
                   {
                    "name": "Marmande"
                   },
                   {
                    "name": "Agen"
                   },
                   {
                    "name": "Villeneuve-sur-Lot"
                   },
                   {
                    "name": "Nérac"
                   }
                  ],
                  "name": "Lot-et-Garonne",
                  "villages": [
                   {
                    "name": "Ségalas"
                   },
                   {
                    "name": "Cancon"
                   },
                   {
                    "name": "Sérignac-sur-Garonne"
                   },
                   {
                    "name": "Saint-Pastour"
                   },
                   {
                    "name": "Monflanquin"
                   },
                   {
                    "name": "Saint-Hilaire-de-Lusignan"
                   },
                   {
                    "name": "La Sauvetat-sur-Lède"
                   },
                   {
                    "name": "Saint-Colomb-de-Lauzun"
                   },
                   {
                    "name": "Monviel"
                   },
                   {
                    "name": "Pailloles"
                   },
                   {
                    "name": "Ferrensac"
                   },
                   {
                    "name": "Moulinet"
                   },
                   {
                    "name": "Villeréal"
                   },
                   {
                    "name": "Castelnaud-de-Gratecambe"
                   },
                   {
                    "name": "Montaut"
                   },
                   {
                    "name": "Colayrac-Saint-Cirq"
                   },
                   {
                    "name": "Sainte-Colombe-en-Bruilhois"
                   },
                   {
                    "name": "Dolmayrac"
                   },
                   {
                    "name": "Castelmoron-sur-Lot"
                   },
                   {
                    "name": "Pinel-Hauterive"
                   },
                   {
                    "name": "Le Temple-sur-Lot"
                   },
                   {
                    "name": "Saint-Maurice-de-Lestapel"
                   },
                   {
                    "name": "Montpezat"
                   },
                   {
                    "name": "Doudrac"
                   },
                   {
                    "name": "Saint-Étienne-de-Villeréal"
                   },
                   {
                    "name": "Brugnac"
                   },
                   {
                    "name": "Beaugas"
                   },
                   {
                    "name": "Fongrave"
                   },
                   {
                    "name": "Villeneuve-sur-Lot"
                   },
                   {
                    "name": "Bournel"
                   },
                   {
                    "name": "Montastruc"
                   },
                   {
                    "name": "Roquefort"
                   },
                   {
                    "name": "Moncaut"
                   },
                   {
                    "name": "Laplume"
                   },
                   {
                    "name": "Cahuzac"
                   }
                  ]
                 },
                 {
                  "cities": [
                   {
                    "name": "Bergerac"
                   },
                   {
                    "name": "Sarlat-la-Canéda"
                   },
                   {
                    "name": "Périgueux"
                   }
                  ],
                  "name": "Dordogne",
                  "villages": [
                   {
                    "name": "Saint-Geyrac"
                   },
                   {
                    "name": "Singleyrac"
                   },
                   {
                    "name": "Monmarvès"
                   },
                   {
                    "name": "Conne-de-Labarde"
                   },
                   {
                    "name": "Villamblard"
                   },
                   {
                    "name": "Cause-de-Clérans"
                   },
                   {
                    "name": "Saint-Germain-du-Salembre"
                   },
                   {
                    "name": "Manzac-sur-Vern"
                   },
                   {
                    "name": "Saint-Laurent-des-Vignes"
                   },
                   {
                    "name": "Clermont-de-Beauregard"
                   },
                   {
                    "name": "Plaisance"
                   },
                   {
                    "name": "Beauregard-et-Bassac"
                   },
                   {
                    "name": "Sadillac"
                   },
                   {
                    "name": "Naussannes"
                   },
                   {
                    "name": "Fossemagne"
                   },
                   {
                    "name": "Creysse"
                   },
                   {
                    "name": "Le Buisson-de-Cadouin"
                   },
                   {
                    "name": "Faurilles"
                   },
                   {
                    "name": "Badefols-sur-Dordogne"
                   },
                   {
                    "name": "Saint-Maime-de-Péreyrol"
                   },
                   {
                    "name": "Vallereuil"
                   },
                   {
                    "name": "Saint-Amand-de-Vergt"
                   },
                   {
                    "name": "Cours-de-Pile"
                   },
                   {
                    "name": "Monmadalès"
                   },
                   {
                    "name": "Saint-Jean-d'Estissac"
                   },
                   {
                    "name": "Saint-Nexans"
                   },
                   {
                    "name": "Monsaguel"
                   },
                   {
                    "name": "Sainte-Alvère-Saint-Laurent-les-Bâtons"
                   },
                   {
                    "name": "Couze-et-Saint-Front"
                   },
                   {
                    "name": "Salon"
                   },
                   {
                    "name": "Sourzac"
                   },
                   {
                    "name": "Bourniquel"
                   },
                   {
                    "name": "Saint-Félix-de-Reillac-et-Mortemart"
                   },
                   {
                    "name": "Colombier"
                   },
                   {
                    "name": "Saint-Avit-Sénieur"
                   },
                   {
                    "name": "Lanquais"
                   },
                   {
                    "name": "Creyssensac-et-Pissot"
                   },
                   {
                    "name": "Razac-d'Eymet"
                   },
                   {
                    "name": "Église-Neuve-de-Vergt"
                   },
                   {
                    "name": "Montagnac-la-Crempse"
                   },
                   {
                    "name": "Lembras"
                   },
                   {
                    "name": "Breuilh"
                   },
                   {
                    "name": "Bourrou"
                   },
                   {
                    "name": "Lamonzie-Montastruc"
                   },
                   {
                    "name": "Issac"
                   },
                   {
                    "name": "Notre-Dame-de-Sanilhac"
                   },
                   {
                    "name": "Cendrieux"
                   },
                   {
                    "name": "Lalinde"
                   },
                   {
                    "name": "Saint-Séverin-d'Estissac"
                   },
                   {
                    "name": "Sainte-Foy-de-Longas"
                   },
                   {
                    "name": "Douville"
                   },
                   {
                    "name": "Eyliac"
                   },
                   {
                    "name": "Fouleix"
                   },
                   {
                    "name": "Veyrines-de-Vergt"
                   }
                  ]
                 }
                ],
                "name": "Nouvelle-Aquitaine"
               }
              ]
             }
            ],
            "naturallanguage": {
             "search_cloud_string": "cloud:clear",
             "search_date_string": "2021 January 08 11: 11:04 11:04:31",
             "search_incidence_angle_string": "incidence:?",
             "search_quality_string": "quality:?"
            }
           },
           "eodag_product_type": "S2_MSI_L1C",
           "eodag_provider": "sobloo",
           "eodag_search_intersection": {
            "coordinates": [
             [
              [
               0.499651613106885,
               44.137996748196564
              ],
              [
               0.45686051699677,
               45.12551356202371
              ],
              [
               0.951443339301435,
               45.13350764694719
              ],
              [
               0.922419943876341,
               45.06324191215061
              ],
              [
               0.86316473457256,
               44.91769059085591
              ],
              [
               0.803778209145012,
               44.772162974223214
              ],
              [
               0.744545071976698,
               44.62652039050277
              ],
              [
               0.685039219907538,
               44.480861587803375
              ],
              [
               0.625788942487544,
               44.33515624875584
              ],
              [
               0.567537320331426,
               44.18935658826113
              ],
              [
               0.547326919389197,
               44.13875411986689
              ],
              [
               0.499651613106885,
               44.137996748196564
              ]
             ]
            ],
            "type": "Polygon"
           },
           "identification": {
            "collection": "Sentinel-2",
            "dataset": {},
            "externalId": "S2A_MSIL1C_20210108T110431_N0209_R094_T31TCK_20210108T131314",
            "hvTileId": "TK31C",
            "profile": "Image",
            "tileId": "31TCK",
            "type": "S2MSI1C"
           },
           "illumination": {},
           "instrument": "MSI",
           "license": "proprietary",
           "missionStartDate": "2015-06-23T00:00:00Z",
           "orbit": {
            "direction": "DESCENDING",
            "number": 28977,
            "relativeNumber": 94
           },
           "orbitDirection": "DESCENDING",
           "orbitNumber": 28977,
           "platform": "Sentinel-2",
           "platformSerialIdentifier": "S2A",
           "processingLevel": "Level-1C",
           "productType": "S2MSI1C",
           "production": {
            "baseline": "02.09",
            "levelCode": "Level-1C",
            "ongoing": false
           },
           "provider": {},
           "quality": {
            "qualified": false
           },
           "quicklook": "https://sobloo.eu/api/v1/services/quicklook/6937a5ba-51eb-4b28-8d4b-1c87cce92ec3",
           "sensorMode": "INS-NOBS",
           "sensorType": "OPTICAL",
           "spatialCoverage": {
            "geometry": {
             "centerPoint": {
              "lat": 44.77064071594664,
              "lon": 0.6383608135343207
             },
             "geographicBoundingPolygon": {
              "coordinates": [
               [
                [
                 0.499651613106885,
                 44.137996748196564
                ],
                [
                 0.547326919389197,
                 44.13875411986689
                ],
                [
                 0.567537320331426,
                 44.18935658826113
                ],
                [
                 0.625788942487544,
                 44.33515624875584
                ],
                [
                 0.685039219907538,
                 44.480861587803375
                ],
                [
                 0.744545071976698,
                 44.62652039050277
                ],
                [
                 0.803778209145012,
                 44.772162974223214
                ],
                [
                 0.86316473457256,
                 44.91769059085591
                ],
                [
                 0.922419943876341,
                 45.06324191215061
                ],
                [
                 0.951443339301435,
                 45.13350764694719
                ],
                [
                 0.45686051699677,
                 45.12551356202371
                ],
                [
                 0.499651613106885,
                 44.137996748196564
                ]
               ]
              ],
              "type": "Polygon"
             },
             "global": false
            },
            "verticality": {}
           },
           "startTimeFromAscendingNode": "2021-01-08T11:04:31.024000+00:00",
           "state": {
            "insertionDate": 1610119494074,
            "resources": {
             "quicklook": true,
             "thumbnail": true
            },
            "services": {
             "download": "internal",
             "wcs": false,
             "wms": false,
             "wmts": false
            }
           },
           "storageStatus": "ONLINE",
           "style": {
            "color": "red"
           },
           "target": {},
           "timeStamp": 1610103871024,
           "title": "S2A_MSIL1C_20210108T110431_N0209_R094_T31TCK_20210108T131314",
           "transmission": {},
           "uid": "6937a5ba-51eb-4b28-8d4b-1c87cce92ec3",
           "visibility": {
            "deleted": false
           }
          },
          "type": "Feature"
         },
         {
          "geometry": {
           "coordinates": [
            [
             [
              4.394253870988432,
              45.05674859305782
             ],
             [
              4.41890414435335,
              46.044766226835556
             ],
             [
              2.999741460261881,
              46.05357436995249
             ],
             [
              2.999745953598584,
              45.06525999447365
             ],
             [
              4.394253870988432,
              45.05674859305782
             ]
            ]
           ],
           "type": "Polygon"
          },
          "id": "S2A_MSIL1C_20201213T104441_N0209_R008_T31TEL_20201213T125210",
          "properties": {
           "abstract": "The Level-1C product is composed of 100x100 km2 tiles (ortho-images in UTM/WGS84 projection). It results from\nusing a Digital Elevation Model (DEM) to project the image in cartographic geometry. Per-pixel radiometric\nmeasurements are provided in Top Of Atmosphere (TOA) reflectances along with the parameters to transform them\ninto radiances. Level-1C products are resampled with a constant Ground Sampling Distance (GSD) of 10, 20 and 60\nmeters depending on the native resolution of the different spectral bands. In Level-1C  products, pixel\ncoordinates refer to the upper left corner of the pixel. Level-1C products will additionally include Cloud Masks\nand ECMWF data (total column of ozone, total column of water vapour and mean sea level pressure).\n",
           "acquisition": {
            "beginViewingDate": 1607856281024,
            "centerViewingDate": 1607856281024,
            "endViewingDate": 1607856281024,
            "mission": "Sentinel-2",
            "missionCode": "S2A",
            "missionId": "A",
            "missionName": "Sentinel-2A",
            "sensorId": "MSI",
            "sensorMode": "INS-NOBS"
           },
           "archive": {
            "filename": "S2A_MSIL1C_20201213T104441_N0209_R008_T31TEL_20201213T125210.SAFE",
            "format": "SAFE",
            "offLine": false,
            "onLine": false,
            "size": 809
           },
           "attachments": [],
           "attitude": {},
           "bands": [
            {
             "center_wavelength": 0.4439,
             "common_name": "coastal",
             "full_width_half_max": 0.027,
             "gsd": 60,
             "name": "B01"
            },
            {
             "center_wavelength": 0.4966,
             "common_name": "blue",
             "full_width_half_max": 0.098,
             "gsd": 10,
             "name": "B02"
            },
            {
             "center_wavelength": 0.56,
             "common_name": "green",
             "full_width_half_max": 0.045,
             "gsd": 10,
             "name": "B03"
            },
            {
             "center_wavelength": 0.6645,
             "common_name": "red",
             "full_width_half_max": 0.038,
             "gsd": 10,
             "name": "B04"
            },
            {
             "center_wavelength": 0.7039,
             "full_width_half_max": 0.019,
             "gsd": 20,
             "name": "B05"
            },
            {
             "center_wavelength": 0.7402,
             "full_width_half_max": 0.018,
             "gsd": 20,
             "name": "B06"
            },
            {
             "center_wavelength": 0.7825,
             "full_width_half_max": 0.028,
             "gsd": 20,
             "name": "B07"
            },
            {
             "center_wavelength": 0.8351,
             "common_name": "nir",
             "full_width_half_max": 0.145,
             "gsd": 10,
             "name": "B08"
            },
            {
             "center_wavelength": 0.8648,
             "full_width_half_max": 0.033,
             "gsd": 20,
             "name": "B8A"
            },
            {
             "center_wavelength": 0.945,
             "full_width_half_max": 0.026,
             "gsd": 60,
             "name": "B09"
            },
            {
             "center_wavelength": 0.13735,
             "common_name": "cirrus",
             "full_width_half_max": 0.075,
             "gsd": 60,
             "name": "B10"
            },
            {
             "center_wavelength": 0.16137,
             "common_name": "swir16",
             "full_width_half_max": 0.075,
             "gsd": 20,
             "name": "B11"
            },
            {
             "center_wavelength": 0.22024,
             "common_name": "swir22",
             "full_width_half_max": 0.242,
             "gsd": 20,
             "name": "B12"
            }
           ],
           "cloudCover": 1.5298000000000003,
           "completionTimeFromAscendingNode": "2020-12-13T10:44:41.024000+00:00",
           "contentDescription": {
            "cloudCoverPercentage": 1.5298000000000003
           },
           "creationDate": "2020-12-13T14:46:19.459000+00:00",
           "downloadLink": "https://sobloo.eu/api/v1/services/download/a2190906-ce56-465f-ab5f-af9d00b92001",
           "enrichment": {
            "geonames": [
             {
              "name": "France",
              "states": [
               {
                "counties": [
                 {
                  "cities": [
                   {
                    "name": "Clermont-Ferrand"
                   },
                   {
                    "name": "Issoire"
                   },
                   {
                    "name": "Ambert"
                   },
                   {
                    "name": "Thiers"
                   },
                   {
                    "name": "Riom"
                   }
                  ],
                  "name": "Puy-de-Dôme",
                  "villages": [
                   {
                    "name": "Parent"
                   },
                   {
                    "name": "Saint-Diéry"
                   },
                   {
                    "name": "Davayat"
                   },
                   {
                    "name": "Lussat"
                   },
                   {
                    "name": "La Chapelle-Agnon"
                   },
                   {
                    "name": "Pérignat-sur-Allier"
                   },
                   {
                    "name": "Prompsat"
                   },
                   {
                    "name": "Saint-Hilaire-la-Croix"
                   },
                   {
                    "name": "Malauzat"
                   },
                   {
                    "name": "Saint-Nectaire"
                   },
                   {
                    "name": "Olloix"
                   },
                   {
                    "name": "Thiolières"
                   },
                   {
                    "name": "Augerolles"
                   }
                  ]
                 },
                 {
                  "cities": [
                   {
                    "name": "Pays du Velay"
                   },
                   {
                    "name": "Brioude"
                   },
                   {
                    "name": "Yssingeaux"
                   }
                  ],
                  "name": "Haute-Loire",
                  "villages": [
                   {
                    "name": "Frugières-le-Pin"
                   },
                   {
                    "name": "Langeac"
                   },
                   {
                    "name": "Saint-Cirgues"
                   },
                   {
                    "name": "Saint-Arcons-d'Allier"
                   },
                   {
                    "name": "Blesle"
                   },
                   {
                    "name": "Vergongheon"
                   },
                   {
                    "name": "Fix-Saint-Geneys"
                   },
                   {
                    "name": "Agnat"
                   },
                   {
                    "name": "Saint-Didier-en-Velay"
                   },
                   {
                    "name": "Saint-Julien-des-Chazes"
                   },
                   {
                    "name": "Salzuit"
                   },
                   {
                    "name": "Montregard"
                   },
                   {
                    "name": "Vernassal"
                   },
                   {
                    "name": "Saint-Julien-Chapteuil"
                   },
                   {
                    "name": "La Chaise-Dieu"
                   },
                   {
                    "name": "Saint-Paulien"
                   },
                   {
                    "name": "Ferrussac"
                   },
                   {
                    "name": "Varennes-Saint-Honorat"
                   },
                   {
                    "name": "Monlet"
                   },
                   {
                    "name": "Josat"
                   },
                   {
                    "name": "Vieille-Brioude"
                   },
                   {
                    "name": "Lamothe"
                   },
                   {
                    "name": "Chamalières-sur-Loire"
                   },
                   {
                    "name": "Chastel"
                   },
                   {
                    "name": "Saint-Georges-d'Aurac"
                   },
                   {
                    "name": "Beaulieu"
                   },
                   {
                    "name": "Pinols"
                   },
                   {
                    "name": "Bellevue-la-Montagne"
                   },
                   {
                    "name": "Lapte"
                   },
                   {
                    "name": "Saint-Pal-de-Senouire"
                   },
                   {
                    "name": "Saint-Laurent-Chabreuges"
                   },
                   {
                    "name": "Lissac"
                   },
                   {
                    "name": "Chomelix"
                   },
                   {
                    "name": "Craponne-sur-Arzon"
                   },
                   {
                    "name": "Saint-Hostien"
                   },
                   {
                    "name": "Sanssac-l'Église"
                   },
                   {
                    "name": "Saint-Beauzire"
                   },
                   {
                    "name": "Chaniat"
                   },
                   {
                    "name": "Cistrières"
                   },
                   {
                    "name": "Allègre"
                   }
                  ]
                 },
                 {
                  "name": "Meaux-la-Montagne",
                  "villages": [
                   {
                    "name": "Meaux-la-Montagne"
                   }
                  ]
                 },
                 {
                  "cities": [
                   {
                    "name": "Villefranche-sur-Saône"
                   }
                  ],
                  "name": "Villefranche-sur-Saône"
                 },
                 {
                  "name": "Rhône"
                 },
                 {
                  "cities": [
                   {
                    "name": "Tournon-sur-Rhône"
                   }
                  ],
                  "name": "Ardèche",
                  "villages": [
                   {
                    "name": "Devesset"
                   }
                  ]
                 },
                 {
                  "name": "Saint-Vincent-de-Reins",
                  "villages": [
                   {
                    "name": "Saint-Vincent-de-Reins"
                   }
                  ]
                 },
                 {
                  "cities": [
                   {
                    "name": "Vichy"
                   }
                  ],
                  "name": "Allier",
                  "villages": [
                   {
                    "name": "Ferrières-sur-Sichon"
                   }
                  ]
                 },
                 {
                  "cities": [
                   {
                    "name": "Montbrison"
                   },
                   {
                    "name": "Saint-Étienne"
                   },
                   {
                    "name": "Roanne"
                   }
                  ],
                  "name": "Loire",
                  "villages": [
                   {
                    "name": "Unieux"
                   },
                   {
                    "name": "Villerest"
                   },
                   {
                    "name": "Pradines"
                   },
                   {
                    "name": "Pralong"
                   },
                   {
                    "name": "Dancé"
                   },
                   {
                    "name": "Bully"
                   },
                   {
                    "name": "Balbigny"
                   },
                   {
                    "name": "Lavieu"
                   },
                   {
                    "name": "Saint-Symphorien-de-Lay"
                   },
                   {
                    "name": "Juré"
                   },
                   {
                    "name": "Renaison"
                   },
                   {
                    "name": "Saint-Victor-sur-Rhins"
                   },
                   {
                    "name": "Mornand-en-Forez"
                   },
                   {
                    "name": "Saint-Julien-d'Oddes"
                   },
                   {
                    "name": "Montbrison"
                   },
                   {
                    "name": "Roanne"
                   }
                  ]
                 },
                 {
                  "cities": [
                   {
                    "name": "Saint-Flour"
                   }
                  ],
                  "name": "Cantal",
                  "villages": [
                   {
                    "name": "Charmensac"
                   },
                   {
                    "name": "Mentières"
                   }
                  ]
                 }
                ],
                "name": "Auvergne-Rhône-Alpes"
               }
              ]
             }
            ],
            "naturallanguage": {
             "search_cloud_string": "cloud:partly_cloudy",
             "search_date_string": "2020 December 13 10: 10:44 10:44:41",
             "search_incidence_angle_string": "incidence:?",
             "search_quality_string": "quality:?"
            }
           },
           "eodag_product_type": "S2_MSI_L1C",
           "eodag_provider": "sobloo",
           "eodag_search_intersection": {
            "coordinates": [
             [
              [
               4.394253870988432,
               45.05674859305782
              ],
              [
               2.999745953598584,
               45.06525999447365
              ],
              [
               2.999741460261881,
               46.05357436995249
              ],
              [
               4.41890414435335,
               46.044766226835556
              ],
              [
               4.394253870988432,
               45.05674859305782
              ]
             ]
            ],
            "type": "Polygon"
           },
           "identification": {
            "collection": "Sentinel-2",
            "dataset": {},
            "externalId": "S2A_MSIL1C_20201213T104441_N0209_R008_T31TEL_20201213T125210",
            "hvTileId": "TL31E",
            "profile": "Image",
            "tileId": "31TEL",
            "type": "S2MSI1C"
           },
           "illumination": {},
           "instrument": "MSI",
           "license": "proprietary",
           "missionStartDate": "2015-06-23T00:00:00Z",
           "orbit": {
            "direction": "DESCENDING",
            "number": 28605,
            "relativeNumber": 8
           },
           "orbitDirection": "DESCENDING",
           "orbitNumber": 28605,
           "platform": "Sentinel-2",
           "platformSerialIdentifier": "S2A",
           "processingLevel": "Level-1C",
           "productType": "S2MSI1C",
           "production": {
            "baseline": "02.09",
            "levelCode": "Level-1C",
            "ongoing": false
           },
           "provider": {},
           "quality": {
            "qualified": false
           },
           "quicklook": "https://sobloo.eu/api/v1/services/quicklook/a2190906-ce56-465f-ab5f-af9d00b92001",
           "sensorMode": "INS-NOBS",
           "sensorType": "OPTICAL",
           "spatialCoverage": {
            "geometry": {
             "centerPoint": {
              "lat": 45.556530640585144,
              "lon": 3.7031621560927723
             },
             "geographicBoundingPolygon": {
              "coordinates": [
               [
                [
                 4.394253870988432,
                 45.05674859305782
                ],
                [
                 4.41890414435335,
                 46.044766226835556
                ],
                [
                 2.999741460261881,
                 46.05357436995249
                ],
                [
                 2.999745953598584,
                 45.06525999447365
                ],
                [
                 4.394253870988432,
                 45.05674859305782
                ]
               ]
              ],
              "type": "Polygon"
             },
             "global": false
            },
            "verticality": {}
           },
           "startTimeFromAscendingNode": "2020-12-13T10:44:41.024000+00:00",
           "state": {
            "insertionDate": 1607870779459,
            "resources": {
             "quicklook": true,
             "thumbnail": true
            },
            "services": {
             "download": "internal",
             "wcs": false,
             "wms": false,
             "wmts": false
            }
           },
           "storageStatus": "ONLINE",
           "style": {
            "color": "red"
           },
           "target": {},
           "timeStamp": 1607856281024,
           "title": "S2A_MSIL1C_20201213T104441_N0209_R008_T31TEL_20201213T125210",
           "transmission": {},
           "uid": "a2190906-ce56-465f-ab5f-af9d00b92001",
           "visibility": {
            "deleted": false
           }
          },
          "type": "Feature"
         },
         {
          "geometry": {
           "coordinates": [
            [
             [
              4.372894000454571,
              44.157116557384406
             ],
             [
              4.396411173148929,
              45.145299673094094
             ],
             [
              2.999745560361899,
              45.15383725089235
             ],
             [
              2.999749847073169,
              44.16536649550738
             ],
             [
              4.372894000454571,
              44.157116557384406
             ]
            ]
           ],
           "type": "Polygon"
          },
          "id": "S2A_MSIL1C_20201213T104441_N0209_R008_T31TEK_20201213T125210",
          "properties": {
           "abstract": "The Level-1C product is composed of 100x100 km2 tiles (ortho-images in UTM/WGS84 projection). It results from\nusing a Digital Elevation Model (DEM) to project the image in cartographic geometry. Per-pixel radiometric\nmeasurements are provided in Top Of Atmosphere (TOA) reflectances along with the parameters to transform them\ninto radiances. Level-1C products are resampled with a constant Ground Sampling Distance (GSD) of 10, 20 and 60\nmeters depending on the native resolution of the different spectral bands. In Level-1C  products, pixel\ncoordinates refer to the upper left corner of the pixel. Level-1C products will additionally include Cloud Masks\nand ECMWF data (total column of ozone, total column of water vapour and mean sea level pressure).\n",
           "acquisition": {
            "beginViewingDate": 1607856281024,
            "centerViewingDate": 1607856281024,
            "endViewingDate": 1607856281024,
            "mission": "Sentinel-2",
            "missionCode": "S2A",
            "missionId": "A",
            "missionName": "Sentinel-2A",
            "sensorId": "MSI",
            "sensorMode": "INS-NOBS"
           },
           "archive": {
            "filename": "S2A_MSIL1C_20201213T104441_N0209_R008_T31TEK_20201213T125210.SAFE",
            "format": "SAFE",
            "offLine": false,
            "onLine": false,
            "size": 836
           },
           "attachments": [],
           "attitude": {},
           "bands": [
            {
             "center_wavelength": 0.4439,
             "common_name": "coastal",
             "full_width_half_max": 0.027,
             "gsd": 60,
             "name": "B01"
            },
            {
             "center_wavelength": 0.4966,
             "common_name": "blue",
             "full_width_half_max": 0.098,
             "gsd": 10,
             "name": "B02"
            },
            {
             "center_wavelength": 0.56,
             "common_name": "green",
             "full_width_half_max": 0.045,
             "gsd": 10,
             "name": "B03"
            },
            {
             "center_wavelength": 0.6645,
             "common_name": "red",
             "full_width_half_max": 0.038,
             "gsd": 10,
             "name": "B04"
            },
            {
             "center_wavelength": 0.7039,
             "full_width_half_max": 0.019,
             "gsd": 20,
             "name": "B05"
            },
            {
             "center_wavelength": 0.7402,
             "full_width_half_max": 0.018,
             "gsd": 20,
             "name": "B06"
            },
            {
             "center_wavelength": 0.7825,
             "full_width_half_max": 0.028,
             "gsd": 20,
             "name": "B07"
            },
            {
             "center_wavelength": 0.8351,
             "common_name": "nir",
             "full_width_half_max": 0.145,
             "gsd": 10,
             "name": "B08"
            },
            {
             "center_wavelength": 0.8648,
             "full_width_half_max": 0.033,
             "gsd": 20,
             "name": "B8A"
            },
            {
             "center_wavelength": 0.945,
             "full_width_half_max": 0.026,
             "gsd": 60,
             "name": "B09"
            },
            {
             "center_wavelength": 0.13735,
             "common_name": "cirrus",
             "full_width_half_max": 0.075,
             "gsd": 60,
             "name": "B10"
            },
            {
             "center_wavelength": 0.16137,
             "common_name": "swir16",
             "full_width_half_max": 0.075,
             "gsd": 20,
             "name": "B11"
            },
            {
             "center_wavelength": 0.22024,
             "common_name": "swir22",
             "full_width_half_max": 0.242,
             "gsd": 20,
             "name": "B12"
            }
           ],
           "cloudCover": 3.8593,
           "completionTimeFromAscendingNode": "2020-12-13T10:44:41.024000+00:00",
           "contentDescription": {
            "cloudCoverPercentage": 3.8593
           },
           "creationDate": "2020-12-13T14:48:33.873000+00:00",
           "downloadLink": "https://sobloo.eu/api/v1/services/download/31220aef-069d-4469-8687-d94ca4038e69",
           "enrichment": {
            "geonames": [
             {
              "name": "France",
              "states": [
               {
                "counties": [
                 {
                  "cities": [
                   {
                    "name": "Rodez"
                   },
                   {
                    "name": "Millau"
                   }
                  ],
                  "name": "Aveyron",
                  "villages": [
                   {
                    "name": "Sévérac-d'Aveyron"
                   },
                   {
                    "name": "Paulhe"
                   },
                   {
                    "name": "Millau"
                   },
                   {
                    "name": "Veyreau"
                   },
                   {
                    "name": "Saint-Saturnin-de-Lenne"
                   },
                   {
                    "name": "Mostuéjouls"
                   }
                  ]
                 },
                 {
                  "cities": [
                   {
                    "name": "Florac"
                   },
                   {
                    "name": "Mende"
                   }
                  ],
                  "name": "Lozère",
                  "villages": [
                   {
                    "name": "Montbrun"
                   },
                   {
                    "name": "Meyrueis"
                   },
                   {
                    "name": "Saint-Pierre-le-Vieux"
                   },
                   {
                    "name": "Badaroux"
                   },
                   {
                    "name": "Le Pompidou"
                   },
                   {
                    "name": "Lajo"
                   },
                   {
                    "name": "Saint-Martin-de-Boubaux"
                   },
                   {
                    "name": "Chanac"
                   },
                   {
                    "name": "Pourcharesses"
                   },
                   {
                    "name": "Fau-de-Peyre"
                   },
                   {
                    "name": "Le Malzieu-Forain"
                   },
                   {
                    "name": "Saint-Germain-de-Calberte"
                   },
                   {
                    "name": "Chadenet"
                   },
                   {
                    "name": "Serverette"
                   },
                   {
                    "name": "Chastel-Nouvel"
                   }
                  ]
                 },
                 {
                  "cities": [
                   {
                    "name": "Nimes"
                   },
                   {
                    "name": "Le Vigan"
                   },
                   {
                    "name": "Alès"
                   }
                  ],
                  "name": "Gard",
                  "villages": [
                   {
                    "name": "Mialet"
                   },
                   {
                    "name": "Saint-André-de-Valborgne"
                   },
                   {
                    "name": "Sénéchas"
                   },
                   {
                    "name": "Saint-Florent-sur-Auzonnet"
                   }
                  ]
                 }
                ],
                "name": "Occitanie"
               },
               {
                "counties": [
                 {
                  "cities": [
                   {
                    "name": "Saint-Flour"
                   }
                  ],
                  "name": "Cantal",
                  "villages": [
                   {
                    "name": "Les Ternes"
                   },
                   {
                    "name": "Ferrières-Saint-Mary"
                   },
                   {
                    "name": "Chazelles"
                   },
                   {
                    "name": "Mentières"
                   },
                   {
                    "name": "Maurines"
                   }
                  ]
                 },
                 {
                  "cities": [
                   {
                    "name": "Pays du Velay"
                   },
                   {
                    "name": "Brioude"
                   },
                   {
                    "name": "Yssingeaux"
                   }
                  ],
                  "name": "Haute-Loire",
                  "villages": [
                   {
                    "name": "Saint-Hostien"
                   },
                   {
                    "name": "Lantriac"
                   },
                   {
                    "name": "Saint-Julien-du-Pinet"
                   },
                   {
                    "name": "Saint-Christophe-sur-Dolaison"
                   },
                   {
                    "name": "Vergezac"
                   },
                   {
                    "name": "Goudet"
                   },
                   {
                    "name": "Saint-Étienne-du-Vigan"
                   },
                   {
                    "name": "Fix-Saint-Geneys"
                   },
                   {
                    "name": "Langeac"
                   },
                   {
                    "name": "Aiguilhe"
                   },
                   {
                    "name": "Chastel"
                   },
                   {
                    "name": "Saint-Georges-d'Aurac"
                   },
                   {
                    "name": "Saint-Paulien"
                   },
                   {
                    "name": "Cronce"
                   },
                   {
                    "name": "Charraix"
                   },
                   {
                    "name": "Beaulieu"
                   },
                   {
                    "name": "Pébrac"
                   },
                   {
                    "name": "Saint-Julien-Chapteuil"
                   },
                   {
                    "name": "Le Brignon"
                   },
                   {
                    "name": "Ferrussac"
                   },
                   {
                    "name": "Fay-sur-Lignon"
                   },
                   {
                    "name": "Saint-Cirgues"
                   },
                   {
                    "name": "Saint-Julien-des-Chazes"
                   },
                   {
                    "name": "Lapte"
                   },
                   {
                    "name": "Sanssac-l'Église"
                   },
                   {
                    "name": "Céaux-d'Allègre"
                   },
                   {
                    "name": "Yssingeaux"
                   },
                   {
                    "name": "Vernassal"
                   },
                   {
                    "name": "Saint-Arcons-d'Allier"
                   },
                   {
                    "name": "Chadron"
                   },
                   {
                    "name": "Freycenet-la-Cuche"
                   }
                  ]
                 },
                 {
                  "cities": [
                   {
                    "name": "Largentière"
                   },
                   {
                    "name": "Tournon-sur-Rhône"
                   },
                   {
                    "name": "Privas"
                   }
                  ],
                  "name": "Ardèche",
                  "villages": [
                   {
                    "name": "Saint-André-Lachamp"
                   },
                   {
                    "name": "Intres"
                   },
                   {
                    "name": "Saint-Étienne-de-Fontbellon"
                   },
                   {
                    "name": "Thueyts"
                   },
                   {
                    "name": "Saint-André-en-Vivarais"
                   },
                   {
                    "name": "Issarlès"
                   },
                   {
                    "name": "Sampzon"
                   },
                   {
                    "name": "Sablières"
                   },
                   {
                    "name": "Saint-Clément"
                   },
                   {
                    "name": "Rocles"
                   },
                   {
                    "name": "Meyras"
                   },
                   {
                    "name": "Saint-Laurent-les-Bains"
                   },
                   {
                    "name": "Saint-Sauveur-de-Cruzières"
                   },
                   {
                    "name": "Barnas"
                   },
                   {
                    "name": "Beaumont"
                   },
                   {
                    "name": "Saint-Cirgues-en-Montagne"
                   }
                  ]
                 }
                ],
                "name": "Auvergne-Rhône-Alpes"
               }
              ]
             }
            ],
            "naturallanguage": {
             "search_cloud_string": "cloud:partly_cloudy",
             "search_date_string": "2020 December 13 10: 10:44 10:44:41",
             "search_incidence_angle_string": "incidence:?",
             "search_quality_string": "quality:?"
            }
           },
           "eodag_product_type": "S2_MSI_L1C",
           "eodag_provider": "sobloo",
           "eodag_search_intersection": {
            "coordinates": [
             [
              [
               4.372894000454571,
               44.157116557384406
              ],
              [
               2.999749847073169,
               44.16536649550738
              ],
              [
               2.999745560361899,
               45.15383725089235
              ],
              [
               4.396411173148929,
               45.145299673094094
              ],
              [
               4.372894000454571,
               44.157116557384406
              ]
             ]
            ],
            "type": "Polygon"
           },
           "identification": {
            "collection": "Sentinel-2",
            "dataset": {},
            "externalId": "S2A_MSIL1C_20201213T104441_N0209_R008_T31TEK_20201213T125210",
            "hvTileId": "TK31E",
            "profile": "Image",
            "tileId": "31TEK",
            "type": "S2MSI1C"
           },
           "illumination": {},
           "instrument": "MSI",
           "license": "proprietary",
           "missionStartDate": "2015-06-23T00:00:00Z",
           "orbit": {
            "direction": "DESCENDING",
            "number": 28605,
            "relativeNumber": 8
           },
           "orbitDirection": "DESCENDING",
           "orbitNumber": 28605,
           "platform": "Sentinel-2",
           "platformSerialIdentifier": "S2A",
           "processingLevel": "Level-1C",
           "productType": "S2MSI1C",
           "production": {
            "baseline": "02.09",
            "levelCode": "Level-1C",
            "ongoing": false
           },
           "provider": {},
           "quality": {
            "qualified": false
           },
           "quicklook": "https://sobloo.eu/api/v1/services/quicklook/31220aef-069d-4469-8687-d94ca4038e69",
           "sensorMode": "INS-NOBS",
           "sensorType": "OPTICAL",
           "spatialCoverage": {
            "geometry": {
             "centerPoint": {
              "lat": 44.656804025537824,
              "lon": 3.692199846052772
             },
             "geographicBoundingPolygon": {
              "coordinates": [
               [
                [
                 4.372894000454571,
                 44.157116557384406
                ],
                [
                 4.396411173148929,
                 45.145299673094094
                ],
                [
                 2.999745560361899,
                 45.15383725089235
                ],
                [
                 2.999749847073169,
                 44.16536649550738
                ],
                [
                 4.372894000454571,
                 44.157116557384406
                ]
               ]
              ],
              "type": "Polygon"
             },
             "global": false
            },
            "verticality": {}
           },
           "startTimeFromAscendingNode": "2020-12-13T10:44:41.024000+00:00",
           "state": {
            "insertionDate": 1607870913873,
            "resources": {
             "quicklook": true,
             "thumbnail": true
            },
            "services": {
             "download": "internal",
             "wcs": false,
             "wms": false,
             "wmts": false
            }
           },
           "storageStatus": "ONLINE",
           "style": {
            "color": "red"
           },
           "target": {},
           "timeStamp": 1607856281024,
           "title": "S2A_MSIL1C_20201213T104441_N0209_R008_T31TEK_20201213T125210",
           "transmission": {},
           "uid": "31220aef-069d-4469-8687-d94ca4038e69",
           "visibility": {
            "deleted": false
           }
          },
          "type": "Feature"
         },
         {
          "geometry": {
           "coordinates": [
            [
             [
              4.352494032483418,
              43.256794294201605
             ],
             [
              4.374940058749246,
              44.24514241182411
             ],
             [
              4.340310329461339,
              44.24535079521058
             ],
             [
              4.307823684089252,
              44.14629072343452
             ],
             [
              4.259126692932052,
              43.99973199556856
             ],
             [
              4.210720895187553,
              43.85298305681391
             ],
             [
              4.161970680702884,
              43.70628405573733
             ],
             [
              4.113606271075388,
              43.55944840392364
             ],
             [
              4.065303698017993,
              43.4126014465063
             ],
             [
              4.017183865096976,
              43.26570625315801
             ],
             [
              4.014931796127915,
              43.258789633132764
             ],
             [
              4.352494032483418,
              43.256794294201605
             ]
            ]
           ],
           "type": "Polygon"
          },
          "id": "S2B_MSIL1C_20201225T103339_N0209_R108_T31TEJ_20201225T112846",
          "properties": {
           "abstract": "The Level-1C product is composed of 100x100 km2 tiles (ortho-images in UTM/WGS84 projection). It results from\nusing a Digital Elevation Model (DEM) to project the image in cartographic geometry. Per-pixel radiometric\nmeasurements are provided in Top Of Atmosphere (TOA) reflectances along with the parameters to transform them\ninto radiances. Level-1C products are resampled with a constant Ground Sampling Distance (GSD) of 10, 20 and 60\nmeters depending on the native resolution of the different spectral bands. In Level-1C  products, pixel\ncoordinates refer to the upper left corner of the pixel. Level-1C products will additionally include Cloud Masks\nand ECMWF data (total column of ozone, total column of water vapour and mean sea level pressure).\n",
           "acquisition": {
            "beginViewingDate": 1608892419024,
            "centerViewingDate": 1608892419024,
            "endViewingDate": 1608892419024,
            "mission": "Sentinel-2",
            "missionCode": "S2B",
            "missionId": "B",
            "missionName": "Sentinel-2B",
            "sensorId": "MSI",
            "sensorMode": "INS-NOBS"
           },
           "archive": {
            "filename": "S2B_MSIL1C_20201225T103339_N0209_R108_T31TEJ_20201225T112846.SAFE",
            "format": "SAFE",
            "offLine": false,
            "onLine": false,
            "size": 119
           },
           "attachments": [],
           "attitude": {},
           "bands": [
            {
             "center_wavelength": 0.4439,
             "common_name": "coastal",
             "full_width_half_max": 0.027,
             "gsd": 60,
             "name": "B01"
            },
            {
             "center_wavelength": 0.4966,
             "common_name": "blue",
             "full_width_half_max": 0.098,
             "gsd": 10,
             "name": "B02"
            },
            {
             "center_wavelength": 0.56,
             "common_name": "green",
             "full_width_half_max": 0.045,
             "gsd": 10,
             "name": "B03"
            },
            {
             "center_wavelength": 0.6645,
             "common_name": "red",
             "full_width_half_max": 0.038,
             "gsd": 10,
             "name": "B04"
            },
            {
             "center_wavelength": 0.7039,
             "full_width_half_max": 0.019,
             "gsd": 20,
             "name": "B05"
            },
            {
             "center_wavelength": 0.7402,
             "full_width_half_max": 0.018,
             "gsd": 20,
             "name": "B06"
            },
            {
             "center_wavelength": 0.7825,
             "full_width_half_max": 0.028,
             "gsd": 20,
             "name": "B07"
            },
            {
             "center_wavelength": 0.8351,
             "common_name": "nir",
             "full_width_half_max": 0.145,
             "gsd": 10,
             "name": "B08"
            },
            {
             "center_wavelength": 0.8648,
             "full_width_half_max": 0.033,
             "gsd": 20,
             "name": "B8A"
            },
            {
             "center_wavelength": 0.945,
             "full_width_half_max": 0.026,
             "gsd": 60,
             "name": "B09"
            },
            {
             "center_wavelength": 0.13735,
             "common_name": "cirrus",
             "full_width_half_max": 0.075,
             "gsd": 60,
             "name": "B10"
            },
            {
             "center_wavelength": 0.16137,
             "common_name": "swir16",
             "full_width_half_max": 0.075,
             "gsd": 20,
             "name": "B11"
            },
            {
             "center_wavelength": 0.22024,
             "common_name": "swir22",
             "full_width_half_max": 0.242,
             "gsd": 20,
             "name": "B12"
            }
           ],
           "cloudCover": 9.7472,
           "completionTimeFromAscendingNode": "2020-12-25T10:33:39.024000+00:00",
           "contentDescription": {
            "cloudCoverPercentage": 9.7472
           },
           "creationDate": "2020-12-25T12:58:19.316000+00:00",
           "downloadLink": "https://sobloo.eu/api/v1/services/download/204cd467-6a69-4bd4-8ab1-6bef7eee1cfd",
           "enrichment": {
            "geonames": [
             {
              "name": "France",
              "states": [
               {
                "counties": [
                 {
                  "cities": [
                   {
                    "name": "Montpellier"
                   }
                  ],
                  "name": "Hérault",
                  "villages": [
                   {
                    "name": "Lunel"
                   },
                   {
                    "name": "Marsillargues"
                   }
                  ]
                 },
                 {
                  "cities": [
                   {
                    "name": "Alès"
                   },
                   {
                    "name": "Nimes"
                   }
                  ],
                  "name": "Gard",
                  "villages": [
                   {
                    "name": "Montaren-et-Saint-Médiers"
                   },
                   {
                    "name": "Saint-Laurent-d'Aigouze"
                   },
                   {
                    "name": "Vestric-et-Candiac"
                   },
                   {
                    "name": "Nages-et-Solorgues"
                   },
                   {
                    "name": "Saint-Côme-et-Maruéjols"
                   },
                   {
                    "name": "Saint-Chaptes"
                   },
                   {
                    "name": "Milhaud"
                   },
                   {
                    "name": "Blauzac"
                   },
                   {
                    "name": "Parignargues"
                   },
                   {
                    "name": "Bernis"
                   },
                   {
                    "name": "Tharaux"
                   },
                   {
                    "name": "Boissières"
                   },
                   {
                    "name": "Fons-sur-Lussan"
                   },
                   {
                    "name": "Aubord"
                   },
                   {
                    "name": "Aubussargues"
                   },
                   {
                    "name": "Garrigues-Sainte-Eulalie"
                   },
                   {
                    "name": "Beauvoisin"
                   },
                   {
                    "name": "Bouquet"
                   },
                   {
                    "name": "Aigues-Vives"
                   },
                   {
                    "name": "Le Grau-du-Roi"
                   },
                   {
                    "name": "Moussac"
                   },
                   {
                    "name": "Aigues-Mortes"
                   },
                   {
                    "name": "Le Cailar"
                   },
                   {
                    "name": "Uchaud"
                   },
                   {
                    "name": "Méjannes-le-Clap"
                   },
                   {
                    "name": "Collorgues"
                   },
                   {
                    "name": "Gajan"
                   },
                   {
                    "name": "Mus"
                   },
                   {
                    "name": "Vauvert"
                   },
                   {
                    "name": "Sainte-Anastasie"
                   },
                   {
                    "name": "Générac"
                   },
                   {
                    "name": "La Rouvière"
                   },
                   {
                    "name": "Caveirac"
                   },
                   {
                    "name": "Saint-Dionisy"
                   },
                   {
                    "name": "Seynes"
                   },
                   {
                    "name": "Bourdic"
                   },
                   {
                    "name": "Calvisson"
                   },
                   {
                    "name": "Castelnau-Valence"
                   },
                   {
                    "name": "Serviers-et-Labaume"
                   },
                   {
                    "name": "Belvézet"
                   },
                   {
                    "name": "Saint-Maurice-de-Cazevieille"
                   },
                   {
                    "name": "Aigaliers"
                   },
                   {
                    "name": "Vergèze"
                   },
                   {
                    "name": "Dions"
                   },
                   {
                    "name": "Gallargues-le-Montueux"
                   },
                   {
                    "name": "Sauzet"
                   },
                   {
                    "name": "Vallérargues"
                   },
                   {
                    "name": "Codognan"
                   },
                   {
                    "name": "Lussan"
                   },
                   {
                    "name": "Saint-Dézéry"
                   },
                   {
                    "name": "Arpaillargues-et-Aureillac"
                   },
                   {
                    "name": "Clarensac"
                   },
                   {
                    "name": "Foissac"
                   },
                   {
                    "name": "Langlade"
                   },
                   {
                    "name": "Saint-Gilles"
                   },
                   {
                    "name": "La Calmette"
                   },
                   {
                    "name": "Baron"
                   },
                   {
                    "name": "Saint-Geniès-de-Malgoirès"
                   },
                   {
                    "name": "Aimargues"
                   }
                  ]
                 }
                ],
                "name": "Occitanie"
               },
               {
                "counties": [
                 {
                  "cities": [
                   {
                    "name": "Arles"
                   }
                  ],
                  "name": "Bouches-du-Rhône",
                  "villages": [
                   {
                    "name": "Saintes-Maries-de-la-Mer"
                   }
                  ]
                 }
                ],
                "name": "Provence-Alpes-Côte d'Azur"
               }
              ]
             }
            ],
            "naturallanguage": {
             "search_cloud_string": "cloud:partly_cloudy",
             "search_date_string": "2020 December 25 10: 10:33 10:33:39",
             "search_incidence_angle_string": "incidence:?",
             "search_quality_string": "quality:?"
            }
           },
           "eodag_product_type": "S2_MSI_L1C",
           "eodag_provider": "sobloo",
           "eodag_search_intersection": {
            "coordinates": [
             [
              [
               4.352494032483418,
               43.256794294201605
              ],
              [
               4.014931796127915,
               43.258789633132764
              ],
              [
               4.017183865096976,
               43.26570625315801
              ],
              [
               4.065303698017993,
               43.4126014465063
              ],
              [
               4.113606271075388,
               43.55944840392364
              ],
              [
               4.161970680702884,
               43.70628405573733
              ],
              [
               4.210720895187553,
               43.85298305681391
              ],
              [
               4.259126692932052,
               43.99973199556856
              ],
              [
               4.307823684089252,
               44.14629072343452
              ],
              [
               4.340310329461339,
               44.24535079521058
              ],
              [
               4.374940058749246,
               44.24514241182411
              ],
              [
               4.352494032483418,
               43.256794294201605
              ]
             ]
            ],
            "type": "Polygon"
           },
           "identification": {
            "collection": "Sentinel-2",
            "dataset": {},
            "externalId": "S2B_MSIL1C_20201225T103339_N0209_R108_T31TEJ_20201225T112846",
            "hvTileId": "TJ31E",
            "profile": "Image",
            "tileId": "31TEJ",
            "type": "S2MSI1C"
           },
           "illumination": {},
           "instrument": "MSI",
           "license": "proprietary",
           "missionStartDate": "2015-06-23T00:00:00Z",
           "orbit": {
            "direction": "DESCENDING",
            "number": 19868,
            "relativeNumber": 108
           },
           "orbitDirection": "DESCENDING",
           "orbitNumber": 19868,
           "platform": "Sentinel-2",
           "platformSerialIdentifier": "S2B",
           "processingLevel": "Level-1C",
           "productType": "S2MSI1C",
           "production": {
            "baseline": "02.09",
            "levelCode": "Level-1C",
            "ongoing": false
           },
           "provider": {},
           "quality": {
            "qualified": false
           },
           "quicklook": "https://sobloo.eu/api/v1/services/quicklook/204cd467-6a69-4bd4-8ab1-6bef7eee1cfd",
           "sensorMode": "INS-NOBS",
           "sensorType": "OPTICAL",
           "spatialCoverage": {
            "geometry": {
             "centerPoint": {
              "lat": 43.61754806520501,
              "lon": 4.246923986051923
             },
             "geographicBoundingPolygon": {
              "coordinates": [
               [
                [
                 4.352494032483418,
                 43.256794294201605
                ],
                [
                 4.374940058749246,
                 44.24514241182411
                ],
                [
                 4.340310329461339,
                 44.24535079521058
                ],
                [
                 4.307823684089252,
                 44.14629072343452
                ],
                [
                 4.259126692932052,
                 43.99973199556856
                ],
                [
                 4.210720895187553,
                 43.85298305681391
                ],
                [
                 4.161970680702884,
                 43.70628405573733
                ],
                [
                 4.113606271075388,
                 43.55944840392364
                ],
                [
                 4.065303698017993,
                 43.4126014465063
                ],
                [
                 4.017183865096976,
                 43.26570625315801
                ],
                [
                 4.014931796127915,
                 43.258789633132764
                ],
                [
                 4.352494032483418,
                 43.256794294201605
                ]
               ]
              ],
              "type": "Polygon"
             },
             "global": false
            },
            "verticality": {}
           },
           "startTimeFromAscendingNode": "2020-12-25T10:33:39.024000+00:00",
           "state": {
            "insertionDate": 1608901099316,
            "resources": {
             "quicklook": true,
             "thumbnail": true
            },
            "services": {
             "download": "internal",
             "wcs": false,
             "wms": false,
             "wmts": false
            }
           },
           "storageStatus": "ONLINE",
           "style": {
            "color": "red"
           },
           "target": {},
           "timeStamp": 1608892419024,
           "title": "S2B_MSIL1C_20201225T103339_N0209_R108_T31TEJ_20201225T112846",
           "transmission": {},
           "uid": "204cd467-6a69-4bd4-8ab1-6bef7eee1cfd",
           "visibility": {
            "deleted": false
           }
          },
          "type": "Feature"
         }
        ],
        "type": "FeatureCollection"
       },
       "hover_style": {
        "fillColor": "yellow"
       },
       "name": "",
       "options": [],
       "popup": null,
       "popup_max_height": null,
       "popup_max_width": 300,
       "popup_min_width": 50,
       "style": {
        "color": "red"
       }
      }
     },
     "4465ba5f81f44a98a1f6652af3038084": {
      "model_module": "@jupyter-widgets/base",
      "model_module_version": "1.2.0",
      "model_name": "LayoutModel",
      "state": {}
     },
     "4947d70d690848998dc92d820d2d0f00": {
      "model_module": "@jupyter-widgets/base",
      "model_module_version": "1.2.0",
      "model_name": "LayoutModel",
      "state": {}
     },
     "4aae4b545fd74dccb1ab8f10f983060c": {
      "model_module": "@jupyter-widgets/base",
      "model_module_version": "1.2.0",
      "model_name": "LayoutModel",
      "state": {}
     },
     "4b26f98d6131466abf4f4ed8b08cf42d": {
      "model_module": "@jupyter-widgets/base",
      "model_module_version": "1.2.0",
      "model_name": "LayoutModel",
      "state": {
       "width": "100%"
      }
     },
     "4b6cbc5f61574d5d8fdc6479951fb0c0": {
      "model_module": "@jupyter-widgets/controls",
      "model_module_version": "1.5.0",
      "model_name": "HTMLModel",
      "state": {
       "layout": "IPY_MODEL_4947d70d690848998dc92d820d2d0f00",
       "style": "IPY_MODEL_e180f974adca474894ae19be415c556b",
       "value": "172MB [00:39, 1.79MB/s]"
      }
     },
     "539259a0df7c4d2aa83ae2cbcfec4854": {
      "model_module": "@jupyter-widgets/controls",
      "model_module_version": "1.5.0",
      "model_name": "DescriptionStyleModel",
      "state": {
       "description_width": ""
      }
     },
     "5fccc9aada2a47c084f609a19ba9b3b4": {
      "model_module": "jupyter-leaflet",
      "model_module_version": "^0.13.2",
      "model_name": "LeafletMapModel",
      "state": {
       "_model_module_version": "^0.13.2",
       "_view_module_version": "^0.13.2",
       "bottom": 6182,
       "center": [
        43.61221676817573,
        1.5051269531250002
       ],
       "controls": [
        "IPY_MODEL_d9d8a6f5813c47eaa7fda679fd95bda8",
        "IPY_MODEL_d0172a04bbdd4e99872b0a5270bb0904"
       ],
       "default_style": "IPY_MODEL_bf0fee2979cd4b72aa3431e372e65065",
       "dragging_style": "IPY_MODEL_efd18345a2694bd2bd5dd588b36c5271",
       "east": 12.106933593750002,
       "fullscreen": false,
       "interpolation": "bilinear",
       "layers": [
        "IPY_MODEL_d2018bef15b442ebb2c54ac9fba6ce06",
        "IPY_MODEL_60c25b96653d45d4a2f2576e076fd334",
        "IPY_MODEL_6bdebbc8a19344bd938c3a2ff7bfdcb6",
        "IPY_MODEL_3f8f11f8df054bbda34e91dce8910e41",
        "IPY_MODEL_fae2db7945794d5b96fe67fc2a78e3f4"
       ],
       "layout": "IPY_MODEL_4465ba5f81f44a98a1f6652af3038084",
       "left": 7779,
       "modisdate": "yesterday",
       "north": 46.70973594407157,
       "options": [
        "bounce_at_zoom_limits",
        "box_zoom",
        "center",
        "close_popup_on_click",
        "double_click_zoom",
        "dragging",
        "fullscreen",
        "inertia",
        "inertia_deceleration",
        "inertia_max_speed",
        "interpolation",
        "keyboard",
        "keyboard_pan_offset",
        "keyboard_zoom_offset",
        "max_zoom",
        "min_zoom",
        "scroll_wheel_zoom",
        "tap",
        "tap_tolerance",
        "touch_zoom",
        "world_copy_jump",
        "zoom",
        "zoom_animation_threshold",
        "zoom_delta",
        "zoom_snap",
        "zoom_start"
       ],
       "right": 8743,
       "south": 40.34654412118006,
       "style": "IPY_MODEL_bf0fee2979cd4b72aa3431e372e65065",
       "top": 5782,
       "west": -9.074707031250002,
       "window_url": "http://localhost:8888/notebooks/tuto_advanced.ipynb#",
       "zoom": 6
      }
     },
     "60c25b96653d45d4a2f2576e076fd334": {
      "model_module": "jupyter-leaflet",
      "model_module_version": "^0.13.2",
      "model_name": "LeafletRectangleModel",
      "state": {
       "_model_module_version": "^0.13.2",
       "_view_module_version": "^0.13.2",
       "bounds": [
        [
         42.763146,
         -1.999512
        ],
        [
         46.754917,
         4.570313
        ]
       ],
       "color": "green",
       "draggable": false,
       "options": [
        "class_name",
        "color",
        "dash_array",
        "draggable",
        "fill",
        "fill_color",
        "fill_opacity",
        "line_cap",
        "line_join",
        "no_clip",
        "opacity",
        "pointer_events",
        "smooth_factor",
        "stroke",
        "transform",
        "weight"
       ],
       "rotation": true,
       "scaling": true,
       "transform": false,
       "uniform_scaling": false
      }
     },
     "688e7258d68a49138ac2509376e418b3": {
      "model_module": "@jupyter-widgets/base",
      "model_module_version": "1.2.0",
      "model_name": "LayoutModel",
      "state": {
       "width": "20px"
      }
     },
     "6bdebbc8a19344bd938c3a2ff7bfdcb6": {
      "model_module": "jupyter-leaflet",
      "model_module_version": "^0.13.2",
      "model_name": "LeafletGeoJSONModel",
      "state": {
       "_model_module": "jupyter-leaflet",
       "_model_module_version": "^0.13.2",
       "_view_count": null,
       "_view_module": "jupyter-leaflet",
       "_view_module_version": "^0.13.2",
       "base": false,
       "bottom": false,
       "data": {
        "features": [
         {
          "geometry": {
           "coordinates": [
            [
             [
              4.416656101606562,
              45.956769859075806
             ],
             [
              4.442508097945466,
              46.94462144140276
             ],
             [
              2.999737157562214,
              46.953709179213256
             ],
             [
              2.999741870046797,
              45.965551148516354
             ],
             [
              4.416656101606562,
              45.956769859075806
             ]
            ]
           ],
           "type": "Polygon"
          },
          "id": "S2A_MSIL1C_20201213T104441_N0209_R008_T31TEM_20201213T125210",
          "properties": {
           "abstract": "The Level-1C product is composed of 100x100 km2 tiles (ortho-images in UTM/WGS84 projection). It results from\nusing a Digital Elevation Model (DEM) to project the image in cartographic geometry. Per-pixel radiometric\nmeasurements are provided in Top Of Atmosphere (TOA) reflectances along with the parameters to transform them\ninto radiances. Level-1C products are resampled with a constant Ground Sampling Distance (GSD) of 10, 20 and 60\nmeters depending on the native resolution of the different spectral bands. In Level-1C  products, pixel\ncoordinates refer to the upper left corner of the pixel. Level-1C products will additionally include Cloud Masks\nand ECMWF data (total column of ozone, total column of water vapour and mean sea level pressure).\n",
           "acquisition": {
            "beginViewingDate": 1607856281024,
            "centerViewingDate": 1607856281024,
            "endViewingDate": 1607856281024,
            "mission": "Sentinel-2",
            "missionCode": "S2A",
            "missionId": "A",
            "missionName": "Sentinel-2A",
            "sensorId": "MSI",
            "sensorMode": "INS-NOBS"
           },
           "archive": {
            "filename": "S2A_MSIL1C_20201213T104441_N0209_R008_T31TEM_20201213T125210.SAFE",
            "format": "SAFE",
            "offLine": false,
            "onLine": false,
            "size": 756
           },
           "attachments": [],
           "attitude": {},
           "bands": [
            {
             "center_wavelength": 0.4439,
             "common_name": "coastal",
             "full_width_half_max": 0.027,
             "gsd": 60,
             "name": "B01"
            },
            {
             "center_wavelength": 0.4966,
             "common_name": "blue",
             "full_width_half_max": 0.098,
             "gsd": 10,
             "name": "B02"
            },
            {
             "center_wavelength": 0.56,
             "common_name": "green",
             "full_width_half_max": 0.045,
             "gsd": 10,
             "name": "B03"
            },
            {
             "center_wavelength": 0.6645,
             "common_name": "red",
             "full_width_half_max": 0.038,
             "gsd": 10,
             "name": "B04"
            },
            {
             "center_wavelength": 0.7039,
             "full_width_half_max": 0.019,
             "gsd": 20,
             "name": "B05"
            },
            {
             "center_wavelength": 0.7402,
             "full_width_half_max": 0.018,
             "gsd": 20,
             "name": "B06"
            },
            {
             "center_wavelength": 0.7825,
             "full_width_half_max": 0.028,
             "gsd": 20,
             "name": "B07"
            },
            {
             "center_wavelength": 0.8351,
             "common_name": "nir",
             "full_width_half_max": 0.145,
             "gsd": 10,
             "name": "B08"
            },
            {
             "center_wavelength": 0.8648,
             "full_width_half_max": 0.033,
             "gsd": 20,
             "name": "B8A"
            },
            {
             "center_wavelength": 0.945,
             "full_width_half_max": 0.026,
             "gsd": 60,
             "name": "B09"
            },
            {
             "center_wavelength": 0.13735,
             "common_name": "cirrus",
             "full_width_half_max": 0.075,
             "gsd": 60,
             "name": "B10"
            },
            {
             "center_wavelength": 0.16137,
             "common_name": "swir16",
             "full_width_half_max": 0.075,
             "gsd": 20,
             "name": "B11"
            },
            {
             "center_wavelength": 0.22024,
             "common_name": "swir22",
             "full_width_half_max": 0.242,
             "gsd": 20,
             "name": "B12"
            }
           ],
           "cloudCover": 1.9918000000000002,
           "completionTimeFromAscendingNode": "2020-12-13T10:44:41.024000+00:00",
           "contentDescription": {
            "cloudCoverPercentage": 1.9918000000000002
           },
           "creationDate": "2020-12-13T14:50:20.303000+00:00",
           "downloadLink": "https://sobloo.eu/api/v1/services/download/ff36b455-f11d-48b4-8c65-b54b5fbd8bfa",
           "enrichment": {
            "geonames": [
             {
              "name": "France",
              "states": [
               {
                "counties": [
                 {
                  "cities": [
                   {
                    "name": "Charolles"
                   },
                   {
                    "name": "Mâcon"
                   },
                   {
                    "name": "Chalon-sur-Saône"
                   },
                   {
                    "name": "Autun"
                   }
                  ],
                  "name": "Saône-et-Loire",
                  "villages": [
                   {
                    "name": "Coublanc"
                   },
                   {
                    "name": "Marcigny"
                   },
                   {
                    "name": "Auxy"
                   },
                   {
                    "name": "Saint-Bonnet-de-Cray"
                   },
                   {
                    "name": "Nochize"
                   },
                   {
                    "name": "Champlecy"
                   },
                   {
                    "name": "Suin"
                   },
                   {
                    "name": "Saint-Léger-lès-Paray"
                   },
                   {
                    "name": "Chenay-le-Châtel"
                   },
                   {
                    "name": "Charmoy"
                   },
                   {
                    "name": "Semur-en-Brionnais"
                   },
                   {
                    "name": "Grandvaux"
                   },
                   {
                    "name": "Mussy-sous-Dun"
                   },
                   {
                    "name": "Saint-Igny-de-Roche"
                   },
                   {
                    "name": "Vitry-sur-Loire"
                   },
                   {
                    "name": "Cronat"
                   },
                   {
                    "name": "Maltat"
                   },
                   {
                    "name": "La Grande-Verrière"
                   },
                   {
                    "name": "Saint-Émiland"
                   },
                   {
                    "name": "Saint-Martin-du-Lac"
                   },
                   {
                    "name": "Saint-Berain-sous-Sanvignes"
                   },
                   {
                    "name": "Verosvres"
                   },
                   {
                    "name": "Saint-Sernin-du-Bois"
                   },
                   {
                    "name": "Sainte-Foy"
                   },
                   {
                    "name": "Saint-Martin-de-Lixy"
                   }
                  ]
                 },
                 {
                  "cities": [
                   {
                    "name": "Château-Chinon (Ville)"
                   },
                   {
                    "name": "Nevers"
                   }
                  ],
                  "name": "Nièvre",
                  "villages": [
                   {
                    "name": "Mars-sur-Allier"
                   },
                   {
                    "name": "Moulins-Engilbert"
                   },
                   {
                    "name": "Onlay"
                   },
                   {
                    "name": "Fertrève"
                   },
                   {
                    "name": "Sémelay"
                   },
                   {
                    "name": "Millay"
                   },
                   {
                    "name": "Tazilly"
                   },
                   {
                    "name": "Thaix"
                   },
                   {
                    "name": "Montigny-sur-Canne"
                   },
                   {
                    "name": "Champvert"
                   }
                  ]
                 }
                ],
                "name": "Bourgogne-Franche-Comté"
               },
               {
                "counties": [
                 {
                  "cities": [
                   {
                    "name": "Moulins"
                   },
                   {
                    "name": "Vichy"
                   },
                   {
                    "name": "Montluçon"
                   }
                  ],
                  "name": "Allier",
                  "villages": [
                   {
                    "name": "Ferrières-sur-Sichon"
                   },
                   {
                    "name": "Neure"
                   },
                   {
                    "name": "Varennes-sur-Allier"
                   },
                   {
                    "name": "Abrest"
                   },
                   {
                    "name": "Saint-Aubin-le-Monial"
                   },
                   {
                    "name": "Chemilly"
                   },
                   {
                    "name": "Diou"
                   },
                   {
                    "name": "Saint-Gérand-de-Vaux"
                   },
                   {
                    "name": "Saint-Ennemond"
                   },
                   {
                    "name": "Pouzy-Mésangy"
                   },
                   {
                    "name": "Bert"
                   },
                   {
                    "name": "Saint-Plaisir"
                   },
                   {
                    "name": "Neuilly-le-Réal"
                   },
                   {
                    "name": "Vendat"
                   },
                   {
                    "name": "Montoldre"
                   }
                  ]
                 },
                 {
                  "name": "Ronno",
                  "villages": [
                   {
                    "name": "Ronno"
                   }
                  ]
                 },
                 {
                  "name": "Thizy-les-Bourgs",
                  "villages": [
                   {
                    "name": "Thizy-les-Bourgs"
                   }
                  ]
                 },
                 {
                  "name": "Rhône"
                 },
                 {
                  "cities": [
                   {
                    "name": "Thiers"
                   },
                   {
                    "name": "Riom"
                   }
                  ],
                  "name": "Puy-de-Dôme",
                  "villages": [
                   {
                    "name": "Saint-Hilaire-la-Croix"
                   }
                  ]
                 },
                 {
                  "name": "Saint-Vincent-de-Reins",
                  "villages": [
                   {
                    "name": "Saint-Vincent-de-Reins"
                   }
                  ]
                 },
                 {
                  "name": "Meaux-la-Montagne",
                  "villages": [
                   {
                    "name": "Meaux-la-Montagne"
                   }
                  ]
                 },
                 {
                  "cities": [
                   {
                    "name": "Roanne"
                   }
                  ],
                  "name": "Loire",
                  "villages": [
                   {
                    "name": "Montagny"
                   },
                   {
                    "name": "Notre-Dame-de-Boisset"
                   },
                   {
                    "name": "Charlieu"
                   },
                   {
                    "name": "La Bénisson-Dieu"
                   },
                   {
                    "name": "Saint-Victor-sur-Rhins"
                   },
                   {
                    "name": "Coutouvre"
                   },
                   {
                    "name": "Vendranges"
                   },
                   {
                    "name": "La Gresle"
                   },
                   {
                    "name": "Saint-Rirand"
                   },
                   {
                    "name": "Lay"
                   },
                   {
                    "name": "Vougy"
                   },
                   {
                    "name": "Saint-Martin-d'Estréaux"
                   },
                   {
                    "name": "Sevelinges"
                   },
                   {
                    "name": "Saint-Symphorien-de-Lay"
                   },
                   {
                    "name": "Ambierle"
                   },
                   {
                    "name": "Sail-les-Bains"
                   }
                  ]
                 },
                 {
                  "cities": [
                   {
                    "name": "Villefranche-sur-Saône"
                   }
                  ],
                  "name": "Villefranche-sur-Saône"
                 },
                 {
                  "name": "Saint-Bonnet-le-Troncy",
                  "villages": [
                   {
                    "name": "Saint-Bonnet-le-Troncy"
                   }
                  ]
                 }
                ],
                "name": "Auvergne-Rhône-Alpes"
               },
               {
                "counties": [
                 {
                  "cities": [
                   {
                    "name": "Saint-Amand-Montrond"
                   }
                  ],
                  "name": "Cher",
                  "villages": [
                   {
                    "name": "Mornay-sur-Allier"
                   },
                   {
                    "name": "La Guerche-sur-l'Aubois"
                   }
                  ]
                 }
                ],
                "name": "Centre-Val de Loire"
               }
              ]
             }
            ],
            "naturallanguage": {
             "search_cloud_string": "cloud:partly_cloudy",
             "search_date_string": "2020 December 13 10: 10:44 10:44:41",
             "search_incidence_angle_string": "incidence:?",
             "search_quality_string": "quality:?"
            }
           },
           "eodag_product_type": "S2_MSI_L1C",
           "eodag_provider": "sobloo",
           "eodag_search_intersection": {
            "coordinates": [
             [
              [
               4.437543547994485,
               46.754917
              ],
              [
               4.416656101606562,
               45.956769859075806
              ],
              [
               2.999741870046797,
               45.965551148516354
              ],
              [
               2.9997381055938552,
               46.754917
              ],
              [
               4.437543547994485,
               46.754917
              ]
             ]
            ],
            "type": "Polygon"
           },
           "identification": {
            "collection": "Sentinel-2",
            "dataset": {},
            "externalId": "S2A_MSIL1C_20201213T104441_N0209_R008_T31TEM_20201213T125210",
            "hvTileId": "TM31E",
            "profile": "Image",
            "tileId": "31TEM",
            "type": "S2MSI1C"
           },
           "illumination": {},
           "instrument": "MSI",
           "license": "proprietary",
           "missionStartDate": "2015-06-23T00:00:00Z",
           "orbit": {
            "direction": "DESCENDING",
            "number": 28605,
            "relativeNumber": 8
           },
           "orbitDirection": "DESCENDING",
           "orbitNumber": 28605,
           "platform": "Sentinel-2",
           "platformSerialIdentifier": "S2A",
           "processingLevel": "Level-1C",
           "productType": "S2MSI1C",
           "production": {
            "baseline": "02.09",
            "levelCode": "Level-1C",
            "ongoing": false
           },
           "provider": {},
           "quality": {
            "qualified": false
           },
           "quicklook": "https://sobloo.eu/api/v1/services/quicklook/ff36b455-f11d-48b4-8c65-b54b5fbd8bfa",
           "sensorMode": "INS-NOBS",
           "sensorType": "OPTICAL",
           "spatialCoverage": {
            "geometry": {
             "centerPoint": {
              "lat": 46.45665201607641,
              "lon": 3.714662812577516
             },
             "geographicBoundingPolygon": {
              "coordinates": [
               [
                [
                 4.416656101606562,
                 45.956769859075806
                ],
                [
                 4.442508097945466,
                 46.94462144140276
                ],
                [
                 2.999737157562214,
                 46.953709179213256
                ],
                [
                 2.999741870046797,
                 45.965551148516354
                ],
                [
                 4.416656101606562,
                 45.956769859075806
                ]
               ]
              ],
              "type": "Polygon"
             },
             "global": false
            },
            "verticality": {}
           },
           "startTimeFromAscendingNode": "2020-12-13T10:44:41.024000+00:00",
           "state": {
            "insertionDate": 1607871020303,
            "resources": {
             "quicklook": true,
             "thumbnail": true
            },
            "services": {
             "download": "internal",
             "wcs": false,
             "wms": false,
             "wmts": false
            }
           },
           "storageStatus": "ONLINE",
           "target": {},
           "timeStamp": 1607856281024,
           "title": "S2A_MSIL1C_20201213T104441_N0209_R008_T31TEM_20201213T125210",
           "transmission": {},
           "uid": "ff36b455-f11d-48b4-8c65-b54b5fbd8bfa",
           "visibility": {
            "deleted": false
           }
          },
          "type": "Feature"
         },
         {
          "geometry": {
           "coordinates": [
            [
             [
              -1.6057434,
              45.05674859305782
             ],
             [
              -1.5810852,
              46.044766226835556
             ],
             [
              -3.0002441,
              46.05357436995249
             ],
             [
              -3.0002441,
              45.21015742532801
             ],
             [
              -2.8633118,
              45.18237289772934
             ],
             [
              -2.8634338,
              45.18205367017502
             ],
             [
              -2.8632202,
              45.18200936796815
             ],
             [
              -2.8633118,
              45.18183166465494
             ],
             [
              -2.5673828,
              45.11978807275314
             ],
             [
              -2.5674133,
              45.119724264825415
             ],
             [
              -2.5518188,
              45.11626457445962
             ],
             [
              -2.5516052,
              45.116798671412575
             ],
             [
              -2.5506287,
              45.116580512205914
             ],
             [
              -2.5505981,
              45.11668678120419
             ],
             [
              -2.3012695,
              45.06099364325385
             ],
             [
              -1.6057434,
              45.05674859305782
             ]
            ]
           ],
           "type": "Polygon"
          },
          "id": "S2B_MSIL1C_20201217T111359_N0209_R137_T30TWR_20201217T132006",
          "properties": {
           "abstract": "The Level-1C product is composed of 100x100 km2 tiles (ortho-images in UTM/WGS84 projection). It results from\nusing a Digital Elevation Model (DEM) to project the image in cartographic geometry. Per-pixel radiometric\nmeasurements are provided in Top Of Atmosphere (TOA) reflectances along with the parameters to transform them\ninto radiances. Level-1C products are resampled with a constant Ground Sampling Distance (GSD) of 10, 20 and 60\nmeters depending on the native resolution of the different spectral bands. In Level-1C  products, pixel\ncoordinates refer to the upper left corner of the pixel. Level-1C products will additionally include Cloud Masks\nand ECMWF data (total column of ozone, total column of water vapour and mean sea level pressure).\n",
           "acquisition": {
            "beginViewingDate": 1608203639024,
            "centerViewingDate": 1608203639024,
            "endViewingDate": 1608203639024,
            "mission": "Sentinel-2",
            "missionCode": "S2B",
            "missionId": "B",
            "missionName": "Sentinel-2B",
            "sensorId": "MSI",
            "sensorMode": "INS-NOBS"
           },
           "archive": {
            "filename": "S2B_MSIL1C_20201217T111359_N0209_R137_T30TWR_20201217T132006.SAFE",
            "format": "SAFE",
            "offLine": false,
            "onLine": false,
            "size": 632
           },
           "attachments": [],
           "attitude": {},
           "bands": [
            {
             "center_wavelength": 0.4439,
             "common_name": "coastal",
             "full_width_half_max": 0.027,
             "gsd": 60,
             "name": "B01"
            },
            {
             "center_wavelength": 0.4966,
             "common_name": "blue",
             "full_width_half_max": 0.098,
             "gsd": 10,
             "name": "B02"
            },
            {
             "center_wavelength": 0.56,
             "common_name": "green",
             "full_width_half_max": 0.045,
             "gsd": 10,
             "name": "B03"
            },
            {
             "center_wavelength": 0.6645,
             "common_name": "red",
             "full_width_half_max": 0.038,
             "gsd": 10,
             "name": "B04"
            },
            {
             "center_wavelength": 0.7039,
             "full_width_half_max": 0.019,
             "gsd": 20,
             "name": "B05"
            },
            {
             "center_wavelength": 0.7402,
             "full_width_half_max": 0.018,
             "gsd": 20,
             "name": "B06"
            },
            {
             "center_wavelength": 0.7825,
             "full_width_half_max": 0.028,
             "gsd": 20,
             "name": "B07"
            },
            {
             "center_wavelength": 0.8351,
             "common_name": "nir",
             "full_width_half_max": 0.145,
             "gsd": 10,
             "name": "B08"
            },
            {
             "center_wavelength": 0.8648,
             "full_width_half_max": 0.033,
             "gsd": 20,
             "name": "B8A"
            },
            {
             "center_wavelength": 0.945,
             "full_width_half_max": 0.026,
             "gsd": 60,
             "name": "B09"
            },
            {
             "center_wavelength": 0.13735,
             "common_name": "cirrus",
             "full_width_half_max": 0.075,
             "gsd": 60,
             "name": "B10"
            },
            {
             "center_wavelength": 0.16137,
             "common_name": "swir16",
             "full_width_half_max": 0.075,
             "gsd": 20,
             "name": "B11"
            },
            {
             "center_wavelength": 0.22024,
             "common_name": "swir22",
             "full_width_half_max": 0.242,
             "gsd": 20,
             "name": "B12"
            }
           ],
           "cloudCover": 4.7508,
           "completionTimeFromAscendingNode": "2020-12-17T11:13:59.024000+00:00",
           "contentDescription": {
            "cloudCoverPercentage": 4.7508
           },
           "creationDate": "2020-12-17T15:07:58.852000+00:00",
           "downloadLink": "https://sobloo.eu/api/v1/services/download/722501ce-868b-4386-b98e-143d17e2ff4f",
           "enrichment": {
            "geonames": [
             {
              "name": "France"
             }
            ],
            "naturallanguage": {
             "search_cloud_string": "cloud:partly_cloudy",
             "search_date_string": "2020 December 17 11: 11:13 11:13:59",
             "search_incidence_angle_string": "incidence:?",
             "search_quality_string": "quality:?"
            }
           },
           "eodag_product_type": "S2_MSI_L1C",
           "eodag_provider": "sobloo",
           "eodag_search_intersection": {
            "coordinates": [
             [
              [
               -1.999512,
               46.0473632321028
              ],
              [
               -1.5810852,
               46.044766226835556
              ],
              [
               -1.6057434,
               45.05674859305782
              ],
              [
               -1.999512,
               45.05915190685528
              ],
              [
               -1.999512,
               46.0473632321028
              ]
             ]
            ],
            "type": "Polygon"
           },
           "identification": {
            "collection": "Sentinel-2",
            "dataset": {},
            "externalId": "S2B_MSIL1C_20201217T111359_N0209_R137_T30TWR_20201217T132006",
            "hvTileId": "TR30W",
            "profile": "Image",
            "tileId": "30TWR",
            "type": "S2MSI1C"
           },
           "illumination": {},
           "instrument": "MSI",
           "license": "proprietary",
           "missionStartDate": "2015-06-23T00:00:00Z",
           "orbit": {
            "direction": "DESCENDING",
            "number": 19754,
            "relativeNumber": 137
           },
           "orbitDirection": "DESCENDING",
           "orbitNumber": 19754,
           "platform": "Sentinel-2",
           "platformSerialIdentifier": "S2B",
           "processingLevel": "Level-1C",
           "productType": "S2MSI1C",
           "production": {
            "baseline": "02.09",
            "levelCode": "Level-1C",
            "ongoing": false
           },
           "provider": {},
           "quality": {
            "qualified": false
           },
           "quicklook": "https://sobloo.eu/api/v1/services/quicklook/722501ce-868b-4386-b98e-143d17e2ff4f",
           "sensorMode": "INS-NOBS",
           "sensorType": "OPTICAL",
           "spatialCoverage": {
            "geometry": {
             "centerPoint": {
              "lat": 45.573615392606435,
              "lon": -2.278815538506355
             },
             "geographicBoundingPolygon": {
              "coordinates": [
               [
                [
                 -1.6057434,
                 45.05674859305782
                ],
                [
                 -1.5810852,
                 46.044766226835556
                ],
                [
                 -3.0002441,
                 46.05357436995249
                ],
                [
                 -3.0002441,
                 45.21015742532801
                ],
                [
                 -2.8633118,
                 45.18237289772934
                ],
                [
                 -2.8634338,
                 45.18205367017502
                ],
                [
                 -2.8632202,
                 45.18200936796815
                ],
                [
                 -2.8633118,
                 45.18183166465494
                ],
                [
                 -2.5673828,
                 45.11978807275314
                ],
                [
                 -2.5674133,
                 45.119724264825415
                ],
                [
                 -2.5518188,
                 45.11626457445962
                ],
                [
                 -2.5516052,
                 45.116798671412575
                ],
                [
                 -2.5506287,
                 45.116580512205914
                ],
                [
                 -2.5505981,
                 45.11668678120419
                ],
                [
                 -2.3012695,
                 45.06099364325385
                ],
                [
                 -1.6057434,
                 45.05674859305782
                ]
               ]
              ],
              "type": "Polygon"
             },
             "global": false
            },
            "verticality": {}
           },
           "startTimeFromAscendingNode": "2020-12-17T11:13:59.024000+00:00",
           "state": {
            "insertionDate": 1608217678852,
            "resources": {
             "quicklook": true,
             "thumbnail": true
            },
            "services": {
             "download": "internal",
             "wcs": false,
             "wms": false,
             "wmts": false
            }
           },
           "storageStatus": "ONLINE",
           "target": {},
           "timeStamp": 1608203639024,
           "title": "S2B_MSIL1C_20201217T111359_N0209_R137_T30TWR_20201217T132006",
           "transmission": {},
           "uid": "722501ce-868b-4386-b98e-143d17e2ff4f",
           "visibility": {
            "deleted": false
           }
          },
          "type": "Feature"
         },
         {
          "geometry": {
           "coordinates": [
            [
             [
              -1.9498596,
              44.15905561281775
             ],
             [
              -1.933136,
              44.20069400339613
             ],
             [
              -1.8744202,
              44.34638045630809
             ],
             [
              -1.8155823,
              44.49206099137193
             ],
             [
              -1.7562256,
              44.63767033331305
             ],
             [
              -1.7059631,
              44.761107280881056
             ],
             [
              -1.6973572,
              44.78230871392616
             ],
             [
              -1.6556702,
              44.88484774480535
             ],
             [
              -1.6378479,
              44.92870699386136
             ],
             [
              -1.6138306,
              44.987572367697375
             ],
             [
              -1.6069336,
              45.00446801202069
             ],
             [
              -1.6051636,
              45.079117018537055
             ],
             [
              -1.7415161,
              45.112662838100704
             ],
             [
              -1.8829651,
              45.14700748485216
             ],
             [
              -3.0002441,
              45.15383725089235
             ],
             [
              -3.0002441,
              44.16536649550738
             ],
             [
              -1.9498596,
              44.15905561281775
             ]
            ]
           ],
           "type": "Polygon"
          },
          "id": "S2B_MSIL1C_20201217T111359_N0209_R137_T30TWQ_20201217T150041",
          "properties": {
           "abstract": "The Level-1C product is composed of 100x100 km2 tiles (ortho-images in UTM/WGS84 projection). It results from\nusing a Digital Elevation Model (DEM) to project the image in cartographic geometry. Per-pixel radiometric\nmeasurements are provided in Top Of Atmosphere (TOA) reflectances along with the parameters to transform them\ninto radiances. Level-1C products are resampled with a constant Ground Sampling Distance (GSD) of 10, 20 and 60\nmeters depending on the native resolution of the different spectral bands. In Level-1C  products, pixel\ncoordinates refer to the upper left corner of the pixel. Level-1C products will additionally include Cloud Masks\nand ECMWF data (total column of ozone, total column of water vapour and mean sea level pressure).\n",
           "acquisition": {
            "beginViewingDate": 1608203639024,
            "centerViewingDate": 1608203639024,
            "endViewingDate": 1608203639024,
            "mission": "Sentinel-2",
            "missionCode": "S2B",
            "missionId": "B",
            "missionName": "Sentinel-2B",
            "sensorId": "MSI",
            "sensorMode": "INS-NOBS"
           },
           "archive": {
            "filename": "S2B_MSIL1C_20201217T111359_N0209_R137_T30TWQ_20201217T150041.SAFE",
            "format": "SAFE",
            "offLine": false,
            "onLine": false,
            "size": 540
           },
           "attachments": [],
           "attitude": {},
           "bands": [
            {
             "center_wavelength": 0.4439,
             "common_name": "coastal",
             "full_width_half_max": 0.027,
             "gsd": 60,
             "name": "B01"
            },
            {
             "center_wavelength": 0.4966,
             "common_name": "blue",
             "full_width_half_max": 0.098,
             "gsd": 10,
             "name": "B02"
            },
            {
             "center_wavelength": 0.56,
             "common_name": "green",
             "full_width_half_max": 0.045,
             "gsd": 10,
             "name": "B03"
            },
            {
             "center_wavelength": 0.6645,
             "common_name": "red",
             "full_width_half_max": 0.038,
             "gsd": 10,
             "name": "B04"
            },
            {
             "center_wavelength": 0.7039,
             "full_width_half_max": 0.019,
             "gsd": 20,
             "name": "B05"
            },
            {
             "center_wavelength": 0.7402,
             "full_width_half_max": 0.018,
             "gsd": 20,
             "name": "B06"
            },
            {
             "center_wavelength": 0.7825,
             "full_width_half_max": 0.028,
             "gsd": 20,
             "name": "B07"
            },
            {
             "center_wavelength": 0.8351,
             "common_name": "nir",
             "full_width_half_max": 0.145,
             "gsd": 10,
             "name": "B08"
            },
            {
             "center_wavelength": 0.8648,
             "full_width_half_max": 0.033,
             "gsd": 20,
             "name": "B8A"
            },
            {
             "center_wavelength": 0.945,
             "full_width_half_max": 0.026,
             "gsd": 60,
             "name": "B09"
            },
            {
             "center_wavelength": 0.13735,
             "common_name": "cirrus",
             "full_width_half_max": 0.075,
             "gsd": 60,
             "name": "B10"
            },
            {
             "center_wavelength": 0.16137,
             "common_name": "swir16",
             "full_width_half_max": 0.075,
             "gsd": 20,
             "name": "B11"
            },
            {
             "center_wavelength": 0.22024,
             "common_name": "swir22",
             "full_width_half_max": 0.242,
             "gsd": 20,
             "name": "B12"
            }
           ],
           "cloudCover": 1.0038,
           "completionTimeFromAscendingNode": "2020-12-17T11:13:59.024000+00:00",
           "contentDescription": {
            "cloudCoverPercentage": 1.0038
           },
           "creationDate": "2020-12-17T17:04:25.131000+00:00",
           "downloadLink": "https://sobloo.eu/api/v1/services/download/7d7d23b5-e016-4787-a43e-90d4e34e49fd",
           "enrichment": {
            "naturallanguage": {
             "search_cloud_string": "cloud:partly_cloudy",
             "search_date_string": "2020 December 17 11: 11:13 11:13:59",
             "search_incidence_angle_string": "incidence:?",
             "search_quality_string": "quality:?"
            }
           },
           "eodag_product_type": "S2_MSI_L1C",
           "eodag_provider": "sobloo",
           "eodag_search_intersection": {
            "coordinates": [
             [
              [
               -1.999512,
               45.14771991931097
              ],
              [
               -1.8829651,
               45.14700748485216
              ],
              [
               -1.7415161,
               45.112662838100704
              ],
              [
               -1.6051636,
               45.079117018537055
              ],
              [
               -1.6069336,
               45.00446801202069
              ],
              [
               -1.6138306,
               44.987572367697375
              ],
              [
               -1.6378479,
               44.92870699386136
              ],
              [
               -1.6556702,
               44.88484774480535
              ],
              [
               -1.6973572,
               44.78230871392616
              ],
              [
               -1.7059631,
               44.761107280881056
              ],
              [
               -1.7562256,
               44.63767033331305
              ],
              [
               -1.8155823,
               44.49206099137193
              ],
              [
               -1.8744202,
               44.34638045630809
              ],
              [
               -1.933136,
               44.20069400339613
              ],
              [
               -1.9498596,
               44.15905561281775
              ],
              [
               -1.999512,
               44.15935393259652
              ],
              [
               -1.999512,
               45.14771991931097
              ]
             ]
            ],
            "type": "Polygon"
           },
           "identification": {
            "collection": "Sentinel-2",
            "dataset": {},
            "externalId": "S2B_MSIL1C_20201217T111359_N0209_R137_T30TWQ_20201217T150041",
            "hvTileId": "TQ30W",
            "profile": "Image",
            "tileId": "30TWQ",
            "type": "S2MSI1C"
           },
           "illumination": {},
           "instrument": "MSI",
           "license": "proprietary",
           "missionStartDate": "2015-06-23T00:00:00Z",
           "orbit": {
            "direction": "DESCENDING",
            "number": 19754,
            "relativeNumber": 137
           },
           "orbitDirection": "DESCENDING",
           "orbitNumber": 19754,
           "platform": "Sentinel-2",
           "platformSerialIdentifier": "S2B",
           "processingLevel": "Level-1C",
           "productType": "S2MSI1C",
           "production": {
            "baseline": "02.09",
            "levelCode": "Level-1C",
            "ongoing": false
           },
           "provider": {},
           "quality": {
            "qualified": false
           },
           "quicklook": "https://sobloo.eu/api/v1/services/quicklook/7d7d23b5-e016-4787-a43e-90d4e34e49fd",
           "sensorMode": "INS-NOBS",
           "sensorType": "OPTICAL",
           "spatialCoverage": {
            "geometry": {
             "centerPoint": {
              "lat": 44.67754732424573,
              "lon": -2.3774094421929206
             },
             "geographicBoundingPolygon": {
              "coordinates": [
               [
                [
                 -1.9498596,
                 44.15905561281775
                ],
                [
                 -1.933136,
                 44.20069400339613
                ],
                [
                 -1.8744202,
                 44.34638045630809
                ],
                [
                 -1.8155823,
                 44.49206099137193
                ],
                [
                 -1.7562256,
                 44.63767033331305
                ],
                [
                 -1.7059631,
                 44.761107280881056
                ],
                [
                 -1.6973572,
                 44.78230871392616
                ],
                [
                 -1.6556702,
                 44.88484774480535
                ],
                [
                 -1.6378479,
                 44.92870699386136
                ],
                [
                 -1.6138306,
                 44.987572367697375
                ],
                [
                 -1.6069336,
                 45.00446801202069
                ],
                [
                 -1.6051636,
                 45.079117018537055
                ],
                [
                 -1.7415161,
                 45.112662838100704
                ],
                [
                 -1.8829651,
                 45.14700748485216
                ],
                [
                 -3.0002441,
                 45.15383725089235
                ],
                [
                 -3.0002441,
                 44.16536649550738
                ],
                [
                 -1.9498596,
                 44.15905561281775
                ]
               ]
              ],
              "type": "Polygon"
             },
             "global": false
            },
            "verticality": {}
           },
           "startTimeFromAscendingNode": "2020-12-17T11:13:59.024000+00:00",
           "state": {
            "insertionDate": 1608224665131,
            "resources": {
             "quicklook": true,
             "thumbnail": true
            },
            "services": {
             "download": "internal",
             "wcs": false,
             "wms": false,
             "wmts": false
            }
           },
           "storageStatus": "ONLINE",
           "target": {},
           "timeStamp": 1608203639024,
           "title": "S2B_MSIL1C_20201217T111359_N0209_R137_T30TWQ_20201217T150041",
           "transmission": {},
           "uid": "7d7d23b5-e016-4787-a43e-90d4e34e49fd",
           "visibility": {
            "deleted": false
           }
          },
          "type": "Feature"
         },
         {
          "geometry": {
           "coordinates": [
            [
             [
              -1.7380371,
              44.68238612934589
             ],
             [
              -1.7059631,
              44.761107280881056
             ],
             [
              -1.6973572,
              44.78230871392616
             ],
             [
              -1.6556702,
              44.88484774480535
             ],
             [
              -1.6378479,
              44.92870699386136
             ],
             [
              -1.6138306,
              44.987572367697375
             ],
             [
              -1.5791016,
              45.072707806806925
             ],
             [
              -1.7287598,
              45.10952623824178
             ],
             [
              -1.7380371,
              44.68238612934589
             ]
            ]
           ],
           "type": "Polygon"
          },
          "id": "S2B_MSIL1C_20201217T111359_N0209_R137_T30TXQ_20201217T150041",
          "properties": {
           "abstract": "The Level-1C product is composed of 100x100 km2 tiles (ortho-images in UTM/WGS84 projection). It results from\nusing a Digital Elevation Model (DEM) to project the image in cartographic geometry. Per-pixel radiometric\nmeasurements are provided in Top Of Atmosphere (TOA) reflectances along with the parameters to transform them\ninto radiances. Level-1C products are resampled with a constant Ground Sampling Distance (GSD) of 10, 20 and 60\nmeters depending on the native resolution of the different spectral bands. In Level-1C  products, pixel\ncoordinates refer to the upper left corner of the pixel. Level-1C products will additionally include Cloud Masks\nand ECMWF data (total column of ozone, total column of water vapour and mean sea level pressure).\n",
           "acquisition": {
            "beginViewingDate": 1608203639024,
            "centerViewingDate": 1608203639024,
            "endViewingDate": 1608203639024,
            "mission": "Sentinel-2",
            "missionCode": "S2B",
            "missionId": "B",
            "missionName": "Sentinel-2B",
            "sensorId": "MSI",
            "sensorMode": "INS-NOBS"
           },
           "archive": {
            "filename": "S2B_MSIL1C_20201217T111359_N0209_R137_T30TXQ_20201217T150041.SAFE",
            "format": "SAFE",
            "offLine": false,
            "onLine": false,
            "size": 37
           },
           "attachments": [],
           "attitude": {},
           "bands": [
            {
             "center_wavelength": 0.4439,
             "common_name": "coastal",
             "full_width_half_max": 0.027,
             "gsd": 60,
             "name": "B01"
            },
            {
             "center_wavelength": 0.4966,
             "common_name": "blue",
             "full_width_half_max": 0.098,
             "gsd": 10,
             "name": "B02"
            },
            {
             "center_wavelength": 0.56,
             "common_name": "green",
             "full_width_half_max": 0.045,
             "gsd": 10,
             "name": "B03"
            },
            {
             "center_wavelength": 0.6645,
             "common_name": "red",
             "full_width_half_max": 0.038,
             "gsd": 10,
             "name": "B04"
            },
            {
             "center_wavelength": 0.7039,
             "full_width_half_max": 0.019,
             "gsd": 20,
             "name": "B05"
            },
            {
             "center_wavelength": 0.7402,
             "full_width_half_max": 0.018,
             "gsd": 20,
             "name": "B06"
            },
            {
             "center_wavelength": 0.7825,
             "full_width_half_max": 0.028,
             "gsd": 20,
             "name": "B07"
            },
            {
             "center_wavelength": 0.8351,
             "common_name": "nir",
             "full_width_half_max": 0.145,
             "gsd": 10,
             "name": "B08"
            },
            {
             "center_wavelength": 0.8648,
             "full_width_half_max": 0.033,
             "gsd": 20,
             "name": "B8A"
            },
            {
             "center_wavelength": 0.945,
             "full_width_half_max": 0.026,
             "gsd": 60,
             "name": "B09"
            },
            {
             "center_wavelength": 0.13735,
             "common_name": "cirrus",
             "full_width_half_max": 0.075,
             "gsd": 60,
             "name": "B10"
            },
            {
             "center_wavelength": 0.16137,
             "common_name": "swir16",
             "full_width_half_max": 0.075,
             "gsd": 20,
             "name": "B11"
            },
            {
             "center_wavelength": 0.22024,
             "common_name": "swir22",
             "full_width_half_max": 0.242,
             "gsd": 20,
             "name": "B12"
            }
           ],
           "cloudCover": 2.5638,
           "completionTimeFromAscendingNode": "2020-12-17T11:13:59.024000+00:00",
           "contentDescription": {
            "cloudCoverPercentage": 2.5638
           },
           "creationDate": "2020-12-17T17:04:10.955000+00:00",
           "downloadLink": "https://sobloo.eu/api/v1/services/download/5d807f90-d64d-4f39-a63b-b72b1f147e87",
           "enrichment": {
            "naturallanguage": {
             "search_cloud_string": "cloud:partly_cloudy",
             "search_date_string": "2020 December 17 11: 11:13 11:13:59",
             "search_incidence_angle_string": "incidence:?",
             "search_quality_string": "quality:?"
            }
           },
           "eodag_product_type": "S2_MSI_L1C",
           "eodag_provider": "sobloo",
           "eodag_search_intersection": {
            "coordinates": [
             [
              [
               -1.7380371,
               44.68238612934589
              ],
              [
               -1.7287598,
               45.10952623824178
              ],
              [
               -1.5791016,
               45.072707806806925
              ],
              [
               -1.6138306,
               44.987572367697375
              ],
              [
               -1.6378479,
               44.92870699386136
              ],
              [
               -1.6556702,
               44.88484774480535
              ],
              [
               -1.6973572,
               44.78230871392616
              ],
              [
               -1.7059631,
               44.761107280881056
              ],
              [
               -1.7380371,
               44.68238612934589
              ]
             ]
            ],
            "type": "Polygon"
           },
           "identification": {
            "collection": "Sentinel-2",
            "dataset": {},
            "externalId": "S2B_MSIL1C_20201217T111359_N0209_R137_T30TXQ_20201217T150041",
            "hvTileId": "TQ30X",
            "profile": "Image",
            "tileId": "30TXQ",
            "type": "S2MSI1C"
           },
           "illumination": {},
           "instrument": "MSI",
           "license": "proprietary",
           "missionStartDate": "2015-06-23T00:00:00Z",
           "orbit": {
            "direction": "DESCENDING",
            "number": 19754,
            "relativeNumber": 137
           },
           "orbitDirection": "DESCENDING",
           "orbitNumber": 19754,
           "platform": "Sentinel-2",
           "platformSerialIdentifier": "S2B",
           "processingLevel": "Level-1C",
           "productType": "S2MSI1C",
           "production": {
            "baseline": "02.09",
            "levelCode": "Level-1C",
            "ongoing": false
           },
           "provider": {},
           "quality": {
            "qualified": false
           },
           "quicklook": "https://sobloo.eu/api/v1/services/quicklook/5d807f90-d64d-4f39-a63b-b72b1f147e87",
           "sensorMode": "INS-NOBS",
           "sensorType": "OPTICAL",
           "spatialCoverage": {
            "geometry": {
             "centerPoint": {
              "lat": 44.954882061008135,
              "lon": -1.6819883815085919
             },
             "geographicBoundingPolygon": {
              "coordinates": [
               [
                [
                 -1.7380371,
                 44.68238612934589
                ],
                [
                 -1.7059631,
                 44.761107280881056
                ],
                [
                 -1.6973572,
                 44.78230871392616
                ],
                [
                 -1.6556702,
                 44.88484774480535
                ],
                [
                 -1.6378479,
                 44.92870699386136
                ],
                [
                 -1.6138306,
                 44.987572367697375
                ],
                [
                 -1.5791016,
                 45.072707806806925
                ],
                [
                 -1.7287598,
                 45.10952623824178
                ],
                [
                 -1.7380371,
                 44.68238612934589
                ]
               ]
              ],
              "type": "Polygon"
             },
             "global": false
            },
            "verticality": {}
           },
           "startTimeFromAscendingNode": "2020-12-17T11:13:59.024000+00:00",
           "state": {
            "insertionDate": 1608224650955,
            "resources": {
             "quicklook": true,
             "thumbnail": true
            },
            "services": {
             "download": "internal",
             "wcs": false,
             "wms": false,
             "wmts": false
            }
           },
           "storageStatus": "ONLINE",
           "target": {},
           "timeStamp": 1608203639024,
           "title": "S2B_MSIL1C_20201217T111359_N0209_R137_T30TXQ_20201217T150041",
           "transmission": {},
           "uid": "5d807f90-d64d-4f39-a63b-b72b1f147e87",
           "visibility": {
            "deleted": false
           }
          },
          "type": "Feature"
         },
         {
          "geometry": {
           "coordinates": [
            [
             [
              4.394253870988432,
              45.05674859305782
             ],
             [
              4.41890414435335,
              46.044766226835556
             ],
             [
              2.999741460261881,
              46.05357436995249
             ],
             [
              2.999745953598584,
              45.06525999447365
             ],
             [
              4.394253870988432,
              45.05674859305782
             ]
            ]
           ],
           "type": "Polygon"
          },
          "id": "S2B_MSIL1C_20201218T104349_N0209_R008_T31TEL_20201218T115054",
          "properties": {
           "abstract": "The Level-1C product is composed of 100x100 km2 tiles (ortho-images in UTM/WGS84 projection). It results from\nusing a Digital Elevation Model (DEM) to project the image in cartographic geometry. Per-pixel radiometric\nmeasurements are provided in Top Of Atmosphere (TOA) reflectances along with the parameters to transform them\ninto radiances. Level-1C products are resampled with a constant Ground Sampling Distance (GSD) of 10, 20 and 60\nmeters depending on the native resolution of the different spectral bands. In Level-1C  products, pixel\ncoordinates refer to the upper left corner of the pixel. Level-1C products will additionally include Cloud Masks\nand ECMWF data (total column of ozone, total column of water vapour and mean sea level pressure).\n",
           "acquisition": {
            "beginViewingDate": 1608288229024,
            "centerViewingDate": 1608288229024,
            "endViewingDate": 1608288229024,
            "mission": "Sentinel-2",
            "missionCode": "S2B",
            "missionId": "B",
            "missionName": "Sentinel-2B",
            "sensorId": "MSI",
            "sensorMode": "INS-NOBS"
           },
           "archive": {
            "filename": "S2B_MSIL1C_20201218T104349_N0209_R008_T31TEL_20201218T115054.SAFE",
            "format": "SAFE",
            "offLine": false,
            "onLine": false,
            "size": 803
           },
           "attachments": [],
           "attitude": {},
           "bands": [
            {
             "center_wavelength": 0.4439,
             "common_name": "coastal",
             "full_width_half_max": 0.027,
             "gsd": 60,
             "name": "B01"
            },
            {
             "center_wavelength": 0.4966,
             "common_name": "blue",
             "full_width_half_max": 0.098,
             "gsd": 10,
             "name": "B02"
            },
            {
             "center_wavelength": 0.56,
             "common_name": "green",
             "full_width_half_max": 0.045,
             "gsd": 10,
             "name": "B03"
            },
            {
             "center_wavelength": 0.6645,
             "common_name": "red",
             "full_width_half_max": 0.038,
             "gsd": 10,
             "name": "B04"
            },
            {
             "center_wavelength": 0.7039,
             "full_width_half_max": 0.019,
             "gsd": 20,
             "name": "B05"
            },
            {
             "center_wavelength": 0.7402,
             "full_width_half_max": 0.018,
             "gsd": 20,
             "name": "B06"
            },
            {
             "center_wavelength": 0.7825,
             "full_width_half_max": 0.028,
             "gsd": 20,
             "name": "B07"
            },
            {
             "center_wavelength": 0.8351,
             "common_name": "nir",
             "full_width_half_max": 0.145,
             "gsd": 10,
             "name": "B08"
            },
            {
             "center_wavelength": 0.8648,
             "full_width_half_max": 0.033,
             "gsd": 20,
             "name": "B8A"
            },
            {
             "center_wavelength": 0.945,
             "full_width_half_max": 0.026,
             "gsd": 60,
             "name": "B09"
            },
            {
             "center_wavelength": 0.13735,
             "common_name": "cirrus",
             "full_width_half_max": 0.075,
             "gsd": 60,
             "name": "B10"
            },
            {
             "center_wavelength": 0.16137,
             "common_name": "swir16",
             "full_width_half_max": 0.075,
             "gsd": 20,
             "name": "B11"
            },
            {
             "center_wavelength": 0.22024,
             "common_name": "swir22",
             "full_width_half_max": 0.242,
             "gsd": 20,
             "name": "B12"
            }
           ],
           "cloudCover": 7.4451,
           "completionTimeFromAscendingNode": "2020-12-18T10:43:49.024000+00:00",
           "contentDescription": {
            "cloudCoverPercentage": 7.4451
           },
           "creationDate": "2020-12-18T13:50:58.673000+00:00",
           "downloadLink": "https://sobloo.eu/api/v1/services/download/5cd36b99-d1de-49a9-820d-82e6436183d2",
           "enrichment": {
            "geonames": [
             {
              "name": "France",
              "states": [
               {
                "counties": [
                 {
                  "cities": [
                   {
                    "name": "Vichy"
                   }
                  ],
                  "name": "Allier",
                  "villages": [
                   {
                    "name": "Ferrières-sur-Sichon"
                   }
                  ]
                 },
                 {
                  "name": "Meaux-la-Montagne",
                  "villages": [
                   {
                    "name": "Meaux-la-Montagne"
                   }
                  ]
                 },
                 {
                  "cities": [
                   {
                    "name": "Tournon-sur-Rhône"
                   }
                  ],
                  "name": "Ardèche",
                  "villages": [
                   {
                    "name": "Devesset"
                   }
                  ]
                 },
                 {
                  "cities": [
                   {
                    "name": "Clermont-Ferrand"
                   },
                   {
                    "name": "Issoire"
                   },
                   {
                    "name": "Thiers"
                   },
                   {
                    "name": "Riom"
                   },
                   {
                    "name": "Ambert"
                   }
                  ],
                  "name": "Puy-de-Dôme",
                  "villages": [
                   {
                    "name": "Augerolles"
                   },
                   {
                    "name": "La Chapelle-Agnon"
                   },
                   {
                    "name": "Prompsat"
                   },
                   {
                    "name": "Parent"
                   },
                   {
                    "name": "Saint-Hilaire-la-Croix"
                   },
                   {
                    "name": "Saint-Diéry"
                   },
                   {
                    "name": "Olloix"
                   },
                   {
                    "name": "Thiolières"
                   },
                   {
                    "name": "Pérignat-sur-Allier"
                   },
                   {
                    "name": "Davayat"
                   },
                   {
                    "name": "Lussat"
                   },
                   {
                    "name": "Malauzat"
                   },
                   {
                    "name": "Saint-Nectaire"
                   }
                  ]
                 },
                 {
                  "cities": [
                   {
                    "name": "Villefranche-sur-Saône"
                   }
                  ],
                  "name": "Villefranche-sur-Saône"
                 },
                 {
                  "name": "Saint-Vincent-de-Reins",
                  "villages": [
                   {
                    "name": "Saint-Vincent-de-Reins"
                   }
                  ]
                 },
                 {
                  "cities": [
                   {
                    "name": "Montbrison"
                   },
                   {
                    "name": "Roanne"
                   },
                   {
                    "name": "Saint-Étienne"
                   }
                  ],
                  "name": "Loire",
                  "villages": [
                   {
                    "name": "Pradines"
                   },
                   {
                    "name": "Saint-Julien-d'Oddes"
                   },
                   {
                    "name": "Bully"
                   },
                   {
                    "name": "Lavieu"
                   },
                   {
                    "name": "Renaison"
                   },
                   {
                    "name": "Roanne"
                   },
                   {
                    "name": "Dancé"
                   },
                   {
                    "name": "Juré"
                   },
                   {
                    "name": "Montbrison"
                   },
                   {
                    "name": "Balbigny"
                   },
                   {
                    "name": "Unieux"
                   },
                   {
                    "name": "Mornand-en-Forez"
                   },
                   {
                    "name": "Pralong"
                   },
                   {
                    "name": "Saint-Symphorien-de-Lay"
                   },
                   {
                    "name": "Saint-Victor-sur-Rhins"
                   },
                   {
                    "name": "Villerest"
                   }
                  ]
                 },
                 {
                  "name": "Rhône"
                 },
                 {
                  "cities": [
                   {
                    "name": "Saint-Flour"
                   }
                  ],
                  "name": "Cantal",
                  "villages": [
                   {
                    "name": "Charmensac"
                   },
                   {
                    "name": "Mentières"
                   }
                  ]
                 },
                 {
                  "cities": [
                   {
                    "name": "Pays du Velay"
                   },
                   {
                    "name": "Yssingeaux"
                   },
                   {
                    "name": "Brioude"
                   }
                  ],
                  "name": "Haute-Loire",
                  "villages": [
                   {
                    "name": "Josat"
                   },
                   {
                    "name": "Fix-Saint-Geneys"
                   },
                   {
                    "name": "Monlet"
                   },
                   {
                    "name": "Craponne-sur-Arzon"
                   },
                   {
                    "name": "Vernassal"
                   },
                   {
                    "name": "Blesle"
                   },
                   {
                    "name": "Cistrières"
                   },
                   {
                    "name": "Beaulieu"
                   },
                   {
                    "name": "Saint-Beauzire"
                   },
                   {
                    "name": "Saint-Julien-des-Chazes"
                   },
                   {
                    "name": "Saint-Paulien"
                   },
                   {
                    "name": "Sanssac-l'Église"
                   },
                   {
                    "name": "La Chaise-Dieu"
                   },
                   {
                    "name": "Varennes-Saint-Honorat"
                   },
                   {
                    "name": "Salzuit"
                   },
                   {
                    "name": "Saint-Georges-d'Aurac"
                   },
                   {
                    "name": "Frugières-le-Pin"
                   },
                   {
                    "name": "Saint-Hostien"
                   },
                   {
                    "name": "Agnat"
                   },
                   {
                    "name": "Lapte"
                   },
                   {
                    "name": "Saint-Pal-de-Senouire"
                   },
                   {
                    "name": "Saint-Cirgues"
                   },
                   {
                    "name": "Saint-Arcons-d'Allier"
                   },
                   {
                    "name": "Chomelix"
                   },
                   {
                    "name": "Allègre"
                   },
                   {
                    "name": "Lissac"
                   },
                   {
                    "name": "Chastel"
                   },
                   {
                    "name": "Bellevue-la-Montagne"
                   },
                   {
                    "name": "Saint-Julien-Chapteuil"
                   },
                   {
                    "name": "Chamalières-sur-Loire"
                   },
                   {
                    "name": "Saint-Laurent-Chabreuges"
                   },
                   {
                    "name": "Chaniat"
                   },
                   {
                    "name": "Lamothe"
                   },
                   {
                    "name": "Pinols"
                   },
                   {
                    "name": "Langeac"
                   },
                   {
                    "name": "Vieille-Brioude"
                   },
                   {
                    "name": "Vergongheon"
                   },
                   {
                    "name": "Saint-Didier-en-Velay"
                   },
                   {
                    "name": "Montregard"
                   },
                   {
                    "name": "Ferrussac"
                   }
                  ]
                 }
                ],
                "name": "Auvergne-Rhône-Alpes"
               }
              ]
             }
            ],
            "naturallanguage": {
             "search_cloud_string": "cloud:partly_cloudy",
             "search_date_string": "2020 December 18 10: 10:43 10:43:49",
             "search_incidence_angle_string": "incidence:?",
             "search_quality_string": "quality:?"
            }
           },
           "eodag_product_type": "S2_MSI_L1C",
           "eodag_provider": "sobloo",
           "eodag_search_intersection": {
            "coordinates": [
             [
              [
               4.394253870988432,
               45.05674859305782
              ],
              [
               2.999745953598584,
               45.06525999447365
              ],
              [
               2.999741460261881,
               46.05357436995249
              ],
              [
               4.41890414435335,
               46.044766226835556
              ],
              [
               4.394253870988432,
               45.05674859305782
              ]
             ]
            ],
            "type": "Polygon"
           },
           "identification": {
            "collection": "Sentinel-2",
            "dataset": {},
            "externalId": "S2B_MSIL1C_20201218T104349_N0209_R008_T31TEL_20201218T115054",
            "hvTileId": "TL31E",
            "profile": "Image",
            "tileId": "31TEL",
            "type": "S2MSI1C"
           },
           "illumination": {},
           "instrument": "MSI",
           "license": "proprietary",
           "missionStartDate": "2015-06-23T00:00:00Z",
           "orbit": {
            "direction": "DESCENDING",
            "number": 19768,
            "relativeNumber": 8
           },
           "orbitDirection": "DESCENDING",
           "orbitNumber": 19768,
           "platform": "Sentinel-2",
           "platformSerialIdentifier": "S2B",
           "processingLevel": "Level-1C",
           "productType": "S2MSI1C",
           "production": {
            "baseline": "02.09",
            "levelCode": "Level-1C",
            "ongoing": false
           },
           "provider": {},
           "quality": {
            "qualified": false
           },
           "quicklook": "https://sobloo.eu/api/v1/services/quicklook/5cd36b99-d1de-49a9-820d-82e6436183d2",
           "sensorMode": "INS-NOBS",
           "sensorType": "OPTICAL",
           "spatialCoverage": {
            "geometry": {
             "centerPoint": {
              "lat": 45.556530640585144,
              "lon": 3.7031621560927723
             },
             "geographicBoundingPolygon": {
              "coordinates": [
               [
                [
                 4.394253870988432,
                 45.05674859305782
                ],
                [
                 4.41890414435335,
                 46.044766226835556
                ],
                [
                 2.999741460261881,
                 46.05357436995249
                ],
                [
                 2.999745953598584,
                 45.06525999447365
                ],
                [
                 4.394253870988432,
                 45.05674859305782
                ]
               ]
              ],
              "type": "Polygon"
             },
             "global": false
            },
            "verticality": {}
           },
           "startTimeFromAscendingNode": "2020-12-18T10:43:49.024000+00:00",
           "state": {
            "insertionDate": 1608299458673,
            "resources": {
             "quicklook": true,
             "thumbnail": true
            },
            "services": {
             "download": "internal",
             "wcs": false,
             "wms": false,
             "wmts": false
            }
           },
           "storageStatus": "ONLINE",
           "target": {},
           "timeStamp": 1608288229024,
           "title": "S2B_MSIL1C_20201218T104349_N0209_R008_T31TEL_20201218T115054",
           "transmission": {},
           "uid": "5cd36b99-d1de-49a9-820d-82e6436183d2",
           "visibility": {
            "deleted": false
           }
          },
          "type": "Feature"
         },
         {
          "geometry": {
           "coordinates": [
            [
             [
              1.214361805686963,
              42.34823059453358
             ],
             [
              1.904690752833034,
              42.35883991770658
             ],
             [
              1.887077835022296,
              43.34744038882544
             ],
             [
              1.529332871800782,
              43.34184005618591
             ],
             [
              1.516468002612039,
              43.302524049702754
             ],
             [
              1.468787309788166,
              43.15552175257744
             ],
             [
              1.421428153672166,
              43.00852959934536
             ],
             [
              1.375425572866476,
              42.861271397836525
             ],
             [
              1.331506711956668,
              42.71348205905935
             ],
             [
              1.283949941116942,
              42.566753006680166
             ],
             [
              1.237800830867577,
              42.41970731701045
             ],
             [
              1.214361805686963,
              42.34823059453358
             ]
            ]
           ],
           "type": "Polygon"
          },
          "id": "S2B_MSIL1C_20201218T104349_N0209_R008_T31TCH_20201218T115054",
          "properties": {
           "abstract": "The Level-1C product is composed of 100x100 km2 tiles (ortho-images in UTM/WGS84 projection). It results from\nusing a Digital Elevation Model (DEM) to project the image in cartographic geometry. Per-pixel radiometric\nmeasurements are provided in Top Of Atmosphere (TOA) reflectances along with the parameters to transform them\ninto radiances. Level-1C products are resampled with a constant Ground Sampling Distance (GSD) of 10, 20 and 60\nmeters depending on the native resolution of the different spectral bands. In Level-1C  products, pixel\ncoordinates refer to the upper left corner of the pixel. Level-1C products will additionally include Cloud Masks\nand ECMWF data (total column of ozone, total column of water vapour and mean sea level pressure).\n",
           "acquisition": {
            "beginViewingDate": 1608288229024,
            "centerViewingDate": 1608288229024,
            "endViewingDate": 1608288229024,
            "mission": "Sentinel-2",
            "missionCode": "S2B",
            "missionId": "B",
            "missionName": "Sentinel-2B",
            "sensorId": "MSI",
            "sensorMode": "INS-NOBS"
           },
           "archive": {
            "filename": "S2B_MSIL1C_20201218T104349_N0209_R008_T31TCH_20201218T115054.SAFE",
            "format": "SAFE",
            "offLine": false,
            "onLine": false,
            "size": 364
           },
           "attachments": [],
           "attitude": {},
           "bands": [
            {
             "center_wavelength": 0.4439,
             "common_name": "coastal",
             "full_width_half_max": 0.027,
             "gsd": 60,
             "name": "B01"
            },
            {
             "center_wavelength": 0.4966,
             "common_name": "blue",
             "full_width_half_max": 0.098,
             "gsd": 10,
             "name": "B02"
            },
            {
             "center_wavelength": 0.56,
             "common_name": "green",
             "full_width_half_max": 0.045,
             "gsd": 10,
             "name": "B03"
            },
            {
             "center_wavelength": 0.6645,
             "common_name": "red",
             "full_width_half_max": 0.038,
             "gsd": 10,
             "name": "B04"
            },
            {
             "center_wavelength": 0.7039,
             "full_width_half_max": 0.019,
             "gsd": 20,
             "name": "B05"
            },
            {
             "center_wavelength": 0.7402,
             "full_width_half_max": 0.018,
             "gsd": 20,
             "name": "B06"
            },
            {
             "center_wavelength": 0.7825,
             "full_width_half_max": 0.028,
             "gsd": 20,
             "name": "B07"
            },
            {
             "center_wavelength": 0.8351,
             "common_name": "nir",
             "full_width_half_max": 0.145,
             "gsd": 10,
             "name": "B08"
            },
            {
             "center_wavelength": 0.8648,
             "full_width_half_max": 0.033,
             "gsd": 20,
             "name": "B8A"
            },
            {
             "center_wavelength": 0.945,
             "full_width_half_max": 0.026,
             "gsd": 60,
             "name": "B09"
            },
            {
             "center_wavelength": 0.13735,
             "common_name": "cirrus",
             "full_width_half_max": 0.075,
             "gsd": 60,
             "name": "B10"
            },
            {
             "center_wavelength": 0.16137,
             "common_name": "swir16",
             "full_width_half_max": 0.075,
             "gsd": 20,
             "name": "B11"
            },
            {
             "center_wavelength": 0.22024,
             "common_name": "swir22",
             "full_width_half_max": 0.242,
             "gsd": 20,
             "name": "B12"
            }
           ],
           "cloudCover": 5.3833,
           "completionTimeFromAscendingNode": "2020-12-18T10:43:49.024000+00:00",
           "contentDescription": {
            "cloudCoverPercentage": 5.3833
           },
           "creationDate": "2020-12-18T13:51:25.682000+00:00",
           "downloadLink": "https://sobloo.eu/api/v1/services/download/319e74fb-085d-41f5-ac37-14c23e20b97f",
           "enrichment": {
            "geonames": [
             {
              "name": "Andorra"
             },
             {
              "name": "France",
              "states": [
               {
                "counties": [
                 {
                  "cities": [
                   {
                    "name": "Pamiers"
                   },
                   {
                    "name": "Foix"
                   },
                   {
                    "name": "Saint-Girons"
                   }
                  ],
                  "name": "Ariège",
                  "villages": [
                   {
                    "name": "Calzan"
                   },
                   {
                    "name": "Saint-Amadou"
                   },
                   {
                    "name": "Vernajoul"
                   },
                   {
                    "name": "Sautel"
                   },
                   {
                    "name": "Villeneuve-d'Olmes"
                   },
                   {
                    "name": "Pamiers"
                   },
                   {
                    "name": "L'Aiguillon"
                   },
                   {
                    "name": "Montaut"
                   },
                   {
                    "name": "Lieurac"
                   },
                   {
                    "name": "Dalou"
                   },
                   {
                    "name": "Senconac"
                   },
                   {
                    "name": "Les Pujols"
                   },
                   {
                    "name": "Cazenave-Serres-et-Allens"
                   },
                   {
                    "name": "Bestiac"
                   },
                   {
                    "name": "La Bastide-sur-l'Hers"
                   },
                   {
                    "name": "Caychax"
                   },
                   {
                    "name": "Manses"
                   },
                   {
                    "name": "Esclagne"
                   },
                   {
                    "name": "Niaux"
                   },
                   {
                    "name": "Dreuilhe"
                   },
                   {
                    "name": "Malléon"
                   },
                   {
                    "name": "Larcat"
                   },
                   {
                    "name": "Pradières"
                   },
                   {
                    "name": "Baulou"
                   },
                   {
                    "name": "Gourbit"
                   },
                   {
                    "name": "Péreille"
                   },
                   {
                    "name": "Les Cabannes"
                   },
                   {
                    "name": "Quié"
                   },
                   {
                    "name": "Orus"
                   },
                   {
                    "name": "Lissac"
                   },
                   {
                    "name": "Ferrières-sur-Ariège"
                   },
                   {
                    "name": "Caussou"
                   },
                   {
                    "name": "Axiat"
                   },
                   {
                    "name": "Surba"
                   },
                   {
                    "name": "La Bastide-de-Bousignac"
                   },
                   {
                    "name": "Bénaix"
                   },
                   {
                    "name": "Canté"
                   },
                   {
                    "name": "Ségura"
                   },
                   {
                    "name": "Larbont"
                   },
                   {
                    "name": "Burret"
                   },
                   {
                    "name": "Viviès"
                   },
                   {
                    "name": "Unac"
                   },
                   {
                    "name": "Génat"
                   },
                   {
                    "name": "Lavelanet"
                   },
                   {
                    "name": "Ornolac-Ussat-les-Bains"
                   },
                   {
                    "name": "Siguer"
                   },
                   {
                    "name": "Saint-Martin-de-Caralp"
                   },
                   {
                    "name": "Coutens"
                   },
                   {
                    "name": "Freychenet"
                   },
                   {
                    "name": "Benagues"
                   },
                   {
                    "name": "Aigues-Vives"
                   },
                   {
                    "name": "Bézac"
                   },
                   {
                    "name": "Rieux-de-Pelleport"
                   },
                   {
                    "name": "Suzan"
                   },
                   {
                    "name": "Montagagne"
                   },
                   {
                    "name": "Mérens-les-Vals"
                   },
                   {
                    "name": "Cos"
                   },
                   {
                    "name": "Saint-Julien-de-Gras-Capou"
                   }
                  ]
                 },
                 {
                  "cities": [
                   {
                    "name": "Prades"
                   }
                  ],
                  "name": "Pyrénées-Orientales",
                  "villages": [
                   {
                    "name": "Angoustrine-Villeneuve-des-Escaldes"
                   }
                  ]
                 },
                 {
                  "cities": [
                   {
                    "name": "Toulouse"
                   },
                   {
                    "name": "Muret"
                   }
                  ],
                  "name": "Haute-Garonne",
                  "villages": [
                   {
                    "name": "Marliac"
                   },
                   {
                    "name": "Aignes"
                   },
                   {
                    "name": "Gibel"
                   }
                  ]
                 },
                 {
                  "cities": [
                   {
                    "name": "Limoux"
                   },
                   {
                    "name": "Carcassonne"
                   }
                  ],
                  "name": "Aude",
                  "villages": [
                   {
                    "name": "Ricaud"
                   },
                   {
                    "name": "Molandier"
                   },
                   {
                    "name": "Molleville"
                   },
                   {
                    "name": "Belpech"
                   },
                   {
                    "name": "Cahuzac"
                   },
                   {
                    "name": "Mézerville"
                   },
                   {
                    "name": "Baraigne"
                   },
                   {
                    "name": "Belflou"
                   }
                  ]
                 }
                ],
                "name": "Occitanie"
               }
              ]
             },
             {
              "name": "Spain",
              "states": [
               {
                "counties": [
                 {
                  "name": "Das",
                  "villages": [
                   {
                    "name": "Das"
                   }
                  ]
                 },
                 {
                  "cities": [
                   {
                    "name": "Pallars Sobirà"
                   },
                   {
                    "name": "Alt Urgell"
                   }
                  ],
                  "name": "Lleida",
                  "villages": [
                   {
                    "name": "Arsèguel"
                   },
                   {
                    "name": "Llavorsí"
                   }
                  ]
                 },
                 {
                  "cities": [
                   {
                    "name": "Cerdanya"
                   }
                  ],
                  "name": "Cerdanya"
                 }
                ],
                "name": "Catalonia"
               }
              ]
             }
            ],
            "naturallanguage": {
             "search_cloud_string": "cloud:partly_cloudy",
             "search_date_string": "2020 December 18 10: 10:43 10:43:49",
             "search_incidence_angle_string": "incidence:?",
             "search_quality_string": "quality:?"
            }
           },
           "eodag_product_type": "S2_MSI_L1C",
           "eodag_provider": "sobloo",
           "eodag_search_intersection": {
            "coordinates": [
             [
              [
               1.3462654471432014,
               42.763146
              ],
              [
               1.375425572866476,
               42.861271397836525
              ],
              [
               1.421428153672166,
               43.00852959934536
              ],
              [
               1.468787309788166,
               43.15552175257744
              ],
              [
               1.516468002612039,
               43.302524049702754
              ],
              [
               1.529332871800782,
               43.34184005618591
              ],
              [
               1.887077835022296,
               43.34744038882544
              ],
              [
               1.8974876308380018,
               42.763146
              ],
              [
               1.3462654471432014,
               42.763146
              ]
             ]
            ],
            "type": "Polygon"
           },
           "identification": {
            "collection": "Sentinel-2",
            "dataset": {},
            "externalId": "S2B_MSIL1C_20201218T104349_N0209_R008_T31TCH_20201218T115054",
            "hvTileId": "TH31C",
            "profile": "Image",
            "tileId": "31TCH",
            "type": "S2MSI1C"
           },
           "illumination": {},
           "instrument": "MSI",
           "license": "proprietary",
           "missionStartDate": "2015-06-23T00:00:00Z",
           "orbit": {
            "direction": "DESCENDING",
            "number": 19768,
            "relativeNumber": 8
           },
           "orbitDirection": "DESCENDING",
           "orbitNumber": 19768,
           "platform": "Sentinel-2",
           "platformSerialIdentifier": "S2B",
           "processingLevel": "Level-1C",
           "productType": "S2MSI1C",
           "production": {
            "baseline": "02.09",
            "levelCode": "Level-1C",
            "ongoing": false
           },
           "provider": {},
           "quality": {
            "qualified": false
           },
           "quicklook": "https://sobloo.eu/api/v1/services/quicklook/319e74fb-085d-41f5-ac37-14c23e20b97f",
           "sensorMode": "INS-NOBS",
           "sensorType": "OPTICAL",
           "spatialCoverage": {
            "geometry": {
             "centerPoint": {
              "lat": 42.797125985639255,
              "lon": 1.6259000279004667
             },
             "geographicBoundingPolygon": {
              "coordinates": [
               [
                [
                 1.214361805686963,
                 42.34823059453358
                ],
                [
                 1.904690752833034,
                 42.35883991770658
                ],
                [
                 1.887077835022296,
                 43.34744038882544
                ],
                [
                 1.529332871800782,
                 43.34184005618591
                ],
                [
                 1.516468002612039,
                 43.302524049702754
                ],
                [
                 1.468787309788166,
                 43.15552175257744
                ],
                [
                 1.421428153672166,
                 43.00852959934536
                ],
                [
                 1.375425572866476,
                 42.861271397836525
                ],
                [
                 1.331506711956668,
                 42.71348205905935
                ],
                [
                 1.283949941116942,
                 42.566753006680166
                ],
                [
                 1.237800830867577,
                 42.41970731701045
                ],
                [
                 1.214361805686963,
                 42.34823059453358
                ]
               ]
              ],
              "type": "Polygon"
             },
             "global": false
            },
            "verticality": {}
           },
           "startTimeFromAscendingNode": "2020-12-18T10:43:49.024000+00:00",
           "state": {
            "insertionDate": 1608299485682,
            "resources": {
             "quicklook": true,
             "thumbnail": true
            },
            "services": {
             "download": "internal",
             "wcs": false,
             "wms": false,
             "wmts": false
            }
           },
           "storageStatus": "ONLINE",
           "target": {},
           "timeStamp": 1608288229024,
           "title": "S2B_MSIL1C_20201218T104349_N0209_R008_T31TCH_20201218T115054",
           "transmission": {},
           "uid": "319e74fb-085d-41f5-ac37-14c23e20b97f",
           "visibility": {
            "deleted": false
           }
          },
          "type": "Feature"
         },
         {
          "geometry": {
           "coordinates": [
            [
             [
              2.100730924600643,
              45.06005576349448
             ],
             [
              3.123974498511317,
              45.06519270654337
             ],
             [
              3.12616723722405,
              46.05350473573164
             ],
             [
              2.442264045636349,
              46.050013396306014
             ],
             [
              2.405587041364614,
              45.943564851080666
             ],
             [
              2.355418649630285,
              45.79693117023561
             ],
             [
              2.304900100048291,
              45.65035350157424
             ],
             [
              2.254169765990034,
              45.503758569256455
             ],
             [
              2.20316101653202,
              45.35717559197535
             ],
             [
              2.152759175229163,
              45.21046764341903
             ],
             [
              2.102007774224171,
              45.06386226143027
             ],
             [
              2.100730924600643,
              45.06005576349448
             ]
            ]
           ],
           "type": "Polygon"
          },
          "id": "S2B_MSIL1C_20201218T104349_N0209_R008_T31TDL_20201218T115054",
          "properties": {
           "abstract": "The Level-1C product is composed of 100x100 km2 tiles (ortho-images in UTM/WGS84 projection). It results from\nusing a Digital Elevation Model (DEM) to project the image in cartographic geometry. Per-pixel radiometric\nmeasurements are provided in Top Of Atmosphere (TOA) reflectances along with the parameters to transform them\ninto radiances. Level-1C products are resampled with a constant Ground Sampling Distance (GSD) of 10, 20 and 60\nmeters depending on the native resolution of the different spectral bands. In Level-1C  products, pixel\ncoordinates refer to the upper left corner of the pixel. Level-1C products will additionally include Cloud Masks\nand ECMWF data (total column of ozone, total column of water vapour and mean sea level pressure).\n",
           "acquisition": {
            "beginViewingDate": 1608288229024,
            "centerViewingDate": 1608288229024,
            "endViewingDate": 1608288229024,
            "mission": "Sentinel-2",
            "missionCode": "S2B",
            "missionId": "B",
            "missionName": "Sentinel-2B",
            "sensorId": "MSI",
            "sensorMode": "INS-NOBS"
           },
           "archive": {
            "filename": "S2B_MSIL1C_20201218T104349_N0209_R008_T31TDL_20201218T115054.SAFE",
            "format": "SAFE",
            "offLine": false,
            "onLine": false,
            "size": 538
           },
           "attachments": [],
           "attitude": {},
           "bands": [
            {
             "center_wavelength": 0.4439,
             "common_name": "coastal",
             "full_width_half_max": 0.027,
             "gsd": 60,
             "name": "B01"
            },
            {
             "center_wavelength": 0.4966,
             "common_name": "blue",
             "full_width_half_max": 0.098,
             "gsd": 10,
             "name": "B02"
            },
            {
             "center_wavelength": 0.56,
             "common_name": "green",
             "full_width_half_max": 0.045,
             "gsd": 10,
             "name": "B03"
            },
            {
             "center_wavelength": 0.6645,
             "common_name": "red",
             "full_width_half_max": 0.038,
             "gsd": 10,
             "name": "B04"
            },
            {
             "center_wavelength": 0.7039,
             "full_width_half_max": 0.019,
             "gsd": 20,
             "name": "B05"
            },
            {
             "center_wavelength": 0.7402,
             "full_width_half_max": 0.018,
             "gsd": 20,
             "name": "B06"
            },
            {
             "center_wavelength": 0.7825,
             "full_width_half_max": 0.028,
             "gsd": 20,
             "name": "B07"
            },
            {
             "center_wavelength": 0.8351,
             "common_name": "nir",
             "full_width_half_max": 0.145,
             "gsd": 10,
             "name": "B08"
            },
            {
             "center_wavelength": 0.8648,
             "full_width_half_max": 0.033,
             "gsd": 20,
             "name": "B8A"
            },
            {
             "center_wavelength": 0.945,
             "full_width_half_max": 0.026,
             "gsd": 60,
             "name": "B09"
            },
            {
             "center_wavelength": 0.13735,
             "common_name": "cirrus",
             "full_width_half_max": 0.075,
             "gsd": 60,
             "name": "B10"
            },
            {
             "center_wavelength": 0.16137,
             "common_name": "swir16",
             "full_width_half_max": 0.075,
             "gsd": 20,
             "name": "B11"
            },
            {
             "center_wavelength": 0.22024,
             "common_name": "swir22",
             "full_width_half_max": 0.242,
             "gsd": 20,
             "name": "B12"
            }
           ],
           "cloudCover": 2.2242,
           "completionTimeFromAscendingNode": "2020-12-18T10:43:49.024000+00:00",
           "contentDescription": {
            "cloudCoverPercentage": 2.2242
           },
           "creationDate": "2020-12-18T13:58:51.985000+00:00",
           "downloadLink": "https://sobloo.eu/api/v1/services/download/b75cf658-2a37-4c3b-9f74-3620fdafcc3f",
           "enrichment": {
            "geonames": [
             {
              "name": "France",
              "states": [
               {
                "counties": [
                 {
                  "cities": [
                   {
                    "name": "Aubusson"
                   }
                  ],
                  "name": "Creuse",
                  "villages": [
                   {
                    "name": "Saint-Oradoux-de-Chirouze"
                   },
                   {
                    "name": "Crocq"
                   },
                   {
                    "name": "Arfeuille-Châtain"
                   },
                   {
                    "name": "Chard"
                   },
                   {
                    "name": "Saint-Merd-la-Breuille"
                   }
                  ]
                 },
                 {
                  "cities": [
                   {
                    "name": "Tulle"
                   },
                   {
                    "name": "Ussel"
                   }
                  ],
                  "name": "Corrèze",
                  "villages": [
                   {
                    "name": "Saint-Bonnet-près-Bort"
                   },
                   {
                    "name": "Saint-Rémy"
                   },
                   {
                    "name": "Laval-sur-Luzège"
                   },
                   {
                    "name": "Ussel"
                   },
                   {
                    "name": "Saint-Fréjoux"
                   },
                   {
                    "name": "Monestier-Port-Dieu"
                   },
                   {
                    "name": "Saint-Hilaire-Luc"
                   },
                   {
                    "name": "Saint-Julien-près-Bort"
                   }
                  ]
                 }
                ],
                "name": "Nouvelle-Aquitaine"
               },
               {
                "counties": [
                 {
                  "cities": [
                   {
                    "name": "Aurillac"
                   },
                   {
                    "name": "Mauriac"
                   },
                   {
                    "name": "Saint-Flour"
                   }
                  ],
                  "name": "Cantal",
                  "villages": [
                   {
                    "name": "Saint-Cirgues-de-Jordanne"
                   },
                   {
                    "name": "Saint-Paul-de-Salers"
                   },
                   {
                    "name": "Murat"
                   },
                   {
                    "name": "Ferrières-Saint-Mary"
                   },
                   {
                    "name": "Vebret"
                   },
                   {
                    "name": "Chavagnac"
                   },
                   {
                    "name": "Arnac"
                   },
                   {
                    "name": "Saint-Illide"
                   },
                   {
                    "name": "Bonnac"
                   },
                   {
                    "name": "Riom-ès-Montagnes"
                   },
                   {
                    "name": "Sauvat"
                   },
                   {
                    "name": "La Chapelle-d'Alagnon"
                   },
                   {
                    "name": "Charmensac"
                   },
                   {
                    "name": "Pradiers"
                   },
                   {
                    "name": "Rézentières"
                   },
                   {
                    "name": "Trémouille"
                   },
                   {
                    "name": "Moussages"
                   },
                   {
                    "name": "Fontanges"
                   },
                   {
                    "name": "Mandailles-Saint-Julien"
                   },
                   {
                    "name": "Le Falgoux"
                   },
                   {
                    "name": "Ally"
                   },
                   {
                    "name": "Auzers"
                   },
                   {
                    "name": "Cheylade"
                   },
                   {
                    "name": "La Monselie"
                   },
                   {
                    "name": "Saint-Cernin"
                   },
                   {
                    "name": "Le Fau"
                   },
                   {
                    "name": "Veyrières"
                   },
                   {
                    "name": "Coren"
                   },
                   {
                    "name": "Escorailles"
                   },
                   {
                    "name": "Laurie"
                   },
                   {
                    "name": "Lavigerie"
                   },
                   {
                    "name": "Champs-sur-Tarentaine-Marchal"
                   }
                  ]
                 },
                 {
                  "cities": [
                   {
                    "name": "Riom"
                   },
                   {
                    "name": "Clermont-Ferrand"
                   },
                   {
                    "name": "Issoire"
                   }
                  ],
                  "name": "Puy-de-Dôme",
                  "villages": [
                   {
                    "name": "Charensat"
                   },
                   {
                    "name": "Saint-Julien-la-Geneste"
                   },
                   {
                    "name": "Olloix"
                   },
                   {
                    "name": "Saint-Hilaire-la-Croix"
                   },
                   {
                    "name": "Espinasse"
                   },
                   {
                    "name": "Orcival"
                   },
                   {
                    "name": "Laqueuille"
                   },
                   {
                    "name": "Mont-Dore"
                   },
                   {
                    "name": "Heume-l'Église"
                   },
                   {
                    "name": "Saint-Maurice-près-Pionsat"
                   },
                   {
                    "name": "Singles"
                   },
                   {
                    "name": "Saint-Gervais-d'Auvergne"
                   },
                   {
                    "name": "Saint-Angel"
                   },
                   {
                    "name": "Villosanges"
                   },
                   {
                    "name": "Malauzat"
                   },
                   {
                    "name": "Saint-Donat"
                   },
                   {
                    "name": "Vodable"
                   },
                   {
                    "name": "Picherande"
                   },
                   {
                    "name": "Saint-Bonnet-près-Orcival"
                   },
                   {
                    "name": "Saint-Jacques-d'Ambur"
                   },
                   {
                    "name": "Compains"
                   },
                   {
                    "name": "Saint-Pierre-Roche"
                   },
                   {
                    "name": "La Roche-Blanche"
                   },
                   {
                    "name": "Vergheas"
                   },
                   {
                    "name": "Saint-Sauves-d'Auvergne"
                   },
                   {
                    "name": "Bourg-Lastic"
                   },
                   {
                    "name": "Tallende"
                   },
                   {
                    "name": "Davayat"
                   },
                   {
                    "name": "La Goutelle"
                   },
                   {
                    "name": "Saint-Nectaire"
                   },
                   {
                    "name": "Riom"
                   },
                   {
                    "name": "Saint-Georges-de-Mons"
                   },
                   {
                    "name": "Prompsat"
                   },
                   {
                    "name": "Tortebesse"
                   },
                   {
                    "name": "Saint-Sulpice"
                   },
                   {
                    "name": "Manzat"
                   },
                   {
                    "name": "Saint-Diéry"
                   }
                  ]
                 },
                 {
                  "cities": [
                   {
                    "name": "Brioude"
                   }
                  ],
                  "name": "Haute-Loire"
                 }
                ],
                "name": "Auvergne-Rhône-Alpes"
               }
              ]
             }
            ],
            "naturallanguage": {
             "search_cloud_string": "cloud:partly_cloudy",
             "search_date_string": "2020 December 18 10: 10:43 10:43:49",
             "search_incidence_angle_string": "incidence:?",
             "search_quality_string": "quality:?"
            }
           },
           "eodag_product_type": "S2_MSI_L1C",
           "eodag_provider": "sobloo",
           "eodag_search_intersection": {
            "coordinates": [
             [
              [
               2.100730924600643,
               45.06005576349448
              ],
              [
               2.102007774224171,
               45.06386226143027
              ],
              [
               2.152759175229163,
               45.21046764341903
              ],
              [
               2.20316101653202,
               45.35717559197535
              ],
              [
               2.254169765990034,
               45.503758569256455
              ],
              [
               2.304900100048291,
               45.65035350157424
              ],
              [
               2.355418649630285,
               45.79693117023561
              ],
              [
               2.405587041364614,
               45.943564851080666
              ],
              [
               2.442264045636349,
               46.050013396306014
              ],
              [
               3.12616723722405,
               46.05350473573164
              ],
              [
               3.123974498511317,
               45.06519270654337
              ],
              [
               2.100730924600643,
               45.06005576349448
              ]
             ]
            ],
            "type": "Polygon"
           },
           "identification": {
            "collection": "Sentinel-2",
            "dataset": {},
            "externalId": "S2B_MSIL1C_20201218T104349_N0209_R008_T31TDL_20201218T115054",
            "hvTileId": "TL31D",
            "profile": "Image",
            "tileId": "31TDL",
            "type": "S2MSI1C"
           },
           "illumination": {},
           "instrument": "MSI",
           "license": "proprietary",
           "missionStartDate": "2015-06-23T00:00:00Z",
           "orbit": {
            "direction": "DESCENDING",
            "number": 19768,
            "relativeNumber": 8
           },
           "orbitDirection": "DESCENDING",
           "orbitNumber": 19768,
           "platform": "Sentinel-2",
           "platformSerialIdentifier": "S2B",
           "processingLevel": "Level-1C",
           "productType": "S2MSI1C",
           "production": {
            "baseline": "02.09",
            "levelCode": "Level-1C",
            "ongoing": false
           },
           "provider": {},
           "quality": {
            "qualified": false
           },
           "quicklook": "https://sobloo.eu/api/v1/services/quicklook/b75cf658-2a37-4c3b-9f74-3620fdafcc3f",
           "sensorMode": "INS-NOBS",
           "sensorType": "OPTICAL",
           "spatialCoverage": {
            "geometry": {
             "centerPoint": {
              "lat": 45.52438992130744,
              "lon": 2.6926918269967364
             },
             "geographicBoundingPolygon": {
              "coordinates": [
               [
                [
                 2.100730924600643,
                 45.06005576349448
                ],
                [
                 3.123974498511317,
                 45.06519270654337
                ],
                [
                 3.12616723722405,
                 46.05350473573164
                ],
                [
                 2.442264045636349,
                 46.050013396306014
                ],
                [
                 2.405587041364614,
                 45.943564851080666
                ],
                [
                 2.355418649630285,
                 45.79693117023561
                ],
                [
                 2.304900100048291,
                 45.65035350157424
                ],
                [
                 2.254169765990034,
                 45.503758569256455
                ],
                [
                 2.20316101653202,
                 45.35717559197535
                ],
                [
                 2.152759175229163,
                 45.21046764341903
                ],
                [
                 2.102007774224171,
                 45.06386226143027
                ],
                [
                 2.100730924600643,
                 45.06005576349448
                ]
               ]
              ],
              "type": "Polygon"
             },
             "global": false
            },
            "verticality": {}
           },
           "startTimeFromAscendingNode": "2020-12-18T10:43:49.024000+00:00",
           "state": {
            "insertionDate": 1608299931985,
            "resources": {
             "quicklook": true,
             "thumbnail": true
            },
            "services": {
             "download": "internal",
             "wcs": false,
             "wms": false,
             "wmts": false
            }
           },
           "storageStatus": "ONLINE",
           "target": {},
           "timeStamp": 1608288229024,
           "title": "S2B_MSIL1C_20201218T104349_N0209_R008_T31TDL_20201218T115054",
           "transmission": {},
           "uid": "b75cf658-2a37-4c3b-9f74-3620fdafcc3f",
           "visibility": {
            "deleted": false
           }
          },
          "type": "Feature"
         },
         {
          "geometry": {
           "coordinates": [
            [
             [
              0.196659174525255,
              43.21812306328243
             ],
             [
              0.214653323827068,
              43.26358647616488
             ],
             [
              0.272122281899612,
              43.4094748667584
             ],
             [
              0.329745220250706,
              43.555293624836
             ],
             [
              0.387420360888636,
              43.701103604596646
             ],
             [
              0.444903309673641,
              43.84685961561742
             ],
             [
              0.490435507664308,
              43.96178393766129
             ],
             [
              0.502259194941621,
              43.99174279782117
             ],
             [
              0.522822048156159,
              44.0433315856212
             ],
             [
              0.560584713141412,
              44.138277054299344
             ],
             [
              0.5834693618212,
              44.19579082833161
             ],
             [
              0,
              44.212099406551744
             ],
             [
              -0.49642944,
              44.22597512802537
             ],
             [
              -0.53726196,
              43.238273156784096
             ],
             [
              0,
              43.22352241829243
             ],
             [
              0.196659174525255,
              43.21812306328243
             ]
            ]
           ],
           "type": "Polygon"
          },
          "id": "S2B_MSIL1C_20210103T110349_N0209_R094_T30TYP_20210103T121021",
          "properties": {
           "abstract": "The Level-1C product is composed of 100x100 km2 tiles (ortho-images in UTM/WGS84 projection). It results from\nusing a Digital Elevation Model (DEM) to project the image in cartographic geometry. Per-pixel radiometric\nmeasurements are provided in Top Of Atmosphere (TOA) reflectances along with the parameters to transform them\ninto radiances. Level-1C products are resampled with a constant Ground Sampling Distance (GSD) of 10, 20 and 60\nmeters depending on the native resolution of the different spectral bands. In Level-1C  products, pixel\ncoordinates refer to the upper left corner of the pixel. Level-1C products will additionally include Cloud Masks\nand ECMWF data (total column of ozone, total column of water vapour and mean sea level pressure).\n",
           "acquisition": {
            "beginViewingDate": 1609671829024,
            "centerViewingDate": 1609671829024,
            "endViewingDate": 1609671829024,
            "mission": "Sentinel-2",
            "missionCode": "S2B",
            "missionId": "B",
            "missionName": "Sentinel-2B",
            "sensorId": "MSI",
            "sensorMode": "INS-NOBS"
           },
           "archive": {
            "filename": "S2B_MSIL1C_20210103T110349_N0209_R094_T30TYP_20210103T121021.SAFE",
            "format": "SAFE",
            "offLine": false,
            "onLine": false,
            "size": 564
           },
           "attachments": [],
           "attitude": {},
           "bands": [
            {
             "center_wavelength": 0.4439,
             "common_name": "coastal",
             "full_width_half_max": 0.027,
             "gsd": 60,
             "name": "B01"
            },
            {
             "center_wavelength": 0.4966,
             "common_name": "blue",
             "full_width_half_max": 0.098,
             "gsd": 10,
             "name": "B02"
            },
            {
             "center_wavelength": 0.56,
             "common_name": "green",
             "full_width_half_max": 0.045,
             "gsd": 10,
             "name": "B03"
            },
            {
             "center_wavelength": 0.6645,
             "common_name": "red",
             "full_width_half_max": 0.038,
             "gsd": 10,
             "name": "B04"
            },
            {
             "center_wavelength": 0.7039,
             "full_width_half_max": 0.019,
             "gsd": 20,
             "name": "B05"
            },
            {
             "center_wavelength": 0.7402,
             "full_width_half_max": 0.018,
             "gsd": 20,
             "name": "B06"
            },
            {
             "center_wavelength": 0.7825,
             "full_width_half_max": 0.028,
             "gsd": 20,
             "name": "B07"
            },
            {
             "center_wavelength": 0.8351,
             "common_name": "nir",
             "full_width_half_max": 0.145,
             "gsd": 10,
             "name": "B08"
            },
            {
             "center_wavelength": 0.8648,
             "full_width_half_max": 0.033,
             "gsd": 20,
             "name": "B8A"
            },
            {
             "center_wavelength": 0.945,
             "full_width_half_max": 0.026,
             "gsd": 60,
             "name": "B09"
            },
            {
             "center_wavelength": 0.13735,
             "common_name": "cirrus",
             "full_width_half_max": 0.075,
             "gsd": 60,
             "name": "B10"
            },
            {
             "center_wavelength": 0.16137,
             "common_name": "swir16",
             "full_width_half_max": 0.075,
             "gsd": 20,
             "name": "B11"
            },
            {
             "center_wavelength": 0.22024,
             "common_name": "swir22",
             "full_width_half_max": 0.242,
             "gsd": 20,
             "name": "B12"
            }
           ],
           "cloudCover": 1.4675,
           "completionTimeFromAscendingNode": "2021-01-03T11:03:49.024000+00:00",
           "contentDescription": {
            "cloudCoverPercentage": 1.4675
           },
           "creationDate": "2021-01-03T15:28:45.035000+00:00",
           "downloadLink": "https://sobloo.eu/api/v1/services/download/a482f380-8734-43af-8af0-6ff38ccc0743",
           "enrichment": {
            "geonames": [
             {
              "name": "France",
              "states": [
               {
                "counties": [
                 {
                  "cities": [
                   {
                    "name": "Nérac"
                   },
                   {
                    "name": "Agen"
                   }
                  ],
                  "name": "Lot-et-Garonne",
                  "villages": [
                   {
                    "name": "Sérignac-sur-Garonne"
                   },
                   {
                    "name": "Fargues-sur-Ourbise"
                   },
                   {
                    "name": "Nérac"
                   },
                   {
                    "name": "Houeillès"
                   },
                   {
                    "name": "Sainte-Colombe-en-Bruilhois"
                   },
                   {
                    "name": "Laplume"
                   },
                   {
                    "name": "Roquefort"
                   }
                  ]
                 },
                 {
                  "cities": [
                   {
                    "name": "Langon"
                   }
                  ],
                  "name": "Gironde"
                 },
                 {
                  "cities": [
                   {
                    "name": "Pau"
                   },
                   {
                    "name": "Oloron-Sainte-Marie"
                   }
                  ],
                  "name": "Pyrénées-Atlantiques",
                  "villages": [
                   {
                    "name": "Lasseube"
                   },
                   {
                    "name": "Bernadets"
                   },
                   {
                    "name": "Momas"
                   },
                   {
                    "name": "Mazerolles"
                   },
                   {
                    "name": "Géus-d'Arzacq"
                   },
                   {
                    "name": "Artigueloutan"
                   },
                   {
                    "name": "Urost"
                   },
                   {
                    "name": "Siros"
                   },
                   {
                    "name": "Saint-Jammes"
                   },
                   {
                    "name": "Meillon"
                   },
                   {
                    "name": "Aubertin"
                   },
                   {
                    "name": "Saint-Laurent-Bretagne"
                   },
                   {
                    "name": "Boueilh-Boueilho-Lasque"
                   },
                   {
                    "name": "Doumy"
                   },
                   {
                    "name": "Buros"
                   },
                   {
                    "name": "Aydie"
                   },
                   {
                    "name": "Lamayou"
                   },
                   {
                    "name": "Poey-de-Lescar"
                   },
                   {
                    "name": "Pontacq"
                   },
                   {
                    "name": "Arrosès"
                   }
                  ]
                 },
                 {
                  "cities": [
                   {
                    "name": "Mont-de-Marsan"
                   }
                  ],
                  "name": "Landes",
                  "villages": [
                   {
                    "name": "Rimbez-et-Baudiets"
                   },
                   {
                    "name": "Montgaillard"
                   },
                   {
                    "name": "Bats"
                   },
                   {
                    "name": "Labrit"
                   },
                   {
                    "name": "Betbezer-d'Armagnac"
                   },
                   {
                    "name": "Monségur"
                   },
                   {
                    "name": "Lacquy"
                   },
                   {
                    "name": "Saint-Avit"
                   },
                   {
                    "name": "Arue"
                   },
                   {
                    "name": "Saint-Sever"
                   },
                   {
                    "name": "Saint-Julien-d'Armagnac"
                   },
                   {
                    "name": "Cachen"
                   },
                   {
                    "name": "Laglorieuse"
                   },
                   {
                    "name": "Hontanx"
                   },
                   {
                    "name": "Classun"
                   },
                   {
                    "name": "Luxey"
                   },
                   {
                    "name": "Renung"
                   },
                   {
                    "name": "Bascons"
                   },
                   {
                    "name": "Pujo-le-Plan"
                   },
                   {
                    "name": "Le Frêche"
                   },
                   {
                    "name": "Buanes"
                   },
                   {
                    "name": "Sarbazan"
                   },
                   {
                    "name": "Parleboscq"
                   },
                   {
                    "name": "Labastide-d'Armagnac"
                   },
                   {
                    "name": "Geaune"
                   },
                   {
                    "name": "Castelnau-Tursan"
                   }
                  ]
                 }
                ],
                "name": "Nouvelle-Aquitaine"
               },
               {
                "counties": [
                 {
                  "cities": [
                   {
                    "name": "Tarbes"
                   }
                  ],
                  "name": "Hautes-Pyrénées",
                  "villages": [
                   {
                    "name": "Bours"
                   },
                   {
                    "name": "Villefranque"
                   },
                   {
                    "name": "Laslades"
                   },
                   {
                    "name": "Soréac"
                   },
                   {
                    "name": "Lansac"
                   },
                   {
                    "name": "Marseillan"
                   }
                  ]
                 },
                 {
                  "cities": [
                   {
                    "name": "Condom"
                   },
                   {
                    "name": "Mirande"
                   },
                   {
                    "name": "Auch"
                   }
                  ],
                  "name": "Gers",
                  "villages": [
                   {
                    "name": "Mauléon-d'Armagnac"
                   },
                   {
                    "name": "Saint-Orens-Pouy-Petit"
                   },
                   {
                    "name": "Plaisance"
                   },
                   {
                    "name": "Peyrusse-Vieille"
                   },
                   {
                    "name": "Arblade-le-Haut"
                   },
                   {
                    "name": "Manciet"
                   },
                   {
                    "name": "Beaumont"
                   },
                   {
                    "name": "Jû-Belloc"
                   },
                   {
                    "name": "Riguepeu"
                   },
                   {
                    "name": "Beaucaire"
                   },
                   {
                    "name": "Castillon-Debats"
                   },
                   {
                    "name": "Lauraët"
                   },
                   {
                    "name": "Barcelonne-du-Gers"
                   },
                   {
                    "name": "Condom"
                   },
                   {
                    "name": "Aignan"
                   },
                   {
                    "name": "Castelnavet"
                   },
                   {
                    "name": "Caumont"
                   },
                   {
                    "name": "Bretagne-d'Armagnac"
                   },
                   {
                    "name": "Belmont"
                   },
                   {
                    "name": "Haget"
                   },
                   {
                    "name": "Roques"
                   },
                   {
                    "name": "Saint-Griède"
                   }
                  ]
                 }
                ],
                "name": "Occitanie"
               }
              ]
             }
            ],
            "naturallanguage": {
             "search_cloud_string": "cloud:partly_cloudy",
             "search_date_string": "2021 January 03 11: 11:03 11:03:49",
             "search_incidence_angle_string": "incidence:?",
             "search_quality_string": "quality:?"
            }
           },
           "eodag_product_type": "S2_MSI_L1C",
           "eodag_provider": "sobloo",
           "eodag_search_intersection": {
            "coordinates": [
             [
              [
               0.196659174525255,
               43.21812306328243
              ],
              [
               0,
               43.22352241829243
              ],
              [
               -0.53726196,
               43.238273156784096
              ],
              [
               -0.49642944,
               44.22597512802537
              ],
              [
               0,
               44.212099406551744
              ],
              [
               0.5834693618212,
               44.19579082833161
              ],
              [
               0.560584713141412,
               44.138277054299344
              ],
              [
               0.522822048156159,
               44.0433315856212
              ],
              [
               0.502259194941621,
               43.99174279782117
              ],
              [
               0.490435507664308,
               43.96178393766129
              ],
              [
               0.444903309673641,
               43.84685961561742
              ],
              [
               0.387420360888636,
               43.701103604596646
              ],
              [
               0.329745220250706,
               43.555293624836
              ],
              [
               0.272122281899612,
               43.4094748667584
              ],
              [
               0.214653323827068,
               43.26358647616488
              ],
              [
               0.196659174525255,
               43.21812306328243
              ]
             ]
            ],
            "type": "Polygon"
           },
           "identification": {
            "collection": "Sentinel-2",
            "dataset": {},
            "externalId": "S2B_MSIL1C_20210103T110349_N0209_R094_T30TYP_20210103T121021",
            "hvTileId": "TP30Y",
            "profile": "Image",
            "tileId": "30TYP",
            "type": "S2MSI1C"
           },
           "illumination": {},
           "instrument": "MSI",
           "license": "proprietary",
           "missionStartDate": "2015-06-23T00:00:00Z",
           "orbit": {
            "direction": "DESCENDING",
            "number": 19997,
            "relativeNumber": 94
           },
           "orbitDirection": "DESCENDING",
           "orbitNumber": 19997,
           "platform": "Sentinel-2",
           "platformSerialIdentifier": "S2B",
           "processingLevel": "Level-1C",
           "productType": "S2MSI1C",
           "production": {
            "baseline": "02.09",
            "levelCode": "Level-1C",
            "ongoing": false
           },
           "provider": {},
           "quality": {
            "qualified": false
           },
           "quicklook": "https://sobloo.eu/api/v1/services/quicklook/a482f380-8734-43af-8af0-6ff38ccc0743",
           "sensorMode": "INS-NOBS",
           "sensorType": "OPTICAL",
           "spatialCoverage": {
            "geometry": {
             "centerPoint": {
              "lat": 43.75078543447845,
              "lon": -0.056772036274430636
             },
             "geographicBoundingPolygon": {
              "coordinates": [
               [
                [
                 0.196659174525255,
                 43.21812306328243
                ],
                [
                 0.214653323827068,
                 43.26358647616488
                ],
                [
                 0.272122281899612,
                 43.4094748667584
                ],
                [
                 0.329745220250706,
                 43.555293624836
                ],
                [
                 0.387420360888636,
                 43.701103604596646
                ],
                [
                 0.444903309673641,
                 43.84685961561742
                ],
                [
                 0.490435507664308,
                 43.96178393766129
                ],
                [
                 0.502259194941621,
                 43.99174279782117
                ],
                [
                 0.522822048156159,
                 44.0433315856212
                ],
                [
                 0.560584713141412,
                 44.138277054299344
                ],
                [
                 0.5834693618212,
                 44.19579082833161
                ],
                [
                 0,
                 44.212099406551744
                ],
                [
                 -0.49642944,
                 44.22597512802537
                ],
                [
                 -0.53726196,
                 43.238273156784096
                ],
                [
                 0,
                 43.22352241829243
                ],
                [
                 0.196659174525255,
                 43.21812306328243
                ]
               ]
              ],
              "type": "Polygon"
             },
             "global": false
            },
            "verticality": {}
           },
           "startTimeFromAscendingNode": "2021-01-03T11:03:49.024000+00:00",
           "state": {
            "insertionDate": 1609687725035,
            "resources": {
             "quicklook": true,
             "thumbnail": true
            },
            "services": {
             "download": "internal",
             "wcs": false,
             "wms": false,
             "wmts": false
            }
           },
           "storageStatus": "ONLINE",
           "target": {},
           "timeStamp": 1609671829024,
           "title": "S2B_MSIL1C_20210103T110349_N0209_R094_T30TYP_20210103T121021",
           "transmission": {},
           "uid": "a482f380-8734-43af-8af0-6ff38ccc0743",
           "visibility": {
            "deleted": false
           }
          },
          "type": "Feature"
         },
         {
          "geometry": {
           "coordinates": [
            [
             [
              -0.2937317,
              45.93349650488509
             ],
             [
              -0.24441528,
              46.920536388192055
             ],
             [
              -1.6859741,
              46.94616825397537
             ],
             [
              -1.7095032,
              45.95826451839171
             ],
             [
              -0.2937317,
              45.93349650488509
             ]
            ]
           ],
           "type": "Polygon"
          },
          "id": "S2A_MSIL1C_20210108T110431_N0209_R094_T30TXS_20210108T131314",
          "properties": {
           "abstract": "The Level-1C product is composed of 100x100 km2 tiles (ortho-images in UTM/WGS84 projection). It results from\nusing a Digital Elevation Model (DEM) to project the image in cartographic geometry. Per-pixel radiometric\nmeasurements are provided in Top Of Atmosphere (TOA) reflectances along with the parameters to transform them\ninto radiances. Level-1C products are resampled with a constant Ground Sampling Distance (GSD) of 10, 20 and 60\nmeters depending on the native resolution of the different spectral bands. In Level-1C  products, pixel\ncoordinates refer to the upper left corner of the pixel. Level-1C products will additionally include Cloud Masks\nand ECMWF data (total column of ozone, total column of water vapour and mean sea level pressure).\n",
           "acquisition": {
            "beginViewingDate": 1610103871024,
            "centerViewingDate": 1610103871024,
            "endViewingDate": 1610103871024,
            "mission": "Sentinel-2",
            "missionCode": "S2A",
            "missionId": "A",
            "missionName": "Sentinel-2A",
            "sensorId": "MSI",
            "sensorMode": "INS-NOBS"
           },
           "archive": {
            "filename": "S2A_MSIL1C_20210108T110431_N0209_R094_T30TXS_20210108T131314.SAFE",
            "format": "SAFE",
            "offLine": false,
            "onLine": false,
            "size": 785
           },
           "attachments": [],
           "attitude": {},
           "bands": [
            {
             "center_wavelength": 0.4439,
             "common_name": "coastal",
             "full_width_half_max": 0.027,
             "gsd": 60,
             "name": "B01"
            },
            {
             "center_wavelength": 0.4966,
             "common_name": "blue",
             "full_width_half_max": 0.098,
             "gsd": 10,
             "name": "B02"
            },
            {
             "center_wavelength": 0.56,
             "common_name": "green",
             "full_width_half_max": 0.045,
             "gsd": 10,
             "name": "B03"
            },
            {
             "center_wavelength": 0.6645,
             "common_name": "red",
             "full_width_half_max": 0.038,
             "gsd": 10,
             "name": "B04"
            },
            {
             "center_wavelength": 0.7039,
             "full_width_half_max": 0.019,
             "gsd": 20,
             "name": "B05"
            },
            {
             "center_wavelength": 0.7402,
             "full_width_half_max": 0.018,
             "gsd": 20,
             "name": "B06"
            },
            {
             "center_wavelength": 0.7825,
             "full_width_half_max": 0.028,
             "gsd": 20,
             "name": "B07"
            },
            {
             "center_wavelength": 0.8351,
             "common_name": "nir",
             "full_width_half_max": 0.145,
             "gsd": 10,
             "name": "B08"
            },
            {
             "center_wavelength": 0.8648,
             "full_width_half_max": 0.033,
             "gsd": 20,
             "name": "B8A"
            },
            {
             "center_wavelength": 0.945,
             "full_width_half_max": 0.026,
             "gsd": 60,
             "name": "B09"
            },
            {
             "center_wavelength": 0.13735,
             "common_name": "cirrus",
             "full_width_half_max": 0.075,
             "gsd": 60,
             "name": "B10"
            },
            {
             "center_wavelength": 0.16137,
             "common_name": "swir16",
             "full_width_half_max": 0.075,
             "gsd": 20,
             "name": "B11"
            },
            {
             "center_wavelength": 0.22024,
             "common_name": "swir22",
             "full_width_half_max": 0.242,
             "gsd": 20,
             "name": "B12"
            }
           ],
           "cloudCover": 9.5471,
           "completionTimeFromAscendingNode": "2021-01-08T11:04:31.024000+00:00",
           "contentDescription": {
            "cloudCoverPercentage": 9.5471
           },
           "creationDate": "2021-01-08T15:25:19.671000+00:00",
           "downloadLink": "https://sobloo.eu/api/v1/services/download/f0c696bc-f9ca-45ee-865a-2698ebdf98cd",
           "enrichment": {
            "geonames": [
             {
              "name": "France",
              "states": [
               {
                "counties": [
                 {
                  "cities": [
                   {
                    "name": "Fontenay-le-Comte"
                   },
                   {
                    "name": "La Roche-sur-Yon"
                   },
                   {
                    "name": "Les Sables-d'Olonne"
                   }
                  ],
                  "name": "Vendée",
                  "villages": [
                   {
                    "name": "Mervent"
                   },
                   {
                    "name": "Saint-Étienne-du-Bois"
                   },
                   {
                    "name": "Saint-Vincent-sur-Jard"
                   },
                   {
                    "name": "Saint-Prouant"
                   },
                   {
                    "name": "Les Landes-Genusson"
                   },
                   {
                    "name": "Mouilleron-le-Captif"
                   },
                   {
                    "name": "Nalliers"
                   },
                   {
                    "name": "Saint-Laurent-de-la-Salle"
                   },
                   {
                    "name": "Saint-Jean-de-Beugné"
                   },
                   {
                    "name": "Mallièvre"
                   },
                   {
                    "name": "Aizenay"
                   },
                   {
                    "name": "Menomblet"
                   },
                   {
                    "name": "Bessay"
                   },
                   {
                    "name": "La Génétouze"
                   },
                   {
                    "name": "Antigny"
                   },
                   {
                    "name": "Thiré"
                   },
                   {
                    "name": "Le Poiré-sur-Velluire"
                   },
                   {
                    "name": "Avrillé"
                   },
                   {
                    "name": "Palluau"
                   },
                   {
                    "name": "Les Pineaux"
                   },
                   {
                    "name": "Martinet"
                   },
                   {
                    "name": "La Copechagnière"
                   },
                   {
                    "name": "Sainte-Pexine"
                   },
                   {
                    "name": "Foussais-Payré"
                   },
                   {
                    "name": "Saint-Mars-la-Réorthe"
                   },
                   {
                    "name": "Saint-Paul-en-Pareds"
                   },
                   {
                    "name": "Saint-Paul-Mont-Penit"
                   },
                   {
                    "name": "Saint-Maurice-des-Noues"
                   },
                   {
                    "name": "Le Tablier"
                   },
                   {
                    "name": "Saint-Cyr-des-Gâts"
                   },
                   {
                    "name": "Nieul-le-Dolent"
                   },
                   {
                    "name": "Benet"
                   },
                   {
                    "name": "Vendrennes"
                   },
                   {
                    "name": "Saint-Martin-des-Fontaines"
                   }
                  ]
                 },
                 {
                  "cities": [
                   {
                    "name": "Nantes"
                   }
                  ],
                  "name": "Loire-Atlantique",
                  "villages": [
                   {
                    "name": "Touvois"
                   }
                  ]
                 }
                ],
                "name": "Pays-de-la-Loire"
               },
               {
                "counties": [
                 {
                  "cities": [
                   {
                    "name": "Parthenay"
                   },
                   {
                    "name": "Niort"
                   },
                   {
                    "name": "Bressuire"
                   }
                  ],
                  "name": "Deux-Sèvres",
                  "villages": [
                   {
                    "name": "Vallans"
                   },
                   {
                    "name": "Priaires"
                   },
                   {
                    "name": "Saint-Pardoux"
                   },
                   {
                    "name": "Villiers-en-Bois"
                   },
                   {
                    "name": "Les Groseillers"
                   },
                   {
                    "name": "Augé"
                   },
                   {
                    "name": "Adilly"
                   },
                   {
                    "name": "Mazières-en-Gâtine"
                   },
                   {
                    "name": "Cherveux"
                   },
                   {
                    "name": "Geay"
                   },
                   {
                    "name": "Fenioux"
                   },
                   {
                    "name": "Clessé"
                   },
                   {
                    "name": "Le Breuil-Bernard"
                   },
                   {
                    "name": "Cours"
                   },
                   {
                    "name": "Le Vanneau-Irleau"
                   },
                   {
                    "name": "Le Pin"
                   },
                   {
                    "name": "Argentonnay"
                   },
                   {
                    "name": "La Foye-Monjault"
                   },
                   {
                    "name": "Châtillon-sur-Thouet"
                   },
                   {
                    "name": "Saint-Maxire"
                   },
                   {
                    "name": "Marigny"
                   },
                   {
                    "name": "Niort"
                   },
                   {
                    "name": "Surin"
                   },
                   {
                    "name": "Allonne"
                   },
                   {
                    "name": "Mauléon"
                   },
                   {
                    "name": "Secondigné-sur-Belle"
                   }
                  ]
                 },
                 {
                  "cities": [
                   {
                    "name": "Saint-Jean-d'Angély"
                   },
                   {
                    "name": "Rochefort"
                   }
                  ],
                  "name": "Charente-Maritime",
                  "villages": [
                   {
                    "name": "Saint-Pierre-d'Amilly"
                   },
                   {
                    "name": "Le Thou"
                   },
                   {
                    "name": "Saint-Martin-de-Juillers"
                   },
                   {
                    "name": "Ciré-d'Aunis"
                   },
                   {
                    "name": "Saint-Saturnin-du-Bois"
                   },
                   {
                    "name": "Yves"
                   },
                   {
                    "name": "Marsais"
                   },
                   {
                    "name": "Aigrefeuille-d'Aunis"
                   },
                   {
                    "name": "Saint-Germain-de-Marencennes"
                   },
                   {
                    "name": "Saint-Pierre-d'Oléron"
                   },
                   {
                    "name": "Saint-Georges-d'Oléron"
                   },
                   {
                    "name": "Les Nouillers"
                   },
                   {
                    "name": "Courcelles"
                   },
                   {
                    "name": "Dampierre-sur-Boutonne"
                   }
                  ]
                 }
                ],
                "name": "Nouvelle-Aquitaine"
               }
              ]
             }
            ],
            "naturallanguage": {
             "search_cloud_string": "cloud:partly_cloudy",
             "search_date_string": "2021 January 08 11: 11:04 11:04:31",
             "search_incidence_angle_string": "incidence:?",
             "search_quality_string": "quality:?"
            }
           },
           "eodag_product_type": "S2_MSI_L1C",
           "eodag_provider": "sobloo",
           "eodag_search_intersection": {
            "coordinates": [
             [
              [
               -0.25269028027745316,
               46.754917
              ],
              [
               -0.2937317,
               45.93349650488509
              ],
              [
               -1.7095032,
               45.95826451839171
              ],
              [
               -1.6905291692014068,
               46.754917
              ],
              [
               -0.25269028027745316,
               46.754917
              ]
             ]
            ],
            "type": "Polygon"
           },
           "identification": {
            "collection": "Sentinel-2",
            "dataset": {},
            "externalId": "S2A_MSIL1C_20210108T110431_N0209_R094_T30TXS_20210108T131314",
            "hvTileId": "TS30X",
            "profile": "Image",
            "tileId": "30TXS",
            "type": "S2MSI1C"
           },
           "illumination": {},
           "instrument": "MSI",
           "license": "proprietary",
           "missionStartDate": "2015-06-23T00:00:00Z",
           "orbit": {
            "direction": "DESCENDING",
            "number": 28977,
            "relativeNumber": 94
           },
           "orbitDirection": "DESCENDING",
           "orbitNumber": 28977,
           "platform": "Sentinel-2",
           "platformSerialIdentifier": "S2A",
           "processingLevel": "Level-1C",
           "productType": "S2MSI1C",
           "production": {
            "baseline": "02.09",
            "levelCode": "Level-1C",
            "ongoing": false
           },
           "provider": {},
           "quality": {
            "qualified": false
           },
           "quicklook": "https://sobloo.eu/api/v1/services/quicklook/f0c696bc-f9ca-45ee-865a-2698ebdf98cd",
           "sensorMode": "INS-NOBS",
           "sensorType": "OPTICAL",
           "spatialCoverage": {
            "geometry": {
             "centerPoint": {
              "lat": 46.441103471151685,
              "lon": -0.9834005310289281
             },
             "geographicBoundingPolygon": {
              "coordinates": [
               [
                [
                 -0.2937317,
                 45.93349650488509
                ],
                [
                 -0.24441528,
                 46.920536388192055
                ],
                [
                 -1.6859741,
                 46.94616825397537
                ],
                [
                 -1.7095032,
                 45.95826451839171
                ],
                [
                 -0.2937317,
                 45.93349650488509
                ]
               ]
              ],
              "type": "Polygon"
             },
             "global": false
            },
            "verticality": {}
           },
           "startTimeFromAscendingNode": "2021-01-08T11:04:31.024000+00:00",
           "state": {
            "insertionDate": 1610119519671,
            "resources": {
             "quicklook": true,
             "thumbnail": true
            },
            "services": {
             "download": "internal",
             "wcs": false,
             "wms": false,
             "wmts": false
            }
           },
           "storageStatus": "ONLINE",
           "target": {},
           "timeStamp": 1610103871024,
           "title": "S2A_MSIL1C_20210108T110431_N0209_R094_T30TXS_20210108T131314",
           "transmission": {},
           "uid": "f0c696bc-f9ca-45ee-865a-2698ebdf98cd",
           "visibility": {
            "deleted": false
           }
          },
          "type": "Feature"
         },
         {
          "geometry": {
           "coordinates": [
            [
             [
              0.499651613106885,
              44.137996748196564
             ],
             [
              0.547326919389197,
              44.13875411986689
             ],
             [
              0.567537320331426,
              44.18935658826113
             ],
             [
              0.625788942487544,
              44.33515624875584
             ],
             [
              0.685039219907538,
              44.480861587803375
             ],
             [
              0.744545071976698,
              44.62652039050277
             ],
             [
              0.803778209145012,
              44.772162974223214
             ],
             [
              0.86316473457256,
              44.91769059085591
             ],
             [
              0.922419943876341,
              45.06324191215061
             ],
             [
              0.951443339301435,
              45.13350764694719
             ],
             [
              0.45686051699677,
              45.12551356202371
             ],
             [
              0.499651613106885,
              44.137996748196564
             ]
            ]
           ],
           "type": "Polygon"
          },
          "id": "S2A_MSIL1C_20210108T110431_N0209_R094_T31TCK_20210108T131314",
          "properties": {
           "abstract": "The Level-1C product is composed of 100x100 km2 tiles (ortho-images in UTM/WGS84 projection). It results from\nusing a Digital Elevation Model (DEM) to project the image in cartographic geometry. Per-pixel radiometric\nmeasurements are provided in Top Of Atmosphere (TOA) reflectances along with the parameters to transform them\ninto radiances. Level-1C products are resampled with a constant Ground Sampling Distance (GSD) of 10, 20 and 60\nmeters depending on the native resolution of the different spectral bands. In Level-1C  products, pixel\ncoordinates refer to the upper left corner of the pixel. Level-1C products will additionally include Cloud Masks\nand ECMWF data (total column of ozone, total column of water vapour and mean sea level pressure).\n",
           "acquisition": {
            "beginViewingDate": 1610103871024,
            "centerViewingDate": 1610103871024,
            "endViewingDate": 1610103871024,
            "mission": "Sentinel-2",
            "missionCode": "S2A",
            "missionId": "A",
            "missionName": "Sentinel-2A",
            "sensorId": "MSI",
            "sensorMode": "INS-NOBS"
           },
           "archive": {
            "filename": "S2A_MSIL1C_20210108T110431_N0209_R094_T31TCK_20210108T131314.SAFE",
            "format": "SAFE",
            "offLine": false,
            "onLine": false,
            "size": 186
           },
           "attachments": [],
           "attitude": {},
           "bands": [
            {
             "center_wavelength": 0.4439,
             "common_name": "coastal",
             "full_width_half_max": 0.027,
             "gsd": 60,
             "name": "B01"
            },
            {
             "center_wavelength": 0.4966,
             "common_name": "blue",
             "full_width_half_max": 0.098,
             "gsd": 10,
             "name": "B02"
            },
            {
             "center_wavelength": 0.56,
             "common_name": "green",
             "full_width_half_max": 0.045,
             "gsd": 10,
             "name": "B03"
            },
            {
             "center_wavelength": 0.6645,
             "common_name": "red",
             "full_width_half_max": 0.038,
             "gsd": 10,
             "name": "B04"
            },
            {
             "center_wavelength": 0.7039,
             "full_width_half_max": 0.019,
             "gsd": 20,
             "name": "B05"
            },
            {
             "center_wavelength": 0.7402,
             "full_width_half_max": 0.018,
             "gsd": 20,
             "name": "B06"
            },
            {
             "center_wavelength": 0.7825,
             "full_width_half_max": 0.028,
             "gsd": 20,
             "name": "B07"
            },
            {
             "center_wavelength": 0.8351,
             "common_name": "nir",
             "full_width_half_max": 0.145,
             "gsd": 10,
             "name": "B08"
            },
            {
             "center_wavelength": 0.8648,
             "full_width_half_max": 0.033,
             "gsd": 20,
             "name": "B8A"
            },
            {
             "center_wavelength": 0.945,
             "full_width_half_max": 0.026,
             "gsd": 60,
             "name": "B09"
            },
            {
             "center_wavelength": 0.13735,
             "common_name": "cirrus",
             "full_width_half_max": 0.075,
             "gsd": 60,
             "name": "B10"
            },
            {
             "center_wavelength": 0.16137,
             "common_name": "swir16",
             "full_width_half_max": 0.075,
             "gsd": 20,
             "name": "B11"
            },
            {
             "center_wavelength": 0.22024,
             "common_name": "swir22",
             "full_width_half_max": 0.242,
             "gsd": 20,
             "name": "B12"
            }
           ],
           "cloudCover": 0,
           "completionTimeFromAscendingNode": "2021-01-08T11:04:31.024000+00:00",
           "contentDescription": {
            "cloudCoverPercentage": 0
           },
           "creationDate": "2021-01-08T15:24:54.074000+00:00",
           "downloadLink": "https://sobloo.eu/api/v1/services/download/6937a5ba-51eb-4b28-8d4b-1c87cce92ec3",
           "enrichment": {
            "geonames": [
             {
              "name": "France",
              "states": [
               {
                "counties": [
                 {
                  "cities": [
                   {
                    "name": "Marmande"
                   },
                   {
                    "name": "Agen"
                   },
                   {
                    "name": "Villeneuve-sur-Lot"
                   },
                   {
                    "name": "Nérac"
                   }
                  ],
                  "name": "Lot-et-Garonne",
                  "villages": [
                   {
                    "name": "Ségalas"
                   },
                   {
                    "name": "Cancon"
                   },
                   {
                    "name": "Sérignac-sur-Garonne"
                   },
                   {
                    "name": "Saint-Pastour"
                   },
                   {
                    "name": "Monflanquin"
                   },
                   {
                    "name": "Saint-Hilaire-de-Lusignan"
                   },
                   {
                    "name": "La Sauvetat-sur-Lède"
                   },
                   {
                    "name": "Saint-Colomb-de-Lauzun"
                   },
                   {
                    "name": "Monviel"
                   },
                   {
                    "name": "Pailloles"
                   },
                   {
                    "name": "Ferrensac"
                   },
                   {
                    "name": "Moulinet"
                   },
                   {
                    "name": "Villeréal"
                   },
                   {
                    "name": "Castelnaud-de-Gratecambe"
                   },
                   {
                    "name": "Montaut"
                   },
                   {
                    "name": "Colayrac-Saint-Cirq"
                   },
                   {
                    "name": "Sainte-Colombe-en-Bruilhois"
                   },
                   {
                    "name": "Dolmayrac"
                   },
                   {
                    "name": "Castelmoron-sur-Lot"
                   },
                   {
                    "name": "Pinel-Hauterive"
                   },
                   {
                    "name": "Le Temple-sur-Lot"
                   },
                   {
                    "name": "Saint-Maurice-de-Lestapel"
                   },
                   {
                    "name": "Montpezat"
                   },
                   {
                    "name": "Doudrac"
                   },
                   {
                    "name": "Saint-Étienne-de-Villeréal"
                   },
                   {
                    "name": "Brugnac"
                   },
                   {
                    "name": "Beaugas"
                   },
                   {
                    "name": "Fongrave"
                   },
                   {
                    "name": "Villeneuve-sur-Lot"
                   },
                   {
                    "name": "Bournel"
                   },
                   {
                    "name": "Montastruc"
                   },
                   {
                    "name": "Roquefort"
                   },
                   {
                    "name": "Moncaut"
                   },
                   {
                    "name": "Laplume"
                   },
                   {
                    "name": "Cahuzac"
                   }
                  ]
                 },
                 {
                  "cities": [
                   {
                    "name": "Bergerac"
                   },
                   {
                    "name": "Sarlat-la-Canéda"
                   },
                   {
                    "name": "Périgueux"
                   }
                  ],
                  "name": "Dordogne",
                  "villages": [
                   {
                    "name": "Saint-Geyrac"
                   },
                   {
                    "name": "Singleyrac"
                   },
                   {
                    "name": "Monmarvès"
                   },
                   {
                    "name": "Conne-de-Labarde"
                   },
                   {
                    "name": "Villamblard"
                   },
                   {
                    "name": "Cause-de-Clérans"
                   },
                   {
                    "name": "Saint-Germain-du-Salembre"
                   },
                   {
                    "name": "Manzac-sur-Vern"
                   },
                   {
                    "name": "Saint-Laurent-des-Vignes"
                   },
                   {
                    "name": "Clermont-de-Beauregard"
                   },
                   {
                    "name": "Plaisance"
                   },
                   {
                    "name": "Beauregard-et-Bassac"
                   },
                   {
                    "name": "Sadillac"
                   },
                   {
                    "name": "Naussannes"
                   },
                   {
                    "name": "Fossemagne"
                   },
                   {
                    "name": "Creysse"
                   },
                   {
                    "name": "Le Buisson-de-Cadouin"
                   },
                   {
                    "name": "Faurilles"
                   },
                   {
                    "name": "Badefols-sur-Dordogne"
                   },
                   {
                    "name": "Saint-Maime-de-Péreyrol"
                   },
                   {
                    "name": "Vallereuil"
                   },
                   {
                    "name": "Saint-Amand-de-Vergt"
                   },
                   {
                    "name": "Cours-de-Pile"
                   },
                   {
                    "name": "Monmadalès"
                   },
                   {
                    "name": "Saint-Jean-d'Estissac"
                   },
                   {
                    "name": "Saint-Nexans"
                   },
                   {
                    "name": "Monsaguel"
                   },
                   {
                    "name": "Sainte-Alvère-Saint-Laurent-les-Bâtons"
                   },
                   {
                    "name": "Couze-et-Saint-Front"
                   },
                   {
                    "name": "Salon"
                   },
                   {
                    "name": "Sourzac"
                   },
                   {
                    "name": "Bourniquel"
                   },
                   {
                    "name": "Saint-Félix-de-Reillac-et-Mortemart"
                   },
                   {
                    "name": "Colombier"
                   },
                   {
                    "name": "Saint-Avit-Sénieur"
                   },
                   {
                    "name": "Lanquais"
                   },
                   {
                    "name": "Creyssensac-et-Pissot"
                   },
                   {
                    "name": "Razac-d'Eymet"
                   },
                   {
                    "name": "Église-Neuve-de-Vergt"
                   },
                   {
                    "name": "Montagnac-la-Crempse"
                   },
                   {
                    "name": "Lembras"
                   },
                   {
                    "name": "Breuilh"
                   },
                   {
                    "name": "Bourrou"
                   },
                   {
                    "name": "Lamonzie-Montastruc"
                   },
                   {
                    "name": "Issac"
                   },
                   {
                    "name": "Notre-Dame-de-Sanilhac"
                   },
                   {
                    "name": "Cendrieux"
                   },
                   {
                    "name": "Lalinde"
                   },
                   {
                    "name": "Saint-Séverin-d'Estissac"
                   },
                   {
                    "name": "Sainte-Foy-de-Longas"
                   },
                   {
                    "name": "Douville"
                   },
                   {
                    "name": "Eyliac"
                   },
                   {
                    "name": "Fouleix"
                   },
                   {
                    "name": "Veyrines-de-Vergt"
                   }
                  ]
                 }
                ],
                "name": "Nouvelle-Aquitaine"
               }
              ]
             }
            ],
            "naturallanguage": {
             "search_cloud_string": "cloud:clear",
             "search_date_string": "2021 January 08 11: 11:04 11:04:31",
             "search_incidence_angle_string": "incidence:?",
             "search_quality_string": "quality:?"
            }
           },
           "eodag_product_type": "S2_MSI_L1C",
           "eodag_provider": "sobloo",
           "eodag_search_intersection": {
            "coordinates": [
             [
              [
               0.499651613106885,
               44.137996748196564
              ],
              [
               0.45686051699677,
               45.12551356202371
              ],
              [
               0.951443339301435,
               45.13350764694719
              ],
              [
               0.922419943876341,
               45.06324191215061
              ],
              [
               0.86316473457256,
               44.91769059085591
              ],
              [
               0.803778209145012,
               44.772162974223214
              ],
              [
               0.744545071976698,
               44.62652039050277
              ],
              [
               0.685039219907538,
               44.480861587803375
              ],
              [
               0.625788942487544,
               44.33515624875584
              ],
              [
               0.567537320331426,
               44.18935658826113
              ],
              [
               0.547326919389197,
               44.13875411986689
              ],
              [
               0.499651613106885,
               44.137996748196564
              ]
             ]
            ],
            "type": "Polygon"
           },
           "identification": {
            "collection": "Sentinel-2",
            "dataset": {},
            "externalId": "S2A_MSIL1C_20210108T110431_N0209_R094_T31TCK_20210108T131314",
            "hvTileId": "TK31C",
            "profile": "Image",
            "tileId": "31TCK",
            "type": "S2MSI1C"
           },
           "illumination": {},
           "instrument": "MSI",
           "license": "proprietary",
           "missionStartDate": "2015-06-23T00:00:00Z",
           "orbit": {
            "direction": "DESCENDING",
            "number": 28977,
            "relativeNumber": 94
           },
           "orbitDirection": "DESCENDING",
           "orbitNumber": 28977,
           "platform": "Sentinel-2",
           "platformSerialIdentifier": "S2A",
           "processingLevel": "Level-1C",
           "productType": "S2MSI1C",
           "production": {
            "baseline": "02.09",
            "levelCode": "Level-1C",
            "ongoing": false
           },
           "provider": {},
           "quality": {
            "qualified": false
           },
           "quicklook": "https://sobloo.eu/api/v1/services/quicklook/6937a5ba-51eb-4b28-8d4b-1c87cce92ec3",
           "sensorMode": "INS-NOBS",
           "sensorType": "OPTICAL",
           "spatialCoverage": {
            "geometry": {
             "centerPoint": {
              "lat": 44.77064071594664,
              "lon": 0.6383608135343207
             },
             "geographicBoundingPolygon": {
              "coordinates": [
               [
                [
                 0.499651613106885,
                 44.137996748196564
                ],
                [
                 0.547326919389197,
                 44.13875411986689
                ],
                [
                 0.567537320331426,
                 44.18935658826113
                ],
                [
                 0.625788942487544,
                 44.33515624875584
                ],
                [
                 0.685039219907538,
                 44.480861587803375
                ],
                [
                 0.744545071976698,
                 44.62652039050277
                ],
                [
                 0.803778209145012,
                 44.772162974223214
                ],
                [
                 0.86316473457256,
                 44.91769059085591
                ],
                [
                 0.922419943876341,
                 45.06324191215061
                ],
                [
                 0.951443339301435,
                 45.13350764694719
                ],
                [
                 0.45686051699677,
                 45.12551356202371
                ],
                [
                 0.499651613106885,
                 44.137996748196564
                ]
               ]
              ],
              "type": "Polygon"
             },
             "global": false
            },
            "verticality": {}
           },
           "startTimeFromAscendingNode": "2021-01-08T11:04:31.024000+00:00",
           "state": {
            "insertionDate": 1610119494074,
            "resources": {
             "quicklook": true,
             "thumbnail": true
            },
            "services": {
             "download": "internal",
             "wcs": false,
             "wms": false,
             "wmts": false
            }
           },
           "storageStatus": "ONLINE",
           "target": {},
           "timeStamp": 1610103871024,
           "title": "S2A_MSIL1C_20210108T110431_N0209_R094_T31TCK_20210108T131314",
           "transmission": {},
           "uid": "6937a5ba-51eb-4b28-8d4b-1c87cce92ec3",
           "visibility": {
            "deleted": false
           }
          },
          "type": "Feature"
         },
         {
          "geometry": {
           "coordinates": [
            [
             [
              4.394253870988432,
              45.05674859305782
             ],
             [
              4.41890414435335,
              46.044766226835556
             ],
             [
              2.999741460261881,
              46.05357436995249
             ],
             [
              2.999745953598584,
              45.06525999447365
             ],
             [
              4.394253870988432,
              45.05674859305782
             ]
            ]
           ],
           "type": "Polygon"
          },
          "id": "S2A_MSIL1C_20201213T104441_N0209_R008_T31TEL_20201213T125210",
          "properties": {
           "abstract": "The Level-1C product is composed of 100x100 km2 tiles (ortho-images in UTM/WGS84 projection). It results from\nusing a Digital Elevation Model (DEM) to project the image in cartographic geometry. Per-pixel radiometric\nmeasurements are provided in Top Of Atmosphere (TOA) reflectances along with the parameters to transform them\ninto radiances. Level-1C products are resampled with a constant Ground Sampling Distance (GSD) of 10, 20 and 60\nmeters depending on the native resolution of the different spectral bands. In Level-1C  products, pixel\ncoordinates refer to the upper left corner of the pixel. Level-1C products will additionally include Cloud Masks\nand ECMWF data (total column of ozone, total column of water vapour and mean sea level pressure).\n",
           "acquisition": {
            "beginViewingDate": 1607856281024,
            "centerViewingDate": 1607856281024,
            "endViewingDate": 1607856281024,
            "mission": "Sentinel-2",
            "missionCode": "S2A",
            "missionId": "A",
            "missionName": "Sentinel-2A",
            "sensorId": "MSI",
            "sensorMode": "INS-NOBS"
           },
           "archive": {
            "filename": "S2A_MSIL1C_20201213T104441_N0209_R008_T31TEL_20201213T125210.SAFE",
            "format": "SAFE",
            "offLine": false,
            "onLine": false,
            "size": 809
           },
           "attachments": [],
           "attitude": {},
           "bands": [
            {
             "center_wavelength": 0.4439,
             "common_name": "coastal",
             "full_width_half_max": 0.027,
             "gsd": 60,
             "name": "B01"
            },
            {
             "center_wavelength": 0.4966,
             "common_name": "blue",
             "full_width_half_max": 0.098,
             "gsd": 10,
             "name": "B02"
            },
            {
             "center_wavelength": 0.56,
             "common_name": "green",
             "full_width_half_max": 0.045,
             "gsd": 10,
             "name": "B03"
            },
            {
             "center_wavelength": 0.6645,
             "common_name": "red",
             "full_width_half_max": 0.038,
             "gsd": 10,
             "name": "B04"
            },
            {
             "center_wavelength": 0.7039,
             "full_width_half_max": 0.019,
             "gsd": 20,
             "name": "B05"
            },
            {
             "center_wavelength": 0.7402,
             "full_width_half_max": 0.018,
             "gsd": 20,
             "name": "B06"
            },
            {
             "center_wavelength": 0.7825,
             "full_width_half_max": 0.028,
             "gsd": 20,
             "name": "B07"
            },
            {
             "center_wavelength": 0.8351,
             "common_name": "nir",
             "full_width_half_max": 0.145,
             "gsd": 10,
             "name": "B08"
            },
            {
             "center_wavelength": 0.8648,
             "full_width_half_max": 0.033,
             "gsd": 20,
             "name": "B8A"
            },
            {
             "center_wavelength": 0.945,
             "full_width_half_max": 0.026,
             "gsd": 60,
             "name": "B09"
            },
            {
             "center_wavelength": 0.13735,
             "common_name": "cirrus",
             "full_width_half_max": 0.075,
             "gsd": 60,
             "name": "B10"
            },
            {
             "center_wavelength": 0.16137,
             "common_name": "swir16",
             "full_width_half_max": 0.075,
             "gsd": 20,
             "name": "B11"
            },
            {
             "center_wavelength": 0.22024,
             "common_name": "swir22",
             "full_width_half_max": 0.242,
             "gsd": 20,
             "name": "B12"
            }
           ],
           "cloudCover": 1.5298000000000003,
           "completionTimeFromAscendingNode": "2020-12-13T10:44:41.024000+00:00",
           "contentDescription": {
            "cloudCoverPercentage": 1.5298000000000003
           },
           "creationDate": "2020-12-13T14:46:19.459000+00:00",
           "downloadLink": "https://sobloo.eu/api/v1/services/download/a2190906-ce56-465f-ab5f-af9d00b92001",
           "enrichment": {
            "geonames": [
             {
              "name": "France",
              "states": [
               {
                "counties": [
                 {
                  "cities": [
                   {
                    "name": "Clermont-Ferrand"
                   },
                   {
                    "name": "Issoire"
                   },
                   {
                    "name": "Ambert"
                   },
                   {
                    "name": "Thiers"
                   },
                   {
                    "name": "Riom"
                   }
                  ],
                  "name": "Puy-de-Dôme",
                  "villages": [
                   {
                    "name": "Parent"
                   },
                   {
                    "name": "Saint-Diéry"
                   },
                   {
                    "name": "Davayat"
                   },
                   {
                    "name": "Lussat"
                   },
                   {
                    "name": "La Chapelle-Agnon"
                   },
                   {
                    "name": "Pérignat-sur-Allier"
                   },
                   {
                    "name": "Prompsat"
                   },
                   {
                    "name": "Saint-Hilaire-la-Croix"
                   },
                   {
                    "name": "Malauzat"
                   },
                   {
                    "name": "Saint-Nectaire"
                   },
                   {
                    "name": "Olloix"
                   },
                   {
                    "name": "Thiolières"
                   },
                   {
                    "name": "Augerolles"
                   }
                  ]
                 },
                 {
                  "cities": [
                   {
                    "name": "Pays du Velay"
                   },
                   {
                    "name": "Brioude"
                   },
                   {
                    "name": "Yssingeaux"
                   }
                  ],
                  "name": "Haute-Loire",
                  "villages": [
                   {
                    "name": "Frugières-le-Pin"
                   },
                   {
                    "name": "Langeac"
                   },
                   {
                    "name": "Saint-Cirgues"
                   },
                   {
                    "name": "Saint-Arcons-d'Allier"
                   },
                   {
                    "name": "Blesle"
                   },
                   {
                    "name": "Vergongheon"
                   },
                   {
                    "name": "Fix-Saint-Geneys"
                   },
                   {
                    "name": "Agnat"
                   },
                   {
                    "name": "Saint-Didier-en-Velay"
                   },
                   {
                    "name": "Saint-Julien-des-Chazes"
                   },
                   {
                    "name": "Salzuit"
                   },
                   {
                    "name": "Montregard"
                   },
                   {
                    "name": "Vernassal"
                   },
                   {
                    "name": "Saint-Julien-Chapteuil"
                   },
                   {
                    "name": "La Chaise-Dieu"
                   },
                   {
                    "name": "Saint-Paulien"
                   },
                   {
                    "name": "Ferrussac"
                   },
                   {
                    "name": "Varennes-Saint-Honorat"
                   },
                   {
                    "name": "Monlet"
                   },
                   {
                    "name": "Josat"
                   },
                   {
                    "name": "Vieille-Brioude"
                   },
                   {
                    "name": "Lamothe"
                   },
                   {
                    "name": "Chamalières-sur-Loire"
                   },
                   {
                    "name": "Chastel"
                   },
                   {
                    "name": "Saint-Georges-d'Aurac"
                   },
                   {
                    "name": "Beaulieu"
                   },
                   {
                    "name": "Pinols"
                   },
                   {
                    "name": "Bellevue-la-Montagne"
                   },
                   {
                    "name": "Lapte"
                   },
                   {
                    "name": "Saint-Pal-de-Senouire"
                   },
                   {
                    "name": "Saint-Laurent-Chabreuges"
                   },
                   {
                    "name": "Lissac"
                   },
                   {
                    "name": "Chomelix"
                   },
                   {
                    "name": "Craponne-sur-Arzon"
                   },
                   {
                    "name": "Saint-Hostien"
                   },
                   {
                    "name": "Sanssac-l'Église"
                   },
                   {
                    "name": "Saint-Beauzire"
                   },
                   {
                    "name": "Chaniat"
                   },
                   {
                    "name": "Cistrières"
                   },
                   {
                    "name": "Allègre"
                   }
                  ]
                 },
                 {
                  "name": "Meaux-la-Montagne",
                  "villages": [
                   {
                    "name": "Meaux-la-Montagne"
                   }
                  ]
                 },
                 {
                  "cities": [
                   {
                    "name": "Villefranche-sur-Saône"
                   }
                  ],
                  "name": "Villefranche-sur-Saône"
                 },
                 {
                  "name": "Rhône"
                 },
                 {
                  "cities": [
                   {
                    "name": "Tournon-sur-Rhône"
                   }
                  ],
                  "name": "Ardèche",
                  "villages": [
                   {
                    "name": "Devesset"
                   }
                  ]
                 },
                 {
                  "name": "Saint-Vincent-de-Reins",
                  "villages": [
                   {
                    "name": "Saint-Vincent-de-Reins"
                   }
                  ]
                 },
                 {
                  "cities": [
                   {
                    "name": "Vichy"
                   }
                  ],
                  "name": "Allier",
                  "villages": [
                   {
                    "name": "Ferrières-sur-Sichon"
                   }
                  ]
                 },
                 {
                  "cities": [
                   {
                    "name": "Montbrison"
                   },
                   {
                    "name": "Saint-Étienne"
                   },
                   {
                    "name": "Roanne"
                   }
                  ],
                  "name": "Loire",
                  "villages": [
                   {
                    "name": "Unieux"
                   },
                   {
                    "name": "Villerest"
                   },
                   {
                    "name": "Pradines"
                   },
                   {
                    "name": "Pralong"
                   },
                   {
                    "name": "Dancé"
                   },
                   {
                    "name": "Bully"
                   },
                   {
                    "name": "Balbigny"
                   },
                   {
                    "name": "Lavieu"
                   },
                   {
                    "name": "Saint-Symphorien-de-Lay"
                   },
                   {
                    "name": "Juré"
                   },
                   {
                    "name": "Renaison"
                   },
                   {
                    "name": "Saint-Victor-sur-Rhins"
                   },
                   {
                    "name": "Mornand-en-Forez"
                   },
                   {
                    "name": "Saint-Julien-d'Oddes"
                   },
                   {
                    "name": "Montbrison"
                   },
                   {
                    "name": "Roanne"
                   }
                  ]
                 },
                 {
                  "cities": [
                   {
                    "name": "Saint-Flour"
                   }
                  ],
                  "name": "Cantal",
                  "villages": [
                   {
                    "name": "Charmensac"
                   },
                   {
                    "name": "Mentières"
                   }
                  ]
                 }
                ],
                "name": "Auvergne-Rhône-Alpes"
               }
              ]
             }
            ],
            "naturallanguage": {
             "search_cloud_string": "cloud:partly_cloudy",
             "search_date_string": "2020 December 13 10: 10:44 10:44:41",
             "search_incidence_angle_string": "incidence:?",
             "search_quality_string": "quality:?"
            }
           },
           "eodag_product_type": "S2_MSI_L1C",
           "eodag_provider": "sobloo",
           "eodag_search_intersection": {
            "coordinates": [
             [
              [
               4.394253870988432,
               45.05674859305782
              ],
              [
               2.999745953598584,
               45.06525999447365
              ],
              [
               2.999741460261881,
               46.05357436995249
              ],
              [
               4.41890414435335,
               46.044766226835556
              ],
              [
               4.394253870988432,
               45.05674859305782
              ]
             ]
            ],
            "type": "Polygon"
           },
           "identification": {
            "collection": "Sentinel-2",
            "dataset": {},
            "externalId": "S2A_MSIL1C_20201213T104441_N0209_R008_T31TEL_20201213T125210",
            "hvTileId": "TL31E",
            "profile": "Image",
            "tileId": "31TEL",
            "type": "S2MSI1C"
           },
           "illumination": {},
           "instrument": "MSI",
           "license": "proprietary",
           "missionStartDate": "2015-06-23T00:00:00Z",
           "orbit": {
            "direction": "DESCENDING",
            "number": 28605,
            "relativeNumber": 8
           },
           "orbitDirection": "DESCENDING",
           "orbitNumber": 28605,
           "platform": "Sentinel-2",
           "platformSerialIdentifier": "S2A",
           "processingLevel": "Level-1C",
           "productType": "S2MSI1C",
           "production": {
            "baseline": "02.09",
            "levelCode": "Level-1C",
            "ongoing": false
           },
           "provider": {},
           "quality": {
            "qualified": false
           },
           "quicklook": "https://sobloo.eu/api/v1/services/quicklook/a2190906-ce56-465f-ab5f-af9d00b92001",
           "sensorMode": "INS-NOBS",
           "sensorType": "OPTICAL",
           "spatialCoverage": {
            "geometry": {
             "centerPoint": {
              "lat": 45.556530640585144,
              "lon": 3.7031621560927723
             },
             "geographicBoundingPolygon": {
              "coordinates": [
               [
                [
                 4.394253870988432,
                 45.05674859305782
                ],
                [
                 4.41890414435335,
                 46.044766226835556
                ],
                [
                 2.999741460261881,
                 46.05357436995249
                ],
                [
                 2.999745953598584,
                 45.06525999447365
                ],
                [
                 4.394253870988432,
                 45.05674859305782
                ]
               ]
              ],
              "type": "Polygon"
             },
             "global": false
            },
            "verticality": {}
           },
           "startTimeFromAscendingNode": "2020-12-13T10:44:41.024000+00:00",
           "state": {
            "insertionDate": 1607870779459,
            "resources": {
             "quicklook": true,
             "thumbnail": true
            },
            "services": {
             "download": "internal",
             "wcs": false,
             "wms": false,
             "wmts": false
            }
           },
           "storageStatus": "ONLINE",
           "target": {},
           "timeStamp": 1607856281024,
           "title": "S2A_MSIL1C_20201213T104441_N0209_R008_T31TEL_20201213T125210",
           "transmission": {},
           "uid": "a2190906-ce56-465f-ab5f-af9d00b92001",
           "visibility": {
            "deleted": false
           }
          },
          "type": "Feature"
         },
         {
          "geometry": {
           "coordinates": [
            [
             [
              4.372894000454571,
              44.157116557384406
             ],
             [
              4.396411173148929,
              45.145299673094094
             ],
             [
              2.999745560361899,
              45.15383725089235
             ],
             [
              2.999749847073169,
              44.16536649550738
             ],
             [
              4.372894000454571,
              44.157116557384406
             ]
            ]
           ],
           "type": "Polygon"
          },
          "id": "S2A_MSIL1C_20201213T104441_N0209_R008_T31TEK_20201213T125210",
          "properties": {
           "abstract": "The Level-1C product is composed of 100x100 km2 tiles (ortho-images in UTM/WGS84 projection). It results from\nusing a Digital Elevation Model (DEM) to project the image in cartographic geometry. Per-pixel radiometric\nmeasurements are provided in Top Of Atmosphere (TOA) reflectances along with the parameters to transform them\ninto radiances. Level-1C products are resampled with a constant Ground Sampling Distance (GSD) of 10, 20 and 60\nmeters depending on the native resolution of the different spectral bands. In Level-1C  products, pixel\ncoordinates refer to the upper left corner of the pixel. Level-1C products will additionally include Cloud Masks\nand ECMWF data (total column of ozone, total column of water vapour and mean sea level pressure).\n",
           "acquisition": {
            "beginViewingDate": 1607856281024,
            "centerViewingDate": 1607856281024,
            "endViewingDate": 1607856281024,
            "mission": "Sentinel-2",
            "missionCode": "S2A",
            "missionId": "A",
            "missionName": "Sentinel-2A",
            "sensorId": "MSI",
            "sensorMode": "INS-NOBS"
           },
           "archive": {
            "filename": "S2A_MSIL1C_20201213T104441_N0209_R008_T31TEK_20201213T125210.SAFE",
            "format": "SAFE",
            "offLine": false,
            "onLine": false,
            "size": 836
           },
           "attachments": [],
           "attitude": {},
           "bands": [
            {
             "center_wavelength": 0.4439,
             "common_name": "coastal",
             "full_width_half_max": 0.027,
             "gsd": 60,
             "name": "B01"
            },
            {
             "center_wavelength": 0.4966,
             "common_name": "blue",
             "full_width_half_max": 0.098,
             "gsd": 10,
             "name": "B02"
            },
            {
             "center_wavelength": 0.56,
             "common_name": "green",
             "full_width_half_max": 0.045,
             "gsd": 10,
             "name": "B03"
            },
            {
             "center_wavelength": 0.6645,
             "common_name": "red",
             "full_width_half_max": 0.038,
             "gsd": 10,
             "name": "B04"
            },
            {
             "center_wavelength": 0.7039,
             "full_width_half_max": 0.019,
             "gsd": 20,
             "name": "B05"
            },
            {
             "center_wavelength": 0.7402,
             "full_width_half_max": 0.018,
             "gsd": 20,
             "name": "B06"
            },
            {
             "center_wavelength": 0.7825,
             "full_width_half_max": 0.028,
             "gsd": 20,
             "name": "B07"
            },
            {
             "center_wavelength": 0.8351,
             "common_name": "nir",
             "full_width_half_max": 0.145,
             "gsd": 10,
             "name": "B08"
            },
            {
             "center_wavelength": 0.8648,
             "full_width_half_max": 0.033,
             "gsd": 20,
             "name": "B8A"
            },
            {
             "center_wavelength": 0.945,
             "full_width_half_max": 0.026,
             "gsd": 60,
             "name": "B09"
            },
            {
             "center_wavelength": 0.13735,
             "common_name": "cirrus",
             "full_width_half_max": 0.075,
             "gsd": 60,
             "name": "B10"
            },
            {
             "center_wavelength": 0.16137,
             "common_name": "swir16",
             "full_width_half_max": 0.075,
             "gsd": 20,
             "name": "B11"
            },
            {
             "center_wavelength": 0.22024,
             "common_name": "swir22",
             "full_width_half_max": 0.242,
             "gsd": 20,
             "name": "B12"
            }
           ],
           "cloudCover": 3.8593,
           "completionTimeFromAscendingNode": "2020-12-13T10:44:41.024000+00:00",
           "contentDescription": {
            "cloudCoverPercentage": 3.8593
           },
           "creationDate": "2020-12-13T14:48:33.873000+00:00",
           "downloadLink": "https://sobloo.eu/api/v1/services/download/31220aef-069d-4469-8687-d94ca4038e69",
           "enrichment": {
            "geonames": [
             {
              "name": "France",
              "states": [
               {
                "counties": [
                 {
                  "cities": [
                   {
                    "name": "Rodez"
                   },
                   {
                    "name": "Millau"
                   }
                  ],
                  "name": "Aveyron",
                  "villages": [
                   {
                    "name": "Sévérac-d'Aveyron"
                   },
                   {
                    "name": "Paulhe"
                   },
                   {
                    "name": "Millau"
                   },
                   {
                    "name": "Veyreau"
                   },
                   {
                    "name": "Saint-Saturnin-de-Lenne"
                   },
                   {
                    "name": "Mostuéjouls"
                   }
                  ]
                 },
                 {
                  "cities": [
                   {
                    "name": "Florac"
                   },
                   {
                    "name": "Mende"
                   }
                  ],
                  "name": "Lozère",
                  "villages": [
                   {
                    "name": "Montbrun"
                   },
                   {
                    "name": "Meyrueis"
                   },
                   {
                    "name": "Saint-Pierre-le-Vieux"
                   },
                   {
                    "name": "Badaroux"
                   },
                   {
                    "name": "Le Pompidou"
                   },
                   {
                    "name": "Lajo"
                   },
                   {
                    "name": "Saint-Martin-de-Boubaux"
                   },
                   {
                    "name": "Chanac"
                   },
                   {
                    "name": "Pourcharesses"
                   },
                   {
                    "name": "Fau-de-Peyre"
                   },
                   {
                    "name": "Le Malzieu-Forain"
                   },
                   {
                    "name": "Saint-Germain-de-Calberte"
                   },
                   {
                    "name": "Chadenet"
                   },
                   {
                    "name": "Serverette"
                   },
                   {
                    "name": "Chastel-Nouvel"
                   }
                  ]
                 },
                 {
                  "cities": [
                   {
                    "name": "Nimes"
                   },
                   {
                    "name": "Le Vigan"
                   },
                   {
                    "name": "Alès"
                   }
                  ],
                  "name": "Gard",
                  "villages": [
                   {
                    "name": "Mialet"
                   },
                   {
                    "name": "Saint-André-de-Valborgne"
                   },
                   {
                    "name": "Sénéchas"
                   },
                   {
                    "name": "Saint-Florent-sur-Auzonnet"
                   }
                  ]
                 }
                ],
                "name": "Occitanie"
               },
               {
                "counties": [
                 {
                  "cities": [
                   {
                    "name": "Saint-Flour"
                   }
                  ],
                  "name": "Cantal",
                  "villages": [
                   {
                    "name": "Les Ternes"
                   },
                   {
                    "name": "Ferrières-Saint-Mary"
                   },
                   {
                    "name": "Chazelles"
                   },
                   {
                    "name": "Mentières"
                   },
                   {
                    "name": "Maurines"
                   }
                  ]
                 },
                 {
                  "cities": [
                   {
                    "name": "Pays du Velay"
                   },
                   {
                    "name": "Brioude"
                   },
                   {
                    "name": "Yssingeaux"
                   }
                  ],
                  "name": "Haute-Loire",
                  "villages": [
                   {
                    "name": "Saint-Hostien"
                   },
                   {
                    "name": "Lantriac"
                   },
                   {
                    "name": "Saint-Julien-du-Pinet"
                   },
                   {
                    "name": "Saint-Christophe-sur-Dolaison"
                   },
                   {
                    "name": "Vergezac"
                   },
                   {
                    "name": "Goudet"
                   },
                   {
                    "name": "Saint-Étienne-du-Vigan"
                   },
                   {
                    "name": "Fix-Saint-Geneys"
                   },
                   {
                    "name": "Langeac"
                   },
                   {
                    "name": "Aiguilhe"
                   },
                   {
                    "name": "Chastel"
                   },
                   {
                    "name": "Saint-Georges-d'Aurac"
                   },
                   {
                    "name": "Saint-Paulien"
                   },
                   {
                    "name": "Cronce"
                   },
                   {
                    "name": "Charraix"
                   },
                   {
                    "name": "Beaulieu"
                   },
                   {
                    "name": "Pébrac"
                   },
                   {
                    "name": "Saint-Julien-Chapteuil"
                   },
                   {
                    "name": "Le Brignon"
                   },
                   {
                    "name": "Ferrussac"
                   },
                   {
                    "name": "Fay-sur-Lignon"
                   },
                   {
                    "name": "Saint-Cirgues"
                   },
                   {
                    "name": "Saint-Julien-des-Chazes"
                   },
                   {
                    "name": "Lapte"
                   },
                   {
                    "name": "Sanssac-l'Église"
                   },
                   {
                    "name": "Céaux-d'Allègre"
                   },
                   {
                    "name": "Yssingeaux"
                   },
                   {
                    "name": "Vernassal"
                   },
                   {
                    "name": "Saint-Arcons-d'Allier"
                   },
                   {
                    "name": "Chadron"
                   },
                   {
                    "name": "Freycenet-la-Cuche"
                   }
                  ]
                 },
                 {
                  "cities": [
                   {
                    "name": "Largentière"
                   },
                   {
                    "name": "Tournon-sur-Rhône"
                   },
                   {
                    "name": "Privas"
                   }
                  ],
                  "name": "Ardèche",
                  "villages": [
                   {
                    "name": "Saint-André-Lachamp"
                   },
                   {
                    "name": "Intres"
                   },
                   {
                    "name": "Saint-Étienne-de-Fontbellon"
                   },
                   {
                    "name": "Thueyts"
                   },
                   {
                    "name": "Saint-André-en-Vivarais"
                   },
                   {
                    "name": "Issarlès"
                   },
                   {
                    "name": "Sampzon"
                   },
                   {
                    "name": "Sablières"
                   },
                   {
                    "name": "Saint-Clément"
                   },
                   {
                    "name": "Rocles"
                   },
                   {
                    "name": "Meyras"
                   },
                   {
                    "name": "Saint-Laurent-les-Bains"
                   },
                   {
                    "name": "Saint-Sauveur-de-Cruzières"
                   },
                   {
                    "name": "Barnas"
                   },
                   {
                    "name": "Beaumont"
                   },
                   {
                    "name": "Saint-Cirgues-en-Montagne"
                   }
                  ]
                 }
                ],
                "name": "Auvergne-Rhône-Alpes"
               }
              ]
             }
            ],
            "naturallanguage": {
             "search_cloud_string": "cloud:partly_cloudy",
             "search_date_string": "2020 December 13 10: 10:44 10:44:41",
             "search_incidence_angle_string": "incidence:?",
             "search_quality_string": "quality:?"
            }
           },
           "eodag_product_type": "S2_MSI_L1C",
           "eodag_provider": "sobloo",
           "eodag_search_intersection": {
            "coordinates": [
             [
              [
               4.372894000454571,
               44.157116557384406
              ],
              [
               2.999749847073169,
               44.16536649550738
              ],
              [
               2.999745560361899,
               45.15383725089235
              ],
              [
               4.396411173148929,
               45.145299673094094
              ],
              [
               4.372894000454571,
               44.157116557384406
              ]
             ]
            ],
            "type": "Polygon"
           },
           "identification": {
            "collection": "Sentinel-2",
            "dataset": {},
            "externalId": "S2A_MSIL1C_20201213T104441_N0209_R008_T31TEK_20201213T125210",
            "hvTileId": "TK31E",
            "profile": "Image",
            "tileId": "31TEK",
            "type": "S2MSI1C"
           },
           "illumination": {},
           "instrument": "MSI",
           "license": "proprietary",
           "missionStartDate": "2015-06-23T00:00:00Z",
           "orbit": {
            "direction": "DESCENDING",
            "number": 28605,
            "relativeNumber": 8
           },
           "orbitDirection": "DESCENDING",
           "orbitNumber": 28605,
           "platform": "Sentinel-2",
           "platformSerialIdentifier": "S2A",
           "processingLevel": "Level-1C",
           "productType": "S2MSI1C",
           "production": {
            "baseline": "02.09",
            "levelCode": "Level-1C",
            "ongoing": false
           },
           "provider": {},
           "quality": {
            "qualified": false
           },
           "quicklook": "https://sobloo.eu/api/v1/services/quicklook/31220aef-069d-4469-8687-d94ca4038e69",
           "sensorMode": "INS-NOBS",
           "sensorType": "OPTICAL",
           "spatialCoverage": {
            "geometry": {
             "centerPoint": {
              "lat": 44.656804025537824,
              "lon": 3.692199846052772
             },
             "geographicBoundingPolygon": {
              "coordinates": [
               [
                [
                 4.372894000454571,
                 44.157116557384406
                ],
                [
                 4.396411173148929,
                 45.145299673094094
                ],
                [
                 2.999745560361899,
                 45.15383725089235
                ],
                [
                 2.999749847073169,
                 44.16536649550738
                ],
                [
                 4.372894000454571,
                 44.157116557384406
                ]
               ]
              ],
              "type": "Polygon"
             },
             "global": false
            },
            "verticality": {}
           },
           "startTimeFromAscendingNode": "2020-12-13T10:44:41.024000+00:00",
           "state": {
            "insertionDate": 1607870913873,
            "resources": {
             "quicklook": true,
             "thumbnail": true
            },
            "services": {
             "download": "internal",
             "wcs": false,
             "wms": false,
             "wmts": false
            }
           },
           "storageStatus": "ONLINE",
           "target": {},
           "timeStamp": 1607856281024,
           "title": "S2A_MSIL1C_20201213T104441_N0209_R008_T31TEK_20201213T125210",
           "transmission": {},
           "uid": "31220aef-069d-4469-8687-d94ca4038e69",
           "visibility": {
            "deleted": false
           }
          },
          "type": "Feature"
         },
         {
          "geometry": {
           "coordinates": [
            [
             [
              4.902813648331953,
              42.34634508023791
             ],
             [
              4.946741093893181,
              42.46169693798745
             ],
             [
              5.002429498355874,
              42.60759578612584
             ],
             [
              5.058168927483636,
              42.75348120792216
             ],
             [
              5.113991425116614,
              42.89928301671317
             ],
             [
              5.170013583845397,
              43.045083973556274
             ],
             [
              5.226212675091086,
              43.1908671999523
             ],
             [
              5.279905467767612,
              43.32871771571482
             ],
             [
              4.233812137762024,
              43.346200009839855
             ],
             [
              4.214287134177919,
              42.35764145317536
             ],
             [
              4.902813648331953,
              42.34634508023791
             ]
            ]
           ],
           "type": "Polygon"
          },
          "id": "S2A_MSIL1C_20201213T104441_N0209_R008_T31TFH_20201213T125210",
          "properties": {
           "abstract": "The Level-1C product is composed of 100x100 km2 tiles (ortho-images in UTM/WGS84 projection). It results from\nusing a Digital Elevation Model (DEM) to project the image in cartographic geometry. Per-pixel radiometric\nmeasurements are provided in Top Of Atmosphere (TOA) reflectances along with the parameters to transform them\ninto radiances. Level-1C products are resampled with a constant Ground Sampling Distance (GSD) of 10, 20 and 60\nmeters depending on the native resolution of the different spectral bands. In Level-1C  products, pixel\ncoordinates refer to the upper left corner of the pixel. Level-1C products will additionally include Cloud Masks\nand ECMWF data (total column of ozone, total column of water vapour and mean sea level pressure).\n",
           "acquisition": {
            "beginViewingDate": 1607856281024,
            "centerViewingDate": 1607856281024,
            "endViewingDate": 1607856281024,
            "mission": "Sentinel-2",
            "missionCode": "S2A",
            "missionId": "A",
            "missionName": "Sentinel-2A",
            "sensorId": "MSI",
            "sensorMode": "INS-NOBS"
           },
           "archive": {
            "filename": "S2A_MSIL1C_20201213T104441_N0209_R008_T31TFH_20201213T125210.SAFE",
            "format": "SAFE",
            "offLine": false,
            "onLine": false,
            "size": 456
           },
           "attachments": [],
           "attitude": {},
           "bands": [
            {
             "center_wavelength": 0.4439,
             "common_name": "coastal",
             "full_width_half_max": 0.027,
             "gsd": 60,
             "name": "B01"
            },
            {
             "center_wavelength": 0.4966,
             "common_name": "blue",
             "full_width_half_max": 0.098,
             "gsd": 10,
             "name": "B02"
            },
            {
             "center_wavelength": 0.56,
             "common_name": "green",
             "full_width_half_max": 0.045,
             "gsd": 10,
             "name": "B03"
            },
            {
             "center_wavelength": 0.6645,
             "common_name": "red",
             "full_width_half_max": 0.038,
             "gsd": 10,
             "name": "B04"
            },
            {
             "center_wavelength": 0.7039,
             "full_width_half_max": 0.019,
             "gsd": 20,
             "name": "B05"
            },
            {
             "center_wavelength": 0.7402,
             "full_width_half_max": 0.018,
             "gsd": 20,
             "name": "B06"
            },
            {
             "center_wavelength": 0.7825,
             "full_width_half_max": 0.028,
             "gsd": 20,
             "name": "B07"
            },
            {
             "center_wavelength": 0.8351,
             "common_name": "nir",
             "full_width_half_max": 0.145,
             "gsd": 10,
             "name": "B08"
            },
            {
             "center_wavelength": 0.8648,
             "full_width_half_max": 0.033,
             "gsd": 20,
             "name": "B8A"
            },
            {
             "center_wavelength": 0.945,
             "full_width_half_max": 0.026,
             "gsd": 60,
             "name": "B09"
            },
            {
             "center_wavelength": 0.13735,
             "common_name": "cirrus",
             "full_width_half_max": 0.075,
             "gsd": 60,
             "name": "B10"
            },
            {
             "center_wavelength": 0.16137,
             "common_name": "swir16",
             "full_width_half_max": 0.075,
             "gsd": 20,
             "name": "B11"
            },
            {
             "center_wavelength": 0.22024,
             "common_name": "swir22",
             "full_width_half_max": 0.242,
             "gsd": 20,
             "name": "B12"
            }
           ],
           "cloudCover": 3.4602,
           "completionTimeFromAscendingNode": "2020-12-13T10:44:41.024000+00:00",
           "contentDescription": {
            "cloudCoverPercentage": 3.4602
           },
           "creationDate": "2020-12-13T14:43:40.899000+00:00",
           "downloadLink": "https://sobloo.eu/api/v1/services/download/d6c79167-a555-4be2-8366-f69cf78f36a1",
           "enrichment": {
            "geonames": [
             {
              "name": "France",
              "states": [
               {
                "counties": [
                 {
                  "cities": [
                   {
                    "name": "Arles"
                   },
                   {
                    "name": "Marseille"
                   },
                   {
                    "name": "Istres"
                   }
                  ],
                  "name": "Bouches-du-Rhône",
                  "villages": [
                   {
                    "name": "Port-Saint-Louis-du-Rhône"
                   },
                   {
                    "name": "Arles"
                   },
                   {
                    "name": "Sausset-les-Pins"
                   },
                   {
                    "name": "Martigues"
                   },
                   {
                    "name": "Ensuès-la-Redonne"
                   },
                   {
                    "name": "Carry-le-Rouet"
                   }
                  ]
                 }
                ],
                "name": "Provence-Alpes-Côte d'Azur"
               }
              ]
             }
            ],
            "naturallanguage": {
             "search_cloud_string": "cloud:partly_cloudy",
             "search_date_string": "2020 December 13 10: 10:44 10:44:41",
             "search_incidence_angle_string": "incidence:?",
             "search_quality_string": "quality:?"
            }
           },
           "eodag_product_type": "S2_MSI_L1C",
           "eodag_provider": "sobloo",
           "eodag_search_intersection": {
            "coordinates": [
             [
              [
               4.222296247726879,
               42.763146
              ],
              [
               4.233812137762024,
               43.346200009839855
              ],
              [
               4.570313,
               43.34057641309353
              ],
              [
               4.570313,
               42.763146
              ],
              [
               4.222296247726879,
               42.763146
              ]
             ]
            ],
            "type": "Polygon"
           },
           "identification": {
            "collection": "Sentinel-2",
            "dataset": {},
            "externalId": "S2A_MSIL1C_20201213T104441_N0209_R008_T31TFH_20201213T125210",
            "hvTileId": "TH31F",
            "profile": "Image",
            "tileId": "31TFH",
            "type": "S2MSI1C"
           },
           "illumination": {},
           "instrument": "MSI",
           "license": "proprietary",
           "missionStartDate": "2015-06-23T00:00:00Z",
           "orbit": {
            "direction": "DESCENDING",
            "number": 28605,
            "relativeNumber": 8
           },
           "orbitDirection": "DESCENDING",
           "orbitNumber": 28605,
           "platform": "Sentinel-2",
           "platformSerialIdentifier": "S2A",
           "processingLevel": "Level-1C",
           "productType": "S2MSI1C",
           "production": {
            "baseline": "02.09",
            "levelCode": "Level-1C",
            "ongoing": false
           },
           "provider": {},
           "quality": {
            "qualified": false
           },
           "quicklook": "https://sobloo.eu/api/v1/services/quicklook/d6c79167-a555-4be2-8366-f69cf78f36a1",
           "sensorMode": "INS-NOBS",
           "sensorType": "OPTICAL",
           "spatialCoverage": {
            "geometry": {
             "centerPoint": {
              "lat": 42.87858766243801,
              "lon": 4.664142258171267
             },
             "geographicBoundingPolygon": {
              "coordinates": [
               [
                [
                 4.902813648331953,
                 42.34634508023791
                ],
                [
                 4.946741093893181,
                 42.46169693798745
                ],
                [
                 5.002429498355874,
                 42.60759578612584
                ],
                [
                 5.058168927483636,
                 42.75348120792216
                ],
                [
                 5.113991425116614,
                 42.89928301671317
                ],
                [
                 5.170013583845397,
                 43.045083973556274
                ],
                [
                 5.226212675091086,
                 43.1908671999523
                ],
                [
                 5.279905467767612,
                 43.32871771571482
                ],
                [
                 4.233812137762024,
                 43.346200009839855
                ],
                [
                 4.214287134177919,
                 42.35764145317536
                ],
                [
                 4.902813648331953,
                 42.34634508023791
                ]
               ]
              ],
              "type": "Polygon"
             },
             "global": false
            },
            "verticality": {}
           },
           "startTimeFromAscendingNode": "2020-12-13T10:44:41.024000+00:00",
           "state": {
            "insertionDate": 1607870620899,
            "resources": {
             "quicklook": true,
             "thumbnail": true
            },
            "services": {
             "download": "internal",
             "wcs": false,
             "wms": false,
             "wmts": false
            }
           },
           "storageStatus": "ONLINE",
           "target": {},
           "timeStamp": 1607856281024,
           "title": "S2A_MSIL1C_20201213T104441_N0209_R008_T31TFH_20201213T125210",
           "transmission": {},
           "uid": "d6c79167-a555-4be2-8366-f69cf78f36a1",
           "visibility": {
            "deleted": false
           }
          },
          "type": "Feature"
         },
         {
          "geometry": {
           "coordinates": [
            [
             [
              4.333014608804459,
              42.35632239007374
             ],
             [
              4.354447329980782,
              43.34483481646455
             ],
             [
              2.999753209473979,
              43.35285539234588
             ],
             [
              2.999757116098431,
              42.36407192041621
             ],
             [
              4.333014608804459,
              42.35632239007374
             ]
            ]
           ],
           "type": "Polygon"
          },
          "id": "S2A_MSIL1C_20201213T104441_N0209_R008_T31TEH_20201213T125210",
          "properties": {
           "abstract": "The Level-1C product is composed of 100x100 km2 tiles (ortho-images in UTM/WGS84 projection). It results from\nusing a Digital Elevation Model (DEM) to project the image in cartographic geometry. Per-pixel radiometric\nmeasurements are provided in Top Of Atmosphere (TOA) reflectances along with the parameters to transform them\ninto radiances. Level-1C products are resampled with a constant Ground Sampling Distance (GSD) of 10, 20 and 60\nmeters depending on the native resolution of the different spectral bands. In Level-1C  products, pixel\ncoordinates refer to the upper left corner of the pixel. Level-1C products will additionally include Cloud Masks\nand ECMWF data (total column of ozone, total column of water vapour and mean sea level pressure).\n",
           "acquisition": {
            "beginViewingDate": 1607856281024,
            "centerViewingDate": 1607856281024,
            "endViewingDate": 1607856281024,
            "mission": "Sentinel-2",
            "missionCode": "S2A",
            "missionId": "A",
            "missionName": "Sentinel-2A",
            "sensorId": "MSI",
            "sensorMode": "INS-NOBS"
           },
           "archive": {
            "filename": "S2A_MSIL1C_20201213T104441_N0209_R008_T31TEH_20201213T125210.SAFE",
            "format": "SAFE",
            "offLine": false,
            "onLine": false,
            "size": 652
           },
           "attachments": [],
           "attitude": {},
           "bands": [
            {
             "center_wavelength": 0.4439,
             "common_name": "coastal",
             "full_width_half_max": 0.027,
             "gsd": 60,
             "name": "B01"
            },
            {
             "center_wavelength": 0.4966,
             "common_name": "blue",
             "full_width_half_max": 0.098,
             "gsd": 10,
             "name": "B02"
            },
            {
             "center_wavelength": 0.56,
             "common_name": "green",
             "full_width_half_max": 0.045,
             "gsd": 10,
             "name": "B03"
            },
            {
             "center_wavelength": 0.6645,
             "common_name": "red",
             "full_width_half_max": 0.038,
             "gsd": 10,
             "name": "B04"
            },
            {
             "center_wavelength": 0.7039,
             "full_width_half_max": 0.019,
             "gsd": 20,
             "name": "B05"
            },
            {
             "center_wavelength": 0.7402,
             "full_width_half_max": 0.018,
             "gsd": 20,
             "name": "B06"
            },
            {
             "center_wavelength": 0.7825,
             "full_width_half_max": 0.028,
             "gsd": 20,
             "name": "B07"
            },
            {
             "center_wavelength": 0.8351,
             "common_name": "nir",
             "full_width_half_max": 0.145,
             "gsd": 10,
             "name": "B08"
            },
            {
             "center_wavelength": 0.8648,
             "full_width_half_max": 0.033,
             "gsd": 20,
             "name": "B8A"
            },
            {
             "center_wavelength": 0.945,
             "full_width_half_max": 0.026,
             "gsd": 60,
             "name": "B09"
            },
            {
             "center_wavelength": 0.13735,
             "common_name": "cirrus",
             "full_width_half_max": 0.075,
             "gsd": 60,
             "name": "B10"
            },
            {
             "center_wavelength": 0.16137,
             "common_name": "swir16",
             "full_width_half_max": 0.075,
             "gsd": 20,
             "name": "B11"
            },
            {
             "center_wavelength": 0.22024,
             "common_name": "swir22",
             "full_width_half_max": 0.242,
             "gsd": 20,
             "name": "B12"
            }
           ],
           "cloudCover": 0.7837,
           "completionTimeFromAscendingNode": "2020-12-13T10:44:41.024000+00:00",
           "contentDescription": {
            "cloudCoverPercentage": 0.7837
           },
           "creationDate": "2020-12-13T14:47:47.963000+00:00",
           "downloadLink": "https://sobloo.eu/api/v1/services/download/80b4f506-8511-4cb7-9eb9-d6e1622a3611",
           "enrichment": {
            "geonames": [
             {
              "name": "France",
              "states": [
               {
                "counties": [
                 {
                  "cities": [
                   {
                    "name": "Narbonne"
                   }
                  ],
                  "name": "Aude",
                  "villages": [
                   {
                    "name": "Ouveillan"
                   },
                   {
                    "name": "La Palme"
                   },
                   {
                    "name": "Vinassan"
                   },
                   {
                    "name": "Bages"
                   },
                   {
                    "name": "Salles-d'Aude"
                   },
                   {
                    "name": "Armissan"
                   },
                   {
                    "name": "Leucate"
                   },
                   {
                    "name": "Coursan"
                   },
                   {
                    "name": "Peyriac-de-Mer"
                   },
                   {
                    "name": "Narbonne"
                   },
                   {
                    "name": "Gruissan"
                   },
                   {
                    "name": "Fleury"
                   },
                   {
                    "name": "Cuxac-d'Aude"
                   },
                   {
                    "name": "Fitou"
                   },
                   {
                    "name": "Port-la-Nouvelle"
                   },
                   {
                    "name": "Sigean"
                   }
                  ]
                 },
                 {
                  "cities": [
                   {
                    "name": "Perpignan"
                   },
                   {
                    "name": "Céret"
                   }
                  ],
                  "name": "Pyrénées-Orientales",
                  "villages": [
                   {
                    "name": "Canet-en-Roussillon"
                   },
                   {
                    "name": "Cerbère"
                   },
                   {
                    "name": "Saint-André"
                   },
                   {
                    "name": "Saint-Cyprien"
                   },
                   {
                    "name": "Sorède"
                   },
                   {
                    "name": "Saint-Hippolyte"
                   },
                   {
                    "name": "Collioure"
                   },
                   {
                    "name": "Salses-le-Château"
                   },
                   {
                    "name": "Saint-Nazaire"
                   },
                   {
                    "name": "Le Barcarès"
                   },
                   {
                    "name": "Alénya"
                   },
                   {
                    "name": "Saint-Laurent-de-la-Salanque"
                   },
                   {
                    "name": "Sainte-Marie"
                   },
                   {
                    "name": "Banyuls-sur-Mer"
                   },
                   {
                    "name": "Port-Vendres"
                   },
                   {
                    "name": "Elne"
                   },
                   {
                    "name": "Latour-Bas-Elne"
                   },
                   {
                    "name": "Argelès-sur-Mer"
                   },
                   {
                    "name": "Torreilles"
                   }
                  ]
                 },
                 {
                  "cities": [
                   {
                    "name": "Béziers"
                   },
                   {
                    "name": "Montpellier"
                   }
                  ],
                  "name": "Hérault",
                  "villages": [
                   {
                    "name": "Bessan"
                   },
                   {
                    "name": "Portiragnes"
                   },
                   {
                    "name": "Florensac"
                   },
                   {
                    "name": "Vendres"
                   },
                   {
                    "name": "Montblanc"
                   },
                   {
                    "name": "Maraussan"
                   },
                   {
                    "name": "Sauvian"
                   },
                   {
                    "name": "Agde"
                   },
                   {
                    "name": "Villeneuve-lès-Béziers"
                   },
                   {
                    "name": "Nissan-lez-Enserune"
                   },
                   {
                    "name": "Sérignan"
                   },
                   {
                    "name": "Puisserguier"
                   },
                   {
                    "name": "Béziers"
                   },
                   {
                    "name": "Lespignan"
                   },
                   {
                    "name": "Montady"
                   },
                   {
                    "name": "Vias"
                   },
                   {
                    "name": "Valras-Plage"
                   },
                   {
                    "name": "Cers"
                   },
                   {
                    "name": "Poilhes"
                   },
                   {
                    "name": "Capestang"
                   },
                   {
                    "name": "Montels"
                   },
                   {
                    "name": "Quarante"
                   },
                   {
                    "name": "Colombiers"
                   },
                   {
                    "name": "Sète"
                   },
                   {
                    "name": "Marseillan"
                   },
                   {
                    "name": "Maureilhan"
                   }
                  ]
                 }
                ],
                "name": "Occitanie"
               }
              ]
             },
             {
              "name": "Spain",
              "states": [
               {
                "counties": [
                 {
                  "cities": [
                   {
                    "name": "Upper Empordà"
                   }
                  ],
                  "name": "Girona",
                  "villages": [
                   {
                    "name": "Vilamaniscle"
                   },
                   {
                    "name": "Colera"
                   },
                   {
                    "name": "Mollet de Peralada"
                   },
                   {
                    "name": "Espolla"
                   },
                   {
                    "name": "Garriguella"
                   },
                   {
                    "name": "Llançà"
                   },
                   {
                    "name": "Portbou"
                   },
                   {
                    "name": "Rabós"
                   }
                  ]
                 }
                ],
                "name": "Catalonia"
               }
              ]
             }
            ],
            "naturallanguage": {
             "search_cloud_string": "cloud:partly_cloudy",
             "search_date_string": "2020 December 13 10: 10:44 10:44:41",
             "search_incidence_angle_string": "incidence:?",
             "search_quality_string": "quality:?"
            }
           },
           "eodag_product_type": "S2_MSI_L1C",
           "eodag_provider": "sobloo",
           "eodag_search_intersection": {
            "coordinates": [
             [
              [
               2.9997555393805735,
               42.763146
              ],
              [
               2.999753209473979,
               43.35285539234588
              ],
              [
               4.354447329980782,
               43.34483481646455
              ],
              [
               4.3418352738428645,
               42.763146
              ],
              [
               2.9997555393805735,
               42.763146
              ]
             ]
            ],
            "type": "Polygon"
           },
           "identification": {
            "collection": "Sentinel-2",
            "dataset": {},
            "externalId": "S2A_MSIL1C_20201213T104441_N0209_R008_T31TEH_20201213T125210",
            "hvTileId": "TH31E",
            "profile": "Image",
            "tileId": "31TEH",
            "type": "S2MSI1C"
           },
           "illumination": {},
           "instrument": "MSI",
           "license": "proprietary",
           "missionStartDate": "2015-06-23T00:00:00Z",
           "orbit": {
            "direction": "DESCENDING",
            "number": 28605,
            "relativeNumber": 8
           },
           "orbitDirection": "DESCENDING",
           "orbitNumber": 28605,
           "platform": "Sentinel-2",
           "platformSerialIdentifier": "S2A",
           "processingLevel": "Level-1C",
           "productType": "S2MSI1C",
           "production": {
            "baseline": "02.09",
            "levelCode": "Level-1C",
            "ongoing": false
           },
           "provider": {},
           "quality": {
            "qualified": false
           },
           "quicklook": "https://sobloo.eu/api/v1/services/quicklook/80b4f506-8511-4cb7-9eb9-d6e1622a3611",
           "sensorMode": "INS-NOBS",
           "sensorType": "OPTICAL",
           "spatialCoverage": {
            "geometry": {
             "centerPoint": {
              "lat": 42.85583541388228,
              "lon": 3.671740851920556
             },
             "geographicBoundingPolygon": {
              "coordinates": [
               [
                [
                 4.333014608804459,
                 42.35632239007374
                ],
                [
                 4.354447329980782,
                 43.34483481646455
                ],
                [
                 2.999753209473979,
                 43.35285539234588
                ],
                [
                 2.999757116098431,
                 42.36407192041621
                ],
                [
                 4.333014608804459,
                 42.35632239007374
                ]
               ]
              ],
              "type": "Polygon"
             },
             "global": false
            },
            "verticality": {}
           },
           "startTimeFromAscendingNode": "2020-12-13T10:44:41.024000+00:00",
           "state": {
            "insertionDate": 1607870867963,
            "resources": {
             "quicklook": true,
             "thumbnail": true
            },
            "services": {
             "download": "internal",
             "wcs": false,
             "wms": false,
             "wmts": false
            }
           },
           "storageStatus": "ONLINE",
           "target": {},
           "timeStamp": 1607856281024,
           "title": "S2A_MSIL1C_20201213T104441_N0209_R008_T31TEH_20201213T125210",
           "transmission": {},
           "uid": "80b4f506-8511-4cb7-9eb9-d6e1622a3611",
           "visibility": {
            "deleted": false
           }
          },
          "type": "Feature"
         },
         {
          "geometry": {
           "coordinates": [
            [
             [
              5.706254333045142,
              45.93349650488509
             ],
             [
              5.755584916064226,
              46.920536388192055
             ],
             [
              4.314035280374384,
              46.94616825397537
             ],
             [
              4.290484068727271,
              45.95826451839171
             ],
             [
              5.706254333045142,
              45.93349650488509
             ]
            ]
           ],
           "type": "Polygon"
          },
          "id": "S2A_MSIL1C_20201213T104441_N0209_R008_T31TFM_20201213T125210",
          "properties": {
           "abstract": "The Level-1C product is composed of 100x100 km2 tiles (ortho-images in UTM/WGS84 projection). It results from\nusing a Digital Elevation Model (DEM) to project the image in cartographic geometry. Per-pixel radiometric\nmeasurements are provided in Top Of Atmosphere (TOA) reflectances along with the parameters to transform them\ninto radiances. Level-1C products are resampled with a constant Ground Sampling Distance (GSD) of 10, 20 and 60\nmeters depending on the native resolution of the different spectral bands. In Level-1C  products, pixel\ncoordinates refer to the upper left corner of the pixel. Level-1C products will additionally include Cloud Masks\nand ECMWF data (total column of ozone, total column of water vapour and mean sea level pressure).\n",
           "acquisition": {
            "beginViewingDate": 1607856281024,
            "centerViewingDate": 1607856281024,
            "endViewingDate": 1607856281024,
            "mission": "Sentinel-2",
            "missionCode": "S2A",
            "missionId": "A",
            "missionName": "Sentinel-2A",
            "sensorId": "MSI",
            "sensorMode": "INS-NOBS"
           },
           "archive": {
            "filename": "S2A_MSIL1C_20201213T104441_N0209_R008_T31TFM_20201213T125210.SAFE",
            "format": "SAFE",
            "offLine": false,
            "onLine": false,
            "size": 807
           },
           "attachments": [],
           "attitude": {},
           "bands": [
            {
             "center_wavelength": 0.4439,
             "common_name": "coastal",
             "full_width_half_max": 0.027,
             "gsd": 60,
             "name": "B01"
            },
            {
             "center_wavelength": 0.4966,
             "common_name": "blue",
             "full_width_half_max": 0.098,
             "gsd": 10,
             "name": "B02"
            },
            {
             "center_wavelength": 0.56,
             "common_name": "green",
             "full_width_half_max": 0.045,
             "gsd": 10,
             "name": "B03"
            },
            {
             "center_wavelength": 0.6645,
             "common_name": "red",
             "full_width_half_max": 0.038,
             "gsd": 10,
             "name": "B04"
            },
            {
             "center_wavelength": 0.7039,
             "full_width_half_max": 0.019,
             "gsd": 20,
             "name": "B05"
            },
            {
             "center_wavelength": 0.7402,
             "full_width_half_max": 0.018,
             "gsd": 20,
             "name": "B06"
            },
            {
             "center_wavelength": 0.7825,
             "full_width_half_max": 0.028,
             "gsd": 20,
             "name": "B07"
            },
            {
             "center_wavelength": 0.8351,
             "common_name": "nir",
             "full_width_half_max": 0.145,
             "gsd": 10,
             "name": "B08"
            },
            {
             "center_wavelength": 0.8648,
             "full_width_half_max": 0.033,
             "gsd": 20,
             "name": "B8A"
            },
            {
             "center_wavelength": 0.945,
             "full_width_half_max": 0.026,
             "gsd": 60,
             "name": "B09"
            },
            {
             "center_wavelength": 0.13735,
             "common_name": "cirrus",
             "full_width_half_max": 0.075,
             "gsd": 60,
             "name": "B10"
            },
            {
             "center_wavelength": 0.16137,
             "common_name": "swir16",
             "full_width_half_max": 0.075,
             "gsd": 20,
             "name": "B11"
            },
            {
             "center_wavelength": 0.22024,
             "common_name": "swir22",
             "full_width_half_max": 0.242,
             "gsd": 20,
             "name": "B12"
            }
           ],
           "cloudCover": 1.4103,
           "completionTimeFromAscendingNode": "2020-12-13T10:44:41.024000+00:00",
           "contentDescription": {
            "cloudCoverPercentage": 1.4103
           },
           "creationDate": "2020-12-13T14:49:32.823000+00:00",
           "downloadLink": "https://sobloo.eu/api/v1/services/download/7fb4a953-9bdb-4f3b-bda9-03d1d814abf9",
           "enrichment": {
            "geonames": [
             {
              "name": "France",
              "states": [
               {
                "counties": [
                 {
                  "cities": [
                   {
                    "name": "Nantua"
                   },
                   {
                    "name": "Belley"
                   },
                   {
                    "name": "Bourg-en-Bresse"
                   }
                  ],
                  "name": "Ain",
                  "villages": [
                   {
                    "name": "Saint-Bénigne"
                   },
                   {
                    "name": "Perrex"
                   },
                   {
                    "name": "Chalamont"
                   },
                   {
                    "name": "Vescours"
                   },
                   {
                    "name": "Buellas"
                   },
                   {
                    "name": "Chevroux"
                   },
                   {
                    "name": "Izernore"
                   },
                   {
                    "name": "Laiz"
                   },
                   {
                    "name": "Frans"
                   },
                   {
                    "name": "Montracol"
                   },
                   {
                    "name": "Le Poizat-Lalleyriat"
                   }
                  ]
                 },
                 {
                  "name": "Rhône"
                 },
                 {
                  "name": "Saint-Vincent-de-Reins",
                  "villages": [
                   {
                    "name": "Saint-Vincent-de-Reins"
                   }
                  ]
                 },
                 {
                  "name": "Quincié-en-Beaujolais",
                  "villages": [
                   {
                    "name": "Quincié-en-Beaujolais"
                   }
                  ]
                 },
                 {
                  "name": "Saint-Nizier-d'Azergues",
                  "villages": [
                   {
                    "name": "Saint-Nizier-d'Azergues"
                   }
                  ]
                 },
                 {
                  "cities": [
                   {
                    "name": "Villefranche-sur-Saône"
                   }
                  ],
                  "name": "Villefranche-sur-Saône"
                 },
                 {
                  "name": "Meaux-la-Montagne",
                  "villages": [
                   {
                    "name": "Meaux-la-Montagne"
                   }
                  ]
                 },
                 {
                  "name": "Rivolet",
                  "villages": [
                   {
                    "name": "Rivolet"
                   }
                  ]
                 },
                 {
                  "name": "Ronno",
                  "villages": [
                   {
                    "name": "Ronno"
                   }
                  ]
                 },
                 {
                  "name": "Saint-Laurent-d'Oingt",
                  "villages": [
                   {
                    "name": "Saint-Laurent-d'Oingt"
                   }
                  ]
                 },
                 {
                  "name": "Ternand",
                  "villages": [
                   {
                    "name": "Ternand"
                   }
                  ]
                 },
                 {
                  "cities": [
                   {
                    "name": "Roanne"
                   }
                  ],
                  "name": "Loire",
                  "villages": [
                   {
                    "name": "La Gresle"
                   },
                   {
                    "name": "Saint-Victor-sur-Rhins"
                   }
                  ]
                 },
                 {
                  "name": "Claveisolles",
                  "villages": [
                   {
                    "name": "Claveisolles"
                   }
                  ]
                 },
                 {
                  "name": "Saint-Just-d'Avray",
                  "villages": [
                   {
                    "name": "Saint-Just-d'Avray"
                   }
                  ]
                 }
                ],
                "name": "Auvergne-Rhône-Alpes"
               },
               {
                "counties": [
                 {
                  "cities": [
                   {
                    "name": "Dole"
                   },
                   {
                    "name": "Saint-Claude"
                   },
                   {
                    "name": "Lons-le-Saunier"
                   }
                  ],
                  "name": "Jura",
                  "villages": [
                   {
                    "name": "Biefmorin"
                   },
                   {
                    "name": "Vosbles"
                   },
                   {
                    "name": "Nevy-sur-Seille"
                   },
                   {
                    "name": "Chapelle-Voland"
                   },
                   {
                    "name": "Baume-les-Messieurs"
                   },
                   {
                    "name": "La Ferté"
                   },
                   {
                    "name": "Le Chateley"
                   },
                   {
                    "name": "Brainans"
                   },
                   {
                    "name": "Meussia"
                   },
                   {
                    "name": "Sellières"
                   },
                   {
                    "name": "Chamole"
                   },
                   {
                    "name": "Fontainebrux"
                   },
                   {
                    "name": "Chevreaux"
                   },
                   {
                    "name": "Mérona"
                   },
                   {
                    "name": "Hauteroche"
                   }
                  ]
                 },
                 {
                  "cities": [
                   {
                    "name": "Beaune"
                   }
                  ],
                  "name": "Côte-d'Or",
                  "villages": [
                   {
                    "name": "Nolay"
                   }
                  ]
                 },
                 {
                  "cities": [
                   {
                    "name": "Louhans"
                   },
                   {
                    "name": "Autun"
                   },
                   {
                    "name": "Charolles"
                   },
                   {
                    "name": "Chalon-sur-Saône"
                   },
                   {
                    "name": "Mâcon"
                   }
                  ],
                  "name": "Saône-et-Loire",
                  "villages": [
                   {
                    "name": "Tramayes"
                   },
                   {
                    "name": "Laives"
                   },
                   {
                    "name": "Saint-Ambreuil"
                   },
                   {
                    "name": "Saint-Vallerin"
                   },
                   {
                    "name": "Sens-sur-Seille"
                   },
                   {
                    "name": "Sainte-Croix"
                   },
                   {
                    "name": "Bragny-sur-Saône"
                   },
                   {
                    "name": "La Chapelle-de-Bragny"
                   },
                   {
                    "name": "Dommartin-lès-Cuiseaux"
                   },
                   {
                    "name": "Fley"
                   },
                   {
                    "name": "Saint-Berain-sous-Sanvignes"
                   },
                   {
                    "name": "Bouhans"
                   },
                   {
                    "name": "Saint-Sernin-du-Bois"
                   },
                   {
                    "name": "La Vineuse"
                   },
                   {
                    "name": "Auxy"
                   },
                   {
                    "name": "Saint-Usuge"
                   },
                   {
                    "name": "La Charmée"
                   },
                   {
                    "name": "Saint-André-le-Désert"
                   },
                   {
                    "name": "Le Miroir"
                   },
                   {
                    "name": "Serrigny-en-Bresse"
                   },
                   {
                    "name": "Saint-Martin-de-Commune"
                   },
                   {
                    "name": "Lessard-en-Bresse"
                   },
                   {
                    "name": "Charmoy"
                   },
                   {
                    "name": "Essertenne"
                   },
                   {
                    "name": "Huilly-sur-Seille"
                   },
                   {
                    "name": "Antully"
                   },
                   {
                    "name": "Lalheue"
                   },
                   {
                    "name": "Gergy"
                   },
                   {
                    "name": "Torpes"
                   },
                   {
                    "name": "Chapaize"
                   },
                   {
                    "name": "Sagy"
                   },
                   {
                    "name": "Saint-Jean-de-Trézy"
                   },
                   {
                    "name": "Torcy"
                   },
                   {
                    "name": "Diconne"
                   },
                   {
                    "name": "Suin"
                   },
                   {
                    "name": "Saint-Romain-sous-Gourdon"
                   },
                   {
                    "name": "Givry"
                   }
                  ]
                 }
                ],
                "name": "Bourgogne-Franche-Comté"
               }
              ]
             }
            ],
            "naturallanguage": {
             "search_cloud_string": "cloud:partly_cloudy",
             "search_date_string": "2020 December 13 10: 10:44 10:44:41",
             "search_incidence_angle_string": "incidence:?",
             "search_quality_string": "quality:?"
            }
           },
           "eodag_product_type": "S2_MSI_L1C",
           "eodag_provider": "sobloo",
           "eodag_search_intersection": {
            "coordinates": [
             [
              [
               4.570313,
               45.95336908660875
              ],
              [
               4.290484068727271,
               45.95826451839171
              ],
              [
               4.3094759305127415,
               46.754917
              ],
              [
               4.570313,
               46.754917
              ],
              [
               4.570313,
               45.95336908660875
              ]
             ]
            ],
            "type": "Polygon"
           },
           "identification": {
            "collection": "Sentinel-2",
            "dataset": {},
            "externalId": "S2A_MSIL1C_20201213T104441_N0209_R008_T31TFM_20201213T125210",
            "hvTileId": "TM31F",
            "profile": "Image",
            "tileId": "31TFM",
            "type": "S2MSI1C"
           },
           "illumination": {},
           "instrument": "MSI",
           "license": "proprietary",
           "missionStartDate": "2015-06-23T00:00:00Z",
           "orbit": {
            "direction": "DESCENDING",
            "number": 28605,
            "relativeNumber": 8
           },
           "orbitDirection": "DESCENDING",
           "orbitNumber": 28605,
           "platform": "Sentinel-2",
           "platformSerialIdentifier": "S2A",
           "processingLevel": "Level-1C",
           "productType": "S2MSI1C",
           "production": {
            "baseline": "02.09",
            "levelCode": "Level-1C",
            "ongoing": false
           },
           "provider": {},
           "quality": {
            "qualified": false
           },
           "quicklook": "https://sobloo.eu/api/v1/services/quicklook/7fb4a953-9bdb-4f3b-bda9-03d1d814abf9",
           "sensorMode": "INS-NOBS",
           "sensorType": "OPTICAL",
           "spatialCoverage": {
            "geometry": {
             "centerPoint": {
              "lat": 46.44110301975939,
              "lon": 5.016595182655351
             },
             "geographicBoundingPolygon": {
              "coordinates": [
               [
                [
                 5.706254333045142,
                 45.93349650488509
                ],
                [
                 5.755584916064226,
                 46.920536388192055
                ],
                [
                 4.314035280374384,
                 46.94616825397537
                ],
                [
                 4.290484068727271,
                 45.95826451839171
                ],
                [
                 5.706254333045142,
                 45.93349650488509
                ]
               ]
              ],
              "type": "Polygon"
             },
             "global": false
            },
            "verticality": {}
           },
           "startTimeFromAscendingNode": "2020-12-13T10:44:41.024000+00:00",
           "state": {
            "insertionDate": 1607870972823,
            "resources": {
             "quicklook": true,
             "thumbnail": true
            },
            "services": {
             "download": "internal",
             "wcs": false,
             "wms": false,
             "wmts": false
            }
           },
           "storageStatus": "ONLINE",
           "target": {},
           "timeStamp": 1607856281024,
           "title": "S2A_MSIL1C_20201213T104441_N0209_R008_T31TFM_20201213T125210",
           "transmission": {},
           "uid": "7fb4a953-9bdb-4f3b-bda9-03d1d814abf9",
           "visibility": {
            "deleted": false
           }
          },
          "type": "Feature"
         },
         {
          "geometry": {
           "coordinates": [
            [
             [
              -2.304016,
              43.2606750057608
             ],
             [
              -2.2915344,
              43.29259804434461
             ],
             [
              -2.2783203,
              43.32639080745615
             ],
             [
              -2.2217102,
              43.47215058115464
             ],
             [
              -2.1645813,
              43.61786598803912
             ],
             [
              -2.1541748,
              43.64430318640059
             ],
             [
              -2.1076965,
              43.76270285499237
             ],
             [
              -2.0870056,
              43.814833794851154
             ],
             [
              -2.0496216,
              43.909276602705305
             ],
             [
              -1.9916077,
              44.055000981252775
             ],
             [
              -1.933136,
              44.20069400339613
             ],
             [
              -1.9145203,
              44.24688418801781
             ],
             [
              -3.0002441,
              44.25341758107761
             ],
             [
              -3.0002441,
              43.26479037737325
             ],
             [
              -2.304016,
              43.2606750057608
             ]
            ]
           ],
           "type": "Polygon"
          },
          "id": "S2B_MSIL1C_20201217T111359_N0209_R137_T30TWP_20201217T150041",
          "properties": {
           "abstract": "The Level-1C product is composed of 100x100 km2 tiles (ortho-images in UTM/WGS84 projection). It results from\nusing a Digital Elevation Model (DEM) to project the image in cartographic geometry. Per-pixel radiometric\nmeasurements are provided in Top Of Atmosphere (TOA) reflectances along with the parameters to transform them\ninto radiances. Level-1C products are resampled with a constant Ground Sampling Distance (GSD) of 10, 20 and 60\nmeters depending on the native resolution of the different spectral bands. In Level-1C  products, pixel\ncoordinates refer to the upper left corner of the pixel. Level-1C products will additionally include Cloud Masks\nand ECMWF data (total column of ozone, total column of water vapour and mean sea level pressure).\n",
           "acquisition": {
            "beginViewingDate": 1608203639024,
            "centerViewingDate": 1608203639024,
            "endViewingDate": 1608203639024,
            "mission": "Sentinel-2",
            "missionCode": "S2B",
            "missionId": "B",
            "missionName": "Sentinel-2B",
            "sensorId": "MSI",
            "sensorMode": "INS-NOBS"
           },
           "archive": {
            "filename": "S2B_MSIL1C_20201217T111359_N0209_R137_T30TWP_20201217T150041.SAFE",
            "format": "SAFE",
            "offLine": false,
            "onLine": false,
            "size": 394
           },
           "attachments": [],
           "attitude": {},
           "bands": [
            {
             "center_wavelength": 0.4439,
             "common_name": "coastal",
             "full_width_half_max": 0.027,
             "gsd": 60,
             "name": "B01"
            },
            {
             "center_wavelength": 0.4966,
             "common_name": "blue",
             "full_width_half_max": 0.098,
             "gsd": 10,
             "name": "B02"
            },
            {
             "center_wavelength": 0.56,
             "common_name": "green",
             "full_width_half_max": 0.045,
             "gsd": 10,
             "name": "B03"
            },
            {
             "center_wavelength": 0.6645,
             "common_name": "red",
             "full_width_half_max": 0.038,
             "gsd": 10,
             "name": "B04"
            },
            {
             "center_wavelength": 0.7039,
             "full_width_half_max": 0.019,
             "gsd": 20,
             "name": "B05"
            },
            {
             "center_wavelength": 0.7402,
             "full_width_half_max": 0.018,
             "gsd": 20,
             "name": "B06"
            },
            {
             "center_wavelength": 0.7825,
             "full_width_half_max": 0.028,
             "gsd": 20,
             "name": "B07"
            },
            {
             "center_wavelength": 0.8351,
             "common_name": "nir",
             "full_width_half_max": 0.145,
             "gsd": 10,
             "name": "B08"
            },
            {
             "center_wavelength": 0.8648,
             "full_width_half_max": 0.033,
             "gsd": 20,
             "name": "B8A"
            },
            {
             "center_wavelength": 0.945,
             "full_width_half_max": 0.026,
             "gsd": 60,
             "name": "B09"
            },
            {
             "center_wavelength": 0.13735,
             "common_name": "cirrus",
             "full_width_half_max": 0.075,
             "gsd": 60,
             "name": "B10"
            },
            {
             "center_wavelength": 0.16137,
             "common_name": "swir16",
             "full_width_half_max": 0.075,
             "gsd": 20,
             "name": "B11"
            },
            {
             "center_wavelength": 0.22024,
             "common_name": "swir22",
             "full_width_half_max": 0.242,
             "gsd": 20,
             "name": "B12"
            }
           ],
           "cloudCover": 0,
           "completionTimeFromAscendingNode": "2020-12-17T11:13:59.024000+00:00",
           "contentDescription": {
            "cloudCoverPercentage": 0
           },
           "creationDate": "2020-12-17T17:04:21.934000+00:00",
           "downloadLink": "https://sobloo.eu/api/v1/services/download/f61efae2-a5ff-434f-ad33-a6addbbcf994",
           "enrichment": {
            "geonames": [
             {
              "name": "Spain",
              "states": [
               {
                "counties": [
                 {
                  "cities": [
                   {
                    "name": "Debabarrena"
                   }
                  ],
                  "name": "Gipuzkoa",
                  "villages": [
                   {
                    "name": "Deba"
                   },
                   {
                    "name": "Mutriku"
                   },
                   {
                    "name": "Mendaro"
                   }
                  ]
                 },
                 {
                  "name": "Biscay",
                  "villages": [
                   {
                    "name": "Ispaster"
                   },
                   {
                    "name": "Ereño"
                   },
                   {
                    "name": "Gatika"
                   },
                   {
                    "name": "Derio"
                   },
                   {
                    "name": "Etxebarri"
                   },
                   {
                    "name": "Lezama"
                   },
                   {
                    "name": "Arratzu"
                   },
                   {
                    "name": "Amoroto"
                   },
                   {
                    "name": "Gautegiz Arteaga"
                   },
                   {
                    "name": "Errigoiti"
                   },
                   {
                    "name": "Fruiz"
                   },
                   {
                    "name": "Meñaka"
                   },
                   {
                    "name": "Ea"
                   },
                   {
                    "name": "Galdakao"
                   },
                   {
                    "name": "Lekeitio"
                   },
                   {
                    "name": "Gorliz"
                   },
                   {
                    "name": "Bermeo"
                   },
                   {
                    "name": "Laukiz"
                   },
                   {
                    "name": "Elantxobe"
                   },
                   {
                    "name": "Gizaburuaga"
                   },
                   {
                    "name": "Kortezubi"
                   },
                   {
                    "name": "Forua"
                   },
                   {
                    "name": "Urduliz"
                   },
                   {
                    "name": "Morga"
                   },
                   {
                    "name": "Ajangiz"
                   },
                   {
                    "name": "Mendata"
                   },
                   {
                    "name": "Munitibar-Arbatzegi Gerrikaitz"
                   },
                   {
                    "name": "Mungia"
                   },
                   {
                    "name": "Arrieta"
                   },
                   {
                    "name": "Ibarrangelu"
                   },
                   {
                    "name": "Aulesti"
                   },
                   {
                    "name": "Amorebieta-Etxano"
                   },
                   {
                    "name": "Guernica"
                   },
                   {
                    "name": "Bakio"
                   },
                   {
                    "name": "Sestao"
                   },
                   {
                    "name": "Ziortza-Bolibar"
                   },
                   {
                    "name": "Sopelana"
                   },
                   {
                    "name": "Berriatua"
                   },
                   {
                    "name": "Leioa"
                   },
                   {
                    "name": "Etxebarria"
                   },
                   {
                    "name": "Berango"
                   },
                   {
                    "name": "Nabarniz"
                   },
                   {
                    "name": "Sondika"
                   },
                   {
                    "name": "Erandio"
                   },
                   {
                    "name": "Getxo"
                   },
                   {
                    "name": "Markina-Xemein"
                   },
                   {
                    "name": "Busturia"
                   },
                   {
                    "name": "Larrabetzu"
                   },
                   {
                    "name": "Zamudio"
                   },
                   {
                    "name": "Murueta"
                   },
                   {
                    "name": "Mundaka"
                   },
                   {
                    "name": "Lemoiz"
                   },
                   {
                    "name": "Sukarrieta"
                   },
                   {
                    "name": "Mendexa"
                   },
                   {
                    "name": "Loiu"
                   },
                   {
                    "name": "Muxika"
                   },
                   {
                    "name": "Maruri-Jatabe"
                   },
                   {
                    "name": "Gamiz-Fika"
                   },
                   {
                    "name": "Barrika"
                   },
                   {
                    "name": "Plentzia"
                   }
                  ]
                 }
                ],
                "name": "Basque Country"
               }
              ]
             }
            ],
            "naturallanguage": {
             "search_cloud_string": "cloud:clear",
             "search_date_string": "2020 December 17 11: 11:13 11:13:59",
             "search_incidence_angle_string": "incidence:?",
             "search_quality_string": "quality:?"
            }
           },
           "eodag_product_type": "S2_MSI_L1C",
           "eodag_provider": "sobloo",
           "eodag_search_intersection": {
            "coordinates": [
             [
              [
               -1.999512,
               44.24739562949392
              ],
              [
               -1.9145203,
               44.24688418801781
              ],
              [
               -1.933136,
               44.20069400339613
              ],
              [
               -1.9916077,
               44.055000981252775
              ],
              [
               -1.999512,
               44.0351462704791
              ],
              [
               -1.999512,
               44.24739562949392
              ]
             ]
            ],
            "type": "Polygon"
           },
           "identification": {
            "collection": "Sentinel-2",
            "dataset": {},
            "externalId": "S2B_MSIL1C_20201217T111359_N0209_R137_T30TWP_20201217T150041",
            "hvTileId": "TP30W",
            "profile": "Image",
            "tileId": "30TWP",
            "type": "S2MSI1C"
           },
           "illumination": {},
           "instrument": "MSI",
           "license": "proprietary",
           "missionStartDate": "2015-06-23T00:00:00Z",
           "orbit": {
            "direction": "DESCENDING",
            "number": 19754,
            "relativeNumber": 137
           },
           "orbitDirection": "DESCENDING",
           "orbitNumber": 19754,
           "platform": "Sentinel-2",
           "platformSerialIdentifier": "S2B",
           "processingLevel": "Level-1C",
           "productType": "S2MSI1C",
           "production": {
            "baseline": "02.09",
            "levelCode": "Level-1C",
            "ongoing": false
           },
           "provider": {},
           "quality": {
            "qualified": false
           },
           "quicklook": "https://sobloo.eu/api/v1/services/quicklook/f61efae2-a5ff-434f-ad33-a6addbbcf994",
           "sensorMode": "INS-NOBS",
           "sensorType": "OPTICAL",
           "spatialCoverage": {
            "geometry": {
             "centerPoint": {
              "lat": 43.79244323221211,
              "lon": -2.5482777799630987
             },
             "geographicBoundingPolygon": {
              "coordinates": [
               [
                [
                 -2.304016,
                 43.2606750057608
                ],
                [
                 -2.2915344,
                 43.29259804434461
                ],
                [
                 -2.2783203,
                 43.32639080745615
                ],
                [
                 -2.2217102,
                 43.47215058115464
                ],
                [
                 -2.1645813,
                 43.61786598803912
                ],
                [
                 -2.1541748,
                 43.64430318640059
                ],
                [
                 -2.1076965,
                 43.76270285499237
                ],
                [
                 -2.0870056,
                 43.814833794851154
                ],
                [
                 -2.0496216,
                 43.909276602705305
                ],
                [
                 -1.9916077,
                 44.055000981252775
                ],
                [
                 -1.933136,
                 44.20069400339613
                ],
                [
                 -1.9145203,
                 44.24688418801781
                ],
                [
                 -3.0002441,
                 44.25341758107761
                ],
                [
                 -3.0002441,
                 43.26479037737325
                ],
                [
                 -2.304016,
                 43.2606750057608
                ]
               ]
              ],
              "type": "Polygon"
             },
             "global": false
            },
            "verticality": {}
           },
           "startTimeFromAscendingNode": "2020-12-17T11:13:59.024000+00:00",
           "state": {
            "insertionDate": 1608224661934,
            "resources": {
             "quicklook": true,
             "thumbnail": true
            },
            "services": {
             "download": "internal",
             "wcs": false,
             "wms": false,
             "wmts": false
            }
           },
           "storageStatus": "ONLINE",
           "target": {},
           "timeStamp": 1608203639024,
           "title": "S2B_MSIL1C_20201217T111359_N0209_R137_T30TWP_20201217T150041",
           "transmission": {},
           "uid": "f61efae2-a5ff-434f-ad33-a6addbbcf994",
           "visibility": {
            "deleted": false
           }
          },
          "type": "Feature"
         },
         {
          "geometry": {
           "coordinates": [
            [
             [
              -1.2137756,
              45.94959175038978
             ],
             [
              -1.1878662,
              46.01049256524736
             ],
             [
              -1.1256409,
              46.15583751774362
             ],
             [
              -1.0632629,
              46.30115305141368
             ],
             [
              -1.0006714,
              46.44645365821926
             ],
             [
              -0.9383545,
              46.5917278527331
             ],
             [
              -0.9039917,
              46.67142749815447
             ],
             [
              -0.8762512,
              46.73597102798234
             ],
             [
              -0.81362915,
              46.88109388207111
             ],
             [
              -0.80197144,
              46.907814998069206
             ],
             [
              -0.7922363,
              46.93027687092069
             ],
             [
              -1.6859741,
              46.94616825397537
             ],
             [
              -1.7095032,
              45.95826451839171
             ],
             [
              -1.2137756,
              45.94959175038978
             ]
            ]
           ],
           "type": "Polygon"
          },
          "id": "S2B_MSIL1C_20201217T111359_N0209_R137_T30TXS_20201217T132006",
          "properties": {
           "abstract": "The Level-1C product is composed of 100x100 km2 tiles (ortho-images in UTM/WGS84 projection). It results from\nusing a Digital Elevation Model (DEM) to project the image in cartographic geometry. Per-pixel radiometric\nmeasurements are provided in Top Of Atmosphere (TOA) reflectances along with the parameters to transform them\ninto radiances. Level-1C products are resampled with a constant Ground Sampling Distance (GSD) of 10, 20 and 60\nmeters depending on the native resolution of the different spectral bands. In Level-1C  products, pixel\ncoordinates refer to the upper left corner of the pixel. Level-1C products will additionally include Cloud Masks\nand ECMWF data (total column of ozone, total column of water vapour and mean sea level pressure).\n",
           "acquisition": {
            "beginViewingDate": 1608203639024,
            "centerViewingDate": 1608203639024,
            "endViewingDate": 1608203639024,
            "mission": "Sentinel-2",
            "missionCode": "S2B",
            "missionId": "B",
            "missionName": "Sentinel-2B",
            "sensorId": "MSI",
            "sensorMode": "INS-NOBS"
           },
           "archive": {
            "filename": "S2B_MSIL1C_20201217T111359_N0209_R137_T30TXS_20201217T132006.SAFE",
            "format": "SAFE",
            "offLine": false,
            "onLine": false,
            "size": 385
           },
           "attachments": [],
           "attitude": {},
           "bands": [
            {
             "center_wavelength": 0.4439,
             "common_name": "coastal",
             "full_width_half_max": 0.027,
             "gsd": 60,
             "name": "B01"
            },
            {
             "center_wavelength": 0.4966,
             "common_name": "blue",
             "full_width_half_max": 0.098,
             "gsd": 10,
             "name": "B02"
            },
            {
             "center_wavelength": 0.56,
             "common_name": "green",
             "full_width_half_max": 0.045,
             "gsd": 10,
             "name": "B03"
            },
            {
             "center_wavelength": 0.6645,
             "common_name": "red",
             "full_width_half_max": 0.038,
             "gsd": 10,
             "name": "B04"
            },
            {
             "center_wavelength": 0.7039,
             "full_width_half_max": 0.019,
             "gsd": 20,
             "name": "B05"
            },
            {
             "center_wavelength": 0.7402,
             "full_width_half_max": 0.018,
             "gsd": 20,
             "name": "B06"
            },
            {
             "center_wavelength": 0.7825,
             "full_width_half_max": 0.028,
             "gsd": 20,
             "name": "B07"
            },
            {
             "center_wavelength": 0.8351,
             "common_name": "nir",
             "full_width_half_max": 0.145,
             "gsd": 10,
             "name": "B08"
            },
            {
             "center_wavelength": 0.8648,
             "full_width_half_max": 0.033,
             "gsd": 20,
             "name": "B8A"
            },
            {
             "center_wavelength": 0.945,
             "full_width_half_max": 0.026,
             "gsd": 60,
             "name": "B09"
            },
            {
             "center_wavelength": 0.13735,
             "common_name": "cirrus",
             "full_width_half_max": 0.075,
             "gsd": 60,
             "name": "B10"
            },
            {
             "center_wavelength": 0.16137,
             "common_name": "swir16",
             "full_width_half_max": 0.075,
             "gsd": 20,
             "name": "B11"
            },
            {
             "center_wavelength": 0.22024,
             "common_name": "swir22",
             "full_width_half_max": 0.242,
             "gsd": 20,
             "name": "B12"
            }
           ],
           "cloudCover": 9.834,
           "completionTimeFromAscendingNode": "2020-12-17T11:13:59.024000+00:00",
           "contentDescription": {
            "cloudCoverPercentage": 9.834
           },
           "creationDate": "2020-12-17T15:07:13.390000+00:00",
           "downloadLink": "https://sobloo.eu/api/v1/services/download/116fc5b6-40f6-492d-a8b1-57cc83dead39",
           "enrichment": {
            "geonames": [
             {
              "name": "France",
              "states": [
               {
                "counties": [
                 {
                  "cities": [
                   {
                    "name": "Bressuire"
                   }
                  ],
                  "name": "Deux-Sèvres",
                  "villages": [
                   {
                    "name": "Mauléon"
                   }
                  ]
                 },
                 {
                  "cities": [
                   {
                    "name": "Rochefort"
                   }
                  ],
                  "name": "Charente-Maritime",
                  "villages": [
                   {
                    "name": "Île-d'Aix"
                   },
                   {
                    "name": "Saint-Denis-d'Oléron"
                   },
                   {
                    "name": "La Brée-les-Bains"
                   },
                   {
                    "name": "Saint-Pierre-d'Oléron"
                   }
                  ]
                 }
                ],
                "name": "Nouvelle-Aquitaine"
               },
               {
                "counties": [
                 {
                  "cities": [
                   {
                    "name": "Fontenay-le-Comte"
                   },
                   {
                    "name": "Les Sables-d'Olonne"
                   },
                   {
                    "name": "La Roche-sur-Yon"
                   }
                  ],
                  "name": "Vendée",
                  "villages": [
                   {
                    "name": "La Génétouze"
                   },
                   {
                    "name": "Château-d'Olonne"
                   },
                   {
                    "name": "Sainte-Hermine"
                   },
                   {
                    "name": "Sainte-Pexine"
                   },
                   {
                    "name": "Chaillé-les-Marais"
                   },
                   {
                    "name": "Grand'Landes"
                   },
                   {
                    "name": "Saint-Malô-du-Bois"
                   },
                   {
                    "name": "Saint-Juire-Champgillon"
                   },
                   {
                    "name": "Saint-Étienne-de-Brillouet"
                   },
                   {
                    "name": "Saint-Paul-en-Pareds"
                   },
                   {
                    "name": "Sigournais"
                   },
                   {
                    "name": "Avrillé"
                   },
                   {
                    "name": "Saint-Prouant"
                   },
                   {
                    "name": "Fougeré"
                   },
                   {
                    "name": "La Boissière-des-Landes"
                   },
                   {
                    "name": "Nalliers"
                   },
                   {
                    "name": "Sainte-Flaive-des-Loups"
                   },
                   {
                    "name": "Les Herbiers"
                   },
                   {
                    "name": "Nieul-le-Dolent"
                   },
                   {
                    "name": "Le Girouard"
                   },
                   {
                    "name": "Les Lucs-sur-Boulogne"
                   },
                   {
                    "name": "Beaulieu-sous-la-Roche"
                   },
                   {
                    "name": "Le Champ-Saint-Père"
                   },
                   {
                    "name": "Maché"
                   },
                   {
                    "name": "Pouzauges"
                   },
                   {
                    "name": "Mouilleron-le-Captif"
                   },
                   {
                    "name": "Martinet"
                   },
                   {
                    "name": "Saint-Jean-de-Beugné"
                   },
                   {
                    "name": "Sainte-Foy"
                   },
                   {
                    "name": "Jard-sur-Mer"
                   },
                   {
                    "name": "Falleron"
                   },
                   {
                    "name": "La Caillère-Saint-Hilaire"
                   },
                   {
                    "name": "Lairoux"
                   },
                   {
                    "name": "Saint-Valérien"
                   },
                   {
                    "name": "Mallièvre"
                   },
                   {
                    "name": "Treize-Vents"
                   },
                   {
                    "name": "Chambretaud"
                   },
                   {
                    "name": "Bessay"
                   },
                   {
                    "name": "Aubigny-les-Clouzeaux"
                   },
                   {
                    "name": "Montréverd"
                   },
                   {
                    "name": "La Jonchère"
                   },
                   {
                    "name": "Rochetrejoux"
                   },
                   {
                    "name": "Saint-Paul-Mont-Penit"
                   },
                   {
                    "name": "Rosnay"
                   },
                   {
                    "name": "Chasnais"
                   },
                   {
                    "name": "Puyravault"
                   },
                   {
                    "name": "Palluau"
                   },
                   {
                    "name": "Bazoges-en-Pareds"
                   },
                   {
                    "name": "Les Landes-Genusson"
                   },
                   {
                    "name": "Tallud-Sainte-Gemme"
                   },
                   {
                    "name": "Saint-André-Goule-d'Oie"
                   },
                   {
                    "name": "Saint-Martin-Lars-en-Sainte-Hermine"
                   },
                   {
                    "name": "Saint-Denis-la-Chevasse"
                   },
                   {
                    "name": "Saint-Étienne-du-Bois"
                   },
                   {
                    "name": "Les Pineaux"
                   },
                   {
                    "name": "Saint-Laurent-de-la-Salle"
                   },
                   {
                    "name": "Le Poiré-sur-Vie"
                   },
                   {
                    "name": "Saint-Vincent-sur-Jard"
                   },
                   {
                    "name": "Le Boupère"
                   },
                   {
                    "name": "La Copechagnière"
                   },
                   {
                    "name": "Rives-de-l'Yon"
                   },
                   {
                    "name": "Saint-Christophe-du-Ligneron"
                   },
                   {
                    "name": "La Bretonnière-la-Claye"
                   },
                   {
                    "name": "Talmont-Saint-Hilaire"
                   },
                   {
                    "name": "Le Tablier"
                   },
                   {
                    "name": "La Chapelle-Thémer"
                   },
                   {
                    "name": "Saint-Hilaire-le-Vouhis"
                   },
                   {
                    "name": "Saint-Mars-la-Réorthe"
                   },
                   {
                    "name": "La Couture"
                   },
                   {
                    "name": "Saint-Mathurin"
                   },
                   {
                    "name": "Monsireigne"
                   },
                   {
                    "name": "Saint-Hilaire-la-Forêt"
                   },
                   {
                    "name": "Saint-Aubin-la-Plaine"
                   }
                  ]
                 },
                 {
                  "cities": [
                   {
                    "name": "Nantes"
                   }
                  ],
                  "name": "Loire-Atlantique",
                  "villages": [
                   {
                    "name": "Touvois"
                   }
                  ]
                 }
                ],
                "name": "Pays-de-la-Loire"
               }
              ]
             }
            ],
            "naturallanguage": {
             "search_cloud_string": "cloud:partly_cloudy",
             "search_date_string": "2020 December 17 11: 11:13 11:13:59",
             "search_incidence_angle_string": "incidence:?",
             "search_quality_string": "quality:?"
            }
           },
           "eodag_product_type": "S2_MSI_L1C",
           "eodag_provider": "sobloo",
           "eodag_search_intersection": {
            "coordinates": [
             [
              [
               -0.8680758122263912,
               46.754917
              ],
              [
               -0.8762512,
               46.73597102798234
              ],
              [
               -0.9039917,
               46.67142749815447
              ],
              [
               -0.9383545,
               46.5917278527331
              ],
              [
               -1.0006714,
               46.44645365821926
              ],
              [
               -1.0632629,
               46.30115305141368
              ],
              [
               -1.1256409,
               46.15583751774362
              ],
              [
               -1.1878662,
               46.01049256524736
              ],
              [
               -1.2137756,
               45.94959175038978
              ],
              [
               -1.7095032,
               45.95826451839171
              ],
              [
               -1.6905291692014068,
               46.754917
              ],
              [
               -0.8680758122263912,
               46.754917
              ]
             ]
            ],
            "type": "Polygon"
           },
           "identification": {
            "collection": "Sentinel-2",
            "dataset": {},
            "externalId": "S2B_MSIL1C_20201217T111359_N0209_R137_T30TXS_20201217T132006",
            "hvTileId": "TS30X",
            "profile": "Image",
            "tileId": "30TXS",
            "type": "S2MSI1C"
           },
           "illumination": {},
           "instrument": "MSI",
           "license": "proprietary",
           "missionStartDate": "2015-06-23T00:00:00Z",
           "orbit": {
            "direction": "DESCENDING",
            "number": 19754,
            "relativeNumber": 137
           },
           "orbitDirection": "DESCENDING",
           "orbitNumber": 19754,
           "platform": "Sentinel-2",
           "platformSerialIdentifier": "S2B",
           "processingLevel": "Level-1C",
           "productType": "S2MSI1C",
           "production": {
            "baseline": "02.09",
            "levelCode": "Level-1C",
            "ongoing": false
           },
           "provider": {},
           "quality": {
            "qualified": false
           },
           "quicklook": "https://sobloo.eu/api/v1/services/quicklook/116fc5b6-40f6-492d-a8b1-57cc83dead39",
           "sensorMode": "INS-NOBS",
           "sensorType": "OPTICAL",
           "spatialCoverage": {
            "geometry": {
             "centerPoint": {
              "lat": 46.493107461812485,
              "lon": -1.3399711103763667
             },
             "geographicBoundingPolygon": {
              "coordinates": [
               [
                [
                 -1.2137756,
                 45.94959175038978
                ],
                [
                 -1.1878662,
                 46.01049256524736
                ],
                [
                 -1.1256409,
                 46.15583751774362
                ],
                [
                 -1.0632629,
                 46.30115305141368
                ],
                [
                 -1.0006714,
                 46.44645365821926
                ],
                [
                 -0.9383545,
                 46.5917278527331
                ],
                [
                 -0.9039917,
                 46.67142749815447
                ],
                [
                 -0.8762512,
                 46.73597102798234
                ],
                [
                 -0.81362915,
                 46.88109388207111
                ],
                [
                 -0.80197144,
                 46.907814998069206
                ],
                [
                 -0.7922363,
                 46.93027687092069
                ],
                [
                 -1.6859741,
                 46.94616825397537
                ],
                [
                 -1.7095032,
                 45.95826451839171
                ],
                [
                 -1.2137756,
                 45.94959175038978
                ]
               ]
              ],
              "type": "Polygon"
             },
             "global": false
            },
            "verticality": {}
           },
           "startTimeFromAscendingNode": "2020-12-17T11:13:59.024000+00:00",
           "state": {
            "insertionDate": 1608217633390,
            "resources": {
             "quicklook": true,
             "thumbnail": true
            },
            "services": {
             "download": "internal",
             "wcs": false,
             "wms": false,
             "wmts": false
            }
           },
           "storageStatus": "ONLINE",
           "target": {},
           "timeStamp": 1608203639024,
           "title": "S2B_MSIL1C_20201217T111359_N0209_R137_T30TXS_20201217T132006",
           "transmission": {},
           "uid": "116fc5b6-40f6-492d-a8b1-57cc83dead39",
           "visibility": {
            "deleted": false
           }
          },
          "type": "Feature"
         },
         {
          "geometry": {
           "coordinates": [
            [
             [
              4.352494032483418,
              43.256794294201605
             ],
             [
              4.374940058749246,
              44.24514241182411
             ],
             [
              4.340310329461339,
              44.24535079521058
             ],
             [
              4.307823684089252,
              44.14629072343452
             ],
             [
              4.259126692932052,
              43.99973199556856
             ],
             [
              4.210720895187553,
              43.85298305681391
             ],
             [
              4.161970680702884,
              43.70628405573733
             ],
             [
              4.113606271075388,
              43.55944840392364
             ],
             [
              4.065303698017993,
              43.4126014465063
             ],
             [
              4.017183865096976,
              43.26570625315801
             ],
             [
              4.014931796127915,
              43.258789633132764
             ],
             [
              4.352494032483418,
              43.256794294201605
             ]
            ]
           ],
           "type": "Polygon"
          },
          "id": "S2B_MSIL1C_20201225T103339_N0209_R108_T31TEJ_20201225T112846",
          "properties": {
           "abstract": "The Level-1C product is composed of 100x100 km2 tiles (ortho-images in UTM/WGS84 projection). It results from\nusing a Digital Elevation Model (DEM) to project the image in cartographic geometry. Per-pixel radiometric\nmeasurements are provided in Top Of Atmosphere (TOA) reflectances along with the parameters to transform them\ninto radiances. Level-1C products are resampled with a constant Ground Sampling Distance (GSD) of 10, 20 and 60\nmeters depending on the native resolution of the different spectral bands. In Level-1C  products, pixel\ncoordinates refer to the upper left corner of the pixel. Level-1C products will additionally include Cloud Masks\nand ECMWF data (total column of ozone, total column of water vapour and mean sea level pressure).\n",
           "acquisition": {
            "beginViewingDate": 1608892419024,
            "centerViewingDate": 1608892419024,
            "endViewingDate": 1608892419024,
            "mission": "Sentinel-2",
            "missionCode": "S2B",
            "missionId": "B",
            "missionName": "Sentinel-2B",
            "sensorId": "MSI",
            "sensorMode": "INS-NOBS"
           },
           "archive": {
            "filename": "S2B_MSIL1C_20201225T103339_N0209_R108_T31TEJ_20201225T112846.SAFE",
            "format": "SAFE",
            "offLine": false,
            "onLine": false,
            "size": 119
           },
           "attachments": [],
           "attitude": {},
           "bands": [
            {
             "center_wavelength": 0.4439,
             "common_name": "coastal",
             "full_width_half_max": 0.027,
             "gsd": 60,
             "name": "B01"
            },
            {
             "center_wavelength": 0.4966,
             "common_name": "blue",
             "full_width_half_max": 0.098,
             "gsd": 10,
             "name": "B02"
            },
            {
             "center_wavelength": 0.56,
             "common_name": "green",
             "full_width_half_max": 0.045,
             "gsd": 10,
             "name": "B03"
            },
            {
             "center_wavelength": 0.6645,
             "common_name": "red",
             "full_width_half_max": 0.038,
             "gsd": 10,
             "name": "B04"
            },
            {
             "center_wavelength": 0.7039,
             "full_width_half_max": 0.019,
             "gsd": 20,
             "name": "B05"
            },
            {
             "center_wavelength": 0.7402,
             "full_width_half_max": 0.018,
             "gsd": 20,
             "name": "B06"
            },
            {
             "center_wavelength": 0.7825,
             "full_width_half_max": 0.028,
             "gsd": 20,
             "name": "B07"
            },
            {
             "center_wavelength": 0.8351,
             "common_name": "nir",
             "full_width_half_max": 0.145,
             "gsd": 10,
             "name": "B08"
            },
            {
             "center_wavelength": 0.8648,
             "full_width_half_max": 0.033,
             "gsd": 20,
             "name": "B8A"
            },
            {
             "center_wavelength": 0.945,
             "full_width_half_max": 0.026,
             "gsd": 60,
             "name": "B09"
            },
            {
             "center_wavelength": 0.13735,
             "common_name": "cirrus",
             "full_width_half_max": 0.075,
             "gsd": 60,
             "name": "B10"
            },
            {
             "center_wavelength": 0.16137,
             "common_name": "swir16",
             "full_width_half_max": 0.075,
             "gsd": 20,
             "name": "B11"
            },
            {
             "center_wavelength": 0.22024,
             "common_name": "swir22",
             "full_width_half_max": 0.242,
             "gsd": 20,
             "name": "B12"
            }
           ],
           "cloudCover": 9.7472,
           "completionTimeFromAscendingNode": "2020-12-25T10:33:39.024000+00:00",
           "contentDescription": {
            "cloudCoverPercentage": 9.7472
           },
           "creationDate": "2020-12-25T12:58:19.316000+00:00",
           "downloadLink": "https://sobloo.eu/api/v1/services/download/204cd467-6a69-4bd4-8ab1-6bef7eee1cfd",
           "enrichment": {
            "geonames": [
             {
              "name": "France",
              "states": [
               {
                "counties": [
                 {
                  "cities": [
                   {
                    "name": "Montpellier"
                   }
                  ],
                  "name": "Hérault",
                  "villages": [
                   {
                    "name": "Lunel"
                   },
                   {
                    "name": "Marsillargues"
                   }
                  ]
                 },
                 {
                  "cities": [
                   {
                    "name": "Alès"
                   },
                   {
                    "name": "Nimes"
                   }
                  ],
                  "name": "Gard",
                  "villages": [
                   {
                    "name": "Montaren-et-Saint-Médiers"
                   },
                   {
                    "name": "Saint-Laurent-d'Aigouze"
                   },
                   {
                    "name": "Vestric-et-Candiac"
                   },
                   {
                    "name": "Nages-et-Solorgues"
                   },
                   {
                    "name": "Saint-Côme-et-Maruéjols"
                   },
                   {
                    "name": "Saint-Chaptes"
                   },
                   {
                    "name": "Milhaud"
                   },
                   {
                    "name": "Blauzac"
                   },
                   {
                    "name": "Parignargues"
                   },
                   {
                    "name": "Bernis"
                   },
                   {
                    "name": "Tharaux"
                   },
                   {
                    "name": "Boissières"
                   },
                   {
                    "name": "Fons-sur-Lussan"
                   },
                   {
                    "name": "Aubord"
                   },
                   {
                    "name": "Aubussargues"
                   },
                   {
                    "name": "Garrigues-Sainte-Eulalie"
                   },
                   {
                    "name": "Beauvoisin"
                   },
                   {
                    "name": "Bouquet"
                   },
                   {
                    "name": "Aigues-Vives"
                   },
                   {
                    "name": "Le Grau-du-Roi"
                   },
                   {
                    "name": "Moussac"
                   },
                   {
                    "name": "Aigues-Mortes"
                   },
                   {
                    "name": "Le Cailar"
                   },
                   {
                    "name": "Uchaud"
                   },
                   {
                    "name": "Méjannes-le-Clap"
                   },
                   {
                    "name": "Collorgues"
                   },
                   {
                    "name": "Gajan"
                   },
                   {
                    "name": "Mus"
                   },
                   {
                    "name": "Vauvert"
                   },
                   {
                    "name": "Sainte-Anastasie"
                   },
                   {
                    "name": "Générac"
                   },
                   {
                    "name": "La Rouvière"
                   },
                   {
                    "name": "Caveirac"
                   },
                   {
                    "name": "Saint-Dionisy"
                   },
                   {
                    "name": "Seynes"
                   },
                   {
                    "name": "Bourdic"
                   },
                   {
                    "name": "Calvisson"
                   },
                   {
                    "name": "Castelnau-Valence"
                   },
                   {
                    "name": "Serviers-et-Labaume"
                   },
                   {
                    "name": "Belvézet"
                   },
                   {
                    "name": "Saint-Maurice-de-Cazevieille"
                   },
                   {
                    "name": "Aigaliers"
                   },
                   {
                    "name": "Vergèze"
                   },
                   {
                    "name": "Dions"
                   },
                   {
                    "name": "Gallargues-le-Montueux"
                   },
                   {
                    "name": "Sauzet"
                   },
                   {
                    "name": "Vallérargues"
                   },
                   {
                    "name": "Codognan"
                   },
                   {
                    "name": "Lussan"
                   },
                   {
                    "name": "Saint-Dézéry"
                   },
                   {
                    "name": "Arpaillargues-et-Aureillac"
                   },
                   {
                    "name": "Clarensac"
                   },
                   {
                    "name": "Foissac"
                   },
                   {
                    "name": "Langlade"
                   },
                   {
                    "name": "Saint-Gilles"
                   },
                   {
                    "name": "La Calmette"
                   },
                   {
                    "name": "Baron"
                   },
                   {
                    "name": "Saint-Geniès-de-Malgoirès"
                   },
                   {
                    "name": "Aimargues"
                   }
                  ]
                 }
                ],
                "name": "Occitanie"
               },
               {
                "counties": [
                 {
                  "cities": [
                   {
                    "name": "Arles"
                   }
                  ],
                  "name": "Bouches-du-Rhône",
                  "villages": [
                   {
                    "name": "Saintes-Maries-de-la-Mer"
                   }
                  ]
                 }
                ],
                "name": "Provence-Alpes-Côte d'Azur"
               }
              ]
             }
            ],
            "naturallanguage": {
             "search_cloud_string": "cloud:partly_cloudy",
             "search_date_string": "2020 December 25 10: 10:33 10:33:39",
             "search_incidence_angle_string": "incidence:?",
             "search_quality_string": "quality:?"
            }
           },
           "eodag_product_type": "S2_MSI_L1C",
           "eodag_provider": "sobloo",
           "eodag_search_intersection": {
            "coordinates": [
             [
              [
               4.352494032483418,
               43.256794294201605
              ],
              [
               4.014931796127915,
               43.258789633132764
              ],
              [
               4.017183865096976,
               43.26570625315801
              ],
              [
               4.065303698017993,
               43.4126014465063
              ],
              [
               4.113606271075388,
               43.55944840392364
              ],
              [
               4.161970680702884,
               43.70628405573733
              ],
              [
               4.210720895187553,
               43.85298305681391
              ],
              [
               4.259126692932052,
               43.99973199556856
              ],
              [
               4.307823684089252,
               44.14629072343452
              ],
              [
               4.340310329461339,
               44.24535079521058
              ],
              [
               4.374940058749246,
               44.24514241182411
              ],
              [
               4.352494032483418,
               43.256794294201605
              ]
             ]
            ],
            "type": "Polygon"
           },
           "identification": {
            "collection": "Sentinel-2",
            "dataset": {},
            "externalId": "S2B_MSIL1C_20201225T103339_N0209_R108_T31TEJ_20201225T112846",
            "hvTileId": "TJ31E",
            "profile": "Image",
            "tileId": "31TEJ",
            "type": "S2MSI1C"
           },
           "illumination": {},
           "instrument": "MSI",
           "license": "proprietary",
           "missionStartDate": "2015-06-23T00:00:00Z",
           "orbit": {
            "direction": "DESCENDING",
            "number": 19868,
            "relativeNumber": 108
           },
           "orbitDirection": "DESCENDING",
           "orbitNumber": 19868,
           "platform": "Sentinel-2",
           "platformSerialIdentifier": "S2B",
           "processingLevel": "Level-1C",
           "productType": "S2MSI1C",
           "production": {
            "baseline": "02.09",
            "levelCode": "Level-1C",
            "ongoing": false
           },
           "provider": {},
           "quality": {
            "qualified": false
           },
           "quicklook": "https://sobloo.eu/api/v1/services/quicklook/204cd467-6a69-4bd4-8ab1-6bef7eee1cfd",
           "sensorMode": "INS-NOBS",
           "sensorType": "OPTICAL",
           "spatialCoverage": {
            "geometry": {
             "centerPoint": {
              "lat": 43.61754806520501,
              "lon": 4.246923986051923
             },
             "geographicBoundingPolygon": {
              "coordinates": [
               [
                [
                 4.352494032483418,
                 43.256794294201605
                ],
                [
                 4.374940058749246,
                 44.24514241182411
                ],
                [
                 4.340310329461339,
                 44.24535079521058
                ],
                [
                 4.307823684089252,
                 44.14629072343452
                ],
                [
                 4.259126692932052,
                 43.99973199556856
                ],
                [
                 4.210720895187553,
                 43.85298305681391
                ],
                [
                 4.161970680702884,
                 43.70628405573733
                ],
                [
                 4.113606271075388,
                 43.55944840392364
                ],
                [
                 4.065303698017993,
                 43.4126014465063
                ],
                [
                 4.017183865096976,
                 43.26570625315801
                ],
                [
                 4.014931796127915,
                 43.258789633132764
                ],
                [
                 4.352494032483418,
                 43.256794294201605
                ]
               ]
              ],
              "type": "Polygon"
             },
             "global": false
            },
            "verticality": {}
           },
           "startTimeFromAscendingNode": "2020-12-25T10:33:39.024000+00:00",
           "state": {
            "insertionDate": 1608901099316,
            "resources": {
             "quicklook": true,
             "thumbnail": true
            },
            "services": {
             "download": "internal",
             "wcs": false,
             "wms": false,
             "wmts": false
            }
           },
           "storageStatus": "ONLINE",
           "target": {},
           "timeStamp": 1608892419024,
           "title": "S2B_MSIL1C_20201225T103339_N0209_R108_T31TEJ_20201225T112846",
           "transmission": {},
           "uid": "204cd467-6a69-4bd4-8ab1-6bef7eee1cfd",
           "visibility": {
            "deleted": false
           }
          },
          "type": "Feature"
         },
         {
          "geometry": {
           "coordinates": [
            [
             [
              4.333014608804459,
              42.35632239007374
             ],
             [
              4.354447329980782,
              43.34483481646455
             ],
             [
              4.043707416590406,
              43.3466745772024
             ],
             [
              4.017183865096976,
              43.26570625315801
             ],
             [
              3.969339549454032,
              43.11876539290185
             ],
             [
              3.921808337200512,
              42.97182690661088
             ],
             [
              3.874494385244771,
              42.824909239855614
             ],
             [
              3.827490315232981,
              42.67799108788055
             ],
             [
              3.780742219451354,
              42.53104464466544
             ],
             [
              3.734193213534525,
              42.384104598795446
             ],
             [
              3.726542316441183,
              42.35984749715714
             ],
             [
              4.333014608804459,
              42.35632239007374
             ]
            ]
           ],
           "type": "Polygon"
          },
          "id": "S2B_MSIL1C_20201225T103339_N0209_R108_T31TEH_20201225T112846",
          "properties": {
           "abstract": "The Level-1C product is composed of 100x100 km2 tiles (ortho-images in UTM/WGS84 projection). It results from\nusing a Digital Elevation Model (DEM) to project the image in cartographic geometry. Per-pixel radiometric\nmeasurements are provided in Top Of Atmosphere (TOA) reflectances along with the parameters to transform them\ninto radiances. Level-1C products are resampled with a constant Ground Sampling Distance (GSD) of 10, 20 and 60\nmeters depending on the native resolution of the different spectral bands. In Level-1C  products, pixel\ncoordinates refer to the upper left corner of the pixel. Level-1C products will additionally include Cloud Masks\nand ECMWF data (total column of ozone, total column of water vapour and mean sea level pressure).\n",
           "acquisition": {
            "beginViewingDate": 1608892419024,
            "centerViewingDate": 1608892419024,
            "endViewingDate": 1608892419024,
            "mission": "Sentinel-2",
            "missionCode": "S2B",
            "missionId": "B",
            "missionName": "Sentinel-2B",
            "sensorId": "MSI",
            "sensorMode": "INS-NOBS"
           },
           "archive": {
            "filename": "S2B_MSIL1C_20201225T103339_N0209_R108_T31TEH_20201225T112846.SAFE",
            "format": "SAFE",
            "offLine": false,
            "onLine": false,
            "size": 284
           },
           "attachments": [],
           "attitude": {},
           "bands": [
            {
             "center_wavelength": 0.4439,
             "common_name": "coastal",
             "full_width_half_max": 0.027,
             "gsd": 60,
             "name": "B01"
            },
            {
             "center_wavelength": 0.4966,
             "common_name": "blue",
             "full_width_half_max": 0.098,
             "gsd": 10,
             "name": "B02"
            },
            {
             "center_wavelength": 0.56,
             "common_name": "green",
             "full_width_half_max": 0.045,
             "gsd": 10,
             "name": "B03"
            },
            {
             "center_wavelength": 0.6645,
             "common_name": "red",
             "full_width_half_max": 0.038,
             "gsd": 10,
             "name": "B04"
            },
            {
             "center_wavelength": 0.7039,
             "full_width_half_max": 0.019,
             "gsd": 20,
             "name": "B05"
            },
            {
             "center_wavelength": 0.7402,
             "full_width_half_max": 0.018,
             "gsd": 20,
             "name": "B06"
            },
            {
             "center_wavelength": 0.7825,
             "full_width_half_max": 0.028,
             "gsd": 20,
             "name": "B07"
            },
            {
             "center_wavelength": 0.8351,
             "common_name": "nir",
             "full_width_half_max": 0.145,
             "gsd": 10,
             "name": "B08"
            },
            {
             "center_wavelength": 0.8648,
             "full_width_half_max": 0.033,
             "gsd": 20,
             "name": "B8A"
            },
            {
             "center_wavelength": 0.945,
             "full_width_half_max": 0.026,
             "gsd": 60,
             "name": "B09"
            },
            {
             "center_wavelength": 0.13735,
             "common_name": "cirrus",
             "full_width_half_max": 0.075,
             "gsd": 60,
             "name": "B10"
            },
            {
             "center_wavelength": 0.16137,
             "common_name": "swir16",
             "full_width_half_max": 0.075,
             "gsd": 20,
             "name": "B11"
            },
            {
             "center_wavelength": 0.22024,
             "common_name": "swir22",
             "full_width_half_max": 0.242,
             "gsd": 20,
             "name": "B12"
            }
           ],
           "cloudCover": 3.3224,
           "completionTimeFromAscendingNode": "2020-12-25T10:33:39.024000+00:00",
           "contentDescription": {
            "cloudCoverPercentage": 3.3224
           },
           "creationDate": "2020-12-25T12:58:45.562000+00:00",
           "downloadLink": "https://sobloo.eu/api/v1/services/download/1518603c-6316-4d3c-b90b-7b0d0f8d08a4",
           "enrichment": {
            "geonames": [
             {
              "name": "France"
             }
            ],
            "naturallanguage": {
             "search_cloud_string": "cloud:partly_cloudy",
             "search_date_string": "2020 December 25 10: 10:33 10:33:39",
             "search_incidence_angle_string": "incidence:?",
             "search_quality_string": "quality:?"
            }
           },
           "eodag_product_type": "S2_MSI_L1C",
           "eodag_provider": "sobloo",
           "eodag_search_intersection": {
            "coordinates": [
             [
              [
               3.8547342425306086,
               42.763146
              ],
              [
               3.874494385244771,
               42.824909239855614
              ],
              [
               3.921808337200512,
               42.97182690661088
              ],
              [
               3.969339549454032,
               43.11876539290185
              ],
              [
               4.017183865096976,
               43.26570625315801
              ],
              [
               4.043707416590406,
               43.3466745772024
              ],
              [
               4.354447329980782,
               43.34483481646455
              ],
              [
               4.3418352738428645,
               42.763146
              ],
              [
               3.8547342425306086,
               42.763146
              ]
             ]
            ],
            "type": "Polygon"
           },
           "identification": {
            "collection": "Sentinel-2",
            "dataset": {},
            "externalId": "S2B_MSIL1C_20201225T103339_N0209_R108_T31TEH_20201225T112846",
            "hvTileId": "TH31E",
            "profile": "Image",
            "tileId": "31TEH",
            "type": "S2MSI1C"
           },
           "illumination": {},
           "instrument": "MSI",
           "license": "proprietary",
           "missionStartDate": "2015-06-23T00:00:00Z",
           "orbit": {
            "direction": "DESCENDING",
            "number": 19868,
            "relativeNumber": 108
           },
           "orbitDirection": "DESCENDING",
           "orbitNumber": 19868,
           "platform": "Sentinel-2",
           "platformSerialIdentifier": "S2B",
           "processingLevel": "Level-1C",
           "productType": "S2MSI1C",
           "production": {
            "baseline": "02.09",
            "levelCode": "Level-1C",
            "ongoing": false
           },
           "provider": {},
           "quality": {
            "qualified": false
           },
           "quicklook": "https://sobloo.eu/api/v1/services/quicklook/1518603c-6316-4d3c-b90b-7b0d0f8d08a4",
           "sensorMode": "INS-NOBS",
           "sensorType": "OPTICAL",
           "spatialCoverage": {
            "geometry": {
             "centerPoint": {
              "lat": 42.798977771322285,
              "lon": 4.10485795661095
             },
             "geographicBoundingPolygon": {
              "coordinates": [
               [
                [
                 4.333014608804459,
                 42.35632239007374
                ],
                [
                 4.354447329980782,
                 43.34483481646455
                ],
                [
                 4.043707416590406,
                 43.3466745772024
                ],
                [
                 4.017183865096976,
                 43.26570625315801
                ],
                [
                 3.969339549454032,
                 43.11876539290185
                ],
                [
                 3.921808337200512,
                 42.97182690661088
                ],
                [
                 3.874494385244771,
                 42.824909239855614
                ],
                [
                 3.827490315232981,
                 42.67799108788055
                ],
                [
                 3.780742219451354,
                 42.53104464466544
                ],
                [
                 3.734193213534525,
                 42.384104598795446
                ],
                [
                 3.726542316441183,
                 42.35984749715714
                ],
                [
                 4.333014608804459,
                 42.35632239007374
                ]
               ]
              ],
              "type": "Polygon"
             },
             "global": false
            },
            "verticality": {}
           },
           "startTimeFromAscendingNode": "2020-12-25T10:33:39.024000+00:00",
           "state": {
            "insertionDate": 1608901125562,
            "resources": {
             "quicklook": true,
             "thumbnail": true
            },
            "services": {
             "download": "internal",
             "wcs": false,
             "wms": false,
             "wmts": false
            }
           },
           "storageStatus": "ONLINE",
           "target": {},
           "timeStamp": 1608892419024,
           "title": "S2B_MSIL1C_20201225T103339_N0209_R108_T31TEH_20201225T112846",
           "transmission": {},
           "uid": "1518603c-6316-4d3c-b90b-7b0d0f8d08a4",
           "visibility": {
            "deleted": false
           }
          },
          "type": "Feature"
         },
         {
          "geometry": {
           "coordinates": [
            [
             [
              0.757858445321509,
              42.30245161555175
             ],
             [
              0.818123703686377,
              43.28908179915951
             ],
             [
              0,
              43.31157984910321
             ],
             [
              -0.5337219,
              43.32625697177811
             ],
             [
              -0.5726929,
              42.33837210189082
             ],
             [
              0,
              42.322911287422244
             ],
             [
              0.757858445321509,
              42.30245161555175
             ]
            ]
           ],
           "type": "Polygon"
          },
          "id": "S2A_MSIL1C_20201226T105451_N0209_R051_T30TYN_20201226T130209",
          "properties": {
           "abstract": "The Level-1C product is composed of 100x100 km2 tiles (ortho-images in UTM/WGS84 projection). It results from\nusing a Digital Elevation Model (DEM) to project the image in cartographic geometry. Per-pixel radiometric\nmeasurements are provided in Top Of Atmosphere (TOA) reflectances along with the parameters to transform them\ninto radiances. Level-1C products are resampled with a constant Ground Sampling Distance (GSD) of 10, 20 and 60\nmeters depending on the native resolution of the different spectral bands. In Level-1C  products, pixel\ncoordinates refer to the upper left corner of the pixel. Level-1C products will additionally include Cloud Masks\nand ECMWF data (total column of ozone, total column of water vapour and mean sea level pressure).\n",
           "acquisition": {
            "beginViewingDate": 1608980091024,
            "centerViewingDate": 1608980091024,
            "endViewingDate": 1608980091024,
            "mission": "Sentinel-2",
            "missionCode": "S2A",
            "missionId": "A",
            "missionName": "Sentinel-2A",
            "sensorId": "MSI",
            "sensorMode": "INS-NOBS"
           },
           "archive": {
            "filename": "S2A_MSIL1C_20201226T105451_N0209_R051_T30TYN_20201226T130209.SAFE",
            "format": "SAFE",
            "offLine": false,
            "onLine": false,
            "size": 857
           },
           "attachments": [],
           "attitude": {},
           "bands": [
            {
             "center_wavelength": 0.4439,
             "common_name": "coastal",
             "full_width_half_max": 0.027,
             "gsd": 60,
             "name": "B01"
            },
            {
             "center_wavelength": 0.4966,
             "common_name": "blue",
             "full_width_half_max": 0.098,
             "gsd": 10,
             "name": "B02"
            },
            {
             "center_wavelength": 0.56,
             "common_name": "green",
             "full_width_half_max": 0.045,
             "gsd": 10,
             "name": "B03"
            },
            {
             "center_wavelength": 0.6645,
             "common_name": "red",
             "full_width_half_max": 0.038,
             "gsd": 10,
             "name": "B04"
            },
            {
             "center_wavelength": 0.7039,
             "full_width_half_max": 0.019,
             "gsd": 20,
             "name": "B05"
            },
            {
             "center_wavelength": 0.7402,
             "full_width_half_max": 0.018,
             "gsd": 20,
             "name": "B06"
            },
            {
             "center_wavelength": 0.7825,
             "full_width_half_max": 0.028,
             "gsd": 20,
             "name": "B07"
            },
            {
             "center_wavelength": 0.8351,
             "common_name": "nir",
             "full_width_half_max": 0.145,
             "gsd": 10,
             "name": "B08"
            },
            {
             "center_wavelength": 0.8648,
             "full_width_half_max": 0.033,
             "gsd": 20,
             "name": "B8A"
            },
            {
             "center_wavelength": 0.945,
             "full_width_half_max": 0.026,
             "gsd": 60,
             "name": "B09"
            },
            {
             "center_wavelength": 0.13735,
             "common_name": "cirrus",
             "full_width_half_max": 0.075,
             "gsd": 60,
             "name": "B10"
            },
            {
             "center_wavelength": 0.16137,
             "common_name": "swir16",
             "full_width_half_max": 0.075,
             "gsd": 20,
             "name": "B11"
            },
            {
             "center_wavelength": 0.22024,
             "common_name": "swir22",
             "full_width_half_max": 0.242,
             "gsd": 20,
             "name": "B12"
            }
           ],
           "cloudCover": 7.2974,
           "completionTimeFromAscendingNode": "2020-12-26T10:54:51.024000+00:00",
           "contentDescription": {
            "cloudCoverPercentage": 7.2974
           },
           "creationDate": "2020-12-26T14:51:58.637000+00:00",
           "downloadLink": "https://sobloo.eu/api/v1/services/download/d4ec00a8-5c92-488b-a075-983077228ca6",
           "enrichment": {
            "geonames": [
             {
              "name": "France",
              "states": [
               {
                "counties": [
                 {
                  "cities": [
                   {
                    "name": "Tarbes"
                   },
                   {
                    "name": "Argelès-Gazost"
                   },
                   {
                    "name": "Bagnères-de-Bigorre"
                   }
                  ],
                  "name": "Hautes-Pyrénées",
                  "villages": [
                   {
                    "name": "Bertren"
                   },
                   {
                    "name": "Germ"
                   },
                   {
                    "name": "Camous"
                   },
                   {
                    "name": "Bours"
                   },
                   {
                    "name": "Soulom"
                   },
                   {
                    "name": "Viscos"
                   },
                   {
                    "name": "Boô-Silhen"
                   },
                   {
                    "name": "Lansac"
                   },
                   {
                    "name": "Artalens-Souin"
                   },
                   {
                    "name": "Pierrefitte-Nestalas"
                   },
                   {
                    "name": "Anla"
                   },
                   {
                    "name": "Arbéost"
                   },
                   {
                    "name": "Ancizan"
                   },
                   {
                    "name": "Hauban"
                   },
                   {
                    "name": "Mauléon-Barousse"
                   },
                   {
                    "name": "Ourdis-Cotdoussan"
                   },
                   {
                    "name": "Poumarous"
                   },
                   {
                    "name": "Asté"
                   },
                   {
                    "name": "Marseillan"
                   },
                   {
                    "name": "Loudenvielle"
                   },
                   {
                    "name": "Odos"
                   },
                   {
                    "name": "Esterre"
                   },
                   {
                    "name": "Pailhac"
                   },
                   {
                    "name": "Sireix"
                   },
                   {
                    "name": "Ris"
                   },
                   {
                    "name": "Ossun"
                   },
                   {
                    "name": "Laslades"
                   },
                   {
                    "name": "Thèbe"
                   },
                   {
                    "name": "Vizos"
                   },
                   {
                    "name": "Sassis"
                   },
                   {
                    "name": "Ger"
                   },
                   {
                    "name": "Gavarnie-Gèdre"
                   },
                   {
                    "name": "Seich"
                   }
                  ]
                 },
                 {
                  "cities": [
                   {
                    "name": "Saint-Gaudens"
                   }
                  ],
                  "name": "Haute-Garonne",
                  "villages": [
                   {
                    "name": "Portet-de-Luchon"
                   },
                   {
                    "name": "Sode"
                   },
                   {
                    "name": "Saint-Paul-d'Oueil"
                   },
                   {
                    "name": "Franquevielle"
                   },
                   {
                    "name": "Sengouagnet"
                   },
                   {
                    "name": "Encausse-les-Thermes"
                   },
                   {
                    "name": "Frontignan-de-Comminges"
                   },
                   {
                    "name": "Lalouret-Laffiteau"
                   },
                   {
                    "name": "Baren"
                   },
                   {
                    "name": "Mayrègne"
                   },
                   {
                    "name": "Chaum"
                   },
                   {
                    "name": "Ponlat-Taillebourg"
                   },
                   {
                    "name": "Poubeau"
                   },
                   {
                    "name": "Boutx"
                   },
                   {
                    "name": "Signac"
                   },
                   {
                    "name": "Castillon-de-Saint-Martory"
                   },
                   {
                    "name": "Eup"
                   },
                   {
                    "name": "Malvezie"
                   },
                   {
                    "name": "Burgalays"
                   },
                   {
                    "name": "Trébons-de-Luchon"
                   },
                   {
                    "name": "Martres-de-Rivière"
                   },
                   {
                    "name": "Aulon"
                   },
                   {
                    "name": "Lez"
                   },
                   {
                    "name": "Garin"
                   },
                   {
                    "name": "Saint-Pé-d'Ardet"
                   },
                   {
                    "name": "Sarremezan"
                   },
                   {
                    "name": "Cirès"
                   },
                   {
                    "name": "Jurvielle"
                   }
                  ]
                 }
                ],
                "name": "Occitanie"
               },
               {
                "counties": [
                 {
                  "cities": [
                   {
                    "name": "Pau"
                   },
                   {
                    "name": "Oloron-Sainte-Marie"
                   }
                  ],
                  "name": "Pyrénées-Atlantiques",
                  "villages": [
                   {
                    "name": "Arthez-d'Asson"
                   },
                   {
                    "name": "Lasseube"
                   },
                   {
                    "name": "Laruns"
                   },
                   {
                    "name": "Louvie-Juzon"
                   },
                   {
                    "name": "Béost"
                   },
                   {
                    "name": "Oloron-Sainte-Marie"
                   },
                   {
                    "name": "Bruges-Capbis-Mifaget"
                   },
                   {
                    "name": "Asson"
                   },
                   {
                    "name": "Baudreix"
                   },
                   {
                    "name": "Artigueloutan"
                   }
                  ]
                 }
                ],
                "name": "Nouvelle-Aquitaine"
               }
              ]
             },
             {
              "name": "Spain",
              "states": [
               {
                "counties": [
                 {
                  "cities": [
                   {
                    "name": "Alta Ribagorça"
                   },
                   {
                    "name": "Pallars Jussà"
                   },
                   {
                    "name": "Val d'Aran"
                   }
                  ],
                  "name": "Lleida",
                  "villages": [
                   {
                    "name": "Bausen"
                   },
                   {
                    "name": "Bossòst"
                   },
                   {
                    "name": "Vilaller"
                   },
                   {
                    "name": "Vilamòs"
                   }
                  ]
                 }
                ],
                "name": "Catalonia"
               },
               {
                "counties": [
                 {
                  "name": "Huesca",
                  "villages": [
                   {
                    "name": "Graus"
                   },
                   {
                    "name": "Montanuy"
                   },
                   {
                    "name": "Puértolas"
                   },
                   {
                    "name": "Jaca"
                   },
                   {
                    "name": "Fanlo"
                   },
                   {
                    "name": "San Juan de Plan"
                   },
                   {
                    "name": "Biescas"
                   }
                  ]
                 }
                ],
                "name": "Aragon"
               }
              ]
             }
            ],
            "naturallanguage": {
             "search_cloud_string": "cloud:partly_cloudy",
             "search_date_string": "2020 December 26 10: 10:54 10:54:51",
             "search_incidence_angle_string": "incidence:?",
             "search_quality_string": "quality:?"
            }
           },
           "eodag_product_type": "S2_MSI_L1C",
           "eodag_provider": "sobloo",
           "eodag_search_intersection": {
            "coordinates": [
             [
              [
               -0.55593602469215,
               42.763146
              ],
              [
               -0.5337219,
               43.32625697177811
              ],
              [
               0,
               43.31157984910321
              ],
              [
               0.818123703686377,
               43.28908179915951
              ],
              [
               0.7859985393175134,
               42.763146
              ],
              [
               -0.55593602469215,
               42.763146
              ]
             ]
            ],
            "type": "Polygon"
           },
           "identification": {
            "collection": "Sentinel-2",
            "dataset": {},
            "externalId": "S2A_MSIL1C_20201226T105451_N0209_R051_T30TYN_20201226T130209",
            "hvTileId": "TN30Y",
            "profile": "Image",
            "tileId": "30TYN",
            "type": "S2MSI1C"
           },
           "illumination": {},
           "instrument": "MSI",
           "license": "proprietary",
           "missionStartDate": "2015-06-23T00:00:00Z",
           "orbit": {
            "direction": "DESCENDING",
            "number": 28791,
            "relativeNumber": 51
           },
           "orbitDirection": "DESCENDING",
           "orbitNumber": 28791,
           "platform": "Sentinel-2",
           "platformSerialIdentifier": "S2A",
           "processingLevel": "Level-1C",
           "productType": "S2MSI1C",
           "production": {
            "baseline": "02.09",
            "levelCode": "Level-1C",
            "ongoing": false
           },
           "provider": {},
           "quality": {
            "qualified": false
           },
           "quicklook": "https://sobloo.eu/api/v1/services/quicklook/d4ec00a8-5c92-488b-a075-983077228ca6",
           "sensorMode": "INS-NOBS",
           "sensorType": "OPTICAL",
           "spatialCoverage": {
            "geometry": {
             "centerPoint": {
              "lat": 42.81535100319465,
              "lon": 0.11738134518235899
             },
             "geographicBoundingPolygon": {
              "coordinates": [
               [
                [
                 0.757858445321509,
                 42.30245161555175
                ],
                [
                 0.818123703686377,
                 43.28908179915951
                ],
                [
                 0,
                 43.31157984910321
                ],
                [
                 -0.5337219,
                 43.32625697177811
                ],
                [
                 -0.5726929,
                 42.33837210189082
                ],
                [
                 0,
                 42.322911287422244
                ],
                [
                 0.757858445321509,
                 42.30245161555175
                ]
               ]
              ],
              "type": "Polygon"
             },
             "global": false
            },
            "verticality": {}
           },
           "startTimeFromAscendingNode": "2020-12-26T10:54:51.024000+00:00",
           "state": {
            "insertionDate": 1608994318637,
            "resources": {
             "quicklook": true,
             "thumbnail": true
            },
            "services": {
             "download": "internal",
             "wcs": false,
             "wms": false,
             "wmts": false
            }
           },
           "storageStatus": "ONLINE",
           "target": {},
           "timeStamp": 1608980091024,
           "title": "S2A_MSIL1C_20201226T105451_N0209_R051_T30TYN_20201226T130209",
           "transmission": {},
           "uid": "d4ec00a8-5c92-488b-a075-983077228ca6",
           "visibility": {
            "deleted": false
           }
          },
          "type": "Feature"
         }
        ],
        "type": "FeatureCollection"
       },
       "hover_style": {
        "fillColor": "yellow"
       },
       "name": "",
       "options": [],
       "popup": null,
       "popup_max_height": null,
       "popup_max_width": 300,
       "popup_min_width": 50
      }
     },
     "774306a8ebe34c5c9c0a834684665ee5": {
      "model_module": "@jupyter-widgets/base",
      "model_module_version": "1.2.0",
      "model_name": "LayoutModel",
      "state": {}
     },
     "adc44456c3664dc0a2b67238b3105f4a": {
      "model_module": "@jupyter-widgets/base",
      "model_module_version": "1.2.0",
      "model_name": "LayoutModel",
      "state": {}
     },
     "b29b69da7d7140abb59c5bad091eb083": {
      "model_module": "@jupyter-widgets/controls",
      "model_module_version": "1.5.0",
      "model_name": "HTMLModel",
      "state": {
       "layout": "IPY_MODEL_33b7b35e73e84a1e8dbf00074ce9c90e",
       "style": "IPY_MODEL_2babc7802051495b8bdd1d90b2287a79"
      }
     },
     "b8e88fcd4ef54be58ef3364a1128ef75": {
      "model_module": "@jupyter-widgets/controls",
      "model_module_version": "1.5.0",
      "model_name": "HTMLModel",
      "state": {
       "layout": "IPY_MODEL_d266e49cca1c40b4abc4cc234371248a",
       "style": "IPY_MODEL_369e0aaf43a347a9a1d5374693a1b9d4"
      }
     },
     "bf0fee2979cd4b72aa3431e372e65065": {
      "model_module": "jupyter-leaflet",
      "model_module_version": "^0.13.2",
      "model_name": "LeafletMapStyleModel",
      "state": {
       "_model_module_version": "^0.13.2"
      }
     },
     "d0172a04bbdd4e99872b0a5270bb0904": {
      "model_module": "jupyter-leaflet",
      "model_module_version": "^0.13.2",
      "model_name": "LeafletAttributionControlModel",
      "state": {
       "_model_module_version": "^0.13.2",
       "_view_module_version": "^0.13.2",
       "options": [
        "position",
        "prefix"
       ],
       "position": "bottomright",
       "prefix": "ipyleaflet"
      }
     },
     "d2018bef15b442ebb2c54ac9fba6ce06": {
      "model_module": "jupyter-leaflet",
      "model_module_version": "^0.13.2",
      "model_name": "LeafletTileLayerModel",
      "state": {
       "_model_module_version": "^0.13.2",
       "_view_module_version": "^0.13.2",
       "base": true,
       "max_native_zoom": 18,
       "max_zoom": 19,
       "min_native_zoom": 0,
       "min_zoom": 1,
       "options": [
        "attribution",
        "detect_retina",
        "max_native_zoom",
        "max_zoom",
        "min_native_zoom",
        "min_zoom",
        "no_wrap",
        "tile_size",
        "tms"
       ]
      }
     },
     "d266e49cca1c40b4abc4cc234371248a": {
      "model_module": "@jupyter-widgets/base",
      "model_module_version": "1.2.0",
      "model_name": "LayoutModel",
      "state": {}
     },
     "d9d8a6f5813c47eaa7fda679fd95bda8": {
      "model_module": "jupyter-leaflet",
      "model_module_version": "^0.13.2",
      "model_name": "LeafletZoomControlModel",
      "state": {
       "_model_module_version": "^0.13.2",
       "_view_module_version": "^0.13.2",
       "options": [
        "position",
        "zoom_in_text",
        "zoom_in_title",
        "zoom_out_text",
        "zoom_out_title"
       ]
      }
     },
     "da243cc28ecb40f49e78a160a3bc8c46": {
      "model_module": "jupyter-leaflet",
      "model_module_version": "^0.13.2",
      "model_name": "LeafletMapStyleModel",
      "state": {
       "_model_module_version": "^0.13.2"
      }
     },
     "e180f974adca474894ae19be415c556b": {
      "model_module": "@jupyter-widgets/controls",
      "model_module_version": "1.5.0",
      "model_name": "DescriptionStyleModel",
      "state": {
       "description_width": ""
      }
     },
     "edac19557b5a40f8a3ca224dc20e3472": {
      "model_module": "@jupyter-widgets/controls",
      "model_module_version": "1.5.0",
      "model_name": "LabelModel",
      "state": {
       "layout": "IPY_MODEL_4b26f98d6131466abf4f4ed8b08cf42d",
       "style": "IPY_MODEL_539259a0df7c4d2aa83ae2cbcfec4854",
       "value": "S2A_MSIL1C_20201213T104441_N0209_R008_T31TEL_20201213T125210"
      }
     },
     "efd18345a2694bd2bd5dd588b36c5271": {
      "model_module": "jupyter-leaflet",
      "model_module_version": "^0.13.2",
      "model_name": "LeafletMapStyleModel",
      "state": {
       "_model_module_version": "^0.13.2",
       "cursor": "move"
      }
     },
     "f6f6a1ee6dc1497bb11a5277033d8bec": {
      "model_module": "@jupyter-widgets/controls",
      "model_module_version": "1.5.0",
      "model_name": "HBoxModel",
      "state": {
       "children": [
        "IPY_MODEL_166272fc066d404aa67774aaec7f71d2",
        "IPY_MODEL_149c9c95592643c98bfcf976800687a6",
        "IPY_MODEL_4b6cbc5f61574d5d8fdc6479951fb0c0"
       ],
       "layout": "IPY_MODEL_4aae4b545fd74dccb1ab8f10f983060c"
      }
     },
     "fa1b527936f2413c88e2ed1973ae8276": {
      "model_module": "@jupyter-widgets/controls",
      "model_module_version": "1.5.0",
      "model_name": "ProgressStyleModel",
      "state": {
       "description_width": ""
      }
     },
     "fa98d962855445d4ac825dca14f2b723": {
      "model_module": "@jupyter-widgets/controls",
      "model_module_version": "1.5.0",
      "model_name": "VBoxModel",
      "state": {
       "children": [
        "IPY_MODEL_5fccc9aada2a47c084f609a19ba9b3b4",
        "IPY_MODEL_edac19557b5a40f8a3ca224dc20e3472"
       ],
       "layout": "IPY_MODEL_adc44456c3664dc0a2b67238b3105f4a"
      }
     },
     "fae2db7945794d5b96fe67fc2a78e3f4": {
      "model_module": "jupyter-leaflet",
      "model_module_version": "^0.13.2",
      "model_name": "LeafletGeoJSONModel",
      "state": {
       "_model_module": "jupyter-leaflet",
       "_model_module_version": "^0.13.2",
       "_view_count": null,
       "_view_module": "jupyter-leaflet",
       "_view_module_version": "^0.13.2",
       "base": false,
       "bottom": false,
       "data": {
        "features": [
         {
          "geometry": {
           "coordinates": [
            [
             [
              0.499651613106885,
              44.137996748196564
             ],
             [
              0.547326919389197,
              44.13875411986689
             ],
             [
              0.567537320331426,
              44.18935658826113
             ],
             [
              0.625788942487544,
              44.33515624875584
             ],
             [
              0.685039219907538,
              44.480861587803375
             ],
             [
              0.744545071976698,
              44.62652039050277
             ],
             [
              0.803778209145012,
              44.772162974223214
             ],
             [
              0.86316473457256,
              44.91769059085591
             ],
             [
              0.922419943876341,
              45.06324191215061
             ],
             [
              0.951443339301435,
              45.13350764694719
             ],
             [
              0.45686051699677,
              45.12551356202371
             ],
             [
              0.499651613106885,
              44.137996748196564
             ]
            ]
           ],
           "type": "Polygon"
          },
          "id": "S2A_MSIL1C_20210108T110431_N0209_R094_T31TCK_20210108T131314",
          "properties": {
           "abstract": "The Level-1C product is composed of 100x100 km2 tiles (ortho-images in UTM/WGS84 projection). It results from\nusing a Digital Elevation Model (DEM) to project the image in cartographic geometry. Per-pixel radiometric\nmeasurements are provided in Top Of Atmosphere (TOA) reflectances along with the parameters to transform them\ninto radiances. Level-1C products are resampled with a constant Ground Sampling Distance (GSD) of 10, 20 and 60\nmeters depending on the native resolution of the different spectral bands. In Level-1C  products, pixel\ncoordinates refer to the upper left corner of the pixel. Level-1C products will additionally include Cloud Masks\nand ECMWF data (total column of ozone, total column of water vapour and mean sea level pressure).\n",
           "acquisition": {
            "beginViewingDate": 1610103871024,
            "centerViewingDate": 1610103871024,
            "endViewingDate": 1610103871024,
            "mission": "Sentinel-2",
            "missionCode": "S2A",
            "missionId": "A",
            "missionName": "Sentinel-2A",
            "sensorId": "MSI",
            "sensorMode": "INS-NOBS"
           },
           "archive": {
            "filename": "S2A_MSIL1C_20210108T110431_N0209_R094_T31TCK_20210108T131314.SAFE",
            "format": "SAFE",
            "offLine": false,
            "onLine": false,
            "size": 186
           },
           "attachments": [],
           "attitude": {},
           "bands": [
            {
             "center_wavelength": 0.4439,
             "common_name": "coastal",
             "full_width_half_max": 0.027,
             "gsd": 60,
             "name": "B01"
            },
            {
             "center_wavelength": 0.4966,
             "common_name": "blue",
             "full_width_half_max": 0.098,
             "gsd": 10,
             "name": "B02"
            },
            {
             "center_wavelength": 0.56,
             "common_name": "green",
             "full_width_half_max": 0.045,
             "gsd": 10,
             "name": "B03"
            },
            {
             "center_wavelength": 0.6645,
             "common_name": "red",
             "full_width_half_max": 0.038,
             "gsd": 10,
             "name": "B04"
            },
            {
             "center_wavelength": 0.7039,
             "full_width_half_max": 0.019,
             "gsd": 20,
             "name": "B05"
            },
            {
             "center_wavelength": 0.7402,
             "full_width_half_max": 0.018,
             "gsd": 20,
             "name": "B06"
            },
            {
             "center_wavelength": 0.7825,
             "full_width_half_max": 0.028,
             "gsd": 20,
             "name": "B07"
            },
            {
             "center_wavelength": 0.8351,
             "common_name": "nir",
             "full_width_half_max": 0.145,
             "gsd": 10,
             "name": "B08"
            },
            {
             "center_wavelength": 0.8648,
             "full_width_half_max": 0.033,
             "gsd": 20,
             "name": "B8A"
            },
            {
             "center_wavelength": 0.945,
             "full_width_half_max": 0.026,
             "gsd": 60,
             "name": "B09"
            },
            {
             "center_wavelength": 0.13735,
             "common_name": "cirrus",
             "full_width_half_max": 0.075,
             "gsd": 60,
             "name": "B10"
            },
            {
             "center_wavelength": 0.16137,
             "common_name": "swir16",
             "full_width_half_max": 0.075,
             "gsd": 20,
             "name": "B11"
            },
            {
             "center_wavelength": 0.22024,
             "common_name": "swir22",
             "full_width_half_max": 0.242,
             "gsd": 20,
             "name": "B12"
            }
           ],
           "cloudCover": 0,
           "completionTimeFromAscendingNode": "2021-01-08T11:04:31.024000+00:00",
           "contentDescription": {
            "cloudCoverPercentage": 0
           },
           "creationDate": "2021-01-08T15:24:54.074000+00:00",
           "downloadLink": "https://sobloo.eu/api/v1/services/download/6937a5ba-51eb-4b28-8d4b-1c87cce92ec3",
           "enrichment": {
            "geonames": [
             {
              "name": "France",
              "states": [
               {
                "counties": [
                 {
                  "cities": [
                   {
                    "name": "Marmande"
                   },
                   {
                    "name": "Agen"
                   },
                   {
                    "name": "Villeneuve-sur-Lot"
                   },
                   {
                    "name": "Nérac"
                   }
                  ],
                  "name": "Lot-et-Garonne",
                  "villages": [
                   {
                    "name": "Ségalas"
                   },
                   {
                    "name": "Cancon"
                   },
                   {
                    "name": "Sérignac-sur-Garonne"
                   },
                   {
                    "name": "Saint-Pastour"
                   },
                   {
                    "name": "Monflanquin"
                   },
                   {
                    "name": "Saint-Hilaire-de-Lusignan"
                   },
                   {
                    "name": "La Sauvetat-sur-Lède"
                   },
                   {
                    "name": "Saint-Colomb-de-Lauzun"
                   },
                   {
                    "name": "Monviel"
                   },
                   {
                    "name": "Pailloles"
                   },
                   {
                    "name": "Ferrensac"
                   },
                   {
                    "name": "Moulinet"
                   },
                   {
                    "name": "Villeréal"
                   },
                   {
                    "name": "Castelnaud-de-Gratecambe"
                   },
                   {
                    "name": "Montaut"
                   },
                   {
                    "name": "Colayrac-Saint-Cirq"
                   },
                   {
                    "name": "Sainte-Colombe-en-Bruilhois"
                   },
                   {
                    "name": "Dolmayrac"
                   },
                   {
                    "name": "Castelmoron-sur-Lot"
                   },
                   {
                    "name": "Pinel-Hauterive"
                   },
                   {
                    "name": "Le Temple-sur-Lot"
                   },
                   {
                    "name": "Saint-Maurice-de-Lestapel"
                   },
                   {
                    "name": "Montpezat"
                   },
                   {
                    "name": "Doudrac"
                   },
                   {
                    "name": "Saint-Étienne-de-Villeréal"
                   },
                   {
                    "name": "Brugnac"
                   },
                   {
                    "name": "Beaugas"
                   },
                   {
                    "name": "Fongrave"
                   },
                   {
                    "name": "Villeneuve-sur-Lot"
                   },
                   {
                    "name": "Bournel"
                   },
                   {
                    "name": "Montastruc"
                   },
                   {
                    "name": "Roquefort"
                   },
                   {
                    "name": "Moncaut"
                   },
                   {
                    "name": "Laplume"
                   },
                   {
                    "name": "Cahuzac"
                   }
                  ]
                 },
                 {
                  "cities": [
                   {
                    "name": "Bergerac"
                   },
                   {
                    "name": "Sarlat-la-Canéda"
                   },
                   {
                    "name": "Périgueux"
                   }
                  ],
                  "name": "Dordogne",
                  "villages": [
                   {
                    "name": "Saint-Geyrac"
                   },
                   {
                    "name": "Singleyrac"
                   },
                   {
                    "name": "Monmarvès"
                   },
                   {
                    "name": "Conne-de-Labarde"
                   },
                   {
                    "name": "Villamblard"
                   },
                   {
                    "name": "Cause-de-Clérans"
                   },
                   {
                    "name": "Saint-Germain-du-Salembre"
                   },
                   {
                    "name": "Manzac-sur-Vern"
                   },
                   {
                    "name": "Saint-Laurent-des-Vignes"
                   },
                   {
                    "name": "Clermont-de-Beauregard"
                   },
                   {
                    "name": "Plaisance"
                   },
                   {
                    "name": "Beauregard-et-Bassac"
                   },
                   {
                    "name": "Sadillac"
                   },
                   {
                    "name": "Naussannes"
                   },
                   {
                    "name": "Fossemagne"
                   },
                   {
                    "name": "Creysse"
                   },
                   {
                    "name": "Le Buisson-de-Cadouin"
                   },
                   {
                    "name": "Faurilles"
                   },
                   {
                    "name": "Badefols-sur-Dordogne"
                   },
                   {
                    "name": "Saint-Maime-de-Péreyrol"
                   },
                   {
                    "name": "Vallereuil"
                   },
                   {
                    "name": "Saint-Amand-de-Vergt"
                   },
                   {
                    "name": "Cours-de-Pile"
                   },
                   {
                    "name": "Monmadalès"
                   },
                   {
                    "name": "Saint-Jean-d'Estissac"
                   },
                   {
                    "name": "Saint-Nexans"
                   },
                   {
                    "name": "Monsaguel"
                   },
                   {
                    "name": "Sainte-Alvère-Saint-Laurent-les-Bâtons"
                   },
                   {
                    "name": "Couze-et-Saint-Front"
                   },
                   {
                    "name": "Salon"
                   },
                   {
                    "name": "Sourzac"
                   },
                   {
                    "name": "Bourniquel"
                   },
                   {
                    "name": "Saint-Félix-de-Reillac-et-Mortemart"
                   },
                   {
                    "name": "Colombier"
                   },
                   {
                    "name": "Saint-Avit-Sénieur"
                   },
                   {
                    "name": "Lanquais"
                   },
                   {
                    "name": "Creyssensac-et-Pissot"
                   },
                   {
                    "name": "Razac-d'Eymet"
                   },
                   {
                    "name": "Église-Neuve-de-Vergt"
                   },
                   {
                    "name": "Montagnac-la-Crempse"
                   },
                   {
                    "name": "Lembras"
                   },
                   {
                    "name": "Breuilh"
                   },
                   {
                    "name": "Bourrou"
                   },
                   {
                    "name": "Lamonzie-Montastruc"
                   },
                   {
                    "name": "Issac"
                   },
                   {
                    "name": "Notre-Dame-de-Sanilhac"
                   },
                   {
                    "name": "Cendrieux"
                   },
                   {
                    "name": "Lalinde"
                   },
                   {
                    "name": "Saint-Séverin-d'Estissac"
                   },
                   {
                    "name": "Sainte-Foy-de-Longas"
                   },
                   {
                    "name": "Douville"
                   },
                   {
                    "name": "Eyliac"
                   },
                   {
                    "name": "Fouleix"
                   },
                   {
                    "name": "Veyrines-de-Vergt"
                   }
                  ]
                 }
                ],
                "name": "Nouvelle-Aquitaine"
               }
              ]
             }
            ],
            "naturallanguage": {
             "search_cloud_string": "cloud:clear",
             "search_date_string": "2021 January 08 11: 11:04 11:04:31",
             "search_incidence_angle_string": "incidence:?",
             "search_quality_string": "quality:?"
            }
           },
           "eodag_product_type": "S2_MSI_L1C",
           "eodag_provider": "sobloo",
           "eodag_search_intersection": {
            "coordinates": [
             [
              [
               0.499651613106885,
               44.137996748196564
              ],
              [
               0.45686051699677,
               45.12551356202371
              ],
              [
               0.951443339301435,
               45.13350764694719
              ],
              [
               0.922419943876341,
               45.06324191215061
              ],
              [
               0.86316473457256,
               44.91769059085591
              ],
              [
               0.803778209145012,
               44.772162974223214
              ],
              [
               0.744545071976698,
               44.62652039050277
              ],
              [
               0.685039219907538,
               44.480861587803375
              ],
              [
               0.625788942487544,
               44.33515624875584
              ],
              [
               0.567537320331426,
               44.18935658826113
              ],
              [
               0.547326919389197,
               44.13875411986689
              ],
              [
               0.499651613106885,
               44.137996748196564
              ]
             ]
            ],
            "type": "Polygon"
           },
           "identification": {
            "collection": "Sentinel-2",
            "dataset": {},
            "externalId": "S2A_MSIL1C_20210108T110431_N0209_R094_T31TCK_20210108T131314",
            "hvTileId": "TK31C",
            "profile": "Image",
            "tileId": "31TCK",
            "type": "S2MSI1C"
           },
           "illumination": {},
           "instrument": "MSI",
           "license": "proprietary",
           "missionStartDate": "2015-06-23T00:00:00Z",
           "orbit": {
            "direction": "DESCENDING",
            "number": 28977,
            "relativeNumber": 94
           },
           "orbitDirection": "DESCENDING",
           "orbitNumber": 28977,
           "platform": "Sentinel-2",
           "platformSerialIdentifier": "S2A",
           "processingLevel": "Level-1C",
           "productType": "S2MSI1C",
           "production": {
            "baseline": "02.09",
            "levelCode": "Level-1C",
            "ongoing": false
           },
           "provider": {},
           "quality": {
            "qualified": false
           },
           "quicklook": "https://sobloo.eu/api/v1/services/quicklook/6937a5ba-51eb-4b28-8d4b-1c87cce92ec3",
           "sensorMode": "INS-NOBS",
           "sensorType": "OPTICAL",
           "spatialCoverage": {
            "geometry": {
             "centerPoint": {
              "lat": 44.77064071594664,
              "lon": 0.6383608135343207
             },
             "geographicBoundingPolygon": {
              "coordinates": [
               [
                [
                 0.499651613106885,
                 44.137996748196564
                ],
                [
                 0.547326919389197,
                 44.13875411986689
                ],
                [
                 0.567537320331426,
                 44.18935658826113
                ],
                [
                 0.625788942487544,
                 44.33515624875584
                ],
                [
                 0.685039219907538,
                 44.480861587803375
                ],
                [
                 0.744545071976698,
                 44.62652039050277
                ],
                [
                 0.803778209145012,
                 44.772162974223214
                ],
                [
                 0.86316473457256,
                 44.91769059085591
                ],
                [
                 0.922419943876341,
                 45.06324191215061
                ],
                [
                 0.951443339301435,
                 45.13350764694719
                ],
                [
                 0.45686051699677,
                 45.12551356202371
                ],
                [
                 0.499651613106885,
                 44.137996748196564
                ]
               ]
              ],
              "type": "Polygon"
             },
             "global": false
            },
            "verticality": {}
           },
           "startTimeFromAscendingNode": "2021-01-08T11:04:31.024000+00:00",
           "state": {
            "insertionDate": 1610119494074,
            "resources": {
             "quicklook": true,
             "thumbnail": true
            },
            "services": {
             "download": "internal",
             "wcs": false,
             "wms": false,
             "wmts": false
            }
           },
           "storageStatus": "ONLINE",
           "style": {
            "color": "yellow"
           },
           "target": {},
           "timeStamp": 1610103871024,
           "title": "S2A_MSIL1C_20210108T110431_N0209_R094_T31TCK_20210108T131314",
           "transmission": {},
           "uid": "6937a5ba-51eb-4b28-8d4b-1c87cce92ec3",
           "visibility": {
            "deleted": false
           }
          },
          "type": "Feature"
         }
        ],
        "type": "FeatureCollection"
       },
       "hover_style": {
        "fillColor": "yellow"
       },
       "name": "",
       "options": [],
       "popup": null,
       "popup_max_height": null,
       "popup_max_width": 300,
       "popup_min_width": 50,
       "style": {
        "color": "yellow"
       }
      }
     },
     "fc695f95872149ae9480f0216939445d": {
      "model_module": "@jupyter-widgets/controls",
      "model_module_version": "1.5.0",
      "model_name": "DescriptionStyleModel",
      "state": {
       "description_width": ""
      }
     }
    },
    "version_major": 2,
    "version_minor": 0
   }
  }
 },
 "nbformat": 4,
 "nbformat_minor": 2
}
